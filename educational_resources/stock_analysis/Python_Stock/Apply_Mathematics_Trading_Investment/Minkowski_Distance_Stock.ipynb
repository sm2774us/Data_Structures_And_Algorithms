{
  "cells": [
    {
      "cell_type": "markdown",
      "source": [
        "# Minkowski Distance"
      ],
      "metadata": {
        "nteract": {
          "transient": {
            "deleting": false
          }
        }
      }
    },
    {
      "cell_type": "markdown",
      "source": [
        "## Minkowski Distance is the generalized form of Euclidean and Manhattan Distance."
      ],
      "metadata": {
        "nteract": {
          "transient": {
            "deleting": false
          }
        }
      }
    },
    {
      "cell_type": "code",
      "source": [
        "import numpy as np\n",
        "from math import sqrt\n",
        "from scipy.spatial import minkowski_distance\n",
        "\n",
        "\n",
        "import warnings\n",
        "warnings.filterwarnings(\"ignore\") \n",
        "\n",
        "# yfinance is used to fetch data \n",
        "import yfinance as yf\n",
        "yf.pdr_override()"
      ],
      "outputs": [],
      "execution_count": 1,
      "metadata": {
        "collapsed": true,
        "jupyter": {
          "source_hidden": false,
          "outputs_hidden": false
        },
        "nteract": {
          "transient": {
            "deleting": false
          }
        },
        "execution": {
          "iopub.status.busy": "2021-07-22T00:28:47.179Z",
          "iopub.execute_input": "2021-07-22T00:28:47.183Z",
          "shell.execute_reply": "2021-07-22T00:28:47.573Z",
          "iopub.status.idle": "2021-07-22T00:28:47.578Z"
        }
      }
    },
    {
      "cell_type": "code",
      "source": [
        "symbol = 'AMD'\n",
        "\n",
        "start = '2018-01-01'\n",
        "end = '2019-01-01'\n",
        "\n",
        "# Read data \n",
        "dataset = yf.download(symbol,start,end)\n",
        "\n",
        "# View Columns\n",
        "dataset.head()"
      ],
      "outputs": [
        {
          "output_type": "stream",
          "name": "stdout",
          "text": [
            "[*********************100%***********************]  1 of 1 completed\n"
          ]
        },
        {
          "output_type": "execute_result",
          "execution_count": 2,
          "data": {
            "text/plain": "             Open   High    Low  Close  Adj Close     Volume\nDate                                                        \n2018-01-02  10.42  11.02  10.34  10.98      10.98   44146300\n2018-01-03  11.61  12.14  11.36  11.55      11.55  154066700\n2018-01-04  12.10  12.43  11.97  12.12      12.12  109503000\n2018-01-05  12.19  12.22  11.66  11.88      11.88   63808900\n2018-01-08  12.01  12.30  11.85  12.28      12.28   63346000",
            "text/html": "<div>\n<style scoped>\n    .dataframe tbody tr th:only-of-type {\n        vertical-align: middle;\n    }\n\n    .dataframe tbody tr th {\n        vertical-align: top;\n    }\n\n    .dataframe thead th {\n        text-align: right;\n    }\n</style>\n<table border=\"1\" class=\"dataframe\">\n  <thead>\n    <tr style=\"text-align: right;\">\n      <th></th>\n      <th>Open</th>\n      <th>High</th>\n      <th>Low</th>\n      <th>Close</th>\n      <th>Adj Close</th>\n      <th>Volume</th>\n    </tr>\n    <tr>\n      <th>Date</th>\n      <th></th>\n      <th></th>\n      <th></th>\n      <th></th>\n      <th></th>\n      <th></th>\n    </tr>\n  </thead>\n  <tbody>\n    <tr>\n      <th>2018-01-02</th>\n      <td>10.42</td>\n      <td>11.02</td>\n      <td>10.34</td>\n      <td>10.98</td>\n      <td>10.98</td>\n      <td>44146300</td>\n    </tr>\n    <tr>\n      <th>2018-01-03</th>\n      <td>11.61</td>\n      <td>12.14</td>\n      <td>11.36</td>\n      <td>11.55</td>\n      <td>11.55</td>\n      <td>154066700</td>\n    </tr>\n    <tr>\n      <th>2018-01-04</th>\n      <td>12.10</td>\n      <td>12.43</td>\n      <td>11.97</td>\n      <td>12.12</td>\n      <td>12.12</td>\n      <td>109503000</td>\n    </tr>\n    <tr>\n      <th>2018-01-05</th>\n      <td>12.19</td>\n      <td>12.22</td>\n      <td>11.66</td>\n      <td>11.88</td>\n      <td>11.88</td>\n      <td>63808900</td>\n    </tr>\n    <tr>\n      <th>2018-01-08</th>\n      <td>12.01</td>\n      <td>12.30</td>\n      <td>11.85</td>\n      <td>12.28</td>\n      <td>12.28</td>\n      <td>63346000</td>\n    </tr>\n  </tbody>\n</table>\n</div>"
          },
          "metadata": {}
        }
      ],
      "execution_count": 2,
      "metadata": {
        "collapsed": true,
        "jupyter": {
          "source_hidden": false,
          "outputs_hidden": false
        },
        "nteract": {
          "transient": {
            "deleting": false
          }
        },
        "execution": {
          "iopub.status.busy": "2021-07-22T00:28:47.583Z",
          "iopub.execute_input": "2021-07-22T00:28:47.586Z",
          "iopub.status.idle": "2021-07-22T00:28:48.206Z",
          "shell.execute_reply": "2021-07-22T00:28:48.331Z"
        }
      }
    },
    {
      "cell_type": "code",
      "source": [
        "dataset.tail()"
      ],
      "outputs": [
        {
          "output_type": "execute_result",
          "execution_count": 3,
          "data": {
            "text/plain": "                 Open       High        Low      Close  Adj Close     Volume\nDate                                                                        \n2018-12-24  16.520000  17.219999  16.370001  16.650000  16.650000   62933100\n2018-12-26  16.879999  17.910000  16.030001  17.900000  17.900000  108811800\n2018-12-27  17.430000  17.740000  16.440001  17.490000  17.490000  111373000\n2018-12-28  17.530001  18.309999  17.139999  17.820000  17.820000  109214400\n2018-12-31  18.150000  18.510000  17.850000  18.459999  18.459999   84732200",
            "text/html": "<div>\n<style scoped>\n    .dataframe tbody tr th:only-of-type {\n        vertical-align: middle;\n    }\n\n    .dataframe tbody tr th {\n        vertical-align: top;\n    }\n\n    .dataframe thead th {\n        text-align: right;\n    }\n</style>\n<table border=\"1\" class=\"dataframe\">\n  <thead>\n    <tr style=\"text-align: right;\">\n      <th></th>\n      <th>Open</th>\n      <th>High</th>\n      <th>Low</th>\n      <th>Close</th>\n      <th>Adj Close</th>\n      <th>Volume</th>\n    </tr>\n    <tr>\n      <th>Date</th>\n      <th></th>\n      <th></th>\n      <th></th>\n      <th></th>\n      <th></th>\n      <th></th>\n    </tr>\n  </thead>\n  <tbody>\n    <tr>\n      <th>2018-12-24</th>\n      <td>16.520000</td>\n      <td>17.219999</td>\n      <td>16.370001</td>\n      <td>16.650000</td>\n      <td>16.650000</td>\n      <td>62933100</td>\n    </tr>\n    <tr>\n      <th>2018-12-26</th>\n      <td>16.879999</td>\n      <td>17.910000</td>\n      <td>16.030001</td>\n      <td>17.900000</td>\n      <td>17.900000</td>\n      <td>108811800</td>\n    </tr>\n    <tr>\n      <th>2018-12-27</th>\n      <td>17.430000</td>\n      <td>17.740000</td>\n      <td>16.440001</td>\n      <td>17.490000</td>\n      <td>17.490000</td>\n      <td>111373000</td>\n    </tr>\n    <tr>\n      <th>2018-12-28</th>\n      <td>17.530001</td>\n      <td>18.309999</td>\n      <td>17.139999</td>\n      <td>17.820000</td>\n      <td>17.820000</td>\n      <td>109214400</td>\n    </tr>\n    <tr>\n      <th>2018-12-31</th>\n      <td>18.150000</td>\n      <td>18.510000</td>\n      <td>17.850000</td>\n      <td>18.459999</td>\n      <td>18.459999</td>\n      <td>84732200</td>\n    </tr>\n  </tbody>\n</table>\n</div>"
          },
          "metadata": {}
        }
      ],
      "execution_count": 3,
      "metadata": {
        "collapsed": true,
        "jupyter": {
          "source_hidden": false,
          "outputs_hidden": false
        },
        "nteract": {
          "transient": {
            "deleting": false
          }
        },
        "execution": {
          "iopub.status.busy": "2021-07-22T00:28:48.211Z",
          "iopub.execute_input": "2021-07-22T00:28:48.216Z",
          "iopub.status.idle": "2021-07-22T00:28:48.224Z",
          "shell.execute_reply": "2021-07-22T00:28:48.334Z"
        }
      }
    },
    {
      "cell_type": "code",
      "source": [
        "Open = np.array(dataset['Open'])\n",
        "Close = np.array(dataset['Adj Close'])"
      ],
      "outputs": [],
      "execution_count": 4,
      "metadata": {
        "collapsed": true,
        "jupyter": {
          "source_hidden": false,
          "outputs_hidden": false
        },
        "nteract": {
          "transient": {
            "deleting": false
          }
        },
        "execution": {
          "iopub.status.busy": "2021-07-22T00:28:48.228Z",
          "iopub.execute_input": "2021-07-22T00:28:48.231Z",
          "iopub.status.idle": "2021-07-22T00:28:48.237Z",
          "shell.execute_reply": "2021-07-22T00:28:48.336Z"
        }
      }
    },
    {
      "cell_type": "code",
      "source": [
        "# Calculate Minkowski Distance\n",
        "def minkowski_distance_f(a, b, p):\n",
        "  md = sum(abs(e1-e2)**p for e1, e2 in zip(a,b))**(1/p)\n",
        "  return md"
      ],
      "outputs": [],
      "execution_count": 5,
      "metadata": {
        "collapsed": true,
        "jupyter": {
          "source_hidden": false,
          "outputs_hidden": false
        },
        "nteract": {
          "transient": {
            "deleting": false
          }
        },
        "execution": {
          "iopub.status.busy": "2021-07-22T00:28:48.244Z",
          "iopub.execute_input": "2021-07-22T00:28:48.247Z",
          "iopub.status.idle": "2021-07-22T00:28:48.252Z",
          "shell.execute_reply": "2021-07-22T00:28:48.343Z"
        }
      }
    },
    {
      "cell_type": "code",
      "source": [
        "# Calculate Distance using function (p=1)\n",
        "dist = minkowski_distance_f(Open, Close, 1)\n",
        "print(dist)"
      ],
      "outputs": [
        {
          "output_type": "stream",
          "name": "stdout",
          "text": [
            "124.29000568389893\n"
          ]
        }
      ],
      "execution_count": 6,
      "metadata": {
        "collapsed": true,
        "jupyter": {
          "source_hidden": false,
          "outputs_hidden": false
        },
        "nteract": {
          "transient": {
            "deleting": false
          }
        },
        "execution": {
          "iopub.status.busy": "2021-07-22T00:28:48.258Z",
          "iopub.execute_input": "2021-07-22T00:28:48.262Z",
          "iopub.status.idle": "2021-07-22T00:28:48.268Z",
          "shell.execute_reply": "2021-07-22T00:28:48.345Z"
        }
      }
    },
    {
      "cell_type": "code",
      "source": [
        "# Calculate Distance using function (p=2)\n",
        "dist = minkowski_distance_f(Open, Close, 2)\n",
        "print(dist)"
      ],
      "outputs": [
        {
          "output_type": "stream",
          "name": "stdout",
          "text": [
            "11.503916527217696\n"
          ]
        }
      ],
      "execution_count": 7,
      "metadata": {
        "collapsed": true,
        "jupyter": {
          "source_hidden": false,
          "outputs_hidden": false
        },
        "nteract": {
          "transient": {
            "deleting": false
          }
        },
        "execution": {
          "iopub.status.busy": "2021-07-22T00:28:48.274Z",
          "iopub.execute_input": "2021-07-22T00:28:48.276Z",
          "iopub.status.idle": "2021-07-22T00:28:48.283Z",
          "shell.execute_reply": "2021-07-22T00:28:48.347Z"
        }
      }
    },
    {
      "cell_type": "code",
      "source": [
        "#  Calculate Distance using scipy library\n",
        "dist = minkowski_distance(Open, Close, 1)\n",
        "print(dist)"
      ],
      "outputs": [
        {
          "output_type": "stream",
          "name": "stdout",
          "text": [
            "124.29000568389893\n"
          ]
        }
      ],
      "execution_count": 8,
      "metadata": {
        "collapsed": true,
        "jupyter": {
          "source_hidden": false,
          "outputs_hidden": false
        },
        "nteract": {
          "transient": {
            "deleting": false
          }
        },
        "execution": {
          "iopub.status.busy": "2021-07-22T00:28:48.287Z",
          "iopub.execute_input": "2021-07-22T00:28:48.290Z",
          "iopub.status.idle": "2021-07-22T00:28:48.297Z",
          "shell.execute_reply": "2021-07-22T00:28:48.349Z"
        }
      }
    },
    {
      "cell_type": "code",
      "source": [
        "#  Calculate Distance using scipy library\n",
        "dist = minkowski_distance(Open, Close, 2)\n",
        "print(dist)"
      ],
      "outputs": [
        {
          "output_type": "stream",
          "name": "stdout",
          "text": [
            "11.503916527217696\n"
          ]
        }
      ],
      "execution_count": 9,
      "metadata": {
        "collapsed": true,
        "jupyter": {
          "source_hidden": false,
          "outputs_hidden": false
        },
        "nteract": {
          "transient": {
            "deleting": false
          }
        },
        "execution": {
          "iopub.status.busy": "2021-07-22T00:28:48.302Z",
          "iopub.execute_input": "2021-07-22T00:28:48.305Z",
          "iopub.status.idle": "2021-07-22T00:28:48.313Z",
          "shell.execute_reply": "2021-07-22T00:28:48.350Z"
        }
      }
    }
  ],
  "metadata": {
    "kernel_info": {
      "name": "python3"
    },
    "language_info": {
      "name": "python",
      "version": "3.6.12",
      "mimetype": "text/x-python",
      "codemirror_mode": {
        "name": "ipython",
        "version": 3
      },
      "pygments_lexer": "ipython3",
      "nbconvert_exporter": "python",
      "file_extension": ".py"
    },
    "kernelspec": {
      "argv": [
        "C:/Users/Tin Hang/Anaconda3\\python.exe",
        "-m",
        "ipykernel_launcher",
        "-f",
        "{connection_file}"
      ],
      "display_name": "Python 3",
      "language": "python",
      "name": "python3"
    },
    "nteract": {
      "version": "0.28.0"
    }
  },
  "nbformat": 4,
  "nbformat_minor": 0
}