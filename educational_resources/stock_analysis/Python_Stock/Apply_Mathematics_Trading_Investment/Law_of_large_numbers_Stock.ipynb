{
  "cells": [
    {
      "cell_type": "markdown",
      "source": [
        "# Law of large numbers"
      ],
      "metadata": {
        "nteract": {
          "transient": {
            "deleting": false
          }
        }
      }
    },
    {
      "cell_type": "markdown",
      "source": [
        "https://en.wikipedia.org/wiki/Law_of_large_numbers"
      ],
      "metadata": {
        "nteract": {
          "transient": {
            "deleting": false
          }
        }
      }
    },
    {
      "cell_type": "code",
      "source": [
        "import warnings\n",
        "warnings.filterwarnings(\"ignore\")\n",
        "\n",
        "import yfinance as yf\n",
        "import pandas as pd\n",
        "import numpy as np\n",
        "import matplotlib.pyplot as plt\n",
        "\n",
        "# Function to apply the Law of Large Numbers to stock data\n",
        "def law_of_large_numbers(symbol, start, end, num_samples):\n",
        "    # Download the stock data\n",
        "    dataset = yf.download(symbol, start, end)\n",
        "\n",
        "    # Calculate daily returns\n",
        "    dataset['Daily_Return'] = dataset['Adj Close'].pct_change()\n",
        "\n",
        "    # Calculate the mean of the daily returns\n",
        "    mean_returns = dataset['Daily_Return'].mean()\n",
        "\n",
        "    # Create an array to store sample means\n",
        "    sample_means = []\n",
        "\n",
        "    # Perform multiple samples and calculate sample means\n",
        "    for _ in range(num_samples):\n",
        "        sample = dataset['Daily_Return'].sample(frac=0.5, replace=True)\n",
        "        sample_mean = sample.mean()\n",
        "        sample_means.append(sample_mean)\n",
        "\n",
        "    # Plot the sample means\n",
        "    plt.figure(figsize=(10, 5))\n",
        "    plt.hist(sample_means, bins=30, alpha=0.5, label='Sample Means')\n",
        "    plt.axvline(mean_returns, color='r', linestyle='dashed', linewidth=2, label='Population Mean')\n",
        "    plt.xlabel('Sample Mean of Daily Returns')\n",
        "    plt.ylabel('Frequency')\n",
        "    plt.legend()\n",
        "    plt.title('Law of Large Numbers: Sample Means vs. Population Mean')\n",
        "    plt.show()\n",
        "\n",
        "# Input\n",
        "symbol = 'AMD'\n",
        "start = '2014-01-01'\n",
        "end = '2019-01-01'\n",
        "num_samples = 1000  # Number of samples to draw\n",
        "\n",
        "# Apply the Law of Large Numbers to stock data\n",
        "law_of_large_numbers(symbol, start, end, num_samples)"
      ],
      "outputs": [
        {
          "output_type": "stream",
          "name": "stdout",
          "text": [
            "[*********************100%***********************]  1 of 1 completed\n"
          ]
        },
        {
          "output_type": "display_data",
          "data": {
            "text/plain": "<Figure size 720x360 with 1 Axes>",
            "image/png": "[encoded data removed]"
          },
          "metadata": {
            "needs_background": "light"
          }
        }
      ],
      "execution_count": 1,
      "metadata": {
        "collapsed": true,
        "jupyter": {
          "source_hidden": false,
          "outputs_hidden": false
        },
        "nteract": {
          "transient": {
            "deleting": false
          }
        },
        "execution": {
          "iopub.status.busy": "2023-11-03T15:47:48.970Z",
          "iopub.execute_input": "2023-11-03T15:47:48.973Z",
          "iopub.status.idle": "2023-11-03T15:47:50.219Z",
          "shell.execute_reply": "2023-11-03T15:47:50.222Z"
        }
      }
    }
  ],
  "metadata": {
    "kernel_info": {
      "name": "python3"
    },
    "language_info": {
      "name": "python",
      "version": "3.7.6",
      "mimetype": "text/x-python",
      "codemirror_mode": {
        "name": "ipython",
        "version": 3
      },
      "pygments_lexer": "ipython3",
      "nbconvert_exporter": "python",
      "file_extension": ".py"
    },
    "kernelspec": {
      "argv": [
        "C:/Users/Tin Hang/anaconda3\\python.exe",
        "-m",
        "ipykernel_launcher",
        "-f",
        "{connection_file}"
      ],
      "display_name": "Python 3",
      "language": "python",
      "name": "python3"
    },
    "nteract": {
      "version": "0.28.0"
    }
  },
  "nbformat": 4,
  "nbformat_minor": 0
}