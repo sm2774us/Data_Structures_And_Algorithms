{
  "cells": [
    {
      "cell_type": "markdown",
      "source": [
        "# Kramers–Moyal expansion"
      ],
      "metadata": {
        "nteract": {
          "transient": {
            "deleting": false
          }
        }
      }
    },
    {
      "cell_type": "markdown",
      "source": [
        "https://en.wikipedia.org/wiki/Kramers%E2%80%93Moyal_expansion"
      ],
      "metadata": {
        "nteract": {
          "transient": {
            "deleting": false
          }
        }
      }
    },
    {
      "cell_type": "code",
      "source": [
        "import warnings\n",
        "warnings.filterwarnings(\"ignore\")\n",
        "\n",
        "import numpy as np\n",
        "\n",
        "import matplotlib.pyplot as plt\n",
        "\n",
        "# yahoo finance is used to fetch data \n",
        "import yfinance as yf\n",
        "yf.pdr_override()"
      ],
      "outputs": [],
      "execution_count": 1,
      "metadata": {
        "collapsed": true,
        "jupyter": {
          "source_hidden": false,
          "outputs_hidden": false
        },
        "nteract": {
          "transient": {
            "deleting": false
          }
        },
        "execution": {
          "iopub.status.busy": "2023-05-10T02:27:41.428Z",
          "iopub.execute_input": "2023-05-10T02:27:41.434Z",
          "iopub.status.idle": "2023-05-10T02:27:41.846Z",
          "shell.execute_reply": "2023-05-10T02:27:41.838Z"
        }
      }
    },
    {
      "cell_type": "code",
      "source": [
        "# Define the stock symbol and time period\n",
        "symbol = \"AAPL\"\n",
        "start_date = \"2023-01-01\"\n",
        "end_date = \"2023-02-01\"\n"
      ],
      "outputs": [],
      "execution_count": 2,
      "metadata": {
        "collapsed": true,
        "jupyter": {
          "source_hidden": false,
          "outputs_hidden": false
        },
        "nteract": {
          "transient": {
            "deleting": false
          }
        },
        "execution": {
          "iopub.status.busy": "2023-05-10T02:27:41.854Z",
          "iopub.execute_input": "2023-05-10T02:27:41.859Z",
          "iopub.status.idle": "2023-05-10T02:27:41.866Z",
          "shell.execute_reply": "2023-05-10T02:27:41.887Z"
        }
      }
    },
    {
      "cell_type": "code",
      "source": [
        "# Retrieve the historical data for the stock\n",
        "df = yf.download(symbol, start=start_date, end=end_date)"
      ],
      "outputs": [
        {
          "output_type": "stream",
          "name": "stdout",
          "text": [
            "[*********************100%***********************]  1 of 1 completed\n"
          ]
        }
      ],
      "execution_count": 3,
      "metadata": {
        "collapsed": true,
        "jupyter": {
          "source_hidden": false,
          "outputs_hidden": false
        },
        "nteract": {
          "transient": {
            "deleting": false
          }
        },
        "execution": {
          "iopub.status.busy": "2023-05-10T02:27:41.872Z",
          "iopub.execute_input": "2023-05-10T02:27:41.877Z",
          "iopub.status.idle": "2023-05-10T02:27:42.211Z",
          "shell.execute_reply": "2023-05-10T02:27:42.380Z"
        }
      }
    },
    {
      "cell_type": "code",
      "source": [
        "df.head()"
      ],
      "outputs": [
        {
          "output_type": "execute_result",
          "execution_count": 4,
          "data": {
            "text/plain": "                  Open        High         Low       Close   Adj Close  \\\nDate                                                                     \n2023-01-03  130.279999  130.899994  124.169998  125.070000  124.879326   \n2023-01-04  126.889999  128.660004  125.080002  126.360001  126.167366   \n2023-01-05  127.129997  127.769997  124.760002  125.019997  124.829399   \n2023-01-06  126.010002  130.289993  124.889999  129.619995  129.422394   \n2023-01-09  130.470001  133.410004  129.889999  130.149994  129.951584   \n\n               Volume  \nDate                   \n2023-01-03  112117500  \n2023-01-04   89113600  \n2023-01-05   80962700  \n2023-01-06   87754700  \n2023-01-09   70790800  ",
            "text/html": "<div>\n<style scoped>\n    .dataframe tbody tr th:only-of-type {\n        vertical-align: middle;\n    }\n\n    .dataframe tbody tr th {\n        vertical-align: top;\n    }\n\n    .dataframe thead th {\n        text-align: right;\n    }\n</style>\n<table border=\"1\" class=\"dataframe\">\n  <thead>\n    <tr style=\"text-align: right;\">\n      <th></th>\n      <th>Open</th>\n      <th>High</th>\n      <th>Low</th>\n      <th>Close</th>\n      <th>Adj Close</th>\n      <th>Volume</th>\n    </tr>\n    <tr>\n      <th>Date</th>\n      <th></th>\n      <th></th>\n      <th></th>\n      <th></th>\n      <th></th>\n      <th></th>\n    </tr>\n  </thead>\n  <tbody>\n    <tr>\n      <th>2023-01-03</th>\n      <td>130.279999</td>\n      <td>130.899994</td>\n      <td>124.169998</td>\n      <td>125.070000</td>\n      <td>124.879326</td>\n      <td>112117500</td>\n    </tr>\n    <tr>\n      <th>2023-01-04</th>\n      <td>126.889999</td>\n      <td>128.660004</td>\n      <td>125.080002</td>\n      <td>126.360001</td>\n      <td>126.167366</td>\n      <td>89113600</td>\n    </tr>\n    <tr>\n      <th>2023-01-05</th>\n      <td>127.129997</td>\n      <td>127.769997</td>\n      <td>124.760002</td>\n      <td>125.019997</td>\n      <td>124.829399</td>\n      <td>80962700</td>\n    </tr>\n    <tr>\n      <th>2023-01-06</th>\n      <td>126.010002</td>\n      <td>130.289993</td>\n      <td>124.889999</td>\n      <td>129.619995</td>\n      <td>129.422394</td>\n      <td>87754700</td>\n    </tr>\n    <tr>\n      <th>2023-01-09</th>\n      <td>130.470001</td>\n      <td>133.410004</td>\n      <td>129.889999</td>\n      <td>130.149994</td>\n      <td>129.951584</td>\n      <td>70790800</td>\n    </tr>\n  </tbody>\n</table>\n</div>"
          },
          "metadata": {}
        }
      ],
      "execution_count": 4,
      "metadata": {
        "collapsed": true,
        "jupyter": {
          "source_hidden": false,
          "outputs_hidden": false
        },
        "nteract": {
          "transient": {
            "deleting": false
          }
        },
        "execution": {
          "iopub.status.busy": "2023-05-10T02:27:42.219Z",
          "iopub.execute_input": "2023-05-10T02:27:42.223Z",
          "iopub.status.idle": "2023-05-10T02:27:42.233Z",
          "shell.execute_reply": "2023-05-10T02:27:42.384Z"
        }
      }
    },
    {
      "cell_type": "code",
      "source": [
        "df.tail()"
      ],
      "outputs": [
        {
          "output_type": "execute_result",
          "execution_count": 5,
          "data": {
            "text/plain": "                  Open        High         Low       Close   Adj Close  \\\nDate                                                                     \n2023-01-25  140.889999  142.429993  138.809998  141.860001  141.643738   \n2023-01-26  143.169998  144.250000  141.899994  143.960007  143.740540   \n2023-01-27  143.160004  147.229996  143.080002  145.929993  145.707520   \n2023-01-30  144.960007  145.550003  142.850006  143.000000  142.781998   \n2023-01-31  142.699997  144.339996  142.279999  144.289993  144.070023   \n\n              Volume  \nDate                  \n2023-01-25  65799300  \n2023-01-26  54105100  \n2023-01-27  70555800  \n2023-01-30  64015300  \n2023-01-31  65874500  ",
            "text/html": "<div>\n<style scoped>\n    .dataframe tbody tr th:only-of-type {\n        vertical-align: middle;\n    }\n\n    .dataframe tbody tr th {\n        vertical-align: top;\n    }\n\n    .dataframe thead th {\n        text-align: right;\n    }\n</style>\n<table border=\"1\" class=\"dataframe\">\n  <thead>\n    <tr style=\"text-align: right;\">\n      <th></th>\n      <th>Open</th>\n      <th>High</th>\n      <th>Low</th>\n      <th>Close</th>\n      <th>Adj Close</th>\n      <th>Volume</th>\n    </tr>\n    <tr>\n      <th>Date</th>\n      <th></th>\n      <th></th>\n      <th></th>\n      <th></th>\n      <th></th>\n      <th></th>\n    </tr>\n  </thead>\n  <tbody>\n    <tr>\n      <th>2023-01-25</th>\n      <td>140.889999</td>\n      <td>142.429993</td>\n      <td>138.809998</td>\n      <td>141.860001</td>\n      <td>141.643738</td>\n      <td>65799300</td>\n    </tr>\n    <tr>\n      <th>2023-01-26</th>\n      <td>143.169998</td>\n      <td>144.250000</td>\n      <td>141.899994</td>\n      <td>143.960007</td>\n      <td>143.740540</td>\n      <td>54105100</td>\n    </tr>\n    <tr>\n      <th>2023-01-27</th>\n      <td>143.160004</td>\n      <td>147.229996</td>\n      <td>143.080002</td>\n      <td>145.929993</td>\n      <td>145.707520</td>\n      <td>70555800</td>\n    </tr>\n    <tr>\n      <th>2023-01-30</th>\n      <td>144.960007</td>\n      <td>145.550003</td>\n      <td>142.850006</td>\n      <td>143.000000</td>\n      <td>142.781998</td>\n      <td>64015300</td>\n    </tr>\n    <tr>\n      <th>2023-01-31</th>\n      <td>142.699997</td>\n      <td>144.339996</td>\n      <td>142.279999</td>\n      <td>144.289993</td>\n      <td>144.070023</td>\n      <td>65874500</td>\n    </tr>\n  </tbody>\n</table>\n</div>"
          },
          "metadata": {}
        }
      ],
      "execution_count": 5,
      "metadata": {
        "collapsed": true,
        "jupyter": {
          "source_hidden": false,
          "outputs_hidden": false
        },
        "nteract": {
          "transient": {
            "deleting": false
          }
        },
        "execution": {
          "iopub.status.busy": "2023-05-10T02:27:42.240Z",
          "iopub.execute_input": "2023-05-10T02:27:42.244Z",
          "iopub.status.idle": "2023-05-10T02:27:42.255Z",
          "shell.execute_reply": "2023-05-10T02:27:42.391Z"
        }
      }
    },
    {
      "cell_type": "code",
      "source": [
        "# Calculate the daily returns and log returns\n",
        "returns = df['Adj Close'].pct_change()[1:]"
      ],
      "outputs": [],
      "execution_count": 6,
      "metadata": {
        "collapsed": true,
        "jupyter": {
          "source_hidden": false,
          "outputs_hidden": false
        },
        "nteract": {
          "transient": {
            "deleting": false
          }
        },
        "execution": {
          "iopub.status.busy": "2023-05-10T02:27:42.263Z",
          "iopub.execute_input": "2023-05-10T02:27:42.267Z",
          "iopub.status.idle": "2023-05-10T02:27:42.275Z",
          "shell.execute_reply": "2023-05-10T02:27:42.395Z"
        }
      }
    },
    {
      "cell_type": "code",
      "source": [
        "# First four moments of the returns distribution\n",
        "mean = np.mean(returns)\n",
        "variance = np.var(returns)\n",
        "skewness = np.mean((returns-mean)**3) / variance**(3/2)\n",
        "kurtosis = np.mean((returns-mean)**4) / variance**2 - 3"
      ],
      "outputs": [],
      "execution_count": 7,
      "metadata": {
        "collapsed": true,
        "jupyter": {
          "source_hidden": false,
          "outputs_hidden": false
        },
        "nteract": {
          "transient": {
            "deleting": false
          }
        },
        "execution": {
          "iopub.status.busy": "2023-05-10T02:27:42.282Z",
          "iopub.execute_input": "2023-05-10T02:27:42.286Z",
          "iopub.status.idle": "2023-05-10T02:27:42.292Z",
          "shell.execute_reply": "2023-05-10T02:27:42.399Z"
        }
      }
    },
    {
      "cell_type": "code",
      "source": [
        "# Drift and diffusion coefficients of the Kramers-Moyal expansion\n",
        "dt = 1/252 # assuming daily sampling frequency\n",
        "mu = skewness*dt/3 + kurtosis*(dt**2)/12\n",
        "sigma = np.sqrt(variance*dt/3 + (skewness*dt/3)**2 + kurtosis*(dt**2)/6)\n"
      ],
      "outputs": [],
      "execution_count": 8,
      "metadata": {
        "collapsed": true,
        "jupyter": {
          "source_hidden": false,
          "outputs_hidden": false
        },
        "nteract": {
          "transient": {
            "deleting": false
          }
        },
        "execution": {
          "iopub.status.busy": "2023-05-10T02:27:42.300Z",
          "iopub.execute_input": "2023-05-10T02:27:42.305Z",
          "iopub.status.idle": "2023-05-10T02:27:42.313Z",
          "shell.execute_reply": "2023-05-10T02:27:42.401Z"
        }
      }
    },
    {
      "cell_type": "code",
      "source": [
        "# Define the grid of x values to evaluate the PDF\n",
        "x = np.linspace(-0.1, 0.1, 100)"
      ],
      "outputs": [],
      "execution_count": 9,
      "metadata": {
        "collapsed": true,
        "jupyter": {
          "source_hidden": false,
          "outputs_hidden": false
        },
        "nteract": {
          "transient": {
            "deleting": false
          }
        },
        "execution": {
          "iopub.status.busy": "2023-05-10T02:27:42.321Z",
          "iopub.execute_input": "2023-05-10T02:27:42.326Z",
          "iopub.status.idle": "2023-05-10T02:27:42.333Z",
          "shell.execute_reply": "2023-05-10T02:27:42.404Z"
        }
      }
    },
    {
      "cell_type": "code",
      "source": [
        "# Calculate the PDF using the Kramers-Moyal expansion\n",
        "pdf = np.exp(-(x-mu*dt)**2/(2*sigma**2*dt))/np.sqrt(2*np.pi*sigma**2*dt)"
      ],
      "outputs": [],
      "execution_count": 10,
      "metadata": {
        "collapsed": true,
        "jupyter": {
          "source_hidden": false,
          "outputs_hidden": false
        },
        "nteract": {
          "transient": {
            "deleting": false
          }
        },
        "execution": {
          "iopub.status.busy": "2023-05-10T02:27:42.339Z",
          "iopub.execute_input": "2023-05-10T02:27:42.343Z",
          "shell.execute_reply": "2023-05-10T02:27:42.406Z",
          "iopub.status.idle": "2023-05-10T02:27:42.349Z"
        }
      }
    },
    {
      "cell_type": "code",
      "source": [
        "# Plot the simulated stock prices\n",
        "plt.figure(figsize=(12,6))\n",
        "plt.plot(x, pdf)\n",
        "plt.title(f'Probability Density Function of {symbol} Returns')\n",
        "plt.xlabel('Daily Returns')\n",
        "plt.ylabel('PDF')\n",
        "plt.show()"
      ],
      "outputs": [
        {
          "output_type": "display_data",
          "data": {
            "text/plain": "<Figure size 864x432 with 1 Axes>",
            "image/png": "[encoded data removed]"
          },
          "metadata": {
            "needs_background": "light"
          }
        }
      ],
      "execution_count": 14,
      "metadata": {
        "collapsed": true,
        "jupyter": {
          "source_hidden": false,
          "outputs_hidden": false
        },
        "nteract": {
          "transient": {
            "deleting": false
          }
        },
        "execution": {
          "iopub.status.busy": "2023-05-10T02:28:37.168Z",
          "iopub.execute_input": "2023-05-10T02:28:37.173Z",
          "shell.execute_reply": "2023-05-10T02:28:37.284Z",
          "iopub.status.idle": "2023-05-10T02:28:37.276Z"
        }
      }
    }
  ],
  "metadata": {
    "kernel_info": {
      "name": "python3"
    },
    "language_info": {
      "name": "python",
      "version": "3.7.6",
      "mimetype": "text/x-python",
      "codemirror_mode": {
        "name": "ipython",
        "version": 3
      },
      "pygments_lexer": "ipython3",
      "nbconvert_exporter": "python",
      "file_extension": ".py"
    },
    "kernelspec": {
      "argv": [
        "C:/Users/Tin Hang/anaconda3\\python.exe",
        "-m",
        "ipykernel_launcher",
        "-f",
        "{connection_file}"
      ],
      "display_name": "Python 3",
      "language": "python",
      "name": "python3"
    },
    "nteract": {
      "version": "0.28.0"
    }
  },
  "nbformat": 4,
  "nbformat_minor": 0
}