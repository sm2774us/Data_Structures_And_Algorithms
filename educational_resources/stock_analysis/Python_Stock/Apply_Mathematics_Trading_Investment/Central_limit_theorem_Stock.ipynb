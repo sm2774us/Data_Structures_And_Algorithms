{
  "cells": [
    {
      "cell_type": "markdown",
      "source": [
        "# Central limit theorem"
      ],
      "metadata": {
        "nteract": {
          "transient": {
            "deleting": false
          }
        }
      }
    },
    {
      "cell_type": "markdown",
      "source": [
        "https://en.wikipedia.org/wiki/Central_limit_theorem"
      ],
      "metadata": {
        "nteract": {
          "transient": {
            "deleting": false
          }
        }
      }
    },
    {
      "cell_type": "code",
      "source": [
        "import warnings\n",
        "warnings.filterwarnings(\"ignore\")\n",
        "\n",
        "import yfinance as yf\n",
        "import pandas as pd\n",
        "import numpy as np\n",
        "import matplotlib.pyplot as plt\n",
        "\n",
        "# input\n",
        "symbol = 'AMD'\n",
        "start = '2014-01-01'\n",
        "end = '2019-01-01'\n",
        "\n",
        "# Read data \n",
        "dataset = yf.download(symbol,start,end)\n",
        "\n",
        "# Prepare data\n",
        "data = dataset['Adj Close']\n",
        "\n",
        "def central_limit_theorem_demo(data, sample_size, num_samples):\n",
        "    sample_means = []\n",
        "\n",
        "    for _ in range(num_samples):\n",
        "        # Randomly sample data with replacement\n",
        "        sample = np.random.choice(data, size=sample_size, replace=True)\n",
        "        sample_mean = np.mean(sample)\n",
        "        sample_means.append(sample_mean)\n",
        "\n",
        "    # Plot the histogram of sample means\n",
        "    plt.hist(sample_means, bins=30, edgecolor='k')\n",
        "    plt.title(f'Central Limit Theorem (Sample Size: {sample_size}, Samples: {num_samples}, Symbol: {symbol})')\n",
        "    plt.xlabel('Sample Mean')\n",
        "    plt.ylabel('Frequency')\n",
        "    plt.show()\n",
        "\n",
        "# Apply the central limit theorem function to the daily returns data\n",
        "sample_size = 30  # Adjust the sample size as needed\n",
        "num_samples = 1000  # Adjust the number of samples as needed\n",
        "central_limit_theorem_demo(data, sample_size, num_samples)"
      ],
      "outputs": [
        {
          "output_type": "stream",
          "name": "stdout",
          "text": [
            "[*********************100%***********************]  1 of 1 completed\n"
          ]
        },
        {
          "output_type": "display_data",
          "data": {
            "text/plain": "<Figure size 432x288 with 1 Axes>",
            "image/png": "[encoded data removed]"
          },
          "metadata": {
            "needs_background": "light"
          }
        }
      ],
      "execution_count": 1,
      "metadata": {
        "collapsed": true,
        "jupyter": {
          "source_hidden": false,
          "outputs_hidden": false
        },
        "nteract": {
          "transient": {
            "deleting": false
          }
        },
        "execution": {
          "iopub.status.busy": "2023-11-04T04:08:11.637Z",
          "iopub.execute_input": "2023-11-04T04:08:11.640Z",
          "iopub.status.idle": "2023-11-04T04:08:12.746Z",
          "shell.execute_reply": "2023-11-04T04:08:12.749Z"
        }
      }
    }
  ],
  "metadata": {
    "kernel_info": {
      "name": "python3"
    },
    "language_info": {
      "name": "python",
      "version": "3.7.6",
      "mimetype": "text/x-python",
      "codemirror_mode": {
        "name": "ipython",
        "version": 3
      },
      "pygments_lexer": "ipython3",
      "nbconvert_exporter": "python",
      "file_extension": ".py"
    },
    "kernelspec": {
      "argv": [
        "C:/Users/Tin Hang/anaconda3\\python.exe",
        "-m",
        "ipykernel_launcher",
        "-f",
        "{connection_file}"
      ],
      "display_name": "Python 3",
      "language": "python",
      "name": "python3"
    },
    "nteract": {
      "version": "0.28.0"
    }
  },
  "nbformat": 4,
  "nbformat_minor": 0
}