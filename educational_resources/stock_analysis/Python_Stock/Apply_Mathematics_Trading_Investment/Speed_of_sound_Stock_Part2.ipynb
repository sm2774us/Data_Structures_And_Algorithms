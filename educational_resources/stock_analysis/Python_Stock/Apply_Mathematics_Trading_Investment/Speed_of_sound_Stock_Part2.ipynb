{
  "cells": [
    {
      "cell_type": "markdown",
      "source": [
        "# Speed of sound and temperature"
      ],
      "metadata": {
        "nteract": {
          "transient": {
            "deleting": false
          }
        }
      }
    },
    {
      "cell_type": "code",
      "source": [
        "https://en.wikipedia.org/wiki/Speed_of_sound  \n",
        " https://phys.libretexts.org/Bookshelves/University_Physics/Book%3A_University_Physics_(OpenStax)/Book%3A_University_Physics_I_-_Mechanics_Sound_Oscillations_and_Waves_(OpenStax)/17%3A_Sound/17.03%3A_Speed_of_Sound  "
      ],
      "outputs": [],
      "execution_count": null,
      "metadata": {
        "collapsed": true,
        "jupyter": {
          "source_hidden": false,
          "outputs_hidden": false
        },
        "nteract": {
          "transient": {
            "deleting": false
          }
        }
      }
    },
    {
      "cell_type": "code",
      "source": [
        "import warnings\n",
        "warnings.filterwarnings(\"ignore\")\n",
        "\n",
        "import yfinance as yf\n",
        "import pandas as pd\n",
        "import numpy as np\n",
        "import matplotlib.pyplot as plt\n",
        "\n",
        "# Input\n",
        "symbol = 'AMD'\n",
        "start = '2020-01-01'\n",
        "end = '2023-01-01'\n",
        "\n",
        "# Read data\n",
        "dataset = yf.download(symbol, start, end)\n",
        "\n",
        "# Prepare data\n",
        "data = dataset['Adj Close'].values\n",
        "\n",
        "# Function for Speed of Sound equation\n",
        "def speed_of_sound(temperature):\n",
        "    # Speed of sound equation\n",
        "    return 331.4 * (1 + (temperature / 273.15) )**0.5\n",
        "\n",
        "# Calculate speed of sound for each data point\n",
        "temperatures = np.linspace(0, 100, len(data))  # Assuming a range of temperatures for simplicity\n",
        "speeds_of_sound = speed_of_sound(temperatures)\n",
        "\n",
        "# Plot the Speed of Sound and Adjusted Closing Price\n",
        "plt.figure(figsize=(12, 6))\n",
        "plt.subplot(2, 1, 1)\n",
        "plt.plot(temperatures, speeds_of_sound, label='Speed of Sound')\n",
        "plt.xlabel('Temperature (°C)')\n",
        "plt.ylabel('Speed of Sound (m/s)')\n",
        "plt.title('Speed of Sound vs Temperature')\n",
        "plt.legend()\n",
        "\n",
        "plt.subplot(2, 1, 2)\n",
        "plt.plot(dataset.index, data, label='Adj Close Price', color='orange')\n",
        "plt.xlabel('Date')\n",
        "plt.ylabel('Adjusted Closing Price')\n",
        "plt.title(f'{symbol} Stock Price')\n",
        "plt.legend()\n",
        "\n",
        "plt.tight_layout()\n",
        "plt.show()"
      ],
      "outputs": [],
      "execution_count": null,
      "metadata": {
        "collapsed": true,
        "jupyter": {
          "source_hidden": false,
          "outputs_hidden": false
        },
        "nteract": {
          "transient": {
            "deleting": false
          }
        }
      }
    }
  ],
  "metadata": {
    "kernel_info": {
      "name": "python3"
    },
    "language_info": {
      "name": "python3"
    },
    "kernelspec": {
      "argv": [
        "C:/Users/Tin Hang/anaconda3\\python.exe",
        "-m",
        "ipykernel_launcher",
        "-f",
        "{connection_file}"
      ],
      "display_name": "Python 3",
      "language": "python",
      "name": "python3"
    },
    "nteract": {
      "version": "0.28.0"
    }
  },
  "nbformat": 4,
  "nbformat_minor": 0
}