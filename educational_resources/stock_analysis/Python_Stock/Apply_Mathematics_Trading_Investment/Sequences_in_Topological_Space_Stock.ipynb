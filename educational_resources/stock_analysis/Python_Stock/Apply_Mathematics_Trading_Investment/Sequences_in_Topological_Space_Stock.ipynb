{
  "cells": [
    {
      "cell_type": "markdown",
      "source": [
        "# Sequences in Topological Spaces"
      ],
      "metadata": {
        "nteract": {
          "transient": {
            "deleting": false
          }
        }
      }
    },
    {
      "cell_type": "markdown",
      "source": [
        "https://en.wikipedia.org/wiki/Topological_space  "
      ],
      "metadata": {
        "nteract": {
          "transient": {
            "deleting": false
          }
        }
      }
    },
    {
      "cell_type": "code",
      "source": [
        "import warnings\n",
        "warnings.filterwarnings(\"ignore\")\n",
        "\n",
        "import numpy as np\n",
        "import matplotlib.pyplot as plt\n",
        "\n",
        "# yahoo finance is used to fetch data \n",
        "import yfinance as yf\n",
        "yf.pdr_override()"
      ],
      "outputs": [],
      "execution_count": 1,
      "metadata": {
        "collapsed": true,
        "jupyter": {
          "source_hidden": false,
          "outputs_hidden": false
        },
        "nteract": {
          "transient": {
            "deleting": false
          }
        },
        "execution": {
          "iopub.status.busy": "2023-07-05T05:42:21.026Z",
          "iopub.execute_input": "2023-07-05T05:42:21.030Z",
          "iopub.status.idle": "2023-07-05T05:42:21.591Z",
          "shell.execute_reply": "2023-07-05T05:42:21.584Z"
        }
      }
    },
    {
      "cell_type": "markdown",
      "source": [
        "#### Create Sequences in Topological Spaces"
      ],
      "metadata": {
        "nteract": {
          "transient": {
            "deleting": false
          }
        }
      }
    },
    {
      "cell_type": "code",
      "source": [
        "class TopologicalSpace:\n",
        "    def __init__(self):\n",
        "        self.elements = []\n",
        "        self.open_sets = []\n",
        "\n",
        "    def add_element(self, element):\n",
        "        self.elements.append(element)\n",
        "\n",
        "    def add_open_set(self, open_set):\n",
        "        self.open_sets.append(set(open_set))\n",
        "\n",
        "    def is_open(self, open_set):\n",
        "        return set(open_set) in self.open_sets\n",
        "\n",
        "    def is_closed(self, closed_set):\n",
        "        complement = set(self.elements) - set(closed_set)\n",
        "        return set(complement) in self.open_sets\n",
        "\n"
      ],
      "outputs": [],
      "execution_count": 2,
      "metadata": {
        "collapsed": true,
        "jupyter": {
          "source_hidden": false,
          "outputs_hidden": false
        },
        "nteract": {
          "transient": {
            "deleting": false
          }
        },
        "execution": {
          "iopub.status.busy": "2023-07-05T05:42:21.596Z",
          "iopub.execute_input": "2023-07-05T05:42:21.601Z",
          "iopub.status.idle": "2023-07-05T05:42:21.608Z",
          "shell.execute_reply": "2023-07-05T05:42:21.624Z"
        }
      }
    },
    {
      "cell_type": "markdown",
      "source": [
        "#### Apply Finance Data to Sequences in Topological Spaces"
      ],
      "metadata": {
        "nteract": {
          "transient": {
            "deleting": false
          }
        }
      }
    },
    {
      "cell_type": "code",
      "source": [
        "# input\n",
        "symbol = 'AAPL'\n",
        "start = '2018-01-01'\n",
        "end = '2019-01-01'\n",
        "\n",
        "# Read data \n",
        "df = yf.download(symbol,start,end)\n",
        "\n",
        "# View Columns\n",
        "df.head()"
      ],
      "outputs": [
        {
          "output_type": "stream",
          "name": "stdout",
          "text": [
            "[*********************100%***********************]  1 of 1 completed\n"
          ]
        },
        {
          "output_type": "execute_result",
          "execution_count": 3,
          "data": {
            "text/plain": "                 Open       High        Low      Close  Adj Close     Volume\nDate                                                                        \n2018-01-02  42.540001  43.075001  42.314999  43.064999  40.831581  102223600\n2018-01-03  43.132500  43.637501  42.990002  43.057499  40.824482  118071600\n2018-01-04  43.134998  43.367500  43.020000  43.257500  41.014111   89738400\n2018-01-05  43.360001  43.842499  43.262501  43.750000  41.481060   94640000\n2018-01-08  43.587502  43.902500  43.482498  43.587502  41.327000   82271200",
            "text/html": "<div>\n<style scoped>\n    .dataframe tbody tr th:only-of-type {\n        vertical-align: middle;\n    }\n\n    .dataframe tbody tr th {\n        vertical-align: top;\n    }\n\n    .dataframe thead th {\n        text-align: right;\n    }\n</style>\n<table border=\"1\" class=\"dataframe\">\n  <thead>\n    <tr style=\"text-align: right;\">\n      <th></th>\n      <th>Open</th>\n      <th>High</th>\n      <th>Low</th>\n      <th>Close</th>\n      <th>Adj Close</th>\n      <th>Volume</th>\n    </tr>\n    <tr>\n      <th>Date</th>\n      <th></th>\n      <th></th>\n      <th></th>\n      <th></th>\n      <th></th>\n      <th></th>\n    </tr>\n  </thead>\n  <tbody>\n    <tr>\n      <th>2018-01-02</th>\n      <td>42.540001</td>\n      <td>43.075001</td>\n      <td>42.314999</td>\n      <td>43.064999</td>\n      <td>40.831581</td>\n      <td>102223600</td>\n    </tr>\n    <tr>\n      <th>2018-01-03</th>\n      <td>43.132500</td>\n      <td>43.637501</td>\n      <td>42.990002</td>\n      <td>43.057499</td>\n      <td>40.824482</td>\n      <td>118071600</td>\n    </tr>\n    <tr>\n      <th>2018-01-04</th>\n      <td>43.134998</td>\n      <td>43.367500</td>\n      <td>43.020000</td>\n      <td>43.257500</td>\n      <td>41.014111</td>\n      <td>89738400</td>\n    </tr>\n    <tr>\n      <th>2018-01-05</th>\n      <td>43.360001</td>\n      <td>43.842499</td>\n      <td>43.262501</td>\n      <td>43.750000</td>\n      <td>41.481060</td>\n      <td>94640000</td>\n    </tr>\n    <tr>\n      <th>2018-01-08</th>\n      <td>43.587502</td>\n      <td>43.902500</td>\n      <td>43.482498</td>\n      <td>43.587502</td>\n      <td>41.327000</td>\n      <td>82271200</td>\n    </tr>\n  </tbody>\n</table>\n</div>"
          },
          "metadata": {}
        }
      ],
      "execution_count": 3,
      "metadata": {
        "collapsed": true,
        "jupyter": {
          "source_hidden": false,
          "outputs_hidden": false
        },
        "nteract": {
          "transient": {
            "deleting": false
          }
        },
        "execution": {
          "iopub.status.busy": "2023-07-05T05:42:21.613Z",
          "iopub.execute_input": "2023-07-05T05:42:21.617Z",
          "iopub.status.idle": "2023-07-05T05:42:22.103Z",
          "shell.execute_reply": "2023-07-05T05:42:22.175Z"
        }
      }
    },
    {
      "cell_type": "code",
      "source": [
        "df.tail()"
      ],
      "outputs": [
        {
          "output_type": "execute_result",
          "execution_count": 4,
          "data": {
            "text/plain": "                 Open       High        Low      Close  Adj Close     Volume\nDate                                                                        \n2018-12-24  37.037498  37.887501  36.647499  36.707500  35.326317  148676800\n2018-12-26  37.075001  39.307499  36.680000  39.292500  37.814045  234330000\n2018-12-27  38.959999  39.192501  37.517502  39.037498  37.568645  212468400\n2018-12-28  39.375000  39.630001  38.637501  39.057499  37.587887  169165600\n2018-12-31  39.632500  39.840000  39.119999  39.435001  37.951191  140014000",
            "text/html": "<div>\n<style scoped>\n    .dataframe tbody tr th:only-of-type {\n        vertical-align: middle;\n    }\n\n    .dataframe tbody tr th {\n        vertical-align: top;\n    }\n\n    .dataframe thead th {\n        text-align: right;\n    }\n</style>\n<table border=\"1\" class=\"dataframe\">\n  <thead>\n    <tr style=\"text-align: right;\">\n      <th></th>\n      <th>Open</th>\n      <th>High</th>\n      <th>Low</th>\n      <th>Close</th>\n      <th>Adj Close</th>\n      <th>Volume</th>\n    </tr>\n    <tr>\n      <th>Date</th>\n      <th></th>\n      <th></th>\n      <th></th>\n      <th></th>\n      <th></th>\n      <th></th>\n    </tr>\n  </thead>\n  <tbody>\n    <tr>\n      <th>2018-12-24</th>\n      <td>37.037498</td>\n      <td>37.887501</td>\n      <td>36.647499</td>\n      <td>36.707500</td>\n      <td>35.326317</td>\n      <td>148676800</td>\n    </tr>\n    <tr>\n      <th>2018-12-26</th>\n      <td>37.075001</td>\n      <td>39.307499</td>\n      <td>36.680000</td>\n      <td>39.292500</td>\n      <td>37.814045</td>\n      <td>234330000</td>\n    </tr>\n    <tr>\n      <th>2018-12-27</th>\n      <td>38.959999</td>\n      <td>39.192501</td>\n      <td>37.517502</td>\n      <td>39.037498</td>\n      <td>37.568645</td>\n      <td>212468400</td>\n    </tr>\n    <tr>\n      <th>2018-12-28</th>\n      <td>39.375000</td>\n      <td>39.630001</td>\n      <td>38.637501</td>\n      <td>39.057499</td>\n      <td>37.587887</td>\n      <td>169165600</td>\n    </tr>\n    <tr>\n      <th>2018-12-31</th>\n      <td>39.632500</td>\n      <td>39.840000</td>\n      <td>39.119999</td>\n      <td>39.435001</td>\n      <td>37.951191</td>\n      <td>140014000</td>\n    </tr>\n  </tbody>\n</table>\n</div>"
          },
          "metadata": {}
        }
      ],
      "execution_count": 4,
      "metadata": {
        "collapsed": true,
        "jupyter": {
          "source_hidden": false,
          "outputs_hidden": false
        },
        "nteract": {
          "transient": {
            "deleting": false
          }
        },
        "execution": {
          "iopub.status.busy": "2023-07-05T05:42:22.108Z",
          "iopub.execute_input": "2023-07-05T05:42:22.112Z",
          "iopub.status.idle": "2023-07-05T05:42:22.121Z",
          "shell.execute_reply": "2023-07-05T05:42:22.177Z"
        }
      }
    },
    {
      "cell_type": "code",
      "source": [
        "# Assuming you want to use the 'Adj Close' column from the stock data\n",
        "stock_data = df['Adj Close'].tolist()\n",
        "\n",
        "# Instantiate the TopologicalSpace class\n",
        "topological_space = TopologicalSpace()"
      ],
      "outputs": [],
      "execution_count": 5,
      "metadata": {
        "collapsed": true,
        "jupyter": {
          "source_hidden": false,
          "outputs_hidden": false
        },
        "nteract": {
          "transient": {
            "deleting": false
          }
        },
        "execution": {
          "iopub.status.busy": "2023-07-05T05:42:22.128Z",
          "iopub.execute_input": "2023-07-05T05:42:22.131Z",
          "iopub.status.idle": "2023-07-05T05:42:22.138Z",
          "shell.execute_reply": "2023-07-05T05:42:22.179Z"
        }
      }
    },
    {
      "cell_type": "code",
      "source": [
        "# Add stock data elements to the topological space\n",
        "for price in stock_data:\n",
        "    topological_space.add_element(price)"
      ],
      "outputs": [],
      "execution_count": 6,
      "metadata": {
        "collapsed": true,
        "jupyter": {
          "source_hidden": false,
          "outputs_hidden": false
        },
        "nteract": {
          "transient": {
            "deleting": false
          }
        },
        "execution": {
          "iopub.status.busy": "2023-07-05T05:42:22.145Z",
          "iopub.execute_input": "2023-07-05T05:42:22.148Z",
          "iopub.status.idle": "2023-07-05T05:42:22.155Z",
          "shell.execute_reply": "2023-07-05T05:42:22.181Z"
        }
      }
    },
    {
      "cell_type": "code",
      "source": [
        "# Perform some operations on the topological space with the stock data\n",
        "# For example, you could check if a certain range of prices is open or closed\n",
        "range_open_set = [150, 170, 180, 200]  # Example range\n",
        "print(f\"Range is open: {topological_space.is_open(range_open_set)}\")\n",
        "print(f\"Range is closed: {topological_space.is_closed(range_open_set)}\")\n"
      ],
      "outputs": [
        {
          "output_type": "stream",
          "name": "stdout",
          "text": [
            "Range is open: False\n",
            "Range is closed: False\n"
          ]
        }
      ],
      "execution_count": 7,
      "metadata": {
        "collapsed": true,
        "jupyter": {
          "source_hidden": false,
          "outputs_hidden": false
        },
        "nteract": {
          "transient": {
            "deleting": false
          }
        },
        "execution": {
          "iopub.status.busy": "2023-07-05T05:42:22.160Z",
          "iopub.execute_input": "2023-07-05T05:42:22.163Z",
          "iopub.status.idle": "2023-07-05T05:42:22.172Z",
          "shell.execute_reply": "2023-07-05T05:42:22.183Z"
        }
      }
    }
  ],
  "metadata": {
    "kernel_info": {
      "name": "python3"
    },
    "language_info": {
      "name": "python",
      "version": "3.7.6",
      "mimetype": "text/x-python",
      "codemirror_mode": {
        "name": "ipython",
        "version": 3
      },
      "pygments_lexer": "ipython3",
      "nbconvert_exporter": "python",
      "file_extension": ".py"
    },
    "kernelspec": {
      "argv": [
        "C:/Users/Tin Hang/Anaconda3\\python.exe",
        "-m",
        "ipykernel_launcher",
        "-f",
        "{connection_file}"
      ],
      "display_name": "Python 3",
      "language": "python",
      "name": "python3"
    },
    "nteract": {
      "version": "0.28.0"
    }
  },
  "nbformat": 4,
  "nbformat_minor": 0
}