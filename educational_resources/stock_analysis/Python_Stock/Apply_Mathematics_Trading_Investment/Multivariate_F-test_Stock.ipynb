{
  "cells": [
    {
      "cell_type": "markdown",
      "source": [
        "# Multivariate F test"
      ],
      "metadata": {
        "nteract": {
          "transient": {
            "deleting": false
          }
        }
      }
    },
    {
      "cell_type": "markdown",
      "source": [
        "https://en.wikipedia.org/wiki/F-test"
      ],
      "metadata": {
        "nteract": {
          "transient": {
            "deleting": false
          }
        }
      }
    },
    {
      "cell_type": "code",
      "source": [
        "import warnings\n",
        "warnings.filterwarnings(\"ignore\")\n",
        "\n",
        "import yfinance as yf\n",
        "import pandas as pd\n",
        "import numpy as np\n",
        "import matplotlib.pyplot as plt\n",
        "from scipy.stats import f\n",
        "\n",
        "# Define Multivariate F-test function\n",
        "def multivariate_f_test(data):\n",
        "    # Calculate the mean vector and covariance matrix\n",
        "    mean_vector = data.mean()\n",
        "    cov_matrix = data.cov()\n",
        "    \n",
        "    # Calculate the inverse of the covariance matrix\n",
        "    inv_cov_matrix = np.linalg.inv(cov_matrix)\n",
        "    \n",
        "    # Calculate the Multivariate F-statistic\n",
        "    n = len(data)\n",
        "    p = len(data.columns)\n",
        "    f_statistic = (n - 1) * np.dot(np.dot(mean_vector, inv_cov_matrix), mean_vector) / ((n - p - 1) * p)\n",
        "    \n",
        "    # Calculate the p-value\n",
        "    p_value = 1 - f.cdf(f_statistic, p, n - p - 1)\n",
        "    \n",
        "    return f_statistic, p_value\n",
        "\n",
        "# Input\n",
        "symbols = ['AAPL', 'GOOGL', 'MSFT', 'AMZN']  # List of stock symbols\n",
        "start = '2014-01-01'\n",
        "end = '2019-01-01'\n",
        "\n",
        "# Read data \n",
        "data = yf.download(symbols, start=start, end=end)['Adj Close']\n",
        "\n",
        "# Apply the Multivariate F-test\n",
        "f_statistic, p_value = multivariate_f_test(data)\n",
        "\n",
        "# Output the results\n",
        "print(\"Multivariate F-Statistic:\", f_statistic)\n",
        "print(\"P-Value:\", p_value)\n",
        "\n",
        "# Interpret the results (you can customize this part based on your analysis)\n",
        "alpha = 0.05\n",
        "if p_value < alpha:\n",
        "    print(\"Reject the null hypothesis: There is a significant relationship among the stocks.\")\n",
        "else:\n",
        "    print(\"Fail to reject the null hypothesis: There is no significant relationship among the stocks.\")"
      ],
      "outputs": [
        {
          "output_type": "stream",
          "name": "stdout",
          "text": [
            "[*********************100%***********************]  4 of 4 completed\n",
            "Multivariate F-Statistic: 20.260323034334785\n",
            "P-Value: 3.3306690738754696e-16\n",
            "Reject the null hypothesis: There is a significant relationship among the stocks.\n"
          ]
        }
      ],
      "execution_count": 2,
      "metadata": {
        "collapsed": true,
        "jupyter": {
          "source_hidden": false,
          "outputs_hidden": false
        },
        "nteract": {
          "transient": {
            "deleting": false
          }
        },
        "execution": {
          "iopub.status.busy": "2023-11-06T02:53:28.460Z",
          "iopub.execute_input": "2023-11-06T02:53:28.463Z",
          "shell.execute_reply": "2023-11-06T02:53:28.778Z",
          "iopub.status.idle": "2023-11-06T02:53:28.775Z"
        }
      }
    }
  ],
  "metadata": {
    "kernel_info": {
      "name": "python3"
    },
    "language_info": {
      "name": "python",
      "version": "3.7.6",
      "mimetype": "text/x-python",
      "codemirror_mode": {
        "name": "ipython",
        "version": 3
      },
      "pygments_lexer": "ipython3",
      "nbconvert_exporter": "python",
      "file_extension": ".py"
    },
    "kernelspec": {
      "argv": [
        "C:/Users/Tin Hang/anaconda3\\python.exe",
        "-m",
        "ipykernel_launcher",
        "-f",
        "{connection_file}"
      ],
      "display_name": "Python 3",
      "language": "python",
      "name": "python3"
    },
    "nteract": {
      "version": "0.28.0"
    }
  },
  "nbformat": 4,
  "nbformat_minor": 0
}