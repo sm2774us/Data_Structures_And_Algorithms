{
  "cells": [
    {
      "cell_type": "markdown",
      "source": [
        "# Differential Calculus"
      ],
      "metadata": {
        "nteract": {
          "transient": {
            "deleting": false
          }
        }
      }
    },
    {
      "cell_type": "markdown",
      "source": [
        "### Apply Stock data in Differential Calculus"
      ],
      "metadata": {
        "nteract": {
          "transient": {
            "deleting": false
          }
        }
      }
    },
    {
      "cell_type": "code",
      "source": [
        "import numpy as np\n",
        "import pandas as pd\n",
        "import matplotlib.pyplot as plt\n",
        "import seaborn as sns\n",
        "\n",
        "import warnings\n",
        "warnings.filterwarnings(\"ignore\") \n",
        "\n",
        "# yfinance is used to fetch data \n",
        "import yfinance as yf\n",
        "yf.pdr_override()"
      ],
      "outputs": [],
      "execution_count": 1,
      "metadata": {
        "collapsed": true,
        "jupyter": {
          "source_hidden": false,
          "outputs_hidden": false
        },
        "nteract": {
          "transient": {
            "deleting": false
          }
        },
        "execution": {
          "iopub.status.busy": "2022-04-16T00:10:42.122Z",
          "iopub.execute_input": "2022-04-16T00:10:42.128Z",
          "iopub.status.idle": "2022-04-16T00:10:42.134Z",
          "shell.execute_reply": "2022-04-16T00:10:42.060Z"
        }
      }
    },
    {
      "cell_type": "code",
      "source": [
        "# input\n",
        "symbol = 'AMD'\n",
        "start = '2017-01-01'\n",
        "end = '2019-01-01'\n",
        "\n",
        "# Read data \n",
        "dataset = yf.download(symbol,start,end)\n",
        "\n",
        "# View Columns\n",
        "dataset.head()"
      ],
      "outputs": [
        {
          "output_type": "stream",
          "name": "stdout",
          "text": [
            "[*********************100%***********************]  1 of 1 completed\n"
          ]
        },
        {
          "output_type": "execute_result",
          "execution_count": 2,
          "data": {
            "text/plain": "             Open   High    Low  Close  Adj Close    Volume\nDate                                                       \n2017-01-03  11.42  11.65  11.02  11.43      11.43  55182000\n2017-01-04  11.45  11.52  11.24  11.43      11.43  40781200\n2017-01-05  11.43  11.69  11.23  11.24      11.24  38855200\n2017-01-06  11.29  11.49  11.11  11.32      11.32  34453500\n2017-01-09  11.37  11.64  11.31  11.49      11.49  37304800",
            "text/html": "<div>\n<style scoped>\n    .dataframe tbody tr th:only-of-type {\n        vertical-align: middle;\n    }\n\n    .dataframe tbody tr th {\n        vertical-align: top;\n    }\n\n    .dataframe thead th {\n        text-align: right;\n    }\n</style>\n<table border=\"1\" class=\"dataframe\">\n  <thead>\n    <tr style=\"text-align: right;\">\n      <th></th>\n      <th>Open</th>\n      <th>High</th>\n      <th>Low</th>\n      <th>Close</th>\n      <th>Adj Close</th>\n      <th>Volume</th>\n    </tr>\n    <tr>\n      <th>Date</th>\n      <th></th>\n      <th></th>\n      <th></th>\n      <th></th>\n      <th></th>\n      <th></th>\n    </tr>\n  </thead>\n  <tbody>\n    <tr>\n      <th>2017-01-03</th>\n      <td>11.42</td>\n      <td>11.65</td>\n      <td>11.02</td>\n      <td>11.43</td>\n      <td>11.43</td>\n      <td>55182000</td>\n    </tr>\n    <tr>\n      <th>2017-01-04</th>\n      <td>11.45</td>\n      <td>11.52</td>\n      <td>11.24</td>\n      <td>11.43</td>\n      <td>11.43</td>\n      <td>40781200</td>\n    </tr>\n    <tr>\n      <th>2017-01-05</th>\n      <td>11.43</td>\n      <td>11.69</td>\n      <td>11.23</td>\n      <td>11.24</td>\n      <td>11.24</td>\n      <td>38855200</td>\n    </tr>\n    <tr>\n      <th>2017-01-06</th>\n      <td>11.29</td>\n      <td>11.49</td>\n      <td>11.11</td>\n      <td>11.32</td>\n      <td>11.32</td>\n      <td>34453500</td>\n    </tr>\n    <tr>\n      <th>2017-01-09</th>\n      <td>11.37</td>\n      <td>11.64</td>\n      <td>11.31</td>\n      <td>11.49</td>\n      <td>11.49</td>\n      <td>37304800</td>\n    </tr>\n  </tbody>\n</table>\n</div>"
          },
          "metadata": {}
        }
      ],
      "execution_count": 2,
      "metadata": {
        "collapsed": true,
        "jupyter": {
          "source_hidden": false,
          "outputs_hidden": false
        },
        "nteract": {
          "transient": {
            "deleting": false
          }
        },
        "execution": {
          "iopub.status.busy": "2022-04-16T00:10:42.142Z",
          "iopub.execute_input": "2022-04-16T00:10:42.148Z",
          "iopub.status.idle": "2022-04-16T00:10:42.677Z",
          "shell.execute_reply": "2022-04-16T00:10:42.864Z"
        }
      }
    },
    {
      "cell_type": "code",
      "source": [
        "x = np.array(dataset['Adj Close'])"
      ],
      "outputs": [],
      "execution_count": 3,
      "metadata": {
        "collapsed": true,
        "jupyter": {
          "source_hidden": false,
          "outputs_hidden": false
        },
        "nteract": {
          "transient": {
            "deleting": false
          }
        },
        "execution": {
          "iopub.status.busy": "2022-04-16T00:10:42.685Z",
          "iopub.execute_input": "2022-04-16T00:10:42.691Z",
          "iopub.status.idle": "2022-04-16T00:10:42.702Z",
          "shell.execute_reply": "2022-04-16T00:10:42.869Z"
        }
      }
    },
    {
      "cell_type": "code",
      "source": [
        "len(x)"
      ],
      "outputs": [
        {
          "output_type": "execute_result",
          "execution_count": 4,
          "data": {
            "text/plain": "502"
          },
          "metadata": {}
        }
      ],
      "execution_count": 4,
      "metadata": {
        "collapsed": true,
        "jupyter": {
          "source_hidden": false,
          "outputs_hidden": false
        },
        "nteract": {
          "transient": {
            "deleting": false
          }
        },
        "execution": {
          "iopub.status.busy": "2022-04-16T00:10:42.711Z",
          "iopub.execute_input": "2022-04-16T00:10:42.717Z",
          "iopub.status.idle": "2022-04-16T00:10:42.730Z",
          "shell.execute_reply": "2022-04-16T00:10:42.873Z"
        }
      }
    },
    {
      "cell_type": "code",
      "source": [
        "# Define function f(x)\n",
        "def f(x):\n",
        "    return x**2"
      ],
      "outputs": [],
      "execution_count": 5,
      "metadata": {
        "collapsed": true,
        "jupyter": {
          "source_hidden": false,
          "outputs_hidden": false
        },
        "nteract": {
          "transient": {
            "deleting": false
          }
        },
        "execution": {
          "iopub.status.busy": "2022-04-16T00:10:42.739Z",
          "iopub.execute_input": "2022-04-16T00:10:42.746Z",
          "iopub.status.idle": "2022-04-16T00:10:42.756Z",
          "shell.execute_reply": "2022-04-16T00:10:42.877Z"
        }
      }
    },
    {
      "cell_type": "code",
      "source": [
        "y = f(x)"
      ],
      "outputs": [],
      "execution_count": 6,
      "metadata": {
        "collapsed": true,
        "jupyter": {
          "source_hidden": false,
          "outputs_hidden": false
        },
        "nteract": {
          "transient": {
            "deleting": false
          }
        },
        "execution": {
          "iopub.status.busy": "2022-04-16T00:10:42.765Z",
          "iopub.execute_input": "2022-04-16T00:10:42.771Z",
          "iopub.status.idle": "2022-04-16T00:10:42.782Z",
          "shell.execute_reply": "2022-04-16T00:10:42.880Z"
        }
      }
    },
    {
      "cell_type": "code",
      "source": [
        "# f'(x) using the rate of change\n",
        "delta_x = 0.0001\n",
        "y1 = (f(x+delta_x) - f(x))/delta_x"
      ],
      "outputs": [],
      "execution_count": 7,
      "metadata": {
        "collapsed": true,
        "jupyter": {
          "source_hidden": false,
          "outputs_hidden": false
        },
        "nteract": {
          "transient": {
            "deleting": false
          }
        },
        "execution": {
          "iopub.status.busy": "2022-04-16T00:10:42.792Z",
          "iopub.execute_input": "2022-04-16T00:10:42.798Z",
          "iopub.status.idle": "2022-04-16T00:10:42.808Z",
          "shell.execute_reply": "2022-04-16T00:10:42.884Z"
        }
      }
    },
    {
      "cell_type": "code",
      "source": [
        "# f'(x) using the rule\n",
        "y2 = 2 * x"
      ],
      "outputs": [],
      "execution_count": 8,
      "metadata": {
        "collapsed": true,
        "jupyter": {
          "source_hidden": false,
          "outputs_hidden": false
        },
        "nteract": {
          "transient": {
            "deleting": false
          }
        },
        "execution": {
          "iopub.status.busy": "2022-04-16T00:10:42.817Z",
          "iopub.execute_input": "2022-04-16T00:10:42.823Z",
          "iopub.status.idle": "2022-04-16T00:10:42.832Z",
          "shell.execute_reply": "2022-04-16T00:10:42.889Z"
        }
      }
    },
    {
      "cell_type": "code",
      "source": [
        "# Plot f(x) on left half of the figure\n",
        "fig = plt.figure(figsize=(12,5))\n",
        "ax = fig.add_subplot(121)\n",
        "ax.plot(x, y)\n",
        "ax.set_title(\"y=f(x)\")\n",
        "\n",
        "# Plot f'(x) on right half of the figure\n",
        "ax = fig.add_subplot(122)\n",
        "ax.plot(x, y1, c=\"r\", alpha=0.5, label=\"rate\")\n",
        "ax.plot(x, y2, c=\"b\", alpha=0.5, label=\"rule\")\n",
        "ax.set_title(\"y=f'(x)\")\n",
        "ax.legend() \n",
        "plt.show()"
      ],
      "outputs": [
        {
          "output_type": "display_data",
          "data": {
            "text/plain": "<Figure size 864x360 with 2 Axes>",
            "image/png": "[encoded data removed]"
          },
          "metadata": {
            "needs_background": "light"
          }
        }
      ],
      "execution_count": 9,
      "metadata": {
        "collapsed": true,
        "jupyter": {
          "source_hidden": false,
          "outputs_hidden": false
        },
        "nteract": {
          "transient": {
            "deleting": false
          }
        },
        "execution": {
          "iopub.status.busy": "2022-04-16T00:10:42.840Z",
          "iopub.execute_input": "2022-04-16T00:10:42.846Z",
          "iopub.status.idle": "2022-04-16T00:10:42.938Z",
          "shell.execute_reply": "2022-04-16T00:10:42.930Z"
        }
      }
    },
    {
      "cell_type": "code",
      "source": [
        "# Define function f(x)\n",
        "def f(x):\n",
        "    return x**3 - 2*x**2 + 1"
      ],
      "outputs": [],
      "execution_count": 10,
      "metadata": {
        "collapsed": true,
        "jupyter": {
          "source_hidden": false,
          "outputs_hidden": false
        },
        "nteract": {
          "transient": {
            "deleting": false
          }
        },
        "execution": {
          "iopub.status.busy": "2022-04-16T00:10:42.948Z",
          "iopub.execute_input": "2022-04-16T00:10:42.954Z",
          "iopub.status.idle": "2022-04-16T00:10:42.965Z",
          "shell.execute_reply": "2022-04-16T00:10:43.086Z"
        }
      }
    },
    {
      "cell_type": "code",
      "source": [
        "y = f(x)"
      ],
      "outputs": [],
      "execution_count": 11,
      "metadata": {
        "collapsed": true,
        "jupyter": {
          "source_hidden": false,
          "outputs_hidden": false
        },
        "nteract": {
          "transient": {
            "deleting": false
          }
        },
        "execution": {
          "iopub.status.busy": "2022-04-16T00:10:42.975Z",
          "iopub.execute_input": "2022-04-16T00:10:42.982Z",
          "iopub.status.idle": "2022-04-16T00:10:42.996Z",
          "shell.execute_reply": "2022-04-16T00:10:43.092Z"
        }
      }
    },
    {
      "cell_type": "code",
      "source": [
        "# f'(x) using the rate of change\n",
        "delta_x = 0.0001\n",
        "y1 = (f(x+delta_x) - f(x))/delta_x"
      ],
      "outputs": [],
      "execution_count": 12,
      "metadata": {
        "collapsed": true,
        "jupyter": {
          "source_hidden": false,
          "outputs_hidden": false
        },
        "nteract": {
          "transient": {
            "deleting": false
          }
        },
        "execution": {
          "iopub.status.busy": "2022-04-16T00:10:43.009Z",
          "iopub.execute_input": "2022-04-16T00:10:43.018Z",
          "iopub.status.idle": "2022-04-16T00:10:43.029Z",
          "shell.execute_reply": "2022-04-16T00:10:43.097Z"
        }
      }
    },
    {
      "cell_type": "code",
      "source": [
        "# f'(x) using the rule\n",
        "y2 = 3 * x **2  - 4*x"
      ],
      "outputs": [],
      "execution_count": 13,
      "metadata": {
        "collapsed": true,
        "jupyter": {
          "source_hidden": false,
          "outputs_hidden": false
        },
        "nteract": {
          "transient": {
            "deleting": false
          }
        },
        "execution": {
          "iopub.status.busy": "2022-04-16T00:10:43.040Z",
          "iopub.execute_input": "2022-04-16T00:10:43.047Z",
          "iopub.status.idle": "2022-04-16T00:10:43.057Z",
          "shell.execute_reply": "2022-04-16T00:10:43.101Z"
        }
      }
    },
    {
      "cell_type": "code",
      "source": [
        "# Plot f(x) on left half of the figure\n",
        "fig = plt.figure(figsize=(12,5))\n",
        "ax = fig.add_subplot(121)\n",
        "ax.plot(x, y)\n",
        "ax.set_title(\"y=f(x)\")\n",
        "\n",
        "# Plot f'(x) on right half of the figure\n",
        "ax = fig.add_subplot(122)\n",
        "ax.plot(x, y1, c=\"r\", alpha=0.5, label=\"rate\")\n",
        "ax.plot(x, y2, c=\"b\", alpha=0.5, label=\"rule\")\n",
        "ax.set_title(\"y=f'(x)\")\n",
        "ax.legend() \n",
        "plt.show()"
      ],
      "outputs": [
        {
          "output_type": "display_data",
          "data": {
            "text/plain": "<Figure size 864x360 with 2 Axes>",
            "image/png": "[encoded data removed]"
          },
          "metadata": {
            "needs_background": "light"
          }
        }
      ],
      "execution_count": 14,
      "metadata": {
        "collapsed": true,
        "jupyter": {
          "source_hidden": false,
          "outputs_hidden": false
        },
        "nteract": {
          "transient": {
            "deleting": false
          }
        },
        "execution": {
          "iopub.status.busy": "2022-04-16T00:10:43.067Z",
          "iopub.execute_input": "2022-04-16T00:10:43.073Z",
          "iopub.status.idle": "2022-04-16T00:10:43.162Z",
          "shell.execute_reply": "2022-04-16T00:10:43.371Z"
        }
      }
    },
    {
      "cell_type": "code",
      "source": [
        "returns = dataset['Adj Close'].pct_change().dropna()\n",
        "returns.head()"
      ],
      "outputs": [
        {
          "output_type": "execute_result",
          "execution_count": 15,
          "data": {
            "text/plain": "Date\n2017-01-04    0.000000\n2017-01-05   -0.016623\n2017-01-06    0.007117\n2017-01-09    0.015018\n2017-01-10   -0.004352\nName: Adj Close, dtype: float64"
          },
          "metadata": {}
        }
      ],
      "execution_count": 15,
      "metadata": {
        "collapsed": true,
        "jupyter": {
          "source_hidden": false,
          "outputs_hidden": false
        },
        "nteract": {
          "transient": {
            "deleting": false
          }
        },
        "execution": {
          "iopub.status.busy": "2022-04-16T00:10:43.171Z",
          "iopub.execute_input": "2022-04-16T00:10:43.179Z",
          "iopub.status.idle": "2022-04-16T00:10:43.193Z",
          "shell.execute_reply": "2022-04-16T00:10:43.380Z"
        }
      }
    },
    {
      "cell_type": "code",
      "source": [
        "x = np.array(returns)"
      ],
      "outputs": [],
      "execution_count": 16,
      "metadata": {
        "collapsed": true,
        "jupyter": {
          "source_hidden": false,
          "outputs_hidden": false
        },
        "nteract": {
          "transient": {
            "deleting": false
          }
        },
        "execution": {
          "iopub.status.busy": "2022-04-16T00:10:43.203Z",
          "iopub.execute_input": "2022-04-16T00:10:43.211Z",
          "iopub.status.idle": "2022-04-16T00:10:43.223Z",
          "shell.execute_reply": "2022-04-16T00:10:43.401Z"
        }
      }
    },
    {
      "cell_type": "code",
      "source": [
        "# Define function f(x)\n",
        "def f(x):\n",
        "    return x**2"
      ],
      "outputs": [],
      "execution_count": 17,
      "metadata": {
        "collapsed": true,
        "jupyter": {
          "source_hidden": false,
          "outputs_hidden": false
        },
        "nteract": {
          "transient": {
            "deleting": false
          }
        },
        "execution": {
          "iopub.status.busy": "2022-04-16T00:10:43.233Z",
          "iopub.execute_input": "2022-04-16T00:10:43.241Z",
          "iopub.status.idle": "2022-04-16T00:10:43.252Z",
          "shell.execute_reply": "2022-04-16T00:10:43.405Z"
        }
      }
    },
    {
      "cell_type": "code",
      "source": [
        "y = f(x)"
      ],
      "outputs": [],
      "execution_count": 18,
      "metadata": {
        "collapsed": true,
        "jupyter": {
          "source_hidden": false,
          "outputs_hidden": false
        },
        "nteract": {
          "transient": {
            "deleting": false
          }
        },
        "execution": {
          "iopub.status.busy": "2022-04-16T00:10:43.265Z",
          "iopub.execute_input": "2022-04-16T00:10:43.273Z",
          "iopub.status.idle": "2022-04-16T00:10:43.284Z",
          "shell.execute_reply": "2022-04-16T00:10:43.409Z"
        }
      }
    },
    {
      "cell_type": "code",
      "source": [
        "# f'(x) using the rate of change\n",
        "delta_x = 0.0001\n",
        "y1 = (f(x+delta_x) - f(x))/delta_x"
      ],
      "outputs": [],
      "execution_count": 19,
      "metadata": {
        "collapsed": true,
        "jupyter": {
          "source_hidden": false,
          "outputs_hidden": false
        },
        "nteract": {
          "transient": {
            "deleting": false
          }
        },
        "execution": {
          "iopub.status.busy": "2022-04-16T00:10:43.294Z",
          "iopub.execute_input": "2022-04-16T00:10:43.301Z",
          "iopub.status.idle": "2022-04-16T00:10:43.312Z",
          "shell.execute_reply": "2022-04-16T00:10:43.413Z"
        }
      }
    },
    {
      "cell_type": "code",
      "source": [
        "# f'(x) using the rule\n",
        "y2 = 2 * x"
      ],
      "outputs": [],
      "execution_count": 20,
      "metadata": {
        "collapsed": true,
        "jupyter": {
          "source_hidden": false,
          "outputs_hidden": false
        },
        "nteract": {
          "transient": {
            "deleting": false
          }
        },
        "execution": {
          "iopub.status.busy": "2022-04-16T00:10:43.322Z",
          "iopub.execute_input": "2022-04-16T00:10:43.329Z",
          "iopub.status.idle": "2022-04-16T00:10:43.339Z",
          "shell.execute_reply": "2022-04-16T00:10:43.416Z"
        }
      }
    },
    {
      "cell_type": "code",
      "source": [
        "# Plot f(x) on left half of the figure\n",
        "fig = plt.figure(figsize=(16,8))\n",
        "ax = fig.add_subplot(121)\n",
        "ax.plot(x, y)\n",
        "ax.set_title(\"y=f(x)\")\n",
        "\n",
        "# Plot f'(x) on right half of the figure\n",
        "ax = fig.add_subplot(122)\n",
        "ax.plot(x, y1, c=\"r\", alpha=0.5, label=\"rate\")\n",
        "ax.plot(x, y2, c=\"b\", alpha=0.5, label=\"rule\")\n",
        "ax.set_title(\"y=f'(x)\")\n",
        "ax.legend() \n",
        "plt.show()"
      ],
      "outputs": [
        {
          "output_type": "display_data",
          "data": {
            "text/plain": "<Figure size 1152x576 with 2 Axes>",
            "image/png": "[encoded data removed]"
          },
          "metadata": {
            "needs_background": "light"
          }
        }
      ],
      "execution_count": 21,
      "metadata": {
        "collapsed": true,
        "jupyter": {
          "source_hidden": false,
          "outputs_hidden": false
        },
        "nteract": {
          "transient": {
            "deleting": false
          }
        },
        "execution": {
          "iopub.status.busy": "2022-04-16T00:10:43.347Z",
          "iopub.execute_input": "2022-04-16T00:10:43.352Z",
          "iopub.status.idle": "2022-04-16T00:10:43.500Z",
          "shell.execute_reply": "2022-04-16T00:10:43.506Z"
        }
      }
    }
  ],
  "metadata": {
    "kernel_info": {
      "name": "python3"
    },
    "language_info": {
      "name": "python",
      "version": "3.6.13",
      "mimetype": "text/x-python",
      "codemirror_mode": {
        "name": "ipython",
        "version": 3
      },
      "pygments_lexer": "ipython3",
      "nbconvert_exporter": "python",
      "file_extension": ".py"
    },
    "kernelspec": {
      "argv": [
        "C:/Users/Tin Hang/Anaconda3\\python.exe",
        "-m",
        "ipykernel_launcher",
        "-f",
        "{connection_file}"
      ],
      "display_name": "Python 3",
      "language": "python",
      "name": "python3"
    },
    "nteract": {
      "version": "0.28.0"
    }
  },
  "nbformat": 4,
  "nbformat_minor": 0
}