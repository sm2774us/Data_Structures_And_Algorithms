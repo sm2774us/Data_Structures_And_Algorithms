{
  "cells": [
    {
      "cell_type": "markdown",
      "source": [
        "Kolmogorov–Smirnov test"
      ],
      "metadata": {
        "nteract": {
          "transient": {
            "deleting": false
          }
        }
      }
    },
    {
      "cell_type": "markdown",
      "source": [
        "https://en.wikipedia.org/wiki/Kolmogorov%E2%80%93Smirnov_test"
      ],
      "metadata": {
        "nteract": {
          "transient": {
            "deleting": false
          }
        }
      }
    },
    {
      "cell_type": "code",
      "source": [
        "import warnings\n",
        "warnings.filterwarnings(\"ignore\")\n",
        "\n",
        "import yfinance as yf\n",
        "import pandas as pd\n",
        "import numpy as np\n",
        "import matplotlib.pyplot as plt\n",
        "\n",
        "from scipy.stats import ks_2samp\n",
        "\n",
        "# Input\n",
        "symbol = 'AMD'\n",
        "start = '2014-01-01'\n",
        "end = '2019-01-01'\n",
        "\n",
        "# Define the Kolmogorov-Smirnov (KS) test function\n",
        "def ks_test(data1, data2):\n",
        "    stat, p_value = ks_2samp(data1, data2)\n",
        "    return stat, p_value\n",
        "\n",
        "# Read data\n",
        "dataset = yf.download(symbol, start, end)\n",
        "\n",
        "# Assuming you want to test the daily closing prices against a reference dataset\n",
        "# Replace 'reference_data' with your reference dataset\n",
        "reference_data = np.random.normal(0, 1, len(dataset))\n",
        "\n",
        "# Extract the closing prices from the stock data\n",
        "stock_closing_prices = dataset['Adj Close']\n",
        "\n",
        "# Perform the KS test\n",
        "statistic, p_value = ks_test(stock_closing_prices, reference_data)\n",
        "\n",
        "# Output the results\n",
        "print(\"KS Statistic:\", statistic)\n",
        "print(\"P-value:\", p_value)\n",
        "\n",
        "# You can also check if the p-value is less than a significance level (e.g., 0.05) to determine significance\n",
        "significance_level = 0.05\n",
        "if p_value < significance_level:\n",
        "    print(\"Null hypothesis rejected. The two datasets are not identical.\")\n",
        "else:\n",
        "    print(\"Null hypothesis cannot be rejected. The two datasets are similar.\")"
      ],
      "outputs": [
        {
          "output_type": "stream",
          "name": "stdout",
          "text": [
            "[*********************100%***********************]  1 of 1 completed\n",
            "KS Statistic: 0.9546899841017488\n",
            "P-value: 0.0\n",
            "Null hypothesis rejected. The two datasets are not identical.\n"
          ]
        }
      ],
      "execution_count": 1,
      "metadata": {
        "collapsed": true,
        "jupyter": {
          "source_hidden": false,
          "outputs_hidden": false
        },
        "nteract": {
          "transient": {
            "deleting": false
          }
        },
        "execution": {
          "iopub.status.busy": "2023-11-03T02:05:30.804Z",
          "iopub.execute_input": "2023-11-03T02:05:30.807Z",
          "iopub.status.idle": "2023-11-03T02:05:32.083Z",
          "shell.execute_reply": "2023-11-03T02:05:32.088Z"
        }
      }
    }
  ],
  "metadata": {
    "kernel_info": {
      "name": "python3"
    },
    "language_info": {
      "name": "python",
      "version": "3.7.6",
      "mimetype": "text/x-python",
      "codemirror_mode": {
        "name": "ipython",
        "version": 3
      },
      "pygments_lexer": "ipython3",
      "nbconvert_exporter": "python",
      "file_extension": ".py"
    },
    "kernelspec": {
      "argv": [
        "C:/Users/Tin Hang/anaconda3\\python.exe",
        "-m",
        "ipykernel_launcher",
        "-f",
        "{connection_file}"
      ],
      "display_name": "Python 3",
      "language": "python",
      "name": "python3"
    },
    "nteract": {
      "version": "0.28.0"
    }
  },
  "nbformat": 4,
  "nbformat_minor": 0
}