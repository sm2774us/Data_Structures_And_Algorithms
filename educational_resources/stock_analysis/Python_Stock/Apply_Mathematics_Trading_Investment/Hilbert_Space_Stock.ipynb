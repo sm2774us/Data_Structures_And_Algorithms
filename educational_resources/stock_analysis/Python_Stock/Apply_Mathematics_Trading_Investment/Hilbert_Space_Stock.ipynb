{
  "cells": [
    {
      "cell_type": "markdown",
      "source": [
        "# Hilbert Space"
      ],
      "metadata": {
        "nteract": {
          "transient": {
            "deleting": false
          }
        }
      }
    },
    {
      "cell_type": "markdown",
      "source": [
        "https://en.wikipedia.org/wiki/Hilbert_space"
      ],
      "metadata": {
        "nteract": {
          "transient": {
            "deleting": false
          }
        }
      }
    },
    {
      "cell_type": "code",
      "source": [
        "import warnings\n",
        "warnings.filterwarnings(\"ignore\")\n",
        "\n",
        "import yfinance as yf\n",
        "import pandas as pd\n",
        "import numpy as np\n",
        "import matplotlib.pyplot as plt\n",
        "\n",
        "# Input\n",
        "symbol = 'AMD'\n",
        "start = '2014-01-01'\n",
        "end = '2019-01-01'\n",
        "\n",
        "# Read data\n",
        "dataset = yf.download(symbol, start, end)\n",
        "\n",
        "# Prepare data\n",
        "Open = dataset['Open']\n",
        "Close = dataset['Adj Close']\n",
        "\n",
        "# Define the dimension of the Hilbert space\n",
        "dimension = 2\n",
        "\n",
        "# Create basis vectors for the Hilbert space\n",
        "basis = [np.array(Open, dtype=complex), np.array(Close, dtype=complex)]\n",
        "\n",
        "# Define the inner product function\n",
        "def inner_product(v1, v2):\n",
        "    return np.vdot(v1, v2)\n",
        "\n",
        "# Verify that the inner product is a valid inner product\n",
        "def is_valid_inner_product(basis, inner_product):\n",
        "    for v1 in basis:\n",
        "        for v2 in basis:\n",
        "            if not np.isclose(inner_product(v1, v2), inner_product(v2, v1).conjugate()):\n",
        "                return False\n",
        "    return True\n",
        "\n",
        "if is_valid_inner_product(basis, inner_product):\n",
        "    print(\"The inner product is valid.\")\n",
        "else:\n",
        "    print(\"The inner product is not valid.\")"
      ],
      "outputs": [
        {
          "output_type": "stream",
          "name": "stdout",
          "text": [
            "[*********************100%***********************]  1 of 1 completed\n",
            "The inner product is valid.\n"
          ]
        }
      ],
      "execution_count": 1,
      "metadata": {
        "collapsed": true,
        "jupyter": {
          "source_hidden": false,
          "outputs_hidden": false
        },
        "nteract": {
          "transient": {
            "deleting": false
          }
        },
        "execution": {
          "iopub.status.busy": "2023-11-06T00:43:29.357Z",
          "iopub.execute_input": "2023-11-06T00:43:29.359Z",
          "iopub.status.idle": "2023-11-06T00:43:30.316Z",
          "shell.execute_reply": "2023-11-06T00:43:30.312Z"
        }
      }
    }
  ],
  "metadata": {
    "kernel_info": {
      "name": "python3"
    },
    "language_info": {
      "name": "python",
      "version": "3.7.6",
      "mimetype": "text/x-python",
      "codemirror_mode": {
        "name": "ipython",
        "version": 3
      },
      "pygments_lexer": "ipython3",
      "nbconvert_exporter": "python",
      "file_extension": ".py"
    },
    "kernelspec": {
      "argv": [
        "C:/Users/Tin Hang/anaconda3\\python.exe",
        "-m",
        "ipykernel_launcher",
        "-f",
        "{connection_file}"
      ],
      "display_name": "Python 3",
      "language": "python",
      "name": "python3"
    },
    "nteract": {
      "version": "0.28.0"
    }
  },
  "nbformat": 4,
  "nbformat_minor": 0
}