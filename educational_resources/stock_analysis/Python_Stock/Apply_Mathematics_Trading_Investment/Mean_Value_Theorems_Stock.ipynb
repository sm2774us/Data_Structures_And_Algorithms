{
  "cells": [
    {
      "cell_type": "markdown",
      "source": [
        "# Mean Value Theorems Stock"
      ],
      "metadata": {
        "nteract": {
          "transient": {
            "deleting": false
          }
        }
      }
    },
    {
      "cell_type": "markdown",
      "source": [
        "https://en.wikipedia.org/wiki/Mean_value_theorem"
      ],
      "metadata": {
        "nteract": {
          "transient": {
            "deleting": false
          }
        }
      }
    },
    {
      "cell_type": "code",
      "source": [
        "import warnings\n",
        "warnings.filterwarnings(\"ignore\")\n",
        "\n",
        "import numpy as np\n",
        "import matplotlib.pyplot as plt\n",
        "\n",
        "# yahoo finance is used to fetch data \n",
        "import yfinance as yf\n",
        "yf.pdr_override()"
      ],
      "outputs": [],
      "execution_count": 1,
      "metadata": {
        "collapsed": true,
        "jupyter": {
          "source_hidden": false,
          "outputs_hidden": false
        },
        "nteract": {
          "transient": {
            "deleting": false
          }
        },
        "execution": {
          "iopub.status.busy": "2023-07-05T14:38:36.571Z",
          "iopub.execute_input": "2023-07-05T14:38:36.576Z",
          "iopub.status.idle": "2023-07-05T14:38:37.449Z",
          "shell.execute_reply": "2023-07-05T14:38:37.524Z"
        }
      }
    },
    {
      "cell_type": "markdown",
      "source": [
        "#### Create Mean Value Theorems Function"
      ],
      "metadata": {
        "nteract": {
          "transient": {
            "deleting": false
          }
        }
      }
    },
    {
      "cell_type": "code",
      "source": [
        "def mean_value_theorem_derivative(f, a, b):\n",
        "    \"\"\"\n",
        "    Computes a value c in the interval (a, b) satisfying f'(c) = (f(b) - f(a))/(b - a).\n",
        "    \n",
        "    Arguments:\n",
        "    f -- The function for which to find the value c.\n",
        "    a -- The lower bound of the interval.\n",
        "    b -- The upper bound of the interval.\n",
        "    \n",
        "    Returns:\n",
        "    The value c satisfying the Mean Value Theorem for Derivatives.\n",
        "    \"\"\"\n",
        "    h = 1e-6  # A small value used for approximating the derivative\n",
        "    fa = f(a)\n",
        "    fb = f(b)\n",
        "    fc = (fb - fa) / (b - a)\n",
        "    \n",
        "    return fc"
      ],
      "outputs": [],
      "execution_count": 2,
      "metadata": {
        "collapsed": true,
        "jupyter": {
          "source_hidden": false,
          "outputs_hidden": false
        },
        "nteract": {
          "transient": {
            "deleting": false
          }
        },
        "execution": {
          "iopub.status.busy": "2023-07-05T14:38:37.455Z",
          "iopub.execute_input": "2023-07-05T14:38:37.459Z",
          "iopub.status.idle": "2023-07-05T14:38:37.467Z",
          "shell.execute_reply": "2023-07-05T14:38:37.528Z"
        }
      }
    },
    {
      "cell_type": "code",
      "source": [
        "def f(x):\n",
        "    return x**2\n",
        "\n",
        "a = 1\n",
        "b = 3\n",
        "\n",
        "c = mean_value_theorem_derivative(f, a, b)\n",
        "print(c)  # Output: 4.0\n"
      ],
      "outputs": [
        {
          "output_type": "stream",
          "name": "stdout",
          "text": [
            "4.0\n"
          ]
        }
      ],
      "execution_count": 3,
      "metadata": {
        "collapsed": true,
        "jupyter": {
          "source_hidden": false,
          "outputs_hidden": false
        },
        "nteract": {
          "transient": {
            "deleting": false
          }
        },
        "execution": {
          "iopub.status.busy": "2023-07-05T14:38:37.473Z",
          "iopub.execute_input": "2023-07-05T14:38:37.477Z",
          "iopub.status.idle": "2023-07-05T14:38:37.487Z",
          "shell.execute_reply": "2023-07-05T14:38:37.530Z"
        }
      }
    },
    {
      "cell_type": "code",
      "source": [
        "def mean_value_theorem_integral(f, a, b):\n",
        "    \"\"\"\n",
        "    Computes a value c in the interval (a, b) satisfying ∫[a,b] f(x) dx = f(c) * (b - a).\n",
        "    \n",
        "    Arguments:\n",
        "    f -- The function for which to find the value c.\n",
        "    a -- The lower bound of the interval.\n",
        "    b -- The upper bound of the interval.\n",
        "    \n",
        "    Returns:\n",
        "    The value c satisfying the Mean Value Theorem for Integrals.\n",
        "    \"\"\"\n",
        "    fc = (1/(b - a)) * integrate.quad(f, a, b)[0]\n",
        "    \n",
        "    return fc"
      ],
      "outputs": [],
      "execution_count": 4,
      "metadata": {
        "collapsed": true,
        "jupyter": {
          "source_hidden": false,
          "outputs_hidden": false
        },
        "nteract": {
          "transient": {
            "deleting": false
          }
        },
        "execution": {
          "iopub.status.busy": "2023-07-05T14:38:37.497Z",
          "iopub.execute_input": "2023-07-05T14:38:37.501Z",
          "iopub.status.idle": "2023-07-05T14:38:37.508Z",
          "shell.execute_reply": "2023-07-05T14:38:37.533Z"
        }
      }
    },
    {
      "cell_type": "code",
      "source": [
        "import scipy.integrate as integrate\n",
        "\n",
        "def f(x):\n",
        "    return x**2\n",
        "\n",
        "a = 1\n",
        "b = 3\n",
        "\n",
        "c = mean_value_theorem_integral(f, a, b)\n",
        "print(c)"
      ],
      "outputs": [
        {
          "output_type": "stream",
          "name": "stdout",
          "text": [
            "4.333333333333334\n"
          ]
        }
      ],
      "execution_count": 5,
      "metadata": {
        "collapsed": true,
        "jupyter": {
          "source_hidden": false,
          "outputs_hidden": false
        },
        "nteract": {
          "transient": {
            "deleting": false
          }
        },
        "execution": {
          "iopub.status.busy": "2023-07-05T14:38:37.514Z",
          "iopub.execute_input": "2023-07-05T14:38:37.518Z",
          "shell.execute_reply": "2023-07-05T14:38:37.819Z",
          "iopub.status.idle": "2023-07-05T14:38:37.802Z"
        }
      }
    },
    {
      "cell_type": "markdown",
      "source": [
        "#### Apply Finance Data to Mean Value Theorems"
      ],
      "metadata": {
        "nteract": {
          "transient": {
            "deleting": false
          }
        }
      }
    },
    {
      "cell_type": "code",
      "source": [
        "# input\n",
        "symbol = 'AAPL'\n",
        "start = '2018-01-01'\n",
        "end = '2019-01-01'\n",
        "\n",
        "# Read data \n",
        "df = yf.download(symbol,start,end)\n",
        "\n",
        "# View Columns\n",
        "df.head()"
      ],
      "outputs": [
        {
          "output_type": "stream",
          "name": "stdout",
          "text": [
            "[*********************100%***********************]  1 of 1 completed\n"
          ]
        },
        {
          "output_type": "execute_result",
          "execution_count": 6,
          "data": {
            "text/plain": "                 Open       High        Low      Close  Adj Close     Volume\nDate                                                                        \n2018-01-02  42.540001  43.075001  42.314999  43.064999  40.831600  102223600\n2018-01-03  43.132500  43.637501  42.990002  43.057499  40.824482  118071600\n2018-01-04  43.134998  43.367500  43.020000  43.257500  41.014107   89738400\n2018-01-05  43.360001  43.842499  43.262501  43.750000  41.481068   94640000\n2018-01-08  43.587502  43.902500  43.482498  43.587502  41.327000   82271200",
            "text/html": "<div>\n<style scoped>\n    .dataframe tbody tr th:only-of-type {\n        vertical-align: middle;\n    }\n\n    .dataframe tbody tr th {\n        vertical-align: top;\n    }\n\n    .dataframe thead th {\n        text-align: right;\n    }\n</style>\n<table border=\"1\" class=\"dataframe\">\n  <thead>\n    <tr style=\"text-align: right;\">\n      <th></th>\n      <th>Open</th>\n      <th>High</th>\n      <th>Low</th>\n      <th>Close</th>\n      <th>Adj Close</th>\n      <th>Volume</th>\n    </tr>\n    <tr>\n      <th>Date</th>\n      <th></th>\n      <th></th>\n      <th></th>\n      <th></th>\n      <th></th>\n      <th></th>\n    </tr>\n  </thead>\n  <tbody>\n    <tr>\n      <th>2018-01-02</th>\n      <td>42.540001</td>\n      <td>43.075001</td>\n      <td>42.314999</td>\n      <td>43.064999</td>\n      <td>40.831600</td>\n      <td>102223600</td>\n    </tr>\n    <tr>\n      <th>2018-01-03</th>\n      <td>43.132500</td>\n      <td>43.637501</td>\n      <td>42.990002</td>\n      <td>43.057499</td>\n      <td>40.824482</td>\n      <td>118071600</td>\n    </tr>\n    <tr>\n      <th>2018-01-04</th>\n      <td>43.134998</td>\n      <td>43.367500</td>\n      <td>43.020000</td>\n      <td>43.257500</td>\n      <td>41.014107</td>\n      <td>89738400</td>\n    </tr>\n    <tr>\n      <th>2018-01-05</th>\n      <td>43.360001</td>\n      <td>43.842499</td>\n      <td>43.262501</td>\n      <td>43.750000</td>\n      <td>41.481068</td>\n      <td>94640000</td>\n    </tr>\n    <tr>\n      <th>2018-01-08</th>\n      <td>43.587502</td>\n      <td>43.902500</td>\n      <td>43.482498</td>\n      <td>43.587502</td>\n      <td>41.327000</td>\n      <td>82271200</td>\n    </tr>\n  </tbody>\n</table>\n</div>"
          },
          "metadata": {}
        }
      ],
      "execution_count": 6,
      "metadata": {
        "collapsed": true,
        "jupyter": {
          "source_hidden": false,
          "outputs_hidden": false
        },
        "nteract": {
          "transient": {
            "deleting": false
          }
        },
        "execution": {
          "iopub.status.busy": "2023-07-05T14:38:37.808Z",
          "iopub.execute_input": "2023-07-05T14:38:37.812Z",
          "iopub.status.idle": "2023-07-05T14:38:38.217Z",
          "shell.execute_reply": "2023-07-05T14:38:38.294Z"
        }
      }
    },
    {
      "cell_type": "code",
      "source": [
        "df.tail()"
      ],
      "outputs": [
        {
          "output_type": "execute_result",
          "execution_count": 7,
          "data": {
            "text/plain": "                 Open       High        Low      Close  Adj Close     Volume\nDate                                                                        \n2018-12-24  37.037498  37.887501  36.647499  36.707500  35.326309  148676800\n2018-12-26  37.075001  39.307499  36.680000  39.292500  37.814053  234330000\n2018-12-27  38.959999  39.192501  37.517502  39.037498  37.568634  212468400\n2018-12-28  39.375000  39.630001  38.637501  39.057499  37.587891  169165600\n2018-12-31  39.632500  39.840000  39.119999  39.435001  37.951187  140014000",
            "text/html": "<div>\n<style scoped>\n    .dataframe tbody tr th:only-of-type {\n        vertical-align: middle;\n    }\n\n    .dataframe tbody tr th {\n        vertical-align: top;\n    }\n\n    .dataframe thead th {\n        text-align: right;\n    }\n</style>\n<table border=\"1\" class=\"dataframe\">\n  <thead>\n    <tr style=\"text-align: right;\">\n      <th></th>\n      <th>Open</th>\n      <th>High</th>\n      <th>Low</th>\n      <th>Close</th>\n      <th>Adj Close</th>\n      <th>Volume</th>\n    </tr>\n    <tr>\n      <th>Date</th>\n      <th></th>\n      <th></th>\n      <th></th>\n      <th></th>\n      <th></th>\n      <th></th>\n    </tr>\n  </thead>\n  <tbody>\n    <tr>\n      <th>2018-12-24</th>\n      <td>37.037498</td>\n      <td>37.887501</td>\n      <td>36.647499</td>\n      <td>36.707500</td>\n      <td>35.326309</td>\n      <td>148676800</td>\n    </tr>\n    <tr>\n      <th>2018-12-26</th>\n      <td>37.075001</td>\n      <td>39.307499</td>\n      <td>36.680000</td>\n      <td>39.292500</td>\n      <td>37.814053</td>\n      <td>234330000</td>\n    </tr>\n    <tr>\n      <th>2018-12-27</th>\n      <td>38.959999</td>\n      <td>39.192501</td>\n      <td>37.517502</td>\n      <td>39.037498</td>\n      <td>37.568634</td>\n      <td>212468400</td>\n    </tr>\n    <tr>\n      <th>2018-12-28</th>\n      <td>39.375000</td>\n      <td>39.630001</td>\n      <td>38.637501</td>\n      <td>39.057499</td>\n      <td>37.587891</td>\n      <td>169165600</td>\n    </tr>\n    <tr>\n      <th>2018-12-31</th>\n      <td>39.632500</td>\n      <td>39.840000</td>\n      <td>39.119999</td>\n      <td>39.435001</td>\n      <td>37.951187</td>\n      <td>140014000</td>\n    </tr>\n  </tbody>\n</table>\n</div>"
          },
          "metadata": {}
        }
      ],
      "execution_count": 7,
      "metadata": {
        "collapsed": true,
        "jupyter": {
          "source_hidden": false,
          "outputs_hidden": false
        },
        "nteract": {
          "transient": {
            "deleting": false
          }
        },
        "execution": {
          "iopub.status.busy": "2023-07-05T14:38:38.224Z",
          "iopub.execute_input": "2023-07-05T14:38:38.228Z",
          "iopub.status.idle": "2023-07-05T14:38:38.237Z",
          "shell.execute_reply": "2023-07-05T14:38:38.298Z"
        }
      }
    },
    {
      "cell_type": "code",
      "source": [
        "a = df['Low'][-1]\n",
        "b = df['High'][-1]\n",
        "c = mean_value_theorem_derivative(f, a, b)\n",
        "print(c)"
      ],
      "outputs": [
        {
          "output_type": "stream",
          "name": "stdout",
          "text": [
            "78.95999908447266\n"
          ]
        }
      ],
      "execution_count": 8,
      "metadata": {
        "collapsed": true,
        "jupyter": {
          "source_hidden": false,
          "outputs_hidden": false
        },
        "nteract": {
          "transient": {
            "deleting": false
          }
        },
        "execution": {
          "iopub.status.busy": "2023-07-05T14:38:38.242Z",
          "iopub.execute_input": "2023-07-05T14:38:38.249Z",
          "iopub.status.idle": "2023-07-05T14:38:38.259Z",
          "shell.execute_reply": "2023-07-05T14:38:38.300Z"
        }
      }
    },
    {
      "cell_type": "code",
      "source": [
        "c = mean_value_theorem_integral(f, a, b)\n",
        "print(c)"
      ],
      "outputs": [
        {
          "output_type": "stream",
          "name": "stdout",
          "text": [
            "1558.7135640014653\n"
          ]
        }
      ],
      "execution_count": 9,
      "metadata": {
        "collapsed": true,
        "jupyter": {
          "source_hidden": false,
          "outputs_hidden": false
        },
        "nteract": {
          "transient": {
            "deleting": false
          }
        },
        "execution": {
          "iopub.status.busy": "2023-07-05T14:38:38.265Z",
          "iopub.execute_input": "2023-07-05T14:38:38.270Z",
          "iopub.status.idle": "2023-07-05T14:38:38.279Z",
          "shell.execute_reply": "2023-07-05T14:38:38.304Z"
        }
      }
    }
  ],
  "metadata": {
    "kernel_info": {
      "name": "python3"
    },
    "language_info": {
      "name": "python",
      "version": "3.7.6",
      "mimetype": "text/x-python",
      "codemirror_mode": {
        "name": "ipython",
        "version": 3
      },
      "pygments_lexer": "ipython3",
      "nbconvert_exporter": "python",
      "file_extension": ".py"
    },
    "kernelspec": {
      "argv": [
        "C:/Users/Tin Hang/Anaconda3\\python.exe",
        "-m",
        "ipykernel_launcher",
        "-f",
        "{connection_file}"
      ],
      "display_name": "Python 3",
      "language": "python",
      "name": "python3"
    },
    "nteract": {
      "version": "0.28.0"
    }
  },
  "nbformat": 4,
  "nbformat_minor": 0
}