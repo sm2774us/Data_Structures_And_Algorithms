{
  "cells": [
    {
      "cell_type": "markdown",
      "source": [
        "# Bayesian game"
      ],
      "metadata": {
        "nteract": {
          "transient": {
            "deleting": false
          }
        }
      }
    },
    {
      "cell_type": "markdown",
      "source": [
        "https://en.wikipedia.org/wiki/Bayesian_game  "
      ],
      "metadata": {
        "nteract": {
          "transient": {
            "deleting": false
          }
        }
      }
    },
    {
      "cell_type": "code",
      "source": [
        "import warnings\n",
        "warnings.filterwarnings(\"ignore\")\n",
        "\n",
        "import yfinance as yf\n",
        "import pandas as pd\n",
        "import numpy as np\n",
        "import matplotlib.pyplot as plt\n",
        "\n",
        "# input\n",
        "symbol = 'AMD'\n",
        "start = '2014-01-01'\n",
        "end = '2019-01-01'\n",
        "\n",
        "# Read data\n",
        "dataset = yf.download(symbol, start, end)\n",
        "\n",
        "# Prepare data\n",
        "data = dataset['Adj Close']\n",
        "\n",
        "# Define a Bayesian game function\n",
        "def bayesian_stock_game(data, player_beliefs):\n",
        "    # Player beliefs are a list of probability distributions representing each player's belief about stock price movement.\n",
        "    # For example, each player's belief could be represented as a list of probabilities for different price movements.\n",
        "\n",
        "    num_players = len(player_beliefs)\n",
        "    num_rounds = len(data)\n",
        "\n",
        "    # Initialize player decisions and their payoffs\n",
        "    player_decisions = [0] * num_players\n",
        "    player_payoffs = [0] * num_players\n",
        "\n",
        "    for t in range(num_rounds):\n",
        "        # Simulate player decisions based on their beliefs (Bayesian strategy)\n",
        "        for player_id in range(num_players):\n",
        "            belief = player_beliefs[player_id]\n",
        "            decision = np.random.choice([0, 1], p=belief)\n",
        "            player_decisions[player_id] = decision\n",
        "\n",
        "        # Calculate payoffs based on player decisions and actual stock data\n",
        "        stock_return = (data.iloc[t] - data.iloc[t - 1]) / data.iloc[t - 1]\n",
        "\n",
        "        for player_id in range(num_players):\n",
        "            if player_decisions[player_id] == 1:  # Buy decision\n",
        "                player_payoffs[player_id] += stock_return\n",
        "            else:  # Sell decision\n",
        "                player_payoffs[player_id] -= stock_return\n",
        "\n",
        "    return player_decisions, player_payoffs\n",
        "\n",
        "# Example player beliefs (two players)\n",
        "player1_belief = [0.6, 0.4]  # Player 1 believes 60% chance of price going up, 40% chance of going down\n",
        "player2_belief = [0.4, 0.6]  # Player 2 believes 40% chance of price going up, 60% chance of going down\n",
        "\n",
        "player_beliefs = [player1_belief, player2_belief]\n",
        "\n",
        "# Simulate the game\n",
        "player_decisions, player_payoffs = bayesian_stock_game(data, player_beliefs)\n",
        "\n",
        "# Display the results\n",
        "for player_id, decision, payoff in zip(range(len(player_beliefs)), player_decisions, player_payoffs):\n",
        "    print(f\"Player {player_id + 1}: Decision - {'Buy' if decision == 1 else 'Sell'}, Payoff: {payoff:.2f}\")"
      ],
      "outputs": [
        {
          "output_type": "stream",
          "name": "stdout",
          "text": [
            "[*********************100%***********************]  1 of 1 completed\n",
            "Player 1: Decision - Sell, Payoff: -2.13\n",
            "Player 2: Decision - Sell, Payoff: 0.55\n"
          ]
        }
      ],
      "execution_count": 1,
      "metadata": {
        "collapsed": true,
        "jupyter": {
          "source_hidden": false,
          "outputs_hidden": false
        },
        "nteract": {
          "transient": {
            "deleting": false
          }
        },
        "execution": {
          "iopub.status.busy": "2023-11-04T04:41:07.465Z",
          "iopub.execute_input": "2023-11-04T04:41:07.467Z",
          "iopub.status.idle": "2023-11-04T04:41:08.481Z",
          "shell.execute_reply": "2023-11-04T04:41:08.484Z"
        }
      }
    }
  ],
  "metadata": {
    "kernel_info": {
      "name": "python3"
    },
    "language_info": {
      "name": "python",
      "version": "3.7.6",
      "mimetype": "text/x-python",
      "codemirror_mode": {
        "name": "ipython",
        "version": 3
      },
      "pygments_lexer": "ipython3",
      "nbconvert_exporter": "python",
      "file_extension": ".py"
    },
    "kernelspec": {
      "argv": [
        "C:/Users/Tin Hang/anaconda3\\python.exe",
        "-m",
        "ipykernel_launcher",
        "-f",
        "{connection_file}"
      ],
      "display_name": "Python 3",
      "language": "python",
      "name": "python3"
    },
    "nteract": {
      "version": "0.28.0"
    }
  },
  "nbformat": 4,
  "nbformat_minor": 0
}