{
  "cells": [
    {
      "cell_type": "markdown",
      "source": [
        "# Chebyshev Distance"
      ],
      "metadata": {
        "nteract": {
          "transient": {
            "deleting": false
          }
        }
      }
    },
    {
      "cell_type": "markdown",
      "source": [
        "### Chebyshev distance (or Tchebychev distance), maximum metric, or L∞ metric. is a metric defined on a vector space where the distance between two vectors is the greatest of their differences along any coordinate dimension (wikipeida).\n",
        "\n",
        "## Formula: max(|xA - xB|, |yA - yB|)"
      ],
      "metadata": {
        "nteract": {
          "transient": {
            "deleting": false
          }
        }
      }
    },
    {
      "cell_type": "code",
      "source": [
        "import numpy as np\n",
        "from scipy.spatial import distance\n",
        "\n",
        "import matplotlib.pyplot as plt\n",
        "\n",
        "import warnings\n",
        "warnings.filterwarnings(\"ignore\") \n",
        "\n",
        "# yfinance is used to fetch data \n",
        "import yfinance as yf\n",
        "yf.pdr_override()"
      ],
      "outputs": [],
      "execution_count": 1,
      "metadata": {
        "collapsed": true,
        "jupyter": {
          "source_hidden": false,
          "outputs_hidden": false
        },
        "nteract": {
          "transient": {
            "deleting": false
          }
        },
        "execution": {
          "iopub.status.busy": "2021-07-05T19:45:32.846Z",
          "iopub.execute_input": "2021-07-05T19:45:32.849Z",
          "iopub.status.idle": "2021-07-05T19:45:33.396Z",
          "shell.execute_reply": "2021-07-05T19:45:33.390Z"
        }
      }
    },
    {
      "cell_type": "code",
      "source": [
        "symbol = 'AMD'\n",
        "\n",
        "start = '2018-01-01'\n",
        "end = '2019-01-01'\n",
        "\n",
        "# Read data \n",
        "dataset = yf.download(symbol,start,end)\n",
        "\n",
        "# View Columns\n",
        "dataset.head()"
      ],
      "outputs": [
        {
          "output_type": "stream",
          "name": "stdout",
          "text": [
            "[*********************100%***********************]  1 of 1 completed\n"
          ]
        },
        {
          "output_type": "execute_result",
          "execution_count": 2,
          "data": {
            "text/plain": "             Open   High    Low  Close  Adj Close     Volume\nDate                                                        \n2018-01-02  10.42  11.02  10.34  10.98      10.98   44146300\n2018-01-03  11.61  12.14  11.36  11.55      11.55  154066700\n2018-01-04  12.10  12.43  11.97  12.12      12.12  109503000\n2018-01-05  12.19  12.22  11.66  11.88      11.88   63808900\n2018-01-08  12.01  12.30  11.85  12.28      12.28   63346000",
            "text/html": "<div>\n<style scoped>\n    .dataframe tbody tr th:only-of-type {\n        vertical-align: middle;\n    }\n\n    .dataframe tbody tr th {\n        vertical-align: top;\n    }\n\n    .dataframe thead th {\n        text-align: right;\n    }\n</style>\n<table border=\"1\" class=\"dataframe\">\n  <thead>\n    <tr style=\"text-align: right;\">\n      <th></th>\n      <th>Open</th>\n      <th>High</th>\n      <th>Low</th>\n      <th>Close</th>\n      <th>Adj Close</th>\n      <th>Volume</th>\n    </tr>\n    <tr>\n      <th>Date</th>\n      <th></th>\n      <th></th>\n      <th></th>\n      <th></th>\n      <th></th>\n      <th></th>\n    </tr>\n  </thead>\n  <tbody>\n    <tr>\n      <th>2018-01-02</th>\n      <td>10.42</td>\n      <td>11.02</td>\n      <td>10.34</td>\n      <td>10.98</td>\n      <td>10.98</td>\n      <td>44146300</td>\n    </tr>\n    <tr>\n      <th>2018-01-03</th>\n      <td>11.61</td>\n      <td>12.14</td>\n      <td>11.36</td>\n      <td>11.55</td>\n      <td>11.55</td>\n      <td>154066700</td>\n    </tr>\n    <tr>\n      <th>2018-01-04</th>\n      <td>12.10</td>\n      <td>12.43</td>\n      <td>11.97</td>\n      <td>12.12</td>\n      <td>12.12</td>\n      <td>109503000</td>\n    </tr>\n    <tr>\n      <th>2018-01-05</th>\n      <td>12.19</td>\n      <td>12.22</td>\n      <td>11.66</td>\n      <td>11.88</td>\n      <td>11.88</td>\n      <td>63808900</td>\n    </tr>\n    <tr>\n      <th>2018-01-08</th>\n      <td>12.01</td>\n      <td>12.30</td>\n      <td>11.85</td>\n      <td>12.28</td>\n      <td>12.28</td>\n      <td>63346000</td>\n    </tr>\n  </tbody>\n</table>\n</div>"
          },
          "metadata": {}
        }
      ],
      "execution_count": 2,
      "metadata": {
        "collapsed": true,
        "jupyter": {
          "source_hidden": false,
          "outputs_hidden": false
        },
        "nteract": {
          "transient": {
            "deleting": false
          }
        },
        "execution": {
          "iopub.status.busy": "2021-07-05T19:45:33.403Z",
          "iopub.execute_input": "2021-07-05T19:45:33.407Z",
          "iopub.status.idle": "2021-07-05T19:45:34.052Z",
          "shell.execute_reply": "2021-07-05T19:45:34.071Z"
        }
      }
    },
    {
      "cell_type": "code",
      "source": [
        "Open = np.array(dataset['Open'])\n",
        "Close = np.array(dataset['Adj Close'])\n",
        "High = np.array(dataset['High'])\n",
        "Low = np.array(dataset['Low'])"
      ],
      "outputs": [],
      "execution_count": 3,
      "metadata": {
        "collapsed": true,
        "jupyter": {
          "source_hidden": false,
          "outputs_hidden": false
        },
        "nteract": {
          "transient": {
            "deleting": false
          }
        },
        "execution": {
          "iopub.status.busy": "2021-07-05T19:45:34.057Z",
          "iopub.execute_input": "2021-07-05T19:45:34.060Z",
          "iopub.status.idle": "2021-07-05T19:45:34.078Z",
          "shell.execute_reply": "2021-07-05T19:45:34.074Z"
        }
      }
    },
    {
      "cell_type": "code",
      "source": [
        "Open"
      ],
      "outputs": [
        {
          "output_type": "execute_result",
          "execution_count": 4,
          "data": {
            "text/plain": "array([10.42000008, 11.60999966, 12.10000038, 12.18999958, 12.01000023,\n       12.        , 11.63000011, 12.06999969, 11.81999969, 12.05000019,\n       11.89999962, 12.18000031, 12.56000042, 12.60999966, 12.81999969,\n       13.02000046, 12.77999973, 12.69999981, 13.13000011, 13.11999989,\n       13.23999977, 13.61999989, 13.05000019, 12.05000019, 11.03999996,\n       11.69999981, 11.72000027, 11.53999996, 11.47000027, 11.60000038,\n       11.72000027, 12.39999962, 12.10999966, 11.72000027, 12.11999989,\n       11.81999969, 11.94999981, 12.14000034, 12.43000031, 12.65999985,\n       12.26000023, 11.67000008, 11.68999958, 12.01000023, 11.57999992,\n       12.39999962, 12.02999973, 11.76000023, 11.5       , 11.69999981,\n       11.43000031, 11.48999977, 11.40999985, 11.40999985, 11.15999985,\n       11.10000038, 10.90999985, 10.71000004, 10.51000023,  9.98999977,\n        9.93999958,  9.98999977,  9.63000011,  9.07999992, 10.05000019,\n        9.82999992,  9.75      ,  9.75      ,  9.86999989,  9.97999954,\n       10.19999981, 10.        , 10.27999973, 10.51000023, 10.18000031,\n       10.05000019, 10.09000015, 10.18999958, 10.06000042, 10.86999989,\n       11.19999981, 11.06000042, 10.82999992, 11.10000038, 10.89999962,\n       10.88000011, 11.31999969, 11.48999977, 11.64999962, 11.97999954,\n       11.89000034, 12.14000034, 12.18000031, 12.64000034, 12.78999996,\n       13.06000042, 13.25      , 13.        , 12.93000031, 13.06000042,\n       13.39999962, 13.44999981, 13.47999954, 13.73999977, 13.97999954,\n       14.76000023, 14.85000038, 15.06999969, 15.82999992, 14.52000046,\n       15.21000004, 15.84000015, 15.81000042, 16.62000084, 16.05999947,\n       16.18000031, 16.85000038, 16.82999992, 16.64999962, 15.77999973,\n       15.64000034, 15.31999969, 15.64999962, 14.85000038, 15.40999985,\n       14.80000019, 15.21000004, 15.13000011, 15.52000046, 16.72999954,\n       16.59000015, 16.14999962, 16.40999985, 16.68000031, 16.42000008,\n       16.5       , 16.94000053, 16.70999908, 16.65999985, 16.46999931,\n       16.75      , 16.29999924, 17.15999985, 19.06999969, 19.39999962,\n       19.35000038, 18.34000015, 18.17000008, 18.94000053, 18.88999939,\n       19.53000069, 19.45999908, 19.57999992, 19.09000015, 19.15999985,\n       19.96999931, 19.86000061, 19.86000061, 19.12000084, 19.79000092,\n       19.97999954, 20.28000069, 21.19000053, 22.90999985, 24.94000053,\n       25.51000023, 24.36000061, 25.29000092, 24.88999939, 25.62000084,\n       29.40999985, 28.12000084, 26.95999908, 28.14999962, 30.02000046,\n       29.90999985, 33.15999985, 31.43000031, 31.75      , 32.99000168,\n       31.52000046, 32.09999847, 31.19000053, 31.12999916, 33.18000031,\n       32.40000153, 31.86000061, 32.24000168, 30.69000053, 30.72999954,\n       29.04000092, 27.98999977, 28.06999969, 26.72999954, 26.14999962,\n       27.37999916, 24.73999977, 26.77000046, 26.37999916, 26.62999916,\n       28.40999985, 27.07999992, 27.03000069, 24.45999908, 24.18000031,\n       25.04000092, 17.92000008, 18.48999977, 18.20999908, 16.37999916,\n       17.87000084, 18.40999985, 20.59000015, 20.12000084, 19.5       ,\n       21.42000008, 21.77000046, 20.77000046, 20.68000031, 19.28000069,\n       20.18000031, 20.71999931, 19.87000084, 20.39999962, 17.39999962,\n       20.04999924, 18.61000061, 19.95999908, 19.77000046, 21.81999969,\n       21.19000053, 21.29999924, 22.47999954, 23.35000038, 20.21999931,\n       21.29999924, 19.35000038, 20.70999908, 20.31999969, 20.62999916,\n       19.57999992, 20.01000023, 19.14999962, 19.44000053, 18.11000061,\n       18.12000084, 16.52000046, 16.87999916, 17.43000031, 17.53000069,\n       18.14999962])"
          },
          "metadata": {}
        }
      ],
      "execution_count": 4,
      "metadata": {
        "collapsed": true,
        "jupyter": {
          "source_hidden": false,
          "outputs_hidden": false
        },
        "nteract": {
          "transient": {
            "deleting": false
          }
        },
        "execution": {
          "iopub.status.busy": "2021-07-05T19:45:34.083Z",
          "iopub.execute_input": "2021-07-05T19:45:34.086Z",
          "iopub.status.idle": "2021-07-05T19:45:34.093Z",
          "shell.execute_reply": "2021-07-05T19:45:34.163Z"
        }
      }
    },
    {
      "cell_type": "code",
      "source": [
        "Close"
      ],
      "outputs": [
        {
          "output_type": "execute_result",
          "execution_count": 5,
          "data": {
            "text/plain": "array([10.97999954, 11.55000019, 12.11999989, 11.88000011, 12.27999973,\n       11.81999969, 11.96000004, 12.14000034, 12.02000046, 11.90999985,\n       12.18000031, 12.47000027, 12.59000015, 12.64999962, 12.93999958,\n       12.71000004, 12.40999985, 12.94999981, 13.31999969, 12.86999989,\n       13.73999977, 13.25      , 12.44999981, 11.56999969, 11.64999962,\n       11.60000038, 11.22000027, 11.31000042, 11.68000031, 11.77999973,\n       12.19999981, 12.18999958, 11.81999969, 12.02000046, 11.72000027,\n       11.84000015, 12.06999969, 12.42000008, 12.52999973, 12.10999966,\n       11.89999962, 11.81000042, 11.90999985, 11.76000023, 12.23999977,\n       11.97000027, 11.69999981, 11.52000046, 11.64000034, 11.35999966,\n       11.46000004, 11.47000027, 11.43000031, 11.10999966, 11.26000023,\n       10.90999985, 10.63000011, 10.43999958, 10.        ,  9.81000042,\n       10.05000019,  9.52999973,  9.55000019,  9.77000046, 10.02000046,\n        9.60999966,  9.52999973,  9.97999954,  9.81999969, 10.07999992,\n        9.93000031, 10.09000015, 10.52000046, 10.35999966, 10.10999966,\n        9.98999977, 10.03999996, 10.09000015,  9.71000004, 11.03999996,\n       11.10999966, 10.88000011, 11.13000011, 10.97000027, 10.93000031,\n       11.27999973, 11.59000015, 11.60999966, 11.94999981, 12.13000011,\n       11.94999981, 12.22999954, 12.44999981, 12.81999969, 12.81999969,\n       13.        , 12.98999977, 12.97999954, 13.10000038, 13.40999985,\n       13.53999996, 13.35999966, 13.81999969, 13.72999954, 14.39999962,\n       14.85000038, 14.85000038, 15.67000008, 14.89000034, 15.25      ,\n       15.72999954, 15.85000038, 16.31999969, 16.25      , 16.34000015,\n       17.11000061, 16.69000053, 16.52000046, 15.64999962, 15.80000019,\n       15.10999966, 15.5       , 14.97000027, 15.31000042, 14.98999977,\n       15.15999985, 15.        , 15.5       , 16.36000061, 16.61000061,\n       16.54999924, 16.27000046, 16.55999947, 16.27000046, 16.57999992,\n       16.87000084, 16.85000038, 16.70999908, 16.5       , 16.65999985,\n       16.19000053, 16.04999924, 18.35000038, 18.94000053, 19.42000008,\n       18.32999992, 18.47999954, 18.79000092, 18.48999977, 19.43000031,\n       19.55999947, 19.57999992, 19.10000038, 19.05999947, 19.72999954,\n       20.02000046, 19.70000076, 19.32999992, 19.77000046, 19.97999954,\n       20.39999962, 20.89999962, 22.29000092, 23.97999954, 25.26000023,\n       25.04999924, 25.20000076, 24.88999939, 25.17000008, 28.05999947,\n       28.51000023, 27.84000015, 27.37999916, 29.88999939, 30.10000038,\n       32.20999908, 30.47999954, 32.72000122, 32.43000031, 31.93000031,\n       31.20999908, 31.18000031, 31.02000046, 32.61000061, 32.56999969,\n       32.18999863, 32.59000015, 30.88999939, 31.42000008, 29.02000046,\n       28.43000031, 27.78000069, 27.35000038, 26.45999908, 27.23999977,\n       25.        , 25.29999924, 26.34000015, 26.26000023, 28.18000031,\n       27.29999924, 26.62000084, 23.65999985, 25.03000069, 25.09000015,\n       22.79000092, 19.27000046, 17.62999916, 16.85000038, 17.20000076,\n       18.20999908, 20.21999931, 20.22999954, 19.89999962, 20.68000031,\n       21.84000015, 21.20000076, 21.03000069, 19.03000069, 19.61000061,\n       20.80999947, 21.48999977, 20.65999985, 19.11000061, 19.20999908,\n       18.72999954, 19.37999916, 20.07999992, 21.04999924, 21.34000015,\n       21.43000031, 21.29999924, 23.70999908, 21.12000084, 21.29999924,\n       19.45999908, 19.98999977, 19.97999954, 20.47999954, 19.86000061,\n       19.89999962, 18.82999992, 19.5       , 18.15999985, 17.94000053,\n       16.93000031, 16.64999962, 17.89999962, 17.48999977, 17.81999969,\n       18.45999908])"
          },
          "metadata": {}
        }
      ],
      "execution_count": 5,
      "metadata": {
        "collapsed": true,
        "jupyter": {
          "source_hidden": false,
          "outputs_hidden": false
        },
        "nteract": {
          "transient": {
            "deleting": false
          }
        },
        "execution": {
          "iopub.status.busy": "2021-07-05T19:45:34.098Z",
          "iopub.execute_input": "2021-07-05T19:45:34.101Z",
          "iopub.status.idle": "2021-07-05T19:45:34.108Z",
          "shell.execute_reply": "2021-07-05T19:45:34.166Z"
        }
      }
    },
    {
      "cell_type": "code",
      "source": [
        "max(Close)"
      ],
      "outputs": [
        {
          "output_type": "execute_result",
          "execution_count": 6,
          "data": {
            "text/plain": "32.720001220703125"
          },
          "metadata": {}
        }
      ],
      "execution_count": 6,
      "metadata": {
        "collapsed": true,
        "jupyter": {
          "source_hidden": false,
          "outputs_hidden": false
        },
        "nteract": {
          "transient": {
            "deleting": false
          }
        },
        "execution": {
          "iopub.status.busy": "2021-07-05T19:45:34.113Z",
          "iopub.execute_input": "2021-07-05T19:45:34.116Z",
          "iopub.status.idle": "2021-07-05T19:45:34.123Z",
          "shell.execute_reply": "2021-07-05T19:45:34.168Z"
        }
      }
    },
    {
      "cell_type": "code",
      "source": [
        "distance.chebyshev(Open, Close)"
      ],
      "outputs": [
        {
          "output_type": "execute_result",
          "execution_count": 7,
          "data": {
            "text/plain": "3.3700008392333984"
          },
          "metadata": {}
        }
      ],
      "execution_count": 7,
      "metadata": {
        "collapsed": true,
        "jupyter": {
          "source_hidden": false,
          "outputs_hidden": false
        },
        "nteract": {
          "transient": {
            "deleting": false
          }
        },
        "execution": {
          "iopub.status.busy": "2021-07-05T19:45:34.129Z",
          "iopub.execute_input": "2021-07-05T19:45:34.133Z",
          "iopub.status.idle": "2021-07-05T19:45:34.140Z",
          "shell.execute_reply": "2021-07-05T19:45:34.170Z"
        }
      }
    },
    {
      "cell_type": "code",
      "source": [
        "x = Low\n",
        "y = High\n",
        "p = np.polynomial.Chebyshev.fit(x, y, 90)\n",
        "\n",
        "plt.plot(x, y, 'r.')\n",
        "plt.plot(x, p(x), 'k-', lw=3)\n",
        "plt.show()\n"
      ],
      "outputs": [
        {
          "output_type": "display_data",
          "data": {
            "text/plain": "<Figure size 432x288 with 1 Axes>",
            "image/png": "[encoded data removed]"
          },
          "metadata": {
            "needs_background": "light"
          }
        }
      ],
      "execution_count": 8,
      "metadata": {
        "collapsed": true,
        "jupyter": {
          "source_hidden": false,
          "outputs_hidden": false
        },
        "nteract": {
          "transient": {
            "deleting": false
          }
        },
        "execution": {
          "iopub.status.busy": "2021-07-05T19:45:34.145Z",
          "iopub.execute_input": "2021-07-05T19:45:34.148Z",
          "iopub.status.idle": "2021-07-05T19:45:34.222Z",
          "shell.execute_reply": "2021-07-05T19:45:34.227Z"
        }
      }
    }
  ],
  "metadata": {
    "kernel_info": {
      "name": "python3"
    },
    "language_info": {
      "name": "python",
      "version": "3.6.12",
      "mimetype": "text/x-python",
      "codemirror_mode": {
        "name": "ipython",
        "version": 3
      },
      "pygments_lexer": "ipython3",
      "nbconvert_exporter": "python",
      "file_extension": ".py"
    },
    "kernelspec": {
      "argv": [
        "C:/Users/Tin Hang/Anaconda3\\python.exe",
        "-m",
        "ipykernel_launcher",
        "-f",
        "{connection_file}"
      ],
      "display_name": "Python 3",
      "language": "python",
      "name": "python3"
    },
    "nteract": {
      "version": "0.28.0"
    }
  },
  "nbformat": 4,
  "nbformat_minor": 0
}