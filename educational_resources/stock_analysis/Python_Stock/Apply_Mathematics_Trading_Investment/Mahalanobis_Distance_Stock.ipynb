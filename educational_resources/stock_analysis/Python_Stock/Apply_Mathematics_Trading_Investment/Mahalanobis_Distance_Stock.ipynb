{
  "cells": [
    {
      "cell_type": "markdown",
      "source": [
        "# Mahalanobis Distance"
      ],
      "metadata": {
        "nteract": {
          "transient": {
            "deleting": false
          }
        }
      }
    },
    {
      "cell_type": "markdown",
      "source": [
        "## Mahalanobis distance is the distance between two points in a multivariate space. It’s  used in statistical analyses to find outliers that involve serval variables.\n"
      ],
      "metadata": {
        "nteract": {
          "transient": {
            "deleting": false
          }
        }
      }
    },
    {
      "cell_type": "markdown",
      "source": [
        "## Formula: d(p,q) = √(p1-q1)^2 + (p2-q2)^2"
      ],
      "metadata": {
        "nteract": {
          "transient": {
            "deleting": false
          }
        }
      }
    },
    {
      "cell_type": "code",
      "source": [
        "import numpy as np\n",
        "import scipy as stats\n",
        "from scipy.stats import chi2\n",
        "\n",
        "import warnings\n",
        "warnings.filterwarnings(\"ignore\") \n",
        "\n",
        "# yfinance is used to fetch data \n",
        "import yfinance as yf\n",
        "yf.pdr_override()"
      ],
      "outputs": [],
      "execution_count": 1,
      "metadata": {
        "collapsed": true,
        "jupyter": {
          "source_hidden": false,
          "outputs_hidden": false
        },
        "nteract": {
          "transient": {
            "deleting": false
          }
        },
        "execution": {
          "iopub.status.busy": "2021-07-03T03:16:31.114Z",
          "iopub.execute_input": "2021-07-03T03:16:31.119Z",
          "iopub.status.idle": "2021-07-03T03:16:31.568Z",
          "shell.execute_reply": "2021-07-03T03:16:31.561Z"
        }
      }
    },
    {
      "cell_type": "code",
      "source": [
        "symbol = 'AMD'\n",
        "\n",
        "start = '2018-01-01'\n",
        "end = '2019-01-01'\n",
        "\n",
        "# Read data \n",
        "dataset = yf.download(symbol,start,end)\n",
        "\n",
        "# View Columns\n",
        "dataset.head()"
      ],
      "outputs": [
        {
          "output_type": "stream",
          "name": "stdout",
          "text": [
            "[*********************100%***********************]  1 of 1 completed\n"
          ]
        },
        {
          "output_type": "execute_result",
          "execution_count": 2,
          "data": {
            "text/plain": "             Open   High    Low  Close  Adj Close     Volume\nDate                                                        \n2018-01-02  10.42  11.02  10.34  10.98      10.98   44146300\n2018-01-03  11.61  12.14  11.36  11.55      11.55  154066700\n2018-01-04  12.10  12.43  11.97  12.12      12.12  109503000\n2018-01-05  12.19  12.22  11.66  11.88      11.88   63808900\n2018-01-08  12.01  12.30  11.85  12.28      12.28   63346000",
            "text/html": "<div>\n<style scoped>\n    .dataframe tbody tr th:only-of-type {\n        vertical-align: middle;\n    }\n\n    .dataframe tbody tr th {\n        vertical-align: top;\n    }\n\n    .dataframe thead th {\n        text-align: right;\n    }\n</style>\n<table border=\"1\" class=\"dataframe\">\n  <thead>\n    <tr style=\"text-align: right;\">\n      <th></th>\n      <th>Open</th>\n      <th>High</th>\n      <th>Low</th>\n      <th>Close</th>\n      <th>Adj Close</th>\n      <th>Volume</th>\n    </tr>\n    <tr>\n      <th>Date</th>\n      <th></th>\n      <th></th>\n      <th></th>\n      <th></th>\n      <th></th>\n      <th></th>\n    </tr>\n  </thead>\n  <tbody>\n    <tr>\n      <th>2018-01-02</th>\n      <td>10.42</td>\n      <td>11.02</td>\n      <td>10.34</td>\n      <td>10.98</td>\n      <td>10.98</td>\n      <td>44146300</td>\n    </tr>\n    <tr>\n      <th>2018-01-03</th>\n      <td>11.61</td>\n      <td>12.14</td>\n      <td>11.36</td>\n      <td>11.55</td>\n      <td>11.55</td>\n      <td>154066700</td>\n    </tr>\n    <tr>\n      <th>2018-01-04</th>\n      <td>12.10</td>\n      <td>12.43</td>\n      <td>11.97</td>\n      <td>12.12</td>\n      <td>12.12</td>\n      <td>109503000</td>\n    </tr>\n    <tr>\n      <th>2018-01-05</th>\n      <td>12.19</td>\n      <td>12.22</td>\n      <td>11.66</td>\n      <td>11.88</td>\n      <td>11.88</td>\n      <td>63808900</td>\n    </tr>\n    <tr>\n      <th>2018-01-08</th>\n      <td>12.01</td>\n      <td>12.30</td>\n      <td>11.85</td>\n      <td>12.28</td>\n      <td>12.28</td>\n      <td>63346000</td>\n    </tr>\n  </tbody>\n</table>\n</div>"
          },
          "metadata": {}
        }
      ],
      "execution_count": 2,
      "metadata": {
        "collapsed": true,
        "jupyter": {
          "source_hidden": false,
          "outputs_hidden": false
        },
        "nteract": {
          "transient": {
            "deleting": false
          }
        },
        "execution": {
          "iopub.status.busy": "2021-07-03T03:16:31.574Z",
          "iopub.execute_input": "2021-07-03T03:16:31.578Z",
          "iopub.status.idle": "2021-07-03T03:16:32.270Z",
          "shell.execute_reply": "2021-07-03T03:16:32.430Z"
        }
      }
    },
    {
      "cell_type": "code",
      "source": [
        "dataset.tail()"
      ],
      "outputs": [
        {
          "output_type": "execute_result",
          "execution_count": 3,
          "data": {
            "text/plain": "                 Open       High        Low      Close  Adj Close     Volume\nDate                                                                        \n2018-12-24  16.520000  17.219999  16.370001  16.650000  16.650000   62933100\n2018-12-26  16.879999  17.910000  16.030001  17.900000  17.900000  108811800\n2018-12-27  17.430000  17.740000  16.440001  17.490000  17.490000  111373000\n2018-12-28  17.530001  18.309999  17.139999  17.820000  17.820000  109214400\n2018-12-31  18.150000  18.510000  17.850000  18.459999  18.459999   84732200",
            "text/html": "<div>\n<style scoped>\n    .dataframe tbody tr th:only-of-type {\n        vertical-align: middle;\n    }\n\n    .dataframe tbody tr th {\n        vertical-align: top;\n    }\n\n    .dataframe thead th {\n        text-align: right;\n    }\n</style>\n<table border=\"1\" class=\"dataframe\">\n  <thead>\n    <tr style=\"text-align: right;\">\n      <th></th>\n      <th>Open</th>\n      <th>High</th>\n      <th>Low</th>\n      <th>Close</th>\n      <th>Adj Close</th>\n      <th>Volume</th>\n    </tr>\n    <tr>\n      <th>Date</th>\n      <th></th>\n      <th></th>\n      <th></th>\n      <th></th>\n      <th></th>\n      <th></th>\n    </tr>\n  </thead>\n  <tbody>\n    <tr>\n      <th>2018-12-24</th>\n      <td>16.520000</td>\n      <td>17.219999</td>\n      <td>16.370001</td>\n      <td>16.650000</td>\n      <td>16.650000</td>\n      <td>62933100</td>\n    </tr>\n    <tr>\n      <th>2018-12-26</th>\n      <td>16.879999</td>\n      <td>17.910000</td>\n      <td>16.030001</td>\n      <td>17.900000</td>\n      <td>17.900000</td>\n      <td>108811800</td>\n    </tr>\n    <tr>\n      <th>2018-12-27</th>\n      <td>17.430000</td>\n      <td>17.740000</td>\n      <td>16.440001</td>\n      <td>17.490000</td>\n      <td>17.490000</td>\n      <td>111373000</td>\n    </tr>\n    <tr>\n      <th>2018-12-28</th>\n      <td>17.530001</td>\n      <td>18.309999</td>\n      <td>17.139999</td>\n      <td>17.820000</td>\n      <td>17.820000</td>\n      <td>109214400</td>\n    </tr>\n    <tr>\n      <th>2018-12-31</th>\n      <td>18.150000</td>\n      <td>18.510000</td>\n      <td>17.850000</td>\n      <td>18.459999</td>\n      <td>18.459999</td>\n      <td>84732200</td>\n    </tr>\n  </tbody>\n</table>\n</div>"
          },
          "metadata": {}
        }
      ],
      "execution_count": 3,
      "metadata": {
        "collapsed": true,
        "jupyter": {
          "source_hidden": false,
          "outputs_hidden": false
        },
        "nteract": {
          "transient": {
            "deleting": false
          }
        },
        "execution": {
          "iopub.status.busy": "2021-07-03T03:16:32.276Z",
          "iopub.execute_input": "2021-07-03T03:16:32.279Z",
          "iopub.status.idle": "2021-07-03T03:16:32.287Z",
          "shell.execute_reply": "2021-07-03T03:16:32.433Z"
        }
      }
    },
    {
      "cell_type": "code",
      "source": [
        "dataset = dataset.drop(['Adj Close', 'Volume'], axis=1)\n",
        "dataset.head()"
      ],
      "outputs": [
        {
          "output_type": "execute_result",
          "execution_count": 4,
          "data": {
            "text/plain": "             Open   High    Low  Close\nDate                                  \n2018-01-02  10.42  11.02  10.34  10.98\n2018-01-03  11.61  12.14  11.36  11.55\n2018-01-04  12.10  12.43  11.97  12.12\n2018-01-05  12.19  12.22  11.66  11.88\n2018-01-08  12.01  12.30  11.85  12.28",
            "text/html": "<div>\n<style scoped>\n    .dataframe tbody tr th:only-of-type {\n        vertical-align: middle;\n    }\n\n    .dataframe tbody tr th {\n        vertical-align: top;\n    }\n\n    .dataframe thead th {\n        text-align: right;\n    }\n</style>\n<table border=\"1\" class=\"dataframe\">\n  <thead>\n    <tr style=\"text-align: right;\">\n      <th></th>\n      <th>Open</th>\n      <th>High</th>\n      <th>Low</th>\n      <th>Close</th>\n    </tr>\n    <tr>\n      <th>Date</th>\n      <th></th>\n      <th></th>\n      <th></th>\n      <th></th>\n    </tr>\n  </thead>\n  <tbody>\n    <tr>\n      <th>2018-01-02</th>\n      <td>10.42</td>\n      <td>11.02</td>\n      <td>10.34</td>\n      <td>10.98</td>\n    </tr>\n    <tr>\n      <th>2018-01-03</th>\n      <td>11.61</td>\n      <td>12.14</td>\n      <td>11.36</td>\n      <td>11.55</td>\n    </tr>\n    <tr>\n      <th>2018-01-04</th>\n      <td>12.10</td>\n      <td>12.43</td>\n      <td>11.97</td>\n      <td>12.12</td>\n    </tr>\n    <tr>\n      <th>2018-01-05</th>\n      <td>12.19</td>\n      <td>12.22</td>\n      <td>11.66</td>\n      <td>11.88</td>\n    </tr>\n    <tr>\n      <th>2018-01-08</th>\n      <td>12.01</td>\n      <td>12.30</td>\n      <td>11.85</td>\n      <td>12.28</td>\n    </tr>\n  </tbody>\n</table>\n</div>"
          },
          "metadata": {}
        }
      ],
      "execution_count": 4,
      "metadata": {
        "collapsed": true,
        "jupyter": {
          "source_hidden": false,
          "outputs_hidden": false
        },
        "nteract": {
          "transient": {
            "deleting": false
          }
        },
        "execution": {
          "iopub.status.busy": "2021-07-03T03:16:32.293Z",
          "iopub.execute_input": "2021-07-03T03:16:32.297Z",
          "iopub.status.idle": "2021-07-03T03:16:32.305Z",
          "shell.execute_reply": "2021-07-03T03:16:32.435Z"
        }
      }
    },
    {
      "cell_type": "code",
      "source": [
        "def mahalanobis_distance(x=None, data=None, cov=None):\n",
        "\n",
        "    x_mu = x - np.mean(data)\n",
        "    if not cov:\n",
        "        cov = np.cov(data.values.T)\n",
        "    inv_covmat = np.linalg.inv(cov)\n",
        "    left = np.dot(x_mu, inv_covmat)\n",
        "    mahal = np.dot(left, x_mu.T)\n",
        "    return mahal.diagonal()"
      ],
      "outputs": [],
      "execution_count": 5,
      "metadata": {
        "collapsed": true,
        "jupyter": {
          "source_hidden": false,
          "outputs_hidden": false
        },
        "nteract": {
          "transient": {
            "deleting": false
          }
        },
        "execution": {
          "iopub.status.busy": "2021-07-03T03:16:32.310Z",
          "iopub.execute_input": "2021-07-03T03:16:32.313Z",
          "iopub.status.idle": "2021-07-03T03:16:32.320Z",
          "shell.execute_reply": "2021-07-03T03:16:32.437Z"
        }
      }
    },
    {
      "cell_type": "code",
      "source": [
        "df = mahalanobis_distance(x=dataset, data=dataset)\n",
        "df"
      ],
      "outputs": [
        {
          "output_type": "execute_result",
          "execution_count": 6,
          "data": {
            "text/plain": "array([ 2.34360202,  2.44314893,  1.00051049,  1.21842069,  1.0076011 ,\n        1.1097397 ,  1.16944107,  1.06911884,  1.00390335,  0.85728349,\n        0.9411238 ,  1.0507168 ,  1.47890511,  0.93506169,  1.04127015,\n        0.88274656,  0.91767493,  0.90369209,  0.64917069,  0.61214883,\n        0.90104305,  1.04678643,  1.24920747,  6.04067172,  2.26186731,\n        1.07026566,  1.62663777,  5.99515177,  0.96906497,  0.9987026 ,\n        1.41960866,  0.86803649,  1.14565132,  1.10774379,  1.18389276,\n        0.83843433,  1.14792339,  0.9038267 ,  1.51593834,  1.29103672,\n        1.43003373,  0.96934244,  0.87583202,  1.06060443,  8.04445156,\n        1.44196559,  1.10803103,  1.08750665,  2.09671055,  1.15534847,\n        1.14637643,  1.22763692,  1.47350503,  1.13439172,  1.15168505,\n        1.19876804,  1.26982093,  1.79159781,  2.17916227,  1.71617204,\n        1.51686826,  2.41694351,  1.80552464,  4.09364976,  1.3772735 ,\n        2.16947298,  1.67262181,  1.49514589,  1.60919369,  1.59990887,\n        1.52116268,  1.38034091,  1.37348925,  1.39492868,  1.33123752,\n        1.50803544,  1.436479  ,  1.34931475,  1.9372756 ,  1.37951499,\n        1.08405128,  1.2938159 ,  1.18946552,  1.39442585,  1.22697137,\n        1.26384276,  1.0224159 ,  1.06575806,  0.95675545,  1.07214764,\n        0.99820106,  1.09601038,  0.94396288,  0.91789148,  1.08170523,\n        0.90845572,  0.80435321,  0.75119906,  0.9454025 ,  0.75931927,\n        0.89817409,  0.82743458,  0.76268299,  1.40870538,  0.7091193 ,\n        0.62541728,  1.38165634,  0.75782601,  2.25922605,  1.99888624,\n        0.70671984,  1.34816781,  0.80227047,  2.75211161,  0.26133333,\n        2.90741091,  0.15353398,  0.67282188,  2.98762093,  1.26364464,\n        3.03560477,  0.61901927,  1.2084012 ,  0.56670838,  1.0579387 ,\n        0.73752369,  1.1850576 ,  0.77833398,  1.5289542 ,  1.21784498,\n        1.81804514,  0.80584398,  1.52090812,  1.43044018,  2.15565348,\n        1.28304516,  1.71467422,  1.66423832,  1.50595928,  2.83929483,\n        0.873116  ,  0.82069335,  6.40107702,  1.71670569,  5.20948199,\n        2.28678886,  3.01120617,  0.99693978,  1.42082089,  2.21824395,\n        2.11009392,  2.05654467,  2.3358634 ,  1.65092443,  1.34648951,\n        1.58783655,  1.05393364,  1.76195833,  1.95122771,  2.03076006,\n        2.31910308,  2.00207133,  2.866545  ,  3.61963406, 39.23553794,\n        3.79515163,  3.01886825,  5.70062074,  7.30367551, 20.29354593,\n       20.6136468 ,  4.45230036,  9.29035089, 10.9225366 ,  7.53404552,\n       22.13293678, 38.07259698, 12.60837117, 12.93607504,  8.60834295,\n        9.79193128, 10.36880876, 21.23745326, 10.44550239, 11.56685523,\n       15.57855679, 12.04568533, 10.30210199,  6.86874433,  9.65658274,\n       30.97454035,  6.40053723,  4.54581346,  4.06106886,  6.02332255,\n       13.94292451,  7.85099643,  5.16014179,  4.68740178,  9.94387838,\n        6.0290411 ,  6.61744159, 34.14657979,  2.948217  ,  3.23277446,\n       12.49290731, 20.32505734,  3.81026758,  9.13902562,  1.91948225,\n        3.99761567, 16.47815701,  1.60130587,  8.27284557, 18.47464404,\n        0.95377367,  1.62160657,  2.64663925,  7.69234529,  0.49857021,\n        1.38041939,  1.71850861,  1.86860555,  4.10475717, 19.62015777,\n        4.9335346 ,  3.24461049,  5.00677544,  7.05205896, 11.65790375,\n        1.82827698,  5.81347656,  3.9226461 , 12.76084232,  2.91101583,\n        9.75890136,  1.20231284,  1.79904888,  0.40866211,  1.92855546,\n        6.06748072,  2.90058778,  0.49860425,  4.76976202,  1.6716313 ,\n        3.94486996,  1.88578812, 14.41782414,  5.46589456,  0.57557327,\n        1.28460693])"
          },
          "metadata": {}
        }
      ],
      "execution_count": 6,
      "metadata": {
        "collapsed": true,
        "jupyter": {
          "source_hidden": false,
          "outputs_hidden": false
        },
        "nteract": {
          "transient": {
            "deleting": false
          }
        },
        "execution": {
          "iopub.status.busy": "2021-07-03T03:16:32.326Z",
          "iopub.execute_input": "2021-07-03T03:16:32.330Z",
          "iopub.status.idle": "2021-07-03T03:16:32.338Z",
          "shell.execute_reply": "2021-07-03T03:16:32.440Z"
        }
      }
    },
    {
      "cell_type": "code",
      "source": [
        "dataset = dataset.reset_index(drop=True)"
      ],
      "outputs": [],
      "execution_count": 7,
      "metadata": {
        "collapsed": true,
        "jupyter": {
          "source_hidden": false,
          "outputs_hidden": false
        },
        "nteract": {
          "transient": {
            "deleting": false
          }
        },
        "execution": {
          "iopub.status.busy": "2021-07-03T03:16:32.343Z",
          "iopub.execute_input": "2021-07-03T03:16:32.346Z",
          "iopub.status.idle": "2021-07-03T03:16:32.352Z",
          "shell.execute_reply": "2021-07-03T03:16:32.442Z"
        }
      }
    },
    {
      "cell_type": "code",
      "source": [
        "dataset.head()"
      ],
      "outputs": [
        {
          "output_type": "execute_result",
          "execution_count": 8,
          "data": {
            "text/plain": "    Open   High    Low  Close\n0  10.42  11.02  10.34  10.98\n1  11.61  12.14  11.36  11.55\n2  12.10  12.43  11.97  12.12\n3  12.19  12.22  11.66  11.88\n4  12.01  12.30  11.85  12.28",
            "text/html": "<div>\n<style scoped>\n    .dataframe tbody tr th:only-of-type {\n        vertical-align: middle;\n    }\n\n    .dataframe tbody tr th {\n        vertical-align: top;\n    }\n\n    .dataframe thead th {\n        text-align: right;\n    }\n</style>\n<table border=\"1\" class=\"dataframe\">\n  <thead>\n    <tr style=\"text-align: right;\">\n      <th></th>\n      <th>Open</th>\n      <th>High</th>\n      <th>Low</th>\n      <th>Close</th>\n    </tr>\n  </thead>\n  <tbody>\n    <tr>\n      <th>0</th>\n      <td>10.42</td>\n      <td>11.02</td>\n      <td>10.34</td>\n      <td>10.98</td>\n    </tr>\n    <tr>\n      <th>1</th>\n      <td>11.61</td>\n      <td>12.14</td>\n      <td>11.36</td>\n      <td>11.55</td>\n    </tr>\n    <tr>\n      <th>2</th>\n      <td>12.10</td>\n      <td>12.43</td>\n      <td>11.97</td>\n      <td>12.12</td>\n    </tr>\n    <tr>\n      <th>3</th>\n      <td>12.19</td>\n      <td>12.22</td>\n      <td>11.66</td>\n      <td>11.88</td>\n    </tr>\n    <tr>\n      <th>4</th>\n      <td>12.01</td>\n      <td>12.30</td>\n      <td>11.85</td>\n      <td>12.28</td>\n    </tr>\n  </tbody>\n</table>\n</div>"
          },
          "metadata": {}
        }
      ],
      "execution_count": 8,
      "metadata": {
        "collapsed": true,
        "jupyter": {
          "source_hidden": false,
          "outputs_hidden": false
        },
        "nteract": {
          "transient": {
            "deleting": false
          }
        },
        "execution": {
          "iopub.status.busy": "2021-07-03T03:16:32.358Z",
          "iopub.execute_input": "2021-07-03T03:16:32.362Z",
          "shell.execute_reply": "2021-07-03T03:16:32.445Z",
          "iopub.status.idle": "2021-07-03T03:16:32.371Z"
        }
      }
    },
    {
      "cell_type": "code",
      "source": [
        "dataset['mahalanobis'] = mahalanobis_distance(x=dataset, data=dataset[['Open', 'High', 'Low', 'Close']])\n",
        "dataset.head()"
      ],
      "outputs": [
        {
          "output_type": "execute_result",
          "execution_count": 9,
          "data": {
            "text/plain": "    Open   High    Low  Close  mahalanobis\n0  10.42  11.02  10.34  10.98     2.343602\n1  11.61  12.14  11.36  11.55     2.443149\n2  12.10  12.43  11.97  12.12     1.000510\n3  12.19  12.22  11.66  11.88     1.218421\n4  12.01  12.30  11.85  12.28     1.007601",
            "text/html": "<div>\n<style scoped>\n    .dataframe tbody tr th:only-of-type {\n        vertical-align: middle;\n    }\n\n    .dataframe tbody tr th {\n        vertical-align: top;\n    }\n\n    .dataframe thead th {\n        text-align: right;\n    }\n</style>\n<table border=\"1\" class=\"dataframe\">\n  <thead>\n    <tr style=\"text-align: right;\">\n      <th></th>\n      <th>Open</th>\n      <th>High</th>\n      <th>Low</th>\n      <th>Close</th>\n      <th>mahalanobis</th>\n    </tr>\n  </thead>\n  <tbody>\n    <tr>\n      <th>0</th>\n      <td>10.42</td>\n      <td>11.02</td>\n      <td>10.34</td>\n      <td>10.98</td>\n      <td>2.343602</td>\n    </tr>\n    <tr>\n      <th>1</th>\n      <td>11.61</td>\n      <td>12.14</td>\n      <td>11.36</td>\n      <td>11.55</td>\n      <td>2.443149</td>\n    </tr>\n    <tr>\n      <th>2</th>\n      <td>12.10</td>\n      <td>12.43</td>\n      <td>11.97</td>\n      <td>12.12</td>\n      <td>1.000510</td>\n    </tr>\n    <tr>\n      <th>3</th>\n      <td>12.19</td>\n      <td>12.22</td>\n      <td>11.66</td>\n      <td>11.88</td>\n      <td>1.218421</td>\n    </tr>\n    <tr>\n      <th>4</th>\n      <td>12.01</td>\n      <td>12.30</td>\n      <td>11.85</td>\n      <td>12.28</td>\n      <td>1.007601</td>\n    </tr>\n  </tbody>\n</table>\n</div>"
          },
          "metadata": {}
        }
      ],
      "execution_count": 9,
      "metadata": {
        "collapsed": true,
        "jupyter": {
          "source_hidden": false,
          "outputs_hidden": false
        },
        "nteract": {
          "transient": {
            "deleting": false
          }
        },
        "execution": {
          "iopub.status.busy": "2021-07-03T03:16:32.376Z",
          "iopub.execute_input": "2021-07-03T03:16:32.380Z",
          "shell.execute_reply": "2021-07-03T03:16:32.447Z",
          "iopub.status.idle": "2021-07-03T03:16:32.388Z"
        }
      }
    },
    {
      "cell_type": "code",
      "source": [
        "dataset['p'] = 1 - chi2.cdf(dataset['mahalanobis'], 4)\n",
        "dataset.head()"
      ],
      "outputs": [
        {
          "output_type": "execute_result",
          "execution_count": 10,
          "data": {
            "text/plain": "    Open   High    Low  Close  mahalanobis         p\n0  10.42  11.02  10.34  10.98     2.343602  0.672842\n1  11.61  12.14  11.36  11.55     2.443149  0.654844\n2  12.10  12.43  11.97  12.12     1.000510  0.909719\n3  12.19  12.22  11.66  11.88     1.218421  0.875057\n4  12.01  12.30  11.85  12.28     1.007601  0.908641",
            "text/html": "<div>\n<style scoped>\n    .dataframe tbody tr th:only-of-type {\n        vertical-align: middle;\n    }\n\n    .dataframe tbody tr th {\n        vertical-align: top;\n    }\n\n    .dataframe thead th {\n        text-align: right;\n    }\n</style>\n<table border=\"1\" class=\"dataframe\">\n  <thead>\n    <tr style=\"text-align: right;\">\n      <th></th>\n      <th>Open</th>\n      <th>High</th>\n      <th>Low</th>\n      <th>Close</th>\n      <th>mahalanobis</th>\n      <th>p</th>\n    </tr>\n  </thead>\n  <tbody>\n    <tr>\n      <th>0</th>\n      <td>10.42</td>\n      <td>11.02</td>\n      <td>10.34</td>\n      <td>10.98</td>\n      <td>2.343602</td>\n      <td>0.672842</td>\n    </tr>\n    <tr>\n      <th>1</th>\n      <td>11.61</td>\n      <td>12.14</td>\n      <td>11.36</td>\n      <td>11.55</td>\n      <td>2.443149</td>\n      <td>0.654844</td>\n    </tr>\n    <tr>\n      <th>2</th>\n      <td>12.10</td>\n      <td>12.43</td>\n      <td>11.97</td>\n      <td>12.12</td>\n      <td>1.000510</td>\n      <td>0.909719</td>\n    </tr>\n    <tr>\n      <th>3</th>\n      <td>12.19</td>\n      <td>12.22</td>\n      <td>11.66</td>\n      <td>11.88</td>\n      <td>1.218421</td>\n      <td>0.875057</td>\n    </tr>\n    <tr>\n      <th>4</th>\n      <td>12.01</td>\n      <td>12.30</td>\n      <td>11.85</td>\n      <td>12.28</td>\n      <td>1.007601</td>\n      <td>0.908641</td>\n    </tr>\n  </tbody>\n</table>\n</div>"
          },
          "metadata": {}
        }
      ],
      "execution_count": 10,
      "metadata": {
        "collapsed": true,
        "jupyter": {
          "source_hidden": false,
          "outputs_hidden": false
        },
        "nteract": {
          "transient": {
            "deleting": false
          }
        },
        "execution": {
          "iopub.status.busy": "2021-07-03T03:16:32.395Z",
          "iopub.execute_input": "2021-07-03T03:16:32.399Z",
          "shell.execute_reply": "2021-07-03T03:16:32.449Z",
          "iopub.status.idle": "2021-07-03T03:16:32.406Z"
        }
      }
    }
  ],
  "metadata": {
    "kernel_info": {
      "name": "python3"
    },
    "language_info": {
      "name": "python",
      "version": "3.6.12",
      "mimetype": "text/x-python",
      "codemirror_mode": {
        "name": "ipython",
        "version": 3
      },
      "pygments_lexer": "ipython3",
      "nbconvert_exporter": "python",
      "file_extension": ".py"
    },
    "kernelspec": {
      "argv": [
        "C:/Users/Tin Hang/Anaconda3\\python.exe",
        "-m",
        "ipykernel_launcher",
        "-f",
        "{connection_file}"
      ],
      "display_name": "Python 3",
      "language": "python",
      "name": "python3"
    },
    "nteract": {
      "version": "0.28.0"
    }
  },
  "nbformat": 4,
  "nbformat_minor": 0
}