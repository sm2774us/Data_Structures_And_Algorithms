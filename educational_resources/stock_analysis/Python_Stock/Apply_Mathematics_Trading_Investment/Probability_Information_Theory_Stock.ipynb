{
  "cells": [
    {
      "cell_type": "markdown",
      "source": [
        "# Probability & Information Theory"
      ],
      "metadata": {
        "nteract": {
          "transient": {
            "deleting": false
          }
        }
      }
    },
    {
      "cell_type": "markdown",
      "source": [
        "http://egrcc.github.io/docs/dl/deeplearningbook-prob.pdf"
      ],
      "metadata": {
        "nteract": {
          "transient": {
            "deleting": false
          }
        }
      }
    },
    {
      "cell_type": "code",
      "source": [
        "import numpy as np\n",
        "import scipy.stats as st\n",
        "from math import factorial\n",
        "\n",
        "import matplotlib.pyplot as plt\n",
        "import seaborn as sns\n",
        "\n",
        "import warnings\n",
        "warnings.filterwarnings(\"ignore\") \n",
        "\n",
        "# yfinance is used to fetch data \n",
        "import yfinance as yf\n",
        "yf.pdr_override()"
      ],
      "outputs": [],
      "execution_count": 1,
      "metadata": {
        "collapsed": true,
        "jupyter": {
          "source_hidden": false,
          "outputs_hidden": false
        },
        "nteract": {
          "transient": {
            "deleting": false
          }
        },
        "execution": {
          "iopub.status.busy": "2022-05-21T02:34:19.419Z",
          "iopub.execute_input": "2022-05-21T02:34:19.434Z",
          "iopub.status.idle": "2022-05-21T02:34:19.449Z",
          "shell.execute_reply": "2022-05-21T02:34:19.321Z"
        }
      }
    },
    {
      "cell_type": "code",
      "source": [
        "symbol = 'AMD'\n",
        "\n",
        "start = '2020-01-01'\n",
        "end = '2022-01-01'\n",
        "\n",
        "# Read data \n",
        "dataset = yf.download(symbol,start,end)\n",
        "\n",
        "# View Columns\n",
        "dataset.head()"
      ],
      "outputs": [
        {
          "output_type": "stream",
          "name": "stdout",
          "text": [
            "[*********************100%***********************]  1 of 1 completed\n"
          ]
        },
        {
          "output_type": "execute_result",
          "execution_count": 2,
          "data": {
            "text/plain": "                 Open       High        Low      Close  Adj Close    Volume\nDate                                                                       \n2020-01-02  46.860001  49.250000  46.630001  49.099998  49.099998  80331100\n2020-01-03  48.029999  49.389999  47.540001  48.599998  48.599998  73127400\n2020-01-06  48.020000  48.860001  47.860001  48.389999  48.389999  47934900\n2020-01-07  49.349998  49.389999  48.040001  48.250000  48.250000  58061400\n2020-01-08  47.849998  48.299999  47.139999  47.830002  47.830002  53767000",
            "text/html": "<div>\n<style scoped>\n    .dataframe tbody tr th:only-of-type {\n        vertical-align: middle;\n    }\n\n    .dataframe tbody tr th {\n        vertical-align: top;\n    }\n\n    .dataframe thead th {\n        text-align: right;\n    }\n</style>\n<table border=\"1\" class=\"dataframe\">\n  <thead>\n    <tr style=\"text-align: right;\">\n      <th></th>\n      <th>Open</th>\n      <th>High</th>\n      <th>Low</th>\n      <th>Close</th>\n      <th>Adj Close</th>\n      <th>Volume</th>\n    </tr>\n    <tr>\n      <th>Date</th>\n      <th></th>\n      <th></th>\n      <th></th>\n      <th></th>\n      <th></th>\n      <th></th>\n    </tr>\n  </thead>\n  <tbody>\n    <tr>\n      <th>2020-01-02</th>\n      <td>46.860001</td>\n      <td>49.250000</td>\n      <td>46.630001</td>\n      <td>49.099998</td>\n      <td>49.099998</td>\n      <td>80331100</td>\n    </tr>\n    <tr>\n      <th>2020-01-03</th>\n      <td>48.029999</td>\n      <td>49.389999</td>\n      <td>47.540001</td>\n      <td>48.599998</td>\n      <td>48.599998</td>\n      <td>73127400</td>\n    </tr>\n    <tr>\n      <th>2020-01-06</th>\n      <td>48.020000</td>\n      <td>48.860001</td>\n      <td>47.860001</td>\n      <td>48.389999</td>\n      <td>48.389999</td>\n      <td>47934900</td>\n    </tr>\n    <tr>\n      <th>2020-01-07</th>\n      <td>49.349998</td>\n      <td>49.389999</td>\n      <td>48.040001</td>\n      <td>48.250000</td>\n      <td>48.250000</td>\n      <td>58061400</td>\n    </tr>\n    <tr>\n      <th>2020-01-08</th>\n      <td>47.849998</td>\n      <td>48.299999</td>\n      <td>47.139999</td>\n      <td>47.830002</td>\n      <td>47.830002</td>\n      <td>53767000</td>\n    </tr>\n  </tbody>\n</table>\n</div>"
          },
          "metadata": {}
        }
      ],
      "execution_count": 2,
      "metadata": {
        "collapsed": true,
        "jupyter": {
          "source_hidden": false,
          "outputs_hidden": false
        },
        "nteract": {
          "transient": {
            "deleting": false
          }
        },
        "execution": {
          "iopub.status.busy": "2022-05-21T02:34:19.472Z",
          "iopub.execute_input": "2022-05-21T02:34:19.486Z",
          "iopub.status.idle": "2022-05-21T02:34:20.043Z",
          "shell.execute_reply": "2022-05-21T02:34:24.157Z"
        }
      }
    },
    {
      "cell_type": "code",
      "source": [
        "dataset['Returns'] = dataset['Adj Close'].pct_change() "
      ],
      "outputs": [],
      "execution_count": 3,
      "metadata": {
        "collapsed": true,
        "jupyter": {
          "source_hidden": false,
          "outputs_hidden": false
        },
        "nteract": {
          "transient": {
            "deleting": false
          }
        },
        "execution": {
          "iopub.status.busy": "2022-05-21T02:34:20.065Z",
          "iopub.execute_input": "2022-05-21T02:34:20.079Z",
          "iopub.status.idle": "2022-05-21T02:34:20.102Z",
          "shell.execute_reply": "2022-05-21T02:34:24.166Z"
        }
      }
    },
    {
      "cell_type": "code",
      "source": [
        "dataset['Returns'] = dataset['Adj Close'].dropna()"
      ],
      "outputs": [],
      "execution_count": 4,
      "metadata": {
        "collapsed": true,
        "jupyter": {
          "source_hidden": false,
          "outputs_hidden": false
        },
        "nteract": {
          "transient": {
            "deleting": false
          }
        },
        "execution": {
          "iopub.status.busy": "2022-05-21T02:34:20.126Z",
          "iopub.execute_input": "2022-05-21T02:34:20.140Z",
          "iopub.status.idle": "2022-05-21T02:34:20.162Z",
          "shell.execute_reply": "2022-05-21T02:34:24.173Z"
        }
      }
    },
    {
      "cell_type": "code",
      "source": [
        "Returns = np.array(dataset['Returns'])\n",
        "Open = np.array(dataset['Open'])\n",
        "Close = np.array(dataset['Adj Close'])\n",
        "High = np.array(dataset['High'])\n",
        "Low = np.array(dataset['Low'])"
      ],
      "outputs": [],
      "execution_count": 5,
      "metadata": {
        "collapsed": true,
        "jupyter": {
          "source_hidden": false,
          "outputs_hidden": false
        },
        "nteract": {
          "transient": {
            "deleting": false
          }
        },
        "execution": {
          "iopub.status.busy": "2022-05-21T02:34:20.184Z",
          "iopub.execute_input": "2022-05-21T02:34:20.199Z",
          "iopub.status.idle": "2022-05-21T02:34:20.221Z",
          "shell.execute_reply": "2022-05-21T02:34:24.182Z"
        }
      }
    },
    {
      "cell_type": "markdown",
      "source": [
        "# 52 Cards in a Set"
      ],
      "metadata": {
        "nteract": {
          "transient": {
            "deleting": false
          }
        }
      }
    },
    {
      "cell_type": "markdown",
      "source": [
        "#### There are 13 cards of each suit, consisting of 1 Ace, 3 face cards, and 9 number cards. There are 4 Aces, 12 face cards, and 36 number cards in a 52 card deck. The number of spades, hearts, diamonds, and clubs is same in every pack of 52 cards."
      ],
      "metadata": {
        "nteract": {
          "transient": {
            "deleting": false
          }
        }
      }
    },
    {
      "cell_type": "code",
      "source": [
        "# Number of cards\n",
        "cards = 52 \n",
        "# Outcomes (Number of Aces)\n",
        "aces = 4\n",
        "# Divide possible outcomes by the Number of Cards \n",
        "ace_probability = aces / cards\n",
        "# Print probability rounded to two decimal places\n",
        "ace_probability_percent = ace_probability * 100\n",
        "print(str(round(ace_probability_percent, 0)) + '%')"
      ],
      "outputs": [
        {
          "output_type": "stream",
          "name": "stdout",
          "text": [
            "8.0%\n"
          ]
        }
      ],
      "execution_count": 6,
      "metadata": {
        "collapsed": true,
        "jupyter": {
          "source_hidden": false,
          "outputs_hidden": false
        },
        "nteract": {
          "transient": {
            "deleting": false
          }
        },
        "execution": {
          "iopub.status.busy": "2022-05-21T02:34:20.242Z",
          "iopub.execute_input": "2022-05-21T02:34:20.257Z",
          "iopub.status.idle": "2022-05-21T02:34:20.287Z",
          "shell.execute_reply": "2022-05-21T02:34:24.189Z"
        }
      }
    },
    {
      "cell_type": "markdown",
      "source": [
        "## Apply Stock data to probability"
      ],
      "metadata": {
        "nteract": {
          "transient": {
            "deleting": false
          }
        }
      }
    },
    {
      "cell_type": "code",
      "source": [
        "import collections\n",
        "\n",
        "print([item for item, count in collections.Counter(Close).items() if count > 1])\n"
      ],
      "outputs": [
        {
          "output_type": "stream",
          "name": "stdout",
          "text": [
            "[53.79999923706055, 45.47999954223633, 52.38999938964844, 53.189998626708984, 56.38999938964844, 85.30999755859375, 86.70999908447266, 81.83999633789062, 82.41999816894531, 81.08999633789062, 82.54000091552734, 78.05999755859375, 81.55999755859375, 81.3499984741211, 81.43000030517578, 92.66000366210938, 79.05999755859375, 82.76000213623047, 78.55000305175781, 106.1500015258789]\n"
          ]
        }
      ],
      "execution_count": 7,
      "metadata": {
        "collapsed": true,
        "jupyter": {
          "source_hidden": false,
          "outputs_hidden": false
        },
        "nteract": {
          "transient": {
            "deleting": false
          }
        },
        "execution": {
          "iopub.status.busy": "2022-05-21T02:34:20.309Z",
          "iopub.execute_input": "2022-05-21T02:34:20.323Z",
          "iopub.status.idle": "2022-05-21T02:34:20.352Z",
          "shell.execute_reply": "2022-05-21T02:34:24.198Z"
        }
      }
    },
    {
      "cell_type": "code",
      "source": [
        "def event_probability(event_outcomes, sample_space):\n",
        "    probability = (event_outcomes / sample_space) * 100\n",
        "    return round(probability, 1)"
      ],
      "outputs": [],
      "execution_count": 8,
      "metadata": {
        "collapsed": true,
        "jupyter": {
          "source_hidden": false,
          "outputs_hidden": false
        },
        "nteract": {
          "transient": {
            "deleting": false
          }
        },
        "execution": {
          "iopub.status.busy": "2022-05-21T02:34:20.373Z",
          "iopub.execute_input": "2022-05-21T02:34:20.387Z",
          "iopub.status.idle": "2022-05-21T02:34:20.410Z",
          "shell.execute_reply": "2022-05-21T02:34:24.205Z"
        }
      }
    },
    {
      "cell_type": "code",
      "source": [
        "# Sample Space\n",
        "stock_data = len(Close)\n",
        "\n",
        "# Determine the probability of drawing a particular number\n",
        "lowest = 45.47999954223633\n",
        "lowest_probability = event_probability(lowest,stock_data)\n",
        "\n",
        "# Determine the probability of drawing a particular number\n",
        "middle = 81.83999633789062\n",
        "middle_probability = event_probability(middle, stock_data)\n",
        "\n",
        "# Determine the probability of drawing a particular number\n",
        "highest = 106.1500015258789\n",
        "highest_probability = event_probability(highest, stock_data)\n",
        "\n",
        "# Print each probability\n",
        "print(str(lowest_probability) + '%')\n",
        "print(str(middle_probability) + '%')\n",
        "print(str(highest_probability) + '%')"
      ],
      "outputs": [
        {
          "output_type": "stream",
          "name": "stdout",
          "text": [
            "9.0%\n",
            "16.2%\n",
            "21.0%\n"
          ]
        }
      ],
      "execution_count": 9,
      "metadata": {
        "collapsed": true,
        "jupyter": {
          "source_hidden": false,
          "outputs_hidden": false
        },
        "nteract": {
          "transient": {
            "deleting": false
          }
        },
        "execution": {
          "iopub.status.busy": "2022-05-21T02:34:20.431Z",
          "iopub.execute_input": "2022-05-21T02:34:20.446Z",
          "iopub.status.idle": "2022-05-21T02:34:20.476Z",
          "shell.execute_reply": "2022-05-21T02:34:24.212Z"
        }
      }
    },
    {
      "cell_type": "code",
      "source": [
        "# Sample Space\n",
        "stock_data = len(Close)\n",
        "\n",
        "# Outcomes\n",
        "lowest = 45.47999954223633\n",
        "highest = 106.1500015258789\n",
        "\n",
        "# Probability of one red\n",
        "lowest_probability = lowest / stock_data\n",
        "highest_probability = highest / stock_data\n",
        "lowest_highest = lowest_probability * highest_probability\n",
        "\n",
        "# Lowest and Highest Probability Percent Code\n",
        "lowest_highest_probability_percent = lowest_highest * 100\n",
        "print(round(lowest_highest_probability_percent, 1))\n",
        "\n"
      ],
      "outputs": [
        {
          "output_type": "stream",
          "name": "stdout",
          "text": [
            "1.9\n"
          ]
        }
      ],
      "execution_count": 10,
      "metadata": {
        "collapsed": true,
        "jupyter": {
          "source_hidden": false,
          "outputs_hidden": false
        },
        "nteract": {
          "transient": {
            "deleting": false
          }
        },
        "execution": {
          "iopub.status.busy": "2022-05-21T02:34:20.498Z",
          "iopub.execute_input": "2022-05-21T02:34:20.514Z",
          "iopub.status.idle": "2022-05-21T02:34:20.545Z",
          "shell.execute_reply": "2022-05-21T02:34:24.220Z"
        }
      }
    },
    {
      "cell_type": "code",
      "source": [
        "lowest_probability"
      ],
      "outputs": [
        {
          "output_type": "execute_result",
          "execution_count": 11,
          "data": {
            "text/plain": "0.09005940503413135"
          },
          "metadata": {}
        }
      ],
      "execution_count": 11,
      "metadata": {
        "collapsed": true,
        "jupyter": {
          "source_hidden": false,
          "outputs_hidden": false
        },
        "nteract": {
          "transient": {
            "deleting": false
          }
        },
        "execution": {
          "iopub.status.busy": "2022-05-21T02:34:20.565Z",
          "iopub.execute_input": "2022-05-21T02:34:20.580Z",
          "iopub.status.idle": "2022-05-21T02:34:20.611Z",
          "shell.execute_reply": "2022-05-21T02:34:24.227Z"
        }
      }
    },
    {
      "cell_type": "code",
      "source": [
        "highest_probability"
      ],
      "outputs": [
        {
          "output_type": "execute_result",
          "execution_count": 12,
          "data": {
            "text/plain": "0.2101980228235226"
          },
          "metadata": {}
        }
      ],
      "execution_count": 12,
      "metadata": {
        "collapsed": true,
        "jupyter": {
          "source_hidden": false,
          "outputs_hidden": false
        },
        "nteract": {
          "transient": {
            "deleting": false
          }
        },
        "execution": {
          "iopub.status.busy": "2022-05-21T02:34:20.634Z",
          "iopub.execute_input": "2022-05-21T02:34:20.649Z",
          "iopub.status.idle": "2022-05-21T02:34:20.679Z",
          "shell.execute_reply": "2022-05-21T02:34:24.234Z"
        }
      }
    },
    {
      "cell_type": "markdown",
      "source": [
        "### Flip coins Probability"
      ],
      "metadata": {
        "nteract": {
          "transient": {
            "deleting": false
          }
        }
      }
    },
    {
      "cell_type": "markdown",
      "source": [
        "https://www.fourmilab.ch/rpkp/experiments/statistics.html"
      ],
      "metadata": {
        "nteract": {
          "transient": {
            "deleting": false
          }
        }
      }
    },
    {
      "cell_type": "code",
      "source": [
        "n = len(Close) \n",
        "get_sum = sum(Close) \n",
        "mean = get_sum / n \n",
        "print('Average:', mean)"
      ],
      "outputs": [
        {
          "output_type": "stream",
          "name": "stdout",
          "text": [
            "Average: 83.34762375331161\n"
          ]
        }
      ],
      "execution_count": 13,
      "metadata": {
        "collapsed": true,
        "jupyter": {
          "source_hidden": false,
          "outputs_hidden": false
        },
        "nteract": {
          "transient": {
            "deleting": false
          }
        },
        "execution": {
          "iopub.status.busy": "2022-05-21T02:34:20.700Z",
          "iopub.execute_input": "2022-05-21T02:34:20.713Z",
          "iopub.status.idle": "2022-05-21T02:34:20.740Z",
          "shell.execute_reply": "2022-05-21T02:34:24.241Z"
        }
      }
    },
    {
      "cell_type": "code",
      "source": [
        "Close.sort() \n",
        "if n % 2 == 0: \n",
        "    median1 = Close[n//2] \n",
        "    median2 = Close[n//2 - 1] \n",
        "    median = (median1 + median2)/2\n",
        "else: \n",
        "    median = Close[n//2] \n",
        "print('Median:', median)"
      ],
      "outputs": [
        {
          "output_type": "stream",
          "name": "stdout",
          "text": [
            "Median: 82.23999786376953\n"
          ]
        }
      ],
      "execution_count": 14,
      "metadata": {
        "collapsed": true,
        "jupyter": {
          "source_hidden": false,
          "outputs_hidden": false
        },
        "nteract": {
          "transient": {
            "deleting": false
          }
        },
        "execution": {
          "iopub.status.busy": "2022-05-21T02:34:20.763Z",
          "iopub.execute_input": "2022-05-21T02:34:20.777Z",
          "iopub.status.idle": "2022-05-21T02:34:20.807Z",
          "shell.execute_reply": "2022-05-21T02:34:24.248Z"
        }
      }
    },
    {
      "cell_type": "code",
      "source": [
        "\n",
        "from collections import Counter \n",
        "\n",
        "data = Counter(Close) \n",
        "get_mode = dict(data) \n",
        "for k,v in get_mode.items():\n",
        "    if v==max(list(data.values())):\n",
        "        mode = k\n",
        "print('Mode:', mode)      \n",
        "\n"
      ],
      "outputs": [
        {
          "output_type": "stream",
          "name": "stdout",
          "text": [
            "Mode: 106.1500015258789\n"
          ]
        }
      ],
      "execution_count": 15,
      "metadata": {
        "collapsed": true,
        "jupyter": {
          "source_hidden": false,
          "outputs_hidden": false
        },
        "nteract": {
          "transient": {
            "deleting": false
          }
        },
        "execution": {
          "iopub.status.busy": "2022-05-21T02:34:20.828Z",
          "iopub.execute_input": "2022-05-21T02:34:20.842Z",
          "iopub.status.idle": "2022-05-21T02:34:20.873Z",
          "shell.execute_reply": "2022-05-21T02:34:24.256Z"
        }
      }
    },
    {
      "cell_type": "code",
      "source": [
        "minimum = min(Close)\n",
        "maximum = max(Close)\n",
        "range_numbers = maximum - minimum\n",
        "print('Range Number:', range_numbers)"
      ],
      "outputs": [
        {
          "output_type": "stream",
          "name": "stdout",
          "text": [
            "Range Number: 123.20000457763672\n"
          ]
        }
      ],
      "execution_count": 16,
      "metadata": {
        "collapsed": true,
        "jupyter": {
          "source_hidden": false,
          "outputs_hidden": false
        },
        "nteract": {
          "transient": {
            "deleting": false
          }
        },
        "execution": {
          "iopub.status.busy": "2022-05-21T02:34:20.895Z",
          "iopub.execute_input": "2022-05-21T02:34:20.908Z",
          "iopub.status.idle": "2022-05-21T02:34:20.937Z",
          "shell.execute_reply": "2022-05-21T02:34:24.263Z"
        }
      }
    },
    {
      "cell_type": "code",
      "source": [
        "variance= np.var(Close)\n",
        "print('Variance:', variance)"
      ],
      "outputs": [
        {
          "output_type": "stream",
          "name": "stdout",
          "text": [
            "Variance: 734.095036534412\n"
          ]
        }
      ],
      "execution_count": 17,
      "metadata": {
        "collapsed": true,
        "jupyter": {
          "source_hidden": false,
          "outputs_hidden": false
        },
        "nteract": {
          "transient": {
            "deleting": false
          }
        },
        "execution": {
          "iopub.status.busy": "2022-05-21T02:34:20.959Z",
          "iopub.execute_input": "2022-05-21T02:34:20.974Z",
          "iopub.status.idle": "2022-05-21T02:34:21.006Z",
          "shell.execute_reply": "2022-05-21T02:34:24.272Z"
        }
      }
    },
    {
      "cell_type": "code",
      "source": [
        "std = np.sqrt(variance)\n",
        "print('Standard Deviation:', std)"
      ],
      "outputs": [
        {
          "output_type": "stream",
          "name": "stdout",
          "text": [
            "Standard Deviation: 27.094188242765494\n"
          ]
        }
      ],
      "execution_count": 18,
      "metadata": {
        "collapsed": true,
        "jupyter": {
          "source_hidden": false,
          "outputs_hidden": false
        },
        "nteract": {
          "transient": {
            "deleting": false
          }
        },
        "execution": {
          "iopub.status.busy": "2022-05-21T02:34:21.030Z",
          "iopub.execute_input": "2022-05-21T02:34:21.043Z",
          "iopub.status.idle": "2022-05-21T02:34:21.073Z",
          "shell.execute_reply": "2022-05-21T02:34:24.279Z"
        }
      }
    },
    {
      "cell_type": "code",
      "source": [
        "# Common Stock Number\n",
        "\n",
        "num = np.array([53.79999923706055, 45.47999954223633, 52.38999938964844, 53.189998626708984, 56.38999938964844, 85.30999755859375, 86.70999908447266, 81.83999633789062, 82.41999816894531, 81.08999633789062, 82.54000091552734, 78.05999755859375, 81.55999755859375, 81.3499984741211, 81.43000030517578, 92.66000366210938, 79.05999755859375, 82.76000213623047, 78.55000305175781, 106.1500015258789])"
      ],
      "outputs": [],
      "execution_count": 19,
      "metadata": {
        "collapsed": true,
        "jupyter": {
          "source_hidden": false,
          "outputs_hidden": false
        },
        "nteract": {
          "transient": {
            "deleting": false
          }
        },
        "execution": {
          "iopub.status.busy": "2022-05-21T02:34:21.093Z",
          "iopub.execute_input": "2022-05-21T02:34:21.106Z",
          "iopub.status.idle": "2022-05-21T02:34:21.129Z",
          "shell.execute_reply": "2022-05-21T02:34:24.286Z"
        }
      }
    },
    {
      "cell_type": "code",
      "source": [
        "heads_count = [np.random.binomial(n, 0.5) for n in num]\n",
        "heads_count"
      ],
      "outputs": [
        {
          "output_type": "execute_result",
          "execution_count": 20,
          "data": {
            "text/plain": "[17,\n 22,\n 27,\n 21,\n 25,\n 40,\n 47,\n 40,\n 40,\n 47,\n 42,\n 32,\n 43,\n 44,\n 39,\n 39,\n 43,\n 46,\n 42,\n 52]"
          },
          "metadata": {}
        }
      ],
      "execution_count": 20,
      "metadata": {
        "collapsed": true,
        "jupyter": {
          "source_hidden": false,
          "outputs_hidden": false
        },
        "nteract": {
          "transient": {
            "deleting": false
          }
        },
        "execution": {
          "iopub.status.busy": "2022-05-21T02:34:21.151Z",
          "iopub.execute_input": "2022-05-21T02:34:21.164Z",
          "shell.execute_reply": "2022-05-21T02:34:24.293Z",
          "iopub.status.idle": "2022-05-21T02:34:21.191Z"
        }
      }
    },
    {
      "cell_type": "code",
      "source": [
        "proportion_heads = heads_count/num\n",
        "proportion_heads"
      ],
      "outputs": [
        {
          "output_type": "execute_result",
          "execution_count": 21,
          "data": {
            "text/plain": "array([0.31598513, 0.48372912, 0.51536553, 0.39481106, 0.44334102,\n       0.46887822, 0.54203668, 0.48875858, 0.48531911, 0.57960294,\n       0.50884419, 0.40994108, 0.52721924, 0.54087278, 0.47893896,\n       0.42089357, 0.54389073, 0.55582406, 0.53469126, 0.48987281])"
          },
          "metadata": {}
        }
      ],
      "execution_count": 21,
      "metadata": {
        "collapsed": true,
        "jupyter": {
          "source_hidden": false,
          "outputs_hidden": false
        },
        "nteract": {
          "transient": {
            "deleting": false
          }
        },
        "execution": {
          "iopub.status.busy": "2022-05-21T02:34:21.211Z",
          "iopub.execute_input": "2022-05-21T02:34:21.224Z",
          "iopub.status.idle": "2022-05-21T02:34:21.253Z",
          "shell.execute_reply": "2022-05-21T02:34:24.301Z"
        }
      }
    },
    {
      "cell_type": "code",
      "source": [
        "fig, ax = plt.subplots()\n",
        "plt.xlabel('Number of coin flips in experiment')\n",
        "plt.ylabel('Proportion of flips that are heads')\n",
        "plt.axhline(0.5, color='orange')\n",
        "_ = ax.scatter(num, proportion_heads)"
      ],
      "outputs": [
        {
          "output_type": "display_data",
          "data": {
            "text/plain": "<Figure size 432x288 with 1 Axes>",
            "image/png": "[encoded data removed]"
          },
          "metadata": {
            "needs_background": "light"
          }
        }
      ],
      "execution_count": 22,
      "metadata": {
        "collapsed": true,
        "jupyter": {
          "source_hidden": false,
          "outputs_hidden": false
        },
        "nteract": {
          "transient": {
            "deleting": false
          }
        },
        "execution": {
          "iopub.status.busy": "2022-05-21T02:34:21.275Z",
          "iopub.execute_input": "2022-05-21T02:34:21.290Z",
          "iopub.status.idle": "2022-05-21T02:34:21.320Z",
          "shell.execute_reply": "2022-05-21T02:34:24.309Z"
        }
      }
    },
    {
      "cell_type": "code",
      "source": [
        "n_experiments = 30 # times with stock data\n",
        "stock_count = np.random.binomial(max(Close), 0.5, n_experiments)"
      ],
      "outputs": [],
      "execution_count": 23,
      "metadata": {
        "collapsed": true,
        "jupyter": {
          "source_hidden": false,
          "outputs_hidden": false
        },
        "nteract": {
          "transient": {
            "deleting": false
          }
        },
        "execution": {
          "iopub.status.busy": "2022-05-21T02:34:21.340Z",
          "iopub.execute_input": "2022-05-21T02:34:21.354Z",
          "iopub.status.idle": "2022-05-21T02:34:21.376Z",
          "shell.execute_reply": "2022-05-21T02:34:24.316Z"
        }
      }
    },
    {
      "cell_type": "code",
      "source": [
        "stocks, event_count = np.unique(stock_count, return_counts=True)"
      ],
      "outputs": [],
      "execution_count": 24,
      "metadata": {
        "collapsed": true,
        "jupyter": {
          "source_hidden": false,
          "outputs_hidden": false
        },
        "nteract": {
          "transient": {
            "deleting": false
          }
        },
        "execution": {
          "iopub.status.busy": "2022-05-21T02:34:21.399Z",
          "iopub.execute_input": "2022-05-21T02:34:21.412Z",
          "iopub.status.idle": "2022-05-21T02:34:21.434Z",
          "shell.execute_reply": "2022-05-21T02:34:24.323Z"
        }
      }
    },
    {
      "cell_type": "code",
      "source": [
        "stocks"
      ],
      "outputs": [
        {
          "output_type": "execute_result",
          "execution_count": 25,
          "data": {
            "text/plain": "array([69, 70, 71, 72, 74, 75, 77, 78, 79, 80, 81, 84, 85, 86, 88, 93, 95])"
          },
          "metadata": {}
        }
      ],
      "execution_count": 25,
      "metadata": {
        "collapsed": true,
        "jupyter": {
          "source_hidden": false,
          "outputs_hidden": false
        },
        "nteract": {
          "transient": {
            "deleting": false
          }
        },
        "execution": {
          "iopub.status.busy": "2022-05-21T02:34:21.456Z",
          "iopub.execute_input": "2022-05-21T02:34:21.470Z",
          "iopub.status.idle": "2022-05-21T02:34:21.500Z",
          "shell.execute_reply": "2022-05-21T02:34:24.330Z"
        }
      }
    },
    {
      "cell_type": "code",
      "source": [
        "event_count"
      ],
      "outputs": [
        {
          "output_type": "execute_result",
          "execution_count": 26,
          "data": {
            "text/plain": "array([1, 2, 1, 1, 2, 2, 3, 2, 1, 4, 3, 1, 1, 2, 2, 1, 1], dtype=int64)"
          },
          "metadata": {}
        }
      ],
      "execution_count": 26,
      "metadata": {
        "collapsed": true,
        "jupyter": {
          "source_hidden": false,
          "outputs_hidden": false
        },
        "nteract": {
          "transient": {
            "deleting": false
          }
        },
        "execution": {
          "iopub.status.busy": "2022-05-21T02:34:21.521Z",
          "iopub.execute_input": "2022-05-21T02:34:21.534Z",
          "iopub.status.idle": "2022-05-21T02:34:21.562Z",
          "shell.execute_reply": "2022-05-21T02:34:24.338Z"
        }
      }
    },
    {
      "cell_type": "code",
      "source": [
        "event_proba = event_count/n_experiments\n",
        "event_proba\n",
        "\n"
      ],
      "outputs": [
        {
          "output_type": "execute_result",
          "execution_count": 27,
          "data": {
            "text/plain": "array([0.03333333, 0.06666667, 0.03333333, 0.03333333, 0.06666667,\n       0.06666667, 0.1       , 0.06666667, 0.03333333, 0.13333333,\n       0.1       , 0.03333333, 0.03333333, 0.06666667, 0.06666667,\n       0.03333333, 0.03333333])"
          },
          "metadata": {}
        }
      ],
      "execution_count": 27,
      "metadata": {
        "collapsed": true,
        "jupyter": {
          "source_hidden": false,
          "outputs_hidden": false
        },
        "nteract": {
          "transient": {
            "deleting": false
          }
        },
        "execution": {
          "iopub.status.busy": "2022-05-21T02:34:21.583Z",
          "iopub.execute_input": "2022-05-21T02:34:21.598Z",
          "iopub.status.idle": "2022-05-21T02:34:21.628Z",
          "shell.execute_reply": "2022-05-21T02:34:24.346Z"
        }
      }
    },
    {
      "cell_type": "code",
      "source": [
        "plt.bar(stocks, event_proba, color='blue')\n",
        "plt.xlabel('Stock(out of # tosses)')\n",
        "plt.ylabel('Event probability')\n",
        "plt.title('Number of probability')"
      ],
      "outputs": [
        {
          "output_type": "execute_result",
          "execution_count": 28,
          "data": {
            "text/plain": "Text(0.5, 1.0, 'Number of probability')"
          },
          "metadata": {}
        },
        {
          "output_type": "display_data",
          "data": {
            "text/plain": "<Figure size 432x288 with 1 Axes>",
            "image/png": "[encoded data removed]"
          },
          "metadata": {
            "needs_background": "light"
          }
        }
      ],
      "execution_count": 28,
      "metadata": {
        "collapsed": true,
        "jupyter": {
          "source_hidden": false,
          "outputs_hidden": false
        },
        "nteract": {
          "transient": {
            "deleting": false
          }
        },
        "execution": {
          "iopub.status.busy": "2022-05-21T02:34:21.650Z",
          "iopub.execute_input": "2022-05-21T02:34:21.663Z",
          "iopub.status.idle": "2022-05-21T02:34:21.698Z",
          "shell.execute_reply": "2022-05-21T02:34:24.353Z"
        }
      }
    },
    {
      "cell_type": "code",
      "source": [
        "x = st.skewnorm.rvs(Close, size=len(Close)) "
      ],
      "outputs": [],
      "execution_count": 29,
      "metadata": {
        "collapsed": true,
        "jupyter": {
          "source_hidden": false,
          "outputs_hidden": false
        },
        "nteract": {
          "transient": {
            "deleting": false
          }
        },
        "execution": {
          "iopub.status.busy": "2022-05-21T02:34:21.719Z",
          "iopub.execute_input": "2022-05-21T02:34:21.732Z",
          "iopub.status.idle": "2022-05-21T02:34:21.753Z",
          "shell.execute_reply": "2022-05-21T02:34:24.361Z"
        }
      }
    },
    {
      "cell_type": "code",
      "source": [
        "fig, ax = plt.subplots()\n",
        "plt.axvline(x = np.mean(x), color='orange')\n",
        "_ = plt.hist(x, color = 'lightgray')"
      ],
      "outputs": [
        {
          "output_type": "display_data",
          "data": {
            "text/plain": "<Figure size 432x288 with 1 Axes>",
            "image/png": "[encoded data removed]"
          },
          "metadata": {
            "needs_background": "light"
          }
        }
      ],
      "execution_count": 30,
      "metadata": {
        "collapsed": true,
        "jupyter": {
          "source_hidden": false,
          "outputs_hidden": false
        },
        "nteract": {
          "transient": {
            "deleting": false
          }
        },
        "execution": {
          "iopub.status.busy": "2022-05-21T02:34:21.775Z",
          "iopub.execute_input": "2022-05-21T02:34:21.788Z",
          "iopub.status.idle": "2022-05-21T02:34:21.818Z",
          "shell.execute_reply": "2022-05-21T02:34:24.369Z"
        }
      }
    },
    {
      "cell_type": "code",
      "source": [
        "fig, ax = plt.subplots()\n",
        "plt.axvline(x = np.mean(x), color='orange')\n",
        "plt.axvline(x = np.median(x), color='green')\n",
        "_ = plt.hist(x, color = 'lightgray')\n",
        "\n"
      ],
      "outputs": [
        {
          "output_type": "display_data",
          "data": {
            "text/plain": "<Figure size 432x288 with 1 Axes>",
            "image/png": "[encoded data removed]"
          },
          "metadata": {
            "needs_background": "light"
          }
        }
      ],
      "execution_count": 31,
      "metadata": {
        "collapsed": true,
        "jupyter": {
          "source_hidden": false,
          "outputs_hidden": false
        },
        "nteract": {
          "transient": {
            "deleting": false
          }
        },
        "execution": {
          "iopub.status.busy": "2022-05-21T02:34:21.838Z",
          "iopub.execute_input": "2022-05-21T02:34:21.851Z",
          "iopub.status.idle": "2022-05-21T02:34:21.884Z",
          "shell.execute_reply": "2022-05-21T02:34:24.377Z"
        }
      }
    },
    {
      "cell_type": "markdown",
      "source": [
        "### Quantiles"
      ],
      "metadata": {
        "nteract": {
          "transient": {
            "deleting": false
          }
        }
      }
    },
    {
      "cell_type": "code",
      "source": [
        "np.median(x)\n",
        "\n"
      ],
      "outputs": [
        {
          "output_type": "execute_result",
          "execution_count": 32,
          "data": {
            "text/plain": "0.6399907852948225"
          },
          "metadata": {}
        }
      ],
      "execution_count": 32,
      "metadata": {
        "collapsed": true,
        "jupyter": {
          "source_hidden": false,
          "outputs_hidden": false
        },
        "nteract": {
          "transient": {
            "deleting": false
          }
        },
        "execution": {
          "iopub.status.busy": "2022-05-21T02:34:21.923Z",
          "iopub.execute_input": "2022-05-21T02:34:21.937Z",
          "iopub.status.idle": "2022-05-21T02:34:21.968Z",
          "shell.execute_reply": "2022-05-21T02:34:24.385Z"
        }
      }
    },
    {
      "cell_type": "code",
      "source": [
        "np.quantile(x, 0.5)\n"
      ],
      "outputs": [
        {
          "output_type": "execute_result",
          "execution_count": 33,
          "data": {
            "text/plain": "0.6399907852948225"
          },
          "metadata": {}
        }
      ],
      "execution_count": 33,
      "metadata": {
        "collapsed": true,
        "jupyter": {
          "source_hidden": false,
          "outputs_hidden": false
        },
        "nteract": {
          "transient": {
            "deleting": false
          }
        },
        "execution": {
          "iopub.status.busy": "2022-05-21T02:34:21.989Z",
          "iopub.execute_input": "2022-05-21T02:34:22.004Z",
          "iopub.status.idle": "2022-05-21T02:34:22.035Z",
          "shell.execute_reply": "2022-05-21T02:34:24.393Z"
        }
      }
    },
    {
      "cell_type": "markdown",
      "source": [
        "### Percentiles"
      ],
      "metadata": {
        "nteract": {
          "transient": {
            "deleting": false
          }
        }
      }
    },
    {
      "cell_type": "code",
      "source": [
        "p = np.percentile(x, [95, 99])\n",
        "p"
      ],
      "outputs": [
        {
          "output_type": "execute_result",
          "execution_count": 34,
          "data": {
            "text/plain": "array([1.94402671, 2.30093588])"
          },
          "metadata": {}
        }
      ],
      "execution_count": 34,
      "metadata": {
        "collapsed": true,
        "jupyter": {
          "source_hidden": false,
          "outputs_hidden": false
        },
        "nteract": {
          "transient": {
            "deleting": false
          }
        },
        "execution": {
          "iopub.status.busy": "2022-05-21T02:34:22.057Z",
          "iopub.execute_input": "2022-05-21T02:34:22.072Z",
          "iopub.status.idle": "2022-05-21T02:34:22.102Z",
          "shell.execute_reply": "2022-05-21T02:34:24.400Z"
        }
      }
    },
    {
      "cell_type": "code",
      "source": [
        "fig, ax = plt.subplots()\n",
        "plt.axvline(x = p[0], color='orange')\n",
        "plt.axvline(x = p[1], color='red')\n",
        "_ = plt.hist(x, color = 'lightgray')"
      ],
      "outputs": [
        {
          "output_type": "display_data",
          "data": {
            "text/plain": "<Figure size 432x288 with 1 Axes>",
            "image/png": "[encoded data removed]"
          },
          "metadata": {
            "needs_background": "light"
          }
        }
      ],
      "execution_count": 35,
      "metadata": {
        "collapsed": true,
        "jupyter": {
          "source_hidden": false,
          "outputs_hidden": false
        },
        "nteract": {
          "transient": {
            "deleting": false
          }
        },
        "execution": {
          "iopub.status.busy": "2022-05-21T02:34:22.125Z",
          "iopub.execute_input": "2022-05-21T02:34:22.140Z",
          "iopub.status.idle": "2022-05-21T02:34:22.171Z",
          "shell.execute_reply": "2022-05-21T02:34:24.408Z"
        }
      }
    },
    {
      "cell_type": "code",
      "source": [
        "np.quantile(x, [.95, .99])"
      ],
      "outputs": [
        {
          "output_type": "execute_result",
          "execution_count": 36,
          "data": {
            "text/plain": "array([1.94402671, 2.30093588])"
          },
          "metadata": {}
        }
      ],
      "execution_count": 36,
      "metadata": {
        "collapsed": true,
        "jupyter": {
          "source_hidden": false,
          "outputs_hidden": false
        },
        "nteract": {
          "transient": {
            "deleting": false
          }
        },
        "execution": {
          "iopub.status.busy": "2022-05-21T02:34:22.194Z",
          "iopub.execute_input": "2022-05-21T02:34:22.209Z",
          "iopub.status.idle": "2022-05-21T02:34:22.237Z",
          "shell.execute_reply": "2022-05-21T02:34:24.415Z"
        }
      }
    },
    {
      "cell_type": "code",
      "source": [
        "q = np.percentile(x, [25, 50, 75])\n",
        "q"
      ],
      "outputs": [
        {
          "output_type": "execute_result",
          "execution_count": 37,
          "data": {
            "text/plain": "array([0.31207158, 0.63999079, 1.10079153])"
          },
          "metadata": {}
        }
      ],
      "execution_count": 37,
      "metadata": {
        "collapsed": true,
        "jupyter": {
          "source_hidden": false,
          "outputs_hidden": false
        },
        "nteract": {
          "transient": {
            "deleting": false
          }
        },
        "execution": {
          "iopub.status.busy": "2022-05-21T02:34:22.257Z",
          "iopub.execute_input": "2022-05-21T02:34:22.271Z",
          "iopub.status.idle": "2022-05-21T02:34:22.300Z",
          "shell.execute_reply": "2022-05-21T02:34:24.423Z"
        }
      }
    },
    {
      "cell_type": "code",
      "source": [
        "fig, ax = plt.subplots()\n",
        "plt.axvline(x = q[0], color='cornflowerblue')\n",
        "plt.axvline(x = q[1], color='green')\n",
        "plt.axvline(x = q[2], color='cornflowerblue')\n",
        "_ = plt.hist(x, color = 'lightgray')"
      ],
      "outputs": [
        {
          "output_type": "display_data",
          "data": {
            "text/plain": "<Figure size 432x288 with 1 Axes>",
            "image/png": "[encoded data removed]"
          },
          "metadata": {
            "needs_background": "light"
          }
        }
      ],
      "execution_count": 38,
      "metadata": {
        "collapsed": true,
        "jupyter": {
          "source_hidden": false,
          "outputs_hidden": false
        },
        "nteract": {
          "transient": {
            "deleting": false
          }
        },
        "execution": {
          "iopub.status.busy": "2022-05-21T02:34:22.320Z",
          "iopub.execute_input": "2022-05-21T02:34:22.334Z",
          "iopub.status.idle": "2022-05-21T02:34:22.361Z",
          "shell.execute_reply": "2022-05-21T02:34:24.430Z"
        }
      }
    },
    {
      "cell_type": "code",
      "source": [
        "### Deciles"
      ],
      "outputs": [],
      "execution_count": 39,
      "metadata": {
        "collapsed": true,
        "jupyter": {
          "source_hidden": false,
          "outputs_hidden": false
        },
        "nteract": {
          "transient": {
            "deleting": false
          }
        },
        "execution": {
          "shell.execute_reply": "2022-05-21T02:34:24.437Z",
          "iopub.status.busy": "2022-05-21T02:34:22.382Z",
          "iopub.execute_input": "2022-05-21T02:34:22.394Z",
          "iopub.status.idle": "2022-05-21T02:34:22.416Z"
        }
      }
    },
    {
      "cell_type": "code",
      "source": [
        "d = np.percentile(x, range(10, 100, 10))\n",
        "d"
      ],
      "outputs": [
        {
          "output_type": "execute_result",
          "execution_count": 40,
          "data": {
            "text/plain": "array([0.14046903, 0.25829002, 0.36494325, 0.51222845, 0.63999079,\n       0.82923828, 1.01515895, 1.22400618, 1.59131215])"
          },
          "metadata": {}
        }
      ],
      "execution_count": 40,
      "metadata": {
        "collapsed": true,
        "jupyter": {
          "source_hidden": false,
          "outputs_hidden": false
        },
        "nteract": {
          "transient": {
            "deleting": false
          }
        },
        "execution": {
          "iopub.status.busy": "2022-05-21T02:34:22.436Z",
          "iopub.execute_input": "2022-05-21T02:34:22.449Z",
          "iopub.status.idle": "2022-05-21T02:34:22.477Z",
          "shell.execute_reply": "2022-05-21T02:34:24.444Z"
        }
      }
    },
    {
      "cell_type": "code",
      "source": [
        "fig, ax = plt.subplots()\n",
        "[plt.axvline(x = d_i, color='cornflowerblue') for d_i in d]\n",
        "_ = plt.hist(x, color = 'lightgray')\n"
      ],
      "outputs": [
        {
          "output_type": "display_data",
          "data": {
            "text/plain": "<Figure size 432x288 with 1 Axes>",
            "image/png": "[encoded data removed]"
          },
          "metadata": {
            "needs_background": "light"
          }
        }
      ],
      "execution_count": 41,
      "metadata": {
        "collapsed": true,
        "jupyter": {
          "source_hidden": false,
          "outputs_hidden": false
        },
        "nteract": {
          "transient": {
            "deleting": false
          }
        },
        "execution": {
          "iopub.status.busy": "2022-05-21T02:34:22.497Z",
          "iopub.execute_input": "2022-05-21T02:34:22.510Z",
          "shell.execute_reply": "2022-05-21T02:34:24.451Z",
          "iopub.status.idle": "2022-05-21T02:34:22.538Z"
        }
      }
    },
    {
      "cell_type": "markdown",
      "source": [
        "### Box-and-Whisker Plot"
      ],
      "metadata": {
        "nteract": {
          "transient": {
            "deleting": false
          }
        }
      }
    },
    {
      "cell_type": "code",
      "source": [
        "sns.boxplot(x=x)"
      ],
      "outputs": [
        {
          "output_type": "execute_result",
          "execution_count": 42,
          "data": {
            "text/plain": "<AxesSubplot:>"
          },
          "metadata": {}
        },
        {
          "output_type": "display_data",
          "data": {
            "text/plain": "<Figure size 432x288 with 1 Axes>",
            "image/png": "[encoded data removed]"
          },
          "metadata": {
            "needs_background": "light"
          }
        }
      ],
      "execution_count": 42,
      "metadata": {
        "collapsed": true,
        "jupyter": {
          "source_hidden": false,
          "outputs_hidden": false
        },
        "nteract": {
          "transient": {
            "deleting": false
          }
        },
        "execution": {
          "iopub.status.busy": "2022-05-21T02:34:22.559Z",
          "iopub.execute_input": "2022-05-21T02:34:22.572Z",
          "shell.execute_reply": "2022-05-21T02:34:24.458Z",
          "iopub.status.idle": "2022-05-21T02:34:22.609Z"
        }
      }
    },
    {
      "cell_type": "markdown",
      "source": [
        "### Box edges and median are determined by quartiles"
      ],
      "metadata": {
        "nteract": {
          "transient": {
            "deleting": false
          }
        }
      }
    },
    {
      "cell_type": "code",
      "source": [
        "# Box edges define the inter-quartile range (IQR)\n",
        "r = max(q) - min(q)\n",
        "r"
      ],
      "outputs": [
        {
          "output_type": "execute_result",
          "execution_count": 43,
          "data": {
            "text/plain": "0.788719954777603"
          },
          "metadata": {}
        }
      ],
      "execution_count": 43,
      "metadata": {
        "collapsed": true,
        "jupyter": {
          "source_hidden": false,
          "outputs_hidden": false
        },
        "nteract": {
          "transient": {
            "deleting": false
          }
        },
        "execution": {
          "iopub.status.busy": "2022-05-21T02:34:22.629Z",
          "iopub.execute_input": "2022-05-21T02:34:22.643Z",
          "iopub.status.idle": "2022-05-21T02:34:22.669Z",
          "shell.execute_reply": "2022-05-21T02:34:24.466Z"
        }
      }
    },
    {
      "cell_type": "code",
      "source": [
        "# 1.5 x IQR\n",
        "min(q) - 1.5*r"
      ],
      "outputs": [
        {
          "output_type": "execute_result",
          "execution_count": 44,
          "data": {
            "text/plain": "-0.8710083530349307"
          },
          "metadata": {}
        }
      ],
      "execution_count": 44,
      "metadata": {
        "collapsed": true,
        "jupyter": {
          "source_hidden": false,
          "outputs_hidden": false
        },
        "nteract": {
          "transient": {
            "deleting": false
          }
        },
        "execution": {
          "iopub.status.busy": "2022-05-21T02:34:22.688Z",
          "iopub.execute_input": "2022-05-21T02:34:22.702Z",
          "iopub.status.idle": "2022-05-21T02:34:22.729Z",
          "shell.execute_reply": "2022-05-21T02:34:24.473Z"
        }
      }
    },
    {
      "cell_type": "code",
      "source": [
        "# whisker is plotted where that lowest value\n",
        "np.min(x)"
      ],
      "outputs": [
        {
          "output_type": "execute_result",
          "execution_count": 45,
          "data": {
            "text/plain": "-0.025906225813415784"
          },
          "metadata": {}
        }
      ],
      "execution_count": 45,
      "metadata": {
        "collapsed": true,
        "jupyter": {
          "source_hidden": false,
          "outputs_hidden": false
        },
        "nteract": {
          "transient": {
            "deleting": false
          }
        },
        "execution": {
          "iopub.status.busy": "2022-05-21T02:34:22.749Z",
          "iopub.execute_input": "2022-05-21T02:34:22.762Z",
          "iopub.status.idle": "2022-05-21T02:34:22.791Z",
          "shell.execute_reply": "2022-05-21T02:34:24.480Z"
        }
      }
    },
    {
      "cell_type": "code",
      "source": [
        "# upper whisker \n",
        "max(q) + 1.5*r"
      ],
      "outputs": [
        {
          "output_type": "execute_result",
          "execution_count": 46,
          "data": {
            "text/plain": "2.2838714660754813"
          },
          "metadata": {}
        }
      ],
      "execution_count": 46,
      "metadata": {
        "collapsed": true,
        "jupyter": {
          "source_hidden": false,
          "outputs_hidden": false
        },
        "nteract": {
          "transient": {
            "deleting": false
          }
        },
        "execution": {
          "iopub.status.busy": "2022-05-21T02:34:22.813Z",
          "iopub.execute_input": "2022-05-21T02:34:22.827Z",
          "iopub.status.idle": "2022-05-21T02:34:22.855Z",
          "shell.execute_reply": "2022-05-21T02:34:24.488Z"
        }
      }
    },
    {
      "cell_type": "code",
      "source": [
        "# outliers and are plotted as individual points\n",
        "x.sort()\n",
        "x[-15:]"
      ],
      "outputs": [
        {
          "output_type": "execute_result",
          "execution_count": 47,
          "data": {
            "text/plain": "array([2.08805569, 2.09377662, 2.09831279, 2.12729924, 2.13367388,\n       2.16912995, 2.19351886, 2.23707502, 2.28443646, 2.30162336,\n       2.32226748, 2.3748484 , 2.44857933, 2.48956008, 2.56614424])"
          },
          "metadata": {}
        }
      ],
      "execution_count": 47,
      "metadata": {
        "collapsed": true,
        "jupyter": {
          "source_hidden": false,
          "outputs_hidden": false
        },
        "nteract": {
          "transient": {
            "deleting": false
          }
        },
        "execution": {
          "iopub.status.busy": "2022-05-21T02:34:22.876Z",
          "iopub.execute_input": "2022-05-21T02:34:22.889Z",
          "iopub.status.idle": "2022-05-21T02:34:22.916Z",
          "shell.execute_reply": "2022-05-21T02:34:24.496Z"
        }
      }
    },
    {
      "cell_type": "markdown",
      "source": [
        "### Measures of Dispersion"
      ],
      "metadata": {
        "nteract": {
          "transient": {
            "deleting": false
          }
        }
      }
    },
    {
      "cell_type": "code",
      "source": [
        "xbar = np.mean(x)\n",
        "xbar"
      ],
      "outputs": [
        {
          "output_type": "execute_result",
          "execution_count": 48,
          "data": {
            "text/plain": "0.7720170993889658"
          },
          "metadata": {}
        }
      ],
      "execution_count": 48,
      "metadata": {
        "collapsed": true,
        "jupyter": {
          "source_hidden": false,
          "outputs_hidden": false
        },
        "nteract": {
          "transient": {
            "deleting": false
          }
        },
        "execution": {
          "shell.execute_reply": "2022-05-21T02:34:24.503Z",
          "iopub.status.busy": "2022-05-21T02:34:22.938Z",
          "iopub.execute_input": "2022-05-21T02:34:22.952Z",
          "iopub.status.idle": "2022-05-21T02:34:22.981Z"
        }
      }
    },
    {
      "cell_type": "code",
      "source": [
        "squared_differences = [(x_i - xbar)**2 for x_i in x]"
      ],
      "outputs": [],
      "execution_count": 49,
      "metadata": {
        "collapsed": true,
        "jupyter": {
          "source_hidden": false,
          "outputs_hidden": false
        },
        "nteract": {
          "transient": {
            "deleting": false
          }
        },
        "execution": {
          "shell.execute_reply": "2022-05-21T02:34:24.511Z",
          "iopub.status.busy": "2022-05-21T02:34:23.003Z",
          "iopub.execute_input": "2022-05-21T02:34:23.016Z",
          "iopub.status.idle": "2022-05-21T02:34:23.037Z"
        }
      }
    },
    {
      "cell_type": "code",
      "source": [
        "squared_differences[0:10]"
      ],
      "outputs": [
        {
          "output_type": "execute_result",
          "execution_count": 50,
          "data": {
            "text/plain": "[0.6366816329020256,\n 0.5822095271624653,\n 0.5763158574200933,\n 0.5720929827648789,\n 0.5672677139992549,\n 0.5651845877975351,\n 0.5629305115970004,\n 0.5580837275650313,\n 0.557868666025207,\n 0.5459706795516376]"
          },
          "metadata": {}
        }
      ],
      "execution_count": 50,
      "metadata": {
        "collapsed": true,
        "jupyter": {
          "source_hidden": false,
          "outputs_hidden": false
        },
        "nteract": {
          "transient": {
            "deleting": false
          }
        },
        "execution": {
          "shell.execute_reply": "2022-05-21T02:34:24.520Z",
          "iopub.status.busy": "2022-05-21T02:34:23.056Z",
          "iopub.execute_input": "2022-05-21T02:34:23.070Z",
          "iopub.status.idle": "2022-05-21T02:34:23.099Z"
        }
      }
    },
    {
      "cell_type": "code",
      "source": [
        "sigma_squared = sum(squared_differences)/len(x)\n",
        "sigma_squared"
      ],
      "outputs": [
        {
          "output_type": "execute_result",
          "execution_count": 51,
          "data": {
            "text/plain": "0.3211611007227368"
          },
          "metadata": {}
        }
      ],
      "execution_count": 51,
      "metadata": {
        "collapsed": true,
        "jupyter": {
          "source_hidden": false,
          "outputs_hidden": false
        },
        "nteract": {
          "transient": {
            "deleting": false
          }
        },
        "execution": {
          "shell.execute_reply": "2022-05-21T02:34:24.527Z",
          "iopub.status.busy": "2022-05-21T02:34:23.122Z",
          "iopub.execute_input": "2022-05-21T02:34:23.135Z",
          "iopub.status.idle": "2022-05-21T02:34:23.162Z"
        }
      }
    },
    {
      "cell_type": "code",
      "source": [
        "np.var(x)"
      ],
      "outputs": [
        {
          "output_type": "execute_result",
          "execution_count": 52,
          "data": {
            "text/plain": "0.32116110072273685"
          },
          "metadata": {}
        }
      ],
      "execution_count": 52,
      "metadata": {
        "collapsed": true,
        "jupyter": {
          "source_hidden": false,
          "outputs_hidden": false
        },
        "nteract": {
          "transient": {
            "deleting": false
          }
        },
        "execution": {
          "shell.execute_reply": "2022-05-21T02:34:24.534Z",
          "iopub.status.busy": "2022-05-21T02:34:23.186Z",
          "iopub.execute_input": "2022-05-21T02:34:23.200Z",
          "iopub.status.idle": "2022-05-21T02:34:23.230Z"
        }
      }
    },
    {
      "cell_type": "code",
      "source": [
        "sigma = sigma_squared**(1/2)\n",
        "sigma"
      ],
      "outputs": [
        {
          "output_type": "execute_result",
          "execution_count": 53,
          "data": {
            "text/plain": "0.5667107734309775"
          },
          "metadata": {}
        }
      ],
      "execution_count": 53,
      "metadata": {
        "collapsed": true,
        "jupyter": {
          "source_hidden": false,
          "outputs_hidden": false
        },
        "nteract": {
          "transient": {
            "deleting": false
          }
        },
        "execution": {
          "shell.execute_reply": "2022-05-21T02:34:24.541Z",
          "iopub.status.busy": "2022-05-21T02:34:23.250Z",
          "iopub.execute_input": "2022-05-21T02:34:23.263Z",
          "iopub.status.idle": "2022-05-21T02:34:23.289Z"
        }
      }
    },
    {
      "cell_type": "code",
      "source": [
        "np.std(x)"
      ],
      "outputs": [
        {
          "output_type": "execute_result",
          "execution_count": 54,
          "data": {
            "text/plain": "0.5667107734309776"
          },
          "metadata": {}
        }
      ],
      "execution_count": 54,
      "metadata": {
        "collapsed": true,
        "jupyter": {
          "source_hidden": false,
          "outputs_hidden": false
        },
        "nteract": {
          "transient": {
            "deleting": false
          }
        },
        "execution": {
          "shell.execute_reply": "2022-05-21T02:34:24.549Z",
          "iopub.status.busy": "2022-05-21T02:34:23.310Z",
          "iopub.execute_input": "2022-05-21T02:34:23.322Z",
          "iopub.status.idle": "2022-05-21T02:34:23.351Z"
        }
      }
    },
    {
      "cell_type": "code",
      "source": [
        "fig, ax = plt.subplots()\n",
        "plt.axvline(x = xbar, color='red')\n",
        "plt.axvline(x = xbar+sigma, color='green')\n",
        "plt.axvline(x = xbar-sigma, color='green')\n",
        "_ = plt.hist(x, color = 'lightgray')"
      ],
      "outputs": [
        {
          "output_type": "display_data",
          "data": {
            "text/plain": "<Figure size 432x288 with 1 Axes>",
            "image/png": "[encoded data removed]"
          },
          "metadata": {
            "needs_background": "light"
          }
        }
      ],
      "execution_count": 55,
      "metadata": {
        "collapsed": true,
        "jupyter": {
          "source_hidden": false,
          "outputs_hidden": false
        },
        "nteract": {
          "transient": {
            "deleting": false
          }
        },
        "execution": {
          "shell.execute_reply": "2022-05-21T02:34:24.556Z",
          "iopub.status.busy": "2022-05-21T02:34:23.371Z",
          "iopub.execute_input": "2022-05-21T02:34:23.385Z",
          "iopub.status.idle": "2022-05-21T02:34:23.412Z"
        }
      }
    },
    {
      "cell_type": "code",
      "source": [
        "sigma/(len(x))**(1/2)"
      ],
      "outputs": [
        {
          "output_type": "execute_result",
          "execution_count": 56,
          "data": {
            "text/plain": "0.025218298429683705"
          },
          "metadata": {}
        }
      ],
      "execution_count": 56,
      "metadata": {
        "collapsed": true,
        "jupyter": {
          "source_hidden": false,
          "outputs_hidden": false
        },
        "nteract": {
          "transient": {
            "deleting": false
          }
        },
        "execution": {
          "shell.execute_reply": "2022-05-21T02:34:24.563Z",
          "iopub.status.busy": "2022-05-21T02:34:23.432Z",
          "iopub.execute_input": "2022-05-21T02:34:23.446Z",
          "iopub.status.idle": "2022-05-21T02:34:23.476Z"
        }
      }
    },
    {
      "cell_type": "code",
      "source": [
        "# defaults to 1 degree of freedom (n-1), which can be ignored with the larger data sets of Machine Learning\n",
        "st.sem(x)"
      ],
      "outputs": [
        {
          "output_type": "execute_result",
          "execution_count": 57,
          "data": {
            "text/plain": "0.025243304185385607"
          },
          "metadata": {}
        }
      ],
      "execution_count": 57,
      "metadata": {
        "collapsed": true,
        "jupyter": {
          "source_hidden": false,
          "outputs_hidden": false
        },
        "nteract": {
          "transient": {
            "deleting": false
          }
        },
        "execution": {
          "shell.execute_reply": "2022-05-21T02:34:24.570Z",
          "iopub.status.busy": "2022-05-21T02:34:23.497Z",
          "iopub.execute_input": "2022-05-21T02:34:23.510Z",
          "iopub.status.idle": "2022-05-21T02:34:23.540Z"
        }
      }
    },
    {
      "cell_type": "code",
      "source": [
        "# 0 degrees of freedom (n)\n",
        "st.sem(x, ddof=0) "
      ],
      "outputs": [
        {
          "output_type": "execute_result",
          "execution_count": 58,
          "data": {
            "text/plain": "0.025218298429683712"
          },
          "metadata": {}
        }
      ],
      "execution_count": 58,
      "metadata": {
        "collapsed": true,
        "jupyter": {
          "source_hidden": false,
          "outputs_hidden": false
        },
        "nteract": {
          "transient": {
            "deleting": false
          }
        },
        "execution": {
          "shell.execute_reply": "2022-05-21T02:34:24.576Z",
          "iopub.status.busy": "2022-05-21T02:34:23.560Z",
          "iopub.execute_input": "2022-05-21T02:34:23.574Z",
          "iopub.status.idle": "2022-05-21T02:34:23.605Z"
        }
      }
    },
    {
      "cell_type": "markdown",
      "source": [
        "### The Central Limit Theorem"
      ],
      "metadata": {
        "nteract": {
          "transient": {
            "deleting": false
          }
        }
      }
    },
    {
      "cell_type": "code",
      "source": [
        "x_sample = np.random.choice(x, size=10, replace=False)\n",
        "x_sample\n",
        "\n"
      ],
      "outputs": [
        {
          "output_type": "execute_result",
          "execution_count": 59,
          "data": {
            "text/plain": "array([0.73153454, 0.45362994, 0.18056305, 0.40398638, 0.97167047,\n       1.72945773, 0.98362659, 0.11974462, 1.16815966, 0.28569115])"
          },
          "metadata": {}
        }
      ],
      "execution_count": 59,
      "metadata": {
        "collapsed": true,
        "jupyter": {
          "source_hidden": false,
          "outputs_hidden": false
        },
        "nteract": {
          "transient": {
            "deleting": false
          }
        },
        "execution": {
          "iopub.status.busy": "2022-05-21T02:34:23.629Z",
          "iopub.execute_input": "2022-05-21T02:34:23.645Z",
          "iopub.status.idle": "2022-05-21T02:34:23.681Z",
          "shell.execute_reply": "2022-05-21T02:34:24.583Z"
        }
      }
    },
    {
      "cell_type": "code",
      "source": [
        "np.mean(x_sample)\n",
        "\n"
      ],
      "outputs": [
        {
          "output_type": "execute_result",
          "execution_count": 60,
          "data": {
            "text/plain": "0.7028064146426463"
          },
          "metadata": {}
        }
      ],
      "execution_count": 60,
      "metadata": {
        "collapsed": true,
        "jupyter": {
          "source_hidden": false,
          "outputs_hidden": false
        },
        "nteract": {
          "transient": {
            "deleting": false
          }
        },
        "execution": {
          "iopub.status.busy": "2022-05-21T02:34:23.706Z",
          "iopub.execute_input": "2022-05-21T02:34:23.723Z",
          "iopub.status.idle": "2022-05-21T02:34:23.756Z",
          "shell.execute_reply": "2022-05-21T02:34:24.591Z"
        }
      }
    },
    {
      "cell_type": "code",
      "source": [
        "# sampling distributions of \n",
        "\n",
        "def sample_mean_calculator(input_dist, sample_size, n_samples):\n",
        "    sample_means = []\n",
        "    for i in range(n_samples):\n",
        "        sample = np.random.choice(input_dist, size=sample_size, replace=False)\n",
        "        sample_means.append(sample.mean())\n",
        "    return sample_means\n",
        "\n"
      ],
      "outputs": [],
      "execution_count": 61,
      "metadata": {
        "collapsed": true,
        "jupyter": {
          "source_hidden": false,
          "outputs_hidden": false
        },
        "nteract": {
          "transient": {
            "deleting": false
          }
        },
        "execution": {
          "iopub.status.busy": "2022-05-21T02:34:23.780Z",
          "iopub.execute_input": "2022-05-21T02:34:23.797Z",
          "iopub.status.idle": "2022-05-21T02:34:23.821Z",
          "shell.execute_reply": "2022-05-21T02:34:24.599Z"
        }
      }
    },
    {
      "cell_type": "code",
      "source": [
        "sns.displot(sample_mean_calculator(x, 10, 10), color='green')\n",
        "_ = plt.xlim(-1.5, 1.5)"
      ],
      "outputs": [
        {
          "output_type": "display_data",
          "data": {
            "text/plain": "<Figure size 360x360 with 1 Axes>",
            "image/png": "[encoded data removed]"
          },
          "metadata": {
            "needs_background": "light"
          }
        }
      ],
      "execution_count": 62,
      "metadata": {
        "collapsed": true,
        "jupyter": {
          "source_hidden": false,
          "outputs_hidden": false
        },
        "nteract": {
          "transient": {
            "deleting": false
          }
        },
        "execution": {
          "iopub.status.busy": "2022-05-21T02:34:23.847Z",
          "iopub.execute_input": "2022-05-21T02:34:23.863Z",
          "iopub.status.idle": "2022-05-21T02:34:23.895Z",
          "shell.execute_reply": "2022-05-21T02:34:24.606Z"
        }
      }
    },
    {
      "cell_type": "code",
      "source": [
        "sns.displot(sample_mean_calculator(x, 10, 1000), color='green', kde=True)\n",
        "_ = plt.xlim(-1.5, 1.5)"
      ],
      "outputs": [
        {
          "output_type": "display_data",
          "data": {
            "text/plain": "<Figure size 360x360 with 1 Axes>",
            "image/png": "[encoded data removed]"
          },
          "metadata": {
            "needs_background": "light"
          }
        }
      ],
      "execution_count": 63,
      "metadata": {
        "collapsed": true,
        "jupyter": {
          "source_hidden": false,
          "outputs_hidden": false
        },
        "nteract": {
          "transient": {
            "deleting": false
          }
        },
        "execution": {
          "iopub.status.busy": "2022-05-21T02:34:23.920Z",
          "iopub.execute_input": "2022-05-21T02:34:23.937Z",
          "iopub.status.idle": "2022-05-21T02:34:23.971Z",
          "shell.execute_reply": "2022-05-21T02:34:24.615Z"
        }
      }
    },
    {
      "cell_type": "code",
      "source": [
        "sns.displot(sample_mean_calculator(x, 100, 100), color='green', kde=True)\n",
        "_ = plt.xlim(-1.5, 1.5)"
      ],
      "outputs": [
        {
          "output_type": "display_data",
          "data": {
            "text/plain": "<Figure size 360x360 with 1 Axes>",
            "image/png": "[encoded data removed]"
          },
          "metadata": {
            "needs_background": "light"
          }
        }
      ],
      "execution_count": 64,
      "metadata": {
        "collapsed": true,
        "jupyter": {
          "source_hidden": false,
          "outputs_hidden": false
        },
        "nteract": {
          "transient": {
            "deleting": false
          }
        },
        "execution": {
          "iopub.status.busy": "2022-05-21T02:34:23.994Z",
          "iopub.execute_input": "2022-05-21T02:34:24.008Z",
          "iopub.status.idle": "2022-05-21T02:34:24.038Z",
          "shell.execute_reply": "2022-05-21T02:34:24.623Z"
        }
      }
    },
    {
      "cell_type": "code",
      "source": [
        "sns.displot(sample_mean_calculator(x, 100, 100), color='green', kde=True)\n",
        "_ = plt.xlim(-1.5, 1.5)"
      ],
      "outputs": [
        {
          "output_type": "display_data",
          "data": {
            "text/plain": "<Figure size 360x360 with 1 Axes>",
            "image/png": "[encoded data removed]"
          },
          "metadata": {
            "needs_background": "light"
          }
        }
      ],
      "execution_count": 65,
      "metadata": {
        "collapsed": true,
        "jupyter": {
          "source_hidden": false,
          "outputs_hidden": false
        },
        "nteract": {
          "transient": {
            "deleting": false
          }
        },
        "execution": {
          "iopub.status.busy": "2022-05-21T02:34:24.060Z",
          "iopub.execute_input": "2022-05-21T02:34:24.074Z",
          "iopub.status.idle": "2022-05-21T02:34:24.103Z",
          "shell.execute_reply": "2022-05-21T02:34:24.632Z"
        }
      }
    }
  ],
  "metadata": {
    "kernel_info": {
      "name": "python3"
    },
    "language_info": {
      "name": "python",
      "version": "3.6.13",
      "mimetype": "text/x-python",
      "codemirror_mode": {
        "name": "ipython",
        "version": 3
      },
      "pygments_lexer": "ipython3",
      "nbconvert_exporter": "python",
      "file_extension": ".py"
    },
    "kernelspec": {
      "argv": [
        "C:/Users/Tin Hang/Anaconda3\\python.exe",
        "-m",
        "ipykernel_launcher",
        "-f",
        "{connection_file}"
      ],
      "display_name": "Python 3",
      "language": "python",
      "name": "python3"
    },
    "nteract": {
      "version": "0.28.0"
    }
  },
  "nbformat": 4,
  "nbformat_minor": 0
}