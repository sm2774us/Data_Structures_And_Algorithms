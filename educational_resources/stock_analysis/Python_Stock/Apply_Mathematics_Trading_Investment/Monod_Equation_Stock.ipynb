{
  "cells": [
    {
      "cell_type": "markdown",
      "source": [
        "# Monod equation"
      ],
      "metadata": {
        "nteract": {
          "transient": {
            "deleting": false
          }
        }
      }
    },
    {
      "cell_type": "markdown",
      "source": [
        "https://en.wikipedia.org/wiki/Monod_equation"
      ],
      "metadata": {
        "nteract": {
          "transient": {
            "deleting": false
          }
        }
      }
    },
    {
      "cell_type": "code",
      "source": [
        "import warnings\n",
        "warnings.filterwarnings(\"ignore\")\n",
        "\n",
        "import yfinance as yf\n",
        "import pandas as pd\n",
        "import numpy as np\n",
        "import matplotlib.pyplot as plt\n",
        "from scipy.optimize import curve_fit\n",
        "\n",
        "# Define the Monod equation function\n",
        "def monod_equation(t, Vmax, Ks):\n",
        "    \"\"\"\n",
        "    Monod equation for modeling stock price growth.\n",
        "    \n",
        "    Parameters:\n",
        "        t (array-like): Time or some relevant variable.\n",
        "        Vmax (float): Maximum growth rate.\n",
        "        Ks (float): Half-saturation constant.\n",
        "    \n",
        "    Returns:\n",
        "        array-like: Predicted stock prices.\n",
        "    \"\"\"\n",
        "    return Vmax * t / (Ks + t)\n",
        "\n",
        "# Input\n",
        "symbol = 'AMD'\n",
        "start = '2020-01-01'\n",
        "end = '2023-01-01'\n",
        "\n",
        "# Read data\n",
        "dataset = yf.download(symbol, start, end)\n",
        "\n",
        "# Prepare data\n",
        "data = dataset['Adj Close'].values\n",
        "t = np.arange(len(data))  # Use time as the independent variable\n",
        "\n",
        "# Fit the Monod equation to the data\n",
        "initial_guess = [0.01, 100]  # Initial guess for Vmax and Ks\n",
        "params, params_covariance = curve_fit(monod_equation, t, data, p0=initial_guess)\n",
        "\n",
        "Vmax, Ks = params\n",
        "\n",
        "# Generate predicted stock prices using the fitted parameters\n",
        "predicted_data = monod_equation(t, Vmax, Ks)\n",
        "\n",
        "# Plot the original data and the fitted curve\n",
        "plt.figure(figsize=(10, 6))\n",
        "plt.scatter(t, data, label='Actual Data', color='b')\n",
        "plt.plot(t, predicted_data, label='Fitted Curve', color='r')\n",
        "plt.xlabel('Time')\n",
        "plt.ylabel('Stock Price')\n",
        "plt.title('Monod Equation Fit to Stock Data')\n",
        "plt.legend()\n",
        "plt.show()\n",
        "\n",
        "# Print the estimated parameters\n",
        "print(\"Estimated parameters:\")\n",
        "print(f\"Vmax: {Vmax}\")\n",
        "print(f\"Ks: {Ks}\")"
      ],
      "outputs": [
        {
          "output_type": "stream",
          "name": "stdout",
          "text": [
            "[*********************100%***********************]  1 of 1 completed\n"
          ]
        },
        {
          "output_type": "display_data",
          "data": {
            "text/plain": "<Figure size 720x432 with 1 Axes>",
            "image/png": "[encoded data removed]"
          },
          "metadata": {
            "needs_background": "light"
          }
        },
        {
          "output_type": "stream",
          "name": "stdout",
          "text": [
            "Estimated parameters:\n",
            "Vmax: 0.0895640768155992\n",
            "Ks: -318.7367227108291\n"
          ]
        }
      ],
      "execution_count": 1,
      "metadata": {
        "collapsed": true,
        "jupyter": {
          "source_hidden": false,
          "outputs_hidden": false
        },
        "nteract": {
          "transient": {
            "deleting": false
          }
        },
        "execution": {
          "iopub.status.busy": "2023-10-22T02:18:58.502Z",
          "iopub.execute_input": "2023-10-22T02:18:58.505Z",
          "shell.execute_reply": "2023-10-22T02:18:59.706Z",
          "iopub.status.idle": "2023-10-22T02:18:59.711Z"
        }
      }
    }
  ],
  "metadata": {
    "kernel_info": {
      "name": "python3"
    },
    "language_info": {
      "name": "python",
      "version": "3.7.6",
      "mimetype": "text/x-python",
      "codemirror_mode": {
        "name": "ipython",
        "version": 3
      },
      "pygments_lexer": "ipython3",
      "nbconvert_exporter": "python",
      "file_extension": ".py"
    },
    "kernelspec": {
      "argv": [
        "C:/Users/Tin Hang/anaconda3\\python.exe",
        "-m",
        "ipykernel_launcher",
        "-f",
        "{connection_file}"
      ],
      "display_name": "Python 3",
      "language": "python",
      "name": "python3"
    },
    "nteract": {
      "version": "0.28.0"
    }
  },
  "nbformat": 4,
  "nbformat_minor": 0
}