{
  "cells": [
    {
      "cell_type": "markdown",
      "source": [
        "# Stopping Times"
      ],
      "metadata": {
        "nteract": {
          "transient": {
            "deleting": false
          }
        }
      }
    },
    {
      "cell_type": "markdown",
      "source": [
        "https://en.wikipedia.org/wiki/Stopping_time"
      ],
      "metadata": {
        "nteract": {
          "transient": {
            "deleting": false
          }
        }
      }
    },
    {
      "cell_type": "code",
      "source": [
        "import warnings\n",
        "warnings.filterwarnings(\"ignore\")\n",
        "\n",
        "import warnings\n",
        "import yfinance as yf\n",
        "import pandas as pd\n",
        "import numpy as np\n",
        "import matplotlib.pyplot as plt\n",
        "\n",
        "# Define the stopping time function\n",
        "def calculate_stopping_time(dataset):\n",
        "    # Calculate the rolling mean of the 'Close' prices\n",
        "    dataset['RollingMean'] = dataset['Close'].rolling(window=50).mean()\n",
        "\n",
        "    # Initialize a stopping time column with 0 values\n",
        "    dataset['StoppingTime'] = 0\n",
        "\n",
        "    # Calculate the stopping time\n",
        "    for i in range(50, len(dataset)):\n",
        "        if dataset['Close'][i] > dataset['RollingMean'][i]:\n",
        "            dataset['StoppingTime'][i] = dataset['StoppingTime'][i - 1] + 1\n",
        "        else:\n",
        "            dataset['StoppingTime'][i] = 0\n",
        "\n",
        "# Input\n",
        "symbol = 'AMD'\n",
        "start = '2014-01-01'\n",
        "end = '2019-01-01'\n",
        "\n",
        "# Read data\n",
        "dataset = yf.download(symbol, start, end)\n",
        "\n",
        "# Apply the stopping time function\n",
        "calculate_stopping_time(dataset)\n",
        "\n",
        "# Plot the 'StoppingTime' column\n",
        "plt.figure(figsize=(10, 6))\n",
        "plt.plot(dataset.index, dataset['StoppingTime'], label='Stopping Time', color='blue')\n",
        "plt.title(f'Stopping Time for {symbol}')\n",
        "plt.xlabel('Date')\n",
        "plt.ylabel('Stopping Time')\n",
        "plt.legend()\n",
        "plt.grid()\n",
        "plt.show()"
      ],
      "outputs": [
        {
          "output_type": "stream",
          "name": "stdout",
          "text": [
            "[*********************100%***********************]  1 of 1 completed\n"
          ]
        },
        {
          "output_type": "display_data",
          "data": {
            "text/plain": "<Figure size 720x432 with 1 Axes>",
            "image/png": "[encoded data removed]"
          },
          "metadata": {
            "needs_background": "light"
          }
        }
      ],
      "execution_count": 1,
      "metadata": {
        "collapsed": true,
        "jupyter": {
          "source_hidden": false,
          "outputs_hidden": false
        },
        "nteract": {
          "transient": {
            "deleting": false
          }
        },
        "execution": {
          "iopub.status.busy": "2023-11-04T01:09:21.366Z",
          "iopub.execute_input": "2023-11-04T01:09:21.369Z",
          "shell.execute_reply": "2023-11-04T01:09:22.649Z",
          "iopub.status.idle": "2023-11-04T01:09:22.638Z"
        }
      }
    },
    {
      "cell_type": "code",
      "source": [
        "def is_stopping_time(data, tau_values):\n",
        "    \"\"\"\n",
        "    Check if a random variable τ is a stopping time with respect to the given stock price data.\n",
        "    \n",
        "    Parameters:\n",
        "    - data: DataFrame with stock price data.\n",
        "    - tau_values: List of τ values to check for being a stopping time.\n",
        "    \n",
        "    Returns:\n",
        "    - List of Boolean values indicating whether each τ value is a stopping time.\n",
        "    \"\"\"\n",
        "    is_stopping_time_list = []\n",
        "    \n",
        "    for tau in tau_values:\n",
        "        # Iterate through τ values and check the stopping time condition\n",
        "        is_stopping_time = all(data['Close'].shift(-tau).notnull())\n",
        "        is_stopping_time_list.append(is_stopping_time)\n",
        "    \n",
        "    return is_stopping_time_list\n",
        "\n",
        "# Example usage\n",
        "symbol = 'AMD'\n",
        "start = '2014-01-01'\n",
        "end = '2019-01-01'\n",
        "\n",
        "# Read data \n",
        "dataset = yf.download(symbol, start, end)\n",
        "\n",
        "# Define some τ values to check if they are stopping times\n",
        "tau_values = [1, 5, 10]\n",
        "\n",
        "# Check if τ values are stopping times\n",
        "result = is_stopping_time(dataset, tau_values)\n",
        "\n",
        "# Print the results\n",
        "for i, tau in enumerate(tau_values):\n",
        "    print(f\"τ = {tau} is a stopping time: {result[i]}\")"
      ],
      "outputs": [
        {
          "output_type": "stream",
          "name": "stdout",
          "text": [
            "[*********************100%***********************]  1 of 1 completed\n",
            "τ = 1 is a stopping time: False\n",
            "τ = 5 is a stopping time: False\n",
            "τ = 10 is a stopping time: False\n"
          ]
        }
      ],
      "execution_count": 2,
      "metadata": {
        "collapsed": true,
        "jupyter": {
          "source_hidden": false,
          "outputs_hidden": false
        },
        "nteract": {
          "transient": {
            "deleting": false
          }
        },
        "execution": {
          "iopub.status.busy": "2023-11-04T01:09:22.642Z",
          "iopub.execute_input": "2023-11-04T01:09:22.645Z",
          "iopub.status.idle": "2023-11-04T01:09:22.854Z",
          "shell.execute_reply": "2023-11-04T01:09:22.886Z"
        }
      }
    },
    {
      "cell_type": "code",
      "source": [
        "def is_stopping_time_stock_price(data, tau):\n",
        "    # Extract the stock prices\n",
        "    stock_prices = data['Close']\n",
        "\n",
        "    # Check if tau is within the range of available dates\n",
        "    if tau < 0 or tau >= len(stock_prices):\n",
        "        return False\n",
        "\n",
        "    # Check if stock price at tau is known at time tau\n",
        "    for t in range(tau + 1):\n",
        "        if pd.isna(stock_prices.iloc[t]):\n",
        "            return False\n",
        "\n",
        "    return True\n",
        "\n",
        "# Example usage:\n",
        "# Check if tau = 5 is a stopping time with respect to stock prices\n",
        "tau = 5\n",
        "result = is_stopping_time_stock_price(dataset, tau)\n",
        "if result:\n",
        "    print(f\"τ = {tau} is a stopping time with respect to stock prices.\")\n",
        "else:\n",
        "    print(f\"τ = {tau} is not a stopping time with respect to stock prices.\")"
      ],
      "outputs": [
        {
          "output_type": "stream",
          "name": "stdout",
          "text": [
            "τ = 5 is a stopping time with respect to stock prices.\n"
          ]
        }
      ],
      "execution_count": 3,
      "metadata": {
        "collapsed": true,
        "jupyter": {
          "source_hidden": false,
          "outputs_hidden": false
        },
        "nteract": {
          "transient": {
            "deleting": false
          }
        },
        "execution": {
          "iopub.status.busy": "2023-11-04T01:09:22.859Z",
          "iopub.execute_input": "2023-11-04T01:09:22.861Z",
          "iopub.status.idle": "2023-11-04T01:09:22.868Z",
          "shell.execute_reply": "2023-11-04T01:09:22.888Z"
        }
      }
    },
    {
      "cell_type": "code",
      "source": [
        "# Function to check if a given time 'tau' is a stopping time\n",
        "def is_stopping_time_discrete(price_data, tau):\n",
        "    if tau >= 0 and tau < len(price_data):\n",
        "        return True\n",
        "    return False\n",
        "\n",
        "# Example usage:\n",
        "# Define a specific 'tau' value\n",
        "tau = 5\n",
        "\n",
        "# Test if 'tau' is a stopping time\n",
        "result = is_stopping_time_discrete(dataset['Close'], tau)\n",
        "if result:\n",
        "    print(f\"τ = {tau} is a stopping time.\")\n",
        "else:\n",
        "    print(f\"τ = {tau} is not a stopping time.\")"
      ],
      "outputs": [
        {
          "output_type": "stream",
          "name": "stdout",
          "text": [
            "τ = 5 is a stopping time.\n"
          ]
        }
      ],
      "execution_count": 4,
      "metadata": {
        "collapsed": true,
        "jupyter": {
          "source_hidden": false,
          "outputs_hidden": false
        },
        "nteract": {
          "transient": {
            "deleting": false
          }
        },
        "execution": {
          "iopub.status.busy": "2023-11-04T01:09:22.872Z",
          "iopub.execute_input": "2023-11-04T01:09:22.876Z",
          "iopub.status.idle": "2023-11-04T01:09:22.896Z",
          "shell.execute_reply": "2023-11-04T01:09:22.890Z"
        }
      }
    }
  ],
  "metadata": {
    "kernel_info": {
      "name": "python3"
    },
    "language_info": {
      "name": "python",
      "version": "3.7.6",
      "mimetype": "text/x-python",
      "codemirror_mode": {
        "name": "ipython",
        "version": 3
      },
      "pygments_lexer": "ipython3",
      "nbconvert_exporter": "python",
      "file_extension": ".py"
    },
    "kernelspec": {
      "argv": [
        "C:/Users/Tin Hang/anaconda3\\python.exe",
        "-m",
        "ipykernel_launcher",
        "-f",
        "{connection_file}"
      ],
      "display_name": "Python 3",
      "language": "python",
      "name": "python3"
    },
    "nteract": {
      "version": "0.28.0"
    }
  },
  "nbformat": 4,
  "nbformat_minor": 0
}