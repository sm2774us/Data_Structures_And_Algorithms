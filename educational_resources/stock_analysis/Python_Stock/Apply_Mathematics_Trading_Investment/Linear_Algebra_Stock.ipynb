{
  "cells": [
    {
      "cell_type": "markdown",
      "source": [
        "# Linear Algebra"
      ],
      "metadata": {
        "nteract": {
          "transient": {
            "deleting": false
          }
        }
      }
    },
    {
      "cell_type": "code",
      "source": [
        "import numpy as np\n",
        "import pandas as pd\n",
        "\n",
        "import matplotlib.pyplot as plt\n",
        "import seaborn as sns\n",
        "\n",
        "import warnings\n",
        "warnings.filterwarnings(\"ignore\") \n",
        "\n",
        "# yfinance is used to fetch data \n",
        "import yfinance as yf\n",
        "yf.pdr_override()"
      ],
      "outputs": [],
      "execution_count": 1,
      "metadata": {
        "collapsed": true,
        "jupyter": {
          "source_hidden": false,
          "outputs_hidden": false
        },
        "nteract": {
          "transient": {
            "deleting": false
          }
        },
        "execution": {
          "iopub.status.busy": "2022-05-15T02:15:06.157Z",
          "iopub.execute_input": "2022-05-15T02:15:06.177Z",
          "shell.execute_reply": "2022-05-15T02:15:04.290Z",
          "iopub.status.idle": "2022-05-15T02:15:06.202Z"
        }
      }
    },
    {
      "cell_type": "code",
      "source": [
        "symbol = 'AMD'\n",
        "\n",
        "start = '2020-01-01'\n",
        "end = '2022-01-01'\n",
        "\n",
        "# Read data \n",
        "dataset = yf.download(symbol,start,end)\n",
        "\n",
        "# View Columns\n",
        "dataset.head()"
      ],
      "outputs": [
        {
          "output_type": "stream",
          "name": "stdout",
          "text": [
            "[*********************100%***********************]  1 of 1 completed\n"
          ]
        },
        {
          "output_type": "execute_result",
          "execution_count": 2,
          "data": {
            "text/plain": "                 Open       High        Low      Close  Adj Close    Volume\nDate                                                                       \n2020-01-02  46.860001  49.250000  46.630001  49.099998  49.099998  80331100\n2020-01-03  48.029999  49.389999  47.540001  48.599998  48.599998  73127400\n2020-01-06  48.020000  48.860001  47.860001  48.389999  48.389999  47934900\n2020-01-07  49.349998  49.389999  48.040001  48.250000  48.250000  58061400\n2020-01-08  47.849998  48.299999  47.139999  47.830002  47.830002  53767000",
            "text/html": "<div>\n<style scoped>\n    .dataframe tbody tr th:only-of-type {\n        vertical-align: middle;\n    }\n\n    .dataframe tbody tr th {\n        vertical-align: top;\n    }\n\n    .dataframe thead th {\n        text-align: right;\n    }\n</style>\n<table border=\"1\" class=\"dataframe\">\n  <thead>\n    <tr style=\"text-align: right;\">\n      <th></th>\n      <th>Open</th>\n      <th>High</th>\n      <th>Low</th>\n      <th>Close</th>\n      <th>Adj Close</th>\n      <th>Volume</th>\n    </tr>\n    <tr>\n      <th>Date</th>\n      <th></th>\n      <th></th>\n      <th></th>\n      <th></th>\n      <th></th>\n      <th></th>\n    </tr>\n  </thead>\n  <tbody>\n    <tr>\n      <th>2020-01-02</th>\n      <td>46.860001</td>\n      <td>49.250000</td>\n      <td>46.630001</td>\n      <td>49.099998</td>\n      <td>49.099998</td>\n      <td>80331100</td>\n    </tr>\n    <tr>\n      <th>2020-01-03</th>\n      <td>48.029999</td>\n      <td>49.389999</td>\n      <td>47.540001</td>\n      <td>48.599998</td>\n      <td>48.599998</td>\n      <td>73127400</td>\n    </tr>\n    <tr>\n      <th>2020-01-06</th>\n      <td>48.020000</td>\n      <td>48.860001</td>\n      <td>47.860001</td>\n      <td>48.389999</td>\n      <td>48.389999</td>\n      <td>47934900</td>\n    </tr>\n    <tr>\n      <th>2020-01-07</th>\n      <td>49.349998</td>\n      <td>49.389999</td>\n      <td>48.040001</td>\n      <td>48.250000</td>\n      <td>48.250000</td>\n      <td>58061400</td>\n    </tr>\n    <tr>\n      <th>2020-01-08</th>\n      <td>47.849998</td>\n      <td>48.299999</td>\n      <td>47.139999</td>\n      <td>47.830002</td>\n      <td>47.830002</td>\n      <td>53767000</td>\n    </tr>\n  </tbody>\n</table>\n</div>"
          },
          "metadata": {}
        }
      ],
      "execution_count": 2,
      "metadata": {
        "collapsed": true,
        "jupyter": {
          "source_hidden": false,
          "outputs_hidden": false
        },
        "nteract": {
          "transient": {
            "deleting": false
          }
        },
        "execution": {
          "iopub.status.busy": "2022-05-15T02:15:06.233Z",
          "iopub.execute_input": "2022-05-15T02:15:06.254Z",
          "iopub.status.idle": "2022-05-15T02:15:06.315Z",
          "shell.execute_reply": "2022-05-15T02:15:04.313Z"
        }
      }
    },
    {
      "cell_type": "code",
      "source": [
        "dataset['Returns'] = dataset['Adj Close'].pct_change() \n",
        "dataset['Returns'] = dataset['Adj Close'].dropna()"
      ],
      "outputs": [],
      "execution_count": 3,
      "metadata": {
        "collapsed": true,
        "jupyter": {
          "source_hidden": false,
          "outputs_hidden": false
        },
        "nteract": {
          "transient": {
            "deleting": false
          }
        },
        "execution": {
          "iopub.status.busy": "2022-05-15T02:15:06.346Z",
          "iopub.execute_input": "2022-05-15T02:15:06.369Z",
          "iopub.status.idle": "2022-05-15T02:15:06.394Z",
          "shell.execute_reply": "2022-05-15T02:15:04.336Z"
        }
      }
    },
    {
      "cell_type": "code",
      "source": [
        "Returns = np.array(dataset['Returns'])\n",
        "Open = np.array(dataset['Open'])\n",
        "Close = np.array(dataset['Adj Close'])\n",
        "High = np.array(dataset['High'])\n",
        "Low = np.array(dataset['Low'])"
      ],
      "outputs": [],
      "execution_count": 4,
      "metadata": {
        "collapsed": true,
        "jupyter": {
          "source_hidden": false,
          "outputs_hidden": false
        },
        "nteract": {
          "transient": {
            "deleting": false
          }
        },
        "execution": {
          "iopub.status.busy": "2022-05-15T02:15:06.428Z",
          "iopub.execute_input": "2022-05-15T02:15:06.449Z",
          "iopub.status.idle": "2022-05-15T02:15:06.475Z",
          "shell.execute_reply": "2022-05-15T02:15:04.361Z"
        }
      }
    },
    {
      "cell_type": "code",
      "source": [
        "Close = np.round(Close, 2)\n",
        "Close"
      ],
      "outputs": [
        {
          "output_type": "execute_result",
          "execution_count": 5,
          "data": {
            "text/plain": "array([ 49.1 ,  48.6 ,  48.39,  48.25,  47.83,  48.97,  48.17,  48.75,\n        48.21,  48.55,  49.77,  50.93,  51.05,  51.43,  51.71,  50.35,\n        49.26,  50.53,  47.51,  48.78,  47.  ,  48.02,  49.45,  49.84,\n        49.32,  49.73,  52.26,  53.8 ,  53.89,  54.53,  55.31,  56.89,\n        58.9 ,  57.27,  53.28,  49.12,  47.57,  47.49,  44.01,  45.48,\n        47.46,  46.75,  50.11,  48.11,  48.59,  43.27,  45.38,  45.7 ,\n        39.01,  43.9 ,  38.71,  41.88,  39.12,  39.82,  39.61,  41.64,\n        46.22,  44.63,  47.5 ,  46.58,  47.86,  45.48,  43.66,  44.49,\n        42.59,  47.52,  47.56,  48.79,  48.38,  50.94,  54.93,  54.99,\n        56.95,  56.6 ,  56.97,  52.92,  55.92,  55.9 ,  56.18,  56.49,\n        55.51,  53.66,  52.39,  49.88,  52.56,  52.19,  52.16,  51.95,\n        53.19,  55.74,  53.76,  52.18,  54.51,  54.2 ,  54.59,  55.47,\n        56.39,  54.65,  55.17,  53.19,  52.74,  51.74,  53.8 ,  53.63,\n        53.54,  52.73,  52.63,  53.1 ,  52.97,  56.39,  57.44,  52.83,\n        53.5 ,  54.68,  54.46,  54.55,  54.04,  54.23,  54.76,  53.99,\n        52.39,  51.93,  50.1 ,  50.28,  52.61,  52.58,  52.34,  53.4 ,\n        52.93,  53.43,  57.26,  55.88,  53.59,  54.72,  55.34,  54.92,\n        55.04,  57.46,  57.  ,  61.79,  59.57,  69.4 ,  68.97,  67.61,\n        76.09,  78.2 ,  77.43,  77.67,  85.04,  85.31,  86.71,  84.85,\n        82.24,  76.88,  82.61,  81.84,  81.3 ,  82.42,  81.66,  81.09,\n        82.77,  83.81,  83.08,  86.35,  86.02,  83.8 ,  85.55,  90.82,\n        92.18,  90.22,  82.54,  82.01,  78.69,  81.91,  78.98,  76.34,\n        77.9 ,  78.93,  76.66,  76.55,  74.93,  77.94,  77.7 ,  74.73,\n        75.82,  78.06,  79.48,  81.77,  81.99,  84.86,  81.8 ,  86.15,\n        84.48,  86.69,  86.51,  83.1 ,  84.29,  85.28,  84.21,  83.13,\n        83.17,  82.  ,  81.56,  79.2 ,  79.42,  81.96,  82.23,  78.88,\n        76.4 ,  78.02,  75.29,  74.7 ,  76.58,  81.35,  83.  ,  85.88,\n        83.12,  77.99,  81.28,  81.84,  81.43,  83.73,  83.36,  82.54,\n        85.54,  84.64,  85.31,  85.07,  86.71,  87.19,  92.66,  92.63,\n        93.74,  92.31,  94.04,  94.07,  92.92,  89.83,  91.66,  91.65,\n        94.78,  97.12,  96.85,  96.84,  95.92,  93.23,  93.16,  91.55,\n        91.81,  91.6 ,  90.62,  92.29,  91.71,  92.3 ,  92.77,  90.33,\n        95.16,  94.58,  97.25,  95.36,  91.78,  90.79,  88.21,  89.45,\n        88.75,  91.53,  92.79,  94.13,  94.71,  88.84,  87.52,  85.64,\n        87.66,  88.86,  87.89,  87.84,  87.9 ,  91.47,  90.91,  92.35,\n        92.66,  93.77,  91.46,  89.94,  88.64,  89.58,  85.37,  84.74,\n        86.94,  82.42,  84.51,  86.39,  84.13,  80.86,  77.75,  78.52,\n        73.96,  78.53,  77.52,  81.23,  81.05,  82.5 ,  82.75,  82.63,\n        78.12,  79.06,  80.3 ,  78.38,  76.48,  76.22,  77.41,  77.14,\n        76.  ,  78.5 ,  81.09,  81.43,  81.44,  82.2 ,  83.35,  82.76,\n        78.58,  80.19,  78.55,  83.01,  82.15,  81.11,  79.27,  81.61,\n        79.06,  82.76,  85.41,  85.21,  84.02,  83.91,  81.62,  78.55,\n        78.61,  77.83,  77.89,  78.81,  75.99,  76.83,  74.64,  73.09,\n        74.59,  74.65,  74.44,  76.23,  78.06,  77.17,  77.44,  77.86,\n        78.34,  78.42,  80.08,  80.81,  81.97,  80.28,  81.58,  81.35,\n        80.89,  79.96,  81.56,  81.31,  81.55,  80.47,  80.11,  84.56,\n        84.65,  82.59,  83.58,  83.82,  86.1 ,  85.62,  87.08,  89.52,\n        93.93,  93.31,  94.7 ,  94.47,  90.54,  89.74,  90.9 ,  90.81,\n        90.26,  89.05,  86.93,  85.89,  86.58,  87.11,  89.41,  91.21,\n        92.15,  91.82,  91.03,  97.93, 102.95, 106.19, 108.63, 112.56,\n       118.77, 112.35, 110.11, 107.58, 106.48, 107.68, 106.5 , 110.55,\n       107.48, 107.56, 103.44, 103.7 , 104.65, 108.77, 107.65, 108.3 ,\n       107.27, 111.4 , 111.32, 110.72, 109.99, 109.2 , 109.92, 109.15,\n       106.17, 106.15, 105.2 , 104.8 , 105.73, 105.6 , 106.22, 103.88,\n       101.55, 102.82, 104.38, 106.15, 105.8 , 108.16, 101.52, 100.35,\n       102.9 , 102.45, 100.34, 101.81, 103.64, 106.45, 105.06, 104.68,\n       105.04, 109.16, 111.99, 112.12, 116.43, 116.33, 116.39, 119.33,\n       119.82, 122.36, 122.93, 122.28, 121.16, 120.23, 125.23, 127.63,\n       130.53, 137.5 , 136.34, 150.16, 148.92, 139.87, 146.01, 147.89,\n       146.49, 152.45, 151.34, 155.02, 155.41, 152.52, 149.92, 157.8 ,\n       154.81, 161.91, 158.37, 149.11, 150.68, 144.01, 139.06, 144.85,\n       145.24, 138.1 , 138.55, 133.8 , 135.6 , 146.5 , 138.64, 137.75,\n       135.8 , 144.25, 143.88, 146.14, 154.36, 153.15, 148.26, 145.15,\n       143.9 ])"
          },
          "metadata": {}
        }
      ],
      "execution_count": 5,
      "metadata": {
        "collapsed": true,
        "jupyter": {
          "source_hidden": false,
          "outputs_hidden": false
        },
        "nteract": {
          "transient": {
            "deleting": false
          }
        },
        "execution": {
          "iopub.status.busy": "2022-05-15T02:15:06.508Z",
          "iopub.execute_input": "2022-05-15T02:15:06.530Z",
          "iopub.status.idle": "2022-05-15T02:15:06.570Z",
          "shell.execute_reply": "2022-05-15T02:15:04.388Z"
        }
      }
    },
    {
      "cell_type": "code",
      "source": [
        "import collections\n",
        "\n",
        "print([item for item, count in collections.Counter(Close).items() if count > 1])"
      ],
      "outputs": [
        {
          "output_type": "stream",
          "name": "stdout",
          "text": [
            "[53.8, 45.48, 52.39, 53.19, 56.39, 85.31, 86.71, 81.84, 82.42, 81.09, 82.54, 78.06, 81.56, 81.35, 81.43, 92.66, 79.06, 82.76, 78.55, 106.15]\n"
          ]
        }
      ],
      "execution_count": 6,
      "metadata": {
        "collapsed": true,
        "jupyter": {
          "source_hidden": false,
          "outputs_hidden": false
        },
        "nteract": {
          "transient": {
            "deleting": false
          }
        },
        "execution": {
          "iopub.status.busy": "2022-05-15T02:15:06.603Z",
          "iopub.execute_input": "2022-05-15T02:15:06.623Z",
          "iopub.status.idle": "2022-05-15T02:15:06.658Z",
          "shell.execute_reply": "2022-05-15T02:15:04.415Z"
        }
      }
    },
    {
      "cell_type": "markdown",
      "source": [
        "## Vectors (Rank 1 Tensors) in NumPy"
      ],
      "metadata": {
        "nteract": {
          "transient": {
            "deleting": false
          }
        }
      }
    },
    {
      "cell_type": "code",
      "source": [
        "x = [item for item, count in collections.Counter(Close).items() if count > 1]\n",
        "x"
      ],
      "outputs": [
        {
          "output_type": "execute_result",
          "execution_count": 7,
          "data": {
            "text/plain": "[53.8,\n 45.48,\n 52.39,\n 53.19,\n 56.39,\n 85.31,\n 86.71,\n 81.84,\n 82.42,\n 81.09,\n 82.54,\n 78.06,\n 81.56,\n 81.35,\n 81.43,\n 92.66,\n 79.06,\n 82.76,\n 78.55,\n 106.15]"
          },
          "metadata": {}
        }
      ],
      "execution_count": 7,
      "metadata": {
        "collapsed": true,
        "jupyter": {
          "source_hidden": false,
          "outputs_hidden": false
        },
        "nteract": {
          "transient": {
            "deleting": false
          }
        },
        "execution": {
          "iopub.status.busy": "2022-05-15T02:15:06.692Z",
          "iopub.execute_input": "2022-05-15T02:15:06.714Z",
          "iopub.status.idle": "2022-05-15T02:15:06.750Z",
          "shell.execute_reply": "2022-05-15T02:15:04.442Z"
        }
      }
    },
    {
      "cell_type": "code",
      "source": [
        "x = np.array(x)\n",
        "x"
      ],
      "outputs": [
        {
          "output_type": "execute_result",
          "execution_count": 8,
          "data": {
            "text/plain": "array([ 53.8 ,  45.48,  52.39,  53.19,  56.39,  85.31,  86.71,  81.84,\n        82.42,  81.09,  82.54,  78.06,  81.56,  81.35,  81.43,  92.66,\n        79.06,  82.76,  78.55, 106.15])"
          },
          "metadata": {}
        }
      ],
      "execution_count": 8,
      "metadata": {
        "collapsed": true,
        "jupyter": {
          "source_hidden": false,
          "outputs_hidden": false
        },
        "nteract": {
          "transient": {
            "deleting": false
          }
        },
        "execution": {
          "iopub.status.busy": "2022-05-15T02:15:06.781Z",
          "iopub.execute_input": "2022-05-15T02:15:06.802Z",
          "iopub.status.idle": "2022-05-15T02:15:06.838Z",
          "shell.execute_reply": "2022-05-15T02:15:04.471Z"
        }
      }
    },
    {
      "cell_type": "code",
      "source": [
        " len(x)"
      ],
      "outputs": [
        {
          "output_type": "execute_result",
          "execution_count": 9,
          "data": {
            "text/plain": "20"
          },
          "metadata": {}
        }
      ],
      "execution_count": 9,
      "metadata": {
        "collapsed": true,
        "jupyter": {
          "source_hidden": false,
          "outputs_hidden": false
        },
        "nteract": {
          "transient": {
            "deleting": false
          }
        },
        "execution": {
          "iopub.status.busy": "2022-05-15T02:15:06.870Z",
          "iopub.execute_input": "2022-05-15T02:15:06.891Z",
          "iopub.status.idle": "2022-05-15T02:15:06.926Z",
          "shell.execute_reply": "2022-05-15T02:15:04.495Z"
        }
      }
    },
    {
      "cell_type": "code",
      "source": [
        "x.shape"
      ],
      "outputs": [
        {
          "output_type": "execute_result",
          "execution_count": 10,
          "data": {
            "text/plain": "(20,)"
          },
          "metadata": {}
        }
      ],
      "execution_count": 10,
      "metadata": {
        "collapsed": true,
        "jupyter": {
          "source_hidden": false,
          "outputs_hidden": false
        },
        "nteract": {
          "transient": {
            "deleting": false
          }
        },
        "execution": {
          "iopub.status.busy": "2022-05-15T02:15:06.960Z",
          "iopub.execute_input": "2022-05-15T02:15:06.985Z",
          "iopub.status.idle": "2022-05-15T02:15:07.023Z",
          "shell.execute_reply": "2022-05-15T02:15:04.519Z"
        }
      }
    },
    {
      "cell_type": "code",
      "source": [
        "type(x)"
      ],
      "outputs": [
        {
          "output_type": "execute_result",
          "execution_count": 11,
          "data": {
            "text/plain": "numpy.ndarray"
          },
          "metadata": {}
        }
      ],
      "execution_count": 11,
      "metadata": {
        "collapsed": true,
        "jupyter": {
          "source_hidden": false,
          "outputs_hidden": false
        },
        "nteract": {
          "transient": {
            "deleting": false
          }
        },
        "execution": {
          "iopub.status.busy": "2022-05-15T02:15:07.058Z",
          "iopub.execute_input": "2022-05-15T02:15:07.080Z",
          "iopub.status.idle": "2022-05-15T02:15:07.118Z",
          "shell.execute_reply": "2022-05-15T02:15:04.544Z"
        }
      }
    },
    {
      "cell_type": "code",
      "source": [
        "x[0]"
      ],
      "outputs": [
        {
          "output_type": "execute_result",
          "execution_count": 12,
          "data": {
            "text/plain": "53.8"
          },
          "metadata": {}
        }
      ],
      "execution_count": 12,
      "metadata": {
        "collapsed": true,
        "jupyter": {
          "source_hidden": false,
          "outputs_hidden": false
        },
        "nteract": {
          "transient": {
            "deleting": false
          }
        },
        "execution": {
          "iopub.status.busy": "2022-05-15T02:15:07.151Z",
          "iopub.execute_input": "2022-05-15T02:15:07.173Z",
          "iopub.status.idle": "2022-05-15T02:15:07.209Z",
          "shell.execute_reply": "2022-05-15T02:15:04.568Z"
        }
      }
    },
    {
      "cell_type": "code",
      "source": [
        "type(x[0])"
      ],
      "outputs": [
        {
          "output_type": "execute_result",
          "execution_count": 13,
          "data": {
            "text/plain": "numpy.float64"
          },
          "metadata": {}
        }
      ],
      "execution_count": 13,
      "metadata": {
        "collapsed": true,
        "jupyter": {
          "source_hidden": false,
          "outputs_hidden": false
        },
        "nteract": {
          "transient": {
            "deleting": false
          }
        },
        "execution": {
          "iopub.status.busy": "2022-05-15T02:15:07.242Z",
          "iopub.execute_input": "2022-05-15T02:15:07.265Z",
          "iopub.status.idle": "2022-05-15T02:15:07.303Z",
          "shell.execute_reply": "2022-05-15T02:15:04.592Z"
        }
      }
    },
    {
      "cell_type": "markdown",
      "source": [
        "## Vector Transposition"
      ],
      "metadata": {
        "nteract": {
          "transient": {
            "deleting": false
          }
        }
      }
    },
    {
      "cell_type": "code",
      "source": [
        "# Transposing a regular 1-D array has no effect\n",
        "x_t = x.T\n",
        "x_t"
      ],
      "outputs": [
        {
          "output_type": "execute_result",
          "execution_count": 14,
          "data": {
            "text/plain": "array([ 53.8 ,  45.48,  52.39,  53.19,  56.39,  85.31,  86.71,  81.84,\n        82.42,  81.09,  82.54,  78.06,  81.56,  81.35,  81.43,  92.66,\n        79.06,  82.76,  78.55, 106.15])"
          },
          "metadata": {}
        }
      ],
      "execution_count": 14,
      "metadata": {
        "collapsed": true,
        "jupyter": {
          "source_hidden": false,
          "outputs_hidden": false
        },
        "nteract": {
          "transient": {
            "deleting": false
          }
        },
        "execution": {
          "iopub.status.busy": "2022-05-15T02:15:07.338Z",
          "iopub.execute_input": "2022-05-15T02:15:07.362Z",
          "iopub.status.idle": "2022-05-15T02:15:07.402Z",
          "shell.execute_reply": "2022-05-15T02:15:04.616Z"
        }
      }
    },
    {
      "cell_type": "code",
      "source": [
        "x_t.shape"
      ],
      "outputs": [
        {
          "output_type": "execute_result",
          "execution_count": 15,
          "data": {
            "text/plain": "(20,)"
          },
          "metadata": {}
        }
      ],
      "execution_count": 15,
      "metadata": {
        "collapsed": true,
        "jupyter": {
          "source_hidden": false,
          "outputs_hidden": false
        },
        "nteract": {
          "transient": {
            "deleting": false
          }
        },
        "execution": {
          "iopub.status.busy": "2022-05-15T02:15:07.439Z",
          "iopub.execute_input": "2022-05-15T02:15:07.463Z",
          "iopub.status.idle": "2022-05-15T02:15:07.502Z",
          "shell.execute_reply": "2022-05-15T02:15:04.641Z"
        }
      }
    },
    {
      "cell_type": "code",
      "source": [
        "Open = np.round(Open, 2)\n",
        "Open"
      ],
      "outputs": [
        {
          "output_type": "execute_result",
          "execution_count": 16,
          "data": {
            "text/plain": "array([ 46.86,  48.03,  48.02,  49.35,  47.85,  48.94,  49.26,  48.66,\n        48.64,  48.23,  49.17,  50.2 ,  50.96,  51.63,  51.34,  52.28,\n        48.45,  50.03,  47.84,  46.49,  48.4 ,  46.4 ,  49.21,  50.29,\n        48.8 ,  48.91,  49.47,  53.22,  54.53,  53.43,  55.19,  54.94,\n        57.99,  58.44,  56.71,  48.18,  51.14,  47.7 ,  45.38,  41.36,\n        47.42,  49.03,  48.25,  48.68,  49.44,  43.03,  45.41,  44.19,\n        42.  ,  42.2 ,  39.08,  40.19,  39.54,  39.56,  41.51,  40.62,\n        44.04,  46.79,  45.78,  46.32,  47.24,  47.93,  44.18,  43.4 ,\n        44.3 ,  44.3 ,  48.96,  48.07,  49.65,  48.47,  52.24,  53.73,\n        55.96,  57.35,  55.98,  56.9 ,  54.91,  56.65,  55.1 ,  57.44,\n        57.16,  54.53,  53.43,  51.07,  49.82,  53.43,  52.42,  52.93,\n        52.15,  52.9 ,  56.21,  54.04,  52.1 ,  53.32,  54.98,  54.39,\n        56.55,  56.68,  54.77,  56.01,  53.27,  52.25,  52.07,  53.31,\n        53.45,  53.6 ,  52.59,  52.99,  53.3 ,  52.95,  57.2 ,  55.94,\n        55.01,  52.58,  55.72,  54.79,  54.62,  54.41,  54.67,  55.05,\n        53.94,  52.56,  51.85,  50.15,  51.16,  52.63,  53.03,  52.9 ,\n        53.28,  53.01,  53.52,  57.54,  56.68,  53.3 ,  54.96,  54.68,\n        55.31,  55.23,  57.81,  57.07,  61.63,  64.18,  69.28,  68.1 ,\n        75.5 ,  75.37,  78.67,  78.19,  78.03,  84.96,  85.49,  86.67,\n        85.05,  80.71,  78.43,  82.88,  81.81,  82.09,  82.8 ,  81.78,\n        79.74,  83.29,  84.55,  83.36,  86.97,  86.35,  84.3 ,  85.05,\n        91.92,  94.01,  87.84,  81.45,  78.05,  81.4 ,  83.07,  79.82,\n        76.8 ,  77.66,  79.35,  74.88,  77.  ,  74.23,  78.36,  77.39,\n        74.54,  76.35,  79.12,  79.3 ,  81.75,  83.06,  82.58,  82.55,\n        86.21,  86.1 ,  88.11,  84.74,  83.65,  84.86,  85.86,  83.4 ,\n        83.54,  83.62,  82.16,  81.72,  79.65,  80.93,  82.55,  82.  ,\n        78.73,  76.75,  77.09,  75.85,  74.93,  80.25,  83.27,  83.52,\n        84.24,  81.93,  79.39,  81.32,  82.73,  81.21,  83.93,  83.01,\n        82.39,  85.28,  85.52,  85.72,  85.76,  87.99,  87.33,  92.25,\n        92.89,  94.06,  92.58,  94.95,  94.05,  92.76,  89.55,  91.54,\n        92.21,  95.93,  97.04,  97.55,  97.27,  94.25,  93.36,  93.08,\n        91.8 ,  92.93,  91.66,  90.78,  92.1 ,  92.11,  92.1 ,  91.62,\n        91.33,  95.98,  94.03,  97.86,  93.01,  91.77,  90.75,  89.56,\n        90.55,  89.34,  94.42,  94.14,  94.91,  91.1 ,  89.83,  87.56,\n        86.83,  88.49,  88.6 ,  88.22,  88.15,  88.31,  91.39,  91.5 ,\n        92.9 ,  92.75,  93.9 ,  90.56,  89.09,  89.75,  88.15,  83.4 ,\n        84.33,  86.17,  83.57,  85.37,  86.92,  84.28,  80.23,  79.  ,\n        78.03,  76.73,  79.75,  79.4 ,  79.73,  81.91,  83.66,  81.75,\n        81.06,  78.49,  79.99,  80.13,  77.55,  75.85,  76.62,  77.03,\n        76.47,  76.57,  80.16,  81.74,  81.21,  81.32,  83.32,  82.8 ,\n        82.06,  79.67,  79.88,  80.32,  83.3 ,  82.13,  80.82,  78.99,\n        81.61,  80.21,  83.35,  85.67,  88.85,  84.7 ,  82.97,  81.97,\n        77.95,  79.05,  77.63,  78.75,  78.2 ,  73.57,  75.09,  75.21,\n        74.02,  74.22,  74.74,  73.16,  76.81,  78.55,  77.26,  77.33,\n        77.83,  78.11,  78.66,  81.01,  81.  ,  81.13,  80.92,  81.4 ,\n        81.87,  81.09,  80.02,  81.61,  81.51,  81.59,  80.75,  80.77,\n        84.28,  83.49,  82.9 ,  83.83,  84.39,  86.34,  86.38,  87.41,\n        90.82,  94.04,  93.28,  94.88,  95.02,  87.86,  90.04,  91.22,\n        90.48,  90.76,  89.78,  87.32,  84.99,  87.09,  87.25,  89.4 ,\n        91.35,  92.01,  92.94,  93.44,  96.58, 101.6 , 105.93, 108.15,\n       114.36, 116.63, 110.55, 111.31, 107.9 , 107.6 , 107.39, 107.17,\n       110.2 , 106.64, 107.35, 103.32, 104.32, 105.3 , 109.45, 108.13,\n       108.57, 108.01, 112.61, 111.26, 111.3 , 110.32, 108.85, 109.96,\n       108.88, 106.56, 106.99, 105.26, 105.52, 106.  , 104.92, 105.56,\n       101.58, 102.15, 102.82, 104.89, 105.19, 105.07, 106.84, 102.3 ,\n       102.08, 102.6 , 101.74, 100.92, 100.45, 104.6 , 106.55, 104.62,\n       105.17, 106.28, 110.5 , 112.51, 111.9 , 116.16, 116.29, 116.5 ,\n       120.83, 120.52, 122.99, 121.63, 122.86, 120.95, 119.45, 124.98,\n       127.75, 132.01, 139.19, 137.7 , 154.01, 143.93, 142.96, 146.03,\n       148.  , 145.93, 151.98, 157.07, 155.76, 157.14, 150.41, 149.46,\n       155.8 , 157.5 , 163.28, 160.37, 147.68, 151.65, 141.14, 143.9 ,\n       144.96, 145.16, 141.29, 138.25, 131.67, 135.11, 147.  , 136.3 ,\n       135.97, 138.19, 142.65, 143.89, 147.51, 155.88, 152.82, 147.44,\n       146.16])"
          },
          "metadata": {}
        }
      ],
      "execution_count": 16,
      "metadata": {
        "collapsed": true,
        "jupyter": {
          "source_hidden": false,
          "outputs_hidden": false
        },
        "nteract": {
          "transient": {
            "deleting": false
          }
        },
        "execution": {
          "iopub.status.busy": "2022-05-15T02:15:07.536Z",
          "iopub.execute_input": "2022-05-15T02:15:07.559Z",
          "iopub.status.idle": "2022-05-15T02:15:07.596Z",
          "shell.execute_reply": "2022-05-15T02:15:04.664Z"
        }
      }
    },
    {
      "cell_type": "code",
      "source": [
        "y = [item for item, count in collections.Counter(Open).items() if count > 1]\n",
        "y"
      ],
      "outputs": [
        {
          "output_type": "execute_result",
          "execution_count": 17,
          "data": {
            "text/plain": "[54.53,\n 53.43,\n 44.3,\n 52.9,\n 56.68,\n 53.3,\n 78.03,\n 85.05,\n 82.8,\n 81.4,\n 81.75,\n 82.55,\n 83.4,\n 75.85,\n 81.32,\n 81.21,\n 92.1,\n 88.15,\n 84.28,\n 81.61]"
          },
          "metadata": {}
        }
      ],
      "execution_count": 17,
      "metadata": {
        "collapsed": true,
        "jupyter": {
          "source_hidden": false,
          "outputs_hidden": false
        },
        "nteract": {
          "transient": {
            "deleting": false
          }
        },
        "execution": {
          "iopub.status.busy": "2022-05-15T02:15:07.628Z",
          "iopub.execute_input": "2022-05-15T02:15:07.650Z",
          "iopub.status.idle": "2022-05-15T02:15:07.687Z",
          "shell.execute_reply": "2022-05-15T02:15:04.687Z"
        }
      }
    },
    {
      "cell_type": "code",
      "source": [
        "y = np.array([y])"
      ],
      "outputs": [],
      "execution_count": 18,
      "metadata": {
        "collapsed": true,
        "jupyter": {
          "source_hidden": false,
          "outputs_hidden": false
        },
        "nteract": {
          "transient": {
            "deleting": false
          }
        },
        "execution": {
          "iopub.status.busy": "2022-05-15T02:15:07.719Z",
          "iopub.execute_input": "2022-05-15T02:15:07.743Z",
          "iopub.status.idle": "2022-05-15T02:15:07.769Z",
          "shell.execute_reply": "2022-05-15T02:15:04.711Z"
        }
      }
    },
    {
      "cell_type": "code",
      "source": [
        "y.shape"
      ],
      "outputs": [
        {
          "output_type": "execute_result",
          "execution_count": 19,
          "data": {
            "text/plain": "(1, 20)"
          },
          "metadata": {}
        }
      ],
      "execution_count": 19,
      "metadata": {
        "collapsed": true,
        "jupyter": {
          "source_hidden": false,
          "outputs_hidden": false
        },
        "nteract": {
          "transient": {
            "deleting": false
          }
        },
        "execution": {
          "iopub.status.busy": "2022-05-15T02:15:07.803Z",
          "iopub.execute_input": "2022-05-15T02:15:07.825Z",
          "iopub.status.idle": "2022-05-15T02:15:07.864Z",
          "shell.execute_reply": "2022-05-15T02:15:04.734Z"
        }
      }
    },
    {
      "cell_type": "code",
      "source": [
        "y_t = y.T\n",
        "y_t"
      ],
      "outputs": [
        {
          "output_type": "execute_result",
          "execution_count": 20,
          "data": {
            "text/plain": "array([[54.53],\n       [53.43],\n       [44.3 ],\n       [52.9 ],\n       [56.68],\n       [53.3 ],\n       [78.03],\n       [85.05],\n       [82.8 ],\n       [81.4 ],\n       [81.75],\n       [82.55],\n       [83.4 ],\n       [75.85],\n       [81.32],\n       [81.21],\n       [92.1 ],\n       [88.15],\n       [84.28],\n       [81.61]])"
          },
          "metadata": {}
        }
      ],
      "execution_count": 20,
      "metadata": {
        "collapsed": true,
        "jupyter": {
          "source_hidden": false,
          "outputs_hidden": false
        },
        "nteract": {
          "transient": {
            "deleting": false
          }
        },
        "execution": {
          "iopub.status.busy": "2022-05-15T02:15:07.899Z",
          "iopub.execute_input": "2022-05-15T02:15:07.922Z",
          "iopub.status.idle": "2022-05-15T02:15:07.957Z",
          "shell.execute_reply": "2022-05-15T02:15:04.759Z"
        }
      }
    },
    {
      "cell_type": "code",
      "source": [
        "y_t.shape "
      ],
      "outputs": [
        {
          "output_type": "execute_result",
          "execution_count": 21,
          "data": {
            "text/plain": "(20, 1)"
          },
          "metadata": {}
        }
      ],
      "execution_count": 21,
      "metadata": {
        "collapsed": true,
        "jupyter": {
          "source_hidden": false,
          "outputs_hidden": false
        },
        "nteract": {
          "transient": {
            "deleting": false
          }
        },
        "execution": {
          "iopub.status.busy": "2022-05-15T02:15:07.989Z",
          "iopub.execute_input": "2022-05-15T02:15:08.012Z",
          "iopub.status.idle": "2022-05-15T02:15:08.048Z",
          "shell.execute_reply": "2022-05-15T02:15:04.784Z"
        }
      }
    },
    {
      "cell_type": "code",
      "source": [
        "y_t.T "
      ],
      "outputs": [
        {
          "output_type": "execute_result",
          "execution_count": 22,
          "data": {
            "text/plain": "array([[54.53, 53.43, 44.3 , 52.9 , 56.68, 53.3 , 78.03, 85.05, 82.8 ,\n        81.4 , 81.75, 82.55, 83.4 , 75.85, 81.32, 81.21, 92.1 , 88.15,\n        84.28, 81.61]])"
          },
          "metadata": {}
        }
      ],
      "execution_count": 22,
      "metadata": {
        "collapsed": true,
        "jupyter": {
          "source_hidden": false,
          "outputs_hidden": false
        },
        "nteract": {
          "transient": {
            "deleting": false
          }
        },
        "execution": {
          "iopub.status.busy": "2022-05-15T02:15:08.081Z",
          "iopub.execute_input": "2022-05-15T02:15:08.102Z",
          "iopub.status.idle": "2022-05-15T02:15:08.137Z",
          "shell.execute_reply": "2022-05-15T02:15:04.808Z"
        }
      }
    },
    {
      "cell_type": "code",
      "source": [
        "y_t.T.shape"
      ],
      "outputs": [
        {
          "output_type": "execute_result",
          "execution_count": 23,
          "data": {
            "text/plain": "(1, 20)"
          },
          "metadata": {}
        }
      ],
      "execution_count": 23,
      "metadata": {
        "collapsed": true,
        "jupyter": {
          "source_hidden": false,
          "outputs_hidden": false
        },
        "nteract": {
          "transient": {
            "deleting": false
          }
        },
        "execution": {
          "iopub.status.busy": "2022-05-15T02:15:08.170Z",
          "iopub.execute_input": "2022-05-15T02:15:08.192Z",
          "iopub.status.idle": "2022-05-15T02:15:08.227Z",
          "shell.execute_reply": "2022-05-15T02:15:04.829Z"
        }
      }
    },
    {
      "cell_type": "markdown",
      "source": [
        "## Torch and Tensorflow"
      ],
      "metadata": {
        "nteract": {
          "transient": {
            "deleting": false
          }
        }
      }
    },
    {
      "cell_type": "code",
      "source": [
        "\n",
        "import torch\n",
        "import tensorflow as tf\n"
      ],
      "outputs": [],
      "execution_count": 24,
      "metadata": {
        "collapsed": true,
        "jupyter": {
          "source_hidden": false,
          "outputs_hidden": false
        },
        "nteract": {
          "transient": {
            "deleting": false
          }
        },
        "execution": {
          "iopub.status.busy": "2022-05-15T02:15:08.258Z",
          "iopub.execute_input": "2022-05-15T02:15:08.279Z",
          "shell.execute_reply": "2022-05-15T02:15:04.854Z",
          "iopub.status.idle": "2022-05-15T02:15:08.304Z"
        }
      }
    },
    {
      "cell_type": "code",
      "source": [
        "x_pt = torch.tensor(x)\n",
        "x_pt"
      ],
      "outputs": [
        {
          "output_type": "execute_result",
          "execution_count": 25,
          "data": {
            "text/plain": "tensor([ 53.8000,  45.4800,  52.3900,  53.1900,  56.3900,  85.3100,  86.7100,\n         81.8400,  82.4200,  81.0900,  82.5400,  78.0600,  81.5600,  81.3500,\n         81.4300,  92.6600,  79.0600,  82.7600,  78.5500, 106.1500],\n       dtype=torch.float64)"
          },
          "metadata": {}
        }
      ],
      "execution_count": 25,
      "metadata": {
        "collapsed": true,
        "jupyter": {
          "source_hidden": false,
          "outputs_hidden": false
        },
        "nteract": {
          "transient": {
            "deleting": false
          }
        },
        "execution": {
          "iopub.status.busy": "2022-05-15T02:15:08.334Z",
          "iopub.execute_input": "2022-05-15T02:15:08.355Z",
          "iopub.status.idle": "2022-05-15T02:15:08.391Z",
          "shell.execute_reply": "2022-05-15T02:15:04.878Z"
        }
      }
    },
    {
      "cell_type": "code",
      "source": [
        "\n",
        "x_tf = tf.Variable(x)\n",
        "x_tf\n"
      ],
      "outputs": [
        {
          "output_type": "stream",
          "name": "stdout",
          "text": [
            "WARNING:tensorflow:From C:\\Users\\Tin Hang\\Anaconda3\\lib\\site-packages\\tensorflow\\python\\framework\\op_def_library.py:263: colocate_with (from tensorflow.python.framework.ops) is deprecated and will be removed in a future version.\n",
            "Instructions for updating:\n",
            "Colocations handled automatically by placer.\n"
          ]
        },
        {
          "output_type": "execute_result",
          "execution_count": 26,
          "data": {
            "text/plain": "<tf.Variable 'Variable:0' shape=(20,) dtype=float64_ref>"
          },
          "metadata": {}
        }
      ],
      "execution_count": 26,
      "metadata": {
        "collapsed": true,
        "jupyter": {
          "source_hidden": false,
          "outputs_hidden": false
        },
        "nteract": {
          "transient": {
            "deleting": false
          }
        },
        "execution": {
          "iopub.status.busy": "2022-05-15T02:15:08.424Z",
          "iopub.execute_input": "2022-05-15T02:15:08.444Z",
          "iopub.status.idle": "2022-05-15T02:15:08.491Z",
          "shell.execute_reply": "2022-05-15T02:15:04.899Z"
        }
      }
    },
    {
      "cell_type": "markdown",
      "source": [
        "## $L^2$ Norm"
      ],
      "metadata": {
        "nteract": {
          "transient": {
            "deleting": false
          }
        }
      }
    },
    {
      "cell_type": "code",
      "source": [
        "x"
      ],
      "outputs": [
        {
          "output_type": "execute_result",
          "execution_count": 27,
          "data": {
            "text/plain": "array([ 53.8 ,  45.48,  52.39,  53.19,  56.39,  85.31,  86.71,  81.84,\n        82.42,  81.09,  82.54,  78.06,  81.56,  81.35,  81.43,  92.66,\n        79.06,  82.76,  78.55, 106.15])"
          },
          "metadata": {}
        }
      ],
      "execution_count": 27,
      "metadata": {
        "collapsed": true,
        "jupyter": {
          "source_hidden": false,
          "outputs_hidden": false
        },
        "nteract": {
          "transient": {
            "deleting": false
          }
        },
        "execution": {
          "iopub.status.busy": "2022-05-15T02:15:08.525Z",
          "iopub.execute_input": "2022-05-15T02:15:08.547Z",
          "iopub.status.idle": "2022-05-15T02:15:08.586Z",
          "shell.execute_reply": "2022-05-15T02:15:04.922Z"
        }
      }
    },
    {
      "cell_type": "code",
      "source": [
        "np.linalg.norm(x)"
      ],
      "outputs": [
        {
          "output_type": "execute_result",
          "execution_count": 28,
          "data": {
            "text/plain": "347.1452995504908"
          },
          "metadata": {}
        }
      ],
      "execution_count": 28,
      "metadata": {
        "collapsed": true,
        "jupyter": {
          "source_hidden": false,
          "outputs_hidden": false
        },
        "nteract": {
          "transient": {
            "deleting": false
          }
        },
        "execution": {
          "iopub.status.busy": "2022-05-15T02:15:08.619Z",
          "iopub.execute_input": "2022-05-15T02:15:08.642Z",
          "iopub.status.idle": "2022-05-15T02:15:08.677Z",
          "shell.execute_reply": "2022-05-15T02:15:04.946Z"
        }
      }
    },
    {
      "cell_type": "code",
      "source": [
        "np.dot(x,x)"
      ],
      "outputs": [
        {
          "output_type": "execute_result",
          "execution_count": 29,
          "data": {
            "text/plain": "120509.859"
          },
          "metadata": {}
        }
      ],
      "execution_count": 29,
      "metadata": {
        "collapsed": true,
        "jupyter": {
          "source_hidden": false,
          "outputs_hidden": false
        },
        "nteract": {
          "transient": {
            "deleting": false
          }
        },
        "execution": {
          "iopub.status.busy": "2022-05-15T02:15:08.711Z",
          "iopub.execute_input": "2022-05-15T02:15:08.732Z",
          "iopub.status.idle": "2022-05-15T02:15:08.771Z",
          "shell.execute_reply": "2022-05-15T02:15:04.968Z"
        }
      }
    },
    {
      "cell_type": "markdown",
      "source": [
        "## $L^1$ Norm"
      ],
      "metadata": {
        "nteract": {
          "transient": {
            "deleting": false
          }
        }
      }
    },
    {
      "cell_type": "code",
      "source": [
        "norm_a_l1 =np.linalg.norm(x, ord=1)"
      ],
      "outputs": [],
      "execution_count": 30,
      "metadata": {
        "collapsed": true,
        "jupyter": {
          "source_hidden": false,
          "outputs_hidden": false
        },
        "nteract": {
          "transient": {
            "deleting": false
          }
        },
        "execution": {
          "iopub.status.busy": "2022-05-15T02:15:08.807Z",
          "iopub.execute_input": "2022-05-15T02:15:08.829Z",
          "iopub.status.idle": "2022-05-15T02:15:08.856Z",
          "shell.execute_reply": "2022-05-15T02:15:04.990Z"
        }
      }
    },
    {
      "cell_type": "code",
      "source": [
        "print(\"x =\", x, \"\\n\")\n",
        "\n",
        "print(\"L1 norm of x:\", norm_a_l1)"
      ],
      "outputs": [
        {
          "output_type": "stream",
          "name": "stdout",
          "text": [
            "x = [ 53.8   45.48  52.39  53.19  56.39  85.31  86.71  81.84  82.42  81.09\n",
            "  82.54  78.06  81.56  81.35  81.43  92.66  79.06  82.76  78.55 106.15] \n",
            "\n",
            "L1 norm of x: 1522.74\n"
          ]
        }
      ],
      "execution_count": 31,
      "metadata": {
        "collapsed": true,
        "jupyter": {
          "source_hidden": false,
          "outputs_hidden": false
        },
        "nteract": {
          "transient": {
            "deleting": false
          }
        },
        "execution": {
          "iopub.status.busy": "2022-05-15T02:15:08.890Z",
          "iopub.execute_input": "2022-05-15T02:15:08.915Z",
          "iopub.status.idle": "2022-05-15T02:15:08.952Z",
          "shell.execute_reply": "2022-05-15T02:15:05.012Z"
        }
      }
    },
    {
      "cell_type": "markdown",
      "source": [
        "### Max Norm"
      ],
      "metadata": {
        "nteract": {
          "transient": {
            "deleting": false
          }
        }
      }
    },
    {
      "cell_type": "code",
      "source": [
        "np.max([np.abs(x)])\n",
        "\n"
      ],
      "outputs": [
        {
          "output_type": "execute_result",
          "execution_count": 32,
          "data": {
            "text/plain": "106.15"
          },
          "metadata": {}
        }
      ],
      "execution_count": 32,
      "metadata": {
        "collapsed": true,
        "jupyter": {
          "source_hidden": false,
          "outputs_hidden": false
        },
        "nteract": {
          "transient": {
            "deleting": false
          }
        },
        "execution": {
          "iopub.status.busy": "2022-05-15T02:15:08.985Z",
          "iopub.execute_input": "2022-05-15T02:15:09.009Z",
          "iopub.status.idle": "2022-05-15T02:15:09.048Z",
          "shell.execute_reply": "2022-05-15T02:15:05.034Z"
        }
      }
    },
    {
      "cell_type": "markdown",
      "source": [
        "### Orthogonal Vectors"
      ],
      "metadata": {
        "nteract": {
          "transient": {
            "deleting": false
          }
        }
      }
    },
    {
      "cell_type": "code",
      "source": [
        "i = np.array([x])\n",
        "i = i.T\n",
        "i.shape"
      ],
      "outputs": [
        {
          "output_type": "execute_result",
          "execution_count": 33,
          "data": {
            "text/plain": "(20, 1)"
          },
          "metadata": {}
        }
      ],
      "execution_count": 33,
      "metadata": {
        "collapsed": true,
        "jupyter": {
          "source_hidden": false,
          "outputs_hidden": false
        },
        "nteract": {
          "transient": {
            "deleting": false
          }
        },
        "execution": {
          "iopub.status.busy": "2022-05-15T02:15:09.081Z",
          "iopub.execute_input": "2022-05-15T02:15:09.102Z",
          "iopub.status.idle": "2022-05-15T02:15:09.139Z",
          "shell.execute_reply": "2022-05-15T02:15:05.056Z"
        }
      }
    },
    {
      "cell_type": "code",
      "source": [
        "j = np.array(y)\n",
        "j.shape\n",
        "\n",
        "\n"
      ],
      "outputs": [
        {
          "output_type": "execute_result",
          "execution_count": 34,
          "data": {
            "text/plain": "(1, 20)"
          },
          "metadata": {}
        }
      ],
      "execution_count": 34,
      "metadata": {
        "collapsed": true,
        "jupyter": {
          "source_hidden": false,
          "outputs_hidden": false
        },
        "nteract": {
          "transient": {
            "deleting": false
          }
        },
        "execution": {
          "iopub.status.busy": "2022-05-15T02:15:09.174Z",
          "iopub.execute_input": "2022-05-15T02:15:09.196Z",
          "iopub.status.idle": "2022-05-15T02:15:09.231Z",
          "shell.execute_reply": "2022-05-15T02:15:05.077Z"
        }
      }
    },
    {
      "cell_type": "code",
      "source": [
        "np.dot(i, j)"
      ],
      "outputs": [
        {
          "output_type": "execute_result",
          "execution_count": 35,
          "data": {
            "text/plain": "array([[2933.714 , 2874.534 , 2383.34  , 2846.02  , 3049.384 , 2867.54  ,\n        4198.014 , 4575.69  , 4454.64  , 4379.32  , 4398.15  , 4441.19  ,\n        4486.92  , 4080.73  , 4375.016 , 4369.098 , 4954.98  , 4742.47  ,\n        4534.264 , 4390.618 ],\n       [2480.0244, 2429.9964, 2014.764 , 2405.892 , 2577.8064, 2424.084 ,\n        3548.8044, 3868.074 , 3765.744 , 3702.072 , 3717.99  , 3754.374 ,\n        3793.032 , 3449.658 , 3698.4336, 3693.4308, 4188.708 , 4009.062 ,\n        3833.0544, 3711.6228],\n       [2856.8267, 2799.1977, 2320.877 , 2771.431 , 2969.4652, 2792.387 ,\n        4087.9917, 4455.7695, 4337.892 , 4264.546 , 4282.8825, 4324.7945,\n        4369.326 , 3973.7815, 4260.3548, 4254.5919, 4825.119 , 4618.1785,\n        4415.4292, 4275.5479],\n       [2900.4507, 2841.9417, 2356.317 , 2813.751 , 3014.8092, 2835.027 ,\n        4150.4157, 4523.8095, 4404.132 , 4329.666 , 4348.2825, 4390.8345,\n        4436.046 , 4034.4615, 4325.4108, 4319.5599, 4898.799 , 4688.6985,\n        4482.8532, 4340.8359],\n       [3074.9467, 3012.9177, 2498.077 , 2983.031 , 3196.1852, 3005.587 ,\n        4400.1117, 4795.9695, 4669.092 , 4590.146 , 4609.8825, 4654.9945,\n        4702.926 , 4277.1815, 4585.6348, 4579.4319, 5193.519 , 4970.7785,\n        4752.5492, 4601.9879],\n       [4651.9543, 4558.1133, 3779.233 , 4512.899 , 4835.3708, 4547.023 ,\n        6656.7393, 7255.6155, 7063.668 , 6944.234 , 6974.0925, 7042.3405,\n        7114.854 , 6470.7635, 6937.4092, 6928.0251, 7857.051 , 7520.0765,\n        7189.9268, 6962.1491],\n       [4728.2963, 4632.9153, 3841.253 , 4586.959 , 4914.7228, 4621.643 ,\n        6765.9813, 7374.6855, 7179.588 , 7058.194 , 7088.5425, 7157.9105,\n        7231.614 , 6576.9535, 7051.2572, 7041.7191, 7985.991 , 7643.4865,\n        7307.9188, 7076.4031],\n       [4462.7352, 4372.7112, 3625.512 , 4329.336 , 4638.6912, 4362.072 ,\n        6385.9752, 6960.492 , 6776.352 , 6661.776 , 6690.42  , 6755.892 ,\n        6825.456 , 6207.564 , 6655.2288, 6646.2264, 7537.464 , 7214.196 ,\n        6897.4752, 6678.9624],\n       [4494.3626, 4403.7006, 3651.206 , 4360.018 , 4671.5656, 4392.986 ,\n        6431.2326, 7009.821 , 6824.376 , 6708.988 , 6737.835 , 6803.771 ,\n        6873.828 , 6251.557 , 6702.3944, 6693.3282, 7590.882 , 7265.323 ,\n        6946.3576, 6726.2962],\n       [4421.8377, 4332.6387, 3592.287 , 4289.661 , 4596.1812, 4322.097 ,\n        6327.4527, 6896.7045, 6714.252 , 6600.726 , 6629.1075, 6693.9795,\n        6762.906 , 6150.6765, 6594.2388, 6585.3189, 7468.389 , 7148.0835,\n        6834.2652, 6617.7549],\n       [4500.9062, 4410.1122, 3656.522 , 4366.366 , 4678.3672, 4399.382 ,\n        6440.5962, 7020.027 , 6834.312 , 6718.756 , 6747.645 , 6813.677 ,\n        6883.836 , 6260.659 , 6712.1528, 6703.0734, 7601.934 , 7275.901 ,\n        6956.4712, 6736.0894],\n       [4256.6118, 4170.7458, 3458.058 , 4129.374 , 4424.4408, 4160.598 ,\n        6091.0218, 6639.003 , 6463.368 , 6354.084 , 6381.405 , 6443.853 ,\n        6510.204 , 5920.851 , 6347.8392, 6339.2526, 7189.326 , 6880.989 ,\n        6578.8968, 6370.4766],\n       [4447.4668, 4357.7508, 3613.108 , 4314.524 , 4622.8208, 4347.148 ,\n        6364.1268, 6936.678 , 6753.168 , 6638.984 , 6667.53  , 6732.778 ,\n        6802.104 , 6186.326 , 6632.4592, 6623.4876, 7511.676 , 7189.514 ,\n        6873.8768, 6656.1116],\n       [4436.0155, 4346.5305, 3603.805 , 4303.415 , 4610.918 , 4335.955 ,\n        6347.7405, 6918.8175, 6735.78  , 6621.89  , 6650.3625, 6715.4425,\n        6784.59  , 6170.3975, 6615.382 , 6606.4335, 7492.335 , 7171.0025,\n        6856.178 , 6638.9735],\n       [4440.3779, 4350.8049, 3607.349 , 4307.647 , 4615.4524, 4340.219 ,\n        6353.9829, 6925.6215, 6742.404 , 6628.402 , 6656.9025, 6722.0465,\n        6791.262 , 6176.4655, 6621.8876, 6612.9303, 7499.703 , 7178.0545,\n        6862.9204, 6645.5023],\n       [5052.7498, 4950.8238, 4104.838 , 4901.714 , 5251.9688, 4938.778 ,\n        7230.2598, 7880.733 , 7672.248 , 7542.524 , 7574.955 , 7649.083 ,\n        7727.844 , 7028.261 , 7535.1112, 7524.9186, 8533.986 , 8167.979 ,\n        7809.3848, 7561.9826],\n       [4311.1418, 4224.1758, 3502.358 , 4182.274 , 4481.1208, 4213.898 ,\n        6169.0518, 6724.053 , 6546.168 , 6435.484 , 6463.155 , 6526.403 ,\n        6593.604 , 5996.701 , 6429.1592, 6420.4626, 7281.426 , 6969.139 ,\n        6663.1768, 6452.0866],\n       [4512.9028, 4421.8668, 3666.268 , 4378.004 , 4690.8368, 4411.108 ,\n        6457.7628, 7038.738 , 6852.528 , 6736.664 , 6765.63  , 6831.838 ,\n        6902.184 , 6277.346 , 6730.0432, 6720.9396, 7622.196 , 7295.294 ,\n        6975.0128, 6754.0436],\n       [4283.3315, 4196.9265, 3479.765 , 4155.295 , 4452.214 , 4186.715 ,\n        6129.2565, 6680.6775, 6503.94  , 6393.97  , 6421.4625, 6484.3025,\n        6551.07  , 5958.0175, 6387.686 , 6379.0455, 7234.455 , 6924.1825,\n        6620.194 , 6410.4655],\n       [5788.3595, 5671.5945, 4702.445 , 5615.335 , 6016.582 , 5657.795 ,\n        8282.8845, 9028.0575, 8789.22  , 8640.61  , 8677.7625, 8762.6825,\n        8852.91  , 8051.4775, 8632.118 , 8620.4415, 9776.415 , 9357.1225,\n        8946.322 , 8662.9015]])"
          },
          "metadata": {}
        }
      ],
      "execution_count": 35,
      "metadata": {
        "collapsed": true,
        "jupyter": {
          "source_hidden": false,
          "outputs_hidden": false
        },
        "nteract": {
          "transient": {
            "deleting": false
          }
        },
        "execution": {
          "iopub.status.busy": "2022-05-15T02:15:09.263Z",
          "iopub.execute_input": "2022-05-15T02:15:09.287Z",
          "iopub.status.idle": "2022-05-15T02:15:09.324Z",
          "shell.execute_reply": "2022-05-15T02:15:05.099Z"
        }
      }
    },
    {
      "cell_type": "markdown",
      "source": [
        "## Convert Array to 2-D Mastrix"
      ],
      "metadata": {
        "nteract": {
          "transient": {
            "deleting": false
          }
        }
      }
    },
    {
      "cell_type": "code",
      "source": [
        "x"
      ],
      "outputs": [
        {
          "output_type": "execute_result",
          "execution_count": 36,
          "data": {
            "text/plain": "array([ 53.8 ,  45.48,  52.39,  53.19,  56.39,  85.31,  86.71,  81.84,\n        82.42,  81.09,  82.54,  78.06,  81.56,  81.35,  81.43,  92.66,\n        79.06,  82.76,  78.55, 106.15])"
          },
          "metadata": {}
        }
      ],
      "execution_count": 36,
      "metadata": {
        "collapsed": true,
        "jupyter": {
          "source_hidden": false,
          "outputs_hidden": false
        },
        "nteract": {
          "transient": {
            "deleting": false
          }
        },
        "execution": {
          "iopub.status.busy": "2022-05-15T02:15:09.358Z",
          "iopub.execute_input": "2022-05-15T02:15:09.380Z",
          "iopub.status.idle": "2022-05-15T02:15:09.418Z",
          "shell.execute_reply": "2022-05-15T02:15:05.122Z"
        }
      }
    },
    {
      "cell_type": "code",
      "source": [
        "x.shape"
      ],
      "outputs": [
        {
          "output_type": "execute_result",
          "execution_count": 37,
          "data": {
            "text/plain": "(20,)"
          },
          "metadata": {}
        }
      ],
      "execution_count": 37,
      "metadata": {
        "collapsed": true,
        "jupyter": {
          "source_hidden": false,
          "outputs_hidden": false
        },
        "nteract": {
          "transient": {
            "deleting": false
          }
        },
        "execution": {
          "iopub.status.busy": "2022-05-15T02:15:09.456Z",
          "iopub.execute_input": "2022-05-15T02:15:09.480Z",
          "iopub.status.idle": "2022-05-15T02:15:09.518Z",
          "shell.execute_reply": "2022-05-15T02:15:05.144Z"
        }
      }
    },
    {
      "cell_type": "code",
      "source": [
        "arr_2d = np.reshape(x, (4, 5))"
      ],
      "outputs": [],
      "execution_count": 38,
      "metadata": {
        "collapsed": true,
        "jupyter": {
          "source_hidden": false,
          "outputs_hidden": false
        },
        "nteract": {
          "transient": {
            "deleting": false
          }
        },
        "execution": {
          "iopub.status.busy": "2022-05-15T02:15:09.553Z",
          "iopub.execute_input": "2022-05-15T02:15:09.576Z",
          "iopub.status.idle": "2022-05-15T02:15:09.603Z",
          "shell.execute_reply": "2022-05-15T02:15:05.164Z"
        }
      }
    },
    {
      "cell_type": "code",
      "source": [
        "print('1D Numpy array:')\n",
        "print(x)\n",
        "print(\"\\n\")\n",
        "print('2D Numpy array:')\n",
        "print(arr_2d)"
      ],
      "outputs": [
        {
          "output_type": "stream",
          "name": "stdout",
          "text": [
            "1D Numpy array:\n",
            "[ 53.8   45.48  52.39  53.19  56.39  85.31  86.71  81.84  82.42  81.09\n",
            "  82.54  78.06  81.56  81.35  81.43  92.66  79.06  82.76  78.55 106.15]\n",
            "\n",
            "\n",
            "2D Numpy array:\n",
            "[[ 53.8   45.48  52.39  53.19  56.39]\n",
            " [ 85.31  86.71  81.84  82.42  81.09]\n",
            " [ 82.54  78.06  81.56  81.35  81.43]\n",
            " [ 92.66  79.06  82.76  78.55 106.15]]\n"
          ]
        }
      ],
      "execution_count": 39,
      "metadata": {
        "collapsed": true,
        "jupyter": {
          "source_hidden": false,
          "outputs_hidden": false
        },
        "nteract": {
          "transient": {
            "deleting": false
          }
        },
        "execution": {
          "iopub.status.busy": "2022-05-15T02:15:09.636Z",
          "iopub.execute_input": "2022-05-15T02:15:09.660Z",
          "iopub.status.idle": "2022-05-15T02:15:09.698Z",
          "shell.execute_reply": "2022-05-15T02:15:05.185Z"
        }
      }
    },
    {
      "cell_type": "code",
      "source": [
        "arr_2d.shape"
      ],
      "outputs": [
        {
          "output_type": "execute_result",
          "execution_count": 40,
          "data": {
            "text/plain": "(4, 5)"
          },
          "metadata": {}
        }
      ],
      "execution_count": 40,
      "metadata": {
        "collapsed": true,
        "jupyter": {
          "source_hidden": false,
          "outputs_hidden": false
        },
        "nteract": {
          "transient": {
            "deleting": false
          }
        },
        "execution": {
          "iopub.status.busy": "2022-05-15T02:15:09.734Z",
          "iopub.execute_input": "2022-05-15T02:15:09.756Z",
          "iopub.status.idle": "2022-05-15T02:15:09.792Z",
          "shell.execute_reply": "2022-05-15T02:15:05.207Z"
        }
      }
    },
    {
      "cell_type": "code",
      "source": [
        "arr_2d.size"
      ],
      "outputs": [
        {
          "output_type": "execute_result",
          "execution_count": 41,
          "data": {
            "text/plain": "20"
          },
          "metadata": {}
        }
      ],
      "execution_count": 41,
      "metadata": {
        "collapsed": true,
        "jupyter": {
          "source_hidden": false,
          "outputs_hidden": false
        },
        "nteract": {
          "transient": {
            "deleting": false
          }
        },
        "execution": {
          "iopub.status.busy": "2022-05-15T02:15:09.825Z",
          "iopub.execute_input": "2022-05-15T02:15:09.847Z",
          "iopub.status.idle": "2022-05-15T02:15:09.886Z",
          "shell.execute_reply": "2022-05-15T02:15:05.230Z"
        }
      }
    },
    {
      "cell_type": "code",
      "source": [
        "# Select left column of matrix X (zero-indexed)\n",
        "arr_2d[:,0]\n",
        "\n"
      ],
      "outputs": [
        {
          "output_type": "execute_result",
          "execution_count": 42,
          "data": {
            "text/plain": "array([53.8 , 85.31, 82.54, 92.66])"
          },
          "metadata": {}
        }
      ],
      "execution_count": 42,
      "metadata": {
        "collapsed": true,
        "jupyter": {
          "source_hidden": false,
          "outputs_hidden": false
        },
        "nteract": {
          "transient": {
            "deleting": false
          }
        },
        "execution": {
          "iopub.status.busy": "2022-05-15T02:15:09.922Z",
          "iopub.execute_input": "2022-05-15T02:15:09.944Z",
          "iopub.status.idle": "2022-05-15T02:15:09.982Z",
          "shell.execute_reply": "2022-05-15T02:15:05.251Z"
        }
      }
    },
    {
      "cell_type": "code",
      "source": [
        "# Select middle row of matrix X: \n",
        "arr_2d[1,:]"
      ],
      "outputs": [
        {
          "output_type": "execute_result",
          "execution_count": 43,
          "data": {
            "text/plain": "array([85.31, 86.71, 81.84, 82.42, 81.09])"
          },
          "metadata": {}
        }
      ],
      "execution_count": 43,
      "metadata": {
        "collapsed": true,
        "jupyter": {
          "source_hidden": false,
          "outputs_hidden": false
        },
        "nteract": {
          "transient": {
            "deleting": false
          }
        },
        "execution": {
          "iopub.status.busy": "2022-05-15T02:15:10.016Z",
          "iopub.execute_input": "2022-05-15T02:15:10.037Z",
          "iopub.status.idle": "2022-05-15T02:15:10.074Z",
          "shell.execute_reply": "2022-05-15T02:15:05.272Z"
        }
      }
    },
    {
      "cell_type": "code",
      "source": [
        "# Another slicing-by-index example: \n",
        "arr_2d[0:2, 0:2]\n",
        "\n"
      ],
      "outputs": [
        {
          "output_type": "execute_result",
          "execution_count": 44,
          "data": {
            "text/plain": "array([[53.8 , 45.48],\n       [85.31, 86.71]])"
          },
          "metadata": {}
        }
      ],
      "execution_count": 44,
      "metadata": {
        "collapsed": true,
        "jupyter": {
          "source_hidden": false,
          "outputs_hidden": false
        },
        "nteract": {
          "transient": {
            "deleting": false
          }
        },
        "execution": {
          "iopub.status.busy": "2022-05-15T02:15:10.106Z",
          "iopub.execute_input": "2022-05-15T02:15:10.128Z",
          "iopub.status.idle": "2022-05-15T02:15:10.167Z",
          "shell.execute_reply": "2022-05-15T02:15:05.294Z"
        }
      }
    },
    {
      "cell_type": "markdown",
      "source": [
        "### Matrices in PyTorch"
      ],
      "metadata": {
        "nteract": {
          "transient": {
            "deleting": false
          }
        }
      }
    },
    {
      "cell_type": "code",
      "source": [
        "X_pt = torch.tensor(arr_2d)\n",
        "X_pt"
      ],
      "outputs": [
        {
          "output_type": "execute_result",
          "execution_count": 45,
          "data": {
            "text/plain": "tensor([[ 53.8000,  45.4800,  52.3900,  53.1900,  56.3900],\n        [ 85.3100,  86.7100,  81.8400,  82.4200,  81.0900],\n        [ 82.5400,  78.0600,  81.5600,  81.3500,  81.4300],\n        [ 92.6600,  79.0600,  82.7600,  78.5500, 106.1500]],\n       dtype=torch.float64)"
          },
          "metadata": {}
        }
      ],
      "execution_count": 45,
      "metadata": {
        "collapsed": true,
        "jupyter": {
          "source_hidden": false,
          "outputs_hidden": false
        },
        "nteract": {
          "transient": {
            "deleting": false
          }
        },
        "execution": {
          "iopub.status.busy": "2022-05-15T02:15:10.201Z",
          "iopub.execute_input": "2022-05-15T02:15:10.223Z",
          "iopub.status.idle": "2022-05-15T02:15:10.261Z",
          "shell.execute_reply": "2022-05-15T02:15:05.316Z"
        }
      }
    },
    {
      "cell_type": "code",
      "source": [
        "X_pt.shape"
      ],
      "outputs": [
        {
          "output_type": "execute_result",
          "execution_count": 46,
          "data": {
            "text/plain": "torch.Size([4, 5])"
          },
          "metadata": {}
        }
      ],
      "execution_count": 46,
      "metadata": {
        "collapsed": true,
        "jupyter": {
          "source_hidden": false,
          "outputs_hidden": false
        },
        "nteract": {
          "transient": {
            "deleting": false
          }
        },
        "execution": {
          "iopub.status.busy": "2022-05-15T02:15:10.296Z",
          "iopub.execute_input": "2022-05-15T02:15:10.321Z",
          "iopub.status.idle": "2022-05-15T02:15:10.358Z",
          "shell.execute_reply": "2022-05-15T02:15:05.338Z"
        }
      }
    },
    {
      "cell_type": "code",
      "source": [
        "X_pt[1,:]"
      ],
      "outputs": [
        {
          "output_type": "execute_result",
          "execution_count": 47,
          "data": {
            "text/plain": "tensor([85.3100, 86.7100, 81.8400, 82.4200, 81.0900], dtype=torch.float64)"
          },
          "metadata": {}
        }
      ],
      "execution_count": 47,
      "metadata": {
        "collapsed": true,
        "jupyter": {
          "source_hidden": false,
          "outputs_hidden": false
        },
        "nteract": {
          "transient": {
            "deleting": false
          }
        },
        "execution": {
          "iopub.status.busy": "2022-05-15T02:15:10.393Z",
          "iopub.execute_input": "2022-05-15T02:15:10.416Z",
          "iopub.status.idle": "2022-05-15T02:15:10.455Z",
          "shell.execute_reply": "2022-05-15T02:15:05.362Z"
        }
      }
    },
    {
      "cell_type": "markdown",
      "source": [
        "### Matrices in TensorFlow"
      ],
      "metadata": {
        "nteract": {
          "transient": {
            "deleting": false
          }
        }
      }
    },
    {
      "cell_type": "code",
      "source": [
        "X_tf = tf.Variable(arr_2d)\n",
        "X_tf"
      ],
      "outputs": [
        {
          "output_type": "execute_result",
          "execution_count": 48,
          "data": {
            "text/plain": "<tf.Variable 'Variable_1:0' shape=(4, 5) dtype=float64_ref>"
          },
          "metadata": {}
        }
      ],
      "execution_count": 48,
      "metadata": {
        "collapsed": true,
        "jupyter": {
          "source_hidden": false,
          "outputs_hidden": false
        },
        "nteract": {
          "transient": {
            "deleting": false
          }
        },
        "execution": {
          "iopub.status.busy": "2022-05-15T02:15:10.491Z",
          "iopub.execute_input": "2022-05-15T02:15:10.514Z",
          "iopub.status.idle": "2022-05-15T02:15:10.550Z",
          "shell.execute_reply": "2022-05-15T02:15:05.384Z"
        }
      }
    },
    {
      "cell_type": "code",
      "source": [
        "tf.rank(X_tf)"
      ],
      "outputs": [
        {
          "output_type": "execute_result",
          "execution_count": 49,
          "data": {
            "text/plain": "<tf.Tensor 'Rank:0' shape=() dtype=int32>"
          },
          "metadata": {}
        }
      ],
      "execution_count": 49,
      "metadata": {
        "collapsed": true,
        "jupyter": {
          "source_hidden": false,
          "outputs_hidden": false
        },
        "nteract": {
          "transient": {
            "deleting": false
          }
        },
        "execution": {
          "iopub.status.busy": "2022-05-15T02:15:10.585Z",
          "iopub.execute_input": "2022-05-15T02:15:10.611Z",
          "iopub.status.idle": "2022-05-15T02:15:10.648Z",
          "shell.execute_reply": "2022-05-15T02:15:05.405Z"
        }
      }
    },
    {
      "cell_type": "code",
      "source": [
        "tf.shape(X_tf)\n"
      ],
      "outputs": [
        {
          "output_type": "execute_result",
          "execution_count": 50,
          "data": {
            "text/plain": "<tf.Tensor 'Shape:0' shape=(2,) dtype=int32>"
          },
          "metadata": {}
        }
      ],
      "execution_count": 50,
      "metadata": {
        "collapsed": true,
        "jupyter": {
          "source_hidden": false,
          "outputs_hidden": false
        },
        "nteract": {
          "transient": {
            "deleting": false
          }
        },
        "execution": {
          "iopub.status.busy": "2022-05-15T02:15:10.683Z",
          "iopub.execute_input": "2022-05-15T02:15:10.707Z",
          "iopub.status.idle": "2022-05-15T02:15:10.748Z",
          "shell.execute_reply": "2022-05-15T02:15:05.427Z"
        }
      }
    },
    {
      "cell_type": "code",
      "source": [
        "X_tf[1,:]\n",
        "\n"
      ],
      "outputs": [
        {
          "output_type": "execute_result",
          "execution_count": 51,
          "data": {
            "text/plain": "<tf.Tensor 'strided_slice:0' shape=(5,) dtype=float64>"
          },
          "metadata": {}
        }
      ],
      "execution_count": 51,
      "metadata": {
        "collapsed": true,
        "jupyter": {
          "source_hidden": false,
          "outputs_hidden": false
        },
        "nteract": {
          "transient": {
            "deleting": false
          }
        },
        "execution": {
          "iopub.status.busy": "2022-05-15T02:15:10.787Z",
          "iopub.execute_input": "2022-05-15T02:15:10.810Z",
          "iopub.status.idle": "2022-05-15T02:15:10.851Z",
          "shell.execute_reply": "2022-05-15T02:15:05.448Z"
        }
      }
    },
    {
      "cell_type": "markdown",
      "source": [
        "### Matrix Transposition"
      ],
      "metadata": {
        "nteract": {
          "transient": {
            "deleting": false
          }
        }
      }
    },
    {
      "cell_type": "code",
      "source": [
        "X = arr_2d"
      ],
      "outputs": [],
      "execution_count": 52,
      "metadata": {
        "collapsed": true,
        "jupyter": {
          "source_hidden": false,
          "outputs_hidden": false
        },
        "nteract": {
          "transient": {
            "deleting": false
          }
        },
        "execution": {
          "iopub.status.busy": "2022-05-15T02:15:10.887Z",
          "iopub.execute_input": "2022-05-15T02:15:10.911Z",
          "iopub.status.idle": "2022-05-15T02:15:10.937Z",
          "shell.execute_reply": "2022-05-15T02:15:05.468Z"
        }
      }
    },
    {
      "cell_type": "code",
      "source": [
        "X"
      ],
      "outputs": [
        {
          "output_type": "execute_result",
          "execution_count": 53,
          "data": {
            "text/plain": "array([[ 53.8 ,  45.48,  52.39,  53.19,  56.39],\n       [ 85.31,  86.71,  81.84,  82.42,  81.09],\n       [ 82.54,  78.06,  81.56,  81.35,  81.43],\n       [ 92.66,  79.06,  82.76,  78.55, 106.15]])"
          },
          "metadata": {}
        }
      ],
      "execution_count": 53,
      "metadata": {
        "collapsed": true,
        "jupyter": {
          "source_hidden": false,
          "outputs_hidden": false
        },
        "nteract": {
          "transient": {
            "deleting": false
          }
        },
        "execution": {
          "iopub.status.busy": "2022-05-15T02:15:10.970Z",
          "iopub.execute_input": "2022-05-15T02:15:10.992Z",
          "iopub.status.idle": "2022-05-15T02:15:11.029Z",
          "shell.execute_reply": "2022-05-15T02:15:05.492Z"
        }
      }
    },
    {
      "cell_type": "code",
      "source": [
        "X.T"
      ],
      "outputs": [
        {
          "output_type": "execute_result",
          "execution_count": 54,
          "data": {
            "text/plain": "array([[ 53.8 ,  85.31,  82.54,  92.66],\n       [ 45.48,  86.71,  78.06,  79.06],\n       [ 52.39,  81.84,  81.56,  82.76],\n       [ 53.19,  82.42,  81.35,  78.55],\n       [ 56.39,  81.09,  81.43, 106.15]])"
          },
          "metadata": {}
        }
      ],
      "execution_count": 54,
      "metadata": {
        "collapsed": true,
        "jupyter": {
          "source_hidden": false,
          "outputs_hidden": false
        },
        "nteract": {
          "transient": {
            "deleting": false
          }
        },
        "execution": {
          "iopub.status.busy": "2022-05-15T02:15:11.064Z",
          "iopub.execute_input": "2022-05-15T02:15:11.088Z",
          "iopub.status.idle": "2022-05-15T02:15:11.126Z",
          "shell.execute_reply": "2022-05-15T02:15:05.512Z"
        }
      }
    },
    {
      "cell_type": "code",
      "source": [
        "X_pt.T"
      ],
      "outputs": [
        {
          "output_type": "execute_result",
          "execution_count": 55,
          "data": {
            "text/plain": "tensor([[ 53.8000,  85.3100,  82.5400,  92.6600],\n        [ 45.4800,  86.7100,  78.0600,  79.0600],\n        [ 52.3900,  81.8400,  81.5600,  82.7600],\n        [ 53.1900,  82.4200,  81.3500,  78.5500],\n        [ 56.3900,  81.0900,  81.4300, 106.1500]], dtype=torch.float64)"
          },
          "metadata": {}
        }
      ],
      "execution_count": 55,
      "metadata": {
        "collapsed": true,
        "jupyter": {
          "source_hidden": false,
          "outputs_hidden": false
        },
        "nteract": {
          "transient": {
            "deleting": false
          }
        },
        "execution": {
          "iopub.status.busy": "2022-05-15T02:15:11.161Z",
          "iopub.execute_input": "2022-05-15T02:15:11.185Z",
          "iopub.status.idle": "2022-05-15T02:15:11.227Z",
          "shell.execute_reply": "2022-05-15T02:15:05.532Z"
        }
      }
    },
    {
      "cell_type": "markdown",
      "source": [
        "### Matrix Multiplication"
      ],
      "metadata": {
        "nteract": {
          "transient": {
            "deleting": false
          }
        }
      }
    },
    {
      "cell_type": "code",
      "source": [
        "X*3"
      ],
      "outputs": [
        {
          "output_type": "execute_result",
          "execution_count": 56,
          "data": {
            "text/plain": "array([[161.4 , 136.44, 157.17, 159.57, 169.17],\n       [255.93, 260.13, 245.52, 247.26, 243.27],\n       [247.62, 234.18, 244.68, 244.05, 244.29],\n       [277.98, 237.18, 248.28, 235.65, 318.45]])"
          },
          "metadata": {}
        }
      ],
      "execution_count": 56,
      "metadata": {
        "collapsed": true,
        "jupyter": {
          "source_hidden": false,
          "outputs_hidden": false
        },
        "nteract": {
          "transient": {
            "deleting": false
          }
        },
        "execution": {
          "iopub.status.busy": "2022-05-15T02:15:11.264Z",
          "iopub.execute_input": "2022-05-15T02:15:11.289Z",
          "iopub.status.idle": "2022-05-15T02:15:11.330Z",
          "shell.execute_reply": "2022-05-15T02:15:05.555Z"
        }
      }
    },
    {
      "cell_type": "code",
      "source": [
        "X*3+3"
      ],
      "outputs": [
        {
          "output_type": "execute_result",
          "execution_count": 57,
          "data": {
            "text/plain": "array([[164.4 , 139.44, 160.17, 162.57, 172.17],\n       [258.93, 263.13, 248.52, 250.26, 246.27],\n       [250.62, 237.18, 247.68, 247.05, 247.29],\n       [280.98, 240.18, 251.28, 238.65, 321.45]])"
          },
          "metadata": {}
        }
      ],
      "execution_count": 57,
      "metadata": {
        "collapsed": true,
        "jupyter": {
          "source_hidden": false,
          "outputs_hidden": false
        },
        "nteract": {
          "transient": {
            "deleting": false
          }
        },
        "execution": {
          "iopub.status.busy": "2022-05-15T02:15:11.368Z",
          "iopub.execute_input": "2022-05-15T02:15:11.391Z",
          "iopub.status.idle": "2022-05-15T02:15:11.432Z",
          "shell.execute_reply": "2022-05-15T02:15:05.576Z"
        }
      }
    },
    {
      "cell_type": "code",
      "source": [
        "X_pt*3+3"
      ],
      "outputs": [
        {
          "output_type": "execute_result",
          "execution_count": 58,
          "data": {
            "text/plain": "tensor([[164.4000, 139.4400, 160.1700, 162.5700, 172.1700],\n        [258.9300, 263.1300, 248.5200, 250.2600, 246.2700],\n        [250.6200, 237.1800, 247.6800, 247.0500, 247.2900],\n        [280.9800, 240.1800, 251.2800, 238.6500, 321.4500]],\n       dtype=torch.float64)"
          },
          "metadata": {}
        }
      ],
      "execution_count": 58,
      "metadata": {
        "collapsed": true,
        "jupyter": {
          "source_hidden": false,
          "outputs_hidden": false
        },
        "nteract": {
          "transient": {
            "deleting": false
          }
        },
        "execution": {
          "iopub.status.busy": "2022-05-15T02:15:11.464Z",
          "iopub.execute_input": "2022-05-15T02:15:11.485Z",
          "iopub.status.idle": "2022-05-15T02:15:11.525Z",
          "shell.execute_reply": "2022-05-15T02:15:05.598Z"
        }
      }
    },
    {
      "cell_type": "markdown",
      "source": [
        "#### Multiplication operator on two tensors of the same size in PyTorch (or Numpy or TensorFlow) applies element-wise operations. This is the **Hadamard product** (denoted by the $\\odot$ operator, e.g., $A \\odot B$) *not* **matrix multiplication**: "
      ],
      "metadata": {
        "nteract": {
          "transient": {
            "deleting": false
          }
        }
      }
    },
    {
      "cell_type": "code",
      "source": [
        "A = np.reshape(y, (4, 5))\n",
        "A "
      ],
      "outputs": [
        {
          "output_type": "execute_result",
          "execution_count": 59,
          "data": {
            "text/plain": "array([[54.53, 53.43, 44.3 , 52.9 , 56.68],\n       [53.3 , 78.03, 85.05, 82.8 , 81.4 ],\n       [81.75, 82.55, 83.4 , 75.85, 81.32],\n       [81.21, 92.1 , 88.15, 84.28, 81.61]])"
          },
          "metadata": {}
        }
      ],
      "execution_count": 59,
      "metadata": {
        "collapsed": true,
        "jupyter": {
          "source_hidden": false,
          "outputs_hidden": false
        },
        "nteract": {
          "transient": {
            "deleting": false
          }
        },
        "execution": {
          "iopub.status.busy": "2022-05-15T02:15:11.558Z",
          "iopub.execute_input": "2022-05-15T02:15:11.581Z",
          "iopub.status.idle": "2022-05-15T02:15:11.620Z",
          "shell.execute_reply": "2022-05-15T02:15:05.620Z"
        }
      }
    },
    {
      "cell_type": "code",
      "source": [
        "X"
      ],
      "outputs": [
        {
          "output_type": "execute_result",
          "execution_count": 60,
          "data": {
            "text/plain": "array([[ 53.8 ,  45.48,  52.39,  53.19,  56.39],\n       [ 85.31,  86.71,  81.84,  82.42,  81.09],\n       [ 82.54,  78.06,  81.56,  81.35,  81.43],\n       [ 92.66,  79.06,  82.76,  78.55, 106.15]])"
          },
          "metadata": {}
        }
      ],
      "execution_count": 60,
      "metadata": {
        "collapsed": true,
        "jupyter": {
          "source_hidden": false,
          "outputs_hidden": false
        },
        "nteract": {
          "transient": {
            "deleting": false
          }
        },
        "execution": {
          "iopub.status.busy": "2022-05-15T02:15:11.656Z",
          "iopub.execute_input": "2022-05-15T02:15:11.680Z",
          "iopub.status.idle": "2022-05-15T02:15:11.718Z",
          "shell.execute_reply": "2022-05-15T02:15:05.641Z"
        }
      }
    },
    {
      "cell_type": "code",
      "source": [
        "X * A"
      ],
      "outputs": [
        {
          "output_type": "execute_result",
          "execution_count": 61,
          "data": {
            "text/plain": "array([[2933.714 , 2429.9964, 2320.877 , 2813.751 , 3196.1852],\n       [4547.023 , 6765.9813, 6960.492 , 6824.376 , 6600.726 ],\n       [6747.645 , 6443.853 , 6802.104 , 6170.3975, 6621.8876],\n       [7524.9186, 7281.426 , 7295.294 , 6620.194 , 8662.9015]])"
          },
          "metadata": {}
        }
      ],
      "execution_count": 61,
      "metadata": {
        "collapsed": true,
        "jupyter": {
          "source_hidden": false,
          "outputs_hidden": false
        },
        "nteract": {
          "transient": {
            "deleting": false
          }
        },
        "execution": {
          "iopub.status.busy": "2022-05-15T02:15:11.753Z",
          "iopub.execute_input": "2022-05-15T02:15:11.777Z",
          "iopub.status.idle": "2022-05-15T02:15:11.817Z",
          "shell.execute_reply": "2022-05-15T02:15:05.662Z"
        }
      }
    },
    {
      "cell_type": "code",
      "source": [
        "A_p = torch.tensor(A)\n",
        "A_p"
      ],
      "outputs": [
        {
          "output_type": "execute_result",
          "execution_count": 62,
          "data": {
            "text/plain": "tensor([[54.5300, 53.4300, 44.3000, 52.9000, 56.6800],\n        [53.3000, 78.0300, 85.0500, 82.8000, 81.4000],\n        [81.7500, 82.5500, 83.4000, 75.8500, 81.3200],\n        [81.2100, 92.1000, 88.1500, 84.2800, 81.6100]], dtype=torch.float64)"
          },
          "metadata": {}
        }
      ],
      "execution_count": 62,
      "metadata": {
        "collapsed": true,
        "jupyter": {
          "source_hidden": false,
          "outputs_hidden": false
        },
        "nteract": {
          "transient": {
            "deleting": false
          }
        },
        "execution": {
          "iopub.status.busy": "2022-05-15T02:15:11.851Z",
          "iopub.execute_input": "2022-05-15T02:15:11.874Z",
          "iopub.status.idle": "2022-05-15T02:15:11.911Z",
          "shell.execute_reply": "2022-05-15T02:15:05.686Z"
        }
      }
    },
    {
      "cell_type": "code",
      "source": [
        "X_pt * A_p"
      ],
      "outputs": [
        {
          "output_type": "execute_result",
          "execution_count": 63,
          "data": {
            "text/plain": "tensor([[2933.7140, 2429.9964, 2320.8770, 2813.7510, 3196.1852],\n        [4547.0230, 6765.9813, 6960.4920, 6824.3760, 6600.7260],\n        [6747.6450, 6443.8530, 6802.1040, 6170.3975, 6621.8876],\n        [7524.9186, 7281.4260, 7295.2940, 6620.1940, 8662.9015]],\n       dtype=torch.float64)"
          },
          "metadata": {}
        }
      ],
      "execution_count": 63,
      "metadata": {
        "collapsed": true,
        "jupyter": {
          "source_hidden": false,
          "outputs_hidden": false
        },
        "nteract": {
          "transient": {
            "deleting": false
          }
        },
        "execution": {
          "iopub.status.busy": "2022-05-15T02:15:11.946Z",
          "iopub.execute_input": "2022-05-15T02:15:11.969Z",
          "iopub.status.idle": "2022-05-15T02:15:12.005Z",
          "shell.execute_reply": "2022-05-15T02:15:05.708Z"
        }
      }
    },
    {
      "cell_type": "code",
      "source": [
        "X = X.T\n",
        "np.dot(A, X) # even though technically dot products is between 2 vectors"
      ],
      "outputs": [
        {
          "output_type": "execute_result",
          "execution_count": 64,
          "data": {
            "text/plain": "array([[13694.5236, 21866.5808, 21203.6274, 23115.0706],\n       [19866.3919, 31698.5983, 30791.2638, 33291.1178],\n       [21141.9463, 33803.2548, 32785.8871, 35593.6775],\n       [22260.8256, 35692.3246, 34583.5937, 37384.7341]])"
          },
          "metadata": {}
        }
      ],
      "execution_count": 64,
      "metadata": {
        "collapsed": true,
        "jupyter": {
          "source_hidden": false,
          "outputs_hidden": false
        },
        "nteract": {
          "transient": {
            "deleting": false
          }
        },
        "execution": {
          "iopub.status.busy": "2022-05-15T02:15:12.041Z",
          "iopub.execute_input": "2022-05-15T02:15:12.064Z",
          "iopub.status.idle": "2022-05-15T02:15:12.101Z",
          "shell.execute_reply": "2022-05-15T02:15:05.731Z"
        }
      }
    },
    {
      "cell_type": "code",
      "source": [
        "b_p = torch.tensor(X)\n",
        "b_p"
      ],
      "outputs": [
        {
          "output_type": "execute_result",
          "execution_count": 65,
          "data": {
            "text/plain": "tensor([[ 53.8000,  85.3100,  82.5400,  92.6600],\n        [ 45.4800,  86.7100,  78.0600,  79.0600],\n        [ 52.3900,  81.8400,  81.5600,  82.7600],\n        [ 53.1900,  82.4200,  81.3500,  78.5500],\n        [ 56.3900,  81.0900,  81.4300, 106.1500]], dtype=torch.float64)"
          },
          "metadata": {}
        }
      ],
      "execution_count": 65,
      "metadata": {
        "collapsed": true,
        "jupyter": {
          "source_hidden": false,
          "outputs_hidden": false
        },
        "nteract": {
          "transient": {
            "deleting": false
          }
        },
        "execution": {
          "iopub.status.busy": "2022-05-15T02:15:12.134Z",
          "iopub.execute_input": "2022-05-15T02:15:12.157Z",
          "iopub.status.idle": "2022-05-15T02:15:12.199Z",
          "shell.execute_reply": "2022-05-15T02:15:05.754Z"
        }
      }
    },
    {
      "cell_type": "code",
      "source": [
        "torch.matmul(A_p, b_p)"
      ],
      "outputs": [
        {
          "output_type": "execute_result",
          "execution_count": 66,
          "data": {
            "text/plain": "tensor([[13694.5236, 21866.5808, 21203.6274, 23115.0706],\n        [19866.3919, 31698.5983, 30791.2638, 33291.1178],\n        [21141.9463, 33803.2548, 32785.8871, 35593.6775],\n        [22260.8256, 35692.3246, 34583.5937, 37384.7341]], dtype=torch.float64)"
          },
          "metadata": {}
        }
      ],
      "execution_count": 66,
      "metadata": {
        "collapsed": true,
        "jupyter": {
          "source_hidden": false,
          "outputs_hidden": false
        },
        "nteract": {
          "transient": {
            "deleting": false
          }
        },
        "execution": {
          "iopub.status.busy": "2022-05-15T02:15:12.236Z",
          "iopub.execute_input": "2022-05-15T02:15:12.259Z",
          "iopub.status.idle": "2022-05-15T02:15:12.299Z",
          "shell.execute_reply": "2022-05-15T02:15:05.778Z"
        }
      }
    },
    {
      "cell_type": "markdown",
      "source": [
        "### Matrix Inversion"
      ],
      "metadata": {
        "nteract": {
          "transient": {
            "deleting": false
          }
        }
      }
    },
    {
      "cell_type": "code",
      "source": [
        "# Inverse matrix is only for square matrix\n",
        "arr_2d "
      ],
      "outputs": [
        {
          "output_type": "execute_result",
          "execution_count": 67,
          "data": {
            "text/plain": "array([[ 53.8 ,  45.48,  52.39,  53.19,  56.39],\n       [ 85.31,  86.71,  81.84,  82.42,  81.09],\n       [ 82.54,  78.06,  81.56,  81.35,  81.43],\n       [ 92.66,  79.06,  82.76,  78.55, 106.15]])"
          },
          "metadata": {}
        }
      ],
      "execution_count": 67,
      "metadata": {
        "collapsed": true,
        "jupyter": {
          "source_hidden": false,
          "outputs_hidden": false
        },
        "nteract": {
          "transient": {
            "deleting": false
          }
        },
        "execution": {
          "iopub.status.busy": "2022-05-15T02:15:12.336Z",
          "iopub.execute_input": "2022-05-15T02:15:12.359Z",
          "shell.execute_reply": "2022-05-15T02:15:05.799Z",
          "iopub.status.idle": "2022-05-15T02:15:12.400Z"
        }
      }
    },
    {
      "cell_type": "code",
      "source": [
        "X = np.array([[2, 8], [-5, -6]])\n",
        "X"
      ],
      "outputs": [
        {
          "output_type": "execute_result",
          "execution_count": 68,
          "data": {
            "text/plain": "array([[ 2,  8],\n       [-5, -6]])"
          },
          "metadata": {}
        }
      ],
      "execution_count": 68,
      "metadata": {
        "collapsed": true,
        "jupyter": {
          "source_hidden": false,
          "outputs_hidden": false
        },
        "nteract": {
          "transient": {
            "deleting": false
          }
        },
        "execution": {
          "iopub.status.busy": "2022-05-15T02:15:12.436Z",
          "iopub.execute_input": "2022-05-15T02:15:12.460Z",
          "iopub.status.idle": "2022-05-15T02:15:12.497Z",
          "shell.execute_reply": "2022-05-15T02:15:05.822Z"
        }
      }
    },
    {
      "cell_type": "code",
      "source": [
        "Xinv = np.linalg.inv(X)\n",
        "Xinv"
      ],
      "outputs": [
        {
          "output_type": "execute_result",
          "execution_count": 69,
          "data": {
            "text/plain": "array([[-0.21428571, -0.28571429],\n       [ 0.17857143,  0.07142857]])"
          },
          "metadata": {}
        }
      ],
      "execution_count": 69,
      "metadata": {
        "collapsed": true,
        "jupyter": {
          "source_hidden": false,
          "outputs_hidden": false
        },
        "nteract": {
          "transient": {
            "deleting": false
          }
        },
        "execution": {
          "iopub.status.busy": "2022-05-15T02:15:12.533Z",
          "iopub.execute_input": "2022-05-15T02:15:12.558Z",
          "iopub.status.idle": "2022-05-15T02:15:12.599Z",
          "shell.execute_reply": "2022-05-15T02:15:05.844Z"
        }
      }
    },
    {
      "cell_type": "code",
      "source": [
        "y = np.array([3, -5])\n",
        "y"
      ],
      "outputs": [
        {
          "output_type": "execute_result",
          "execution_count": 70,
          "data": {
            "text/plain": "array([ 3, -5])"
          },
          "metadata": {}
        }
      ],
      "execution_count": 70,
      "metadata": {
        "collapsed": true,
        "jupyter": {
          "source_hidden": false,
          "outputs_hidden": false
        },
        "nteract": {
          "transient": {
            "deleting": false
          }
        },
        "execution": {
          "iopub.status.busy": "2022-05-15T02:15:12.632Z",
          "iopub.execute_input": "2022-05-15T02:15:12.655Z",
          "iopub.status.idle": "2022-05-15T02:15:12.695Z",
          "shell.execute_reply": "2022-05-15T02:15:05.867Z"
        }
      }
    },
    {
      "cell_type": "code",
      "source": [
        "w = np.dot(Xinv, y)\n",
        "w"
      ],
      "outputs": [
        {
          "output_type": "execute_result",
          "execution_count": 71,
          "data": {
            "text/plain": "array([0.78571429, 0.17857143])"
          },
          "metadata": {}
        }
      ],
      "execution_count": 71,
      "metadata": {
        "collapsed": true,
        "jupyter": {
          "source_hidden": false,
          "outputs_hidden": false
        },
        "nteract": {
          "transient": {
            "deleting": false
          }
        },
        "execution": {
          "iopub.status.busy": "2022-05-15T02:15:12.734Z",
          "iopub.execute_input": "2022-05-15T02:15:12.758Z",
          "iopub.status.idle": "2022-05-15T02:15:12.796Z",
          "shell.execute_reply": "2022-05-15T02:15:05.890Z"
        }
      }
    },
    {
      "cell_type": "code",
      "source": [
        "np.dot(X, w)"
      ],
      "outputs": [
        {
          "output_type": "execute_result",
          "execution_count": 72,
          "data": {
            "text/plain": "array([ 3., -5.])"
          },
          "metadata": {}
        }
      ],
      "execution_count": 72,
      "metadata": {
        "collapsed": true,
        "jupyter": {
          "source_hidden": false,
          "outputs_hidden": false
        },
        "nteract": {
          "transient": {
            "deleting": false
          }
        },
        "execution": {
          "iopub.status.busy": "2022-05-15T02:15:12.833Z",
          "iopub.execute_input": "2022-05-15T02:15:12.857Z",
          "iopub.status.idle": "2022-05-15T02:15:12.897Z",
          "shell.execute_reply": "2022-05-15T02:15:05.911Z"
        }
      }
    },
    {
      "cell_type": "code",
      "source": [
        "X_p = torch.tensor([[5, 10], [-6, -8.]]) # note that torch.inverse() requires floats\n",
        "X_p"
      ],
      "outputs": [
        {
          "output_type": "execute_result",
          "execution_count": 73,
          "data": {
            "text/plain": "tensor([[ 5., 10.],\n        [-6., -8.]])"
          },
          "metadata": {}
        }
      ],
      "execution_count": 73,
      "metadata": {
        "collapsed": true,
        "jupyter": {
          "source_hidden": false,
          "outputs_hidden": false
        },
        "nteract": {
          "transient": {
            "deleting": false
          }
        },
        "execution": {
          "iopub.status.busy": "2022-05-15T02:15:12.934Z",
          "iopub.execute_input": "2022-05-15T02:15:12.960Z",
          "iopub.status.idle": "2022-05-15T02:15:12.998Z",
          "shell.execute_reply": "2022-05-15T02:15:05.932Z"
        }
      }
    },
    {
      "cell_type": "code",
      "source": [
        "Xinv_p = torch.inverse(X_p)\n",
        "Xinv_p"
      ],
      "outputs": [
        {
          "output_type": "execute_result",
          "execution_count": 74,
          "data": {
            "text/plain": "tensor([[-0.4000, -0.5000],\n        [ 0.3000,  0.2500]])"
          },
          "metadata": {}
        }
      ],
      "execution_count": 74,
      "metadata": {
        "collapsed": true,
        "jupyter": {
          "source_hidden": false,
          "outputs_hidden": false
        },
        "nteract": {
          "transient": {
            "deleting": false
          }
        },
        "execution": {
          "iopub.status.busy": "2022-05-15T02:15:13.034Z",
          "iopub.execute_input": "2022-05-15T02:15:13.057Z",
          "iopub.status.idle": "2022-05-15T02:15:13.095Z",
          "shell.execute_reply": "2022-05-15T02:15:05.953Z"
        }
      }
    },
    {
      "cell_type": "code",
      "source": [
        "y_p = torch.tensor([4, -7.])\n",
        "y_p"
      ],
      "outputs": [
        {
          "output_type": "execute_result",
          "execution_count": 75,
          "data": {
            "text/plain": "tensor([ 4., -7.])"
          },
          "metadata": {}
        }
      ],
      "execution_count": 75,
      "metadata": {
        "collapsed": true,
        "jupyter": {
          "source_hidden": false,
          "outputs_hidden": false
        },
        "nteract": {
          "transient": {
            "deleting": false
          }
        },
        "execution": {
          "iopub.status.busy": "2022-05-15T02:15:13.132Z",
          "iopub.execute_input": "2022-05-15T02:15:13.156Z",
          "iopub.status.idle": "2022-05-15T02:15:13.195Z",
          "shell.execute_reply": "2022-05-15T02:15:05.974Z"
        }
      }
    },
    {
      "cell_type": "code",
      "source": [
        "w_p = torch.matmul(Xinv_p, y_p)\n",
        "w_p"
      ],
      "outputs": [
        {
          "output_type": "execute_result",
          "execution_count": 76,
          "data": {
            "text/plain": "tensor([ 1.9000, -0.5500])"
          },
          "metadata": {}
        }
      ],
      "execution_count": 76,
      "metadata": {
        "collapsed": true,
        "jupyter": {
          "source_hidden": false,
          "outputs_hidden": false
        },
        "nteract": {
          "transient": {
            "deleting": false
          }
        },
        "execution": {
          "iopub.status.busy": "2022-05-15T02:15:13.233Z",
          "iopub.execute_input": "2022-05-15T02:15:13.257Z",
          "iopub.status.idle": "2022-05-15T02:15:13.297Z",
          "shell.execute_reply": "2022-05-15T02:15:05.995Z"
        }
      }
    },
    {
      "cell_type": "code",
      "source": [
        "torch.matmul(X_p, w_p)"
      ],
      "outputs": [
        {
          "output_type": "execute_result",
          "execution_count": 77,
          "data": {
            "text/plain": "tensor([ 4.0000, -7.0000])"
          },
          "metadata": {}
        }
      ],
      "execution_count": 77,
      "metadata": {
        "collapsed": true,
        "jupyter": {
          "source_hidden": false,
          "outputs_hidden": false
        },
        "nteract": {
          "transient": {
            "deleting": false
          }
        },
        "execution": {
          "iopub.status.busy": "2022-05-15T02:15:13.333Z",
          "iopub.execute_input": "2022-05-15T02:15:13.357Z",
          "iopub.status.idle": "2022-05-15T02:15:13.399Z",
          "shell.execute_reply": "2022-05-15T02:15:06.017Z"
        }
      }
    }
  ],
  "metadata": {
    "kernel_info": {
      "name": "python3"
    },
    "language_info": {
      "name": "python",
      "version": "3.6.13",
      "mimetype": "text/x-python",
      "codemirror_mode": {
        "name": "ipython",
        "version": 3
      },
      "pygments_lexer": "ipython3",
      "nbconvert_exporter": "python",
      "file_extension": ".py"
    },
    "kernelspec": {
      "argv": [
        "C:/Users/Tin Hang/Anaconda3\\python.exe",
        "-m",
        "ipykernel_launcher",
        "-f",
        "{connection_file}"
      ],
      "display_name": "Python 3",
      "language": "python",
      "name": "python3"
    },
    "nteract": {
      "version": "0.28.0"
    }
  },
  "nbformat": 4,
  "nbformat_minor": 0
}