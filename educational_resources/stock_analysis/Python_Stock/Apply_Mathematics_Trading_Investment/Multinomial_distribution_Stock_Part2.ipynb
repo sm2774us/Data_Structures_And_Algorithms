{
  "cells": [
    {
      "cell_type": "markdown",
      "source": [
        "# Multinomial distribution"
      ],
      "metadata": {
        "nteract": {
          "transient": {
            "deleting": false
          }
        }
      }
    },
    {
      "cell_type": "markdown",
      "source": [
        "https://en.wikipedia.org/wiki/Multinomial_distribution"
      ],
      "metadata": {
        "nteract": {
          "transient": {
            "deleting": false
          }
        }
      }
    },
    {
      "cell_type": "code",
      "source": [
        "import warnings\n",
        "warnings.filterwarnings(\"ignore\")\n",
        "\n",
        "import yfinance as yf\n",
        "import pandas as pd\n",
        "import numpy as np\n",
        "import matplotlib.pyplot as plt\n",
        "from scipy.stats import multinomial\n",
        "\n",
        "# Create a function to model Multinomial Distribution\n",
        "def simulate_multinomial(probabilities, num_samples):\n",
        "    # Generate random samples from the Multinomial Distribution\n",
        "    return np.random.multinomial(num_samples, probabilities)\n",
        "\n",
        "# Input\n",
        "symbol = 'AMD'\n",
        "start = '2014-01-01'\n",
        "end = '2019-01-01'\n",
        "\n",
        "# Read data\n",
        "dataset = yf.download(symbol, start, end)\n",
        "\n",
        "# Prepare data\n",
        "data = dataset['Adj Close']\n",
        "\n",
        "# Define your probabilities for different price movements\n",
        "# You can adjust these probabilities based on your specific use case\n",
        "# For example, [0.2, 0.3, 0.5] could represent the probabilities of price going up, staying the same, and going down.\n",
        "probabilities = [0.2, 0.3, 0.5]\n",
        "\n",
        "# Simulate Multinomial Distribution with 1000 samples\n",
        "num_samples = 1000\n",
        "simulated_data = simulate_multinomial(probabilities, num_samples)\n",
        "\n",
        "# Plot the simulated data with labels and a legend\n",
        "plt.figure(figsize=(8, 6))\n",
        "hist, bins, _ = plt.hist(simulated_data, bins=len(probabilities), edgecolor='k', align='left')\n",
        "bar_width = bins[1] - bins[0]  # Calculate the width of each bar\n",
        "mid_points = bins + (bar_width / 2)  # Calculate the x-coordinates for the middle of each bar\n",
        "plt.xticks(mid_points, ['Up', 'Stable', 'Down'])  # Set x-ticks to the middle of the bars\n",
        "plt.xlabel('Price Movement')\n",
        "plt.ylabel('Frequency')\n",
        "plt.title('Simulated Multinomial Distribution')\n",
        "\n",
        "# Add labels to the bars\n",
        "for i in range(len(probabilities)):\n",
        "    plt.text(mid_points[i], hist[i], f'{hist[i]}', ha='center', va='bottom')\n",
        "\n",
        "# Add a legend\n",
        "plt.legend(['Simulated Data'])\n",
        "\n",
        "plt.show()"
      ],
      "outputs": [
        {
          "output_type": "stream",
          "name": "stdout",
          "text": [
            "[*********************100%***********************]  1 of 1 completed\n"
          ]
        },
        {
          "output_type": "display_data",
          "data": {
            "text/plain": "<Figure size 576x432 with 1 Axes>",
            "image/png": "[encoded data removed]"
          },
          "metadata": {
            "needs_background": "light"
          }
        }
      ],
      "execution_count": 3,
      "metadata": {
        "collapsed": true,
        "jupyter": {
          "source_hidden": false,
          "outputs_hidden": false
        },
        "nteract": {
          "transient": {
            "deleting": false
          }
        },
        "execution": {
          "iopub.status.busy": "2023-11-04T21:52:27.774Z",
          "iopub.execute_input": "2023-11-04T21:52:27.776Z",
          "shell.execute_reply": "2023-11-04T21:52:28.059Z",
          "iopub.status.idle": "2023-11-04T21:52:28.062Z"
        }
      }
    }
  ],
  "metadata": {
    "kernel_info": {
      "name": "python3"
    },
    "language_info": {
      "name": "python",
      "version": "3.7.6",
      "mimetype": "text/x-python",
      "codemirror_mode": {
        "name": "ipython",
        "version": 3
      },
      "pygments_lexer": "ipython3",
      "nbconvert_exporter": "python",
      "file_extension": ".py"
    },
    "kernelspec": {
      "argv": [
        "C:/Users/Tin Hang/anaconda3\\python.exe",
        "-m",
        "ipykernel_launcher",
        "-f",
        "{connection_file}"
      ],
      "display_name": "Python 3",
      "language": "python",
      "name": "python3"
    },
    "nteract": {
      "version": "0.28.0"
    }
  },
  "nbformat": 4,
  "nbformat_minor": 0
}