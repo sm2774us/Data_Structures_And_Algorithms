{
  "cells": [
    {
      "cell_type": "markdown",
      "source": [
        "# Information Theory Part 2"
      ],
      "metadata": {
        "nteract": {
          "transient": {
            "deleting": false
          }
        }
      }
    },
    {
      "cell_type": "markdown",
      "source": [
        "https://en.wikipedia.org/wiki/Information_theory  "
      ],
      "metadata": {
        "nteract": {
          "transient": {
            "deleting": false
          }
        }
      }
    },
    {
      "cell_type": "code",
      "source": [
        "import warnings\n",
        "warnings.filterwarnings(\"ignore\")\n",
        "\n",
        "import numpy as np\n",
        "import math\n",
        "import matplotlib.pyplot as plt\n",
        "\n",
        "# yahoo finance is used to fetch data \n",
        "import yfinance as yf\n",
        "yf.pdr_override()"
      ],
      "outputs": [],
      "execution_count": 1,
      "metadata": {
        "collapsed": true,
        "jupyter": {
          "source_hidden": false,
          "outputs_hidden": false
        },
        "nteract": {
          "transient": {
            "deleting": false
          }
        },
        "execution": {
          "iopub.status.busy": "2023-05-11T13:51:46.049Z",
          "iopub.execute_input": "2023-05-11T13:51:46.054Z",
          "iopub.status.idle": "2023-05-11T13:51:46.508Z",
          "shell.execute_reply": "2023-05-11T13:51:46.527Z"
        }
      }
    },
    {
      "cell_type": "code",
      "source": [
        "# input\n",
        "symbol = 'AAPL'\n",
        "start = '2018-01-01'\n",
        "end = '2023-01-01'\n",
        "\n",
        "# Read data \n",
        "df = yf.download(symbol,start,end)\n",
        "\n",
        "# View Columns\n",
        "df.head()"
      ],
      "outputs": [
        {
          "output_type": "stream",
          "name": "stdout",
          "text": [
            "[*********************100%***********************]  1 of 1 completed\n"
          ]
        },
        {
          "output_type": "execute_result",
          "execution_count": 2,
          "data": {
            "text/plain": "                 Open       High        Low      Close  Adj Close     Volume\nDate                                                                        \n2018-01-02  42.540001  43.075001  42.314999  43.064999  40.888069  102223600\n2018-01-03  43.132500  43.637501  42.990002  43.057499  40.880947  118071600\n2018-01-04  43.134998  43.367500  43.020000  43.257500  41.070835   89738400\n2018-01-05  43.360001  43.842499  43.262501  43.750000  41.538445   94640000\n2018-01-08  43.587502  43.902500  43.482498  43.587502  41.384163   82271200",
            "text/html": "<div>\n<style scoped>\n    .dataframe tbody tr th:only-of-type {\n        vertical-align: middle;\n    }\n\n    .dataframe tbody tr th {\n        vertical-align: top;\n    }\n\n    .dataframe thead th {\n        text-align: right;\n    }\n</style>\n<table border=\"1\" class=\"dataframe\">\n  <thead>\n    <tr style=\"text-align: right;\">\n      <th></th>\n      <th>Open</th>\n      <th>High</th>\n      <th>Low</th>\n      <th>Close</th>\n      <th>Adj Close</th>\n      <th>Volume</th>\n    </tr>\n    <tr>\n      <th>Date</th>\n      <th></th>\n      <th></th>\n      <th></th>\n      <th></th>\n      <th></th>\n      <th></th>\n    </tr>\n  </thead>\n  <tbody>\n    <tr>\n      <th>2018-01-02</th>\n      <td>42.540001</td>\n      <td>43.075001</td>\n      <td>42.314999</td>\n      <td>43.064999</td>\n      <td>40.888069</td>\n      <td>102223600</td>\n    </tr>\n    <tr>\n      <th>2018-01-03</th>\n      <td>43.132500</td>\n      <td>43.637501</td>\n      <td>42.990002</td>\n      <td>43.057499</td>\n      <td>40.880947</td>\n      <td>118071600</td>\n    </tr>\n    <tr>\n      <th>2018-01-04</th>\n      <td>43.134998</td>\n      <td>43.367500</td>\n      <td>43.020000</td>\n      <td>43.257500</td>\n      <td>41.070835</td>\n      <td>89738400</td>\n    </tr>\n    <tr>\n      <th>2018-01-05</th>\n      <td>43.360001</td>\n      <td>43.842499</td>\n      <td>43.262501</td>\n      <td>43.750000</td>\n      <td>41.538445</td>\n      <td>94640000</td>\n    </tr>\n    <tr>\n      <th>2018-01-08</th>\n      <td>43.587502</td>\n      <td>43.902500</td>\n      <td>43.482498</td>\n      <td>43.587502</td>\n      <td>41.384163</td>\n      <td>82271200</td>\n    </tr>\n  </tbody>\n</table>\n</div>"
          },
          "metadata": {}
        }
      ],
      "execution_count": 2,
      "metadata": {
        "collapsed": true,
        "jupyter": {
          "source_hidden": false,
          "outputs_hidden": false
        },
        "nteract": {
          "transient": {
            "deleting": false
          }
        },
        "execution": {
          "iopub.status.busy": "2023-05-11T13:51:46.514Z",
          "iopub.execute_input": "2023-05-11T13:51:46.518Z",
          "iopub.status.idle": "2023-05-11T13:51:46.956Z",
          "shell.execute_reply": "2023-05-11T13:51:47.085Z"
        }
      }
    },
    {
      "cell_type": "code",
      "source": [
        "df.tail()"
      ],
      "outputs": [
        {
          "output_type": "execute_result",
          "execution_count": 3,
          "data": {
            "text/plain": "                  Open        High         Low       Close   Adj Close  \\\nDate                                                                     \n2022-12-23  130.919998  132.419998  129.639999  131.860001  131.658981   \n2022-12-27  131.380005  131.410004  128.720001  130.029999  129.831772   \n2022-12-28  129.669998  131.029999  125.870003  126.040001  125.847855   \n2022-12-29  127.989998  130.479996  127.730003  129.610001  129.412415   \n2022-12-30  128.410004  129.949997  127.430000  129.929993  129.731918   \n\n              Volume  \nDate                  \n2022-12-23  63814900  \n2022-12-27  69007800  \n2022-12-28  85438400  \n2022-12-29  75703700  \n2022-12-30  77034200  ",
            "text/html": "<div>\n<style scoped>\n    .dataframe tbody tr th:only-of-type {\n        vertical-align: middle;\n    }\n\n    .dataframe tbody tr th {\n        vertical-align: top;\n    }\n\n    .dataframe thead th {\n        text-align: right;\n    }\n</style>\n<table border=\"1\" class=\"dataframe\">\n  <thead>\n    <tr style=\"text-align: right;\">\n      <th></th>\n      <th>Open</th>\n      <th>High</th>\n      <th>Low</th>\n      <th>Close</th>\n      <th>Adj Close</th>\n      <th>Volume</th>\n    </tr>\n    <tr>\n      <th>Date</th>\n      <th></th>\n      <th></th>\n      <th></th>\n      <th></th>\n      <th></th>\n      <th></th>\n    </tr>\n  </thead>\n  <tbody>\n    <tr>\n      <th>2022-12-23</th>\n      <td>130.919998</td>\n      <td>132.419998</td>\n      <td>129.639999</td>\n      <td>131.860001</td>\n      <td>131.658981</td>\n      <td>63814900</td>\n    </tr>\n    <tr>\n      <th>2022-12-27</th>\n      <td>131.380005</td>\n      <td>131.410004</td>\n      <td>128.720001</td>\n      <td>130.029999</td>\n      <td>129.831772</td>\n      <td>69007800</td>\n    </tr>\n    <tr>\n      <th>2022-12-28</th>\n      <td>129.669998</td>\n      <td>131.029999</td>\n      <td>125.870003</td>\n      <td>126.040001</td>\n      <td>125.847855</td>\n      <td>85438400</td>\n    </tr>\n    <tr>\n      <th>2022-12-29</th>\n      <td>127.989998</td>\n      <td>130.479996</td>\n      <td>127.730003</td>\n      <td>129.610001</td>\n      <td>129.412415</td>\n      <td>75703700</td>\n    </tr>\n    <tr>\n      <th>2022-12-30</th>\n      <td>128.410004</td>\n      <td>129.949997</td>\n      <td>127.430000</td>\n      <td>129.929993</td>\n      <td>129.731918</td>\n      <td>77034200</td>\n    </tr>\n  </tbody>\n</table>\n</div>"
          },
          "metadata": {}
        }
      ],
      "execution_count": 3,
      "metadata": {
        "collapsed": true,
        "jupyter": {
          "source_hidden": false,
          "outputs_hidden": false
        },
        "nteract": {
          "transient": {
            "deleting": false
          }
        },
        "execution": {
          "iopub.status.busy": "2023-05-11T13:51:46.962Z",
          "iopub.execute_input": "2023-05-11T13:51:46.968Z",
          "iopub.status.idle": "2023-05-11T13:51:46.978Z",
          "shell.execute_reply": "2023-05-11T13:51:47.089Z"
        }
      }
    },
    {
      "cell_type": "code",
      "source": [
        "# Extract the closing prices from the data\n",
        "prices = df['Adj Close']\n"
      ],
      "outputs": [],
      "execution_count": 4,
      "metadata": {
        "collapsed": true,
        "jupyter": {
          "source_hidden": false,
          "outputs_hidden": false
        },
        "nteract": {
          "transient": {
            "deleting": false
          }
        },
        "execution": {
          "iopub.status.busy": "2023-05-11T13:51:46.986Z",
          "iopub.execute_input": "2023-05-11T13:51:46.990Z",
          "iopub.status.idle": "2023-05-11T13:51:46.996Z",
          "shell.execute_reply": "2023-05-11T13:51:47.092Z"
        }
      }
    },
    {
      "cell_type": "code",
      "source": [
        "# Calculate daily returns\n",
        "returns = prices.pct_change().dropna()"
      ],
      "outputs": [],
      "execution_count": 5,
      "metadata": {
        "collapsed": true,
        "jupyter": {
          "source_hidden": false,
          "outputs_hidden": false
        },
        "nteract": {
          "transient": {
            "deleting": false
          }
        },
        "execution": {
          "iopub.status.busy": "2023-05-11T13:51:47.006Z",
          "iopub.execute_input": "2023-05-11T13:51:47.010Z",
          "iopub.status.idle": "2023-05-11T13:51:47.019Z",
          "shell.execute_reply": "2023-05-11T13:51:47.095Z"
        }
      }
    },
    {
      "cell_type": "code",
      "source": [
        "# Calculate the probability distribution of returns\n",
        "probabilities, _ = np.histogram(returns, bins='auto', density=True)"
      ],
      "outputs": [],
      "execution_count": 6,
      "metadata": {
        "collapsed": true,
        "jupyter": {
          "source_hidden": false,
          "outputs_hidden": false
        },
        "nteract": {
          "transient": {
            "deleting": false
          }
        },
        "execution": {
          "iopub.status.busy": "2023-05-11T13:51:47.026Z",
          "iopub.execute_input": "2023-05-11T13:51:47.030Z",
          "iopub.status.idle": "2023-05-11T13:51:47.039Z",
          "shell.execute_reply": "2023-05-11T13:51:47.097Z"
        }
      }
    },
    {
      "cell_type": "code",
      "source": [
        "# Apply information theory - Shannon entropy\n",
        "entropy = -np.sum(probabilities * np.log2(probabilities))"
      ],
      "outputs": [],
      "execution_count": 7,
      "metadata": {
        "collapsed": true,
        "jupyter": {
          "source_hidden": false,
          "outputs_hidden": false
        },
        "nteract": {
          "transient": {
            "deleting": false
          }
        },
        "execution": {
          "iopub.status.busy": "2023-05-11T13:51:47.046Z",
          "iopub.execute_input": "2023-05-11T13:51:47.051Z",
          "iopub.status.idle": "2023-05-11T13:51:47.059Z",
          "shell.execute_reply": "2023-05-11T13:51:47.100Z"
        }
      }
    },
    {
      "cell_type": "code",
      "source": [
        "# Plotting the stock prices\n",
        "plt.figure(figsize=(10, 6))\n",
        "plt.plot(prices.index, prices, label=\"Closing Prices\")\n",
        "plt.title(f\"Stock Prices - {symbol}\")\n",
        "plt.xlabel(\"Date\")\n",
        "plt.ylabel(\"Price (USD)\")\n",
        "plt.legend()\n",
        "\n",
        "# Show the calculated entropy value\n",
        "plt.text(0.05, 0.9, f\"Entropy: {entropy:.4f}\", transform=plt.gca().transAxes)\n",
        "\n",
        "# Show the plot\n",
        "plt.show()"
      ],
      "outputs": [
        {
          "output_type": "display_data",
          "data": {
            "text/plain": "<Figure size 720x432 with 1 Axes>",
            "image/png": "[encoded data removed]"
          },
          "metadata": {
            "needs_background": "light"
          }
        }
      ],
      "execution_count": 8,
      "metadata": {
        "collapsed": true,
        "jupyter": {
          "source_hidden": false,
          "outputs_hidden": false
        },
        "nteract": {
          "transient": {
            "deleting": false
          }
        },
        "execution": {
          "iopub.status.busy": "2023-05-11T13:51:47.065Z",
          "iopub.execute_input": "2023-05-11T13:51:47.069Z",
          "iopub.status.idle": "2023-05-11T13:51:47.153Z",
          "shell.execute_reply": "2023-05-11T13:51:47.213Z"
        }
      }
    },
    {
      "cell_type": "code",
      "source": [
        "# Calculate the information entropy of the closing price data\n",
        "probabilities = np.histogram(prices, bins=20, density=True)[0]\n",
        "Entropy = -np.sum(probabilities * np.log2(probabilities))\n",
        "print(\"Entropy of \" + symbol + \" closing prices:\", Entropy)"
      ],
      "outputs": [
        {
          "output_type": "stream",
          "name": "stdout",
          "text": [
            "Entropy of AAPL closing prices: 0.9357742974754809\n"
          ]
        }
      ],
      "execution_count": 9,
      "metadata": {
        "collapsed": true,
        "jupyter": {
          "source_hidden": false,
          "outputs_hidden": false
        },
        "nteract": {
          "transient": {
            "deleting": false
          }
        },
        "execution": {
          "iopub.status.busy": "2023-05-11T13:51:47.160Z",
          "iopub.execute_input": "2023-05-11T13:51:47.167Z",
          "iopub.status.idle": "2023-05-11T13:51:47.180Z",
          "shell.execute_reply": "2023-05-11T13:51:47.216Z"
        }
      }
    },
    {
      "cell_type": "code",
      "source": [
        "# Calculate and apply information theory concepts\n",
        "entropy = -np.sum(returns * np.log2(returns + 1e-10))  # Add small value to avoid log(0)\n",
        "average = np.mean(returns)\n",
        "variance = np.var(returns)\n",
        "\n",
        "# Print the calculated information theory values\n",
        "print(f'Entropy: {entropy}')\n",
        "print(f'Average: {average}')\n",
        "print(f'Variance: {variance}')"
      ],
      "outputs": [
        {
          "output_type": "stream",
          "name": "stdout",
          "text": [
            "Entropy: 55.555898343992205\n",
            "Average: 0.0011407194061788953\n",
            "Variance: 0.0004445861581950274\n"
          ]
        }
      ],
      "execution_count": 10,
      "metadata": {
        "collapsed": true,
        "jupyter": {
          "source_hidden": false,
          "outputs_hidden": false
        },
        "nteract": {
          "transient": {
            "deleting": false
          }
        },
        "execution": {
          "iopub.status.busy": "2023-05-11T13:51:47.190Z",
          "iopub.execute_input": "2023-05-11T13:51:47.194Z",
          "shell.execute_reply": "2023-05-11T13:51:47.221Z",
          "iopub.status.idle": "2023-05-11T13:51:47.203Z"
        }
      }
    }
  ],
  "metadata": {
    "kernel_info": {
      "name": "python3"
    },
    "language_info": {
      "name": "python",
      "version": "3.7.6",
      "mimetype": "text/x-python",
      "codemirror_mode": {
        "name": "ipython",
        "version": 3
      },
      "pygments_lexer": "ipython3",
      "nbconvert_exporter": "python",
      "file_extension": ".py"
    },
    "kernelspec": {
      "argv": [
        "C:/Users/Tin Hang/Anaconda3\\python.exe",
        "-m",
        "ipykernel_launcher",
        "-f",
        "{connection_file}"
      ],
      "display_name": "Python 3",
      "language": "python",
      "name": "python3"
    },
    "nteract": {
      "version": "0.28.0"
    }
  },
  "nbformat": 4,
  "nbformat_minor": 0
}