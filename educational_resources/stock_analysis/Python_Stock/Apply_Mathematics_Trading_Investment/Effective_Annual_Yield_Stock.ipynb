{
  "cells": [
    {
      "cell_type": "markdown",
      "source": [
        "# Effective Annual Yield (EAY)"
      ],
      "metadata": {
        "nteract": {
          "transient": {
            "deleting": false
          }
        }
      }
    },
    {
      "cell_type": "markdown",
      "source": [
        "https://cbonds.com/glossary/effective-ytm/"
      ],
      "metadata": {
        "nteract": {
          "transient": {
            "deleting": false
          }
        }
      }
    },
    {
      "cell_type": "code",
      "source": [
        "import yfinance as yf\n",
        "import pandas as pd\n",
        "import numpy as np\n",
        "\n",
        "# Input\n",
        "symbol = 'AMD'\n",
        "start = '2020-01-01'\n",
        "end = '2023-01-01'\n",
        "\n",
        "# Read data\n",
        "dataset = yf.download(symbol, start, end)\n",
        "\n",
        "# Define a function to calculate Effective Annual Yield (EAY)\n",
        "def calculate_eay(hpr, time_to_maturity):\n",
        "    eay = (1 + hpr) ** (360 / time_to_maturity) - 1\n",
        "    return eay\n",
        "\n",
        "# Prepare data\n",
        "data = dataset['Adj Close'].values\n",
        "\n",
        "# Calculate Holding Period Return (HPR)\n",
        "initial_price = data[0]\n",
        "final_price = data[-1]\n",
        "hpr = (final_price - initial_price) / initial_price\n",
        "\n",
        "# Calculate Time to Maturity (assuming a 1-year holding period)\n",
        "time_to_maturity = 1\n",
        "\n",
        "# Calculate Effective Annual Yield (EAY)\n",
        "eay = calculate_eay(hpr, time_to_maturity)\n",
        "\n",
        "print(f\"Stock: {symbol}\")\n",
        "print(f\"Holding Period Return (HPR): {hpr:.2%}\")\n",
        "print(f\"Effective Annual Yield (EAY): {eay:.2%}\")"
      ],
      "outputs": [
        {
          "output_type": "stream",
          "name": "stdout",
          "text": [
            "[*********************100%***********************]  1 of 1 completed\n",
            "Stock: AMD\n",
            "Holding Period Return (HPR): 31.91%\n",
            "Effective Annual Yield (EAY): 2019586833577897319838904573151218041012355072.00%\n"
          ]
        }
      ],
      "execution_count": 1,
      "metadata": {
        "collapsed": true,
        "jupyter": {
          "source_hidden": false,
          "outputs_hidden": false
        },
        "nteract": {
          "transient": {
            "deleting": false
          }
        },
        "execution": {
          "iopub.status.busy": "2023-11-02T01:11:57.209Z",
          "iopub.execute_input": "2023-11-02T01:11:57.211Z",
          "iopub.status.idle": "2023-11-02T01:11:58.035Z",
          "shell.execute_reply": "2023-11-02T01:11:58.041Z"
        }
      }
    }
  ],
  "metadata": {
    "kernel_info": {
      "name": "python3"
    },
    "language_info": {
      "name": "python",
      "version": "3.7.6",
      "mimetype": "text/x-python",
      "codemirror_mode": {
        "name": "ipython",
        "version": 3
      },
      "pygments_lexer": "ipython3",
      "nbconvert_exporter": "python",
      "file_extension": ".py"
    },
    "kernelspec": {
      "argv": [
        "C:/Users/Tin Hang/anaconda3\\python.exe",
        "-m",
        "ipykernel_launcher",
        "-f",
        "{connection_file}"
      ],
      "display_name": "Python 3",
      "language": "python",
      "name": "python3"
    },
    "nteract": {
      "version": "0.28.0"
    }
  },
  "nbformat": 4,
  "nbformat_minor": 0
}