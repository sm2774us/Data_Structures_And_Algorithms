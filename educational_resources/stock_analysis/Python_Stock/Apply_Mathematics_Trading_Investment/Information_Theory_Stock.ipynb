{
  "cells": [
    {
      "cell_type": "markdown",
      "source": [
        "# Information Theory"
      ],
      "metadata": {
        "nteract": {
          "transient": {
            "deleting": false
          }
        }
      }
    },
    {
      "cell_type": "markdown",
      "source": [
        "https://en.wikipedia.org/wiki/Information_theory  \n",
        "https://www.basicknowledge101.com/pdf/km/Entropy%20(information%20theory).pdf  "
      ],
      "metadata": {
        "nteract": {
          "transient": {
            "deleting": false
          }
        }
      }
    },
    {
      "cell_type": "code",
      "source": [
        "import pandas as pd\n",
        "import numpy as np\n",
        "import matplotlib.pyplot as plt\n",
        "\n",
        "import warnings\n",
        "warnings.filterwarnings(\"ignore\")\n",
        "\n",
        "import yfinance as yf\n",
        "yf.pdr_override()"
      ],
      "outputs": [],
      "execution_count": 1,
      "metadata": {
        "collapsed": true,
        "jupyter": {
          "source_hidden": false,
          "outputs_hidden": false
        },
        "nteract": {
          "transient": {
            "deleting": false
          }
        },
        "execution": {
          "iopub.status.busy": "2022-05-21T02:31:12.150Z",
          "iopub.execute_input": "2022-05-21T02:31:12.155Z",
          "iopub.status.idle": "2022-05-21T02:31:12.340Z",
          "shell.execute_reply": "2022-05-21T02:31:12.374Z"
        }
      }
    },
    {
      "cell_type": "code",
      "source": [
        "start = '2021-01-01'\n",
        "end = '2022-01-01'\n",
        "symbol = 'AMD'"
      ],
      "outputs": [],
      "execution_count": 2,
      "metadata": {
        "collapsed": true,
        "jupyter": {
          "source_hidden": false,
          "outputs_hidden": false
        },
        "nteract": {
          "transient": {
            "deleting": false
          }
        },
        "execution": {
          "iopub.status.busy": "2022-05-21T02:31:12.346Z",
          "iopub.execute_input": "2022-05-21T02:31:12.350Z",
          "iopub.status.idle": "2022-05-21T02:31:12.359Z",
          "shell.execute_reply": "2022-05-21T02:31:12.377Z"
        }
      }
    },
    {
      "cell_type": "code",
      "source": [
        "df = yf.download(symbol, start=start, end=end)"
      ],
      "outputs": [
        {
          "output_type": "stream",
          "name": "stdout",
          "text": [
            "[*********************100%***********************]  1 of 1 completed\n"
          ]
        }
      ],
      "execution_count": 3,
      "metadata": {
        "collapsed": true,
        "jupyter": {
          "source_hidden": false,
          "outputs_hidden": false
        },
        "nteract": {
          "transient": {
            "deleting": false
          }
        },
        "execution": {
          "iopub.status.busy": "2022-05-21T02:31:12.365Z",
          "iopub.execute_input": "2022-05-21T02:31:12.370Z",
          "shell.execute_reply": "2022-05-21T02:31:12.982Z",
          "iopub.status.idle": "2022-05-21T02:31:12.989Z"
        }
      }
    },
    {
      "cell_type": "code",
      "source": [
        "df.head()"
      ],
      "outputs": [
        {
          "output_type": "execute_result",
          "execution_count": 4,
          "data": {
            "text/plain": "                 Open       High        Low      Close  Adj Close    Volume\nDate                                                                       \n2021-01-04  92.110001  96.059998  90.919998  92.300003  92.300003  51802600\n2021-01-05  92.099998  93.209999  91.410004  92.769997  92.769997  34208000\n2021-01-06  91.620003  92.279999  89.459999  90.330002  90.330002  51911700\n2021-01-07  91.330002  95.510002  91.199997  95.160004  95.160004  42897200\n2021-01-08  95.980003  96.400002  93.269997  94.580002  94.580002  39816400",
            "text/html": "<div>\n<style scoped>\n    .dataframe tbody tr th:only-of-type {\n        vertical-align: middle;\n    }\n\n    .dataframe tbody tr th {\n        vertical-align: top;\n    }\n\n    .dataframe thead th {\n        text-align: right;\n    }\n</style>\n<table border=\"1\" class=\"dataframe\">\n  <thead>\n    <tr style=\"text-align: right;\">\n      <th></th>\n      <th>Open</th>\n      <th>High</th>\n      <th>Low</th>\n      <th>Close</th>\n      <th>Adj Close</th>\n      <th>Volume</th>\n    </tr>\n    <tr>\n      <th>Date</th>\n      <th></th>\n      <th></th>\n      <th></th>\n      <th></th>\n      <th></th>\n      <th></th>\n    </tr>\n  </thead>\n  <tbody>\n    <tr>\n      <th>2021-01-04</th>\n      <td>92.110001</td>\n      <td>96.059998</td>\n      <td>90.919998</td>\n      <td>92.300003</td>\n      <td>92.300003</td>\n      <td>51802600</td>\n    </tr>\n    <tr>\n      <th>2021-01-05</th>\n      <td>92.099998</td>\n      <td>93.209999</td>\n      <td>91.410004</td>\n      <td>92.769997</td>\n      <td>92.769997</td>\n      <td>34208000</td>\n    </tr>\n    <tr>\n      <th>2021-01-06</th>\n      <td>91.620003</td>\n      <td>92.279999</td>\n      <td>89.459999</td>\n      <td>90.330002</td>\n      <td>90.330002</td>\n      <td>51911700</td>\n    </tr>\n    <tr>\n      <th>2021-01-07</th>\n      <td>91.330002</td>\n      <td>95.510002</td>\n      <td>91.199997</td>\n      <td>95.160004</td>\n      <td>95.160004</td>\n      <td>42897200</td>\n    </tr>\n    <tr>\n      <th>2021-01-08</th>\n      <td>95.980003</td>\n      <td>96.400002</td>\n      <td>93.269997</td>\n      <td>94.580002</td>\n      <td>94.580002</td>\n      <td>39816400</td>\n    </tr>\n  </tbody>\n</table>\n</div>"
          },
          "metadata": {}
        }
      ],
      "execution_count": 4,
      "metadata": {
        "collapsed": true,
        "jupyter": {
          "source_hidden": false,
          "outputs_hidden": false
        },
        "nteract": {
          "transient": {
            "deleting": false
          }
        },
        "execution": {
          "iopub.status.busy": "2022-05-21T02:31:12.996Z",
          "iopub.execute_input": "2022-05-21T02:31:13.001Z",
          "iopub.status.idle": "2022-05-21T02:31:13.014Z",
          "shell.execute_reply": "2022-05-21T02:31:13.215Z"
        }
      }
    },
    {
      "cell_type": "code",
      "source": [
        "df.tail()"
      ],
      "outputs": [
        {
          "output_type": "execute_result",
          "execution_count": 5,
          "data": {
            "text/plain": "                  Open        High         Low       Close   Adj Close  \\\nDate                                                                     \n2021-12-27  147.509995  154.889999  147.250000  154.360001  154.360001   \n2021-12-28  155.880005  156.729996  151.380005  153.149994  153.149994   \n2021-12-29  152.820007  154.339996  147.289993  148.259995  148.259995   \n2021-12-30  147.440002  148.850006  144.850006  145.149994  145.149994   \n2021-12-31  146.160004  148.610001  143.550003  143.899994  143.899994   \n\n              Volume  \nDate                  \n2021-12-27  53296400  \n2021-12-28  58699100  \n2021-12-29  51300200  \n2021-12-30  44358000  \n2021-12-31  49448100  ",
            "text/html": "<div>\n<style scoped>\n    .dataframe tbody tr th:only-of-type {\n        vertical-align: middle;\n    }\n\n    .dataframe tbody tr th {\n        vertical-align: top;\n    }\n\n    .dataframe thead th {\n        text-align: right;\n    }\n</style>\n<table border=\"1\" class=\"dataframe\">\n  <thead>\n    <tr style=\"text-align: right;\">\n      <th></th>\n      <th>Open</th>\n      <th>High</th>\n      <th>Low</th>\n      <th>Close</th>\n      <th>Adj Close</th>\n      <th>Volume</th>\n    </tr>\n    <tr>\n      <th>Date</th>\n      <th></th>\n      <th></th>\n      <th></th>\n      <th></th>\n      <th></th>\n      <th></th>\n    </tr>\n  </thead>\n  <tbody>\n    <tr>\n      <th>2021-12-27</th>\n      <td>147.509995</td>\n      <td>154.889999</td>\n      <td>147.250000</td>\n      <td>154.360001</td>\n      <td>154.360001</td>\n      <td>53296400</td>\n    </tr>\n    <tr>\n      <th>2021-12-28</th>\n      <td>155.880005</td>\n      <td>156.729996</td>\n      <td>151.380005</td>\n      <td>153.149994</td>\n      <td>153.149994</td>\n      <td>58699100</td>\n    </tr>\n    <tr>\n      <th>2021-12-29</th>\n      <td>152.820007</td>\n      <td>154.339996</td>\n      <td>147.289993</td>\n      <td>148.259995</td>\n      <td>148.259995</td>\n      <td>51300200</td>\n    </tr>\n    <tr>\n      <th>2021-12-30</th>\n      <td>147.440002</td>\n      <td>148.850006</td>\n      <td>144.850006</td>\n      <td>145.149994</td>\n      <td>145.149994</td>\n      <td>44358000</td>\n    </tr>\n    <tr>\n      <th>2021-12-31</th>\n      <td>146.160004</td>\n      <td>148.610001</td>\n      <td>143.550003</td>\n      <td>143.899994</td>\n      <td>143.899994</td>\n      <td>49448100</td>\n    </tr>\n  </tbody>\n</table>\n</div>"
          },
          "metadata": {}
        }
      ],
      "execution_count": 5,
      "metadata": {
        "collapsed": true,
        "jupyter": {
          "source_hidden": false,
          "outputs_hidden": false
        },
        "nteract": {
          "transient": {
            "deleting": false
          }
        },
        "execution": {
          "iopub.status.busy": "2022-05-21T02:31:13.021Z",
          "iopub.execute_input": "2022-05-21T02:31:13.025Z",
          "iopub.status.idle": "2022-05-21T02:31:13.035Z",
          "shell.execute_reply": "2022-05-21T02:31:13.219Z"
        }
      }
    },
    {
      "cell_type": "code",
      "source": [
        "x = np.array(df['Adj Close']).squeeze()"
      ],
      "outputs": [],
      "execution_count": 6,
      "metadata": {
        "collapsed": true,
        "jupyter": {
          "source_hidden": false,
          "outputs_hidden": false
        },
        "nteract": {
          "transient": {
            "deleting": false
          }
        },
        "execution": {
          "iopub.status.busy": "2022-05-21T02:31:13.043Z",
          "iopub.execute_input": "2022-05-21T02:31:13.048Z",
          "iopub.status.idle": "2022-05-21T02:31:13.057Z",
          "shell.execute_reply": "2022-05-21T02:31:13.223Z"
        }
      }
    },
    {
      "cell_type": "code",
      "source": [
        "import collections\n",
        "\n",
        "outcomes = [item for item, count in collections.Counter(x).items() if count > 1]"
      ],
      "outputs": [],
      "execution_count": 7,
      "metadata": {
        "collapsed": true,
        "jupyter": {
          "source_hidden": false,
          "outputs_hidden": false
        },
        "nteract": {
          "transient": {
            "deleting": false
          }
        },
        "execution": {
          "iopub.status.busy": "2022-05-21T02:31:13.064Z",
          "iopub.execute_input": "2022-05-21T02:31:13.068Z",
          "iopub.status.idle": "2022-05-21T02:31:13.075Z",
          "shell.execute_reply": "2022-05-21T02:31:13.227Z"
        }
      }
    },
    {
      "cell_type": "code",
      "source": [
        "outcomes = np.round(outcomes, 2)\n",
        "outcomes"
      ],
      "outputs": [
        {
          "output_type": "execute_result",
          "execution_count": 8,
          "data": {
            "text/plain": "array([ 79.06,  82.76,  78.55, 106.15])"
          },
          "metadata": {}
        }
      ],
      "execution_count": 8,
      "metadata": {
        "collapsed": true,
        "jupyter": {
          "source_hidden": false,
          "outputs_hidden": false
        },
        "nteract": {
          "transient": {
            "deleting": false
          }
        },
        "execution": {
          "iopub.status.busy": "2022-05-21T02:31:13.081Z",
          "iopub.execute_input": "2022-05-21T02:31:13.088Z",
          "iopub.status.idle": "2022-05-21T02:31:13.098Z",
          "shell.execute_reply": "2022-05-21T02:31:13.231Z"
        }
      }
    },
    {
      "cell_type": "code",
      "source": [
        "outcome_probabilities = [0.50, 0.50, 0.50, 0.50]"
      ],
      "outputs": [],
      "execution_count": 9,
      "metadata": {
        "collapsed": true,
        "jupyter": {
          "source_hidden": false,
          "outputs_hidden": false
        },
        "nteract": {
          "transient": {
            "deleting": false
          }
        },
        "execution": {
          "iopub.status.busy": "2022-05-21T02:31:13.105Z",
          "iopub.execute_input": "2022-05-21T02:31:13.109Z",
          "iopub.status.idle": "2022-05-21T02:31:13.117Z",
          "shell.execute_reply": "2022-05-21T02:31:13.234Z"
        }
      }
    },
    {
      "cell_type": "code",
      "source": [
        "H = outcomes\n",
        "\n",
        "for p in outcome_probabilities:\n",
        "    H += (p*np.log2(p))\n",
        "\n",
        "H = -H\n",
        "\n",
        "print(H)"
      ],
      "outputs": [
        {
          "output_type": "stream",
          "name": "stdout",
          "text": [
            "[ -77.06  -80.76  -76.55 -104.15]\n"
          ]
        }
      ],
      "execution_count": 10,
      "metadata": {
        "collapsed": true,
        "jupyter": {
          "source_hidden": false,
          "outputs_hidden": false
        },
        "nteract": {
          "transient": {
            "deleting": false
          }
        },
        "execution": {
          "iopub.status.busy": "2022-05-21T02:31:13.126Z",
          "iopub.execute_input": "2022-05-21T02:31:13.131Z",
          "iopub.status.idle": "2022-05-21T02:31:13.144Z",
          "shell.execute_reply": "2022-05-21T02:31:13.237Z"
        }
      }
    },
    {
      "cell_type": "code",
      "source": [
        "data = {'Repeat Adj Close':outcomes,\n",
        "        'Entropy':H}"
      ],
      "outputs": [],
      "execution_count": 11,
      "metadata": {
        "collapsed": true,
        "jupyter": {
          "source_hidden": false,
          "outputs_hidden": false
        },
        "nteract": {
          "transient": {
            "deleting": false
          }
        },
        "execution": {
          "iopub.status.busy": "2022-05-21T02:31:13.151Z",
          "iopub.execute_input": "2022-05-21T02:31:13.157Z",
          "iopub.status.idle": "2022-05-21T02:31:13.163Z",
          "shell.execute_reply": "2022-05-21T02:31:13.241Z"
        }
      }
    },
    {
      "cell_type": "code",
      "source": [
        "IT_df = pd.DataFrame(data)\n",
        "IT_df"
      ],
      "outputs": [
        {
          "output_type": "execute_result",
          "execution_count": 12,
          "data": {
            "text/plain": "   Repeat Adj Close  Entropy\n0             77.06   -77.06\n1             80.76   -80.76\n2             76.55   -76.55\n3            104.15  -104.15",
            "text/html": "<div>\n<style scoped>\n    .dataframe tbody tr th:only-of-type {\n        vertical-align: middle;\n    }\n\n    .dataframe tbody tr th {\n        vertical-align: top;\n    }\n\n    .dataframe thead th {\n        text-align: right;\n    }\n</style>\n<table border=\"1\" class=\"dataframe\">\n  <thead>\n    <tr style=\"text-align: right;\">\n      <th></th>\n      <th>Repeat Adj Close</th>\n      <th>Entropy</th>\n    </tr>\n  </thead>\n  <tbody>\n    <tr>\n      <th>0</th>\n      <td>77.06</td>\n      <td>-77.06</td>\n    </tr>\n    <tr>\n      <th>1</th>\n      <td>80.76</td>\n      <td>-80.76</td>\n    </tr>\n    <tr>\n      <th>2</th>\n      <td>76.55</td>\n      <td>-76.55</td>\n    </tr>\n    <tr>\n      <th>3</th>\n      <td>104.15</td>\n      <td>-104.15</td>\n    </tr>\n  </tbody>\n</table>\n</div>"
          },
          "metadata": {}
        }
      ],
      "execution_count": 12,
      "metadata": {
        "collapsed": true,
        "jupyter": {
          "source_hidden": false,
          "outputs_hidden": false
        },
        "nteract": {
          "transient": {
            "deleting": false
          }
        },
        "execution": {
          "iopub.status.busy": "2022-05-21T02:31:13.170Z",
          "iopub.execute_input": "2022-05-21T02:31:13.174Z",
          "iopub.status.idle": "2022-05-21T02:31:13.184Z",
          "shell.execute_reply": "2022-05-21T02:31:13.244Z"
        }
      }
    },
    {
      "cell_type": "code",
      "source": [
        "plt.bar(IT_df['Repeat Adj Close'], IT_df['Entropy'], color ='maroon',\n",
        "        width = 0.4)\n",
        " \n",
        "plt.xlabel(\"Adj Close\")\n",
        "plt.ylabel(\"Entropy\")\n",
        "plt.title(\"Information Theory of Adj Close\")\n",
        "plt.show()"
      ],
      "outputs": [
        {
          "output_type": "display_data",
          "data": {
            "text/plain": "<Figure size 432x288 with 1 Axes>",
            "image/png": "[encoded data removed]"
          },
          "metadata": {
            "needs_background": "light"
          }
        }
      ],
      "execution_count": 13,
      "metadata": {
        "collapsed": true,
        "jupyter": {
          "source_hidden": false,
          "outputs_hidden": false
        },
        "nteract": {
          "transient": {
            "deleting": false
          }
        },
        "execution": {
          "iopub.status.busy": "2022-05-21T02:31:13.192Z",
          "iopub.execute_input": "2022-05-21T02:31:13.196Z",
          "iopub.status.idle": "2022-05-21T02:31:13.256Z",
          "shell.execute_reply": "2022-05-21T02:31:13.247Z"
        }
      }
    },
    {
      "cell_type": "code",
      "source": [
        "ax = IT_df.plot.bar(x='Repeat Adj Close', y='Entropy', rot=0, title = \"Information Theory of Adj Close\")"
      ],
      "outputs": [
        {
          "output_type": "display_data",
          "data": {
            "text/plain": "<Figure size 432x288 with 1 Axes>",
            "image/png": "[encoded data removed]"
          },
          "metadata": {
            "needs_background": "light"
          }
        }
      ],
      "execution_count": 14,
      "metadata": {
        "collapsed": true,
        "jupyter": {
          "source_hidden": false,
          "outputs_hidden": false
        },
        "nteract": {
          "transient": {
            "deleting": false
          }
        },
        "execution": {
          "iopub.status.busy": "2022-05-21T02:31:13.264Z",
          "iopub.execute_input": "2022-05-21T02:31:13.269Z",
          "iopub.status.idle": "2022-05-21T02:31:13.321Z",
          "shell.execute_reply": "2022-05-21T02:31:13.330Z"
        }
      }
    }
  ],
  "metadata": {
    "kernel_info": {
      "name": "python3"
    },
    "language_info": {
      "name": "python",
      "version": "3.6.13",
      "mimetype": "text/x-python",
      "codemirror_mode": {
        "name": "ipython",
        "version": 3
      },
      "pygments_lexer": "ipython3",
      "nbconvert_exporter": "python",
      "file_extension": ".py"
    },
    "kernelspec": {
      "argv": [
        "C:/Users/Tin Hang/Anaconda3\\python.exe",
        "-m",
        "ipykernel_launcher",
        "-f",
        "{connection_file}"
      ],
      "display_name": "Python 3",
      "language": "python",
      "name": "python3"
    },
    "nteract": {
      "version": "0.28.0"
    }
  },
  "nbformat": 4,
  "nbformat_minor": 0
}