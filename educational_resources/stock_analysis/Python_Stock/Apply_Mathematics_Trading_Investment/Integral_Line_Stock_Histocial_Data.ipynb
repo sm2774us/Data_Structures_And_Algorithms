{
  "cells": [
    {
      "cell_type": "markdown",
      "source": [
        "# Intergal using Line Equation from Stock Histocial Data"
      ],
      "metadata": {
        "nteract": {
          "transient": {
            "deleting": false
          }
        }
      }
    },
    {
      "cell_type": "code",
      "source": [
        "import numpy as np\n",
        "import matplotlib.pyplot as plt\n",
        "import seaborn as sns\n",
        "import pandas as pd\n",
        "from sympy import *\n",
        "\n",
        "import warnings\n",
        "warnings.filterwarnings(\"ignore\") \n",
        "\n",
        "# yfinance is used to fetch data \n",
        "import yfinance as yf\n",
        "yf.pdr_override()"
      ],
      "outputs": [],
      "execution_count": 1,
      "metadata": {
        "collapsed": true,
        "jupyter": {
          "source_hidden": false,
          "outputs_hidden": false
        },
        "nteract": {
          "transient": {
            "deleting": false
          }
        },
        "execution": {
          "iopub.status.busy": "2021-07-29T02:21:44.864Z",
          "iopub.execute_input": "2021-07-29T02:21:44.869Z",
          "iopub.status.idle": "2021-07-29T02:21:45.790Z",
          "shell.execute_reply": "2021-07-29T02:21:45.781Z"
        }
      }
    },
    {
      "cell_type": "code",
      "source": [
        "# input\n",
        "symbol = 'AMD'\n",
        "start = '2017-01-01'\n",
        "end = '2019-01-01'\n",
        "\n",
        "# Read data \n",
        "dataset = yf.download(symbol,start,end)['Adj Close']\n",
        "\n",
        "# View Columns\n",
        "dataset.head()"
      ],
      "outputs": [
        {
          "output_type": "stream",
          "name": "stdout",
          "text": [
            "[*********************100%***********************]  1 of 1 completed\n"
          ]
        },
        {
          "output_type": "execute_result",
          "execution_count": 2,
          "data": {
            "text/plain": "Date\n2017-01-03    11.43\n2017-01-04    11.43\n2017-01-05    11.24\n2017-01-06    11.32\n2017-01-09    11.49\nName: Adj Close, dtype: float64"
          },
          "metadata": {}
        }
      ],
      "execution_count": 2,
      "metadata": {
        "collapsed": true,
        "jupyter": {
          "source_hidden": false,
          "outputs_hidden": false
        },
        "nteract": {
          "transient": {
            "deleting": false
          }
        },
        "execution": {
          "iopub.status.busy": "2021-07-29T02:21:45.799Z",
          "iopub.execute_input": "2021-07-29T02:21:45.804Z",
          "iopub.status.idle": "2021-07-29T02:21:46.727Z",
          "shell.execute_reply": "2021-07-29T02:21:47.073Z"
        }
      }
    },
    {
      "cell_type": "code",
      "source": [
        "df = dataset.reset_index()"
      ],
      "outputs": [],
      "execution_count": 3,
      "metadata": {
        "collapsed": true,
        "jupyter": {
          "source_hidden": false,
          "outputs_hidden": false
        },
        "nteract": {
          "transient": {
            "deleting": false
          }
        },
        "execution": {
          "iopub.status.busy": "2021-07-29T02:21:46.735Z",
          "iopub.execute_input": "2021-07-29T02:21:46.741Z",
          "iopub.status.idle": "2021-07-29T02:21:46.752Z",
          "shell.execute_reply": "2021-07-29T02:21:47.076Z"
        }
      }
    },
    {
      "cell_type": "code",
      "source": [
        "df.head()"
      ],
      "outputs": [
        {
          "output_type": "execute_result",
          "execution_count": 4,
          "data": {
            "text/plain": "        Date  Adj Close\n0 2017-01-03      11.43\n1 2017-01-04      11.43\n2 2017-01-05      11.24\n3 2017-01-06      11.32\n4 2017-01-09      11.49",
            "text/html": "<div>\n<style scoped>\n    .dataframe tbody tr th:only-of-type {\n        vertical-align: middle;\n    }\n\n    .dataframe tbody tr th {\n        vertical-align: top;\n    }\n\n    .dataframe thead th {\n        text-align: right;\n    }\n</style>\n<table border=\"1\" class=\"dataframe\">\n  <thead>\n    <tr style=\"text-align: right;\">\n      <th></th>\n      <th>Date</th>\n      <th>Adj Close</th>\n    </tr>\n  </thead>\n  <tbody>\n    <tr>\n      <th>0</th>\n      <td>2017-01-03</td>\n      <td>11.43</td>\n    </tr>\n    <tr>\n      <th>1</th>\n      <td>2017-01-04</td>\n      <td>11.43</td>\n    </tr>\n    <tr>\n      <th>2</th>\n      <td>2017-01-05</td>\n      <td>11.24</td>\n    </tr>\n    <tr>\n      <th>3</th>\n      <td>2017-01-06</td>\n      <td>11.32</td>\n    </tr>\n    <tr>\n      <th>4</th>\n      <td>2017-01-09</td>\n      <td>11.49</td>\n    </tr>\n  </tbody>\n</table>\n</div>"
          },
          "metadata": {}
        }
      ],
      "execution_count": 4,
      "metadata": {
        "collapsed": true,
        "jupyter": {
          "source_hidden": false,
          "outputs_hidden": false
        },
        "nteract": {
          "transient": {
            "deleting": false
          }
        },
        "execution": {
          "iopub.status.busy": "2021-07-29T02:21:46.766Z",
          "iopub.execute_input": "2021-07-29T02:21:46.774Z",
          "iopub.status.idle": "2021-07-29T02:21:46.788Z",
          "shell.execute_reply": "2021-07-29T02:21:47.079Z"
        }
      }
    },
    {
      "cell_type": "code",
      "source": [
        "df.tail()"
      ],
      "outputs": [
        {
          "output_type": "execute_result",
          "execution_count": 5,
          "data": {
            "text/plain": "          Date  Adj Close\n497 2018-12-24  16.650000\n498 2018-12-26  17.900000\n499 2018-12-27  17.490000\n500 2018-12-28  17.820000\n501 2018-12-31  18.459999",
            "text/html": "<div>\n<style scoped>\n    .dataframe tbody tr th:only-of-type {\n        vertical-align: middle;\n    }\n\n    .dataframe tbody tr th {\n        vertical-align: top;\n    }\n\n    .dataframe thead th {\n        text-align: right;\n    }\n</style>\n<table border=\"1\" class=\"dataframe\">\n  <thead>\n    <tr style=\"text-align: right;\">\n      <th></th>\n      <th>Date</th>\n      <th>Adj Close</th>\n    </tr>\n  </thead>\n  <tbody>\n    <tr>\n      <th>497</th>\n      <td>2018-12-24</td>\n      <td>16.650000</td>\n    </tr>\n    <tr>\n      <th>498</th>\n      <td>2018-12-26</td>\n      <td>17.900000</td>\n    </tr>\n    <tr>\n      <th>499</th>\n      <td>2018-12-27</td>\n      <td>17.490000</td>\n    </tr>\n    <tr>\n      <th>500</th>\n      <td>2018-12-28</td>\n      <td>17.820000</td>\n    </tr>\n    <tr>\n      <th>501</th>\n      <td>2018-12-31</td>\n      <td>18.459999</td>\n    </tr>\n  </tbody>\n</table>\n</div>"
          },
          "metadata": {}
        }
      ],
      "execution_count": 5,
      "metadata": {
        "collapsed": true,
        "jupyter": {
          "source_hidden": false,
          "outputs_hidden": false
        },
        "nteract": {
          "transient": {
            "deleting": false
          }
        },
        "execution": {
          "iopub.status.busy": "2021-07-29T02:21:46.795Z",
          "iopub.execute_input": "2021-07-29T02:21:46.801Z",
          "iopub.status.idle": "2021-07-29T02:21:46.813Z",
          "shell.execute_reply": "2021-07-29T02:21:47.081Z"
        }
      }
    },
    {
      "cell_type": "code",
      "source": [
        "max_p = df['Adj Close'].max()\n",
        "min_p = df['Adj Close'].min()\n",
        "avg_p = df['Adj Close'].mean()"
      ],
      "outputs": [],
      "execution_count": 6,
      "metadata": {
        "collapsed": true,
        "jupyter": {
          "source_hidden": false,
          "outputs_hidden": false
        },
        "nteract": {
          "transient": {
            "deleting": false
          }
        },
        "execution": {
          "iopub.status.busy": "2021-07-29T02:21:46.820Z",
          "iopub.execute_input": "2021-07-29T02:21:46.825Z",
          "iopub.status.idle": "2021-07-29T02:21:46.835Z",
          "shell.execute_reply": "2021-07-29T02:21:47.084Z"
        }
      }
    },
    {
      "cell_type": "code",
      "source": [
        "data = df.drop(['Date'], axis=1)\n",
        "data"
      ],
      "outputs": [
        {
          "output_type": "execute_result",
          "execution_count": 7,
          "data": {
            "text/plain": "     Adj Close\n0    11.430000\n1    11.430000\n2    11.240000\n3    11.320000\n4    11.490000\n..         ...\n497  16.650000\n498  17.900000\n499  17.490000\n500  17.820000\n501  18.459999\n\n[502 rows x 1 columns]",
            "text/html": "<div>\n<style scoped>\n    .dataframe tbody tr th:only-of-type {\n        vertical-align: middle;\n    }\n\n    .dataframe tbody tr th {\n        vertical-align: top;\n    }\n\n    .dataframe thead th {\n        text-align: right;\n    }\n</style>\n<table border=\"1\" class=\"dataframe\">\n  <thead>\n    <tr style=\"text-align: right;\">\n      <th></th>\n      <th>Adj Close</th>\n    </tr>\n  </thead>\n  <tbody>\n    <tr>\n      <th>0</th>\n      <td>11.430000</td>\n    </tr>\n    <tr>\n      <th>1</th>\n      <td>11.430000</td>\n    </tr>\n    <tr>\n      <th>2</th>\n      <td>11.240000</td>\n    </tr>\n    <tr>\n      <th>3</th>\n      <td>11.320000</td>\n    </tr>\n    <tr>\n      <th>4</th>\n      <td>11.490000</td>\n    </tr>\n    <tr>\n      <th>...</th>\n      <td>...</td>\n    </tr>\n    <tr>\n      <th>497</th>\n      <td>16.650000</td>\n    </tr>\n    <tr>\n      <th>498</th>\n      <td>17.900000</td>\n    </tr>\n    <tr>\n      <th>499</th>\n      <td>17.490000</td>\n    </tr>\n    <tr>\n      <th>500</th>\n      <td>17.820000</td>\n    </tr>\n    <tr>\n      <th>501</th>\n      <td>18.459999</td>\n    </tr>\n  </tbody>\n</table>\n<p>502 rows × 1 columns</p>\n</div>"
          },
          "metadata": {}
        }
      ],
      "execution_count": 7,
      "metadata": {
        "collapsed": true,
        "jupyter": {
          "source_hidden": false,
          "outputs_hidden": false
        },
        "nteract": {
          "transient": {
            "deleting": false
          }
        },
        "execution": {
          "iopub.status.busy": "2021-07-29T02:21:46.843Z",
          "iopub.execute_input": "2021-07-29T02:21:46.849Z",
          "iopub.status.idle": "2021-07-29T02:21:46.862Z",
          "shell.execute_reply": "2021-07-29T02:21:47.088Z"
        }
      }
    },
    {
      "cell_type": "code",
      "source": [
        "data = data.reset_index()"
      ],
      "outputs": [],
      "execution_count": 8,
      "metadata": {
        "collapsed": true,
        "jupyter": {
          "source_hidden": false,
          "outputs_hidden": false
        },
        "nteract": {
          "transient": {
            "deleting": false
          }
        },
        "execution": {
          "iopub.status.busy": "2021-07-29T02:21:46.870Z",
          "iopub.execute_input": "2021-07-29T02:21:46.874Z",
          "iopub.status.idle": "2021-07-29T02:21:46.882Z",
          "shell.execute_reply": "2021-07-29T02:21:47.091Z"
        }
      }
    },
    {
      "cell_type": "code",
      "source": [
        "data.values"
      ],
      "outputs": [
        {
          "output_type": "execute_result",
          "execution_count": 9,
          "data": {
            "text/plain": "array([[  0.        ,  11.43000031],\n       [  1.        ,  11.43000031],\n       [  2.        ,  11.23999977],\n       ...,\n       [499.        ,  17.48999977],\n       [500.        ,  17.81999969],\n       [501.        ,  18.45999908]])"
          },
          "metadata": {}
        }
      ],
      "execution_count": 9,
      "metadata": {
        "collapsed": true,
        "jupyter": {
          "source_hidden": false,
          "outputs_hidden": false
        },
        "nteract": {
          "transient": {
            "deleting": false
          }
        },
        "execution": {
          "iopub.status.busy": "2021-07-29T02:21:46.889Z",
          "iopub.execute_input": "2021-07-29T02:21:46.895Z",
          "iopub.status.idle": "2021-07-29T02:21:46.905Z",
          "shell.execute_reply": "2021-07-29T02:21:47.094Z"
        }
      }
    },
    {
      "cell_type": "code",
      "source": [
        "from numpy import ones,vstack\n",
        "from numpy.linalg import lstsq"
      ],
      "outputs": [],
      "execution_count": 10,
      "metadata": {
        "collapsed": true,
        "jupyter": {
          "source_hidden": false,
          "outputs_hidden": false
        },
        "nteract": {
          "transient": {
            "deleting": false
          }
        },
        "execution": {
          "iopub.status.busy": "2021-07-29T02:21:46.913Z",
          "iopub.execute_input": "2021-07-29T02:21:46.919Z",
          "iopub.status.idle": "2021-07-29T02:21:46.927Z",
          "shell.execute_reply": "2021-07-29T02:21:47.096Z"
        }
      }
    },
    {
      "cell_type": "code",
      "source": [
        "points = data.values"
      ],
      "outputs": [],
      "execution_count": 11,
      "metadata": {
        "collapsed": true,
        "jupyter": {
          "source_hidden": false,
          "outputs_hidden": false
        },
        "nteract": {
          "transient": {
            "deleting": false
          }
        },
        "execution": {
          "iopub.status.busy": "2021-07-29T02:21:46.936Z",
          "iopub.execute_input": "2021-07-29T02:21:46.942Z",
          "iopub.status.idle": "2021-07-29T02:21:46.950Z",
          "shell.execute_reply": "2021-07-29T02:21:47.099Z"
        }
      }
    },
    {
      "cell_type": "code",
      "source": [
        "x_coords, y_coords = zip(*points)\n",
        "A = vstack([x_coords,ones(len(x_coords))]).T\n",
        "m, c = lstsq(A, y_coords)[0]\n"
      ],
      "outputs": [],
      "execution_count": 12,
      "metadata": {
        "collapsed": true,
        "jupyter": {
          "source_hidden": false,
          "outputs_hidden": false
        },
        "nteract": {
          "transient": {
            "deleting": false
          }
        },
        "execution": {
          "iopub.status.busy": "2021-07-29T02:21:46.958Z",
          "iopub.execute_input": "2021-07-29T02:21:46.963Z",
          "iopub.status.idle": "2021-07-29T02:21:46.972Z",
          "shell.execute_reply": "2021-07-29T02:21:47.102Z"
        }
      }
    },
    {
      "cell_type": "code",
      "source": [
        "print(\"Line Equation is y = {m}x + {c}\".format(m=m,c=c))\n"
      ],
      "outputs": [
        {
          "output_type": "stream",
          "name": "stdout",
          "text": [
            "Line Equation is y = 0.021718614923358828x + 9.372574584656501\n"
          ]
        }
      ],
      "execution_count": 13,
      "metadata": {
        "collapsed": true,
        "jupyter": {
          "source_hidden": false,
          "outputs_hidden": false
        },
        "nteract": {
          "transient": {
            "deleting": false
          }
        },
        "execution": {
          "iopub.status.busy": "2021-07-29T02:21:46.980Z",
          "iopub.execute_input": "2021-07-29T02:21:46.985Z",
          "iopub.status.idle": "2021-07-29T02:21:46.995Z",
          "shell.execute_reply": "2021-07-29T02:21:47.104Z"
        }
      }
    },
    {
      "cell_type": "code",
      "source": [
        "equation_of_line = print(\"y = {m}x + {c}\".format(m=m,c=c))\n"
      ],
      "outputs": [
        {
          "output_type": "stream",
          "name": "stdout",
          "text": [
            "y = 0.021718614923358828x + 9.372574584656501\n"
          ]
        }
      ],
      "execution_count": 14,
      "metadata": {
        "collapsed": true,
        "jupyter": {
          "source_hidden": false,
          "outputs_hidden": false
        },
        "nteract": {
          "transient": {
            "deleting": false
          }
        },
        "execution": {
          "iopub.status.busy": "2021-07-29T02:21:47.002Z",
          "iopub.execute_input": "2021-07-29T02:21:47.006Z",
          "iopub.status.idle": "2021-07-29T02:21:47.016Z",
          "shell.execute_reply": "2021-07-29T02:21:47.108Z"
        }
      }
    },
    {
      "cell_type": "code",
      "source": [
        "equation = print(\"{m}*x + {c}\".format(m=m,c=c))"
      ],
      "outputs": [
        {
          "output_type": "stream",
          "name": "stdout",
          "text": [
            "0.021718614923358828*x + 9.372574584656501\n"
          ]
        }
      ],
      "execution_count": 15,
      "metadata": {
        "collapsed": true,
        "jupyter": {
          "source_hidden": false,
          "outputs_hidden": false
        },
        "nteract": {
          "transient": {
            "deleting": false
          }
        },
        "execution": {
          "iopub.status.busy": "2021-07-29T02:21:47.023Z",
          "iopub.execute_input": "2021-07-29T02:21:47.027Z",
          "iopub.status.idle": "2021-07-29T02:21:47.038Z",
          "shell.execute_reply": "2021-07-29T02:21:47.110Z"
        }
      }
    },
    {
      "cell_type": "code",
      "source": [
        "x = Symbol('x')"
      ],
      "outputs": [],
      "execution_count": 16,
      "metadata": {
        "collapsed": true,
        "jupyter": {
          "source_hidden": false,
          "outputs_hidden": false
        },
        "nteract": {
          "transient": {
            "deleting": false
          }
        },
        "execution": {
          "iopub.status.busy": "2021-07-29T02:21:47.045Z",
          "iopub.execute_input": "2021-07-29T02:21:47.049Z",
          "iopub.status.idle": "2021-07-29T02:21:47.057Z",
          "shell.execute_reply": "2021-07-29T02:21:47.113Z"
        }
      }
    },
    {
      "cell_type": "code",
      "source": [
        "integrate(0.021718614923358828*x+9.372574584656501, x)"
      ],
      "outputs": [
        {
          "output_type": "execute_result",
          "execution_count": 17,
          "data": {
            "text/plain": "0.0108593074616794*x**2 + 9.3725745846565*x",
            "text/latex": "$\\displaystyle 0.0108593074616794 x^{2} + 9.3725745846565 x$"
          },
          "metadata": {}
        }
      ],
      "execution_count": 17,
      "metadata": {
        "collapsed": true,
        "jupyter": {
          "source_hidden": false,
          "outputs_hidden": false
        },
        "nteract": {
          "transient": {
            "deleting": false
          }
        },
        "execution": {
          "iopub.status.busy": "2021-07-29T02:21:47.064Z",
          "iopub.execute_input": "2021-07-29T02:21:47.068Z",
          "shell.execute_reply": "2021-07-29T02:21:47.245Z",
          "iopub.status.idle": "2021-07-29T02:21:47.153Z"
        }
      }
    },
    {
      "cell_type": "code",
      "source": [
        "integrate(0.0108593074616794*x**2 + 9.3725745846565 * x, x)"
      ],
      "outputs": [
        {
          "output_type": "execute_result",
          "execution_count": 18,
          "data": {
            "text/plain": "0.00361976915389313*x**3 + 4.68628729232825*x**2",
            "text/latex": "$\\displaystyle 0.00361976915389313 x^{3} + 4.68628729232825 x^{2}$"
          },
          "metadata": {}
        }
      ],
      "execution_count": 18,
      "metadata": {
        "collapsed": true,
        "jupyter": {
          "source_hidden": false,
          "outputs_hidden": false
        },
        "nteract": {
          "transient": {
            "deleting": false
          }
        },
        "execution": {
          "iopub.status.busy": "2021-07-29T02:21:47.162Z",
          "iopub.execute_input": "2021-07-29T02:21:47.168Z",
          "iopub.status.idle": "2021-07-29T02:21:47.184Z",
          "shell.execute_reply": "2021-07-29T02:21:47.248Z"
        }
      }
    },
    {
      "cell_type": "markdown",
      "source": [
        "# Univariate roots and fixed points"
      ],
      "metadata": {
        "nteract": {
          "transient": {
            "deleting": false
          }
        }
      }
    },
    {
      "cell_type": "code",
      "source": [
        "def f(x):\n",
        "    return 0.00361976915389313*x**3 + 4.68628729232825 * x**2"
      ],
      "outputs": [],
      "execution_count": 19,
      "metadata": {
        "collapsed": true,
        "jupyter": {
          "source_hidden": false,
          "outputs_hidden": false
        },
        "nteract": {
          "transient": {
            "deleting": false
          }
        },
        "execution": {
          "iopub.status.busy": "2021-07-29T02:21:47.193Z",
          "iopub.execute_input": "2021-07-29T02:21:47.198Z",
          "iopub.status.idle": "2021-07-29T02:21:47.207Z",
          "shell.execute_reply": "2021-07-29T02:21:47.250Z"
        }
      }
    },
    {
      "cell_type": "code",
      "source": [
        "x = df['Adj Close']"
      ],
      "outputs": [],
      "execution_count": 20,
      "metadata": {
        "collapsed": true,
        "jupyter": {
          "source_hidden": false,
          "outputs_hidden": false
        },
        "nteract": {
          "transient": {
            "deleting": false
          }
        },
        "execution": {
          "iopub.status.busy": "2021-07-29T02:21:47.214Z",
          "iopub.execute_input": "2021-07-29T02:21:47.218Z",
          "iopub.status.idle": "2021-07-29T02:21:47.225Z",
          "shell.execute_reply": "2021-07-29T02:21:47.253Z"
        }
      }
    },
    {
      "cell_type": "code",
      "source": [
        "plt.axhline((f(x)).mean(), c='red')\n",
        "plt.plot(x, f(x))"
      ],
      "outputs": [
        {
          "output_type": "execute_result",
          "execution_count": 21,
          "data": {
            "text/plain": "[<matplotlib.lines.Line2D at 0x19d34798320>]"
          },
          "metadata": {}
        },
        {
          "output_type": "display_data",
          "data": {
            "text/plain": "<Figure size 432x288 with 1 Axes>",
            "image/png": "[encoded data removed]"
          },
          "metadata": {
            "needs_background": "light"
          }
        }
      ],
      "execution_count": 21,
      "metadata": {
        "collapsed": true,
        "jupyter": {
          "source_hidden": false,
          "outputs_hidden": false
        },
        "nteract": {
          "transient": {
            "deleting": false
          }
        },
        "execution": {
          "iopub.status.busy": "2021-07-29T02:21:47.232Z",
          "iopub.execute_input": "2021-07-29T02:21:47.237Z",
          "iopub.status.idle": "2021-07-29T02:21:47.289Z",
          "shell.execute_reply": "2021-07-29T02:21:47.300Z"
        }
      }
    }
  ],
  "metadata": {
    "kernel_info": {
      "name": "python3"
    },
    "language_info": {
      "name": "python",
      "version": "3.6.12",
      "mimetype": "text/x-python",
      "codemirror_mode": {
        "name": "ipython",
        "version": 3
      },
      "pygments_lexer": "ipython3",
      "nbconvert_exporter": "python",
      "file_extension": ".py"
    },
    "kernelspec": {
      "argv": [
        "C:\\Users\\Tin Hang\\Anaconda3\\envs\\py35\\python.exe",
        "-m",
        "ipykernel_launcher",
        "-f",
        "{connection_file}"
      ],
      "display_name": "Python 3",
      "language": "python",
      "name": "python3"
    },
    "nteract": {
      "version": "0.28.0"
    }
  },
  "nbformat": 4,
  "nbformat_minor": 0
}