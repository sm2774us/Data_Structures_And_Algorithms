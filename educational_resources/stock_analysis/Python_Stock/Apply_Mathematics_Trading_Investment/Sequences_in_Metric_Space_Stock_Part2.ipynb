{
  "cells": [
    {
      "cell_type": "markdown",
      "source": [
        "# Sequences in Sequences in Metric Spaces"
      ],
      "metadata": {
        "nteract": {
          "transient": {
            "deleting": false
          }
        }
      }
    },
    {
      "cell_type": "markdown",
      "source": [
        "https://en.wikipedia.org/wiki/Complete_metric_space"
      ],
      "metadata": {
        "nteract": {
          "transient": {
            "deleting": false
          }
        }
      }
    },
    {
      "cell_type": "code",
      "source": [
        "import warnings\n",
        "warnings.filterwarnings(\"ignore\")\n",
        "\n",
        "import numpy as np\n",
        "import matplotlib.pyplot as plt\n",
        "\n",
        "# yahoo finance is used to fetch data \n",
        "import yfinance as yf\n",
        "yf.pdr_override()"
      ],
      "outputs": [],
      "execution_count": 1,
      "metadata": {
        "collapsed": true,
        "jupyter": {
          "source_hidden": false,
          "outputs_hidden": false
        },
        "nteract": {
          "transient": {
            "deleting": false
          }
        },
        "execution": {
          "iopub.status.busy": "2023-07-05T06:12:41.002Z",
          "iopub.execute_input": "2023-07-05T06:12:41.006Z",
          "iopub.status.idle": "2023-07-05T06:12:41.589Z",
          "shell.execute_reply": "2023-07-05T06:12:41.622Z"
        }
      }
    },
    {
      "cell_type": "markdown",
      "source": [
        "#### Create Sequences in Sequences in Metric Spaces"
      ],
      "metadata": {
        "nteract": {
          "transient": {
            "deleting": false
          }
        }
      }
    },
    {
      "cell_type": "code",
      "source": [
        "def is_convergent(sequence, epsilon):\n",
        "    \"\"\"\n",
        "    Check if a sequence is convergent in a metric space.\n",
        "    \n",
        "    Arguments:\n",
        "    sequence -- a list or tuple representing the sequence\n",
        "    epsilon -- a small positive number representing the convergence threshold\n",
        "    \n",
        "    Returns:\n",
        "    True if the sequence is convergent within the given epsilon, False otherwise\n",
        "    \"\"\"\n",
        "    n = len(sequence)\n",
        "    \n",
        "    # Check if the sequence is empty\n",
        "    if n == 0:\n",
        "        return False\n",
        "    \n",
        "    # Check if the sequence is a constant sequence\n",
        "    if all(x == sequence[0] for x in sequence):\n",
        "        return True\n",
        "    \n",
        "    # Check if the sequence is convergent\n",
        "    for i in range(n - 1):\n",
        "        if abs(sequence[i] - sequence[i+1]) > epsilon:\n",
        "            return False\n",
        "    \n",
        "    return True"
      ],
      "outputs": [],
      "execution_count": 2,
      "metadata": {
        "collapsed": true,
        "jupyter": {
          "source_hidden": false,
          "outputs_hidden": false
        },
        "nteract": {
          "transient": {
            "deleting": false
          }
        },
        "execution": {
          "iopub.status.busy": "2023-07-05T06:12:41.595Z",
          "iopub.execute_input": "2023-07-05T06:12:41.598Z",
          "iopub.status.idle": "2023-07-05T06:12:41.605Z",
          "shell.execute_reply": "2023-07-05T06:12:41.625Z"
        }
      }
    },
    {
      "cell_type": "markdown",
      "source": [
        "#### Apply Finance Data to Sequences in Metric Spaces"
      ],
      "metadata": {
        "nteract": {
          "transient": {
            "deleting": false
          }
        }
      }
    },
    {
      "cell_type": "code",
      "source": [
        "# input\n",
        "symbol = 'AAPL'\n",
        "start = '2018-01-01'\n",
        "end = '2019-01-01'\n",
        "\n",
        "# Read data \n",
        "df = yf.download(symbol,start,end)\n",
        "\n",
        "# View Columns\n",
        "df.head()"
      ],
      "outputs": [
        {
          "output_type": "stream",
          "name": "stdout",
          "text": [
            "[*********************100%***********************]  1 of 1 completed\n"
          ]
        },
        {
          "output_type": "execute_result",
          "execution_count": 3,
          "data": {
            "text/plain": "                 Open       High        Low      Close  Adj Close     Volume\nDate                                                                        \n2018-01-02  42.540001  43.075001  42.314999  43.064999  40.831589  102223600\n2018-01-03  43.132500  43.637501  42.990002  43.057499  40.824474  118071600\n2018-01-04  43.134998  43.367500  43.020000  43.257500  41.014103   89738400\n2018-01-05  43.360001  43.842499  43.262501  43.750000  41.481064   94640000\n2018-01-08  43.587502  43.902500  43.482498  43.587502  41.326996   82271200",
            "text/html": "<div>\n<style scoped>\n    .dataframe tbody tr th:only-of-type {\n        vertical-align: middle;\n    }\n\n    .dataframe tbody tr th {\n        vertical-align: top;\n    }\n\n    .dataframe thead th {\n        text-align: right;\n    }\n</style>\n<table border=\"1\" class=\"dataframe\">\n  <thead>\n    <tr style=\"text-align: right;\">\n      <th></th>\n      <th>Open</th>\n      <th>High</th>\n      <th>Low</th>\n      <th>Close</th>\n      <th>Adj Close</th>\n      <th>Volume</th>\n    </tr>\n    <tr>\n      <th>Date</th>\n      <th></th>\n      <th></th>\n      <th></th>\n      <th></th>\n      <th></th>\n      <th></th>\n    </tr>\n  </thead>\n  <tbody>\n    <tr>\n      <th>2018-01-02</th>\n      <td>42.540001</td>\n      <td>43.075001</td>\n      <td>42.314999</td>\n      <td>43.064999</td>\n      <td>40.831589</td>\n      <td>102223600</td>\n    </tr>\n    <tr>\n      <th>2018-01-03</th>\n      <td>43.132500</td>\n      <td>43.637501</td>\n      <td>42.990002</td>\n      <td>43.057499</td>\n      <td>40.824474</td>\n      <td>118071600</td>\n    </tr>\n    <tr>\n      <th>2018-01-04</th>\n      <td>43.134998</td>\n      <td>43.367500</td>\n      <td>43.020000</td>\n      <td>43.257500</td>\n      <td>41.014103</td>\n      <td>89738400</td>\n    </tr>\n    <tr>\n      <th>2018-01-05</th>\n      <td>43.360001</td>\n      <td>43.842499</td>\n      <td>43.262501</td>\n      <td>43.750000</td>\n      <td>41.481064</td>\n      <td>94640000</td>\n    </tr>\n    <tr>\n      <th>2018-01-08</th>\n      <td>43.587502</td>\n      <td>43.902500</td>\n      <td>43.482498</td>\n      <td>43.587502</td>\n      <td>41.326996</td>\n      <td>82271200</td>\n    </tr>\n  </tbody>\n</table>\n</div>"
          },
          "metadata": {}
        }
      ],
      "execution_count": 3,
      "metadata": {
        "collapsed": true,
        "jupyter": {
          "source_hidden": false,
          "outputs_hidden": false
        },
        "nteract": {
          "transient": {
            "deleting": false
          }
        },
        "execution": {
          "iopub.status.busy": "2023-07-05T06:12:41.610Z",
          "iopub.execute_input": "2023-07-05T06:12:41.615Z",
          "iopub.status.idle": "2023-07-05T06:12:42.005Z",
          "shell.execute_reply": "2023-07-05T06:12:42.070Z"
        }
      }
    },
    {
      "cell_type": "code",
      "source": [
        "df.tail()"
      ],
      "outputs": [
        {
          "output_type": "execute_result",
          "execution_count": 4,
          "data": {
            "text/plain": "                 Open       High        Low      Close  Adj Close     Volume\nDate                                                                        \n2018-12-24  37.037498  37.887501  36.647499  36.707500  35.326313  148676800\n2018-12-26  37.075001  39.307499  36.680000  39.292500  37.814053  234330000\n2018-12-27  38.959999  39.192501  37.517502  39.037498  37.568638  212468400\n2018-12-28  39.375000  39.630001  38.637501  39.057499  37.587898  169165600\n2018-12-31  39.632500  39.840000  39.119999  39.435001  37.951187  140014000",
            "text/html": "<div>\n<style scoped>\n    .dataframe tbody tr th:only-of-type {\n        vertical-align: middle;\n    }\n\n    .dataframe tbody tr th {\n        vertical-align: top;\n    }\n\n    .dataframe thead th {\n        text-align: right;\n    }\n</style>\n<table border=\"1\" class=\"dataframe\">\n  <thead>\n    <tr style=\"text-align: right;\">\n      <th></th>\n      <th>Open</th>\n      <th>High</th>\n      <th>Low</th>\n      <th>Close</th>\n      <th>Adj Close</th>\n      <th>Volume</th>\n    </tr>\n    <tr>\n      <th>Date</th>\n      <th></th>\n      <th></th>\n      <th></th>\n      <th></th>\n      <th></th>\n      <th></th>\n    </tr>\n  </thead>\n  <tbody>\n    <tr>\n      <th>2018-12-24</th>\n      <td>37.037498</td>\n      <td>37.887501</td>\n      <td>36.647499</td>\n      <td>36.707500</td>\n      <td>35.326313</td>\n      <td>148676800</td>\n    </tr>\n    <tr>\n      <th>2018-12-26</th>\n      <td>37.075001</td>\n      <td>39.307499</td>\n      <td>36.680000</td>\n      <td>39.292500</td>\n      <td>37.814053</td>\n      <td>234330000</td>\n    </tr>\n    <tr>\n      <th>2018-12-27</th>\n      <td>38.959999</td>\n      <td>39.192501</td>\n      <td>37.517502</td>\n      <td>39.037498</td>\n      <td>37.568638</td>\n      <td>212468400</td>\n    </tr>\n    <tr>\n      <th>2018-12-28</th>\n      <td>39.375000</td>\n      <td>39.630001</td>\n      <td>38.637501</td>\n      <td>39.057499</td>\n      <td>37.587898</td>\n      <td>169165600</td>\n    </tr>\n    <tr>\n      <th>2018-12-31</th>\n      <td>39.632500</td>\n      <td>39.840000</td>\n      <td>39.119999</td>\n      <td>39.435001</td>\n      <td>37.951187</td>\n      <td>140014000</td>\n    </tr>\n  </tbody>\n</table>\n</div>"
          },
          "metadata": {}
        }
      ],
      "execution_count": 4,
      "metadata": {
        "collapsed": true,
        "jupyter": {
          "source_hidden": false,
          "outputs_hidden": false
        },
        "nteract": {
          "transient": {
            "deleting": false
          }
        },
        "execution": {
          "iopub.status.busy": "2023-07-05T06:12:42.009Z",
          "iopub.execute_input": "2023-07-05T06:12:42.013Z",
          "iopub.status.idle": "2023-07-05T06:12:42.021Z",
          "shell.execute_reply": "2023-07-05T06:12:42.073Z"
        }
      }
    },
    {
      "cell_type": "code",
      "source": [
        "sequence = df['Close']  # Assuming 'Close' column represents the sequence\n",
        "epsilon = 0.001  # Example convergence threshold"
      ],
      "outputs": [],
      "execution_count": 5,
      "metadata": {
        "collapsed": true,
        "jupyter": {
          "source_hidden": false,
          "outputs_hidden": false
        },
        "nteract": {
          "transient": {
            "deleting": false
          }
        },
        "execution": {
          "iopub.status.busy": "2023-07-05T06:12:42.026Z",
          "iopub.execute_input": "2023-07-05T06:12:42.031Z",
          "iopub.status.idle": "2023-07-05T06:12:42.038Z",
          "shell.execute_reply": "2023-07-05T06:12:42.075Z"
        }
      }
    },
    {
      "cell_type": "code",
      "source": [
        "convergent = is_convergent(sequence, epsilon)\n",
        "print(convergent)"
      ],
      "outputs": [
        {
          "output_type": "stream",
          "name": "stdout",
          "text": [
            "False\n"
          ]
        }
      ],
      "execution_count": 6,
      "metadata": {
        "collapsed": true,
        "jupyter": {
          "source_hidden": false,
          "outputs_hidden": false
        },
        "nteract": {
          "transient": {
            "deleting": false
          }
        },
        "execution": {
          "iopub.status.busy": "2023-07-05T06:12:42.045Z",
          "iopub.execute_input": "2023-07-05T06:12:42.050Z",
          "iopub.status.idle": "2023-07-05T06:12:42.057Z",
          "shell.execute_reply": "2023-07-05T06:12:42.077Z"
        }
      }
    }
  ],
  "metadata": {
    "kernel_info": {
      "name": "python3"
    },
    "language_info": {
      "name": "python",
      "version": "3.7.6",
      "mimetype": "text/x-python",
      "codemirror_mode": {
        "name": "ipython",
        "version": 3
      },
      "pygments_lexer": "ipython3",
      "nbconvert_exporter": "python",
      "file_extension": ".py"
    },
    "kernelspec": {
      "argv": [
        "C:/Users/Tin Hang/Anaconda3\\python.exe",
        "-m",
        "ipykernel_launcher",
        "-f",
        "{connection_file}"
      ],
      "display_name": "Python 3",
      "language": "python",
      "name": "python3"
    },
    "nteract": {
      "version": "0.28.0"
    }
  },
  "nbformat": 4,
  "nbformat_minor": 0
}