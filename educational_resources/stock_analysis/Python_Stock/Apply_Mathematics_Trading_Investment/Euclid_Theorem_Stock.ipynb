{
  "cells": [
    {
      "cell_type": "markdown",
      "source": [
        "# Euclid’s theorem"
      ],
      "metadata": {
        "nteract": {
          "transient": {
            "deleting": false
          }
        }
      }
    },
    {
      "cell_type": "markdown",
      "source": [
        "https://en.wikipedia.org/wiki/Euclid%27s_theorem"
      ],
      "metadata": {
        "nteract": {
          "transient": {
            "deleting": false
          }
        }
      }
    },
    {
      "cell_type": "code",
      "source": [
        "import warnings\n",
        "warnings.filterwarnings(\"ignore\")\n",
        "\n",
        "import sympy\n",
        "import matplotlib.pyplot as plt\n",
        "\n",
        "# yahoo finance is used to fetch data \n",
        "import yfinance as yf\n",
        "yf.pdr_override()\n"
      ],
      "outputs": [],
      "execution_count": 1,
      "metadata": {
        "collapsed": true,
        "jupyter": {
          "source_hidden": false,
          "outputs_hidden": false
        },
        "nteract": {
          "transient": {
            "deleting": false
          }
        },
        "execution": {
          "iopub.status.busy": "2023-05-09T02:30:59.794Z",
          "iopub.execute_input": "2023-05-09T02:30:59.799Z",
          "iopub.status.idle": "2023-05-09T02:31:00.625Z",
          "shell.execute_reply": "2023-05-09T02:31:00.618Z"
        }
      }
    },
    {
      "cell_type": "code",
      "source": [
        "# Define the stock symbol and time period\n",
        "symbol = \"AAPL\"\n",
        "start_date = \"2023-01-01\"\n",
        "end_date = \"2023-02-01\"\n"
      ],
      "outputs": [],
      "execution_count": 2,
      "metadata": {
        "collapsed": true,
        "jupyter": {
          "source_hidden": false,
          "outputs_hidden": false
        },
        "nteract": {
          "transient": {
            "deleting": false
          }
        },
        "execution": {
          "iopub.status.busy": "2023-05-09T02:31:00.630Z",
          "iopub.execute_input": "2023-05-09T02:31:00.637Z",
          "iopub.status.idle": "2023-05-09T02:31:00.646Z",
          "shell.execute_reply": "2023-05-09T02:31:00.666Z"
        }
      }
    },
    {
      "cell_type": "code",
      "source": [
        "# Retrieve the historical data for the stock\n",
        "df = yf.download(symbol, start=start_date, end=end_date)"
      ],
      "outputs": [
        {
          "output_type": "stream",
          "name": "stdout",
          "text": [
            "[*********************100%***********************]  1 of 1 completed\n"
          ]
        }
      ],
      "execution_count": 3,
      "metadata": {
        "collapsed": true,
        "jupyter": {
          "source_hidden": false,
          "outputs_hidden": false
        },
        "nteract": {
          "transient": {
            "deleting": false
          }
        },
        "execution": {
          "iopub.status.busy": "2023-05-09T02:31:00.653Z",
          "iopub.execute_input": "2023-05-09T02:31:00.658Z",
          "iopub.status.idle": "2023-05-09T02:31:00.975Z",
          "shell.execute_reply": "2023-05-09T02:31:01.034Z"
        }
      }
    },
    {
      "cell_type": "code",
      "source": [
        "# Extract the closing prices from the data\n",
        "closing_prices = df[\"Adj Close\"]\n"
      ],
      "outputs": [],
      "execution_count": 4,
      "metadata": {
        "collapsed": true,
        "jupyter": {
          "source_hidden": false,
          "outputs_hidden": false
        },
        "nteract": {
          "transient": {
            "deleting": false
          }
        },
        "execution": {
          "iopub.status.busy": "2023-05-09T02:31:00.980Z",
          "iopub.execute_input": "2023-05-09T02:31:00.985Z",
          "iopub.status.idle": "2023-05-09T02:31:00.992Z",
          "shell.execute_reply": "2023-05-09T02:31:01.038Z"
        }
      }
    },
    {
      "cell_type": "code",
      "source": [
        "# Find the prime factorization of each closing price\n",
        "for price in closing_prices:\n",
        "    factors = []\n",
        "    divisor = 2\n",
        "    while divisor <= price:\n",
        "        if price % divisor == 0:\n",
        "            factors.append(divisor)\n",
        "            price //= divisor\n",
        "        else:\n",
        "            divisor += 1\n",
        "    print(f\"Prime factors of {price}: {factors}\")"
      ],
      "outputs": [
        {
          "output_type": "stream",
          "name": "stdout",
          "text": [
            "Prime factors of 124.87932586669922: []\n",
            "Prime factors of 126.16736602783203: []\n",
            "Prime factors of 124.82939910888672: []\n",
            "Prime factors of 129.42239379882812: []\n",
            "Prime factors of 129.9515838623047: []\n",
            "Prime factors of 130.53070068359375: []\n",
            "Prime factors of 133.2864990234375: []\n",
            "Prime factors of 133.2066192626953: []\n",
            "Prime factors of 134.55455017089844: []\n",
            "Prime factors of 135.73275756835938: []\n",
            "Prime factors of 135.00387573242188: []\n",
            "Prime factors of 135.06378173828125: []\n",
            "Prime factors of 137.65980529785156: []\n",
            "Prime factors of 140.89488220214844: []\n",
            "Prime factors of 142.31271362304688: []\n",
            "Prime factors of 141.64373779296875: []\n",
            "Prime factors of 143.74053955078125: []\n",
            "Prime factors of 145.70751953125: []\n",
            "Prime factors of 142.78199768066406: []\n",
            "Prime factors of 144.0700225830078: []\n"
          ]
        }
      ],
      "execution_count": 5,
      "metadata": {
        "collapsed": true,
        "jupyter": {
          "source_hidden": false,
          "outputs_hidden": false
        },
        "nteract": {
          "transient": {
            "deleting": false
          }
        },
        "execution": {
          "iopub.status.busy": "2023-05-09T02:31:00.997Z",
          "iopub.execute_input": "2023-05-09T02:31:01.000Z",
          "iopub.status.idle": "2023-05-09T02:31:01.010Z",
          "shell.execute_reply": "2023-05-09T02:31:01.041Z"
        }
      }
    },
    {
      "cell_type": "code",
      "source": [
        "# Determine if each closing price is prime\n",
        "is_prime = []\n",
        "for price in closing_prices:\n",
        "    is_prime.append(sympy.isprime(int(price)))\n",
        "\n",
        "# Plot the distribution of prime numbers over time\n",
        "plt.figure(figsize=(16,8))\n",
        "plt.plot(closing_prices.index, is_prime)\n",
        "plt.title(\"Prime Numbers in Apple Stock Prices\")\n",
        "plt.xlabel(\"Date\")\n",
        "plt.ylabel(\"Prime Number (1 = Prime, 0 = Not Prime)\")\n",
        "plt.show()"
      ],
      "outputs": [
        {
          "output_type": "display_data",
          "data": {
            "text/plain": "<Figure size 1152x576 with 1 Axes>",
            "image/png": "[encoded data removed]"
          },
          "metadata": {
            "needs_background": "light"
          }
        }
      ],
      "execution_count": 6,
      "metadata": {
        "collapsed": true,
        "jupyter": {
          "source_hidden": false,
          "outputs_hidden": false
        },
        "nteract": {
          "transient": {
            "deleting": false
          }
        },
        "execution": {
          "iopub.status.busy": "2023-05-09T02:31:01.016Z",
          "iopub.execute_input": "2023-05-09T02:31:01.022Z",
          "iopub.status.idle": "2023-05-09T02:31:01.147Z",
          "shell.execute_reply": "2023-05-09T02:31:01.180Z"
        }
      }
    },
    {
      "cell_type": "code",
      "source": [
        "# Define a and b as the closing prices of AAPL on the current and previous days, respectively\n",
        "a = df[\"Close\"][-1]\n",
        "b = df[\"Close\"][-2]\n",
        "\n",
        "# Apply Euclid's theorem to calculate q and r\n",
        "q = a // b\n",
        "r = a % b\n",
        "\n",
        "# Interpret the result\n",
        "print(f\"The closing price of {symbol} today ({a}) can be expressed as {q} times the closing price of AAPL yesterday ({b}) plus a remainder of {r}.\")"
      ],
      "outputs": [
        {
          "output_type": "stream",
          "name": "stdout",
          "text": [
            "The closing price of AAPL today (144.2899932861328) can be expressed as 1.0 times the closing price of AAPL yesterday (143.0) plus a remainder of 1.2899932861328125.\n"
          ]
        }
      ],
      "execution_count": 7,
      "metadata": {
        "collapsed": true,
        "jupyter": {
          "source_hidden": false,
          "outputs_hidden": false
        },
        "nteract": {
          "transient": {
            "deleting": false
          }
        },
        "execution": {
          "iopub.status.busy": "2023-05-09T02:31:01.153Z",
          "iopub.execute_input": "2023-05-09T02:31:01.158Z",
          "iopub.status.idle": "2023-05-09T02:31:01.167Z",
          "shell.execute_reply": "2023-05-09T02:31:01.183Z"
        }
      }
    },
    {
      "cell_type": "markdown",
      "source": [
        "### Find the Greatest Common Divisor"
      ],
      "metadata": {
        "nteract": {
          "transient": {
            "deleting": false
          }
        }
      }
    },
    {
      "cell_type": "code",
      "source": [
        "# Retrieve historical data for two stocks\n",
        "start = \"2020-01-01\"\n",
        "end = \"2023-05-01\"\n",
        "stock1 = yf.download(\"AMD\", start, end)\n",
        "stock2 = yf.download(\"INTC\", start, end)"
      ],
      "outputs": [
        {
          "output_type": "stream",
          "name": "stdout",
          "text": [
            "[*********************100%***********************]  1 of 1 completed\n",
            "[*********************100%***********************]  1 of 1 completed\n"
          ]
        }
      ],
      "execution_count": 8,
      "metadata": {
        "collapsed": true,
        "jupyter": {
          "source_hidden": false,
          "outputs_hidden": false
        },
        "nteract": {
          "transient": {
            "deleting": false
          }
        },
        "execution": {
          "iopub.status.busy": "2023-05-09T02:31:01.173Z",
          "iopub.execute_input": "2023-05-09T02:31:01.177Z",
          "iopub.status.idle": "2023-05-09T02:31:01.531Z",
          "shell.execute_reply": "2023-05-09T02:31:01.556Z"
        }
      }
    },
    {
      "cell_type": "code",
      "source": [
        "# Extract closing prices for each stock\n",
        "prices1 = stock1[\"Adj Close\"].values\n",
        "prices2 = stock2[\"Adj Close\"].values\n",
        "\n",
        "# Define a function to calculate the GCD using Euclid's algorithm\n",
        "def gcd(a, b):\n",
        "    while b:\n",
        "        a, b = b, a % b\n",
        "    return a\n",
        "\n",
        "# Find the GCD of the closing prices for each stock\n",
        "gcd_prices = gcd(prices1[-1], prices2[-1])\n",
        "print(\"GCD of closing prices:\", gcd_prices)"
      ],
      "outputs": [
        {
          "output_type": "stream",
          "name": "stdout",
          "text": [
            "GCD of closing prices: 7.62939453125e-06\n"
          ]
        }
      ],
      "execution_count": 9,
      "metadata": {
        "collapsed": true,
        "jupyter": {
          "source_hidden": false,
          "outputs_hidden": false
        },
        "nteract": {
          "transient": {
            "deleting": false
          }
        },
        "execution": {
          "iopub.status.busy": "2023-05-09T02:31:01.539Z",
          "iopub.execute_input": "2023-05-09T02:31:01.542Z",
          "iopub.status.idle": "2023-05-09T02:31:01.552Z",
          "shell.execute_reply": "2023-05-09T02:31:01.558Z"
        }
      }
    }
  ],
  "metadata": {
    "kernel_info": {
      "name": "python3"
    },
    "language_info": {
      "name": "python",
      "version": "3.7.6",
      "mimetype": "text/x-python",
      "codemirror_mode": {
        "name": "ipython",
        "version": 3
      },
      "pygments_lexer": "ipython3",
      "nbconvert_exporter": "python",
      "file_extension": ".py"
    },
    "kernelspec": {
      "argv": [
        "C:/Users/Tin Hang/anaconda3\\python.exe",
        "-m",
        "ipykernel_launcher",
        "-f",
        "{connection_file}"
      ],
      "display_name": "Python 3",
      "language": "python",
      "name": "python3"
    },
    "nteract": {
      "version": "0.28.0"
    }
  },
  "nbformat": 4,
  "nbformat_minor": 0
}