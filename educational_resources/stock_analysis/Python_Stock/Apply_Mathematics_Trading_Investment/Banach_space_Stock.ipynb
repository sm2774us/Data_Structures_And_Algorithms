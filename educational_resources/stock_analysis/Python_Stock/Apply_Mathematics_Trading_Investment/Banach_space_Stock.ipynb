{
  "cells": [
    {
      "cell_type": "markdown",
      "source": [
        "# Banach space"
      ],
      "metadata": {
        "nteract": {
          "transient": {
            "deleting": false
          }
        }
      }
    },
    {
      "cell_type": "markdown",
      "source": [
        "https://en.wikipedia.org/wiki/Banach_space"
      ],
      "metadata": {
        "nteract": {
          "transient": {
            "deleting": false
          }
        }
      }
    },
    {
      "cell_type": "code",
      "source": [
        "import warnings\n",
        "warnings.filterwarnings(\"ignore\")\n",
        "\n",
        "import yfinance as yf\n",
        "import pandas as pd\n",
        "import numpy as np\n",
        "import matplotlib.pyplot as plt\n",
        "\n",
        "# Input\n",
        "symbol = 'AMD'\n",
        "start = '2014-01-01'\n",
        "end = '2019-01-01'\n",
        "\n",
        "# Read data\n",
        "dataset = yf.download(symbol, start, end)\n",
        "\n",
        "# Prepare data\n",
        "data = dataset['Adj Close']\n",
        "\n",
        "# Define a vector in the Banach space\n",
        "vector = np.array(data)\n",
        "\n",
        "# Define a norm function\n",
        "def norm(vector):\n",
        "    return np.linalg.norm(vector)\n",
        "\n",
        "# Check if the space is complete (i.e., a Banach space)\n",
        "def is_complete(vector_space):\n",
        "    for sequence in vector_space:\n",
        "        if not np.all(np.isfinite(sequence)):\n",
        "            return False\n",
        "    return True\n",
        "\n",
        "# Create a sequence of vectors\n",
        "sequence_of_vectors = [vector / (n + 1) for n in range(10)]\n",
        "\n",
        "# Check if the sequence forms a Banach space\n",
        "if is_complete(sequence_of_vectors):\n",
        "    print(\"The sequence forms a Banach space.\")\n",
        "else:\n",
        "    print(\"The sequence does not form a Banach space.\")"
      ],
      "outputs": [
        {
          "output_type": "stream",
          "name": "stdout",
          "text": [
            "[*********************100%***********************]  1 of 1 completed\n",
            "The sequence forms a Banach space.\n"
          ]
        }
      ],
      "execution_count": 1,
      "metadata": {
        "collapsed": true,
        "jupyter": {
          "source_hidden": false,
          "outputs_hidden": false
        },
        "nteract": {
          "transient": {
            "deleting": false
          }
        },
        "execution": {
          "iopub.status.busy": "2023-11-06T00:32:24.647Z",
          "iopub.execute_input": "2023-11-06T00:32:24.650Z",
          "iopub.status.idle": "2023-11-06T00:32:25.662Z",
          "shell.execute_reply": "2023-11-06T00:32:25.666Z"
        }
      }
    },
    {
      "cell_type": "code",
      "source": [
        "sequence_of_vectors"
      ],
      "outputs": [
        {
          "output_type": "execute_result",
          "execution_count": 2,
          "data": {
            "text/plain": "[array([ 3.95000005,  4.        ,  4.13000011, ..., 17.48999977,\n        17.81999969, 18.45999908]),\n array([1.97500002, 2.        , 2.06500006, ..., 8.74499989, 8.90999985,\n        9.22999954]),\n array([1.31666668, 1.33333333, 1.3766667 , ..., 5.82999992, 5.9399999 ,\n        6.15333303]),\n array([0.98750001, 1.        , 1.03250003, ..., 4.37249994, 4.45499992,\n        4.61499977]),\n array([0.79000001, 0.8       , 0.82600002, ..., 3.49799995, 3.56399994,\n        3.69199982]),\n array([0.65833334, 0.66666667, 0.68833335, ..., 2.91499996, 2.96999995,\n        3.07666651]),\n array([0.56428572, 0.57142857, 0.59000002, ..., 2.4985714 , 2.54571424,\n        2.63714273]),\n array([0.49375001, 0.5       , 0.51625001, ..., 2.18624997, 2.22749996,\n        2.30749989]),\n array([0.43888889, 0.44444444, 0.4588889 , ..., 1.94333331, 1.97999997,\n        2.05111101]),\n array([0.395     , 0.4       , 0.41300001, ..., 1.74899998, 1.78199997,\n        1.84599991])]"
          },
          "metadata": {}
        }
      ],
      "execution_count": 2,
      "metadata": {
        "collapsed": true,
        "jupyter": {
          "source_hidden": false,
          "outputs_hidden": false
        },
        "nteract": {
          "transient": {
            "deleting": false
          }
        },
        "execution": {
          "iopub.status.busy": "2023-11-06T00:32:51.063Z",
          "iopub.execute_input": "2023-11-06T00:32:51.066Z",
          "iopub.status.idle": "2023-11-06T00:32:51.120Z",
          "shell.execute_reply": "2023-11-06T00:32:51.129Z"
        }
      }
    }
  ],
  "metadata": {
    "kernel_info": {
      "name": "python3"
    },
    "language_info": {
      "name": "python",
      "version": "3.7.6",
      "mimetype": "text/x-python",
      "codemirror_mode": {
        "name": "ipython",
        "version": 3
      },
      "pygments_lexer": "ipython3",
      "nbconvert_exporter": "python",
      "file_extension": ".py"
    },
    "kernelspec": {
      "argv": [
        "C:/Users/Tin Hang/anaconda3\\python.exe",
        "-m",
        "ipykernel_launcher",
        "-f",
        "{connection_file}"
      ],
      "display_name": "Python 3",
      "language": "python",
      "name": "python3"
    },
    "nteract": {
      "version": "0.28.0"
    }
  },
  "nbformat": 4,
  "nbformat_minor": 0
}