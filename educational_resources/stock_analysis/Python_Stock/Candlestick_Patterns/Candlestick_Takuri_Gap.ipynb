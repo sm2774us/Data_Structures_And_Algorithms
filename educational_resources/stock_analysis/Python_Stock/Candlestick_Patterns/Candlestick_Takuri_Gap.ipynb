{
  "cells": [
    {
      "cell_type": "markdown",
      "source": [
        "# Candlestick Tasuki Gap"
      ],
      "metadata": {}
    },
    {
      "cell_type": "markdown",
      "source": [
        "https://www.investopedia.com/terms/u/upside-tasuki-gap.asp  \n",
        "https://www.investopedia.com/terms/d/downside-tasuki-gap.asp  "
      ],
      "metadata": {}
    },
    {
      "cell_type": "code",
      "source": [
        "import numpy as np\n",
        "import pandas as pd\n",
        "import matplotlib.pyplot as plt\n",
        "import talib\n",
        "\n",
        "import warnings\n",
        "warnings.filterwarnings(\"ignore\")\n",
        "\n",
        "# yahoo finance is used to fetch data \n",
        "import yfinance as yf\n",
        "yf.pdr_override()"
      ],
      "outputs": [],
      "execution_count": 1,
      "metadata": {
        "collapsed": false,
        "outputHidden": false,
        "inputHidden": false,
        "execution": {
          "iopub.status.busy": "2021-10-24T05:29:34.841Z",
          "iopub.execute_input": "2021-10-24T05:29:34.846Z",
          "iopub.status.idle": "2021-10-24T05:29:34.881Z",
          "shell.execute_reply": "2021-10-24T05:29:34.902Z"
        }
      }
    },
    {
      "cell_type": "code",
      "source": [
        "# input\n",
        "symbol = 'AMD'\n",
        "start = '2020-01-01'\n",
        "end = '2021-10-22'\n",
        "\n",
        "# Read data \n",
        "df = yf.download(symbol,start,end)\n",
        "\n",
        "# View Columns\n",
        "df.head()"
      ],
      "outputs": [
        {
          "output_type": "stream",
          "name": "stdout",
          "text": [
            "[*********************100%***********************]  1 of 1 completed\n"
          ]
        },
        {
          "output_type": "execute_result",
          "execution_count": 2,
          "data": {
            "text/plain": "                 Open       High        Low      Close  Adj Close    Volume\nDate                                                                       \n2020-01-02  46.860001  49.250000  46.630001  49.099998  49.099998  80331100\n2020-01-03  48.029999  49.389999  47.540001  48.599998  48.599998  73127400\n2020-01-06  48.020000  48.860001  47.860001  48.389999  48.389999  47934900\n2020-01-07  49.349998  49.389999  48.040001  48.250000  48.250000  58061400\n2020-01-08  47.849998  48.299999  47.139999  47.830002  47.830002  53767000",
            "text/html": "<div>\n<style scoped>\n    .dataframe tbody tr th:only-of-type {\n        vertical-align: middle;\n    }\n\n    .dataframe tbody tr th {\n        vertical-align: top;\n    }\n\n    .dataframe thead th {\n        text-align: right;\n    }\n</style>\n<table border=\"1\" class=\"dataframe\">\n  <thead>\n    <tr style=\"text-align: right;\">\n      <th></th>\n      <th>Open</th>\n      <th>High</th>\n      <th>Low</th>\n      <th>Close</th>\n      <th>Adj Close</th>\n      <th>Volume</th>\n    </tr>\n    <tr>\n      <th>Date</th>\n      <th></th>\n      <th></th>\n      <th></th>\n      <th></th>\n      <th></th>\n      <th></th>\n    </tr>\n  </thead>\n  <tbody>\n    <tr>\n      <th>2020-01-02</th>\n      <td>46.860001</td>\n      <td>49.250000</td>\n      <td>46.630001</td>\n      <td>49.099998</td>\n      <td>49.099998</td>\n      <td>80331100</td>\n    </tr>\n    <tr>\n      <th>2020-01-03</th>\n      <td>48.029999</td>\n      <td>49.389999</td>\n      <td>47.540001</td>\n      <td>48.599998</td>\n      <td>48.599998</td>\n      <td>73127400</td>\n    </tr>\n    <tr>\n      <th>2020-01-06</th>\n      <td>48.020000</td>\n      <td>48.860001</td>\n      <td>47.860001</td>\n      <td>48.389999</td>\n      <td>48.389999</td>\n      <td>47934900</td>\n    </tr>\n    <tr>\n      <th>2020-01-07</th>\n      <td>49.349998</td>\n      <td>49.389999</td>\n      <td>48.040001</td>\n      <td>48.250000</td>\n      <td>48.250000</td>\n      <td>58061400</td>\n    </tr>\n    <tr>\n      <th>2020-01-08</th>\n      <td>47.849998</td>\n      <td>48.299999</td>\n      <td>47.139999</td>\n      <td>47.830002</td>\n      <td>47.830002</td>\n      <td>53767000</td>\n    </tr>\n  </tbody>\n</table>\n</div>"
          },
          "metadata": {}
        }
      ],
      "execution_count": 2,
      "metadata": {
        "collapsed": false,
        "outputHidden": false,
        "inputHidden": false,
        "execution": {
          "iopub.status.busy": "2021-10-24T05:29:34.888Z",
          "iopub.execute_input": "2021-10-24T05:29:34.893Z",
          "iopub.status.idle": "2021-10-24T05:29:35.607Z",
          "shell.execute_reply": "2021-10-24T05:29:35.639Z"
        }
      }
    },
    {
      "cell_type": "markdown",
      "source": [
        "## Candlestick with Tasuki Gap"
      ],
      "metadata": {}
    },
    {
      "cell_type": "code",
      "source": [
        "from matplotlib import dates as mdates\n",
        "import datetime as dt\n",
        "\n",
        "dfc = df.copy()\n",
        "dfc['VolumePositive'] = dfc['Open'] < dfc['Adj Close']\n",
        "#dfc = dfc.dropna()\n",
        "dfc = dfc.reset_index()\n",
        "dfc['Date'] = pd.to_datetime(dfc['Date'])\n",
        "dfc['Date'] = dfc['Date'].apply(mdates.date2num)\n",
        "dfc.head()"
      ],
      "outputs": [
        {
          "output_type": "execute_result",
          "execution_count": 3,
          "data": {
            "text/plain": "       Date       Open       High        Low      Close  Adj Close    Volume  \\\n0  737426.0  46.860001  49.250000  46.630001  49.099998  49.099998  80331100   \n1  737427.0  48.029999  49.389999  47.540001  48.599998  48.599998  73127400   \n2  737430.0  48.020000  48.860001  47.860001  48.389999  48.389999  47934900   \n3  737431.0  49.349998  49.389999  48.040001  48.250000  48.250000  58061400   \n4  737432.0  47.849998  48.299999  47.139999  47.830002  47.830002  53767000   \n\n   VolumePositive  \n0            True  \n1            True  \n2            True  \n3           False  \n4           False  ",
            "text/html": "<div>\n<style scoped>\n    .dataframe tbody tr th:only-of-type {\n        vertical-align: middle;\n    }\n\n    .dataframe tbody tr th {\n        vertical-align: top;\n    }\n\n    .dataframe thead th {\n        text-align: right;\n    }\n</style>\n<table border=\"1\" class=\"dataframe\">\n  <thead>\n    <tr style=\"text-align: right;\">\n      <th></th>\n      <th>Date</th>\n      <th>Open</th>\n      <th>High</th>\n      <th>Low</th>\n      <th>Close</th>\n      <th>Adj Close</th>\n      <th>Volume</th>\n      <th>VolumePositive</th>\n    </tr>\n  </thead>\n  <tbody>\n    <tr>\n      <th>0</th>\n      <td>737426.0</td>\n      <td>46.860001</td>\n      <td>49.250000</td>\n      <td>46.630001</td>\n      <td>49.099998</td>\n      <td>49.099998</td>\n      <td>80331100</td>\n      <td>True</td>\n    </tr>\n    <tr>\n      <th>1</th>\n      <td>737427.0</td>\n      <td>48.029999</td>\n      <td>49.389999</td>\n      <td>47.540001</td>\n      <td>48.599998</td>\n      <td>48.599998</td>\n      <td>73127400</td>\n      <td>True</td>\n    </tr>\n    <tr>\n      <th>2</th>\n      <td>737430.0</td>\n      <td>48.020000</td>\n      <td>48.860001</td>\n      <td>47.860001</td>\n      <td>48.389999</td>\n      <td>48.389999</td>\n      <td>47934900</td>\n      <td>True</td>\n    </tr>\n    <tr>\n      <th>3</th>\n      <td>737431.0</td>\n      <td>49.349998</td>\n      <td>49.389999</td>\n      <td>48.040001</td>\n      <td>48.250000</td>\n      <td>48.250000</td>\n      <td>58061400</td>\n      <td>False</td>\n    </tr>\n    <tr>\n      <th>4</th>\n      <td>737432.0</td>\n      <td>47.849998</td>\n      <td>48.299999</td>\n      <td>47.139999</td>\n      <td>47.830002</td>\n      <td>47.830002</td>\n      <td>53767000</td>\n      <td>False</td>\n    </tr>\n  </tbody>\n</table>\n</div>"
          },
          "metadata": {}
        }
      ],
      "execution_count": 3,
      "metadata": {
        "collapsed": false,
        "outputHidden": false,
        "inputHidden": false,
        "execution": {
          "iopub.status.busy": "2021-10-24T05:29:35.615Z",
          "iopub.execute_input": "2021-10-24T05:29:35.619Z",
          "iopub.status.idle": "2021-10-24T05:29:35.650Z",
          "shell.execute_reply": "2021-10-24T05:29:35.644Z"
        }
      }
    },
    {
      "cell_type": "code",
      "source": [
        "from mplfinance.original_flavor import candlestick_ohlc\n",
        "\n",
        "fig = plt.figure(figsize=(14,10))\n",
        "ax = plt.subplot(2, 1, 1)\n",
        "candlestick_ohlc(ax,dfc.values, width=0.5, colorup='g', colordown='r', alpha=1.0)\n",
        "ax.xaxis_date()\n",
        "ax.xaxis.set_major_formatter(mdates.DateFormatter('%d-%m-%Y'))\n",
        "ax.grid(True, which='both')\n",
        "ax.minorticks_on()\n",
        "axv = ax.twinx()\n",
        "colors = dfc.VolumePositive.map({True: 'g', False: 'r'})\n",
        "axv.bar(dfc.Date, dfc['Volume'], color=colors, alpha=0.4)\n",
        "axv.axes.yaxis.set_ticklabels([])\n",
        "axv.set_ylim(0, 3*df.Volume.max())\n",
        "ax.set_title('Stock '+ symbol +' Closing Price')\n",
        "ax.set_ylabel('Price')"
      ],
      "outputs": [
        {
          "output_type": "execute_result",
          "execution_count": 4,
          "data": {
            "text/plain": "Text(0, 0.5, 'Price')"
          },
          "metadata": {}
        },
        {
          "output_type": "display_data",
          "data": {
            "text/plain": "<Figure size 1008x720 with 2 Axes>",
            "image/png": "[encoded data removed]"
          },
          "metadata": {
            "needs_background": "light"
          }
        }
      ],
      "execution_count": 4,
      "metadata": {
        "collapsed": false,
        "outputHidden": false,
        "inputHidden": false,
        "execution": {
          "iopub.status.busy": "2021-10-24T05:29:35.656Z",
          "iopub.execute_input": "2021-10-24T05:29:35.661Z",
          "iopub.status.idle": "2021-10-24T05:29:37.325Z",
          "shell.execute_reply": "2021-10-24T05:29:37.566Z"
        }
      }
    },
    {
      "cell_type": "code",
      "source": [
        "takuri_gap = talib.CDLTASUKIGAP(df['Open'], df['High'], df['Low'], df['Close'])\n",
        "\n",
        "takuri_gap = takuri_gap[takuri_gap != 0]"
      ],
      "outputs": [],
      "execution_count": 5,
      "metadata": {
        "collapsed": true,
        "jupyter": {
          "source_hidden": false,
          "outputs_hidden": false
        },
        "nteract": {
          "transient": {
            "deleting": false
          }
        },
        "execution": {
          "iopub.status.busy": "2021-10-24T05:29:37.335Z",
          "iopub.execute_input": "2021-10-24T05:29:37.342Z",
          "iopub.status.idle": "2021-10-24T05:29:37.353Z",
          "shell.execute_reply": "2021-10-24T05:29:37.571Z"
        }
      }
    },
    {
      "cell_type": "code",
      "source": [
        "df['takuri_gap'] = talib.CDLTASUKIGAP(df['Open'], df['High'], df['Low'], df['Close'])"
      ],
      "outputs": [],
      "execution_count": 6,
      "metadata": {
        "collapsed": true,
        "jupyter": {
          "source_hidden": false,
          "outputs_hidden": false
        },
        "nteract": {
          "transient": {
            "deleting": false
          }
        },
        "execution": {
          "iopub.status.busy": "2021-10-24T05:29:37.361Z",
          "iopub.execute_input": "2021-10-24T05:29:37.366Z",
          "iopub.status.idle": "2021-10-24T05:29:37.375Z",
          "shell.execute_reply": "2021-10-24T05:29:37.575Z"
        }
      }
    },
    {
      "cell_type": "code",
      "source": [
        "df.loc[df['takuri_gap'] !=0]"
      ],
      "outputs": [
        {
          "output_type": "execute_result",
          "execution_count": 7,
          "data": {
            "text/plain": "                  Open        High         Low       Close   Adj Close  \\\nDate                                                                     \n2020-02-20   58.439999   59.020000   56.150002   57.270000   57.270000   \n2021-02-03   88.599998   89.480003   87.339996   87.889999   87.889999   \n2021-06-22   82.900002   84.040001   82.480003   83.580002   83.580002   \n2021-10-05  100.919998  102.870003  100.610001  101.809998  101.809998   \n\n              Volume  takuri_gap  \nDate                              \n2020-02-20  74203400         100  \n2021-02-03  32312900         100  \n2021-06-22  32107700        -100  \n2021-10-05  31455200        -100  ",
            "text/html": "<div>\n<style scoped>\n    .dataframe tbody tr th:only-of-type {\n        vertical-align: middle;\n    }\n\n    .dataframe tbody tr th {\n        vertical-align: top;\n    }\n\n    .dataframe thead th {\n        text-align: right;\n    }\n</style>\n<table border=\"1\" class=\"dataframe\">\n  <thead>\n    <tr style=\"text-align: right;\">\n      <th></th>\n      <th>Open</th>\n      <th>High</th>\n      <th>Low</th>\n      <th>Close</th>\n      <th>Adj Close</th>\n      <th>Volume</th>\n      <th>takuri_gap</th>\n    </tr>\n    <tr>\n      <th>Date</th>\n      <th></th>\n      <th></th>\n      <th></th>\n      <th></th>\n      <th></th>\n      <th></th>\n      <th></th>\n    </tr>\n  </thead>\n  <tbody>\n    <tr>\n      <th>2020-02-20</th>\n      <td>58.439999</td>\n      <td>59.020000</td>\n      <td>56.150002</td>\n      <td>57.270000</td>\n      <td>57.270000</td>\n      <td>74203400</td>\n      <td>100</td>\n    </tr>\n    <tr>\n      <th>2021-02-03</th>\n      <td>88.599998</td>\n      <td>89.480003</td>\n      <td>87.339996</td>\n      <td>87.889999</td>\n      <td>87.889999</td>\n      <td>32312900</td>\n      <td>100</td>\n    </tr>\n    <tr>\n      <th>2021-06-22</th>\n      <td>82.900002</td>\n      <td>84.040001</td>\n      <td>82.480003</td>\n      <td>83.580002</td>\n      <td>83.580002</td>\n      <td>32107700</td>\n      <td>-100</td>\n    </tr>\n    <tr>\n      <th>2021-10-05</th>\n      <td>100.919998</td>\n      <td>102.870003</td>\n      <td>100.610001</td>\n      <td>101.809998</td>\n      <td>101.809998</td>\n      <td>31455200</td>\n      <td>-100</td>\n    </tr>\n  </tbody>\n</table>\n</div>"
          },
          "metadata": {}
        }
      ],
      "execution_count": 7,
      "metadata": {
        "collapsed": true,
        "jupyter": {
          "source_hidden": false,
          "outputs_hidden": false
        },
        "nteract": {
          "transient": {
            "deleting": false
          }
        },
        "execution": {
          "iopub.status.busy": "2021-10-24T05:29:37.382Z",
          "iopub.execute_input": "2021-10-24T05:29:37.388Z",
          "iopub.status.idle": "2021-10-24T05:29:37.405Z",
          "shell.execute_reply": "2021-10-24T05:29:37.587Z"
        }
      }
    },
    {
      "cell_type": "code",
      "source": [
        "df['Adj Close'].loc[df['takuri_gap'] !=0]"
      ],
      "outputs": [
        {
          "output_type": "execute_result",
          "execution_count": 8,
          "data": {
            "text/plain": "Date\n2020-02-20     57.270000\n2021-02-03     87.889999\n2021-06-22     83.580002\n2021-10-05    101.809998\nName: Adj Close, dtype: float64"
          },
          "metadata": {}
        }
      ],
      "execution_count": 8,
      "metadata": {
        "collapsed": true,
        "jupyter": {
          "source_hidden": false,
          "outputs_hidden": false
        },
        "nteract": {
          "transient": {
            "deleting": false
          }
        },
        "execution": {
          "iopub.status.busy": "2021-10-24T05:29:37.412Z",
          "iopub.execute_input": "2021-10-24T05:29:37.418Z",
          "iopub.status.idle": "2021-10-24T05:29:37.428Z",
          "shell.execute_reply": "2021-10-24T05:29:37.591Z"
        }
      }
    },
    {
      "cell_type": "code",
      "source": [
        "df['takuri_gap'].loc[df['takuri_gap'] !=0].index"
      ],
      "outputs": [
        {
          "output_type": "execute_result",
          "execution_count": 9,
          "data": {
            "text/plain": "DatetimeIndex(['2020-02-20', '2021-02-03', '2021-06-22', '2021-10-05'], dtype='datetime64[ns]', name='Date', freq=None)"
          },
          "metadata": {}
        }
      ],
      "execution_count": 9,
      "metadata": {
        "collapsed": true,
        "jupyter": {
          "source_hidden": false,
          "outputs_hidden": false
        },
        "nteract": {
          "transient": {
            "deleting": false
          }
        },
        "execution": {
          "iopub.status.busy": "2021-10-24T05:29:37.437Z",
          "iopub.execute_input": "2021-10-24T05:29:37.441Z",
          "iopub.status.idle": "2021-10-24T05:29:37.452Z",
          "shell.execute_reply": "2021-10-24T05:29:37.594Z"
        }
      }
    },
    {
      "cell_type": "code",
      "source": [
        "takuri_gap"
      ],
      "outputs": [
        {
          "output_type": "execute_result",
          "execution_count": 10,
          "data": {
            "text/plain": "Date\n2020-02-20    100\n2021-02-03    100\n2021-06-22   -100\n2021-10-05   -100\ndtype: int32"
          },
          "metadata": {}
        }
      ],
      "execution_count": 10,
      "metadata": {
        "collapsed": true,
        "jupyter": {
          "source_hidden": false,
          "outputs_hidden": false
        },
        "nteract": {
          "transient": {
            "deleting": false
          }
        },
        "execution": {
          "iopub.status.busy": "2021-10-24T05:29:37.459Z",
          "iopub.execute_input": "2021-10-24T05:29:37.466Z",
          "iopub.status.idle": "2021-10-24T05:29:37.476Z",
          "shell.execute_reply": "2021-10-24T05:29:37.598Z"
        }
      }
    },
    {
      "cell_type": "code",
      "source": [
        "takuri_gap.index"
      ],
      "outputs": [
        {
          "output_type": "execute_result",
          "execution_count": 11,
          "data": {
            "text/plain": "DatetimeIndex(['2020-02-20', '2021-02-03', '2021-06-22', '2021-10-05'], dtype='datetime64[ns]', name='Date', freq=None)"
          },
          "metadata": {}
        }
      ],
      "execution_count": 11,
      "metadata": {
        "collapsed": true,
        "jupyter": {
          "source_hidden": false,
          "outputs_hidden": false
        },
        "nteract": {
          "transient": {
            "deleting": false
          }
        },
        "execution": {
          "iopub.status.busy": "2021-10-24T05:29:37.484Z",
          "iopub.execute_input": "2021-10-24T05:29:37.489Z",
          "iopub.status.idle": "2021-10-24T05:29:37.499Z",
          "shell.execute_reply": "2021-10-24T05:29:37.601Z"
        }
      }
    },
    {
      "cell_type": "code",
      "source": [
        "df"
      ],
      "outputs": [
        {
          "output_type": "execute_result",
          "execution_count": 12,
          "data": {
            "text/plain": "                  Open        High         Low       Close   Adj Close  \\\nDate                                                                     \n2020-01-02   46.860001   49.250000   46.630001   49.099998   49.099998   \n2020-01-03   48.029999   49.389999   47.540001   48.599998   48.599998   \n2020-01-06   48.020000   48.860001   47.860001   48.389999   48.389999   \n2020-01-07   49.349998   49.389999   48.040001   48.250000   48.250000   \n2020-01-08   47.849998   48.299999   47.139999   47.830002   47.830002   \n...                ...         ...         ...         ...         ...   \n2021-10-15  112.510002  112.839996  111.110001  112.120003  112.120003   \n2021-10-18  111.900002  116.879997  111.370003  116.430000  116.430000   \n2021-10-19  116.160004  117.169998  114.470001  116.330002  116.330002   \n2021-10-20  116.290001  118.300003  115.419998  116.389999  116.389999   \n2021-10-21  116.500000  119.680000  116.260002  119.330002  119.330002   \n\n              Volume  takuri_gap  \nDate                              \n2020-01-02  80331100           0  \n2020-01-03  73127400           0  \n2020-01-06  47934900           0  \n2020-01-07  58061400           0  \n2020-01-08  53767000           0  \n...              ...         ...  \n2021-10-15  34177700           0  \n2021-10-18  47537800           0  \n2021-10-19  39593900           0  \n2021-10-20  34244800           0  \n2021-10-21  34794900           0  \n\n[456 rows x 7 columns]",
            "text/html": "<div>\n<style scoped>\n    .dataframe tbody tr th:only-of-type {\n        vertical-align: middle;\n    }\n\n    .dataframe tbody tr th {\n        vertical-align: top;\n    }\n\n    .dataframe thead th {\n        text-align: right;\n    }\n</style>\n<table border=\"1\" class=\"dataframe\">\n  <thead>\n    <tr style=\"text-align: right;\">\n      <th></th>\n      <th>Open</th>\n      <th>High</th>\n      <th>Low</th>\n      <th>Close</th>\n      <th>Adj Close</th>\n      <th>Volume</th>\n      <th>takuri_gap</th>\n    </tr>\n    <tr>\n      <th>Date</th>\n      <th></th>\n      <th></th>\n      <th></th>\n      <th></th>\n      <th></th>\n      <th></th>\n      <th></th>\n    </tr>\n  </thead>\n  <tbody>\n    <tr>\n      <th>2020-01-02</th>\n      <td>46.860001</td>\n      <td>49.250000</td>\n      <td>46.630001</td>\n      <td>49.099998</td>\n      <td>49.099998</td>\n      <td>80331100</td>\n      <td>0</td>\n    </tr>\n    <tr>\n      <th>2020-01-03</th>\n      <td>48.029999</td>\n      <td>49.389999</td>\n      <td>47.540001</td>\n      <td>48.599998</td>\n      <td>48.599998</td>\n      <td>73127400</td>\n      <td>0</td>\n    </tr>\n    <tr>\n      <th>2020-01-06</th>\n      <td>48.020000</td>\n      <td>48.860001</td>\n      <td>47.860001</td>\n      <td>48.389999</td>\n      <td>48.389999</td>\n      <td>47934900</td>\n      <td>0</td>\n    </tr>\n    <tr>\n      <th>2020-01-07</th>\n      <td>49.349998</td>\n      <td>49.389999</td>\n      <td>48.040001</td>\n      <td>48.250000</td>\n      <td>48.250000</td>\n      <td>58061400</td>\n      <td>0</td>\n    </tr>\n    <tr>\n      <th>2020-01-08</th>\n      <td>47.849998</td>\n      <td>48.299999</td>\n      <td>47.139999</td>\n      <td>47.830002</td>\n      <td>47.830002</td>\n      <td>53767000</td>\n      <td>0</td>\n    </tr>\n    <tr>\n      <th>...</th>\n      <td>...</td>\n      <td>...</td>\n      <td>...</td>\n      <td>...</td>\n      <td>...</td>\n      <td>...</td>\n      <td>...</td>\n    </tr>\n    <tr>\n      <th>2021-10-15</th>\n      <td>112.510002</td>\n      <td>112.839996</td>\n      <td>111.110001</td>\n      <td>112.120003</td>\n      <td>112.120003</td>\n      <td>34177700</td>\n      <td>0</td>\n    </tr>\n    <tr>\n      <th>2021-10-18</th>\n      <td>111.900002</td>\n      <td>116.879997</td>\n      <td>111.370003</td>\n      <td>116.430000</td>\n      <td>116.430000</td>\n      <td>47537800</td>\n      <td>0</td>\n    </tr>\n    <tr>\n      <th>2021-10-19</th>\n      <td>116.160004</td>\n      <td>117.169998</td>\n      <td>114.470001</td>\n      <td>116.330002</td>\n      <td>116.330002</td>\n      <td>39593900</td>\n      <td>0</td>\n    </tr>\n    <tr>\n      <th>2021-10-20</th>\n      <td>116.290001</td>\n      <td>118.300003</td>\n      <td>115.419998</td>\n      <td>116.389999</td>\n      <td>116.389999</td>\n      <td>34244800</td>\n      <td>0</td>\n    </tr>\n    <tr>\n      <th>2021-10-21</th>\n      <td>116.500000</td>\n      <td>119.680000</td>\n      <td>116.260002</td>\n      <td>119.330002</td>\n      <td>119.330002</td>\n      <td>34794900</td>\n      <td>0</td>\n    </tr>\n  </tbody>\n</table>\n<p>456 rows × 7 columns</p>\n</div>"
          },
          "metadata": {}
        }
      ],
      "execution_count": 12,
      "metadata": {
        "collapsed": true,
        "jupyter": {
          "source_hidden": false,
          "outputs_hidden": false
        },
        "nteract": {
          "transient": {
            "deleting": false
          }
        },
        "execution": {
          "iopub.status.busy": "2021-10-24T05:29:37.507Z",
          "iopub.execute_input": "2021-10-24T05:29:37.512Z",
          "iopub.status.idle": "2021-10-24T05:29:37.523Z",
          "shell.execute_reply": "2021-10-24T05:29:37.604Z"
        }
      }
    },
    {
      "cell_type": "code",
      "source": [
        "fig = plt.figure(figsize=(20,16))\n",
        "ax = plt.subplot(2, 1, 1)\n",
        "candlestick_ohlc(ax,dfc.values, width=0.5, colorup='g', colordown='r', alpha=1.0)\n",
        "ax.xaxis_date()\n",
        "ax.xaxis.set_major_formatter(mdates.DateFormatter('%d-%m-%Y'))\n",
        "ax.grid(True, which='both')\n",
        "ax.minorticks_on()\n",
        "axv = ax.twinx()\n",
        "ax.plot_date(df['Adj Close'].loc[df['takuri_gap'] !=0].index, df['Adj Close'].loc[df['takuri_gap'] !=0],\n",
        "                'Dc', # marker style 'o', color 'g'\n",
        "                fillstyle='none', # circle is not filled (with color)\n",
        "                ms=10.0) \n",
        "colors = dfc.VolumePositive.map({True: 'g', False: 'r'})\n",
        "axv.bar(dfc.Date, dfc['Volume'], color=colors, alpha=0.4)\n",
        "axv.axes.yaxis.set_ticklabels([])\n",
        "axv.set_ylim(0, 3*df.Volume.max())\n",
        "ax.set_title('Stock '+ symbol +' Closing Price')\n",
        "ax.set_ylabel('Price')"
      ],
      "outputs": [
        {
          "output_type": "execute_result",
          "execution_count": 13,
          "data": {
            "text/plain": "Text(0, 0.5, 'Price')"
          },
          "metadata": {}
        },
        {
          "output_type": "display_data",
          "data": {
            "text/plain": "<Figure size 1440x1152 with 2 Axes>",
            "image/png": "[encoded data removed]"
          },
          "metadata": {
            "needs_background": "light"
          }
        }
      ],
      "execution_count": 13,
      "metadata": {
        "collapsed": true,
        "jupyter": {
          "source_hidden": false,
          "outputs_hidden": false
        },
        "nteract": {
          "transient": {
            "deleting": false
          }
        },
        "execution": {
          "iopub.status.busy": "2021-10-24T05:29:37.531Z",
          "iopub.execute_input": "2021-10-24T05:29:37.537Z",
          "iopub.status.idle": "2021-10-24T05:29:39.190Z",
          "shell.execute_reply": "2021-10-24T05:29:39.181Z"
        }
      }
    },
    {
      "cell_type": "markdown",
      "source": [
        "## Plot Certain dates"
      ],
      "metadata": {
        "nteract": {
          "transient": {
            "deleting": false
          }
        }
      }
    },
    {
      "cell_type": "code",
      "source": [
        "df = df['2021-06-01':'2021-07-01']\n",
        "dfc = df.copy()\n",
        "dfc['VolumePositive'] = dfc['Open'] < dfc['Adj Close']\n",
        "#dfc = dfc.dropna()\n",
        "dfc = dfc.reset_index()\n",
        "dfc['Date'] = pd.to_datetime(dfc['Date'])\n",
        "dfc['Date'] = dfc['Date'].apply(mdates.date2num)\n",
        "dfc.head()"
      ],
      "outputs": [
        {
          "output_type": "execute_result",
          "execution_count": 14,
          "data": {
            "text/plain": "       Date       Open       High        Low      Close  Adj Close    Volume  \\\n0  737942.0  81.010002  82.910004  80.660004  80.809998  80.809998  43433000   \n1  737943.0  81.000000  82.599998  80.660004  81.970001  81.970001  35203200   \n2  737944.0  81.129997  81.889999  80.260002  80.279999  80.279999  29812000   \n3  737945.0  80.919998  82.190002  80.809998  81.580002  81.580002  26387800   \n4  737948.0  81.400002  81.680000  80.379997  81.349998  81.349998  29006800   \n\n   takuri_gap  VolumePositive  \n0           0           False  \n1           0            True  \n2           0           False  \n3           0            True  \n4           0           False  ",
            "text/html": "<div>\n<style scoped>\n    .dataframe tbody tr th:only-of-type {\n        vertical-align: middle;\n    }\n\n    .dataframe tbody tr th {\n        vertical-align: top;\n    }\n\n    .dataframe thead th {\n        text-align: right;\n    }\n</style>\n<table border=\"1\" class=\"dataframe\">\n  <thead>\n    <tr style=\"text-align: right;\">\n      <th></th>\n      <th>Date</th>\n      <th>Open</th>\n      <th>High</th>\n      <th>Low</th>\n      <th>Close</th>\n      <th>Adj Close</th>\n      <th>Volume</th>\n      <th>takuri_gap</th>\n      <th>VolumePositive</th>\n    </tr>\n  </thead>\n  <tbody>\n    <tr>\n      <th>0</th>\n      <td>737942.0</td>\n      <td>81.010002</td>\n      <td>82.910004</td>\n      <td>80.660004</td>\n      <td>80.809998</td>\n      <td>80.809998</td>\n      <td>43433000</td>\n      <td>0</td>\n      <td>False</td>\n    </tr>\n    <tr>\n      <th>1</th>\n      <td>737943.0</td>\n      <td>81.000000</td>\n      <td>82.599998</td>\n      <td>80.660004</td>\n      <td>81.970001</td>\n      <td>81.970001</td>\n      <td>35203200</td>\n      <td>0</td>\n      <td>True</td>\n    </tr>\n    <tr>\n      <th>2</th>\n      <td>737944.0</td>\n      <td>81.129997</td>\n      <td>81.889999</td>\n      <td>80.260002</td>\n      <td>80.279999</td>\n      <td>80.279999</td>\n      <td>29812000</td>\n      <td>0</td>\n      <td>False</td>\n    </tr>\n    <tr>\n      <th>3</th>\n      <td>737945.0</td>\n      <td>80.919998</td>\n      <td>82.190002</td>\n      <td>80.809998</td>\n      <td>81.580002</td>\n      <td>81.580002</td>\n      <td>26387800</td>\n      <td>0</td>\n      <td>True</td>\n    </tr>\n    <tr>\n      <th>4</th>\n      <td>737948.0</td>\n      <td>81.400002</td>\n      <td>81.680000</td>\n      <td>80.379997</td>\n      <td>81.349998</td>\n      <td>81.349998</td>\n      <td>29006800</td>\n      <td>0</td>\n      <td>False</td>\n    </tr>\n  </tbody>\n</table>\n</div>"
          },
          "metadata": {}
        }
      ],
      "execution_count": 14,
      "metadata": {
        "collapsed": true,
        "jupyter": {
          "source_hidden": false,
          "outputs_hidden": false
        },
        "nteract": {
          "transient": {
            "deleting": false
          }
        },
        "execution": {
          "iopub.status.busy": "2021-10-24T05:29:39.200Z",
          "iopub.execute_input": "2021-10-24T05:29:39.205Z",
          "iopub.status.idle": "2021-10-24T05:29:39.217Z",
          "shell.execute_reply": "2021-10-24T05:29:39.251Z"
        }
      }
    },
    {
      "cell_type": "code",
      "source": [
        "fig = plt.figure(figsize=(20,16))\n",
        "ax = plt.subplot(2, 1, 1)\n",
        "ax.set_facecolor('white')\n",
        "candlestick_ohlc(ax,dfc.values, width=0.5, colorup='grey', colordown='black', alpha=1.0)\n",
        "ax.xaxis_date()\n",
        "ax.xaxis.set_major_formatter(mdates.DateFormatter('%d-%m-%Y'))\n",
        "#ax.grid(True, which='both')\n",
        "#ax.minorticks_on()\n",
        "axv = ax.twinx()\n",
        "ax.plot_date(df['Adj Close'].loc[df['takuri_gap'] !=0].index, df['Adj Close'].loc[df['takuri_gap'] !=0],\n",
        "                'pr', # marker style 'o', color 'g'\n",
        "                fillstyle='none', # circle is not filled (with color)\n",
        "                ms=25.0) \n",
        "colors = dfc.VolumePositive.map({True: 'grey', False: 'black'})\n",
        "axv.bar(dfc.Date, dfc['Volume'], color=colors, alpha=0.4)\n",
        "axv.axes.yaxis.set_ticklabels([])\n",
        "axv.set_ylim(0, 3*df.Volume.max())\n",
        "ax.set_title('Stock '+ symbol +' Closing Price')\n",
        "ax.set_ylabel('Price')"
      ],
      "outputs": [
        {
          "output_type": "execute_result",
          "execution_count": 15,
          "data": {
            "text/plain": "Text(0, 0.5, 'Price')"
          },
          "metadata": {}
        },
        {
          "output_type": "display_data",
          "data": {
            "text/plain": "<Figure size 1440x1152 with 2 Axes>",
            "image/png": "[encoded data removed]"
          },
          "metadata": {
            "needs_background": "light"
          }
        }
      ],
      "execution_count": 15,
      "metadata": {
        "collapsed": true,
        "jupyter": {
          "source_hidden": false,
          "outputs_hidden": false
        },
        "nteract": {
          "transient": {
            "deleting": false
          }
        },
        "execution": {
          "iopub.status.busy": "2021-10-24T05:29:39.238Z",
          "iopub.execute_input": "2021-10-24T05:29:39.244Z",
          "iopub.status.idle": "2021-10-24T05:29:39.508Z",
          "shell.execute_reply": "2021-10-24T05:29:39.531Z"
        }
      }
    },
    {
      "cell_type": "markdown",
      "source": [
        "# Highlight Candlestick"
      ],
      "metadata": {
        "nteract": {
          "transient": {
            "deleting": false
          }
        }
      }
    },
    {
      "cell_type": "code",
      "source": [
        "from matplotlib.dates import date2num\n",
        "from datetime import datetime\n",
        "\n",
        "fig = plt.figure(figsize=(20,16))\n",
        "ax = plt.subplot(2, 1, 1)\n",
        "candlestick_ohlc(ax,dfc.values, width=0.5, colorup='g', colordown='r', alpha=1.0)\n",
        "ax.xaxis_date()\n",
        "ax.xaxis.set_major_formatter(mdates.DateFormatter('%d-%m-%Y'))\n",
        "#ax.grid(True, which='both')\n",
        "#ax.minorticks_on()\n",
        "axv = ax.twinx()\n",
        "ax.axvspan(date2num(datetime(2021,6,21)), date2num(datetime(2021,6,23)), \n",
        "           label=\"Takuri Bearish\",color=\"red\", alpha=0.3)\n",
        "ax.legend()\n",
        "colors = dfc.VolumePositive.map({True: 'g', False: 'r'})\n",
        "axv.bar(dfc.Date, dfc['Volume'], color=colors, alpha=0.4)\n",
        "axv.axes.yaxis.set_ticklabels([])\n",
        "axv.set_ylim(0, 3*df.Volume.max())\n",
        "ax.set_title('Stock '+ symbol +' Closing Price')\n",
        "ax.set_ylabel('Price')"
      ],
      "outputs": [
        {
          "output_type": "execute_result",
          "execution_count": 16,
          "data": {
            "text/plain": "Text(0, 0.5, 'Price')"
          },
          "metadata": {}
        },
        {
          "output_type": "display_data",
          "data": {
            "text/plain": "<Figure size 1440x1152 with 2 Axes>",
            "image/png": "[encoded data removed]"
          },
          "metadata": {
            "needs_background": "light"
          }
        }
      ],
      "execution_count": 16,
      "metadata": {
        "collapsed": true,
        "jupyter": {
          "source_hidden": false,
          "outputs_hidden": false
        },
        "nteract": {
          "transient": {
            "deleting": false
          }
        },
        "execution": {
          "iopub.status.busy": "2021-10-24T05:29:39.517Z",
          "iopub.execute_input": "2021-10-24T05:29:39.522Z",
          "iopub.status.idle": "2021-10-24T05:29:39.815Z",
          "shell.execute_reply": "2021-10-24T05:29:39.827Z"
        }
      }
    }
  ],
  "metadata": {
    "kernel_info": {
      "name": "python3"
    },
    "language_info": {
      "name": "python",
      "version": "3.6.13",
      "mimetype": "text/x-python",
      "codemirror_mode": {
        "name": "ipython",
        "version": 3
      },
      "pygments_lexer": "ipython3",
      "nbconvert_exporter": "python",
      "file_extension": ".py"
    },
    "kernelspec": {
      "name": "python3",
      "language": "python",
      "display_name": "Python 3"
    },
    "nteract": {
      "version": "0.28.0"
    }
  },
  "nbformat": 4,
  "nbformat_minor": 4
}