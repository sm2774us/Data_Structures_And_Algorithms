{
  "cells": [
    {
      "cell_type": "markdown",
      "source": [
        "# Candlestick Stick Sandwich"
      ],
      "metadata": {}
    },
    {
      "cell_type": "markdown",
      "source": [
        "https://www.investopedia.com/terms/s/stick-sandwich.asp"
      ],
      "metadata": {}
    },
    {
      "cell_type": "code",
      "source": [
        "import numpy as np\n",
        "import pandas as pd\n",
        "import matplotlib.pyplot as plt\n",
        "import talib\n",
        "\n",
        "import warnings\n",
        "warnings.filterwarnings(\"ignore\")\n",
        "\n",
        "# yahoo finance is used to fetch data \n",
        "import yfinance as yf\n",
        "yf.pdr_override()"
      ],
      "outputs": [],
      "execution_count": 1,
      "metadata": {
        "collapsed": false,
        "outputHidden": false,
        "inputHidden": false,
        "execution": {
          "iopub.status.busy": "2021-10-24T05:19:32.699Z",
          "iopub.execute_input": "2021-10-24T05:19:32.703Z",
          "iopub.status.idle": "2021-10-24T05:19:32.748Z",
          "shell.execute_reply": "2021-10-24T05:19:32.738Z"
        }
      }
    },
    {
      "cell_type": "code",
      "source": [
        "# input\n",
        "symbol = 'AMD'\n",
        "start = '2020-01-01'\n",
        "end = '2021-10-22'\n",
        "\n",
        "# Read data \n",
        "df = yf.download(symbol,start,end)\n",
        "\n",
        "# View Columns\n",
        "df.head()"
      ],
      "outputs": [
        {
          "output_type": "stream",
          "name": "stdout",
          "text": [
            "[*********************100%***********************]  1 of 1 completed\n"
          ]
        },
        {
          "output_type": "execute_result",
          "execution_count": 2,
          "data": {
            "text/plain": "                 Open       High        Low      Close  Adj Close    Volume\nDate                                                                       \n2020-01-02  46.860001  49.250000  46.630001  49.099998  49.099998  80331100\n2020-01-03  48.029999  49.389999  47.540001  48.599998  48.599998  73127400\n2020-01-06  48.020000  48.860001  47.860001  48.389999  48.389999  47934900\n2020-01-07  49.349998  49.389999  48.040001  48.250000  48.250000  58061400\n2020-01-08  47.849998  48.299999  47.139999  47.830002  47.830002  53767000",
            "text/html": "<div>\n<style scoped>\n    .dataframe tbody tr th:only-of-type {\n        vertical-align: middle;\n    }\n\n    .dataframe tbody tr th {\n        vertical-align: top;\n    }\n\n    .dataframe thead th {\n        text-align: right;\n    }\n</style>\n<table border=\"1\" class=\"dataframe\">\n  <thead>\n    <tr style=\"text-align: right;\">\n      <th></th>\n      <th>Open</th>\n      <th>High</th>\n      <th>Low</th>\n      <th>Close</th>\n      <th>Adj Close</th>\n      <th>Volume</th>\n    </tr>\n    <tr>\n      <th>Date</th>\n      <th></th>\n      <th></th>\n      <th></th>\n      <th></th>\n      <th></th>\n      <th></th>\n    </tr>\n  </thead>\n  <tbody>\n    <tr>\n      <th>2020-01-02</th>\n      <td>46.860001</td>\n      <td>49.250000</td>\n      <td>46.630001</td>\n      <td>49.099998</td>\n      <td>49.099998</td>\n      <td>80331100</td>\n    </tr>\n    <tr>\n      <th>2020-01-03</th>\n      <td>48.029999</td>\n      <td>49.389999</td>\n      <td>47.540001</td>\n      <td>48.599998</td>\n      <td>48.599998</td>\n      <td>73127400</td>\n    </tr>\n    <tr>\n      <th>2020-01-06</th>\n      <td>48.020000</td>\n      <td>48.860001</td>\n      <td>47.860001</td>\n      <td>48.389999</td>\n      <td>48.389999</td>\n      <td>47934900</td>\n    </tr>\n    <tr>\n      <th>2020-01-07</th>\n      <td>49.349998</td>\n      <td>49.389999</td>\n      <td>48.040001</td>\n      <td>48.250000</td>\n      <td>48.250000</td>\n      <td>58061400</td>\n    </tr>\n    <tr>\n      <th>2020-01-08</th>\n      <td>47.849998</td>\n      <td>48.299999</td>\n      <td>47.139999</td>\n      <td>47.830002</td>\n      <td>47.830002</td>\n      <td>53767000</td>\n    </tr>\n  </tbody>\n</table>\n</div>"
          },
          "metadata": {}
        }
      ],
      "execution_count": 2,
      "metadata": {
        "collapsed": false,
        "outputHidden": false,
        "inputHidden": false,
        "execution": {
          "iopub.status.busy": "2021-10-24T05:19:32.755Z",
          "iopub.execute_input": "2021-10-24T05:19:32.760Z",
          "iopub.status.idle": "2021-10-24T05:19:33.390Z",
          "shell.execute_reply": "2021-10-24T05:19:33.425Z"
        }
      }
    },
    {
      "cell_type": "markdown",
      "source": [
        "## Candlestick with Stick Sandwich"
      ],
      "metadata": {}
    },
    {
      "cell_type": "code",
      "source": [
        "from matplotlib import dates as mdates\n",
        "import datetime as dt\n",
        "\n",
        "dfc = df.copy()\n",
        "dfc['VolumePositive'] = dfc['Open'] < dfc['Adj Close']\n",
        "#dfc = dfc.dropna()\n",
        "dfc = dfc.reset_index()\n",
        "dfc['Date'] = pd.to_datetime(dfc['Date'])\n",
        "dfc['Date'] = dfc['Date'].apply(mdates.date2num)\n",
        "dfc.head()"
      ],
      "outputs": [
        {
          "output_type": "execute_result",
          "execution_count": 3,
          "data": {
            "text/plain": "       Date       Open       High        Low      Close  Adj Close    Volume  \\\n0  737426.0  46.860001  49.250000  46.630001  49.099998  49.099998  80331100   \n1  737427.0  48.029999  49.389999  47.540001  48.599998  48.599998  73127400   \n2  737430.0  48.020000  48.860001  47.860001  48.389999  48.389999  47934900   \n3  737431.0  49.349998  49.389999  48.040001  48.250000  48.250000  58061400   \n4  737432.0  47.849998  48.299999  47.139999  47.830002  47.830002  53767000   \n\n   VolumePositive  \n0            True  \n1            True  \n2            True  \n3           False  \n4           False  ",
            "text/html": "<div>\n<style scoped>\n    .dataframe tbody tr th:only-of-type {\n        vertical-align: middle;\n    }\n\n    .dataframe tbody tr th {\n        vertical-align: top;\n    }\n\n    .dataframe thead th {\n        text-align: right;\n    }\n</style>\n<table border=\"1\" class=\"dataframe\">\n  <thead>\n    <tr style=\"text-align: right;\">\n      <th></th>\n      <th>Date</th>\n      <th>Open</th>\n      <th>High</th>\n      <th>Low</th>\n      <th>Close</th>\n      <th>Adj Close</th>\n      <th>Volume</th>\n      <th>VolumePositive</th>\n    </tr>\n  </thead>\n  <tbody>\n    <tr>\n      <th>0</th>\n      <td>737426.0</td>\n      <td>46.860001</td>\n      <td>49.250000</td>\n      <td>46.630001</td>\n      <td>49.099998</td>\n      <td>49.099998</td>\n      <td>80331100</td>\n      <td>True</td>\n    </tr>\n    <tr>\n      <th>1</th>\n      <td>737427.0</td>\n      <td>48.029999</td>\n      <td>49.389999</td>\n      <td>47.540001</td>\n      <td>48.599998</td>\n      <td>48.599998</td>\n      <td>73127400</td>\n      <td>True</td>\n    </tr>\n    <tr>\n      <th>2</th>\n      <td>737430.0</td>\n      <td>48.020000</td>\n      <td>48.860001</td>\n      <td>47.860001</td>\n      <td>48.389999</td>\n      <td>48.389999</td>\n      <td>47934900</td>\n      <td>True</td>\n    </tr>\n    <tr>\n      <th>3</th>\n      <td>737431.0</td>\n      <td>49.349998</td>\n      <td>49.389999</td>\n      <td>48.040001</td>\n      <td>48.250000</td>\n      <td>48.250000</td>\n      <td>58061400</td>\n      <td>False</td>\n    </tr>\n    <tr>\n      <th>4</th>\n      <td>737432.0</td>\n      <td>47.849998</td>\n      <td>48.299999</td>\n      <td>47.139999</td>\n      <td>47.830002</td>\n      <td>47.830002</td>\n      <td>53767000</td>\n      <td>False</td>\n    </tr>\n  </tbody>\n</table>\n</div>"
          },
          "metadata": {}
        }
      ],
      "execution_count": 3,
      "metadata": {
        "collapsed": false,
        "outputHidden": false,
        "inputHidden": false,
        "execution": {
          "iopub.status.busy": "2021-10-24T05:19:33.398Z",
          "iopub.execute_input": "2021-10-24T05:19:33.403Z",
          "iopub.status.idle": "2021-10-24T05:19:33.435Z",
          "shell.execute_reply": "2021-10-24T05:19:33.430Z"
        }
      }
    },
    {
      "cell_type": "code",
      "source": [
        "from mplfinance.original_flavor import candlestick_ohlc\n",
        "\n",
        "fig = plt.figure(figsize=(14,10))\n",
        "ax = plt.subplot(2, 1, 1)\n",
        "candlestick_ohlc(ax,dfc.values, width=0.5, colorup='g', colordown='r', alpha=1.0)\n",
        "ax.xaxis_date()\n",
        "ax.xaxis.set_major_formatter(mdates.DateFormatter('%d-%m-%Y'))\n",
        "ax.grid(True, which='both')\n",
        "ax.minorticks_on()\n",
        "axv = ax.twinx()\n",
        "colors = dfc.VolumePositive.map({True: 'g', False: 'r'})\n",
        "axv.bar(dfc.Date, dfc['Volume'], color=colors, alpha=0.4)\n",
        "axv.axes.yaxis.set_ticklabels([])\n",
        "axv.set_ylim(0, 3*df.Volume.max())\n",
        "ax.set_title('Stock '+ symbol +' Closing Price')\n",
        "ax.set_ylabel('Price')"
      ],
      "outputs": [
        {
          "output_type": "execute_result",
          "execution_count": 4,
          "data": {
            "text/plain": "Text(0, 0.5, 'Price')"
          },
          "metadata": {}
        },
        {
          "output_type": "display_data",
          "data": {
            "text/plain": "<Figure size 1008x720 with 2 Axes>",
            "image/png": "[encoded data removed]"
          },
          "metadata": {
            "needs_background": "light"
          }
        }
      ],
      "execution_count": 4,
      "metadata": {
        "collapsed": false,
        "outputHidden": false,
        "inputHidden": false,
        "execution": {
          "iopub.status.busy": "2021-10-24T05:19:33.442Z",
          "iopub.execute_input": "2021-10-24T05:19:33.447Z",
          "iopub.status.idle": "2021-10-24T05:19:35.191Z",
          "shell.execute_reply": "2021-10-24T05:19:35.182Z"
        }
      }
    },
    {
      "cell_type": "code",
      "source": [
        "stick_sandwich = talib.CDLSTICKSANDWICH(df['Open'], df['High'], df['Low'], df['Close'])\n",
        "\n",
        "stick_sandwich = stick_sandwich[stick_sandwich != 0]"
      ],
      "outputs": [],
      "execution_count": 5,
      "metadata": {
        "collapsed": true,
        "jupyter": {
          "source_hidden": false,
          "outputs_hidden": false
        },
        "nteract": {
          "transient": {
            "deleting": false
          }
        },
        "execution": {
          "iopub.status.busy": "2021-10-24T05:19:35.199Z",
          "iopub.execute_input": "2021-10-24T05:19:35.205Z",
          "iopub.status.idle": "2021-10-24T05:19:35.214Z",
          "shell.execute_reply": "2021-10-24T05:19:35.398Z"
        }
      }
    },
    {
      "cell_type": "code",
      "source": [
        "df['stick_sandwich'] = talib.CDLSTICKSANDWICH(df['Open'], df['High'], df['Low'], df['Close'])"
      ],
      "outputs": [],
      "execution_count": 6,
      "metadata": {
        "collapsed": true,
        "jupyter": {
          "source_hidden": false,
          "outputs_hidden": false
        },
        "nteract": {
          "transient": {
            "deleting": false
          }
        },
        "execution": {
          "iopub.status.busy": "2021-10-24T05:19:35.222Z",
          "iopub.execute_input": "2021-10-24T05:19:35.228Z",
          "iopub.status.idle": "2021-10-24T05:19:35.237Z",
          "shell.execute_reply": "2021-10-24T05:19:35.402Z"
        }
      }
    },
    {
      "cell_type": "code",
      "source": [
        "df.loc[df['stick_sandwich'] !=0]"
      ],
      "outputs": [
        {
          "output_type": "execute_result",
          "execution_count": 7,
          "data": {
            "text/plain": "                 Open       High        Low      Close  Adj Close    Volume  \\\nDate                                                                          \n2020-01-14  48.639999  49.040001  47.910000  48.209999  48.209999  38563200   \n2021-04-14  79.879997  80.129997  77.940002  78.550003  78.550003  34263800   \n\n            stick_sandwich  \nDate                        \n2020-01-14             100  \n2021-04-14             100  ",
            "text/html": "<div>\n<style scoped>\n    .dataframe tbody tr th:only-of-type {\n        vertical-align: middle;\n    }\n\n    .dataframe tbody tr th {\n        vertical-align: top;\n    }\n\n    .dataframe thead th {\n        text-align: right;\n    }\n</style>\n<table border=\"1\" class=\"dataframe\">\n  <thead>\n    <tr style=\"text-align: right;\">\n      <th></th>\n      <th>Open</th>\n      <th>High</th>\n      <th>Low</th>\n      <th>Close</th>\n      <th>Adj Close</th>\n      <th>Volume</th>\n      <th>stick_sandwich</th>\n    </tr>\n    <tr>\n      <th>Date</th>\n      <th></th>\n      <th></th>\n      <th></th>\n      <th></th>\n      <th></th>\n      <th></th>\n      <th></th>\n    </tr>\n  </thead>\n  <tbody>\n    <tr>\n      <th>2020-01-14</th>\n      <td>48.639999</td>\n      <td>49.040001</td>\n      <td>47.910000</td>\n      <td>48.209999</td>\n      <td>48.209999</td>\n      <td>38563200</td>\n      <td>100</td>\n    </tr>\n    <tr>\n      <th>2021-04-14</th>\n      <td>79.879997</td>\n      <td>80.129997</td>\n      <td>77.940002</td>\n      <td>78.550003</td>\n      <td>78.550003</td>\n      <td>34263800</td>\n      <td>100</td>\n    </tr>\n  </tbody>\n</table>\n</div>"
          },
          "metadata": {}
        }
      ],
      "execution_count": 7,
      "metadata": {
        "collapsed": true,
        "jupyter": {
          "source_hidden": false,
          "outputs_hidden": false
        },
        "nteract": {
          "transient": {
            "deleting": false
          }
        },
        "execution": {
          "iopub.status.busy": "2021-10-24T05:19:35.244Z",
          "iopub.execute_input": "2021-10-24T05:19:35.249Z",
          "iopub.status.idle": "2021-10-24T05:19:35.261Z",
          "shell.execute_reply": "2021-10-24T05:19:35.405Z"
        }
      }
    },
    {
      "cell_type": "code",
      "source": [
        "df['Adj Close'].loc[df['stick_sandwich'] !=0]"
      ],
      "outputs": [
        {
          "output_type": "execute_result",
          "execution_count": 8,
          "data": {
            "text/plain": "Date\n2020-01-14    48.209999\n2021-04-14    78.550003\nName: Adj Close, dtype: float64"
          },
          "metadata": {}
        }
      ],
      "execution_count": 8,
      "metadata": {
        "collapsed": true,
        "jupyter": {
          "source_hidden": false,
          "outputs_hidden": false
        },
        "nteract": {
          "transient": {
            "deleting": false
          }
        },
        "execution": {
          "iopub.status.busy": "2021-10-24T05:19:35.269Z",
          "iopub.execute_input": "2021-10-24T05:19:35.274Z",
          "iopub.status.idle": "2021-10-24T05:19:35.286Z",
          "shell.execute_reply": "2021-10-24T05:19:35.407Z"
        }
      }
    },
    {
      "cell_type": "code",
      "source": [
        "df['stick_sandwich'].loc[df['stick_sandwich'] !=0].index"
      ],
      "outputs": [
        {
          "output_type": "execute_result",
          "execution_count": 9,
          "data": {
            "text/plain": "DatetimeIndex(['2020-01-14', '2021-04-14'], dtype='datetime64[ns]', name='Date', freq=None)"
          },
          "metadata": {}
        }
      ],
      "execution_count": 9,
      "metadata": {
        "collapsed": true,
        "jupyter": {
          "source_hidden": false,
          "outputs_hidden": false
        },
        "nteract": {
          "transient": {
            "deleting": false
          }
        },
        "execution": {
          "iopub.status.busy": "2021-10-24T05:19:35.293Z",
          "iopub.execute_input": "2021-10-24T05:19:35.298Z",
          "iopub.status.idle": "2021-10-24T05:19:35.309Z",
          "shell.execute_reply": "2021-10-24T05:19:35.410Z"
        }
      }
    },
    {
      "cell_type": "code",
      "source": [
        "stick_sandwich"
      ],
      "outputs": [
        {
          "output_type": "execute_result",
          "execution_count": 10,
          "data": {
            "text/plain": "Date\n2020-01-14    100\n2021-04-14    100\ndtype: int32"
          },
          "metadata": {}
        }
      ],
      "execution_count": 10,
      "metadata": {
        "collapsed": true,
        "jupyter": {
          "source_hidden": false,
          "outputs_hidden": false
        },
        "nteract": {
          "transient": {
            "deleting": false
          }
        },
        "execution": {
          "iopub.status.busy": "2021-10-24T05:19:35.316Z",
          "iopub.execute_input": "2021-10-24T05:19:35.322Z",
          "iopub.status.idle": "2021-10-24T05:19:35.332Z",
          "shell.execute_reply": "2021-10-24T05:19:35.414Z"
        }
      }
    },
    {
      "cell_type": "code",
      "source": [
        "stick_sandwich.index"
      ],
      "outputs": [
        {
          "output_type": "execute_result",
          "execution_count": 11,
          "data": {
            "text/plain": "DatetimeIndex(['2020-01-14', '2021-04-14'], dtype='datetime64[ns]', name='Date', freq=None)"
          },
          "metadata": {}
        }
      ],
      "execution_count": 11,
      "metadata": {
        "collapsed": true,
        "jupyter": {
          "source_hidden": false,
          "outputs_hidden": false
        },
        "nteract": {
          "transient": {
            "deleting": false
          }
        },
        "execution": {
          "iopub.status.busy": "2021-10-24T05:19:35.339Z",
          "iopub.execute_input": "2021-10-24T05:19:35.344Z",
          "iopub.status.idle": "2021-10-24T05:19:35.355Z",
          "shell.execute_reply": "2021-10-24T05:19:35.417Z"
        }
      }
    },
    {
      "cell_type": "code",
      "source": [
        "df"
      ],
      "outputs": [
        {
          "output_type": "execute_result",
          "execution_count": 12,
          "data": {
            "text/plain": "                  Open        High         Low       Close   Adj Close  \\\nDate                                                                     \n2020-01-02   46.860001   49.250000   46.630001   49.099998   49.099998   \n2020-01-03   48.029999   49.389999   47.540001   48.599998   48.599998   \n2020-01-06   48.020000   48.860001   47.860001   48.389999   48.389999   \n2020-01-07   49.349998   49.389999   48.040001   48.250000   48.250000   \n2020-01-08   47.849998   48.299999   47.139999   47.830002   47.830002   \n...                ...         ...         ...         ...         ...   \n2021-10-15  112.510002  112.839996  111.110001  112.120003  112.120003   \n2021-10-18  111.900002  116.879997  111.370003  116.430000  116.430000   \n2021-10-19  116.160004  117.169998  114.470001  116.330002  116.330002   \n2021-10-20  116.290001  118.300003  115.419998  116.389999  116.389999   \n2021-10-21  116.500000  119.680000  116.260002  119.330002  119.330002   \n\n              Volume  stick_sandwich  \nDate                                  \n2020-01-02  80331100               0  \n2020-01-03  73127400               0  \n2020-01-06  47934900               0  \n2020-01-07  58061400               0  \n2020-01-08  53767000               0  \n...              ...             ...  \n2021-10-15  34177700               0  \n2021-10-18  47537800               0  \n2021-10-19  39593900               0  \n2021-10-20  34244800               0  \n2021-10-21  34794900               0  \n\n[456 rows x 7 columns]",
            "text/html": "<div>\n<style scoped>\n    .dataframe tbody tr th:only-of-type {\n        vertical-align: middle;\n    }\n\n    .dataframe tbody tr th {\n        vertical-align: top;\n    }\n\n    .dataframe thead th {\n        text-align: right;\n    }\n</style>\n<table border=\"1\" class=\"dataframe\">\n  <thead>\n    <tr style=\"text-align: right;\">\n      <th></th>\n      <th>Open</th>\n      <th>High</th>\n      <th>Low</th>\n      <th>Close</th>\n      <th>Adj Close</th>\n      <th>Volume</th>\n      <th>stick_sandwich</th>\n    </tr>\n    <tr>\n      <th>Date</th>\n      <th></th>\n      <th></th>\n      <th></th>\n      <th></th>\n      <th></th>\n      <th></th>\n      <th></th>\n    </tr>\n  </thead>\n  <tbody>\n    <tr>\n      <th>2020-01-02</th>\n      <td>46.860001</td>\n      <td>49.250000</td>\n      <td>46.630001</td>\n      <td>49.099998</td>\n      <td>49.099998</td>\n      <td>80331100</td>\n      <td>0</td>\n    </tr>\n    <tr>\n      <th>2020-01-03</th>\n      <td>48.029999</td>\n      <td>49.389999</td>\n      <td>47.540001</td>\n      <td>48.599998</td>\n      <td>48.599998</td>\n      <td>73127400</td>\n      <td>0</td>\n    </tr>\n    <tr>\n      <th>2020-01-06</th>\n      <td>48.020000</td>\n      <td>48.860001</td>\n      <td>47.860001</td>\n      <td>48.389999</td>\n      <td>48.389999</td>\n      <td>47934900</td>\n      <td>0</td>\n    </tr>\n    <tr>\n      <th>2020-01-07</th>\n      <td>49.349998</td>\n      <td>49.389999</td>\n      <td>48.040001</td>\n      <td>48.250000</td>\n      <td>48.250000</td>\n      <td>58061400</td>\n      <td>0</td>\n    </tr>\n    <tr>\n      <th>2020-01-08</th>\n      <td>47.849998</td>\n      <td>48.299999</td>\n      <td>47.139999</td>\n      <td>47.830002</td>\n      <td>47.830002</td>\n      <td>53767000</td>\n      <td>0</td>\n    </tr>\n    <tr>\n      <th>...</th>\n      <td>...</td>\n      <td>...</td>\n      <td>...</td>\n      <td>...</td>\n      <td>...</td>\n      <td>...</td>\n      <td>...</td>\n    </tr>\n    <tr>\n      <th>2021-10-15</th>\n      <td>112.510002</td>\n      <td>112.839996</td>\n      <td>111.110001</td>\n      <td>112.120003</td>\n      <td>112.120003</td>\n      <td>34177700</td>\n      <td>0</td>\n    </tr>\n    <tr>\n      <th>2021-10-18</th>\n      <td>111.900002</td>\n      <td>116.879997</td>\n      <td>111.370003</td>\n      <td>116.430000</td>\n      <td>116.430000</td>\n      <td>47537800</td>\n      <td>0</td>\n    </tr>\n    <tr>\n      <th>2021-10-19</th>\n      <td>116.160004</td>\n      <td>117.169998</td>\n      <td>114.470001</td>\n      <td>116.330002</td>\n      <td>116.330002</td>\n      <td>39593900</td>\n      <td>0</td>\n    </tr>\n    <tr>\n      <th>2021-10-20</th>\n      <td>116.290001</td>\n      <td>118.300003</td>\n      <td>115.419998</td>\n      <td>116.389999</td>\n      <td>116.389999</td>\n      <td>34244800</td>\n      <td>0</td>\n    </tr>\n    <tr>\n      <th>2021-10-21</th>\n      <td>116.500000</td>\n      <td>119.680000</td>\n      <td>116.260002</td>\n      <td>119.330002</td>\n      <td>119.330002</td>\n      <td>34794900</td>\n      <td>0</td>\n    </tr>\n  </tbody>\n</table>\n<p>456 rows × 7 columns</p>\n</div>"
          },
          "metadata": {}
        }
      ],
      "execution_count": 12,
      "metadata": {
        "collapsed": true,
        "jupyter": {
          "source_hidden": false,
          "outputs_hidden": false
        },
        "nteract": {
          "transient": {
            "deleting": false
          }
        },
        "execution": {
          "iopub.status.busy": "2021-10-24T05:19:35.363Z",
          "iopub.execute_input": "2021-10-24T05:19:35.367Z",
          "iopub.status.idle": "2021-10-24T05:19:35.378Z",
          "shell.execute_reply": "2021-10-24T05:19:35.420Z"
        }
      }
    },
    {
      "cell_type": "code",
      "source": [
        "fig = plt.figure(figsize=(20,16))\n",
        "ax = plt.subplot(2, 1, 1)\n",
        "candlestick_ohlc(ax,dfc.values, width=0.5, colorup='g', colordown='r', alpha=1.0)\n",
        "ax.xaxis_date()\n",
        "ax.xaxis.set_major_formatter(mdates.DateFormatter('%d-%m-%Y'))\n",
        "ax.grid(True, which='both')\n",
        "ax.minorticks_on()\n",
        "axv = ax.twinx()\n",
        "ax.plot_date(df['Adj Close'].loc[df['stick_sandwich'] !=0].index, df['Adj Close'].loc[df['stick_sandwich'] !=0],\n",
        "                'Dc', # marker style 'o', color 'g'\n",
        "                fillstyle='none', # circle is not filled (with color)\n",
        "                ms=10.0) \n",
        "colors = dfc.VolumePositive.map({True: 'g', False: 'r'})\n",
        "axv.bar(dfc.Date, dfc['Volume'], color=colors, alpha=0.4)\n",
        "axv.axes.yaxis.set_ticklabels([])\n",
        "axv.set_ylim(0, 3*df.Volume.max())\n",
        "ax.set_title('Stock '+ symbol +' Closing Price')\n",
        "ax.set_ylabel('Price')"
      ],
      "outputs": [
        {
          "output_type": "execute_result",
          "execution_count": 13,
          "data": {
            "text/plain": "Text(0, 0.5, 'Price')"
          },
          "metadata": {}
        },
        {
          "output_type": "display_data",
          "data": {
            "text/plain": "<Figure size 1440x1152 with 2 Axes>",
            "image/png": "[encoded data removed]"
          },
          "metadata": {
            "needs_background": "light"
          }
        }
      ],
      "execution_count": 13,
      "metadata": {
        "collapsed": true,
        "jupyter": {
          "source_hidden": false,
          "outputs_hidden": false
        },
        "nteract": {
          "transient": {
            "deleting": false
          }
        },
        "execution": {
          "iopub.status.busy": "2021-10-24T05:19:35.386Z",
          "iopub.execute_input": "2021-10-24T05:19:35.391Z",
          "iopub.status.idle": "2021-10-24T05:19:37.082Z",
          "shell.execute_reply": "2021-10-24T05:19:37.074Z"
        }
      }
    },
    {
      "cell_type": "markdown",
      "source": [
        "## Plot Certain dates"
      ],
      "metadata": {
        "nteract": {
          "transient": {
            "deleting": false
          }
        }
      }
    },
    {
      "cell_type": "code",
      "source": [
        "df = df['2021-04-01':'2021-05-01']\n",
        "dfc = df.copy()\n",
        "dfc['VolumePositive'] = dfc['Open'] < dfc['Adj Close']\n",
        "#dfc = dfc.dropna()\n",
        "dfc = dfc.reset_index()\n",
        "dfc['Date'] = pd.to_datetime(dfc['Date'])\n",
        "dfc['Date'] = dfc['Date'].apply(mdates.date2num)\n",
        "dfc.head()"
      ],
      "outputs": [
        {
          "output_type": "execute_result",
          "execution_count": 14,
          "data": {
            "text/plain": "       Date       Open       High        Low      Close  Adj Close    Volume  \\\n0  737881.0  80.160004  81.309998  79.480003  81.089996  81.089996  40182400   \n1  737885.0  81.739998  81.900002  80.389999  81.430000  81.430000  32610600   \n2  737886.0  81.209999  82.459999  80.879997  81.440002  81.440002  29327900   \n3  737887.0  81.320000  83.099998  80.349998  82.199997  82.199997  35590900   \n4  737888.0  83.320000  83.790001  82.440002  83.349998  83.349998  41925300   \n\n   stick_sandwich  VolumePositive  \n0               0            True  \n1               0           False  \n2               0            True  \n3               0            True  \n4               0            True  ",
            "text/html": "<div>\n<style scoped>\n    .dataframe tbody tr th:only-of-type {\n        vertical-align: middle;\n    }\n\n    .dataframe tbody tr th {\n        vertical-align: top;\n    }\n\n    .dataframe thead th {\n        text-align: right;\n    }\n</style>\n<table border=\"1\" class=\"dataframe\">\n  <thead>\n    <tr style=\"text-align: right;\">\n      <th></th>\n      <th>Date</th>\n      <th>Open</th>\n      <th>High</th>\n      <th>Low</th>\n      <th>Close</th>\n      <th>Adj Close</th>\n      <th>Volume</th>\n      <th>stick_sandwich</th>\n      <th>VolumePositive</th>\n    </tr>\n  </thead>\n  <tbody>\n    <tr>\n      <th>0</th>\n      <td>737881.0</td>\n      <td>80.160004</td>\n      <td>81.309998</td>\n      <td>79.480003</td>\n      <td>81.089996</td>\n      <td>81.089996</td>\n      <td>40182400</td>\n      <td>0</td>\n      <td>True</td>\n    </tr>\n    <tr>\n      <th>1</th>\n      <td>737885.0</td>\n      <td>81.739998</td>\n      <td>81.900002</td>\n      <td>80.389999</td>\n      <td>81.430000</td>\n      <td>81.430000</td>\n      <td>32610600</td>\n      <td>0</td>\n      <td>False</td>\n    </tr>\n    <tr>\n      <th>2</th>\n      <td>737886.0</td>\n      <td>81.209999</td>\n      <td>82.459999</td>\n      <td>80.879997</td>\n      <td>81.440002</td>\n      <td>81.440002</td>\n      <td>29327900</td>\n      <td>0</td>\n      <td>True</td>\n    </tr>\n    <tr>\n      <th>3</th>\n      <td>737887.0</td>\n      <td>81.320000</td>\n      <td>83.099998</td>\n      <td>80.349998</td>\n      <td>82.199997</td>\n      <td>82.199997</td>\n      <td>35590900</td>\n      <td>0</td>\n      <td>True</td>\n    </tr>\n    <tr>\n      <th>4</th>\n      <td>737888.0</td>\n      <td>83.320000</td>\n      <td>83.790001</td>\n      <td>82.440002</td>\n      <td>83.349998</td>\n      <td>83.349998</td>\n      <td>41925300</td>\n      <td>0</td>\n      <td>True</td>\n    </tr>\n  </tbody>\n</table>\n</div>"
          },
          "metadata": {}
        }
      ],
      "execution_count": 14,
      "metadata": {
        "collapsed": true,
        "jupyter": {
          "source_hidden": false,
          "outputs_hidden": false
        },
        "nteract": {
          "transient": {
            "deleting": false
          }
        },
        "execution": {
          "iopub.status.busy": "2021-10-24T05:19:37.090Z",
          "iopub.execute_input": "2021-10-24T05:19:37.095Z",
          "iopub.status.idle": "2021-10-24T05:19:37.108Z",
          "shell.execute_reply": "2021-10-24T05:19:37.128Z"
        }
      }
    },
    {
      "cell_type": "code",
      "source": [
        "fig = plt.figure(figsize=(20,16))\n",
        "ax = plt.subplot(2, 1, 1)\n",
        "ax.set_facecolor('white')\n",
        "candlestick_ohlc(ax,dfc.values, width=0.5, colorup='saddlebrown', colordown='salmon', alpha=1.0)\n",
        "ax.xaxis_date()\n",
        "ax.xaxis.set_major_formatter(mdates.DateFormatter('%d-%m-%Y'))\n",
        "#ax.grid(True, which='both')\n",
        "#ax.minorticks_on()\n",
        "axv = ax.twinx()\n",
        "ax.plot_date(df['Adj Close'].loc[df['stick_sandwich'] !=0].index, df['Adj Close'].loc[df['stick_sandwich'] !=0],\n",
        "                'dk', # marker style 'o', color 'g'\n",
        "                fillstyle='none', # circle is not filled (with color)\n",
        "                ms=25.0) \n",
        "colors = dfc.VolumePositive.map({True: 'saddlebrown', False: 'salmon'})\n",
        "axv.bar(dfc.Date, dfc['Volume'], color=colors, alpha=0.4)\n",
        "axv.axes.yaxis.set_ticklabels([])\n",
        "axv.set_ylim(0, 3*df.Volume.max())\n",
        "ax.set_title('Stock '+ symbol +' Closing Price')\n",
        "ax.set_ylabel('Price')"
      ],
      "outputs": [
        {
          "output_type": "execute_result",
          "execution_count": 15,
          "data": {
            "text/plain": "Text(0, 0.5, 'Price')"
          },
          "metadata": {}
        },
        {
          "output_type": "display_data",
          "data": {
            "text/plain": "<Figure size 1440x1152 with 2 Axes>",
            "image/png": "[encoded data removed]"
          },
          "metadata": {
            "needs_background": "light"
          }
        }
      ],
      "execution_count": 15,
      "metadata": {
        "collapsed": true,
        "jupyter": {
          "source_hidden": false,
          "outputs_hidden": false
        },
        "nteract": {
          "transient": {
            "deleting": false
          }
        },
        "execution": {
          "iopub.status.busy": "2021-10-24T05:19:37.116Z",
          "iopub.execute_input": "2021-10-24T05:19:37.122Z",
          "iopub.status.idle": "2021-10-24T05:19:37.385Z",
          "shell.execute_reply": "2021-10-24T05:19:37.403Z"
        }
      }
    },
    {
      "cell_type": "markdown",
      "source": [
        "# Highlight Candlestick"
      ],
      "metadata": {
        "nteract": {
          "transient": {
            "deleting": false
          }
        }
      }
    },
    {
      "cell_type": "code",
      "source": [
        "from matplotlib.dates import date2num\n",
        "from datetime import datetime\n",
        "\n",
        "fig = plt.figure(figsize=(20,16))\n",
        "ax = plt.subplot(2, 1, 1)\n",
        "candlestick_ohlc(ax,dfc.values, width=0.5, colorup='g', colordown='r', alpha=1.0)\n",
        "ax.xaxis_date()\n",
        "ax.xaxis.set_major_formatter(mdates.DateFormatter('%d-%m-%Y'))\n",
        "#ax.grid(True, which='both')\n",
        "#ax.minorticks_on()\n",
        "axv = ax.twinx()\n",
        "ax.axvspan(date2num(datetime(2021,4,13)), date2num(datetime(2021,4,15)), \n",
        "           label=\"Stick Sandwich Bullish\",color=\"green\", alpha=0.3)\n",
        "ax.legend()\n",
        "colors = dfc.VolumePositive.map({True: 'g', False: 'r'})\n",
        "axv.bar(dfc.Date, dfc['Volume'], color=colors, alpha=0.4)\n",
        "axv.axes.yaxis.set_ticklabels([])\n",
        "axv.set_ylim(0, 3*df.Volume.max())\n",
        "ax.set_title('Stock '+ symbol +' Closing Price')\n",
        "ax.set_ylabel('Price')"
      ],
      "outputs": [
        {
          "output_type": "execute_result",
          "execution_count": 16,
          "data": {
            "text/plain": "Text(0, 0.5, 'Price')"
          },
          "metadata": {}
        },
        {
          "output_type": "display_data",
          "data": {
            "text/plain": "<Figure size 1440x1152 with 2 Axes>",
            "image/png": "[encoded data removed]"
          },
          "metadata": {
            "needs_background": "light"
          }
        }
      ],
      "execution_count": 16,
      "metadata": {
        "collapsed": true,
        "jupyter": {
          "source_hidden": false,
          "outputs_hidden": false
        },
        "nteract": {
          "transient": {
            "deleting": false
          }
        },
        "execution": {
          "iopub.status.busy": "2021-10-24T05:19:37.392Z",
          "iopub.execute_input": "2021-10-24T05:19:37.397Z",
          "iopub.status.idle": "2021-10-24T05:19:37.682Z",
          "shell.execute_reply": "2021-10-24T05:19:37.673Z"
        }
      }
    }
  ],
  "metadata": {
    "kernel_info": {
      "name": "python3"
    },
    "language_info": {
      "name": "python",
      "version": "3.6.13",
      "mimetype": "text/x-python",
      "codemirror_mode": {
        "name": "ipython",
        "version": 3
      },
      "pygments_lexer": "ipython3",
      "nbconvert_exporter": "python",
      "file_extension": ".py"
    },
    "kernelspec": {
      "name": "python3",
      "language": "python",
      "display_name": "Python 3"
    },
    "nteract": {
      "version": "0.28.0"
    }
  },
  "nbformat": 4,
  "nbformat_minor": 4
}