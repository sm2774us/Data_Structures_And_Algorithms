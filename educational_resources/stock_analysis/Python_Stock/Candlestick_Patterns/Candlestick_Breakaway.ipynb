{
  "cells": [
    {
      "cell_type": "markdown",
      "source": [
        "# Candlestick Breakaway"
      ],
      "metadata": {}
    },
    {
      "cell_type": "markdown",
      "source": [
        "https://patternswizard.com/breakaway-candlestick-pattern/"
      ],
      "metadata": {}
    },
    {
      "cell_type": "code",
      "source": [
        "import numpy as np\n",
        "import pandas as pd\n",
        "import matplotlib.pyplot as plt\n",
        "import talib\n",
        "\n",
        "import warnings\n",
        "warnings.filterwarnings(\"ignore\")\n",
        "\n",
        "# yahoo finance is used to fetch data \n",
        "import yfinance as yf\n",
        "yf.pdr_override()"
      ],
      "outputs": [],
      "execution_count": 1,
      "metadata": {
        "collapsed": false,
        "outputHidden": false,
        "inputHidden": false,
        "execution": {
          "iopub.status.busy": "2021-10-12T01:54:18.975Z",
          "iopub.execute_input": "2021-10-12T01:54:18.981Z",
          "iopub.status.idle": "2021-10-12T01:54:19.036Z",
          "shell.execute_reply": "2021-10-12T01:54:19.029Z"
        }
      }
    },
    {
      "cell_type": "code",
      "source": [
        "# input\n",
        "symbol = 'MPHASIS.NS'\n",
        "start = '2020-01-01'\n",
        "end = '2021-10-11'\n",
        "\n",
        "# Read data \n",
        "df = yf.download(symbol,start,end)\n",
        "\n",
        "# View Columns\n",
        "df.head()"
      ],
      "outputs": [
        {
          "output_type": "stream",
          "name": "stdout",
          "text": [
            "[*********************100%***********************]  1 of 1 completed\n"
          ]
        },
        {
          "output_type": "execute_result",
          "execution_count": 2,
          "data": {
            "text/plain": "                  Open        High         Low       Close   Adj Close  Volume\nDate                                                                          \n2020-01-01  927.000000  929.000000  913.549988  923.799988  879.139771  131875\n2020-01-02  923.799988  926.500000  890.500000  894.049988  850.828003  360884\n2020-01-03  894.000000  900.799988  878.450012  883.700012  840.978394  235166\n2020-01-06  883.000000  883.000000  868.049988  875.200012  832.889343   99636\n2020-01-07  878.000000  898.599976  877.049988  885.799988  842.976807  781520",
            "text/html": "<div>\n<style scoped>\n    .dataframe tbody tr th:only-of-type {\n        vertical-align: middle;\n    }\n\n    .dataframe tbody tr th {\n        vertical-align: top;\n    }\n\n    .dataframe thead th {\n        text-align: right;\n    }\n</style>\n<table border=\"1\" class=\"dataframe\">\n  <thead>\n    <tr style=\"text-align: right;\">\n      <th></th>\n      <th>Open</th>\n      <th>High</th>\n      <th>Low</th>\n      <th>Close</th>\n      <th>Adj Close</th>\n      <th>Volume</th>\n    </tr>\n    <tr>\n      <th>Date</th>\n      <th></th>\n      <th></th>\n      <th></th>\n      <th></th>\n      <th></th>\n      <th></th>\n    </tr>\n  </thead>\n  <tbody>\n    <tr>\n      <th>2020-01-01</th>\n      <td>927.000000</td>\n      <td>929.000000</td>\n      <td>913.549988</td>\n      <td>923.799988</td>\n      <td>879.139771</td>\n      <td>131875</td>\n    </tr>\n    <tr>\n      <th>2020-01-02</th>\n      <td>923.799988</td>\n      <td>926.500000</td>\n      <td>890.500000</td>\n      <td>894.049988</td>\n      <td>850.828003</td>\n      <td>360884</td>\n    </tr>\n    <tr>\n      <th>2020-01-03</th>\n      <td>894.000000</td>\n      <td>900.799988</td>\n      <td>878.450012</td>\n      <td>883.700012</td>\n      <td>840.978394</td>\n      <td>235166</td>\n    </tr>\n    <tr>\n      <th>2020-01-06</th>\n      <td>883.000000</td>\n      <td>883.000000</td>\n      <td>868.049988</td>\n      <td>875.200012</td>\n      <td>832.889343</td>\n      <td>99636</td>\n    </tr>\n    <tr>\n      <th>2020-01-07</th>\n      <td>878.000000</td>\n      <td>898.599976</td>\n      <td>877.049988</td>\n      <td>885.799988</td>\n      <td>842.976807</td>\n      <td>781520</td>\n    </tr>\n  </tbody>\n</table>\n</div>"
          },
          "metadata": {}
        }
      ],
      "execution_count": 2,
      "metadata": {
        "collapsed": false,
        "outputHidden": false,
        "inputHidden": false,
        "execution": {
          "iopub.status.busy": "2021-10-12T01:54:19.044Z",
          "iopub.execute_input": "2021-10-12T01:54:19.048Z",
          "iopub.status.idle": "2021-10-12T01:54:19.707Z",
          "shell.execute_reply": "2021-10-12T01:54:19.767Z"
        }
      }
    },
    {
      "cell_type": "markdown",
      "source": [
        "## Candlestick with Breakaway"
      ],
      "metadata": {}
    },
    {
      "cell_type": "code",
      "source": [
        "from matplotlib import dates as mdates\n",
        "import datetime as dt\n",
        "\n",
        "dfc = df.copy()\n",
        "dfc['VolumePositive'] = dfc['Open'] < dfc['Adj Close']\n",
        "#dfc = dfc.dropna()\n",
        "dfc = dfc.reset_index()\n",
        "dfc['Date'] = pd.to_datetime(dfc['Date'])\n",
        "dfc['Date'] = dfc['Date'].apply(mdates.date2num)\n",
        "dfc.head()"
      ],
      "outputs": [
        {
          "output_type": "execute_result",
          "execution_count": 3,
          "data": {
            "text/plain": "       Date        Open        High         Low       Close   Adj Close  \\\n0  737425.0  927.000000  929.000000  913.549988  923.799988  879.139771   \n1  737426.0  923.799988  926.500000  890.500000  894.049988  850.828003   \n2  737427.0  894.000000  900.799988  878.450012  883.700012  840.978394   \n3  737430.0  883.000000  883.000000  868.049988  875.200012  832.889343   \n4  737431.0  878.000000  898.599976  877.049988  885.799988  842.976807   \n\n   Volume  VolumePositive  \n0  131875           False  \n1  360884           False  \n2  235166           False  \n3   99636           False  \n4  781520           False  ",
            "text/html": "<div>\n<style scoped>\n    .dataframe tbody tr th:only-of-type {\n        vertical-align: middle;\n    }\n\n    .dataframe tbody tr th {\n        vertical-align: top;\n    }\n\n    .dataframe thead th {\n        text-align: right;\n    }\n</style>\n<table border=\"1\" class=\"dataframe\">\n  <thead>\n    <tr style=\"text-align: right;\">\n      <th></th>\n      <th>Date</th>\n      <th>Open</th>\n      <th>High</th>\n      <th>Low</th>\n      <th>Close</th>\n      <th>Adj Close</th>\n      <th>Volume</th>\n      <th>VolumePositive</th>\n    </tr>\n  </thead>\n  <tbody>\n    <tr>\n      <th>0</th>\n      <td>737425.0</td>\n      <td>927.000000</td>\n      <td>929.000000</td>\n      <td>913.549988</td>\n      <td>923.799988</td>\n      <td>879.139771</td>\n      <td>131875</td>\n      <td>False</td>\n    </tr>\n    <tr>\n      <th>1</th>\n      <td>737426.0</td>\n      <td>923.799988</td>\n      <td>926.500000</td>\n      <td>890.500000</td>\n      <td>894.049988</td>\n      <td>850.828003</td>\n      <td>360884</td>\n      <td>False</td>\n    </tr>\n    <tr>\n      <th>2</th>\n      <td>737427.0</td>\n      <td>894.000000</td>\n      <td>900.799988</td>\n      <td>878.450012</td>\n      <td>883.700012</td>\n      <td>840.978394</td>\n      <td>235166</td>\n      <td>False</td>\n    </tr>\n    <tr>\n      <th>3</th>\n      <td>737430.0</td>\n      <td>883.000000</td>\n      <td>883.000000</td>\n      <td>868.049988</td>\n      <td>875.200012</td>\n      <td>832.889343</td>\n      <td>99636</td>\n      <td>False</td>\n    </tr>\n    <tr>\n      <th>4</th>\n      <td>737431.0</td>\n      <td>878.000000</td>\n      <td>898.599976</td>\n      <td>877.049988</td>\n      <td>885.799988</td>\n      <td>842.976807</td>\n      <td>781520</td>\n      <td>False</td>\n    </tr>\n  </tbody>\n</table>\n</div>"
          },
          "metadata": {}
        }
      ],
      "execution_count": 3,
      "metadata": {
        "collapsed": false,
        "outputHidden": false,
        "inputHidden": false,
        "execution": {
          "iopub.status.busy": "2021-10-12T01:54:19.718Z",
          "iopub.execute_input": "2021-10-12T01:54:19.725Z",
          "iopub.status.idle": "2021-10-12T01:54:19.737Z",
          "shell.execute_reply": "2021-10-12T01:54:19.772Z"
        }
      }
    },
    {
      "cell_type": "code",
      "source": [
        "from mplfinance.original_flavor import candlestick_ohlc\n",
        "\n",
        "fig = plt.figure(figsize=(14,10))\n",
        "ax = plt.subplot(2, 1, 1)\n",
        "candlestick_ohlc(ax,dfc.values, width=0.5, colorup='g', colordown='r', alpha=1.0)\n",
        "ax.xaxis_date()\n",
        "ax.xaxis.set_major_formatter(mdates.DateFormatter('%d-%m-%Y'))\n",
        "ax.grid(True, which='both')\n",
        "ax.minorticks_on()\n",
        "axv = ax.twinx()\n",
        "colors = dfc.VolumePositive.map({True: 'g', False: 'r'})\n",
        "axv.bar(dfc.Date, dfc['Volume'], color=colors, alpha=0.4)\n",
        "axv.axes.yaxis.set_ticklabels([])\n",
        "axv.set_ylim(0, 3*df.Volume.max())\n",
        "ax.set_title('Stock '+ symbol +' Closing Price')\n",
        "ax.set_ylabel('Price')"
      ],
      "outputs": [
        {
          "output_type": "execute_result",
          "execution_count": 4,
          "data": {
            "text/plain": "Text(0, 0.5, 'Price')"
          },
          "metadata": {}
        },
        {
          "output_type": "display_data",
          "data": {
            "text/plain": "<Figure size 1008x720 with 2 Axes>",
            "image/png": "[encoded data removed]"
          },
          "metadata": {
            "needs_background": "light"
          }
        }
      ],
      "execution_count": 4,
      "metadata": {
        "collapsed": false,
        "outputHidden": false,
        "inputHidden": false,
        "execution": {
          "iopub.status.busy": "2021-10-12T01:54:19.744Z",
          "iopub.execute_input": "2021-10-12T01:54:19.749Z",
          "iopub.status.idle": "2021-10-12T01:54:21.417Z",
          "shell.execute_reply": "2021-10-12T01:54:21.622Z"
        }
      }
    },
    {
      "cell_type": "code",
      "source": [
        "breakaway = talib.CDLBREAKAWAY(df['Open'], df['High'], df['Low'], df['Close'])\n",
        "\n",
        "breakaway = breakaway[breakaway != 0]"
      ],
      "outputs": [],
      "execution_count": 5,
      "metadata": {
        "collapsed": true,
        "jupyter": {
          "source_hidden": false,
          "outputs_hidden": false
        },
        "nteract": {
          "transient": {
            "deleting": false
          }
        },
        "execution": {
          "iopub.status.busy": "2021-10-12T01:54:21.426Z",
          "iopub.execute_input": "2021-10-12T01:54:21.431Z",
          "iopub.status.idle": "2021-10-12T01:54:21.439Z",
          "shell.execute_reply": "2021-10-12T01:54:21.625Z"
        }
      }
    },
    {
      "cell_type": "code",
      "source": [
        "df['breakaway'] = talib.CDLBREAKAWAY(df['Open'], df['High'], df['Low'], df['Close'])"
      ],
      "outputs": [],
      "execution_count": 6,
      "metadata": {
        "collapsed": true,
        "jupyter": {
          "source_hidden": false,
          "outputs_hidden": false
        },
        "nteract": {
          "transient": {
            "deleting": false
          }
        },
        "execution": {
          "iopub.status.busy": "2021-10-12T01:54:21.448Z",
          "iopub.execute_input": "2021-10-12T01:54:21.454Z",
          "iopub.status.idle": "2021-10-12T01:54:21.462Z",
          "shell.execute_reply": "2021-10-12T01:54:21.628Z"
        }
      }
    },
    {
      "cell_type": "code",
      "source": [
        "df.loc[df['breakaway'] !=0]"
      ],
      "outputs": [
        {
          "output_type": "execute_result",
          "execution_count": 7,
          "data": {
            "text/plain": "             Open   High         Low       Close   Adj Close  Volume  \\\nDate                                                                   \n2020-05-04  718.0  723.5  692.549988  700.799988  666.920471  743300   \n\n            breakaway  \nDate                   \n2020-05-04       -100  ",
            "text/html": "<div>\n<style scoped>\n    .dataframe tbody tr th:only-of-type {\n        vertical-align: middle;\n    }\n\n    .dataframe tbody tr th {\n        vertical-align: top;\n    }\n\n    .dataframe thead th {\n        text-align: right;\n    }\n</style>\n<table border=\"1\" class=\"dataframe\">\n  <thead>\n    <tr style=\"text-align: right;\">\n      <th></th>\n      <th>Open</th>\n      <th>High</th>\n      <th>Low</th>\n      <th>Close</th>\n      <th>Adj Close</th>\n      <th>Volume</th>\n      <th>breakaway</th>\n    </tr>\n    <tr>\n      <th>Date</th>\n      <th></th>\n      <th></th>\n      <th></th>\n      <th></th>\n      <th></th>\n      <th></th>\n      <th></th>\n    </tr>\n  </thead>\n  <tbody>\n    <tr>\n      <th>2020-05-04</th>\n      <td>718.0</td>\n      <td>723.5</td>\n      <td>692.549988</td>\n      <td>700.799988</td>\n      <td>666.920471</td>\n      <td>743300</td>\n      <td>-100</td>\n    </tr>\n  </tbody>\n</table>\n</div>"
          },
          "metadata": {}
        }
      ],
      "execution_count": 7,
      "metadata": {
        "collapsed": true,
        "jupyter": {
          "source_hidden": false,
          "outputs_hidden": false
        },
        "nteract": {
          "transient": {
            "deleting": false
          }
        },
        "execution": {
          "iopub.status.busy": "2021-10-12T01:54:21.469Z",
          "iopub.execute_input": "2021-10-12T01:54:21.475Z",
          "iopub.status.idle": "2021-10-12T01:54:21.485Z",
          "shell.execute_reply": "2021-10-12T01:54:21.631Z"
        }
      }
    },
    {
      "cell_type": "code",
      "source": [
        "df['Adj Close'].loc[df['breakaway'] !=0]"
      ],
      "outputs": [
        {
          "output_type": "execute_result",
          "execution_count": 20,
          "data": {
            "text/plain": "Date\n2020-05-04    666.920471\nName: Adj Close, dtype: float64"
          },
          "metadata": {}
        }
      ],
      "execution_count": 20,
      "metadata": {
        "collapsed": true,
        "jupyter": {
          "source_hidden": false,
          "outputs_hidden": false
        },
        "nteract": {
          "transient": {
            "deleting": false
          }
        },
        "execution": {
          "iopub.status.busy": "2021-10-12T01:56:31.275Z",
          "iopub.execute_input": "2021-10-12T01:56:31.281Z",
          "iopub.status.idle": "2021-10-12T01:56:31.292Z",
          "shell.execute_reply": "2021-10-12T01:56:31.298Z"
        }
      }
    },
    {
      "cell_type": "code",
      "source": [
        "df['Adj Close'].loc[df['breakaway'] !=0].index"
      ],
      "outputs": [
        {
          "output_type": "execute_result",
          "execution_count": 9,
          "data": {
            "text/plain": "DatetimeIndex(['2020-05-04'], dtype='datetime64[ns]', name='Date', freq=None)"
          },
          "metadata": {}
        }
      ],
      "execution_count": 9,
      "metadata": {
        "collapsed": true,
        "jupyter": {
          "source_hidden": false,
          "outputs_hidden": false
        },
        "nteract": {
          "transient": {
            "deleting": false
          }
        },
        "execution": {
          "iopub.status.busy": "2021-10-12T01:54:21.516Z",
          "iopub.execute_input": "2021-10-12T01:54:21.522Z",
          "iopub.status.idle": "2021-10-12T01:54:21.534Z",
          "shell.execute_reply": "2021-10-12T01:54:21.636Z"
        }
      }
    },
    {
      "cell_type": "code",
      "source": [
        "breakaway"
      ],
      "outputs": [
        {
          "output_type": "execute_result",
          "execution_count": 10,
          "data": {
            "text/plain": "Date\n2020-05-04   -100\ndtype: int32"
          },
          "metadata": {}
        }
      ],
      "execution_count": 10,
      "metadata": {
        "collapsed": true,
        "jupyter": {
          "source_hidden": false,
          "outputs_hidden": false
        },
        "nteract": {
          "transient": {
            "deleting": false
          }
        },
        "execution": {
          "iopub.status.busy": "2021-10-12T01:54:21.541Z",
          "iopub.execute_input": "2021-10-12T01:54:21.546Z",
          "iopub.status.idle": "2021-10-12T01:54:21.559Z",
          "shell.execute_reply": "2021-10-12T01:54:21.640Z"
        }
      }
    },
    {
      "cell_type": "code",
      "source": [
        "breakaway.index"
      ],
      "outputs": [
        {
          "output_type": "execute_result",
          "execution_count": 11,
          "data": {
            "text/plain": "DatetimeIndex(['2020-05-04'], dtype='datetime64[ns]', name='Date', freq=None)"
          },
          "metadata": {}
        }
      ],
      "execution_count": 11,
      "metadata": {
        "collapsed": true,
        "jupyter": {
          "source_hidden": false,
          "outputs_hidden": false
        },
        "nteract": {
          "transient": {
            "deleting": false
          }
        },
        "execution": {
          "iopub.status.busy": "2021-10-12T01:54:21.566Z",
          "iopub.execute_input": "2021-10-12T01:54:21.571Z",
          "iopub.status.idle": "2021-10-12T01:54:21.583Z",
          "shell.execute_reply": "2021-10-12T01:54:21.643Z"
        }
      }
    },
    {
      "cell_type": "code",
      "source": [
        "df"
      ],
      "outputs": [
        {
          "output_type": "execute_result",
          "execution_count": 12,
          "data": {
            "text/plain": "                   Open         High          Low        Close    Adj Close  \\\nDate                                                                          \n2020-01-01   927.000000   929.000000   913.549988   923.799988   879.139771   \n2020-01-02   923.799988   926.500000   890.500000   894.049988   850.828003   \n2020-01-03   894.000000   900.799988   878.450012   883.700012   840.978394   \n2020-01-06   883.000000   883.000000   868.049988   875.200012   832.889343   \n2020-01-07   878.000000   898.599976   877.049988   885.799988   842.976807   \n...                 ...          ...          ...          ...          ...   \n2021-10-05  3093.899902  3152.000000  3034.800049  3141.300049  3141.300049   \n2021-10-06  3163.300049  3165.000000  3081.000000  3111.600098  3111.600098   \n2021-10-07  3141.649902  3259.000000  3125.000000  3186.199951  3186.199951   \n2021-10-08  3187.000000  3312.800049  3180.149902  3247.649902  3247.649902   \n2021-10-11  3185.000000  3200.000000  2945.550049  3104.800049  3104.800049   \n\n             Volume  breakaway  \nDate                            \n2020-01-01   131875          0  \n2020-01-02   360884          0  \n2020-01-03   235166          0  \n2020-01-06    99636          0  \n2020-01-07   781520          0  \n...             ...        ...  \n2021-10-05   610635          0  \n2021-10-06   598884          0  \n2021-10-07   740158          0  \n2021-10-08   772354          0  \n2021-10-11  1294814          0  \n\n[442 rows x 7 columns]",
            "text/html": "<div>\n<style scoped>\n    .dataframe tbody tr th:only-of-type {\n        vertical-align: middle;\n    }\n\n    .dataframe tbody tr th {\n        vertical-align: top;\n    }\n\n    .dataframe thead th {\n        text-align: right;\n    }\n</style>\n<table border=\"1\" class=\"dataframe\">\n  <thead>\n    <tr style=\"text-align: right;\">\n      <th></th>\n      <th>Open</th>\n      <th>High</th>\n      <th>Low</th>\n      <th>Close</th>\n      <th>Adj Close</th>\n      <th>Volume</th>\n      <th>breakaway</th>\n    </tr>\n    <tr>\n      <th>Date</th>\n      <th></th>\n      <th></th>\n      <th></th>\n      <th></th>\n      <th></th>\n      <th></th>\n      <th></th>\n    </tr>\n  </thead>\n  <tbody>\n    <tr>\n      <th>2020-01-01</th>\n      <td>927.000000</td>\n      <td>929.000000</td>\n      <td>913.549988</td>\n      <td>923.799988</td>\n      <td>879.139771</td>\n      <td>131875</td>\n      <td>0</td>\n    </tr>\n    <tr>\n      <th>2020-01-02</th>\n      <td>923.799988</td>\n      <td>926.500000</td>\n      <td>890.500000</td>\n      <td>894.049988</td>\n      <td>850.828003</td>\n      <td>360884</td>\n      <td>0</td>\n    </tr>\n    <tr>\n      <th>2020-01-03</th>\n      <td>894.000000</td>\n      <td>900.799988</td>\n      <td>878.450012</td>\n      <td>883.700012</td>\n      <td>840.978394</td>\n      <td>235166</td>\n      <td>0</td>\n    </tr>\n    <tr>\n      <th>2020-01-06</th>\n      <td>883.000000</td>\n      <td>883.000000</td>\n      <td>868.049988</td>\n      <td>875.200012</td>\n      <td>832.889343</td>\n      <td>99636</td>\n      <td>0</td>\n    </tr>\n    <tr>\n      <th>2020-01-07</th>\n      <td>878.000000</td>\n      <td>898.599976</td>\n      <td>877.049988</td>\n      <td>885.799988</td>\n      <td>842.976807</td>\n      <td>781520</td>\n      <td>0</td>\n    </tr>\n    <tr>\n      <th>...</th>\n      <td>...</td>\n      <td>...</td>\n      <td>...</td>\n      <td>...</td>\n      <td>...</td>\n      <td>...</td>\n      <td>...</td>\n    </tr>\n    <tr>\n      <th>2021-10-05</th>\n      <td>3093.899902</td>\n      <td>3152.000000</td>\n      <td>3034.800049</td>\n      <td>3141.300049</td>\n      <td>3141.300049</td>\n      <td>610635</td>\n      <td>0</td>\n    </tr>\n    <tr>\n      <th>2021-10-06</th>\n      <td>3163.300049</td>\n      <td>3165.000000</td>\n      <td>3081.000000</td>\n      <td>3111.600098</td>\n      <td>3111.600098</td>\n      <td>598884</td>\n      <td>0</td>\n    </tr>\n    <tr>\n      <th>2021-10-07</th>\n      <td>3141.649902</td>\n      <td>3259.000000</td>\n      <td>3125.000000</td>\n      <td>3186.199951</td>\n      <td>3186.199951</td>\n      <td>740158</td>\n      <td>0</td>\n    </tr>\n    <tr>\n      <th>2021-10-08</th>\n      <td>3187.000000</td>\n      <td>3312.800049</td>\n      <td>3180.149902</td>\n      <td>3247.649902</td>\n      <td>3247.649902</td>\n      <td>772354</td>\n      <td>0</td>\n    </tr>\n    <tr>\n      <th>2021-10-11</th>\n      <td>3185.000000</td>\n      <td>3200.000000</td>\n      <td>2945.550049</td>\n      <td>3104.800049</td>\n      <td>3104.800049</td>\n      <td>1294814</td>\n      <td>0</td>\n    </tr>\n  </tbody>\n</table>\n<p>442 rows × 7 columns</p>\n</div>"
          },
          "metadata": {}
        }
      ],
      "execution_count": 12,
      "metadata": {
        "collapsed": true,
        "jupyter": {
          "source_hidden": false,
          "outputs_hidden": false
        },
        "nteract": {
          "transient": {
            "deleting": false
          }
        },
        "execution": {
          "iopub.status.busy": "2021-10-12T01:54:21.590Z",
          "iopub.execute_input": "2021-10-12T01:54:21.594Z",
          "iopub.status.idle": "2021-10-12T01:54:21.605Z",
          "shell.execute_reply": "2021-10-12T01:54:21.646Z"
        }
      }
    },
    {
      "cell_type": "code",
      "source": [
        "fig = plt.figure(figsize=(20,16))\n",
        "ax = plt.subplot(2, 1, 1)\n",
        "candlestick_ohlc(ax,dfc.values, width=0.5, colorup='g', colordown='r', alpha=1.0)\n",
        "ax.xaxis_date()\n",
        "ax.xaxis.set_major_formatter(mdates.DateFormatter('%d-%m-%Y'))\n",
        "ax.grid(True, which='both')\n",
        "ax.minorticks_on()\n",
        "axv = ax.twinx()\n",
        "ax.plot_date(df['Adj Close'].loc[df['breakaway'] !=0].index, df['Adj Close'].loc[df['breakaway'] !=0],\n",
        "                'or', # marker style 'o', color 'g'\n",
        "                fillstyle='none', # circle is not filled (with color)\n",
        "                ms=10.0) \n",
        "colors = dfc.VolumePositive.map({True: 'g', False: 'r'})\n",
        "axv.bar(dfc.Date, dfc['Volume'], color=colors, alpha=0.4)\n",
        "axv.axes.yaxis.set_ticklabels([])\n",
        "axv.set_ylim(0, 3*df.Volume.max())\n",
        "ax.set_title('Stock '+ symbol +' Closing Price')\n",
        "ax.set_ylabel('Price')"
      ],
      "outputs": [
        {
          "output_type": "execute_result",
          "execution_count": 13,
          "data": {
            "text/plain": "Text(0, 0.5, 'Price')"
          },
          "metadata": {}
        },
        {
          "output_type": "display_data",
          "data": {
            "text/plain": "<Figure size 1440x1152 with 2 Axes>",
            "image/png": "[encoded data removed]"
          },
          "metadata": {
            "needs_background": "light"
          }
        }
      ],
      "execution_count": 13,
      "metadata": {
        "collapsed": true,
        "jupyter": {
          "source_hidden": false,
          "outputs_hidden": false
        },
        "nteract": {
          "transient": {
            "deleting": false
          }
        },
        "execution": {
          "iopub.status.busy": "2021-10-12T01:54:21.612Z",
          "iopub.execute_input": "2021-10-12T01:54:21.617Z",
          "iopub.status.idle": "2021-10-12T01:54:23.234Z",
          "shell.execute_reply": "2021-10-12T01:54:23.268Z"
        }
      }
    },
    {
      "cell_type": "markdown",
      "source": [
        "## Plot Certain dates"
      ],
      "metadata": {
        "nteract": {
          "transient": {
            "deleting": false
          }
        }
      }
    },
    {
      "cell_type": "code",
      "source": [
        "df = df['2020-05-01':'2020-06-01']\n",
        "dfc = df.copy()\n",
        "dfc['VolumePositive'] = dfc['Open'] < dfc['Adj Close']\n",
        "#dfc = dfc.dropna()\n",
        "dfc = dfc.reset_index()\n",
        "dfc['Date'] = pd.to_datetime(dfc['Date'])\n",
        "dfc['Date'] = dfc['Date'].apply(mdates.date2num)\n",
        "dfc.head()"
      ],
      "outputs": [
        {
          "output_type": "execute_result",
          "execution_count": 14,
          "data": {
            "text/plain": "       Date        Open        High         Low       Close   Adj Close  \\\n0  737549.0  718.000000  723.500000  692.549988  700.799988  666.920471   \n1  737550.0  710.000000  733.299988  706.700012  714.549988  680.005737   \n2  737551.0  710.200012  747.950012  700.799988  742.000000  706.128723   \n3  737552.0  748.000000  773.950012  747.650024  755.049988  718.547852   \n4  737553.0  761.099976  763.150024  735.000000  739.900024  704.130249   \n\n   Volume  breakaway  VolumePositive  \n0  743300       -100           False  \n1  122534          0           False  \n2  272043          0           False  \n3  340244          0           False  \n4   91859          0           False  ",
            "text/html": "<div>\n<style scoped>\n    .dataframe tbody tr th:only-of-type {\n        vertical-align: middle;\n    }\n\n    .dataframe tbody tr th {\n        vertical-align: top;\n    }\n\n    .dataframe thead th {\n        text-align: right;\n    }\n</style>\n<table border=\"1\" class=\"dataframe\">\n  <thead>\n    <tr style=\"text-align: right;\">\n      <th></th>\n      <th>Date</th>\n      <th>Open</th>\n      <th>High</th>\n      <th>Low</th>\n      <th>Close</th>\n      <th>Adj Close</th>\n      <th>Volume</th>\n      <th>breakaway</th>\n      <th>VolumePositive</th>\n    </tr>\n  </thead>\n  <tbody>\n    <tr>\n      <th>0</th>\n      <td>737549.0</td>\n      <td>718.000000</td>\n      <td>723.500000</td>\n      <td>692.549988</td>\n      <td>700.799988</td>\n      <td>666.920471</td>\n      <td>743300</td>\n      <td>-100</td>\n      <td>False</td>\n    </tr>\n    <tr>\n      <th>1</th>\n      <td>737550.0</td>\n      <td>710.000000</td>\n      <td>733.299988</td>\n      <td>706.700012</td>\n      <td>714.549988</td>\n      <td>680.005737</td>\n      <td>122534</td>\n      <td>0</td>\n      <td>False</td>\n    </tr>\n    <tr>\n      <th>2</th>\n      <td>737551.0</td>\n      <td>710.200012</td>\n      <td>747.950012</td>\n      <td>700.799988</td>\n      <td>742.000000</td>\n      <td>706.128723</td>\n      <td>272043</td>\n      <td>0</td>\n      <td>False</td>\n    </tr>\n    <tr>\n      <th>3</th>\n      <td>737552.0</td>\n      <td>748.000000</td>\n      <td>773.950012</td>\n      <td>747.650024</td>\n      <td>755.049988</td>\n      <td>718.547852</td>\n      <td>340244</td>\n      <td>0</td>\n      <td>False</td>\n    </tr>\n    <tr>\n      <th>4</th>\n      <td>737553.0</td>\n      <td>761.099976</td>\n      <td>763.150024</td>\n      <td>735.000000</td>\n      <td>739.900024</td>\n      <td>704.130249</td>\n      <td>91859</td>\n      <td>0</td>\n      <td>False</td>\n    </tr>\n  </tbody>\n</table>\n</div>"
          },
          "metadata": {}
        }
      ],
      "execution_count": 14,
      "metadata": {
        "collapsed": true,
        "jupyter": {
          "source_hidden": false,
          "outputs_hidden": false
        },
        "nteract": {
          "transient": {
            "deleting": false
          }
        },
        "execution": {
          "iopub.status.busy": "2021-10-12T01:54:23.243Z",
          "iopub.execute_input": "2021-10-12T01:54:23.249Z",
          "iopub.status.idle": "2021-10-12T01:54:23.262Z",
          "shell.execute_reply": "2021-10-12T01:54:23.271Z"
        }
      }
    },
    {
      "cell_type": "code",
      "source": [
        "fig = plt.figure(figsize=(20,16))\n",
        "ax = plt.subplot(2, 1, 1)\n",
        "ax.set_facecolor('pink')\n",
        "candlestick_ohlc(ax,dfc.values, width=0.5, colorup='g', colordown='r', alpha=1.0)\n",
        "ax.xaxis_date()\n",
        "ax.xaxis.set_major_formatter(mdates.DateFormatter('%d-%m-%Y'))\n",
        "#ax.grid(True, which='both')\n",
        "#ax.minorticks_on()\n",
        "axv = ax.twinx()\n",
        "ax.plot_date(df['Adj Close'].loc[df['breakaway'] !=0].index, df['Adj Close'].loc[df['breakaway'] !=0],\n",
        "                'or', # marker style 'o', color 'g'\n",
        "                fillstyle='none', # circle is not filled (with color)\n",
        "                ms=30.0) \n",
        "colors = dfc.VolumePositive.map({True: 'g', False: 'r'})\n",
        "axv.bar(dfc.Date, dfc['Volume'], color=colors, alpha=0.4)\n",
        "axv.axes.yaxis.set_ticklabels([])\n",
        "axv.set_ylim(0, 3*df.Volume.max())\n",
        "ax.set_title('Stock '+ symbol +' Closing Price')\n",
        "ax.set_ylabel('Price')"
      ],
      "outputs": [
        {
          "output_type": "execute_result",
          "execution_count": 23,
          "data": {
            "text/plain": "Text(0, 0.5, 'Price')"
          },
          "metadata": {}
        },
        {
          "output_type": "display_data",
          "data": {
            "text/plain": "<Figure size 1440x1152 with 2 Axes>",
            "image/png": "[encoded data removed]"
          },
          "metadata": {
            "needs_background": "light"
          }
        }
      ],
      "execution_count": 23,
      "metadata": {
        "collapsed": true,
        "jupyter": {
          "source_hidden": false,
          "outputs_hidden": false
        },
        "nteract": {
          "transient": {
            "deleting": false
          }
        },
        "execution": {
          "iopub.status.busy": "2021-10-12T01:56:59.812Z",
          "iopub.execute_input": "2021-10-12T01:56:59.819Z",
          "iopub.status.idle": "2021-10-12T01:57:00.100Z",
          "shell.execute_reply": "2021-10-12T01:57:00.111Z"
        }
      }
    },
    {
      "cell_type": "markdown",
      "source": [
        "# Highlight Candlestick"
      ],
      "metadata": {
        "nteract": {
          "transient": {
            "deleting": false
          }
        }
      }
    },
    {
      "cell_type": "code",
      "source": [
        "from matplotlib.dates import date2num\n",
        "from datetime import datetime\n",
        "\n",
        "fig = plt.figure(figsize=(20,16))\n",
        "ax = plt.subplot(2, 1, 1)\n",
        "candlestick_ohlc(ax,dfc.values, width=0.5, colorup='g', colordown='r', alpha=1.0)\n",
        "ax.xaxis_date()\n",
        "ax.xaxis.set_major_formatter(mdates.DateFormatter('%d-%m-%Y'))\n",
        "#ax.grid(True, which='both')\n",
        "#ax.minorticks_on()\n",
        "axv = ax.twinx()\n",
        "ax.axvspan(date2num(datetime(2020,5,4)), date2num(datetime(2020,5,5)), \n",
        "           label=\"breakaway\",color=\"red\", alpha=0.3)\n",
        "ax.legend(loc='upper center')\n",
        "colors = dfc.VolumePositive.map({True: 'g', False: 'r'})\n",
        "axv.bar(dfc.Date, dfc['Volume'], color=colors, alpha=0.4)\n",
        "axv.axes.yaxis.set_ticklabels([])\n",
        "axv.set_ylim(0, 3*df.Volume.max())\n",
        "ax.set_title('Stock '+ symbol +' Closing Price')\n",
        "ax.set_ylabel('Price')"
      ],
      "outputs": [
        {
          "output_type": "execute_result",
          "execution_count": 16,
          "data": {
            "text/plain": "Text(0, 0.5, 'Price')"
          },
          "metadata": {}
        },
        {
          "output_type": "display_data",
          "data": {
            "text/plain": "<Figure size 1440x1152 with 2 Axes>",
            "image/png": "[encoded data removed]"
          },
          "metadata": {
            "needs_background": "light"
          }
        }
      ],
      "execution_count": 16,
      "metadata": {
        "collapsed": true,
        "jupyter": {
          "source_hidden": false,
          "outputs_hidden": false
        },
        "nteract": {
          "transient": {
            "deleting": false
          }
        },
        "execution": {
          "iopub.status.busy": "2021-10-12T01:54:23.540Z",
          "iopub.execute_input": "2021-10-12T01:54:23.545Z",
          "iopub.status.idle": "2021-10-12T01:54:23.798Z",
          "shell.execute_reply": "2021-10-12T01:54:23.804Z"
        }
      }
    }
  ],
  "metadata": {
    "kernel_info": {
      "name": "python3"
    },
    "language_info": {
      "name": "python",
      "version": "3.6.13",
      "mimetype": "text/x-python",
      "codemirror_mode": {
        "name": "ipython",
        "version": 3
      },
      "pygments_lexer": "ipython3",
      "nbconvert_exporter": "python",
      "file_extension": ".py"
    },
    "kernelspec": {
      "name": "python3",
      "language": "python",
      "display_name": "Python 3"
    },
    "nteract": {
      "version": "0.28.0"
    }
  },
  "nbformat": 4,
  "nbformat_minor": 4
}