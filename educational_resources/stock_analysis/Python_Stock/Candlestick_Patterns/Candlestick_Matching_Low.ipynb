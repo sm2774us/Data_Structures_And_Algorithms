{
  "cells": [
    {
      "cell_type": "markdown",
      "source": [
        "# Candlestick Matching Low"
      ],
      "metadata": {}
    },
    {
      "cell_type": "markdown",
      "source": [
        "https://www.investopedia.com/terms/m/matching-low.asp"
      ],
      "metadata": {}
    },
    {
      "cell_type": "code",
      "source": [
        "import numpy as np\n",
        "import pandas as pd\n",
        "import matplotlib.pyplot as plt\n",
        "import talib\n",
        "\n",
        "import warnings\n",
        "warnings.filterwarnings(\"ignore\")\n",
        "\n",
        "# yahoo finance is used to fetch data \n",
        "import yfinance as yf\n",
        "yf.pdr_override()"
      ],
      "outputs": [],
      "execution_count": 1,
      "metadata": {
        "collapsed": false,
        "outputHidden": false,
        "inputHidden": false,
        "execution": {
          "iopub.status.busy": "2021-10-24T01:54:06.711Z",
          "iopub.execute_input": "2021-10-24T01:54:06.717Z",
          "iopub.status.idle": "2021-10-24T01:54:06.724Z",
          "shell.execute_reply": "2021-10-24T01:54:06.654Z"
        }
      }
    },
    {
      "cell_type": "code",
      "source": [
        "# input\n",
        "symbol = 'ETSY'\n",
        "start = '2021-01-01'\n",
        "end = '2021-10-22'\n",
        "\n",
        "# Read data \n",
        "df = yf.download(symbol,start,end)\n",
        "\n",
        "# View Columns\n",
        "df.head()"
      ],
      "outputs": [
        {
          "output_type": "stream",
          "name": "stdout",
          "text": [
            "[*********************100%***********************]  1 of 1 completed\n"
          ]
        },
        {
          "output_type": "execute_result",
          "execution_count": 2,
          "data": {
            "text/plain": "                  Open        High         Low       Close   Adj Close  \\\nDate                                                                     \n2021-01-04  179.520004  181.600006  168.251999  172.080002  172.080002   \n2021-01-05  170.190002  175.770004  169.061996  174.979996  174.979996   \n2021-01-06  172.110001  173.160004  166.330002  167.570007  167.570007   \n2021-01-07  170.300003  173.500000  167.250000  170.789993  170.789993   \n2021-01-08  172.910004  179.729996  171.759995  175.649994  175.649994   \n\n             Volume  \nDate                 \n2021-01-04  3262000  \n2021-01-05  2168200  \n2021-01-06  2966000  \n2021-01-07  2785200  \n2021-01-08  2470400  ",
            "text/html": "<div>\n<style scoped>\n    .dataframe tbody tr th:only-of-type {\n        vertical-align: middle;\n    }\n\n    .dataframe tbody tr th {\n        vertical-align: top;\n    }\n\n    .dataframe thead th {\n        text-align: right;\n    }\n</style>\n<table border=\"1\" class=\"dataframe\">\n  <thead>\n    <tr style=\"text-align: right;\">\n      <th></th>\n      <th>Open</th>\n      <th>High</th>\n      <th>Low</th>\n      <th>Close</th>\n      <th>Adj Close</th>\n      <th>Volume</th>\n    </tr>\n    <tr>\n      <th>Date</th>\n      <th></th>\n      <th></th>\n      <th></th>\n      <th></th>\n      <th></th>\n      <th></th>\n    </tr>\n  </thead>\n  <tbody>\n    <tr>\n      <th>2021-01-04</th>\n      <td>179.520004</td>\n      <td>181.600006</td>\n      <td>168.251999</td>\n      <td>172.080002</td>\n      <td>172.080002</td>\n      <td>3262000</td>\n    </tr>\n    <tr>\n      <th>2021-01-05</th>\n      <td>170.190002</td>\n      <td>175.770004</td>\n      <td>169.061996</td>\n      <td>174.979996</td>\n      <td>174.979996</td>\n      <td>2168200</td>\n    </tr>\n    <tr>\n      <th>2021-01-06</th>\n      <td>172.110001</td>\n      <td>173.160004</td>\n      <td>166.330002</td>\n      <td>167.570007</td>\n      <td>167.570007</td>\n      <td>2966000</td>\n    </tr>\n    <tr>\n      <th>2021-01-07</th>\n      <td>170.300003</td>\n      <td>173.500000</td>\n      <td>167.250000</td>\n      <td>170.789993</td>\n      <td>170.789993</td>\n      <td>2785200</td>\n    </tr>\n    <tr>\n      <th>2021-01-08</th>\n      <td>172.910004</td>\n      <td>179.729996</td>\n      <td>171.759995</td>\n      <td>175.649994</td>\n      <td>175.649994</td>\n      <td>2470400</td>\n    </tr>\n  </tbody>\n</table>\n</div>"
          },
          "metadata": {}
        }
      ],
      "execution_count": 2,
      "metadata": {
        "collapsed": false,
        "outputHidden": false,
        "inputHidden": false,
        "execution": {
          "iopub.status.busy": "2021-10-24T01:54:06.732Z",
          "iopub.execute_input": "2021-10-24T01:54:06.738Z",
          "iopub.status.idle": "2021-10-24T01:54:07.309Z",
          "shell.execute_reply": "2021-10-24T01:54:07.347Z"
        }
      }
    },
    {
      "cell_type": "markdown",
      "source": [
        "## Candlestick with Matching Low"
      ],
      "metadata": {}
    },
    {
      "cell_type": "code",
      "source": [
        "from matplotlib import dates as mdates\n",
        "import datetime as dt\n",
        "\n",
        "dfc = df.copy()\n",
        "dfc['VolumePositive'] = dfc['Open'] < dfc['Adj Close']\n",
        "#dfc = dfc.dropna()\n",
        "dfc = dfc.reset_index()\n",
        "dfc['Date'] = pd.to_datetime(dfc['Date'])\n",
        "dfc['Date'] = dfc['Date'].apply(mdates.date2num)\n",
        "dfc.head()"
      ],
      "outputs": [
        {
          "output_type": "execute_result",
          "execution_count": 3,
          "data": {
            "text/plain": "       Date        Open        High         Low       Close   Adj Close  \\\n0  737794.0  179.520004  181.600006  168.251999  172.080002  172.080002   \n1  737795.0  170.190002  175.770004  169.061996  174.979996  174.979996   \n2  737796.0  172.110001  173.160004  166.330002  167.570007  167.570007   \n3  737797.0  170.300003  173.500000  167.250000  170.789993  170.789993   \n4  737798.0  172.910004  179.729996  171.759995  175.649994  175.649994   \n\n    Volume  VolumePositive  \n0  3262000           False  \n1  2168200            True  \n2  2966000           False  \n3  2785200            True  \n4  2470400            True  ",
            "text/html": "<div>\n<style scoped>\n    .dataframe tbody tr th:only-of-type {\n        vertical-align: middle;\n    }\n\n    .dataframe tbody tr th {\n        vertical-align: top;\n    }\n\n    .dataframe thead th {\n        text-align: right;\n    }\n</style>\n<table border=\"1\" class=\"dataframe\">\n  <thead>\n    <tr style=\"text-align: right;\">\n      <th></th>\n      <th>Date</th>\n      <th>Open</th>\n      <th>High</th>\n      <th>Low</th>\n      <th>Close</th>\n      <th>Adj Close</th>\n      <th>Volume</th>\n      <th>VolumePositive</th>\n    </tr>\n  </thead>\n  <tbody>\n    <tr>\n      <th>0</th>\n      <td>737794.0</td>\n      <td>179.520004</td>\n      <td>181.600006</td>\n      <td>168.251999</td>\n      <td>172.080002</td>\n      <td>172.080002</td>\n      <td>3262000</td>\n      <td>False</td>\n    </tr>\n    <tr>\n      <th>1</th>\n      <td>737795.0</td>\n      <td>170.190002</td>\n      <td>175.770004</td>\n      <td>169.061996</td>\n      <td>174.979996</td>\n      <td>174.979996</td>\n      <td>2168200</td>\n      <td>True</td>\n    </tr>\n    <tr>\n      <th>2</th>\n      <td>737796.0</td>\n      <td>172.110001</td>\n      <td>173.160004</td>\n      <td>166.330002</td>\n      <td>167.570007</td>\n      <td>167.570007</td>\n      <td>2966000</td>\n      <td>False</td>\n    </tr>\n    <tr>\n      <th>3</th>\n      <td>737797.0</td>\n      <td>170.300003</td>\n      <td>173.500000</td>\n      <td>167.250000</td>\n      <td>170.789993</td>\n      <td>170.789993</td>\n      <td>2785200</td>\n      <td>True</td>\n    </tr>\n    <tr>\n      <th>4</th>\n      <td>737798.0</td>\n      <td>172.910004</td>\n      <td>179.729996</td>\n      <td>171.759995</td>\n      <td>175.649994</td>\n      <td>175.649994</td>\n      <td>2470400</td>\n      <td>True</td>\n    </tr>\n  </tbody>\n</table>\n</div>"
          },
          "metadata": {}
        }
      ],
      "execution_count": 3,
      "metadata": {
        "collapsed": false,
        "outputHidden": false,
        "inputHidden": false,
        "execution": {
          "iopub.status.busy": "2021-10-24T01:54:07.318Z",
          "iopub.execute_input": "2021-10-24T01:54:07.323Z",
          "iopub.status.idle": "2021-10-24T01:54:07.358Z",
          "shell.execute_reply": "2021-10-24T01:54:07.352Z"
        }
      }
    },
    {
      "cell_type": "code",
      "source": [
        "from mplfinance.original_flavor import candlestick_ohlc\n",
        "\n",
        "fig = plt.figure(figsize=(14,10))\n",
        "ax = plt.subplot(2, 1, 1)\n",
        "candlestick_ohlc(ax,dfc.values, width=0.5, colorup='g', colordown='r', alpha=1.0)\n",
        "ax.xaxis_date()\n",
        "ax.xaxis.set_major_formatter(mdates.DateFormatter('%d-%m-%Y'))\n",
        "ax.grid(True, which='both')\n",
        "ax.minorticks_on()\n",
        "axv = ax.twinx()\n",
        "colors = dfc.VolumePositive.map({True: 'g', False: 'r'})\n",
        "axv.bar(dfc.Date, dfc['Volume'], color=colors, alpha=0.4)\n",
        "axv.axes.yaxis.set_ticklabels([])\n",
        "axv.set_ylim(0, 3*df.Volume.max())\n",
        "ax.set_title('Stock '+ symbol +' Closing Price')\n",
        "ax.set_ylabel('Price')"
      ],
      "outputs": [
        {
          "output_type": "execute_result",
          "execution_count": 4,
          "data": {
            "text/plain": "Text(0, 0.5, 'Price')"
          },
          "metadata": {}
        },
        {
          "output_type": "display_data",
          "data": {
            "text/plain": "<Figure size 1008x720 with 2 Axes>",
            "image/png": "[encoded data removed]"
          },
          "metadata": {
            "needs_background": "light"
          }
        }
      ],
      "execution_count": 4,
      "metadata": {
        "collapsed": false,
        "outputHidden": false,
        "inputHidden": false,
        "execution": {
          "iopub.status.busy": "2021-10-24T01:54:07.367Z",
          "iopub.execute_input": "2021-10-24T01:54:07.373Z",
          "iopub.status.idle": "2021-10-24T01:54:08.262Z",
          "shell.execute_reply": "2021-10-24T01:54:08.591Z"
        }
      }
    },
    {
      "cell_type": "code",
      "source": [
        "matching_low = talib.CDLMATCHINGLOW(df['Open'], df['High'], df['Low'], df['Close'])\n",
        "\n",
        "matching_low = matching_low[matching_low != 0]"
      ],
      "outputs": [],
      "execution_count": 5,
      "metadata": {
        "collapsed": true,
        "jupyter": {
          "source_hidden": false,
          "outputs_hidden": false
        },
        "nteract": {
          "transient": {
            "deleting": false
          }
        },
        "execution": {
          "iopub.status.busy": "2021-10-24T01:54:08.272Z",
          "iopub.execute_input": "2021-10-24T01:54:08.280Z",
          "iopub.status.idle": "2021-10-24T01:54:08.291Z",
          "shell.execute_reply": "2021-10-24T01:54:08.598Z"
        }
      }
    },
    {
      "cell_type": "code",
      "source": [
        "df['matching_low'] = talib.CDLMATCHINGLOW(df['Open'], df['High'], df['Low'], df['Close'])"
      ],
      "outputs": [],
      "execution_count": 6,
      "metadata": {
        "collapsed": true,
        "jupyter": {
          "source_hidden": false,
          "outputs_hidden": false
        },
        "nteract": {
          "transient": {
            "deleting": false
          }
        },
        "execution": {
          "iopub.status.busy": "2021-10-24T01:54:08.301Z",
          "iopub.execute_input": "2021-10-24T01:54:08.307Z",
          "iopub.status.idle": "2021-10-24T01:54:08.319Z",
          "shell.execute_reply": "2021-10-24T01:54:08.610Z"
        }
      }
    },
    {
      "cell_type": "code",
      "source": [
        "df.loc[df['matching_low'] !=0]"
      ],
      "outputs": [
        {
          "output_type": "execute_result",
          "execution_count": 7,
          "data": {
            "text/plain": "                  Open        High         Low       Close   Adj Close  \\\nDate                                                                     \n2021-02-11  227.102005  230.039993  223.729996  226.050003  226.050003   \n\n             Volume  matching_low  \nDate                               \n2021-02-11  1521400           100  ",
            "text/html": "<div>\n<style scoped>\n    .dataframe tbody tr th:only-of-type {\n        vertical-align: middle;\n    }\n\n    .dataframe tbody tr th {\n        vertical-align: top;\n    }\n\n    .dataframe thead th {\n        text-align: right;\n    }\n</style>\n<table border=\"1\" class=\"dataframe\">\n  <thead>\n    <tr style=\"text-align: right;\">\n      <th></th>\n      <th>Open</th>\n      <th>High</th>\n      <th>Low</th>\n      <th>Close</th>\n      <th>Adj Close</th>\n      <th>Volume</th>\n      <th>matching_low</th>\n    </tr>\n    <tr>\n      <th>Date</th>\n      <th></th>\n      <th></th>\n      <th></th>\n      <th></th>\n      <th></th>\n      <th></th>\n      <th></th>\n    </tr>\n  </thead>\n  <tbody>\n    <tr>\n      <th>2021-02-11</th>\n      <td>227.102005</td>\n      <td>230.039993</td>\n      <td>223.729996</td>\n      <td>226.050003</td>\n      <td>226.050003</td>\n      <td>1521400</td>\n      <td>100</td>\n    </tr>\n  </tbody>\n</table>\n</div>"
          },
          "metadata": {}
        }
      ],
      "execution_count": 7,
      "metadata": {
        "collapsed": true,
        "jupyter": {
          "source_hidden": false,
          "outputs_hidden": false
        },
        "nteract": {
          "transient": {
            "deleting": false
          }
        },
        "execution": {
          "iopub.status.busy": "2021-10-24T01:54:08.329Z",
          "iopub.execute_input": "2021-10-24T01:54:08.335Z",
          "iopub.status.idle": "2021-10-24T01:54:08.348Z",
          "shell.execute_reply": "2021-10-24T01:54:08.616Z"
        }
      }
    },
    {
      "cell_type": "code",
      "source": [
        "df['Adj Close'].loc[df['matching_low'] !=0]"
      ],
      "outputs": [
        {
          "output_type": "execute_result",
          "execution_count": 8,
          "data": {
            "text/plain": "Date\n2021-02-11    226.050003\nName: Adj Close, dtype: float64"
          },
          "metadata": {}
        }
      ],
      "execution_count": 8,
      "metadata": {
        "collapsed": true,
        "jupyter": {
          "source_hidden": false,
          "outputs_hidden": false
        },
        "nteract": {
          "transient": {
            "deleting": false
          }
        },
        "execution": {
          "iopub.status.busy": "2021-10-24T01:54:08.358Z",
          "iopub.execute_input": "2021-10-24T01:54:08.367Z",
          "iopub.status.idle": "2021-10-24T01:54:08.383Z",
          "shell.execute_reply": "2021-10-24T01:54:08.619Z"
        }
      }
    },
    {
      "cell_type": "code",
      "source": [
        "df['Adj Close'].loc[df['matching_low'] !=0].values"
      ],
      "outputs": [
        {
          "output_type": "execute_result",
          "execution_count": 9,
          "data": {
            "text/plain": "array([226.05000305])"
          },
          "metadata": {}
        }
      ],
      "execution_count": 9,
      "metadata": {
        "collapsed": true,
        "jupyter": {
          "source_hidden": false,
          "outputs_hidden": false
        },
        "nteract": {
          "transient": {
            "deleting": false
          }
        },
        "execution": {
          "iopub.status.busy": "2021-10-24T01:54:08.392Z",
          "iopub.execute_input": "2021-10-24T01:54:08.399Z",
          "iopub.status.idle": "2021-10-24T01:54:08.415Z",
          "shell.execute_reply": "2021-10-24T01:54:08.623Z"
        }
      }
    },
    {
      "cell_type": "code",
      "source": [
        "df['Adj Close'].loc[df['matching_low'] !=0].index"
      ],
      "outputs": [
        {
          "output_type": "execute_result",
          "execution_count": 10,
          "data": {
            "text/plain": "DatetimeIndex(['2021-02-11'], dtype='datetime64[ns]', name='Date', freq=None)"
          },
          "metadata": {}
        }
      ],
      "execution_count": 10,
      "metadata": {
        "collapsed": true,
        "jupyter": {
          "source_hidden": false,
          "outputs_hidden": false
        },
        "nteract": {
          "transient": {
            "deleting": false
          }
        },
        "execution": {
          "iopub.status.busy": "2021-10-24T01:54:08.428Z",
          "iopub.execute_input": "2021-10-24T01:54:08.434Z",
          "iopub.status.idle": "2021-10-24T01:54:08.450Z",
          "shell.execute_reply": "2021-10-24T01:54:08.628Z"
        }
      }
    },
    {
      "cell_type": "code",
      "source": [
        "matching_low"
      ],
      "outputs": [
        {
          "output_type": "execute_result",
          "execution_count": 11,
          "data": {
            "text/plain": "Date\n2021-02-11    100\ndtype: int32"
          },
          "metadata": {}
        }
      ],
      "execution_count": 11,
      "metadata": {
        "collapsed": true,
        "jupyter": {
          "source_hidden": false,
          "outputs_hidden": false
        },
        "nteract": {
          "transient": {
            "deleting": false
          }
        },
        "execution": {
          "iopub.status.busy": "2021-10-24T01:54:08.462Z",
          "iopub.execute_input": "2021-10-24T01:54:08.470Z",
          "iopub.status.idle": "2021-10-24T01:54:08.486Z",
          "shell.execute_reply": "2021-10-24T01:54:08.634Z"
        }
      }
    },
    {
      "cell_type": "code",
      "source": [
        "matching_low.index"
      ],
      "outputs": [
        {
          "output_type": "execute_result",
          "execution_count": 12,
          "data": {
            "text/plain": "DatetimeIndex(['2021-02-11'], dtype='datetime64[ns]', name='Date', freq=None)"
          },
          "metadata": {}
        }
      ],
      "execution_count": 12,
      "metadata": {
        "collapsed": true,
        "jupyter": {
          "source_hidden": false,
          "outputs_hidden": false
        },
        "nteract": {
          "transient": {
            "deleting": false
          }
        },
        "execution": {
          "iopub.status.busy": "2021-10-24T01:54:08.496Z",
          "iopub.execute_input": "2021-10-24T01:54:08.501Z",
          "iopub.status.idle": "2021-10-24T01:54:08.517Z",
          "shell.execute_reply": "2021-10-24T01:54:08.639Z"
        }
      }
    },
    {
      "cell_type": "code",
      "source": [
        "df"
      ],
      "outputs": [
        {
          "output_type": "execute_result",
          "execution_count": 13,
          "data": {
            "text/plain": "                  Open        High         Low       Close   Adj Close  \\\nDate                                                                     \n2021-01-04  179.520004  181.600006  168.251999  172.080002  172.080002   \n2021-01-05  170.190002  175.770004  169.061996  174.979996  174.979996   \n2021-01-06  172.110001  173.160004  166.330002  167.570007  167.570007   \n2021-01-07  170.300003  173.500000  167.250000  170.789993  170.789993   \n2021-01-08  172.910004  179.729996  171.759995  175.649994  175.649994   \n...                ...         ...         ...         ...         ...   \n2021-10-15  218.000000  222.080002  216.625000  221.089996  221.089996   \n2021-10-18  220.940002  230.843002  219.289993  228.000000  228.000000   \n2021-10-19  228.289993  230.149994  226.184998  226.410004  226.410004   \n2021-10-20  228.000000  233.274994  224.839996  233.119995  233.119995   \n2021-10-21  232.610001  238.725998  231.119995  235.979996  235.979996   \n\n             Volume  matching_low  \nDate                               \n2021-01-04  3262000             0  \n2021-01-05  2168200             0  \n2021-01-06  2966000             0  \n2021-01-07  2785200             0  \n2021-01-08  2470400             0  \n...             ...           ...  \n2021-10-15  1387800             0  \n2021-10-18  2519300             0  \n2021-10-19  1432400             0  \n2021-10-20  1997100             0  \n2021-10-21  1735200             0  \n\n[203 rows x 7 columns]",
            "text/html": "<div>\n<style scoped>\n    .dataframe tbody tr th:only-of-type {\n        vertical-align: middle;\n    }\n\n    .dataframe tbody tr th {\n        vertical-align: top;\n    }\n\n    .dataframe thead th {\n        text-align: right;\n    }\n</style>\n<table border=\"1\" class=\"dataframe\">\n  <thead>\n    <tr style=\"text-align: right;\">\n      <th></th>\n      <th>Open</th>\n      <th>High</th>\n      <th>Low</th>\n      <th>Close</th>\n      <th>Adj Close</th>\n      <th>Volume</th>\n      <th>matching_low</th>\n    </tr>\n    <tr>\n      <th>Date</th>\n      <th></th>\n      <th></th>\n      <th></th>\n      <th></th>\n      <th></th>\n      <th></th>\n      <th></th>\n    </tr>\n  </thead>\n  <tbody>\n    <tr>\n      <th>2021-01-04</th>\n      <td>179.520004</td>\n      <td>181.600006</td>\n      <td>168.251999</td>\n      <td>172.080002</td>\n      <td>172.080002</td>\n      <td>3262000</td>\n      <td>0</td>\n    </tr>\n    <tr>\n      <th>2021-01-05</th>\n      <td>170.190002</td>\n      <td>175.770004</td>\n      <td>169.061996</td>\n      <td>174.979996</td>\n      <td>174.979996</td>\n      <td>2168200</td>\n      <td>0</td>\n    </tr>\n    <tr>\n      <th>2021-01-06</th>\n      <td>172.110001</td>\n      <td>173.160004</td>\n      <td>166.330002</td>\n      <td>167.570007</td>\n      <td>167.570007</td>\n      <td>2966000</td>\n      <td>0</td>\n    </tr>\n    <tr>\n      <th>2021-01-07</th>\n      <td>170.300003</td>\n      <td>173.500000</td>\n      <td>167.250000</td>\n      <td>170.789993</td>\n      <td>170.789993</td>\n      <td>2785200</td>\n      <td>0</td>\n    </tr>\n    <tr>\n      <th>2021-01-08</th>\n      <td>172.910004</td>\n      <td>179.729996</td>\n      <td>171.759995</td>\n      <td>175.649994</td>\n      <td>175.649994</td>\n      <td>2470400</td>\n      <td>0</td>\n    </tr>\n    <tr>\n      <th>...</th>\n      <td>...</td>\n      <td>...</td>\n      <td>...</td>\n      <td>...</td>\n      <td>...</td>\n      <td>...</td>\n      <td>...</td>\n    </tr>\n    <tr>\n      <th>2021-10-15</th>\n      <td>218.000000</td>\n      <td>222.080002</td>\n      <td>216.625000</td>\n      <td>221.089996</td>\n      <td>221.089996</td>\n      <td>1387800</td>\n      <td>0</td>\n    </tr>\n    <tr>\n      <th>2021-10-18</th>\n      <td>220.940002</td>\n      <td>230.843002</td>\n      <td>219.289993</td>\n      <td>228.000000</td>\n      <td>228.000000</td>\n      <td>2519300</td>\n      <td>0</td>\n    </tr>\n    <tr>\n      <th>2021-10-19</th>\n      <td>228.289993</td>\n      <td>230.149994</td>\n      <td>226.184998</td>\n      <td>226.410004</td>\n      <td>226.410004</td>\n      <td>1432400</td>\n      <td>0</td>\n    </tr>\n    <tr>\n      <th>2021-10-20</th>\n      <td>228.000000</td>\n      <td>233.274994</td>\n      <td>224.839996</td>\n      <td>233.119995</td>\n      <td>233.119995</td>\n      <td>1997100</td>\n      <td>0</td>\n    </tr>\n    <tr>\n      <th>2021-10-21</th>\n      <td>232.610001</td>\n      <td>238.725998</td>\n      <td>231.119995</td>\n      <td>235.979996</td>\n      <td>235.979996</td>\n      <td>1735200</td>\n      <td>0</td>\n    </tr>\n  </tbody>\n</table>\n<p>203 rows × 7 columns</p>\n</div>"
          },
          "metadata": {}
        }
      ],
      "execution_count": 13,
      "metadata": {
        "collapsed": true,
        "jupyter": {
          "source_hidden": false,
          "outputs_hidden": false
        },
        "nteract": {
          "transient": {
            "deleting": false
          }
        },
        "execution": {
          "iopub.status.busy": "2021-10-24T01:54:08.526Z",
          "iopub.execute_input": "2021-10-24T01:54:08.533Z",
          "iopub.status.idle": "2021-10-24T01:54:08.547Z",
          "shell.execute_reply": "2021-10-24T01:54:08.644Z"
        }
      }
    },
    {
      "cell_type": "code",
      "source": [
        "fig = plt.figure(figsize=(20,16))\n",
        "ax = plt.subplot(2, 1, 1)\n",
        "candlestick_ohlc(ax,dfc.values, width=0.5, colorup='g', colordown='r', alpha=1.0)\n",
        "ax.xaxis_date()\n",
        "ax.xaxis.set_major_formatter(mdates.DateFormatter('%d-%m-%Y'))\n",
        "ax.grid(True, which='both')\n",
        "ax.minorticks_on()\n",
        "axv = ax.twinx()\n",
        "ax.plot_date(df['Adj Close'].loc[df['matching_low'] !=0].index, df['Adj Close'].loc[df['matching_low'] !=0],\n",
        "                'pk', # marker style 'o', color 'g'\n",
        "                fillstyle='none', # circle is not filled (with color)\n",
        "                ms=10.0) \n",
        "colors = dfc.VolumePositive.map({True: 'g', False: 'r'})\n",
        "axv.bar(dfc.Date, dfc['Volume'], color=colors, alpha=0.4)\n",
        "axv.axes.yaxis.set_ticklabels([])\n",
        "axv.set_ylim(0, 3*df.Volume.max())\n",
        "ax.set_title('Stock '+ symbol +' Closing Price')\n",
        "ax.set_ylabel('Price')"
      ],
      "outputs": [
        {
          "output_type": "execute_result",
          "execution_count": 14,
          "data": {
            "text/plain": "Text(0, 0.5, 'Price')"
          },
          "metadata": {}
        },
        {
          "output_type": "display_data",
          "data": {
            "text/plain": "<Figure size 1440x1152 with 2 Axes>",
            "image/png": "[encoded data removed]"
          },
          "metadata": {
            "needs_background": "light"
          }
        }
      ],
      "execution_count": 14,
      "metadata": {
        "collapsed": true,
        "jupyter": {
          "source_hidden": false,
          "outputs_hidden": false
        },
        "nteract": {
          "transient": {
            "deleting": false
          }
        },
        "execution": {
          "iopub.status.busy": "2021-10-24T01:54:08.556Z",
          "iopub.execute_input": "2021-10-24T01:54:08.562Z",
          "iopub.status.idle": "2021-10-24T01:54:09.427Z",
          "shell.execute_reply": "2021-10-24T01:54:09.418Z"
        }
      }
    },
    {
      "cell_type": "markdown",
      "source": [
        "## Plot Certain dates"
      ],
      "metadata": {
        "nteract": {
          "transient": {
            "deleting": false
          }
        }
      }
    },
    {
      "cell_type": "code",
      "source": [
        "df = df['2021-02-01':'2021-03-01']\n",
        "dfc = df.copy()\n",
        "dfc['VolumePositive'] = dfc['Open'] < dfc['Adj Close']\n",
        "#dfc = dfc.dropna()\n",
        "dfc = dfc.reset_index()\n",
        "dfc['Date'] = pd.to_datetime(dfc['Date'])\n",
        "dfc['Date'] = dfc['Date'].apply(mdates.date2num)\n",
        "dfc.head()"
      ],
      "outputs": [
        {
          "output_type": "execute_result",
          "execution_count": 15,
          "data": {
            "text/plain": "       Date        Open        High         Low       Close   Adj Close  \\\n0  737822.0  201.679993  204.615005  195.679993  203.770004  203.770004   \n1  737823.0  207.399994  213.423996  206.347000  210.289993  210.289993   \n2  737824.0  211.759995  215.160004  208.018997  210.070007  210.070007   \n3  737825.0  211.699997  221.957993  211.699997  220.839996  220.839996   \n4  737826.0  222.000000  239.470001  220.320007  231.119995  231.119995   \n\n    Volume  matching_low  VolumePositive  \n0  1800700             0            True  \n1  1976300             0            True  \n2  1727000             0           False  \n3  3185600             0            True  \n4  3817600             0            True  ",
            "text/html": "<div>\n<style scoped>\n    .dataframe tbody tr th:only-of-type {\n        vertical-align: middle;\n    }\n\n    .dataframe tbody tr th {\n        vertical-align: top;\n    }\n\n    .dataframe thead th {\n        text-align: right;\n    }\n</style>\n<table border=\"1\" class=\"dataframe\">\n  <thead>\n    <tr style=\"text-align: right;\">\n      <th></th>\n      <th>Date</th>\n      <th>Open</th>\n      <th>High</th>\n      <th>Low</th>\n      <th>Close</th>\n      <th>Adj Close</th>\n      <th>Volume</th>\n      <th>matching_low</th>\n      <th>VolumePositive</th>\n    </tr>\n  </thead>\n  <tbody>\n    <tr>\n      <th>0</th>\n      <td>737822.0</td>\n      <td>201.679993</td>\n      <td>204.615005</td>\n      <td>195.679993</td>\n      <td>203.770004</td>\n      <td>203.770004</td>\n      <td>1800700</td>\n      <td>0</td>\n      <td>True</td>\n    </tr>\n    <tr>\n      <th>1</th>\n      <td>737823.0</td>\n      <td>207.399994</td>\n      <td>213.423996</td>\n      <td>206.347000</td>\n      <td>210.289993</td>\n      <td>210.289993</td>\n      <td>1976300</td>\n      <td>0</td>\n      <td>True</td>\n    </tr>\n    <tr>\n      <th>2</th>\n      <td>737824.0</td>\n      <td>211.759995</td>\n      <td>215.160004</td>\n      <td>208.018997</td>\n      <td>210.070007</td>\n      <td>210.070007</td>\n      <td>1727000</td>\n      <td>0</td>\n      <td>False</td>\n    </tr>\n    <tr>\n      <th>3</th>\n      <td>737825.0</td>\n      <td>211.699997</td>\n      <td>221.957993</td>\n      <td>211.699997</td>\n      <td>220.839996</td>\n      <td>220.839996</td>\n      <td>3185600</td>\n      <td>0</td>\n      <td>True</td>\n    </tr>\n    <tr>\n      <th>4</th>\n      <td>737826.0</td>\n      <td>222.000000</td>\n      <td>239.470001</td>\n      <td>220.320007</td>\n      <td>231.119995</td>\n      <td>231.119995</td>\n      <td>3817600</td>\n      <td>0</td>\n      <td>True</td>\n    </tr>\n  </tbody>\n</table>\n</div>"
          },
          "metadata": {}
        }
      ],
      "execution_count": 15,
      "metadata": {
        "collapsed": true,
        "jupyter": {
          "source_hidden": false,
          "outputs_hidden": false
        },
        "nteract": {
          "transient": {
            "deleting": false
          }
        },
        "execution": {
          "iopub.status.busy": "2021-10-24T01:54:09.437Z",
          "iopub.execute_input": "2021-10-24T01:54:09.443Z",
          "iopub.status.idle": "2021-10-24T01:54:09.460Z",
          "shell.execute_reply": "2021-10-24T01:54:09.493Z"
        }
      }
    },
    {
      "cell_type": "code",
      "source": [
        "fig = plt.figure(figsize=(20,16))\n",
        "ax = plt.subplot(2, 1, 1)\n",
        "ax.set_facecolor('cornflowerblue')\n",
        "candlestick_ohlc(ax,dfc.values, width=0.5, colorup='mediumblue', colordown='darkorchid', alpha=1.0)\n",
        "ax.xaxis_date()\n",
        "ax.xaxis.set_major_formatter(mdates.DateFormatter('%d-%m-%Y'))\n",
        "#ax.grid(True, which='both')\n",
        "#ax.minorticks_on()\n",
        "axv = ax.twinx()\n",
        "ax.plot_date(df['Adj Close'].loc[df['matching_low'] !=0].index, df['Adj Close'].loc[df['matching_low'] !=0],\n",
        "                'pw', # marker style 'o', color 'g'\n",
        "                fillstyle='none', # circle is not filled (with color)\n",
        "                ms=25.0) \n",
        "colors = dfc.VolumePositive.map({True: 'mediumblue', False: 'darkorchid'})\n",
        "axv.bar(dfc.Date, dfc['Volume'], color=colors, alpha=0.4)\n",
        "axv.axes.yaxis.set_ticklabels([])\n",
        "axv.set_ylim(0, 3*df.Volume.max())\n",
        "ax.set_title('Stock '+ symbol +' Closing Price')\n",
        "ax.set_ylabel('Price')"
      ],
      "outputs": [
        {
          "output_type": "execute_result",
          "execution_count": 16,
          "data": {
            "text/plain": "Text(0, 0.5, 'Price')"
          },
          "metadata": {}
        },
        {
          "output_type": "display_data",
          "data": {
            "text/plain": "<Figure size 1440x1152 with 2 Axes>",
            "image/png": "[encoded data removed]"
          },
          "metadata": {
            "needs_background": "light"
          }
        }
      ],
      "execution_count": 16,
      "metadata": {
        "collapsed": true,
        "jupyter": {
          "source_hidden": false,
          "outputs_hidden": false
        },
        "nteract": {
          "transient": {
            "deleting": false
          }
        },
        "execution": {
          "iopub.status.busy": "2021-10-24T01:54:09.469Z",
          "iopub.execute_input": "2021-10-24T01:54:09.475Z",
          "iopub.status.idle": "2021-10-24T01:54:09.725Z",
          "shell.execute_reply": "2021-10-24T01:54:09.752Z"
        }
      }
    },
    {
      "cell_type": "markdown",
      "source": [
        "# Highlight Candlestick"
      ],
      "metadata": {
        "nteract": {
          "transient": {
            "deleting": false
          }
        }
      }
    },
    {
      "cell_type": "code",
      "source": [
        "from matplotlib.dates import date2num\n",
        "from datetime import datetime\n",
        "\n",
        "fig = plt.figure(figsize=(20,16))\n",
        "ax = plt.subplot(2, 1, 1)\n",
        "candlestick_ohlc(ax,dfc.values, width=0.5, colorup='g', colordown='r', alpha=1.0)\n",
        "ax.xaxis_date()\n",
        "ax.xaxis.set_major_formatter(mdates.DateFormatter('%d-%m-%Y'))\n",
        "#ax.grid(True, which='both')\n",
        "#ax.minorticks_on()\n",
        "axv = ax.twinx()\n",
        "ax.axvspan(date2num(datetime(2021,2,10)), date2num(datetime(2021,2,11)), \n",
        "           label=\"Matching Low Bullish\",color=\"blue\", alpha=0.3)\n",
        "ax.hlines(y=df['Adj Close'].loc[df['matching_low'] !=0].values, color='r', linestyle='-', xmin=pd.to_datetime('2021-02-01'), xmax=pd.to_datetime('2021-03-01'))\n",
        "ax.legend()\n",
        "colors = dfc.VolumePositive.map({True: 'g', False: 'r'})\n",
        "axv.bar(dfc.Date, dfc['Volume'], color=colors, alpha=0.4)\n",
        "axv.axes.yaxis.set_ticklabels([])\n",
        "axv.set_ylim(0, 3*df.Volume.max())\n",
        "ax.set_title('Stock '+ symbol +' Closing Price')\n",
        "ax.set_ylabel('Price')"
      ],
      "outputs": [
        {
          "output_type": "execute_result",
          "execution_count": 17,
          "data": {
            "text/plain": "Text(0, 0.5, 'Price')"
          },
          "metadata": {}
        },
        {
          "output_type": "display_data",
          "data": {
            "text/plain": "<Figure size 1440x1152 with 2 Axes>",
            "image/png": "[encoded data removed]"
          },
          "metadata": {
            "needs_background": "light"
          }
        }
      ],
      "execution_count": 17,
      "metadata": {
        "collapsed": true,
        "jupyter": {
          "source_hidden": false,
          "outputs_hidden": false
        },
        "nteract": {
          "transient": {
            "deleting": false
          }
        },
        "execution": {
          "iopub.status.busy": "2021-10-24T01:54:09.736Z",
          "iopub.execute_input": "2021-10-24T01:54:09.743Z",
          "iopub.status.idle": "2021-10-24T01:54:10.019Z",
          "shell.execute_reply": "2021-10-24T01:54:10.012Z"
        }
      }
    }
  ],
  "metadata": {
    "kernel_info": {
      "name": "python3"
    },
    "language_info": {
      "name": "python",
      "version": "3.6.13",
      "mimetype": "text/x-python",
      "codemirror_mode": {
        "name": "ipython",
        "version": 3
      },
      "pygments_lexer": "ipython3",
      "nbconvert_exporter": "python",
      "file_extension": ".py"
    },
    "kernelspec": {
      "name": "python3",
      "language": "python",
      "display_name": "Python 3"
    },
    "nteract": {
      "version": "0.28.0"
    }
  },
  "nbformat": 4,
  "nbformat_minor": 4
}