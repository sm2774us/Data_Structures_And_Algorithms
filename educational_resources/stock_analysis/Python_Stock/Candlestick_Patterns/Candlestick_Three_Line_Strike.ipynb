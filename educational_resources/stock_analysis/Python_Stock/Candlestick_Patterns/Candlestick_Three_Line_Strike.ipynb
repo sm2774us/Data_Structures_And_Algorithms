{
  "cells": [
    {
      "cell_type": "markdown",
      "source": [
        "# Candlestick Three Line Strike"
      ],
      "metadata": {}
    },
    {
      "cell_type": "markdown",
      "source": [
        "https://www.investopedia.com/terms/t/three-inside-updown.asp"
      ],
      "metadata": {}
    },
    {
      "cell_type": "code",
      "source": [
        "import numpy as np\n",
        "import pandas as pd\n",
        "import matplotlib.pyplot as plt\n",
        "import talib\n",
        "\n",
        "import warnings\n",
        "warnings.filterwarnings(\"ignore\")\n",
        "\n",
        "# yahoo finance is used to fetch data \n",
        "import yfinance as yf\n",
        "yf.pdr_override()"
      ],
      "outputs": [],
      "execution_count": 1,
      "metadata": {
        "collapsed": false,
        "outputHidden": false,
        "inputHidden": false,
        "execution": {
          "iopub.status.busy": "2021-10-11T01:56:20.488Z",
          "iopub.execute_input": "2021-10-11T01:56:20.493Z",
          "iopub.status.idle": "2021-10-11T01:56:20.516Z",
          "shell.execute_reply": "2021-10-11T01:56:20.508Z"
        }
      }
    },
    {
      "cell_type": "code",
      "source": [
        "# input\n",
        "symbol = 'ETSY'\n",
        "start = '2020-01-01'\n",
        "end = '2021-10-08'\n",
        "\n",
        "# Read data \n",
        "df = yf.download(symbol,start,end)\n",
        "\n",
        "# View Columns\n",
        "df.head()"
      ],
      "outputs": [
        {
          "output_type": "stream",
          "name": "stdout",
          "text": [
            "[*********************100%***********************]  1 of 1 completed\n"
          ]
        },
        {
          "output_type": "execute_result",
          "execution_count": 2,
          "data": {
            "text/plain": "                 Open       High        Low      Close  Adj Close   Volume\nDate                                                                      \n2020-01-02  44.709999  45.610001  44.709999  45.189999  45.189999  2152300\n2020-01-03  44.500000  45.320000  44.020000  44.900002  44.900002  2109800\n2020-01-06  44.669998  45.189999  44.360001  44.834999  44.834999  2077100\n2020-01-07  45.000000  46.119999  44.900002  45.779999  45.779999  1945500\n2020-01-08  45.840000  46.619999  44.875000  45.005001  45.005001  3222700",
            "text/html": "<div>\n<style scoped>\n    .dataframe tbody tr th:only-of-type {\n        vertical-align: middle;\n    }\n\n    .dataframe tbody tr th {\n        vertical-align: top;\n    }\n\n    .dataframe thead th {\n        text-align: right;\n    }\n</style>\n<table border=\"1\" class=\"dataframe\">\n  <thead>\n    <tr style=\"text-align: right;\">\n      <th></th>\n      <th>Open</th>\n      <th>High</th>\n      <th>Low</th>\n      <th>Close</th>\n      <th>Adj Close</th>\n      <th>Volume</th>\n    </tr>\n    <tr>\n      <th>Date</th>\n      <th></th>\n      <th></th>\n      <th></th>\n      <th></th>\n      <th></th>\n      <th></th>\n    </tr>\n  </thead>\n  <tbody>\n    <tr>\n      <th>2020-01-02</th>\n      <td>44.709999</td>\n      <td>45.610001</td>\n      <td>44.709999</td>\n      <td>45.189999</td>\n      <td>45.189999</td>\n      <td>2152300</td>\n    </tr>\n    <tr>\n      <th>2020-01-03</th>\n      <td>44.500000</td>\n      <td>45.320000</td>\n      <td>44.020000</td>\n      <td>44.900002</td>\n      <td>44.900002</td>\n      <td>2109800</td>\n    </tr>\n    <tr>\n      <th>2020-01-06</th>\n      <td>44.669998</td>\n      <td>45.189999</td>\n      <td>44.360001</td>\n      <td>44.834999</td>\n      <td>44.834999</td>\n      <td>2077100</td>\n    </tr>\n    <tr>\n      <th>2020-01-07</th>\n      <td>45.000000</td>\n      <td>46.119999</td>\n      <td>44.900002</td>\n      <td>45.779999</td>\n      <td>45.779999</td>\n      <td>1945500</td>\n    </tr>\n    <tr>\n      <th>2020-01-08</th>\n      <td>45.840000</td>\n      <td>46.619999</td>\n      <td>44.875000</td>\n      <td>45.005001</td>\n      <td>45.005001</td>\n      <td>3222700</td>\n    </tr>\n  </tbody>\n</table>\n</div>"
          },
          "metadata": {}
        }
      ],
      "execution_count": 2,
      "metadata": {
        "collapsed": false,
        "outputHidden": false,
        "inputHidden": false,
        "execution": {
          "iopub.status.busy": "2021-10-11T01:56:20.524Z",
          "iopub.execute_input": "2021-10-11T01:56:20.528Z",
          "iopub.status.idle": "2021-10-11T01:56:21.195Z",
          "shell.execute_reply": "2021-10-11T01:56:21.248Z"
        }
      }
    },
    {
      "cell_type": "markdown",
      "source": [
        "## Candlestick with Three Line Strike"
      ],
      "metadata": {}
    },
    {
      "cell_type": "code",
      "source": [
        "from matplotlib import dates as mdates\n",
        "import datetime as dt\n",
        "\n",
        "dfc = df.copy()\n",
        "dfc['VolumePositive'] = dfc['Open'] < dfc['Adj Close']\n",
        "#dfc = dfc.dropna()\n",
        "dfc = dfc.reset_index()\n",
        "dfc['Date'] = pd.to_datetime(dfc['Date'])\n",
        "dfc['Date'] = dfc['Date'].apply(mdates.date2num)\n",
        "dfc.head()"
      ],
      "outputs": [
        {
          "output_type": "execute_result",
          "execution_count": 3,
          "data": {
            "text/plain": "       Date       Open       High        Low      Close  Adj Close   Volume  \\\n0  737426.0  44.709999  45.610001  44.709999  45.189999  45.189999  2152300   \n1  737427.0  44.500000  45.320000  44.020000  44.900002  44.900002  2109800   \n2  737430.0  44.669998  45.189999  44.360001  44.834999  44.834999  2077100   \n3  737431.0  45.000000  46.119999  44.900002  45.779999  45.779999  1945500   \n4  737432.0  45.840000  46.619999  44.875000  45.005001  45.005001  3222700   \n\n   VolumePositive  \n0            True  \n1            True  \n2            True  \n3            True  \n4           False  ",
            "text/html": "<div>\n<style scoped>\n    .dataframe tbody tr th:only-of-type {\n        vertical-align: middle;\n    }\n\n    .dataframe tbody tr th {\n        vertical-align: top;\n    }\n\n    .dataframe thead th {\n        text-align: right;\n    }\n</style>\n<table border=\"1\" class=\"dataframe\">\n  <thead>\n    <tr style=\"text-align: right;\">\n      <th></th>\n      <th>Date</th>\n      <th>Open</th>\n      <th>High</th>\n      <th>Low</th>\n      <th>Close</th>\n      <th>Adj Close</th>\n      <th>Volume</th>\n      <th>VolumePositive</th>\n    </tr>\n  </thead>\n  <tbody>\n    <tr>\n      <th>0</th>\n      <td>737426.0</td>\n      <td>44.709999</td>\n      <td>45.610001</td>\n      <td>44.709999</td>\n      <td>45.189999</td>\n      <td>45.189999</td>\n      <td>2152300</td>\n      <td>True</td>\n    </tr>\n    <tr>\n      <th>1</th>\n      <td>737427.0</td>\n      <td>44.500000</td>\n      <td>45.320000</td>\n      <td>44.020000</td>\n      <td>44.900002</td>\n      <td>44.900002</td>\n      <td>2109800</td>\n      <td>True</td>\n    </tr>\n    <tr>\n      <th>2</th>\n      <td>737430.0</td>\n      <td>44.669998</td>\n      <td>45.189999</td>\n      <td>44.360001</td>\n      <td>44.834999</td>\n      <td>44.834999</td>\n      <td>2077100</td>\n      <td>True</td>\n    </tr>\n    <tr>\n      <th>3</th>\n      <td>737431.0</td>\n      <td>45.000000</td>\n      <td>46.119999</td>\n      <td>44.900002</td>\n      <td>45.779999</td>\n      <td>45.779999</td>\n      <td>1945500</td>\n      <td>True</td>\n    </tr>\n    <tr>\n      <th>4</th>\n      <td>737432.0</td>\n      <td>45.840000</td>\n      <td>46.619999</td>\n      <td>44.875000</td>\n      <td>45.005001</td>\n      <td>45.005001</td>\n      <td>3222700</td>\n      <td>False</td>\n    </tr>\n  </tbody>\n</table>\n</div>"
          },
          "metadata": {}
        }
      ],
      "execution_count": 3,
      "metadata": {
        "collapsed": false,
        "outputHidden": false,
        "inputHidden": false,
        "execution": {
          "iopub.status.busy": "2021-10-11T01:56:21.201Z",
          "iopub.execute_input": "2021-10-11T01:56:21.207Z",
          "iopub.status.idle": "2021-10-11T01:56:21.218Z",
          "shell.execute_reply": "2021-10-11T01:56:21.252Z"
        }
      }
    },
    {
      "cell_type": "code",
      "source": [
        "from mplfinance.original_flavor import candlestick_ohlc\n",
        "\n",
        "fig = plt.figure(figsize=(14,10))\n",
        "ax = plt.subplot(2, 1, 1)\n",
        "candlestick_ohlc(ax,dfc.values, width=0.5, colorup='g', colordown='r', alpha=1.0)\n",
        "ax.xaxis_date()\n",
        "ax.xaxis.set_major_formatter(mdates.DateFormatter('%d-%m-%Y'))\n",
        "ax.grid(True, which='both')\n",
        "ax.minorticks_on()\n",
        "axv = ax.twinx()\n",
        "colors = dfc.VolumePositive.map({True: 'g', False: 'r'})\n",
        "axv.bar(dfc.Date, dfc['Volume'], color=colors, alpha=0.4)\n",
        "axv.axes.yaxis.set_ticklabels([])\n",
        "axv.set_ylim(0, 3*df.Volume.max())\n",
        "ax.set_title('Stock '+ symbol +' Closing Price')\n",
        "ax.set_ylabel('Price')"
      ],
      "outputs": [
        {
          "output_type": "execute_result",
          "execution_count": 4,
          "data": {
            "text/plain": "Text(0, 0.5, 'Price')"
          },
          "metadata": {}
        },
        {
          "output_type": "display_data",
          "data": {
            "text/plain": "<Figure size 1008x720 with 2 Axes>",
            "image/png": "[encoded data removed]"
          },
          "metadata": {
            "needs_background": "light"
          }
        }
      ],
      "execution_count": 4,
      "metadata": {
        "collapsed": false,
        "outputHidden": false,
        "inputHidden": false,
        "execution": {
          "iopub.status.busy": "2021-10-11T01:56:21.227Z",
          "iopub.execute_input": "2021-10-11T01:56:21.232Z",
          "iopub.status.idle": "2021-10-11T01:56:22.901Z",
          "shell.execute_reply": "2021-10-11T01:56:23.129Z"
        }
      }
    },
    {
      "cell_type": "code",
      "source": [
        "three_line_strike = talib.CDL3LINESTRIKE(df['Open'], df['High'], df['Low'], df['Close'])\n",
        "\n",
        "three_line_strike = three_line_strike[three_line_strike != 0]"
      ],
      "outputs": [],
      "execution_count": 5,
      "metadata": {
        "collapsed": true,
        "jupyter": {
          "source_hidden": false,
          "outputs_hidden": false
        },
        "nteract": {
          "transient": {
            "deleting": false
          }
        },
        "execution": {
          "iopub.status.busy": "2021-10-11T01:56:22.910Z",
          "iopub.execute_input": "2021-10-11T01:56:22.914Z",
          "iopub.status.idle": "2021-10-11T01:56:22.923Z",
          "shell.execute_reply": "2021-10-11T01:56:23.132Z"
        }
      }
    },
    {
      "cell_type": "code",
      "source": [
        "df['three_line_strike'] = talib.CDL3LINESTRIKE(df['Open'], df['High'], df['Low'], df['Close'])"
      ],
      "outputs": [],
      "execution_count": 6,
      "metadata": {
        "collapsed": true,
        "jupyter": {
          "source_hidden": false,
          "outputs_hidden": false
        },
        "nteract": {
          "transient": {
            "deleting": false
          }
        },
        "execution": {
          "iopub.status.busy": "2021-10-11T01:56:22.933Z",
          "iopub.execute_input": "2021-10-11T01:56:22.938Z",
          "iopub.status.idle": "2021-10-11T01:56:22.946Z",
          "shell.execute_reply": "2021-10-11T01:56:23.135Z"
        }
      }
    },
    {
      "cell_type": "code",
      "source": [
        "df.loc[df['three_line_strike'] !=0]"
      ],
      "outputs": [
        {
          "output_type": "execute_result",
          "execution_count": 7,
          "data": {
            "text/plain": "                 Open       High        Low      Close  Adj Close   Volume  \\\nDate                                                                         \n2020-01-31  50.299999  50.349998  48.480000  48.810001  48.810001  2127900   \n2020-05-18  86.974998  88.019997  78.029999  78.180000  78.180000  6056700   \n\n            three_line_strike  \nDate                           \n2020-01-31                100  \n2020-05-18                100  ",
            "text/html": "<div>\n<style scoped>\n    .dataframe tbody tr th:only-of-type {\n        vertical-align: middle;\n    }\n\n    .dataframe tbody tr th {\n        vertical-align: top;\n    }\n\n    .dataframe thead th {\n        text-align: right;\n    }\n</style>\n<table border=\"1\" class=\"dataframe\">\n  <thead>\n    <tr style=\"text-align: right;\">\n      <th></th>\n      <th>Open</th>\n      <th>High</th>\n      <th>Low</th>\n      <th>Close</th>\n      <th>Adj Close</th>\n      <th>Volume</th>\n      <th>three_line_strike</th>\n    </tr>\n    <tr>\n      <th>Date</th>\n      <th></th>\n      <th></th>\n      <th></th>\n      <th></th>\n      <th></th>\n      <th></th>\n      <th></th>\n    </tr>\n  </thead>\n  <tbody>\n    <tr>\n      <th>2020-01-31</th>\n      <td>50.299999</td>\n      <td>50.349998</td>\n      <td>48.480000</td>\n      <td>48.810001</td>\n      <td>48.810001</td>\n      <td>2127900</td>\n      <td>100</td>\n    </tr>\n    <tr>\n      <th>2020-05-18</th>\n      <td>86.974998</td>\n      <td>88.019997</td>\n      <td>78.029999</td>\n      <td>78.180000</td>\n      <td>78.180000</td>\n      <td>6056700</td>\n      <td>100</td>\n    </tr>\n  </tbody>\n</table>\n</div>"
          },
          "metadata": {}
        }
      ],
      "execution_count": 7,
      "metadata": {
        "collapsed": true,
        "jupyter": {
          "source_hidden": false,
          "outputs_hidden": false
        },
        "nteract": {
          "transient": {
            "deleting": false
          }
        },
        "execution": {
          "iopub.status.busy": "2021-10-11T01:56:22.953Z",
          "iopub.execute_input": "2021-10-11T01:56:22.959Z",
          "iopub.status.idle": "2021-10-11T01:56:22.973Z",
          "shell.execute_reply": "2021-10-11T01:56:23.138Z"
        }
      }
    },
    {
      "cell_type": "code",
      "source": [
        "df['Adj Close'].loc[df['three_line_strike'] !=0]"
      ],
      "outputs": [
        {
          "output_type": "execute_result",
          "execution_count": 8,
          "data": {
            "text/plain": "Date\n2020-01-31    48.810001\n2020-05-18    78.180000\nName: Adj Close, dtype: float64"
          },
          "metadata": {}
        }
      ],
      "execution_count": 8,
      "metadata": {
        "collapsed": true,
        "jupyter": {
          "source_hidden": false,
          "outputs_hidden": false
        },
        "nteract": {
          "transient": {
            "deleting": false
          }
        },
        "execution": {
          "iopub.status.busy": "2021-10-11T01:56:22.980Z",
          "iopub.execute_input": "2021-10-11T01:56:22.985Z",
          "iopub.status.idle": "2021-10-11T01:56:22.999Z",
          "shell.execute_reply": "2021-10-11T01:56:23.142Z"
        }
      }
    },
    {
      "cell_type": "code",
      "source": [
        "df['Adj Close'].loc[df['three_line_strike'] !=0].index"
      ],
      "outputs": [
        {
          "output_type": "execute_result",
          "execution_count": 9,
          "data": {
            "text/plain": "DatetimeIndex(['2020-01-31', '2020-05-18'], dtype='datetime64[ns]', name='Date', freq=None)"
          },
          "metadata": {}
        }
      ],
      "execution_count": 9,
      "metadata": {
        "collapsed": true,
        "jupyter": {
          "source_hidden": false,
          "outputs_hidden": false
        },
        "nteract": {
          "transient": {
            "deleting": false
          }
        },
        "execution": {
          "iopub.status.busy": "2021-10-11T01:56:23.009Z",
          "iopub.execute_input": "2021-10-11T01:56:23.015Z",
          "iopub.status.idle": "2021-10-11T01:56:23.028Z",
          "shell.execute_reply": "2021-10-11T01:56:23.145Z"
        }
      }
    },
    {
      "cell_type": "code",
      "source": [
        "three_line_strike"
      ],
      "outputs": [
        {
          "output_type": "execute_result",
          "execution_count": 10,
          "data": {
            "text/plain": "Date\n2020-01-31    100\n2020-05-18    100\ndtype: int32"
          },
          "metadata": {}
        }
      ],
      "execution_count": 10,
      "metadata": {
        "collapsed": true,
        "jupyter": {
          "source_hidden": false,
          "outputs_hidden": false
        },
        "nteract": {
          "transient": {
            "deleting": false
          }
        },
        "execution": {
          "iopub.status.busy": "2021-10-11T01:56:23.035Z",
          "iopub.execute_input": "2021-10-11T01:56:23.040Z",
          "iopub.status.idle": "2021-10-11T01:56:23.052Z",
          "shell.execute_reply": "2021-10-11T01:56:23.148Z"
        }
      }
    },
    {
      "cell_type": "code",
      "source": [
        "three_line_strike.index"
      ],
      "outputs": [
        {
          "output_type": "execute_result",
          "execution_count": 11,
          "data": {
            "text/plain": "DatetimeIndex(['2020-01-31', '2020-05-18'], dtype='datetime64[ns]', name='Date', freq=None)"
          },
          "metadata": {}
        }
      ],
      "execution_count": 11,
      "metadata": {
        "collapsed": true,
        "jupyter": {
          "source_hidden": false,
          "outputs_hidden": false
        },
        "nteract": {
          "transient": {
            "deleting": false
          }
        },
        "execution": {
          "iopub.status.busy": "2021-10-11T01:56:23.061Z",
          "iopub.execute_input": "2021-10-11T01:56:23.067Z",
          "iopub.status.idle": "2021-10-11T01:56:23.081Z",
          "shell.execute_reply": "2021-10-11T01:56:23.151Z"
        }
      }
    },
    {
      "cell_type": "code",
      "source": [
        "df"
      ],
      "outputs": [
        {
          "output_type": "execute_result",
          "execution_count": 12,
          "data": {
            "text/plain": "                  Open        High         Low       Close   Adj Close  \\\nDate                                                                     \n2020-01-02   44.709999   45.610001   44.709999   45.189999   45.189999   \n2020-01-03   44.500000   45.320000   44.020000   44.900002   44.900002   \n2020-01-06   44.669998   45.189999   44.360001   44.834999   44.834999   \n2020-01-07   45.000000   46.119999   44.900002   45.779999   45.779999   \n2020-01-08   45.840000   46.619999   44.875000   45.005001   45.005001   \n...                ...         ...         ...         ...         ...   \n2021-10-01  206.770004  208.330002  198.509995  204.369995  204.369995   \n2021-10-04  200.270004  201.149994  194.369995  198.720001  198.720001   \n2021-10-05  200.059998  204.929993  198.800003  203.639999  203.639999   \n2021-10-06  201.589996  209.660004  201.000000  209.529999  209.529999   \n2021-10-07  212.149994  219.119995  211.009995  216.520004  216.520004   \n\n             Volume  three_line_strike  \nDate                                    \n2020-01-02  2152300                  0  \n2020-01-03  2109800                  0  \n2020-01-06  2077100                  0  \n2020-01-07  1945500                  0  \n2020-01-08  3222700                  0  \n...             ...                ...  \n2021-10-01  1995300                  0  \n2021-10-04  1882100                  0  \n2021-10-05  1286400                  0  \n2021-10-06  1539500                  0  \n2021-10-07  1802300                  0  \n\n[446 rows x 7 columns]",
            "text/html": "<div>\n<style scoped>\n    .dataframe tbody tr th:only-of-type {\n        vertical-align: middle;\n    }\n\n    .dataframe tbody tr th {\n        vertical-align: top;\n    }\n\n    .dataframe thead th {\n        text-align: right;\n    }\n</style>\n<table border=\"1\" class=\"dataframe\">\n  <thead>\n    <tr style=\"text-align: right;\">\n      <th></th>\n      <th>Open</th>\n      <th>High</th>\n      <th>Low</th>\n      <th>Close</th>\n      <th>Adj Close</th>\n      <th>Volume</th>\n      <th>three_line_strike</th>\n    </tr>\n    <tr>\n      <th>Date</th>\n      <th></th>\n      <th></th>\n      <th></th>\n      <th></th>\n      <th></th>\n      <th></th>\n      <th></th>\n    </tr>\n  </thead>\n  <tbody>\n    <tr>\n      <th>2020-01-02</th>\n      <td>44.709999</td>\n      <td>45.610001</td>\n      <td>44.709999</td>\n      <td>45.189999</td>\n      <td>45.189999</td>\n      <td>2152300</td>\n      <td>0</td>\n    </tr>\n    <tr>\n      <th>2020-01-03</th>\n      <td>44.500000</td>\n      <td>45.320000</td>\n      <td>44.020000</td>\n      <td>44.900002</td>\n      <td>44.900002</td>\n      <td>2109800</td>\n      <td>0</td>\n    </tr>\n    <tr>\n      <th>2020-01-06</th>\n      <td>44.669998</td>\n      <td>45.189999</td>\n      <td>44.360001</td>\n      <td>44.834999</td>\n      <td>44.834999</td>\n      <td>2077100</td>\n      <td>0</td>\n    </tr>\n    <tr>\n      <th>2020-01-07</th>\n      <td>45.000000</td>\n      <td>46.119999</td>\n      <td>44.900002</td>\n      <td>45.779999</td>\n      <td>45.779999</td>\n      <td>1945500</td>\n      <td>0</td>\n    </tr>\n    <tr>\n      <th>2020-01-08</th>\n      <td>45.840000</td>\n      <td>46.619999</td>\n      <td>44.875000</td>\n      <td>45.005001</td>\n      <td>45.005001</td>\n      <td>3222700</td>\n      <td>0</td>\n    </tr>\n    <tr>\n      <th>...</th>\n      <td>...</td>\n      <td>...</td>\n      <td>...</td>\n      <td>...</td>\n      <td>...</td>\n      <td>...</td>\n      <td>...</td>\n    </tr>\n    <tr>\n      <th>2021-10-01</th>\n      <td>206.770004</td>\n      <td>208.330002</td>\n      <td>198.509995</td>\n      <td>204.369995</td>\n      <td>204.369995</td>\n      <td>1995300</td>\n      <td>0</td>\n    </tr>\n    <tr>\n      <th>2021-10-04</th>\n      <td>200.270004</td>\n      <td>201.149994</td>\n      <td>194.369995</td>\n      <td>198.720001</td>\n      <td>198.720001</td>\n      <td>1882100</td>\n      <td>0</td>\n    </tr>\n    <tr>\n      <th>2021-10-05</th>\n      <td>200.059998</td>\n      <td>204.929993</td>\n      <td>198.800003</td>\n      <td>203.639999</td>\n      <td>203.639999</td>\n      <td>1286400</td>\n      <td>0</td>\n    </tr>\n    <tr>\n      <th>2021-10-06</th>\n      <td>201.589996</td>\n      <td>209.660004</td>\n      <td>201.000000</td>\n      <td>209.529999</td>\n      <td>209.529999</td>\n      <td>1539500</td>\n      <td>0</td>\n    </tr>\n    <tr>\n      <th>2021-10-07</th>\n      <td>212.149994</td>\n      <td>219.119995</td>\n      <td>211.009995</td>\n      <td>216.520004</td>\n      <td>216.520004</td>\n      <td>1802300</td>\n      <td>0</td>\n    </tr>\n  </tbody>\n</table>\n<p>446 rows × 7 columns</p>\n</div>"
          },
          "metadata": {}
        }
      ],
      "execution_count": 12,
      "metadata": {
        "collapsed": true,
        "jupyter": {
          "source_hidden": false,
          "outputs_hidden": false
        },
        "nteract": {
          "transient": {
            "deleting": false
          }
        },
        "execution": {
          "iopub.status.busy": "2021-10-11T01:56:23.090Z",
          "iopub.execute_input": "2021-10-11T01:56:23.097Z",
          "iopub.status.idle": "2021-10-11T01:56:23.111Z",
          "shell.execute_reply": "2021-10-11T01:56:23.154Z"
        }
      }
    },
    {
      "cell_type": "code",
      "source": [
        "fig = plt.figure(figsize=(20,16))\n",
        "ax = plt.subplot(2, 1, 1)\n",
        "candlestick_ohlc(ax,dfc.values, width=0.5, colorup='g', colordown='r', alpha=1.0)\n",
        "ax.xaxis_date()\n",
        "ax.xaxis.set_major_formatter(mdates.DateFormatter('%d-%m-%Y'))\n",
        "ax.grid(True, which='both')\n",
        "ax.minorticks_on()\n",
        "axv = ax.twinx()\n",
        "ax.plot_date(df['Adj Close'].loc[df['three_line_strike'] !=0].index, df['Adj Close'].loc[df['three_line_strike'] !=0],\n",
        "                'Dc', # marker style 'o', color 'g'\n",
        "                fillstyle='none', # circle is not filled (with color)\n",
        "                ms=10.0) \n",
        "colors = dfc.VolumePositive.map({True: 'g', False: 'r'})\n",
        "axv.bar(dfc.Date, dfc['Volume'], color=colors, alpha=0.4)\n",
        "axv.axes.yaxis.set_ticklabels([])\n",
        "axv.set_ylim(0, 3*df.Volume.max())\n",
        "ax.set_title('Stock '+ symbol +' Closing Price')\n",
        "ax.set_ylabel('Price')"
      ],
      "outputs": [
        {
          "output_type": "execute_result",
          "execution_count": 13,
          "data": {
            "text/plain": "Text(0, 0.5, 'Price')"
          },
          "metadata": {}
        },
        {
          "output_type": "display_data",
          "data": {
            "text/plain": "<Figure size 1440x1152 with 2 Axes>",
            "image/png": "[encoded data removed]"
          },
          "metadata": {
            "needs_background": "light"
          }
        }
      ],
      "execution_count": 13,
      "metadata": {
        "collapsed": true,
        "jupyter": {
          "source_hidden": false,
          "outputs_hidden": false
        },
        "nteract": {
          "transient": {
            "deleting": false
          }
        },
        "execution": {
          "iopub.status.busy": "2021-10-11T01:56:23.118Z",
          "iopub.execute_input": "2021-10-11T01:56:23.123Z",
          "iopub.status.idle": "2021-10-11T01:56:24.739Z",
          "shell.execute_reply": "2021-10-11T01:56:24.778Z"
        }
      }
    },
    {
      "cell_type": "markdown",
      "source": [
        "## Plot Certain dates"
      ],
      "metadata": {
        "nteract": {
          "transient": {
            "deleting": false
          }
        }
      }
    },
    {
      "cell_type": "code",
      "source": [
        "df = df['2020-05-01':'2020-06-01']\n",
        "dfc = df.copy()\n",
        "dfc['VolumePositive'] = dfc['Open'] < dfc['Adj Close']\n",
        "#dfc = dfc.dropna()\n",
        "dfc = dfc.reset_index()\n",
        "dfc['Date'] = pd.to_datetime(dfc['Date'])\n",
        "dfc['Date'] = dfc['Date'].apply(mdates.date2num)\n",
        "dfc.head()"
      ],
      "outputs": [
        {
          "output_type": "execute_result",
          "execution_count": 14,
          "data": {
            "text/plain": "       Date       Open       High        Low      Close  Adj Close   Volume  \\\n0  737546.0  63.160000  64.599998  61.310001  64.445000  64.445000  3334400   \n1  737549.0  63.990002  68.180000  63.209999  67.690002  67.690002  2363900   \n2  737550.0  70.099998  76.500000  70.029999  72.790001  72.790001  9153400   \n3  737551.0  74.849998  78.629997  72.080002  78.239998  78.239998  6919500   \n4  737552.0  74.379997  78.839996  73.309998  76.589996  76.589996  6841500   \n\n   three_line_strike  VolumePositive  \n0                  0            True  \n1                  0            True  \n2                  0            True  \n3                  0            True  \n4                  0            True  ",
            "text/html": "<div>\n<style scoped>\n    .dataframe tbody tr th:only-of-type {\n        vertical-align: middle;\n    }\n\n    .dataframe tbody tr th {\n        vertical-align: top;\n    }\n\n    .dataframe thead th {\n        text-align: right;\n    }\n</style>\n<table border=\"1\" class=\"dataframe\">\n  <thead>\n    <tr style=\"text-align: right;\">\n      <th></th>\n      <th>Date</th>\n      <th>Open</th>\n      <th>High</th>\n      <th>Low</th>\n      <th>Close</th>\n      <th>Adj Close</th>\n      <th>Volume</th>\n      <th>three_line_strike</th>\n      <th>VolumePositive</th>\n    </tr>\n  </thead>\n  <tbody>\n    <tr>\n      <th>0</th>\n      <td>737546.0</td>\n      <td>63.160000</td>\n      <td>64.599998</td>\n      <td>61.310001</td>\n      <td>64.445000</td>\n      <td>64.445000</td>\n      <td>3334400</td>\n      <td>0</td>\n      <td>True</td>\n    </tr>\n    <tr>\n      <th>1</th>\n      <td>737549.0</td>\n      <td>63.990002</td>\n      <td>68.180000</td>\n      <td>63.209999</td>\n      <td>67.690002</td>\n      <td>67.690002</td>\n      <td>2363900</td>\n      <td>0</td>\n      <td>True</td>\n    </tr>\n    <tr>\n      <th>2</th>\n      <td>737550.0</td>\n      <td>70.099998</td>\n      <td>76.500000</td>\n      <td>70.029999</td>\n      <td>72.790001</td>\n      <td>72.790001</td>\n      <td>9153400</td>\n      <td>0</td>\n      <td>True</td>\n    </tr>\n    <tr>\n      <th>3</th>\n      <td>737551.0</td>\n      <td>74.849998</td>\n      <td>78.629997</td>\n      <td>72.080002</td>\n      <td>78.239998</td>\n      <td>78.239998</td>\n      <td>6919500</td>\n      <td>0</td>\n      <td>True</td>\n    </tr>\n    <tr>\n      <th>4</th>\n      <td>737552.0</td>\n      <td>74.379997</td>\n      <td>78.839996</td>\n      <td>73.309998</td>\n      <td>76.589996</td>\n      <td>76.589996</td>\n      <td>6841500</td>\n      <td>0</td>\n      <td>True</td>\n    </tr>\n  </tbody>\n</table>\n</div>"
          },
          "metadata": {}
        }
      ],
      "execution_count": 14,
      "metadata": {
        "collapsed": true,
        "jupyter": {
          "source_hidden": false,
          "outputs_hidden": false
        },
        "nteract": {
          "transient": {
            "deleting": false
          }
        },
        "execution": {
          "iopub.status.busy": "2021-10-11T01:56:24.748Z",
          "iopub.execute_input": "2021-10-11T01:56:24.754Z",
          "iopub.status.idle": "2021-10-11T01:56:24.797Z",
          "shell.execute_reply": "2021-10-11T01:56:24.784Z"
        }
      }
    },
    {
      "cell_type": "code",
      "source": [
        "fig = plt.figure(figsize=(20,16))\n",
        "ax = plt.subplot(2, 1, 1)\n",
        "ax.set_facecolor('black')\n",
        "candlestick_ohlc(ax,dfc.values, width=0.5, colorup='g', colordown='r', alpha=1.0)\n",
        "ax.xaxis_date()\n",
        "ax.xaxis.set_major_formatter(mdates.DateFormatter('%d-%m-%Y'))\n",
        "#ax.grid(True, which='both')\n",
        "#ax.minorticks_on()\n",
        "axv = ax.twinx()\n",
        "ax.plot_date(df['Adj Close'].loc[df['three_line_strike'] !=0].index, df['Adj Close'].loc[df['three_line_strike'] !=0],\n",
        "                'vy', # marker style 'o', color 'g'\n",
        "                fillstyle='none', # circle is not filled (with color)\n",
        "                ms=30.0) \n",
        "colors = dfc.VolumePositive.map({True: 'g', False: 'r'})\n",
        "axv.bar(dfc.Date, dfc['Volume'], color=colors, alpha=0.4)\n",
        "axv.axes.yaxis.set_ticklabels([])\n",
        "axv.set_ylim(0, 3*df.Volume.max())\n",
        "ax.set_title('Stock '+ symbol +' Closing Price')\n",
        "ax.set_ylabel('Price')"
      ],
      "outputs": [
        {
          "output_type": "execute_result",
          "execution_count": 15,
          "data": {
            "text/plain": "Text(0, 0.5, 'Price')"
          },
          "metadata": {}
        },
        {
          "output_type": "display_data",
          "data": {
            "text/plain": "<Figure size 1440x1152 with 2 Axes>",
            "image/png": "[encoded data removed]"
          },
          "metadata": {
            "needs_background": "light"
          }
        }
      ],
      "execution_count": 15,
      "metadata": {
        "collapsed": true,
        "jupyter": {
          "source_hidden": false,
          "outputs_hidden": false
        },
        "nteract": {
          "transient": {
            "deleting": false
          }
        },
        "execution": {
          "iopub.status.busy": "2021-10-11T01:56:24.804Z",
          "iopub.execute_input": "2021-10-11T01:56:24.809Z",
          "iopub.status.idle": "2021-10-11T01:56:25.054Z",
          "shell.execute_reply": "2021-10-11T01:56:25.044Z"
        }
      }
    },
    {
      "cell_type": "markdown",
      "source": [
        "# Highlight Candlestick"
      ],
      "metadata": {
        "nteract": {
          "transient": {
            "deleting": false
          }
        }
      }
    },
    {
      "cell_type": "code",
      "source": [
        "from matplotlib.dates import date2num\n",
        "from datetime import datetime\n",
        "\n",
        "fig = plt.figure(figsize=(20,16))\n",
        "ax = plt.subplot(2, 1, 1)\n",
        "candlestick_ohlc(ax,dfc.values, width=0.5, colorup='g', colordown='r', alpha=1.0)\n",
        "ax.xaxis_date()\n",
        "ax.xaxis.set_major_formatter(mdates.DateFormatter('%d-%m-%Y'))\n",
        "#ax.grid(True, which='both')\n",
        "#ax.minorticks_on()\n",
        "axv = ax.twinx()\n",
        "ax.axvspan(date2num(datetime(2020,5,18)), date2num(datetime(2020,5,21)), \n",
        "           label=\"Three Line Strike\",color=\"green\", alpha=0.3)\n",
        "ax.legend()\n",
        "colors = dfc.VolumePositive.map({True: 'g', False: 'r'})\n",
        "axv.bar(dfc.Date, dfc['Volume'], color=colors, alpha=0.4)\n",
        "axv.axes.yaxis.set_ticklabels([])\n",
        "axv.set_ylim(0, 3*df.Volume.max())\n",
        "ax.set_title('Stock '+ symbol +' Closing Price')\n",
        "ax.set_ylabel('Price')"
      ],
      "outputs": [
        {
          "output_type": "execute_result",
          "execution_count": 18,
          "data": {
            "text/plain": "Text(0, 0.5, 'Price')"
          },
          "metadata": {}
        },
        {
          "output_type": "display_data",
          "data": {
            "text/plain": "<Figure size 1440x1152 with 2 Axes>",
            "image/png": "[encoded data removed]"
          },
          "metadata": {
            "needs_background": "light"
          }
        }
      ],
      "execution_count": 18,
      "metadata": {
        "collapsed": true,
        "jupyter": {
          "source_hidden": false,
          "outputs_hidden": false
        },
        "nteract": {
          "transient": {
            "deleting": false
          }
        },
        "execution": {
          "iopub.status.busy": "2021-10-11T01:57:53.287Z",
          "iopub.execute_input": "2021-10-11T01:57:53.295Z",
          "iopub.status.idle": "2021-10-11T01:57:53.571Z",
          "shell.execute_reply": "2021-10-11T01:57:53.579Z"
        }
      }
    }
  ],
  "metadata": {
    "kernel_info": {
      "name": "python3"
    },
    "language_info": {
      "name": "python",
      "version": "3.6.13",
      "mimetype": "text/x-python",
      "codemirror_mode": {
        "name": "ipython",
        "version": 3
      },
      "pygments_lexer": "ipython3",
      "nbconvert_exporter": "python",
      "file_extension": ".py"
    },
    "kernelspec": {
      "name": "python3",
      "language": "python",
      "display_name": "Python 3"
    },
    "nteract": {
      "version": "0.28.0"
    }
  },
  "nbformat": 4,
  "nbformat_minor": 4
}