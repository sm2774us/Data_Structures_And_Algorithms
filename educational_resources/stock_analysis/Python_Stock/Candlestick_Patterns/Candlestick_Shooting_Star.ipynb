{
  "cells": [
    {
      "cell_type": "markdown",
      "source": [
        "# Candlestick Shooting Star"
      ],
      "metadata": {}
    },
    {
      "cell_type": "markdown",
      "source": [
        "https://www.investopedia.com/terms/s/shootingstar.asp"
      ],
      "metadata": {}
    },
    {
      "cell_type": "code",
      "source": [
        "import numpy as np\n",
        "import pandas as pd\n",
        "import matplotlib.pyplot as plt\n",
        "import talib\n",
        "\n",
        "import warnings\n",
        "warnings.filterwarnings(\"ignore\")\n",
        "\n",
        "# yahoo finance is used to fetch data \n",
        "import yfinance as yf\n",
        "yf.pdr_override()"
      ],
      "outputs": [],
      "execution_count": 1,
      "metadata": {
        "collapsed": false,
        "outputHidden": false,
        "inputHidden": false,
        "execution": {
          "iopub.status.busy": "2021-10-24T04:40:10.649Z",
          "iopub.execute_input": "2021-10-24T04:40:10.654Z",
          "iopub.status.idle": "2021-10-24T04:40:10.711Z",
          "shell.execute_reply": "2021-10-24T04:40:10.703Z"
        }
      }
    },
    {
      "cell_type": "code",
      "source": [
        "# input\n",
        "symbol = 'AMD'\n",
        "start = '2020-01-01'\n",
        "end = '2021-10-22'\n",
        "\n",
        "# Read data \n",
        "df = yf.download(symbol,start,end)\n",
        "\n",
        "# View Columns\n",
        "df.head()"
      ],
      "outputs": [
        {
          "output_type": "stream",
          "name": "stdout",
          "text": [
            "[*********************100%***********************]  1 of 1 completed\n"
          ]
        },
        {
          "output_type": "execute_result",
          "execution_count": 2,
          "data": {
            "text/plain": "                 Open       High        Low      Close  Adj Close    Volume\nDate                                                                       \n2020-01-02  46.860001  49.250000  46.630001  49.099998  49.099998  80331100\n2020-01-03  48.029999  49.389999  47.540001  48.599998  48.599998  73127400\n2020-01-06  48.020000  48.860001  47.860001  48.389999  48.389999  47934900\n2020-01-07  49.349998  49.389999  48.040001  48.250000  48.250000  58061400\n2020-01-08  47.849998  48.299999  47.139999  47.830002  47.830002  53767000",
            "text/html": "<div>\n<style scoped>\n    .dataframe tbody tr th:only-of-type {\n        vertical-align: middle;\n    }\n\n    .dataframe tbody tr th {\n        vertical-align: top;\n    }\n\n    .dataframe thead th {\n        text-align: right;\n    }\n</style>\n<table border=\"1\" class=\"dataframe\">\n  <thead>\n    <tr style=\"text-align: right;\">\n      <th></th>\n      <th>Open</th>\n      <th>High</th>\n      <th>Low</th>\n      <th>Close</th>\n      <th>Adj Close</th>\n      <th>Volume</th>\n    </tr>\n    <tr>\n      <th>Date</th>\n      <th></th>\n      <th></th>\n      <th></th>\n      <th></th>\n      <th></th>\n      <th></th>\n    </tr>\n  </thead>\n  <tbody>\n    <tr>\n      <th>2020-01-02</th>\n      <td>46.860001</td>\n      <td>49.250000</td>\n      <td>46.630001</td>\n      <td>49.099998</td>\n      <td>49.099998</td>\n      <td>80331100</td>\n    </tr>\n    <tr>\n      <th>2020-01-03</th>\n      <td>48.029999</td>\n      <td>49.389999</td>\n      <td>47.540001</td>\n      <td>48.599998</td>\n      <td>48.599998</td>\n      <td>73127400</td>\n    </tr>\n    <tr>\n      <th>2020-01-06</th>\n      <td>48.020000</td>\n      <td>48.860001</td>\n      <td>47.860001</td>\n      <td>48.389999</td>\n      <td>48.389999</td>\n      <td>47934900</td>\n    </tr>\n    <tr>\n      <th>2020-01-07</th>\n      <td>49.349998</td>\n      <td>49.389999</td>\n      <td>48.040001</td>\n      <td>48.250000</td>\n      <td>48.250000</td>\n      <td>58061400</td>\n    </tr>\n    <tr>\n      <th>2020-01-08</th>\n      <td>47.849998</td>\n      <td>48.299999</td>\n      <td>47.139999</td>\n      <td>47.830002</td>\n      <td>47.830002</td>\n      <td>53767000</td>\n    </tr>\n  </tbody>\n</table>\n</div>"
          },
          "metadata": {}
        }
      ],
      "execution_count": 2,
      "metadata": {
        "collapsed": false,
        "outputHidden": false,
        "inputHidden": false,
        "execution": {
          "iopub.status.busy": "2021-10-24T04:40:10.718Z",
          "iopub.execute_input": "2021-10-24T04:40:10.723Z",
          "iopub.status.idle": "2021-10-24T04:40:11.363Z",
          "shell.execute_reply": "2021-10-24T04:40:11.393Z"
        }
      }
    },
    {
      "cell_type": "markdown",
      "source": [
        "## Candlestick with Shooting Star"
      ],
      "metadata": {}
    },
    {
      "cell_type": "code",
      "source": [
        "from matplotlib import dates as mdates\n",
        "import datetime as dt\n",
        "\n",
        "dfc = df.copy()\n",
        "dfc['VolumePositive'] = dfc['Open'] < dfc['Adj Close']\n",
        "#dfc = dfc.dropna()\n",
        "dfc = dfc.reset_index()\n",
        "dfc['Date'] = pd.to_datetime(dfc['Date'])\n",
        "dfc['Date'] = dfc['Date'].apply(mdates.date2num)\n",
        "dfc.head()"
      ],
      "outputs": [
        {
          "output_type": "execute_result",
          "execution_count": 3,
          "data": {
            "text/plain": "       Date       Open       High        Low      Close  Adj Close    Volume  \\\n0  737426.0  46.860001  49.250000  46.630001  49.099998  49.099998  80331100   \n1  737427.0  48.029999  49.389999  47.540001  48.599998  48.599998  73127400   \n2  737430.0  48.020000  48.860001  47.860001  48.389999  48.389999  47934900   \n3  737431.0  49.349998  49.389999  48.040001  48.250000  48.250000  58061400   \n4  737432.0  47.849998  48.299999  47.139999  47.830002  47.830002  53767000   \n\n   VolumePositive  \n0            True  \n1            True  \n2            True  \n3           False  \n4           False  ",
            "text/html": "<div>\n<style scoped>\n    .dataframe tbody tr th:only-of-type {\n        vertical-align: middle;\n    }\n\n    .dataframe tbody tr th {\n        vertical-align: top;\n    }\n\n    .dataframe thead th {\n        text-align: right;\n    }\n</style>\n<table border=\"1\" class=\"dataframe\">\n  <thead>\n    <tr style=\"text-align: right;\">\n      <th></th>\n      <th>Date</th>\n      <th>Open</th>\n      <th>High</th>\n      <th>Low</th>\n      <th>Close</th>\n      <th>Adj Close</th>\n      <th>Volume</th>\n      <th>VolumePositive</th>\n    </tr>\n  </thead>\n  <tbody>\n    <tr>\n      <th>0</th>\n      <td>737426.0</td>\n      <td>46.860001</td>\n      <td>49.250000</td>\n      <td>46.630001</td>\n      <td>49.099998</td>\n      <td>49.099998</td>\n      <td>80331100</td>\n      <td>True</td>\n    </tr>\n    <tr>\n      <th>1</th>\n      <td>737427.0</td>\n      <td>48.029999</td>\n      <td>49.389999</td>\n      <td>47.540001</td>\n      <td>48.599998</td>\n      <td>48.599998</td>\n      <td>73127400</td>\n      <td>True</td>\n    </tr>\n    <tr>\n      <th>2</th>\n      <td>737430.0</td>\n      <td>48.020000</td>\n      <td>48.860001</td>\n      <td>47.860001</td>\n      <td>48.389999</td>\n      <td>48.389999</td>\n      <td>47934900</td>\n      <td>True</td>\n    </tr>\n    <tr>\n      <th>3</th>\n      <td>737431.0</td>\n      <td>49.349998</td>\n      <td>49.389999</td>\n      <td>48.040001</td>\n      <td>48.250000</td>\n      <td>48.250000</td>\n      <td>58061400</td>\n      <td>False</td>\n    </tr>\n    <tr>\n      <th>4</th>\n      <td>737432.0</td>\n      <td>47.849998</td>\n      <td>48.299999</td>\n      <td>47.139999</td>\n      <td>47.830002</td>\n      <td>47.830002</td>\n      <td>53767000</td>\n      <td>False</td>\n    </tr>\n  </tbody>\n</table>\n</div>"
          },
          "metadata": {}
        }
      ],
      "execution_count": 3,
      "metadata": {
        "collapsed": false,
        "outputHidden": false,
        "inputHidden": false,
        "execution": {
          "iopub.status.busy": "2021-10-24T04:40:11.369Z",
          "iopub.execute_input": "2021-10-24T04:40:11.373Z",
          "iopub.status.idle": "2021-10-24T04:40:11.404Z",
          "shell.execute_reply": "2021-10-24T04:40:11.398Z"
        }
      }
    },
    {
      "cell_type": "code",
      "source": [
        "from mplfinance.original_flavor import candlestick_ohlc\n",
        "\n",
        "fig = plt.figure(figsize=(14,10))\n",
        "ax = plt.subplot(2, 1, 1)\n",
        "candlestick_ohlc(ax,dfc.values, width=0.5, colorup='g', colordown='r', alpha=1.0)\n",
        "ax.xaxis_date()\n",
        "ax.xaxis.set_major_formatter(mdates.DateFormatter('%d-%m-%Y'))\n",
        "ax.grid(True, which='both')\n",
        "ax.minorticks_on()\n",
        "axv = ax.twinx()\n",
        "colors = dfc.VolumePositive.map({True: 'g', False: 'r'})\n",
        "axv.bar(dfc.Date, dfc['Volume'], color=colors, alpha=0.4)\n",
        "axv.axes.yaxis.set_ticklabels([])\n",
        "axv.set_ylim(0, 3*df.Volume.max())\n",
        "ax.set_title('Stock '+ symbol +' Closing Price')\n",
        "ax.set_ylabel('Price')"
      ],
      "outputs": [
        {
          "output_type": "execute_result",
          "execution_count": 4,
          "data": {
            "text/plain": "Text(0, 0.5, 'Price')"
          },
          "metadata": {}
        },
        {
          "output_type": "display_data",
          "data": {
            "text/plain": "<Figure size 1008x720 with 2 Axes>",
            "image/png": "[encoded data removed]"
          },
          "metadata": {
            "needs_background": "light"
          }
        }
      ],
      "execution_count": 4,
      "metadata": {
        "collapsed": false,
        "outputHidden": false,
        "inputHidden": false,
        "execution": {
          "iopub.status.busy": "2021-10-24T04:40:11.411Z",
          "iopub.execute_input": "2021-10-24T04:40:11.416Z",
          "iopub.status.idle": "2021-10-24T04:40:13.085Z",
          "shell.execute_reply": "2021-10-24T04:40:13.305Z"
        }
      }
    },
    {
      "cell_type": "code",
      "source": [
        "shooting_star = talib.CDLSHOOTINGSTAR(df['Open'], df['High'], df['Low'], df['Close'])\n",
        "\n",
        "shooting_star = shooting_star[shooting_star != 0]"
      ],
      "outputs": [],
      "execution_count": 5,
      "metadata": {
        "collapsed": true,
        "jupyter": {
          "source_hidden": false,
          "outputs_hidden": false
        },
        "nteract": {
          "transient": {
            "deleting": false
          }
        },
        "execution": {
          "iopub.status.busy": "2021-10-24T04:40:13.092Z",
          "iopub.execute_input": "2021-10-24T04:40:13.096Z",
          "iopub.status.idle": "2021-10-24T04:40:13.104Z",
          "shell.execute_reply": "2021-10-24T04:40:13.310Z"
        }
      }
    },
    {
      "cell_type": "code",
      "source": [
        "df['shooting_star'] = talib.CDLSHOOTINGSTAR(df['Open'], df['High'], df['Low'], df['Close'])"
      ],
      "outputs": [],
      "execution_count": 6,
      "metadata": {
        "collapsed": true,
        "jupyter": {
          "source_hidden": false,
          "outputs_hidden": false
        },
        "nteract": {
          "transient": {
            "deleting": false
          }
        },
        "execution": {
          "iopub.status.busy": "2021-10-24T04:40:13.110Z",
          "iopub.execute_input": "2021-10-24T04:40:13.115Z",
          "iopub.status.idle": "2021-10-24T04:40:13.122Z",
          "shell.execute_reply": "2021-10-24T04:40:13.319Z"
        }
      }
    },
    {
      "cell_type": "code",
      "source": [
        "df.loc[df['shooting_star'] !=0]"
      ],
      "outputs": [
        {
          "output_type": "execute_result",
          "execution_count": 7,
          "data": {
            "text/plain": "                  Open        High         Low       Close   Adj Close  \\\nDate                                                                     \n2020-06-10   57.200001   59.000000   57.029999   57.439999   57.439999   \n2020-11-25   85.760002   87.839996   85.519997   86.709999   86.709999   \n2021-06-01   81.010002   82.910004   80.660004   80.809998   80.809998   \n2021-08-20  104.320000  105.980003  103.989998  104.650002  104.650002   \n\n              Volume  shooting_star  \nDate                                 \n2020-06-10  78719400           -100  \n2020-11-25  41349700           -100  \n2021-06-01  43433000           -100  \n2021-08-20  55190300           -100  ",
            "text/html": "<div>\n<style scoped>\n    .dataframe tbody tr th:only-of-type {\n        vertical-align: middle;\n    }\n\n    .dataframe tbody tr th {\n        vertical-align: top;\n    }\n\n    .dataframe thead th {\n        text-align: right;\n    }\n</style>\n<table border=\"1\" class=\"dataframe\">\n  <thead>\n    <tr style=\"text-align: right;\">\n      <th></th>\n      <th>Open</th>\n      <th>High</th>\n      <th>Low</th>\n      <th>Close</th>\n      <th>Adj Close</th>\n      <th>Volume</th>\n      <th>shooting_star</th>\n    </tr>\n    <tr>\n      <th>Date</th>\n      <th></th>\n      <th></th>\n      <th></th>\n      <th></th>\n      <th></th>\n      <th></th>\n      <th></th>\n    </tr>\n  </thead>\n  <tbody>\n    <tr>\n      <th>2020-06-10</th>\n      <td>57.200001</td>\n      <td>59.000000</td>\n      <td>57.029999</td>\n      <td>57.439999</td>\n      <td>57.439999</td>\n      <td>78719400</td>\n      <td>-100</td>\n    </tr>\n    <tr>\n      <th>2020-11-25</th>\n      <td>85.760002</td>\n      <td>87.839996</td>\n      <td>85.519997</td>\n      <td>86.709999</td>\n      <td>86.709999</td>\n      <td>41349700</td>\n      <td>-100</td>\n    </tr>\n    <tr>\n      <th>2021-06-01</th>\n      <td>81.010002</td>\n      <td>82.910004</td>\n      <td>80.660004</td>\n      <td>80.809998</td>\n      <td>80.809998</td>\n      <td>43433000</td>\n      <td>-100</td>\n    </tr>\n    <tr>\n      <th>2021-08-20</th>\n      <td>104.320000</td>\n      <td>105.980003</td>\n      <td>103.989998</td>\n      <td>104.650002</td>\n      <td>104.650002</td>\n      <td>55190300</td>\n      <td>-100</td>\n    </tr>\n  </tbody>\n</table>\n</div>"
          },
          "metadata": {}
        }
      ],
      "execution_count": 7,
      "metadata": {
        "collapsed": true,
        "jupyter": {
          "source_hidden": false,
          "outputs_hidden": false
        },
        "nteract": {
          "transient": {
            "deleting": false
          }
        },
        "execution": {
          "iopub.status.busy": "2021-10-24T04:40:13.128Z",
          "iopub.execute_input": "2021-10-24T04:40:13.133Z",
          "iopub.status.idle": "2021-10-24T04:40:13.143Z",
          "shell.execute_reply": "2021-10-24T04:40:13.322Z"
        }
      }
    },
    {
      "cell_type": "code",
      "source": [
        "df['Adj Close'].loc[df['shooting_star'] !=0]"
      ],
      "outputs": [
        {
          "output_type": "execute_result",
          "execution_count": 8,
          "data": {
            "text/plain": "Date\n2020-06-10     57.439999\n2020-11-25     86.709999\n2021-06-01     80.809998\n2021-08-20    104.650002\nName: Adj Close, dtype: float64"
          },
          "metadata": {}
        }
      ],
      "execution_count": 8,
      "metadata": {
        "collapsed": true,
        "jupyter": {
          "source_hidden": false,
          "outputs_hidden": false
        },
        "nteract": {
          "transient": {
            "deleting": false
          }
        },
        "execution": {
          "iopub.status.busy": "2021-10-24T04:40:13.151Z",
          "iopub.execute_input": "2021-10-24T04:40:13.155Z",
          "iopub.status.idle": "2021-10-24T04:40:13.166Z",
          "shell.execute_reply": "2021-10-24T04:40:13.325Z"
        }
      }
    },
    {
      "cell_type": "code",
      "source": [
        "df['shooting_star'].loc[df['shooting_star'] !=0].index"
      ],
      "outputs": [
        {
          "output_type": "execute_result",
          "execution_count": 9,
          "data": {
            "text/plain": "DatetimeIndex(['2020-06-10', '2020-11-25', '2021-06-01', '2021-08-20'], dtype='datetime64[ns]', name='Date', freq=None)"
          },
          "metadata": {}
        }
      ],
      "execution_count": 9,
      "metadata": {
        "collapsed": true,
        "jupyter": {
          "source_hidden": false,
          "outputs_hidden": false
        },
        "nteract": {
          "transient": {
            "deleting": false
          }
        },
        "execution": {
          "iopub.status.busy": "2021-10-24T04:40:13.173Z",
          "iopub.execute_input": "2021-10-24T04:40:13.178Z",
          "iopub.status.idle": "2021-10-24T04:40:13.190Z",
          "shell.execute_reply": "2021-10-24T04:40:13.328Z"
        }
      }
    },
    {
      "cell_type": "code",
      "source": [
        "shooting_star"
      ],
      "outputs": [
        {
          "output_type": "execute_result",
          "execution_count": 10,
          "data": {
            "text/plain": "Date\n2020-06-10   -100\n2020-11-25   -100\n2021-06-01   -100\n2021-08-20   -100\ndtype: int32"
          },
          "metadata": {}
        }
      ],
      "execution_count": 10,
      "metadata": {
        "collapsed": true,
        "jupyter": {
          "source_hidden": false,
          "outputs_hidden": false
        },
        "nteract": {
          "transient": {
            "deleting": false
          }
        },
        "execution": {
          "iopub.status.busy": "2021-10-24T04:40:13.200Z",
          "iopub.execute_input": "2021-10-24T04:40:13.206Z",
          "iopub.status.idle": "2021-10-24T04:40:13.217Z",
          "shell.execute_reply": "2021-10-24T04:40:13.331Z"
        }
      }
    },
    {
      "cell_type": "code",
      "source": [
        "shooting_star.index"
      ],
      "outputs": [
        {
          "output_type": "execute_result",
          "execution_count": 11,
          "data": {
            "text/plain": "DatetimeIndex(['2020-06-10', '2020-11-25', '2021-06-01', '2021-08-20'], dtype='datetime64[ns]', name='Date', freq=None)"
          },
          "metadata": {}
        }
      ],
      "execution_count": 11,
      "metadata": {
        "collapsed": true,
        "jupyter": {
          "source_hidden": false,
          "outputs_hidden": false
        },
        "nteract": {
          "transient": {
            "deleting": false
          }
        },
        "execution": {
          "iopub.status.busy": "2021-10-24T04:40:13.224Z",
          "iopub.execute_input": "2021-10-24T04:40:13.229Z",
          "iopub.status.idle": "2021-10-24T04:40:13.240Z",
          "shell.execute_reply": "2021-10-24T04:40:13.334Z"
        }
      }
    },
    {
      "cell_type": "code",
      "source": [
        "df"
      ],
      "outputs": [
        {
          "output_type": "execute_result",
          "execution_count": 12,
          "data": {
            "text/plain": "                  Open        High         Low       Close   Adj Close  \\\nDate                                                                     \n2020-01-02   46.860001   49.250000   46.630001   49.099998   49.099998   \n2020-01-03   48.029999   49.389999   47.540001   48.599998   48.599998   \n2020-01-06   48.020000   48.860001   47.860001   48.389999   48.389999   \n2020-01-07   49.349998   49.389999   48.040001   48.250000   48.250000   \n2020-01-08   47.849998   48.299999   47.139999   47.830002   47.830002   \n...                ...         ...         ...         ...         ...   \n2021-10-15  112.510002  112.839996  111.110001  112.120003  112.120003   \n2021-10-18  111.900002  116.879997  111.370003  116.430000  116.430000   \n2021-10-19  116.160004  117.169998  114.470001  116.330002  116.330002   \n2021-10-20  116.290001  118.300003  115.419998  116.389999  116.389999   \n2021-10-21  116.500000  119.680000  116.260002  119.330002  119.330002   \n\n              Volume  shooting_star  \nDate                                 \n2020-01-02  80331100              0  \n2020-01-03  73127400              0  \n2020-01-06  47934900              0  \n2020-01-07  58061400              0  \n2020-01-08  53767000              0  \n...              ...            ...  \n2021-10-15  34177700              0  \n2021-10-18  47537800              0  \n2021-10-19  39593900              0  \n2021-10-20  34244800              0  \n2021-10-21  34794900              0  \n\n[456 rows x 7 columns]",
            "text/html": "<div>\n<style scoped>\n    .dataframe tbody tr th:only-of-type {\n        vertical-align: middle;\n    }\n\n    .dataframe tbody tr th {\n        vertical-align: top;\n    }\n\n    .dataframe thead th {\n        text-align: right;\n    }\n</style>\n<table border=\"1\" class=\"dataframe\">\n  <thead>\n    <tr style=\"text-align: right;\">\n      <th></th>\n      <th>Open</th>\n      <th>High</th>\n      <th>Low</th>\n      <th>Close</th>\n      <th>Adj Close</th>\n      <th>Volume</th>\n      <th>shooting_star</th>\n    </tr>\n    <tr>\n      <th>Date</th>\n      <th></th>\n      <th></th>\n      <th></th>\n      <th></th>\n      <th></th>\n      <th></th>\n      <th></th>\n    </tr>\n  </thead>\n  <tbody>\n    <tr>\n      <th>2020-01-02</th>\n      <td>46.860001</td>\n      <td>49.250000</td>\n      <td>46.630001</td>\n      <td>49.099998</td>\n      <td>49.099998</td>\n      <td>80331100</td>\n      <td>0</td>\n    </tr>\n    <tr>\n      <th>2020-01-03</th>\n      <td>48.029999</td>\n      <td>49.389999</td>\n      <td>47.540001</td>\n      <td>48.599998</td>\n      <td>48.599998</td>\n      <td>73127400</td>\n      <td>0</td>\n    </tr>\n    <tr>\n      <th>2020-01-06</th>\n      <td>48.020000</td>\n      <td>48.860001</td>\n      <td>47.860001</td>\n      <td>48.389999</td>\n      <td>48.389999</td>\n      <td>47934900</td>\n      <td>0</td>\n    </tr>\n    <tr>\n      <th>2020-01-07</th>\n      <td>49.349998</td>\n      <td>49.389999</td>\n      <td>48.040001</td>\n      <td>48.250000</td>\n      <td>48.250000</td>\n      <td>58061400</td>\n      <td>0</td>\n    </tr>\n    <tr>\n      <th>2020-01-08</th>\n      <td>47.849998</td>\n      <td>48.299999</td>\n      <td>47.139999</td>\n      <td>47.830002</td>\n      <td>47.830002</td>\n      <td>53767000</td>\n      <td>0</td>\n    </tr>\n    <tr>\n      <th>...</th>\n      <td>...</td>\n      <td>...</td>\n      <td>...</td>\n      <td>...</td>\n      <td>...</td>\n      <td>...</td>\n      <td>...</td>\n    </tr>\n    <tr>\n      <th>2021-10-15</th>\n      <td>112.510002</td>\n      <td>112.839996</td>\n      <td>111.110001</td>\n      <td>112.120003</td>\n      <td>112.120003</td>\n      <td>34177700</td>\n      <td>0</td>\n    </tr>\n    <tr>\n      <th>2021-10-18</th>\n      <td>111.900002</td>\n      <td>116.879997</td>\n      <td>111.370003</td>\n      <td>116.430000</td>\n      <td>116.430000</td>\n      <td>47537800</td>\n      <td>0</td>\n    </tr>\n    <tr>\n      <th>2021-10-19</th>\n      <td>116.160004</td>\n      <td>117.169998</td>\n      <td>114.470001</td>\n      <td>116.330002</td>\n      <td>116.330002</td>\n      <td>39593900</td>\n      <td>0</td>\n    </tr>\n    <tr>\n      <th>2021-10-20</th>\n      <td>116.290001</td>\n      <td>118.300003</td>\n      <td>115.419998</td>\n      <td>116.389999</td>\n      <td>116.389999</td>\n      <td>34244800</td>\n      <td>0</td>\n    </tr>\n    <tr>\n      <th>2021-10-21</th>\n      <td>116.500000</td>\n      <td>119.680000</td>\n      <td>116.260002</td>\n      <td>119.330002</td>\n      <td>119.330002</td>\n      <td>34794900</td>\n      <td>0</td>\n    </tr>\n  </tbody>\n</table>\n<p>456 rows × 7 columns</p>\n</div>"
          },
          "metadata": {}
        }
      ],
      "execution_count": 12,
      "metadata": {
        "collapsed": true,
        "jupyter": {
          "source_hidden": false,
          "outputs_hidden": false
        },
        "nteract": {
          "transient": {
            "deleting": false
          }
        },
        "execution": {
          "iopub.status.busy": "2021-10-24T04:40:13.247Z",
          "iopub.execute_input": "2021-10-24T04:40:13.252Z",
          "iopub.status.idle": "2021-10-24T04:40:13.263Z",
          "shell.execute_reply": "2021-10-24T04:40:13.337Z"
        }
      }
    },
    {
      "cell_type": "code",
      "source": [
        "fig = plt.figure(figsize=(20,16))\n",
        "ax = plt.subplot(2, 1, 1)\n",
        "candlestick_ohlc(ax,dfc.values, width=0.5, colorup='g', colordown='r', alpha=1.0)\n",
        "ax.xaxis_date()\n",
        "ax.xaxis.set_major_formatter(mdates.DateFormatter('%d-%m-%Y'))\n",
        "ax.grid(True, which='both')\n",
        "ax.minorticks_on()\n",
        "axv = ax.twinx()\n",
        "ax.plot_date(df['Adj Close'].loc[df['shooting_star'] !=0].index, df['Adj Close'].loc[df['shooting_star'] !=0],\n",
        "                'Dc', # marker style 'o', color 'g'\n",
        "                fillstyle='none', # circle is not filled (with color)\n",
        "                ms=10.0) \n",
        "colors = dfc.VolumePositive.map({True: 'g', False: 'r'})\n",
        "axv.bar(dfc.Date, dfc['Volume'], color=colors, alpha=0.4)\n",
        "axv.axes.yaxis.set_ticklabels([])\n",
        "axv.set_ylim(0, 3*df.Volume.max())\n",
        "ax.set_title('Stock '+ symbol +' Closing Price')\n",
        "ax.set_ylabel('Price')"
      ],
      "outputs": [
        {
          "output_type": "execute_result",
          "execution_count": 13,
          "data": {
            "text/plain": "Text(0, 0.5, 'Price')"
          },
          "metadata": {}
        },
        {
          "output_type": "display_data",
          "data": {
            "text/plain": "<Figure size 1440x1152 with 2 Axes>",
            "image/png": "[encoded data removed]"
          },
          "metadata": {
            "needs_background": "light"
          }
        }
      ],
      "execution_count": 13,
      "metadata": {
        "collapsed": true,
        "jupyter": {
          "source_hidden": false,
          "outputs_hidden": false
        },
        "nteract": {
          "transient": {
            "deleting": false
          }
        },
        "execution": {
          "iopub.status.busy": "2021-10-24T04:40:13.272Z",
          "iopub.execute_input": "2021-10-24T04:40:13.277Z",
          "iopub.status.idle": "2021-10-24T04:40:14.963Z",
          "shell.execute_reply": "2021-10-24T04:40:14.986Z"
        }
      }
    },
    {
      "cell_type": "markdown",
      "source": [
        "## Plot Certain dates"
      ],
      "metadata": {
        "nteract": {
          "transient": {
            "deleting": false
          }
        }
      }
    },
    {
      "cell_type": "code",
      "source": [
        "df = df['2021-08-01':'2021-08-30']\n",
        "dfc = df.copy()\n",
        "dfc['VolumePositive'] = dfc['Open'] < dfc['Adj Close']\n",
        "#dfc = dfc.dropna()\n",
        "dfc = dfc.reset_index()\n",
        "dfc['Date'] = pd.to_datetime(dfc['Date'])\n",
        "dfc['Date'] = dfc['Date'].apply(mdates.date2num)\n",
        "dfc.head()"
      ],
      "outputs": [
        {
          "output_type": "execute_result",
          "execution_count": 14,
          "data": {
            "text/plain": "       Date        Open        High         Low       Close   Adj Close  \\\n0  738004.0  105.930000  110.330002  103.830002  108.629997  108.629997   \n1  738005.0  108.150002  114.849998  107.660004  112.559998  112.559998   \n2  738006.0  114.360001  122.489998  114.160004  118.769997  118.769997   \n3  738007.0  116.629997  117.680000  111.589996  112.349998  112.349998   \n4  738008.0  110.550003  116.260002  109.699997  110.110001  110.110001   \n\n      Volume  shooting_star  VolumePositive  \n0  115581900              0            True  \n1  157723100              0            True  \n2  225368700              0            True  \n3  137860900              0           False  \n4  143792800              0           False  ",
            "text/html": "<div>\n<style scoped>\n    .dataframe tbody tr th:only-of-type {\n        vertical-align: middle;\n    }\n\n    .dataframe tbody tr th {\n        vertical-align: top;\n    }\n\n    .dataframe thead th {\n        text-align: right;\n    }\n</style>\n<table border=\"1\" class=\"dataframe\">\n  <thead>\n    <tr style=\"text-align: right;\">\n      <th></th>\n      <th>Date</th>\n      <th>Open</th>\n      <th>High</th>\n      <th>Low</th>\n      <th>Close</th>\n      <th>Adj Close</th>\n      <th>Volume</th>\n      <th>shooting_star</th>\n      <th>VolumePositive</th>\n    </tr>\n  </thead>\n  <tbody>\n    <tr>\n      <th>0</th>\n      <td>738004.0</td>\n      <td>105.930000</td>\n      <td>110.330002</td>\n      <td>103.830002</td>\n      <td>108.629997</td>\n      <td>108.629997</td>\n      <td>115581900</td>\n      <td>0</td>\n      <td>True</td>\n    </tr>\n    <tr>\n      <th>1</th>\n      <td>738005.0</td>\n      <td>108.150002</td>\n      <td>114.849998</td>\n      <td>107.660004</td>\n      <td>112.559998</td>\n      <td>112.559998</td>\n      <td>157723100</td>\n      <td>0</td>\n      <td>True</td>\n    </tr>\n    <tr>\n      <th>2</th>\n      <td>738006.0</td>\n      <td>114.360001</td>\n      <td>122.489998</td>\n      <td>114.160004</td>\n      <td>118.769997</td>\n      <td>118.769997</td>\n      <td>225368700</td>\n      <td>0</td>\n      <td>True</td>\n    </tr>\n    <tr>\n      <th>3</th>\n      <td>738007.0</td>\n      <td>116.629997</td>\n      <td>117.680000</td>\n      <td>111.589996</td>\n      <td>112.349998</td>\n      <td>112.349998</td>\n      <td>137860900</td>\n      <td>0</td>\n      <td>False</td>\n    </tr>\n    <tr>\n      <th>4</th>\n      <td>738008.0</td>\n      <td>110.550003</td>\n      <td>116.260002</td>\n      <td>109.699997</td>\n      <td>110.110001</td>\n      <td>110.110001</td>\n      <td>143792800</td>\n      <td>0</td>\n      <td>False</td>\n    </tr>\n  </tbody>\n</table>\n</div>"
          },
          "metadata": {}
        }
      ],
      "execution_count": 14,
      "metadata": {
        "collapsed": true,
        "jupyter": {
          "source_hidden": false,
          "outputs_hidden": false
        },
        "nteract": {
          "transient": {
            "deleting": false
          }
        },
        "execution": {
          "iopub.status.busy": "2021-10-24T04:40:14.972Z",
          "iopub.execute_input": "2021-10-24T04:40:14.977Z",
          "iopub.status.idle": "2021-10-24T04:40:15.010Z",
          "shell.execute_reply": "2021-10-24T04:40:14.989Z"
        }
      }
    },
    {
      "cell_type": "code",
      "source": [
        "fig = plt.figure(figsize=(20,16))\n",
        "ax = plt.subplot(2, 1, 1)\n",
        "ax.set_facecolor('black')\n",
        "candlestick_ohlc(ax,dfc.values, width=0.5, colorup='azure', colordown='yellow', alpha=1.0)\n",
        "ax.xaxis_date()\n",
        "ax.xaxis.set_major_formatter(mdates.DateFormatter('%d-%m-%Y'))\n",
        "#ax.grid(True, which='both')\n",
        "#ax.minorticks_on()\n",
        "axv = ax.twinx()\n",
        "ax.plot_date(df['Adj Close'].loc[df['shooting_star'] !=0].index, df['Adj Close'].loc[df['shooting_star'] !=0],\n",
        "                '*y', # marker style 'o', color 'g'\n",
        "                fillstyle='none', # circle is not filled (with color)\n",
        "                ms=25.0) \n",
        "colors = dfc.VolumePositive.map({True: 'snow', False: 'lemonchiffon'})\n",
        "axv.bar(dfc.Date, dfc['Volume'], color=colors, alpha=0.4)\n",
        "axv.axes.yaxis.set_ticklabels([])\n",
        "axv.set_ylim(0, 3*df.Volume.max())\n",
        "ax.set_title('Stock '+ symbol +' Closing Price')\n",
        "ax.set_ylabel('Price')"
      ],
      "outputs": [
        {
          "output_type": "execute_result",
          "execution_count": 15,
          "data": {
            "text/plain": "Text(0, 0.5, 'Price')"
          },
          "metadata": {}
        },
        {
          "output_type": "display_data",
          "data": {
            "text/plain": "<Figure size 1440x1152 with 2 Axes>",
            "image/png": "[encoded data removed]"
          },
          "metadata": {
            "needs_background": "light"
          }
        }
      ],
      "execution_count": 15,
      "metadata": {
        "collapsed": true,
        "jupyter": {
          "source_hidden": false,
          "outputs_hidden": false
        },
        "nteract": {
          "transient": {
            "deleting": false
          }
        },
        "execution": {
          "iopub.status.busy": "2021-10-24T04:40:15.019Z",
          "iopub.execute_input": "2021-10-24T04:40:15.024Z",
          "iopub.status.idle": "2021-10-24T04:40:15.261Z",
          "shell.execute_reply": "2021-10-24T04:40:15.282Z"
        }
      }
    },
    {
      "cell_type": "markdown",
      "source": [
        "# Highlight Candlestick"
      ],
      "metadata": {
        "nteract": {
          "transient": {
            "deleting": false
          }
        }
      }
    },
    {
      "cell_type": "code",
      "source": [
        "from matplotlib.dates import date2num\n",
        "from datetime import datetime\n",
        "\n",
        "fig = plt.figure(figsize=(20,16))\n",
        "ax = plt.subplot(2, 1, 1)\n",
        "candlestick_ohlc(ax,dfc.values, width=0.5, colorup='g', colordown='r', alpha=1.0)\n",
        "ax.xaxis_date()\n",
        "ax.xaxis.set_major_formatter(mdates.DateFormatter('%d-%m-%Y'))\n",
        "#ax.grid(True, which='both')\n",
        "#ax.minorticks_on()\n",
        "axv = ax.twinx()\n",
        "ax.axvspan(date2num(datetime(2021,8,19)), date2num(datetime(2021,8,21)), \n",
        "           label=\"Shooting Star\",color=\"yellow\", alpha=0.3)\n",
        "ax.legend()\n",
        "colors = dfc.VolumePositive.map({True: 'g', False: 'r'})\n",
        "axv.bar(dfc.Date, dfc['Volume'], color=colors, alpha=0.4)\n",
        "axv.axes.yaxis.set_ticklabels([])\n",
        "axv.set_ylim(0, 3*df.Volume.max())\n",
        "ax.set_title('Stock '+ symbol +' Closing Price')\n",
        "ax.set_ylabel('Price')"
      ],
      "outputs": [
        {
          "output_type": "execute_result",
          "execution_count": 16,
          "data": {
            "text/plain": "Text(0, 0.5, 'Price')"
          },
          "metadata": {}
        },
        {
          "output_type": "display_data",
          "data": {
            "text/plain": "<Figure size 1440x1152 with 2 Axes>",
            "image/png": "[encoded data removed]"
          },
          "metadata": {
            "needs_background": "light"
          }
        }
      ],
      "execution_count": 16,
      "metadata": {
        "collapsed": true,
        "jupyter": {
          "source_hidden": false,
          "outputs_hidden": false
        },
        "nteract": {
          "transient": {
            "deleting": false
          }
        },
        "execution": {
          "iopub.status.busy": "2021-10-24T04:40:15.269Z",
          "iopub.execute_input": "2021-10-24T04:40:15.275Z",
          "iopub.status.idle": "2021-10-24T04:40:15.530Z",
          "shell.execute_reply": "2021-10-24T04:40:15.539Z"
        }
      }
    }
  ],
  "metadata": {
    "kernel_info": {
      "name": "python3"
    },
    "language_info": {
      "name": "python",
      "version": "3.6.13",
      "mimetype": "text/x-python",
      "codemirror_mode": {
        "name": "ipython",
        "version": 3
      },
      "pygments_lexer": "ipython3",
      "nbconvert_exporter": "python",
      "file_extension": ".py"
    },
    "kernelspec": {
      "name": "python3",
      "language": "python",
      "display_name": "Python 3"
    },
    "nteract": {
      "version": "0.28.0"
    }
  },
  "nbformat": 4,
  "nbformat_minor": 4
}