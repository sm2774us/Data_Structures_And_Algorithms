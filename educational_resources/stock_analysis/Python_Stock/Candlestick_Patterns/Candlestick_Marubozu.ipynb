{
  "cells": [
    {
      "cell_type": "markdown",
      "source": [
        "# Candlestick Marubozu"
      ],
      "metadata": {}
    },
    {
      "cell_type": "markdown",
      "source": [
        "https://www.investopedia.com/stock-analysis/cotd/pot20120801.aspx"
      ],
      "metadata": {}
    },
    {
      "cell_type": "code",
      "source": [
        "import numpy as np\n",
        "import pandas as pd\n",
        "import matplotlib.pyplot as plt\n",
        "import talib\n",
        "\n",
        "import warnings\n",
        "warnings.filterwarnings(\"ignore\")\n",
        "\n",
        "# yahoo finance is used to fetch data \n",
        "import yfinance as yf\n",
        "yf.pdr_override()"
      ],
      "outputs": [],
      "execution_count": 1,
      "metadata": {
        "collapsed": false,
        "outputHidden": false,
        "inputHidden": false,
        "execution": {
          "iopub.status.busy": "2021-10-24T01:33:24.532Z",
          "iopub.execute_input": "2021-10-24T01:33:24.537Z",
          "iopub.status.idle": "2021-10-24T01:33:24.574Z",
          "shell.execute_reply": "2021-10-24T01:33:24.593Z"
        }
      }
    },
    {
      "cell_type": "code",
      "source": [
        "# input\n",
        "symbol = 'BABA'\n",
        "start = '2021-01-01'\n",
        "end = '2021-10-22'\n",
        "\n",
        "# Read data \n",
        "df = yf.download(symbol,start,end)\n",
        "\n",
        "# View Columns\n",
        "df.head()"
      ],
      "outputs": [
        {
          "output_type": "stream",
          "name": "stdout",
          "text": [
            "[*********************100%***********************]  1 of 1 completed\n"
          ]
        },
        {
          "output_type": "execute_result",
          "execution_count": 2,
          "data": {
            "text/plain": "                  Open        High         Low       Close   Adj Close  \\\nDate                                                                     \n2021-01-04  226.500000  230.380005  225.039993  227.850006  227.850006   \n2021-01-05  229.050003  240.759995  228.119995  240.399994  240.399994   \n2021-01-06  234.949997  238.300003  225.860001  227.610001  227.610001   \n2021-01-07  229.309998  229.949997  220.089996  226.899994  226.899994   \n2021-01-08  227.880005  238.600006  226.682999  236.190002  236.190002   \n\n              Volume  \nDate                  \n2021-01-04  24897900  \n2021-01-05  35823800  \n2021-01-06  37146100  \n2021-01-07  49361800  \n2021-01-08  34884900  ",
            "text/html": "<div>\n<style scoped>\n    .dataframe tbody tr th:only-of-type {\n        vertical-align: middle;\n    }\n\n    .dataframe tbody tr th {\n        vertical-align: top;\n    }\n\n    .dataframe thead th {\n        text-align: right;\n    }\n</style>\n<table border=\"1\" class=\"dataframe\">\n  <thead>\n    <tr style=\"text-align: right;\">\n      <th></th>\n      <th>Open</th>\n      <th>High</th>\n      <th>Low</th>\n      <th>Close</th>\n      <th>Adj Close</th>\n      <th>Volume</th>\n    </tr>\n    <tr>\n      <th>Date</th>\n      <th></th>\n      <th></th>\n      <th></th>\n      <th></th>\n      <th></th>\n      <th></th>\n    </tr>\n  </thead>\n  <tbody>\n    <tr>\n      <th>2021-01-04</th>\n      <td>226.500000</td>\n      <td>230.380005</td>\n      <td>225.039993</td>\n      <td>227.850006</td>\n      <td>227.850006</td>\n      <td>24897900</td>\n    </tr>\n    <tr>\n      <th>2021-01-05</th>\n      <td>229.050003</td>\n      <td>240.759995</td>\n      <td>228.119995</td>\n      <td>240.399994</td>\n      <td>240.399994</td>\n      <td>35823800</td>\n    </tr>\n    <tr>\n      <th>2021-01-06</th>\n      <td>234.949997</td>\n      <td>238.300003</td>\n      <td>225.860001</td>\n      <td>227.610001</td>\n      <td>227.610001</td>\n      <td>37146100</td>\n    </tr>\n    <tr>\n      <th>2021-01-07</th>\n      <td>229.309998</td>\n      <td>229.949997</td>\n      <td>220.089996</td>\n      <td>226.899994</td>\n      <td>226.899994</td>\n      <td>49361800</td>\n    </tr>\n    <tr>\n      <th>2021-01-08</th>\n      <td>227.880005</td>\n      <td>238.600006</td>\n      <td>226.682999</td>\n      <td>236.190002</td>\n      <td>236.190002</td>\n      <td>34884900</td>\n    </tr>\n  </tbody>\n</table>\n</div>"
          },
          "metadata": {}
        }
      ],
      "execution_count": 2,
      "metadata": {
        "collapsed": false,
        "outputHidden": false,
        "inputHidden": false,
        "execution": {
          "iopub.status.busy": "2021-10-24T01:33:24.582Z",
          "iopub.execute_input": "2021-10-24T01:33:24.587Z",
          "iopub.status.idle": "2021-10-24T01:33:25.224Z",
          "shell.execute_reply": "2021-10-24T01:33:25.279Z"
        }
      }
    },
    {
      "cell_type": "markdown",
      "source": [
        "## Candlestick with Marubozu"
      ],
      "metadata": {}
    },
    {
      "cell_type": "code",
      "source": [
        "from matplotlib import dates as mdates\n",
        "import datetime as dt\n",
        "\n",
        "dfc = df.copy()\n",
        "dfc['VolumePositive'] = dfc['Open'] < dfc['Adj Close']\n",
        "#dfc = dfc.dropna()\n",
        "dfc = dfc.reset_index()\n",
        "dfc['Date'] = pd.to_datetime(dfc['Date'])\n",
        "dfc['Date'] = dfc['Date'].apply(mdates.date2num)\n",
        "dfc.head()"
      ],
      "outputs": [
        {
          "output_type": "execute_result",
          "execution_count": 3,
          "data": {
            "text/plain": "       Date        Open        High         Low       Close   Adj Close  \\\n0  737794.0  226.500000  230.380005  225.039993  227.850006  227.850006   \n1  737795.0  229.050003  240.759995  228.119995  240.399994  240.399994   \n2  737796.0  234.949997  238.300003  225.860001  227.610001  227.610001   \n3  737797.0  229.309998  229.949997  220.089996  226.899994  226.899994   \n4  737798.0  227.880005  238.600006  226.682999  236.190002  236.190002   \n\n     Volume  VolumePositive  \n0  24897900            True  \n1  35823800            True  \n2  37146100           False  \n3  49361800           False  \n4  34884900            True  ",
            "text/html": "<div>\n<style scoped>\n    .dataframe tbody tr th:only-of-type {\n        vertical-align: middle;\n    }\n\n    .dataframe tbody tr th {\n        vertical-align: top;\n    }\n\n    .dataframe thead th {\n        text-align: right;\n    }\n</style>\n<table border=\"1\" class=\"dataframe\">\n  <thead>\n    <tr style=\"text-align: right;\">\n      <th></th>\n      <th>Date</th>\n      <th>Open</th>\n      <th>High</th>\n      <th>Low</th>\n      <th>Close</th>\n      <th>Adj Close</th>\n      <th>Volume</th>\n      <th>VolumePositive</th>\n    </tr>\n  </thead>\n  <tbody>\n    <tr>\n      <th>0</th>\n      <td>737794.0</td>\n      <td>226.500000</td>\n      <td>230.380005</td>\n      <td>225.039993</td>\n      <td>227.850006</td>\n      <td>227.850006</td>\n      <td>24897900</td>\n      <td>True</td>\n    </tr>\n    <tr>\n      <th>1</th>\n      <td>737795.0</td>\n      <td>229.050003</td>\n      <td>240.759995</td>\n      <td>228.119995</td>\n      <td>240.399994</td>\n      <td>240.399994</td>\n      <td>35823800</td>\n      <td>True</td>\n    </tr>\n    <tr>\n      <th>2</th>\n      <td>737796.0</td>\n      <td>234.949997</td>\n      <td>238.300003</td>\n      <td>225.860001</td>\n      <td>227.610001</td>\n      <td>227.610001</td>\n      <td>37146100</td>\n      <td>False</td>\n    </tr>\n    <tr>\n      <th>3</th>\n      <td>737797.0</td>\n      <td>229.309998</td>\n      <td>229.949997</td>\n      <td>220.089996</td>\n      <td>226.899994</td>\n      <td>226.899994</td>\n      <td>49361800</td>\n      <td>False</td>\n    </tr>\n    <tr>\n      <th>4</th>\n      <td>737798.0</td>\n      <td>227.880005</td>\n      <td>238.600006</td>\n      <td>226.682999</td>\n      <td>236.190002</td>\n      <td>236.190002</td>\n      <td>34884900</td>\n      <td>True</td>\n    </tr>\n  </tbody>\n</table>\n</div>"
          },
          "metadata": {}
        }
      ],
      "execution_count": 3,
      "metadata": {
        "collapsed": false,
        "outputHidden": false,
        "inputHidden": false,
        "execution": {
          "iopub.status.busy": "2021-10-24T01:33:25.231Z",
          "iopub.execute_input": "2021-10-24T01:33:25.237Z",
          "iopub.status.idle": "2021-10-24T01:33:25.248Z",
          "shell.execute_reply": "2021-10-24T01:33:25.283Z"
        }
      }
    },
    {
      "cell_type": "code",
      "source": [
        "from mplfinance.original_flavor import candlestick_ohlc\n",
        "\n",
        "fig = plt.figure(figsize=(14,10))\n",
        "ax = plt.subplot(2, 1, 1)\n",
        "candlestick_ohlc(ax,dfc.values, width=0.5, colorup='g', colordown='r', alpha=1.0)\n",
        "ax.xaxis_date()\n",
        "ax.xaxis.set_major_formatter(mdates.DateFormatter('%d-%m-%Y'))\n",
        "ax.grid(True, which='both')\n",
        "ax.minorticks_on()\n",
        "axv = ax.twinx()\n",
        "colors = dfc.VolumePositive.map({True: 'g', False: 'r'})\n",
        "axv.bar(dfc.Date, dfc['Volume'], color=colors, alpha=0.4)\n",
        "axv.axes.yaxis.set_ticklabels([])\n",
        "axv.set_ylim(0, 3*df.Volume.max())\n",
        "ax.set_title('Stock '+ symbol +' Closing Price')\n",
        "ax.set_ylabel('Price')"
      ],
      "outputs": [
        {
          "output_type": "execute_result",
          "execution_count": 4,
          "data": {
            "text/plain": "Text(0, 0.5, 'Price')"
          },
          "metadata": {}
        },
        {
          "output_type": "display_data",
          "data": {
            "text/plain": "<Figure size 1008x720 with 2 Axes>",
            "image/png": "[encoded data removed]"
          },
          "metadata": {
            "needs_background": "light"
          }
        }
      ],
      "execution_count": 4,
      "metadata": {
        "collapsed": false,
        "outputHidden": false,
        "inputHidden": false,
        "execution": {
          "iopub.status.busy": "2021-10-24T01:33:25.256Z",
          "iopub.execute_input": "2021-10-24T01:33:25.261Z",
          "iopub.status.idle": "2021-10-24T01:33:26.177Z",
          "shell.execute_reply": "2021-10-24T01:33:26.168Z"
        }
      }
    },
    {
      "cell_type": "code",
      "source": [
        "marubozu = talib.CDLMARUBOZU(df['Open'], df['High'], df['Low'], df['Close'])\n",
        "\n",
        "marubozu = marubozu[marubozu != 0]"
      ],
      "outputs": [],
      "execution_count": 5,
      "metadata": {
        "collapsed": true,
        "jupyter": {
          "source_hidden": false,
          "outputs_hidden": false
        },
        "nteract": {
          "transient": {
            "deleting": false
          }
        },
        "execution": {
          "iopub.status.busy": "2021-10-24T01:33:26.185Z",
          "iopub.execute_input": "2021-10-24T01:33:26.190Z",
          "iopub.status.idle": "2021-10-24T01:33:26.198Z",
          "shell.execute_reply": "2021-10-24T01:33:26.422Z"
        }
      }
    },
    {
      "cell_type": "code",
      "source": [
        "df['marubozu'] = talib.CDLMARUBOZU(df['Open'], df['High'], df['Low'], df['Close'])"
      ],
      "outputs": [],
      "execution_count": 6,
      "metadata": {
        "collapsed": true,
        "jupyter": {
          "source_hidden": false,
          "outputs_hidden": false
        },
        "nteract": {
          "transient": {
            "deleting": false
          }
        },
        "execution": {
          "iopub.status.busy": "2021-10-24T01:33:26.205Z",
          "iopub.execute_input": "2021-10-24T01:33:26.210Z",
          "iopub.status.idle": "2021-10-24T01:33:26.222Z",
          "shell.execute_reply": "2021-10-24T01:33:26.427Z"
        }
      }
    },
    {
      "cell_type": "code",
      "source": [
        "df.loc[df['marubozu'] !=0]"
      ],
      "outputs": [
        {
          "output_type": "execute_result",
          "execution_count": 7,
          "data": {
            "text/plain": "                  Open        High         Low       Close   Adj Close  \\\nDate                                                                     \n2021-02-02  264.570007  265.000000  254.039993  254.500000  254.500000   \n2021-02-25  250.000000  250.339996  240.070007  240.179993  240.179993   \n2021-02-26  244.630005  244.899994  237.649994  237.759995  237.759995   \n2021-03-09  233.380005  238.740005  233.074997  238.139999  238.139999   \n2021-03-24  236.830002  237.300003  229.240005  229.589996  229.589996   \n2021-03-29  225.490005  232.380005  225.100006  231.860001  231.860001   \n2021-07-07  211.610001  212.050003  207.820007  208.000000  208.000000   \n2021-09-02  178.009995  178.179993  171.669998  172.000000  172.000000   \n2021-10-11  169.610001  169.800003  163.949997  163.949997  163.949997   \n2021-10-19  170.600006  177.440002  170.449997  177.000000  177.000000   \n\n              Volume  marubozu  \nDate                            \n2021-02-02  30534300      -100  \n2021-02-25  17967300      -100  \n2021-02-26  17470700      -100  \n2021-03-09  15291300       100  \n2021-03-24  15949900      -100  \n2021-03-29  18029100       100  \n2021-07-07  18340400      -100  \n2021-09-02  29302400      -100  \n2021-10-11  42193600      -100  \n2021-10-19  33538900       100  ",
            "text/html": "<div>\n<style scoped>\n    .dataframe tbody tr th:only-of-type {\n        vertical-align: middle;\n    }\n\n    .dataframe tbody tr th {\n        vertical-align: top;\n    }\n\n    .dataframe thead th {\n        text-align: right;\n    }\n</style>\n<table border=\"1\" class=\"dataframe\">\n  <thead>\n    <tr style=\"text-align: right;\">\n      <th></th>\n      <th>Open</th>\n      <th>High</th>\n      <th>Low</th>\n      <th>Close</th>\n      <th>Adj Close</th>\n      <th>Volume</th>\n      <th>marubozu</th>\n    </tr>\n    <tr>\n      <th>Date</th>\n      <th></th>\n      <th></th>\n      <th></th>\n      <th></th>\n      <th></th>\n      <th></th>\n      <th></th>\n    </tr>\n  </thead>\n  <tbody>\n    <tr>\n      <th>2021-02-02</th>\n      <td>264.570007</td>\n      <td>265.000000</td>\n      <td>254.039993</td>\n      <td>254.500000</td>\n      <td>254.500000</td>\n      <td>30534300</td>\n      <td>-100</td>\n    </tr>\n    <tr>\n      <th>2021-02-25</th>\n      <td>250.000000</td>\n      <td>250.339996</td>\n      <td>240.070007</td>\n      <td>240.179993</td>\n      <td>240.179993</td>\n      <td>17967300</td>\n      <td>-100</td>\n    </tr>\n    <tr>\n      <th>2021-02-26</th>\n      <td>244.630005</td>\n      <td>244.899994</td>\n      <td>237.649994</td>\n      <td>237.759995</td>\n      <td>237.759995</td>\n      <td>17470700</td>\n      <td>-100</td>\n    </tr>\n    <tr>\n      <th>2021-03-09</th>\n      <td>233.380005</td>\n      <td>238.740005</td>\n      <td>233.074997</td>\n      <td>238.139999</td>\n      <td>238.139999</td>\n      <td>15291300</td>\n      <td>100</td>\n    </tr>\n    <tr>\n      <th>2021-03-24</th>\n      <td>236.830002</td>\n      <td>237.300003</td>\n      <td>229.240005</td>\n      <td>229.589996</td>\n      <td>229.589996</td>\n      <td>15949900</td>\n      <td>-100</td>\n    </tr>\n    <tr>\n      <th>2021-03-29</th>\n      <td>225.490005</td>\n      <td>232.380005</td>\n      <td>225.100006</td>\n      <td>231.860001</td>\n      <td>231.860001</td>\n      <td>18029100</td>\n      <td>100</td>\n    </tr>\n    <tr>\n      <th>2021-07-07</th>\n      <td>211.610001</td>\n      <td>212.050003</td>\n      <td>207.820007</td>\n      <td>208.000000</td>\n      <td>208.000000</td>\n      <td>18340400</td>\n      <td>-100</td>\n    </tr>\n    <tr>\n      <th>2021-09-02</th>\n      <td>178.009995</td>\n      <td>178.179993</td>\n      <td>171.669998</td>\n      <td>172.000000</td>\n      <td>172.000000</td>\n      <td>29302400</td>\n      <td>-100</td>\n    </tr>\n    <tr>\n      <th>2021-10-11</th>\n      <td>169.610001</td>\n      <td>169.800003</td>\n      <td>163.949997</td>\n      <td>163.949997</td>\n      <td>163.949997</td>\n      <td>42193600</td>\n      <td>-100</td>\n    </tr>\n    <tr>\n      <th>2021-10-19</th>\n      <td>170.600006</td>\n      <td>177.440002</td>\n      <td>170.449997</td>\n      <td>177.000000</td>\n      <td>177.000000</td>\n      <td>33538900</td>\n      <td>100</td>\n    </tr>\n  </tbody>\n</table>\n</div>"
          },
          "metadata": {}
        }
      ],
      "execution_count": 7,
      "metadata": {
        "collapsed": true,
        "jupyter": {
          "source_hidden": false,
          "outputs_hidden": false
        },
        "nteract": {
          "transient": {
            "deleting": false
          }
        },
        "execution": {
          "iopub.status.busy": "2021-10-24T01:33:26.231Z",
          "iopub.execute_input": "2021-10-24T01:33:26.237Z",
          "iopub.status.idle": "2021-10-24T01:33:26.251Z",
          "shell.execute_reply": "2021-10-24T01:33:26.431Z"
        }
      }
    },
    {
      "cell_type": "code",
      "source": [
        "df['Adj Close'].loc[df['marubozu'] !=0]"
      ],
      "outputs": [
        {
          "output_type": "execute_result",
          "execution_count": 8,
          "data": {
            "text/plain": "Date\n2021-02-02    254.500000\n2021-02-25    240.179993\n2021-02-26    237.759995\n2021-03-09    238.139999\n2021-03-24    229.589996\n2021-03-29    231.860001\n2021-07-07    208.000000\n2021-09-02    172.000000\n2021-10-11    163.949997\n2021-10-19    177.000000\nName: Adj Close, dtype: float64"
          },
          "metadata": {}
        }
      ],
      "execution_count": 8,
      "metadata": {
        "collapsed": true,
        "jupyter": {
          "source_hidden": false,
          "outputs_hidden": false
        },
        "nteract": {
          "transient": {
            "deleting": false
          }
        },
        "execution": {
          "iopub.status.busy": "2021-10-24T01:33:26.260Z",
          "iopub.execute_input": "2021-10-24T01:33:26.265Z",
          "iopub.status.idle": "2021-10-24T01:33:26.278Z",
          "shell.execute_reply": "2021-10-24T01:33:26.434Z"
        }
      }
    },
    {
      "cell_type": "code",
      "source": [
        "df['Adj Close'].loc[df['marubozu'] !=0].index"
      ],
      "outputs": [
        {
          "output_type": "execute_result",
          "execution_count": 9,
          "data": {
            "text/plain": "DatetimeIndex(['2021-02-02', '2021-02-25', '2021-02-26', '2021-03-09',\n               '2021-03-24', '2021-03-29', '2021-07-07', '2021-09-02',\n               '2021-10-11', '2021-10-19'],\n              dtype='datetime64[ns]', name='Date', freq=None)"
          },
          "metadata": {}
        }
      ],
      "execution_count": 9,
      "metadata": {
        "collapsed": true,
        "jupyter": {
          "source_hidden": false,
          "outputs_hidden": false
        },
        "nteract": {
          "transient": {
            "deleting": false
          }
        },
        "execution": {
          "iopub.status.busy": "2021-10-24T01:33:26.287Z",
          "iopub.execute_input": "2021-10-24T01:33:26.293Z",
          "iopub.status.idle": "2021-10-24T01:33:26.303Z",
          "shell.execute_reply": "2021-10-24T01:33:26.438Z"
        }
      }
    },
    {
      "cell_type": "code",
      "source": [
        "marubozu"
      ],
      "outputs": [
        {
          "output_type": "execute_result",
          "execution_count": 10,
          "data": {
            "text/plain": "Date\n2021-02-02   -100\n2021-02-25   -100\n2021-02-26   -100\n2021-03-09    100\n2021-03-24   -100\n2021-03-29    100\n2021-07-07   -100\n2021-09-02   -100\n2021-10-11   -100\n2021-10-19    100\ndtype: int32"
          },
          "metadata": {}
        }
      ],
      "execution_count": 10,
      "metadata": {
        "collapsed": true,
        "jupyter": {
          "source_hidden": false,
          "outputs_hidden": false
        },
        "nteract": {
          "transient": {
            "deleting": false
          }
        },
        "execution": {
          "iopub.status.busy": "2021-10-24T01:33:26.312Z",
          "iopub.execute_input": "2021-10-24T01:33:26.317Z",
          "iopub.status.idle": "2021-10-24T01:33:26.328Z",
          "shell.execute_reply": "2021-10-24T01:33:26.442Z"
        }
      }
    },
    {
      "cell_type": "code",
      "source": [
        "marubozu.index"
      ],
      "outputs": [
        {
          "output_type": "execute_result",
          "execution_count": 11,
          "data": {
            "text/plain": "DatetimeIndex(['2021-02-02', '2021-02-25', '2021-02-26', '2021-03-09',\n               '2021-03-24', '2021-03-29', '2021-07-07', '2021-09-02',\n               '2021-10-11', '2021-10-19'],\n              dtype='datetime64[ns]', name='Date', freq=None)"
          },
          "metadata": {}
        }
      ],
      "execution_count": 11,
      "metadata": {
        "collapsed": true,
        "jupyter": {
          "source_hidden": false,
          "outputs_hidden": false
        },
        "nteract": {
          "transient": {
            "deleting": false
          }
        },
        "execution": {
          "iopub.status.busy": "2021-10-24T01:33:26.335Z",
          "iopub.execute_input": "2021-10-24T01:33:26.341Z",
          "iopub.status.idle": "2021-10-24T01:33:26.354Z",
          "shell.execute_reply": "2021-10-24T01:33:26.445Z"
        }
      }
    },
    {
      "cell_type": "code",
      "source": [
        "df"
      ],
      "outputs": [
        {
          "output_type": "execute_result",
          "execution_count": 12,
          "data": {
            "text/plain": "                  Open        High         Low       Close   Adj Close  \\\nDate                                                                     \n2021-01-04  226.500000  230.380005  225.039993  227.850006  227.850006   \n2021-01-05  229.050003  240.759995  228.119995  240.399994  240.399994   \n2021-01-06  234.949997  238.300003  225.860001  227.610001  227.610001   \n2021-01-07  229.309998  229.949997  220.089996  226.899994  226.899994   \n2021-01-08  227.880005  238.600006  226.682999  236.190002  236.190002   \n...                ...         ...         ...         ...         ...   \n2021-10-15  166.990005  169.800003  165.434998  168.000000  168.000000   \n2021-10-18  166.580002  169.250000  166.580002  166.820007  166.820007   \n2021-10-19  170.600006  177.440002  170.449997  177.000000  177.000000   \n2021-10-20  180.949997  182.089996  176.130005  177.179993  177.179993   \n2021-10-21  177.000000  179.779999  176.710007  177.419998  177.419998   \n\n              Volume  marubozu  \nDate                            \n2021-01-04  24897900         0  \n2021-01-05  35823800         0  \n2021-01-06  37146100         0  \n2021-01-07  49361800         0  \n2021-01-08  34884900         0  \n...              ...       ...  \n2021-10-15  20747300         0  \n2021-10-18  18945900         0  \n2021-10-19  33538900       100  \n2021-10-20  33714400         0  \n2021-10-21  16444000         0  \n\n[203 rows x 7 columns]",
            "text/html": "<div>\n<style scoped>\n    .dataframe tbody tr th:only-of-type {\n        vertical-align: middle;\n    }\n\n    .dataframe tbody tr th {\n        vertical-align: top;\n    }\n\n    .dataframe thead th {\n        text-align: right;\n    }\n</style>\n<table border=\"1\" class=\"dataframe\">\n  <thead>\n    <tr style=\"text-align: right;\">\n      <th></th>\n      <th>Open</th>\n      <th>High</th>\n      <th>Low</th>\n      <th>Close</th>\n      <th>Adj Close</th>\n      <th>Volume</th>\n      <th>marubozu</th>\n    </tr>\n    <tr>\n      <th>Date</th>\n      <th></th>\n      <th></th>\n      <th></th>\n      <th></th>\n      <th></th>\n      <th></th>\n      <th></th>\n    </tr>\n  </thead>\n  <tbody>\n    <tr>\n      <th>2021-01-04</th>\n      <td>226.500000</td>\n      <td>230.380005</td>\n      <td>225.039993</td>\n      <td>227.850006</td>\n      <td>227.850006</td>\n      <td>24897900</td>\n      <td>0</td>\n    </tr>\n    <tr>\n      <th>2021-01-05</th>\n      <td>229.050003</td>\n      <td>240.759995</td>\n      <td>228.119995</td>\n      <td>240.399994</td>\n      <td>240.399994</td>\n      <td>35823800</td>\n      <td>0</td>\n    </tr>\n    <tr>\n      <th>2021-01-06</th>\n      <td>234.949997</td>\n      <td>238.300003</td>\n      <td>225.860001</td>\n      <td>227.610001</td>\n      <td>227.610001</td>\n      <td>37146100</td>\n      <td>0</td>\n    </tr>\n    <tr>\n      <th>2021-01-07</th>\n      <td>229.309998</td>\n      <td>229.949997</td>\n      <td>220.089996</td>\n      <td>226.899994</td>\n      <td>226.899994</td>\n      <td>49361800</td>\n      <td>0</td>\n    </tr>\n    <tr>\n      <th>2021-01-08</th>\n      <td>227.880005</td>\n      <td>238.600006</td>\n      <td>226.682999</td>\n      <td>236.190002</td>\n      <td>236.190002</td>\n      <td>34884900</td>\n      <td>0</td>\n    </tr>\n    <tr>\n      <th>...</th>\n      <td>...</td>\n      <td>...</td>\n      <td>...</td>\n      <td>...</td>\n      <td>...</td>\n      <td>...</td>\n      <td>...</td>\n    </tr>\n    <tr>\n      <th>2021-10-15</th>\n      <td>166.990005</td>\n      <td>169.800003</td>\n      <td>165.434998</td>\n      <td>168.000000</td>\n      <td>168.000000</td>\n      <td>20747300</td>\n      <td>0</td>\n    </tr>\n    <tr>\n      <th>2021-10-18</th>\n      <td>166.580002</td>\n      <td>169.250000</td>\n      <td>166.580002</td>\n      <td>166.820007</td>\n      <td>166.820007</td>\n      <td>18945900</td>\n      <td>0</td>\n    </tr>\n    <tr>\n      <th>2021-10-19</th>\n      <td>170.600006</td>\n      <td>177.440002</td>\n      <td>170.449997</td>\n      <td>177.000000</td>\n      <td>177.000000</td>\n      <td>33538900</td>\n      <td>100</td>\n    </tr>\n    <tr>\n      <th>2021-10-20</th>\n      <td>180.949997</td>\n      <td>182.089996</td>\n      <td>176.130005</td>\n      <td>177.179993</td>\n      <td>177.179993</td>\n      <td>33714400</td>\n      <td>0</td>\n    </tr>\n    <tr>\n      <th>2021-10-21</th>\n      <td>177.000000</td>\n      <td>179.779999</td>\n      <td>176.710007</td>\n      <td>177.419998</td>\n      <td>177.419998</td>\n      <td>16444000</td>\n      <td>0</td>\n    </tr>\n  </tbody>\n</table>\n<p>203 rows × 7 columns</p>\n</div>"
          },
          "metadata": {}
        }
      ],
      "execution_count": 12,
      "metadata": {
        "collapsed": true,
        "jupyter": {
          "source_hidden": false,
          "outputs_hidden": false
        },
        "nteract": {
          "transient": {
            "deleting": false
          }
        },
        "execution": {
          "iopub.status.busy": "2021-10-24T01:33:26.363Z",
          "iopub.execute_input": "2021-10-24T01:33:26.368Z",
          "iopub.status.idle": "2021-10-24T01:33:26.383Z",
          "shell.execute_reply": "2021-10-24T01:33:26.448Z"
        }
      }
    },
    {
      "cell_type": "code",
      "source": [
        "fig = plt.figure(figsize=(20,16))\n",
        "ax = plt.subplot(2, 1, 1)\n",
        "candlestick_ohlc(ax,dfc.values, width=0.5, colorup='g', colordown='r', alpha=1.0)\n",
        "ax.xaxis_date()\n",
        "ax.xaxis.set_major_formatter(mdates.DateFormatter('%d-%m-%Y'))\n",
        "ax.grid(True, which='both')\n",
        "ax.minorticks_on()\n",
        "axv = ax.twinx()\n",
        "ax.plot_date(df['Adj Close'].loc[df['marubozu'] !=0].index, df['Adj Close'].loc[df['marubozu'] !=0],\n",
        "                'pk', # marker style 'o', color 'g'\n",
        "                fillstyle='none', # circle is not filled (with color)\n",
        "                ms=10.0) \n",
        "colors = dfc.VolumePositive.map({True: 'g', False: 'r'})\n",
        "axv.bar(dfc.Date, dfc['Volume'], color=colors, alpha=0.4)\n",
        "axv.axes.yaxis.set_ticklabels([])\n",
        "axv.set_ylim(0, 3*df.Volume.max())\n",
        "ax.set_title('Stock '+ symbol +' Closing Price')\n",
        "ax.set_ylabel('Price')"
      ],
      "outputs": [
        {
          "output_type": "execute_result",
          "execution_count": 13,
          "data": {
            "text/plain": "Text(0, 0.5, 'Price')"
          },
          "metadata": {}
        },
        {
          "output_type": "display_data",
          "data": {
            "text/plain": "<Figure size 1440x1152 with 2 Axes>",
            "image/png": "[encoded data removed]"
          },
          "metadata": {
            "needs_background": "light"
          }
        }
      ],
      "execution_count": 13,
      "metadata": {
        "collapsed": true,
        "jupyter": {
          "source_hidden": false,
          "outputs_hidden": false
        },
        "nteract": {
          "transient": {
            "deleting": false
          }
        },
        "execution": {
          "iopub.status.busy": "2021-10-24T01:33:26.393Z",
          "iopub.execute_input": "2021-10-24T01:33:26.398Z",
          "iopub.status.idle": "2021-10-24T01:33:27.299Z",
          "shell.execute_reply": "2021-10-24T01:33:27.345Z"
        }
      }
    },
    {
      "cell_type": "markdown",
      "source": [
        "## Plot Certain dates"
      ],
      "metadata": {
        "nteract": {
          "transient": {
            "deleting": false
          }
        }
      }
    },
    {
      "cell_type": "code",
      "source": [
        "df = df['2021-10-01':'2021-10-22']\n",
        "dfc = df.copy()\n",
        "dfc['VolumePositive'] = dfc['Open'] < dfc['Adj Close']\n",
        "#dfc = dfc.dropna()\n",
        "dfc = dfc.reset_index()\n",
        "dfc['Date'] = pd.to_datetime(dfc['Date'])\n",
        "dfc['Date'] = dfc['Date'].apply(mdates.date2num)\n",
        "dfc.head()"
      ],
      "outputs": [
        {
          "output_type": "execute_result",
          "execution_count": 14,
          "data": {
            "text/plain": "       Date        Open        High         Low       Close   Adj Close  \\\n0  738064.0  147.089996  148.449997  143.339996  144.199997  144.199997   \n1  738067.0  141.699997  141.899994  138.429993  139.630005  139.630005   \n2  738068.0  139.380005  143.830002  139.190002  143.139999  143.139999   \n3  738069.0  140.559998  144.891998  139.960007  144.100006  144.100006   \n4  738070.0  151.050003  158.289993  150.750000  156.000000  156.000000   \n\n     Volume  marubozu  VolumePositive  \n0  20211000         0           False  \n1  25218500         0           False  \n2  14032100         0            True  \n3  14875900         0            True  \n4  46035900         0            True  ",
            "text/html": "<div>\n<style scoped>\n    .dataframe tbody tr th:only-of-type {\n        vertical-align: middle;\n    }\n\n    .dataframe tbody tr th {\n        vertical-align: top;\n    }\n\n    .dataframe thead th {\n        text-align: right;\n    }\n</style>\n<table border=\"1\" class=\"dataframe\">\n  <thead>\n    <tr style=\"text-align: right;\">\n      <th></th>\n      <th>Date</th>\n      <th>Open</th>\n      <th>High</th>\n      <th>Low</th>\n      <th>Close</th>\n      <th>Adj Close</th>\n      <th>Volume</th>\n      <th>marubozu</th>\n      <th>VolumePositive</th>\n    </tr>\n  </thead>\n  <tbody>\n    <tr>\n      <th>0</th>\n      <td>738064.0</td>\n      <td>147.089996</td>\n      <td>148.449997</td>\n      <td>143.339996</td>\n      <td>144.199997</td>\n      <td>144.199997</td>\n      <td>20211000</td>\n      <td>0</td>\n      <td>False</td>\n    </tr>\n    <tr>\n      <th>1</th>\n      <td>738067.0</td>\n      <td>141.699997</td>\n      <td>141.899994</td>\n      <td>138.429993</td>\n      <td>139.630005</td>\n      <td>139.630005</td>\n      <td>25218500</td>\n      <td>0</td>\n      <td>False</td>\n    </tr>\n    <tr>\n      <th>2</th>\n      <td>738068.0</td>\n      <td>139.380005</td>\n      <td>143.830002</td>\n      <td>139.190002</td>\n      <td>143.139999</td>\n      <td>143.139999</td>\n      <td>14032100</td>\n      <td>0</td>\n      <td>True</td>\n    </tr>\n    <tr>\n      <th>3</th>\n      <td>738069.0</td>\n      <td>140.559998</td>\n      <td>144.891998</td>\n      <td>139.960007</td>\n      <td>144.100006</td>\n      <td>144.100006</td>\n      <td>14875900</td>\n      <td>0</td>\n      <td>True</td>\n    </tr>\n    <tr>\n      <th>4</th>\n      <td>738070.0</td>\n      <td>151.050003</td>\n      <td>158.289993</td>\n      <td>150.750000</td>\n      <td>156.000000</td>\n      <td>156.000000</td>\n      <td>46035900</td>\n      <td>0</td>\n      <td>True</td>\n    </tr>\n  </tbody>\n</table>\n</div>"
          },
          "metadata": {}
        }
      ],
      "execution_count": 14,
      "metadata": {
        "collapsed": true,
        "jupyter": {
          "source_hidden": false,
          "outputs_hidden": false
        },
        "nteract": {
          "transient": {
            "deleting": false
          }
        },
        "execution": {
          "iopub.status.busy": "2021-10-24T01:33:27.308Z",
          "iopub.execute_input": "2021-10-24T01:33:27.313Z",
          "iopub.status.idle": "2021-10-24T01:33:27.324Z",
          "shell.execute_reply": "2021-10-24T01:33:27.348Z"
        }
      }
    },
    {
      "cell_type": "code",
      "source": [
        "fig = plt.figure(figsize=(20,16))\n",
        "ax = plt.subplot(2, 1, 1)\n",
        "ax.set_facecolor('darkblue')\n",
        "candlestick_ohlc(ax,dfc.values, width=0.5, colorup='mediumblue', colordown='darkorchid', alpha=1.0)\n",
        "ax.xaxis_date()\n",
        "ax.xaxis.set_major_formatter(mdates.DateFormatter('%d-%m-%Y'))\n",
        "#ax.grid(True, which='both')\n",
        "#ax.minorticks_on()\n",
        "axv = ax.twinx()\n",
        "ax.plot_date(df['Adj Close'].loc[df['marubozu'] !=0].index, df['Adj Close'].loc[df['marubozu'] !=0],\n",
        "                'pw', # marker style 'o', color 'g'\n",
        "                fillstyle='none', # circle is not filled (with color)\n",
        "                ms=25.0) \n",
        "colors = dfc.VolumePositive.map({True: 'mediumblue', False: 'darkorchid'})\n",
        "axv.bar(dfc.Date, dfc['Volume'], color=colors, alpha=0.4)\n",
        "axv.axes.yaxis.set_ticklabels([])\n",
        "axv.set_ylim(0, 3*df.Volume.max())\n",
        "ax.set_title('Stock '+ symbol +' Closing Price')\n",
        "ax.set_ylabel('Price')"
      ],
      "outputs": [
        {
          "output_type": "execute_result",
          "execution_count": 15,
          "data": {
            "text/plain": "Text(0, 0.5, 'Price')"
          },
          "metadata": {}
        },
        {
          "output_type": "display_data",
          "data": {
            "text/plain": "<Figure size 1440x1152 with 2 Axes>",
            "image/png": "[encoded data removed]"
          },
          "metadata": {
            "needs_background": "light"
          }
        }
      ],
      "execution_count": 15,
      "metadata": {
        "collapsed": true,
        "jupyter": {
          "source_hidden": false,
          "outputs_hidden": false
        },
        "nteract": {
          "transient": {
            "deleting": false
          }
        },
        "execution": {
          "iopub.status.busy": "2021-10-24T01:33:27.333Z",
          "iopub.execute_input": "2021-10-24T01:33:27.340Z",
          "iopub.status.idle": "2021-10-24T01:33:27.581Z",
          "shell.execute_reply": "2021-10-24T01:33:27.606Z"
        }
      }
    },
    {
      "cell_type": "markdown",
      "source": [
        "# Highlight Candlestick"
      ],
      "metadata": {
        "nteract": {
          "transient": {
            "deleting": false
          }
        }
      }
    },
    {
      "cell_type": "code",
      "source": [
        "from matplotlib.dates import date2num\n",
        "from datetime import datetime\n",
        "\n",
        "fig = plt.figure(figsize=(20,16))\n",
        "ax = plt.subplot(2, 1, 1)\n",
        "candlestick_ohlc(ax,dfc.values, width=0.5, colorup='g', colordown='r', alpha=1.0)\n",
        "ax.xaxis_date()\n",
        "ax.xaxis.set_major_formatter(mdates.DateFormatter('%d-%m-%Y'))\n",
        "#ax.grid(True, which='both')\n",
        "#ax.minorticks_on()\n",
        "axv = ax.twinx()\n",
        "ax.axvspan(date2num(datetime(2021,10,10)), date2num(datetime(2021,10,12)), \n",
        "           label=\"Marubozu Bearish\",color=\"hotpink\", alpha=0.3)\n",
        "ax.axvspan(date2num(datetime(2021,10,18)), date2num(datetime(2021,10,20)), \n",
        "           label=\"Marubozu Bullish\",color=\"royalblue\", alpha=0.3)\n",
        "ax.legend()\n",
        "colors = dfc.VolumePositive.map({True: 'g', False: 'r'})\n",
        "axv.bar(dfc.Date, dfc['Volume'], color=colors, alpha=0.4)\n",
        "axv.axes.yaxis.set_ticklabels([])\n",
        "axv.set_ylim(0, 3*df.Volume.max())\n",
        "ax.set_title('Stock '+ symbol +' Closing Price')\n",
        "ax.set_ylabel('Price')"
      ],
      "outputs": [
        {
          "output_type": "execute_result",
          "execution_count": 16,
          "data": {
            "text/plain": "Text(0, 0.5, 'Price')"
          },
          "metadata": {}
        },
        {
          "output_type": "display_data",
          "data": {
            "text/plain": "<Figure size 1440x1152 with 2 Axes>",
            "image/png": "[encoded data removed]"
          },
          "metadata": {
            "needs_background": "light"
          }
        }
      ],
      "execution_count": 16,
      "metadata": {
        "collapsed": true,
        "jupyter": {
          "source_hidden": false,
          "outputs_hidden": false
        },
        "nteract": {
          "transient": {
            "deleting": false
          }
        },
        "execution": {
          "iopub.status.busy": "2021-10-24T01:33:27.592Z",
          "iopub.execute_input": "2021-10-24T01:33:27.599Z",
          "iopub.status.idle": "2021-10-24T01:33:27.833Z",
          "shell.execute_reply": "2021-10-24T01:33:27.844Z"
        }
      }
    }
  ],
  "metadata": {
    "kernel_info": {
      "name": "python3"
    },
    "language_info": {
      "name": "python",
      "version": "3.6.13",
      "mimetype": "text/x-python",
      "codemirror_mode": {
        "name": "ipython",
        "version": 3
      },
      "pygments_lexer": "ipython3",
      "nbconvert_exporter": "python",
      "file_extension": ".py"
    },
    "kernelspec": {
      "name": "python3",
      "language": "python",
      "display_name": "Python 3"
    },
    "nteract": {
      "version": "0.28.0"
    }
  },
  "nbformat": 4,
  "nbformat_minor": 4
}