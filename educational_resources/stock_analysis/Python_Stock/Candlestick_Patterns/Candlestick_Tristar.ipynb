{
  "cells": [
    {
      "cell_type": "markdown",
      "source": [
        "# Candlestick Tristar"
      ],
      "metadata": {}
    },
    {
      "cell_type": "markdown",
      "source": [
        "https://www.investopedia.com/terms/t/tri-star.asp"
      ],
      "metadata": {}
    },
    {
      "cell_type": "code",
      "source": [
        "import numpy as np\n",
        "import pandas as pd\n",
        "import matplotlib.pyplot as plt\n",
        "import talib\n",
        "\n",
        "import warnings\n",
        "warnings.filterwarnings(\"ignore\")\n",
        "\n",
        "# yahoo finance is used to fetch data \n",
        "import yfinance as yf\n",
        "yf.pdr_override()"
      ],
      "outputs": [],
      "execution_count": 1,
      "metadata": {
        "collapsed": false,
        "outputHidden": false,
        "inputHidden": false,
        "execution": {
          "iopub.status.busy": "2021-10-24T06:08:29.288Z",
          "iopub.execute_input": "2021-10-24T06:08:29.296Z",
          "iopub.status.idle": "2021-10-24T06:08:29.745Z",
          "shell.execute_reply": "2021-10-24T06:08:29.775Z"
        }
      }
    },
    {
      "cell_type": "code",
      "source": [
        "# input\n",
        "symbol = 'DTN'\n",
        "start = '2021-01-01'\n",
        "end = '2021-10-22'\n",
        "\n",
        "# Read data \n",
        "df = yf.download(symbol,start,end)\n",
        "\n",
        "# View Columns\n",
        "df.head()"
      ],
      "outputs": [
        {
          "output_type": "stream",
          "name": "stdout",
          "text": [
            "[*********************100%***********************]  1 of 1 completed\n"
          ]
        },
        {
          "output_type": "execute_result",
          "execution_count": 2,
          "data": {
            "text/plain": "                 Open       High        Low      Close  Adj Close  Volume\nDate                                                                     \n2021-01-04  83.989998  83.989998  82.300003  82.629997  81.084007    8400\n2021-01-05  82.769997  83.639999  82.589996  83.260002  81.702209   16500\n2021-01-06  83.440002  85.570000  83.440002  85.180000  83.586304   26500\n2021-01-07  85.300003  85.400002  84.910004  85.129997  83.537224    6600\n2021-01-08  85.250000  85.250000  84.610001  85.029999  83.439102    5900",
            "text/html": "<div>\n<style scoped>\n    .dataframe tbody tr th:only-of-type {\n        vertical-align: middle;\n    }\n\n    .dataframe tbody tr th {\n        vertical-align: top;\n    }\n\n    .dataframe thead th {\n        text-align: right;\n    }\n</style>\n<table border=\"1\" class=\"dataframe\">\n  <thead>\n    <tr style=\"text-align: right;\">\n      <th></th>\n      <th>Open</th>\n      <th>High</th>\n      <th>Low</th>\n      <th>Close</th>\n      <th>Adj Close</th>\n      <th>Volume</th>\n    </tr>\n    <tr>\n      <th>Date</th>\n      <th></th>\n      <th></th>\n      <th></th>\n      <th></th>\n      <th></th>\n      <th></th>\n    </tr>\n  </thead>\n  <tbody>\n    <tr>\n      <th>2021-01-04</th>\n      <td>83.989998</td>\n      <td>83.989998</td>\n      <td>82.300003</td>\n      <td>82.629997</td>\n      <td>81.084007</td>\n      <td>8400</td>\n    </tr>\n    <tr>\n      <th>2021-01-05</th>\n      <td>82.769997</td>\n      <td>83.639999</td>\n      <td>82.589996</td>\n      <td>83.260002</td>\n      <td>81.702209</td>\n      <td>16500</td>\n    </tr>\n    <tr>\n      <th>2021-01-06</th>\n      <td>83.440002</td>\n      <td>85.570000</td>\n      <td>83.440002</td>\n      <td>85.180000</td>\n      <td>83.586304</td>\n      <td>26500</td>\n    </tr>\n    <tr>\n      <th>2021-01-07</th>\n      <td>85.300003</td>\n      <td>85.400002</td>\n      <td>84.910004</td>\n      <td>85.129997</td>\n      <td>83.537224</td>\n      <td>6600</td>\n    </tr>\n    <tr>\n      <th>2021-01-08</th>\n      <td>85.250000</td>\n      <td>85.250000</td>\n      <td>84.610001</td>\n      <td>85.029999</td>\n      <td>83.439102</td>\n      <td>5900</td>\n    </tr>\n  </tbody>\n</table>\n</div>"
          },
          "metadata": {}
        }
      ],
      "execution_count": 2,
      "metadata": {
        "collapsed": false,
        "outputHidden": false,
        "inputHidden": false,
        "execution": {
          "iopub.status.busy": "2021-10-24T06:08:29.758Z",
          "iopub.execute_input": "2021-10-24T06:08:29.764Z",
          "iopub.status.idle": "2021-10-24T06:08:30.458Z",
          "shell.execute_reply": "2021-10-24T06:08:30.527Z"
        }
      }
    },
    {
      "cell_type": "markdown",
      "source": [
        "## Candlestick with Tristar"
      ],
      "metadata": {}
    },
    {
      "cell_type": "code",
      "source": [
        "from matplotlib import dates as mdates\n",
        "import datetime as dt\n",
        "\n",
        "dfc = df.copy()\n",
        "dfc['VolumePositive'] = dfc['Open'] < dfc['Adj Close']\n",
        "#dfc = dfc.dropna()\n",
        "dfc = dfc.reset_index()\n",
        "dfc['Date'] = pd.to_datetime(dfc['Date'])\n",
        "dfc['Date'] = dfc['Date'].apply(mdates.date2num)\n",
        "dfc.head()"
      ],
      "outputs": [
        {
          "output_type": "execute_result",
          "execution_count": 3,
          "data": {
            "text/plain": "       Date       Open       High        Low      Close  Adj Close  Volume  \\\n0  737794.0  83.989998  83.989998  82.300003  82.629997  81.084007    8400   \n1  737795.0  82.769997  83.639999  82.589996  83.260002  81.702209   16500   \n2  737796.0  83.440002  85.570000  83.440002  85.180000  83.586304   26500   \n3  737797.0  85.300003  85.400002  84.910004  85.129997  83.537224    6600   \n4  737798.0  85.250000  85.250000  84.610001  85.029999  83.439102    5900   \n\n   VolumePositive  \n0           False  \n1           False  \n2            True  \n3           False  \n4           False  ",
            "text/html": "<div>\n<style scoped>\n    .dataframe tbody tr th:only-of-type {\n        vertical-align: middle;\n    }\n\n    .dataframe tbody tr th {\n        vertical-align: top;\n    }\n\n    .dataframe thead th {\n        text-align: right;\n    }\n</style>\n<table border=\"1\" class=\"dataframe\">\n  <thead>\n    <tr style=\"text-align: right;\">\n      <th></th>\n      <th>Date</th>\n      <th>Open</th>\n      <th>High</th>\n      <th>Low</th>\n      <th>Close</th>\n      <th>Adj Close</th>\n      <th>Volume</th>\n      <th>VolumePositive</th>\n    </tr>\n  </thead>\n  <tbody>\n    <tr>\n      <th>0</th>\n      <td>737794.0</td>\n      <td>83.989998</td>\n      <td>83.989998</td>\n      <td>82.300003</td>\n      <td>82.629997</td>\n      <td>81.084007</td>\n      <td>8400</td>\n      <td>False</td>\n    </tr>\n    <tr>\n      <th>1</th>\n      <td>737795.0</td>\n      <td>82.769997</td>\n      <td>83.639999</td>\n      <td>82.589996</td>\n      <td>83.260002</td>\n      <td>81.702209</td>\n      <td>16500</td>\n      <td>False</td>\n    </tr>\n    <tr>\n      <th>2</th>\n      <td>737796.0</td>\n      <td>83.440002</td>\n      <td>85.570000</td>\n      <td>83.440002</td>\n      <td>85.180000</td>\n      <td>83.586304</td>\n      <td>26500</td>\n      <td>True</td>\n    </tr>\n    <tr>\n      <th>3</th>\n      <td>737797.0</td>\n      <td>85.300003</td>\n      <td>85.400002</td>\n      <td>84.910004</td>\n      <td>85.129997</td>\n      <td>83.537224</td>\n      <td>6600</td>\n      <td>False</td>\n    </tr>\n    <tr>\n      <th>4</th>\n      <td>737798.0</td>\n      <td>85.250000</td>\n      <td>85.250000</td>\n      <td>84.610001</td>\n      <td>85.029999</td>\n      <td>83.439102</td>\n      <td>5900</td>\n      <td>False</td>\n    </tr>\n  </tbody>\n</table>\n</div>"
          },
          "metadata": {}
        }
      ],
      "execution_count": 3,
      "metadata": {
        "collapsed": false,
        "outputHidden": false,
        "inputHidden": false,
        "execution": {
          "iopub.status.busy": "2021-10-24T06:08:30.468Z",
          "iopub.execute_input": "2021-10-24T06:08:30.474Z",
          "iopub.status.idle": "2021-10-24T06:08:30.489Z",
          "shell.execute_reply": "2021-10-24T06:08:30.533Z"
        }
      }
    },
    {
      "cell_type": "code",
      "source": [
        "from mplfinance.original_flavor import candlestick_ohlc\n",
        "\n",
        "fig = plt.figure(figsize=(14,10))\n",
        "ax = plt.subplot(2, 1, 1)\n",
        "candlestick_ohlc(ax,dfc.values, width=0.5, colorup='g', colordown='r', alpha=1.0)\n",
        "ax.xaxis_date()\n",
        "ax.xaxis.set_major_formatter(mdates.DateFormatter('%d-%m-%Y'))\n",
        "ax.grid(True, which='both')\n",
        "ax.minorticks_on()\n",
        "axv = ax.twinx()\n",
        "colors = dfc.VolumePositive.map({True: 'g', False: 'r'})\n",
        "axv.bar(dfc.Date, dfc['Volume'], color=colors, alpha=0.4)\n",
        "axv.axes.yaxis.set_ticklabels([])\n",
        "axv.set_ylim(0, 3*df.Volume.max())\n",
        "ax.set_title('Stock '+ symbol +' Closing Price')\n",
        "ax.set_ylabel('Price')"
      ],
      "outputs": [
        {
          "output_type": "execute_result",
          "execution_count": 4,
          "data": {
            "text/plain": "Text(0, 0.5, 'Price')"
          },
          "metadata": {}
        },
        {
          "output_type": "display_data",
          "data": {
            "text/plain": "<Figure size 1008x720 with 2 Axes>",
            "image/png": "[encoded data removed]"
          },
          "metadata": {
            "needs_background": "light"
          }
        }
      ],
      "execution_count": 4,
      "metadata": {
        "collapsed": false,
        "outputHidden": false,
        "inputHidden": false,
        "execution": {
          "iopub.status.busy": "2021-10-24T06:08:30.498Z",
          "iopub.execute_input": "2021-10-24T06:08:30.503Z",
          "iopub.status.idle": "2021-10-24T06:08:31.422Z",
          "shell.execute_reply": "2021-10-24T06:08:31.645Z"
        }
      }
    },
    {
      "cell_type": "code",
      "source": [
        "tristar = talib.CDLTRISTAR(df['Open'], df['High'], df['Low'], df['Close'])\n",
        "\n",
        "tristar = tristar[tristar != 0]"
      ],
      "outputs": [],
      "execution_count": 5,
      "metadata": {
        "collapsed": true,
        "jupyter": {
          "source_hidden": false,
          "outputs_hidden": false
        },
        "nteract": {
          "transient": {
            "deleting": false
          }
        },
        "execution": {
          "iopub.status.busy": "2021-10-24T06:08:31.432Z",
          "iopub.execute_input": "2021-10-24T06:08:31.440Z",
          "iopub.status.idle": "2021-10-24T06:08:31.448Z",
          "shell.execute_reply": "2021-10-24T06:08:31.648Z"
        }
      }
    },
    {
      "cell_type": "code",
      "source": [
        "df['tristar'] = talib.CDLTRISTAR(df['Open'], df['High'], df['Low'], df['Close'])"
      ],
      "outputs": [],
      "execution_count": 6,
      "metadata": {
        "collapsed": true,
        "jupyter": {
          "source_hidden": false,
          "outputs_hidden": false
        },
        "nteract": {
          "transient": {
            "deleting": false
          }
        },
        "execution": {
          "iopub.status.busy": "2021-10-24T06:08:31.455Z",
          "iopub.execute_input": "2021-10-24T06:08:31.460Z",
          "iopub.status.idle": "2021-10-24T06:08:31.468Z",
          "shell.execute_reply": "2021-10-24T06:08:31.651Z"
        }
      }
    },
    {
      "cell_type": "code",
      "source": [
        "df.loc[df['tristar'] !=0]"
      ],
      "outputs": [
        {
          "output_type": "execute_result",
          "execution_count": 7,
          "data": {
            "text/plain": "                 Open       High        Low      Close  Adj Close  Volume  \\\nDate                                                                        \n2021-08-09  96.690002  96.860001  96.589996  96.739998  96.184715    7400   \n\n            tristar  \nDate                 \n2021-08-09     -100  ",
            "text/html": "<div>\n<style scoped>\n    .dataframe tbody tr th:only-of-type {\n        vertical-align: middle;\n    }\n\n    .dataframe tbody tr th {\n        vertical-align: top;\n    }\n\n    .dataframe thead th {\n        text-align: right;\n    }\n</style>\n<table border=\"1\" class=\"dataframe\">\n  <thead>\n    <tr style=\"text-align: right;\">\n      <th></th>\n      <th>Open</th>\n      <th>High</th>\n      <th>Low</th>\n      <th>Close</th>\n      <th>Adj Close</th>\n      <th>Volume</th>\n      <th>tristar</th>\n    </tr>\n    <tr>\n      <th>Date</th>\n      <th></th>\n      <th></th>\n      <th></th>\n      <th></th>\n      <th></th>\n      <th></th>\n      <th></th>\n    </tr>\n  </thead>\n  <tbody>\n    <tr>\n      <th>2021-08-09</th>\n      <td>96.690002</td>\n      <td>96.860001</td>\n      <td>96.589996</td>\n      <td>96.739998</td>\n      <td>96.184715</td>\n      <td>7400</td>\n      <td>-100</td>\n    </tr>\n  </tbody>\n</table>\n</div>"
          },
          "metadata": {}
        }
      ],
      "execution_count": 7,
      "metadata": {
        "collapsed": true,
        "jupyter": {
          "source_hidden": false,
          "outputs_hidden": false
        },
        "nteract": {
          "transient": {
            "deleting": false
          }
        },
        "execution": {
          "iopub.status.busy": "2021-10-24T06:08:31.478Z",
          "iopub.execute_input": "2021-10-24T06:08:31.484Z",
          "iopub.status.idle": "2021-10-24T06:08:31.499Z",
          "shell.execute_reply": "2021-10-24T06:08:31.653Z"
        }
      }
    },
    {
      "cell_type": "code",
      "source": [
        "df['Adj Close'].loc[df['tristar'] !=0]"
      ],
      "outputs": [
        {
          "output_type": "execute_result",
          "execution_count": 8,
          "data": {
            "text/plain": "Date\n2021-08-09    96.184715\nName: Adj Close, dtype: float64"
          },
          "metadata": {}
        }
      ],
      "execution_count": 8,
      "metadata": {
        "collapsed": true,
        "jupyter": {
          "source_hidden": false,
          "outputs_hidden": false
        },
        "nteract": {
          "transient": {
            "deleting": false
          }
        },
        "execution": {
          "iopub.status.busy": "2021-10-24T06:08:31.506Z",
          "iopub.execute_input": "2021-10-24T06:08:31.513Z",
          "iopub.status.idle": "2021-10-24T06:08:31.524Z",
          "shell.execute_reply": "2021-10-24T06:08:31.656Z"
        }
      }
    },
    {
      "cell_type": "code",
      "source": [
        "df['tristar'].loc[df['tristar'] !=0].index"
      ],
      "outputs": [
        {
          "output_type": "execute_result",
          "execution_count": 9,
          "data": {
            "text/plain": "DatetimeIndex(['2021-08-09'], dtype='datetime64[ns]', name='Date', freq=None)"
          },
          "metadata": {}
        }
      ],
      "execution_count": 9,
      "metadata": {
        "collapsed": true,
        "jupyter": {
          "source_hidden": false,
          "outputs_hidden": false
        },
        "nteract": {
          "transient": {
            "deleting": false
          }
        },
        "execution": {
          "iopub.status.busy": "2021-10-24T06:08:31.531Z",
          "iopub.execute_input": "2021-10-24T06:08:31.536Z",
          "iopub.status.idle": "2021-10-24T06:08:31.547Z",
          "shell.execute_reply": "2021-10-24T06:08:31.659Z"
        }
      }
    },
    {
      "cell_type": "code",
      "source": [
        "tristar"
      ],
      "outputs": [
        {
          "output_type": "execute_result",
          "execution_count": 10,
          "data": {
            "text/plain": "Date\n2021-08-09   -100\ndtype: int32"
          },
          "metadata": {}
        }
      ],
      "execution_count": 10,
      "metadata": {
        "collapsed": true,
        "jupyter": {
          "source_hidden": false,
          "outputs_hidden": false
        },
        "nteract": {
          "transient": {
            "deleting": false
          }
        },
        "execution": {
          "iopub.status.busy": "2021-10-24T06:08:31.554Z",
          "iopub.execute_input": "2021-10-24T06:08:31.560Z",
          "iopub.status.idle": "2021-10-24T06:08:31.569Z",
          "shell.execute_reply": "2021-10-24T06:08:31.663Z"
        }
      }
    },
    {
      "cell_type": "code",
      "source": [
        "tristar.index"
      ],
      "outputs": [
        {
          "output_type": "execute_result",
          "execution_count": 11,
          "data": {
            "text/plain": "DatetimeIndex(['2021-08-09'], dtype='datetime64[ns]', name='Date', freq=None)"
          },
          "metadata": {}
        }
      ],
      "execution_count": 11,
      "metadata": {
        "collapsed": true,
        "jupyter": {
          "source_hidden": false,
          "outputs_hidden": false
        },
        "nteract": {
          "transient": {
            "deleting": false
          }
        },
        "execution": {
          "iopub.status.busy": "2021-10-24T06:08:31.577Z",
          "iopub.execute_input": "2021-10-24T06:08:31.584Z",
          "iopub.status.idle": "2021-10-24T06:08:31.599Z",
          "shell.execute_reply": "2021-10-24T06:08:31.667Z"
        }
      }
    },
    {
      "cell_type": "code",
      "source": [
        "df"
      ],
      "outputs": [
        {
          "output_type": "execute_result",
          "execution_count": 12,
          "data": {
            "text/plain": "                 Open       High        Low      Close  Adj Close  Volume  \\\nDate                                                                        \n2021-01-04  83.989998  83.989998  82.300003  82.629997  81.084007    8400   \n2021-01-05  82.769997  83.639999  82.589996  83.260002  81.702209   16500   \n2021-01-06  83.440002  85.570000  83.440002  85.180000  83.586304   26500   \n2021-01-07  85.300003  85.400002  84.910004  85.129997  83.537224    6600   \n2021-01-08  85.250000  85.250000  84.610001  85.029999  83.439102    5900   \n...               ...        ...        ...        ...        ...     ...   \n2021-10-15  97.309998  97.599998  97.029999  97.029999  97.029999    4200   \n2021-10-18  96.800003  96.889999  96.570000  96.580002  96.580002    2400   \n2021-10-19  96.709999  97.040001  96.680000  97.000000  97.000000    4100   \n2021-10-20  97.809998  98.059998  97.800003  97.860001  97.860001    1800   \n2021-10-21  97.459999  97.489998  97.129997  97.410004  97.410004    2700   \n\n            tristar  \nDate                 \n2021-01-04        0  \n2021-01-05        0  \n2021-01-06        0  \n2021-01-07        0  \n2021-01-08        0  \n...             ...  \n2021-10-15        0  \n2021-10-18        0  \n2021-10-19        0  \n2021-10-20        0  \n2021-10-21        0  \n\n[203 rows x 7 columns]",
            "text/html": "<div>\n<style scoped>\n    .dataframe tbody tr th:only-of-type {\n        vertical-align: middle;\n    }\n\n    .dataframe tbody tr th {\n        vertical-align: top;\n    }\n\n    .dataframe thead th {\n        text-align: right;\n    }\n</style>\n<table border=\"1\" class=\"dataframe\">\n  <thead>\n    <tr style=\"text-align: right;\">\n      <th></th>\n      <th>Open</th>\n      <th>High</th>\n      <th>Low</th>\n      <th>Close</th>\n      <th>Adj Close</th>\n      <th>Volume</th>\n      <th>tristar</th>\n    </tr>\n    <tr>\n      <th>Date</th>\n      <th></th>\n      <th></th>\n      <th></th>\n      <th></th>\n      <th></th>\n      <th></th>\n      <th></th>\n    </tr>\n  </thead>\n  <tbody>\n    <tr>\n      <th>2021-01-04</th>\n      <td>83.989998</td>\n      <td>83.989998</td>\n      <td>82.300003</td>\n      <td>82.629997</td>\n      <td>81.084007</td>\n      <td>8400</td>\n      <td>0</td>\n    </tr>\n    <tr>\n      <th>2021-01-05</th>\n      <td>82.769997</td>\n      <td>83.639999</td>\n      <td>82.589996</td>\n      <td>83.260002</td>\n      <td>81.702209</td>\n      <td>16500</td>\n      <td>0</td>\n    </tr>\n    <tr>\n      <th>2021-01-06</th>\n      <td>83.440002</td>\n      <td>85.570000</td>\n      <td>83.440002</td>\n      <td>85.180000</td>\n      <td>83.586304</td>\n      <td>26500</td>\n      <td>0</td>\n    </tr>\n    <tr>\n      <th>2021-01-07</th>\n      <td>85.300003</td>\n      <td>85.400002</td>\n      <td>84.910004</td>\n      <td>85.129997</td>\n      <td>83.537224</td>\n      <td>6600</td>\n      <td>0</td>\n    </tr>\n    <tr>\n      <th>2021-01-08</th>\n      <td>85.250000</td>\n      <td>85.250000</td>\n      <td>84.610001</td>\n      <td>85.029999</td>\n      <td>83.439102</td>\n      <td>5900</td>\n      <td>0</td>\n    </tr>\n    <tr>\n      <th>...</th>\n      <td>...</td>\n      <td>...</td>\n      <td>...</td>\n      <td>...</td>\n      <td>...</td>\n      <td>...</td>\n      <td>...</td>\n    </tr>\n    <tr>\n      <th>2021-10-15</th>\n      <td>97.309998</td>\n      <td>97.599998</td>\n      <td>97.029999</td>\n      <td>97.029999</td>\n      <td>97.029999</td>\n      <td>4200</td>\n      <td>0</td>\n    </tr>\n    <tr>\n      <th>2021-10-18</th>\n      <td>96.800003</td>\n      <td>96.889999</td>\n      <td>96.570000</td>\n      <td>96.580002</td>\n      <td>96.580002</td>\n      <td>2400</td>\n      <td>0</td>\n    </tr>\n    <tr>\n      <th>2021-10-19</th>\n      <td>96.709999</td>\n      <td>97.040001</td>\n      <td>96.680000</td>\n      <td>97.000000</td>\n      <td>97.000000</td>\n      <td>4100</td>\n      <td>0</td>\n    </tr>\n    <tr>\n      <th>2021-10-20</th>\n      <td>97.809998</td>\n      <td>98.059998</td>\n      <td>97.800003</td>\n      <td>97.860001</td>\n      <td>97.860001</td>\n      <td>1800</td>\n      <td>0</td>\n    </tr>\n    <tr>\n      <th>2021-10-21</th>\n      <td>97.459999</td>\n      <td>97.489998</td>\n      <td>97.129997</td>\n      <td>97.410004</td>\n      <td>97.410004</td>\n      <td>2700</td>\n      <td>0</td>\n    </tr>\n  </tbody>\n</table>\n<p>203 rows × 7 columns</p>\n</div>"
          },
          "metadata": {}
        }
      ],
      "execution_count": 12,
      "metadata": {
        "collapsed": true,
        "jupyter": {
          "source_hidden": false,
          "outputs_hidden": false
        },
        "nteract": {
          "transient": {
            "deleting": false
          }
        },
        "execution": {
          "iopub.status.busy": "2021-10-24T06:08:31.608Z",
          "iopub.execute_input": "2021-10-24T06:08:31.613Z",
          "iopub.status.idle": "2021-10-24T06:08:31.627Z",
          "shell.execute_reply": "2021-10-24T06:08:31.671Z"
        }
      }
    },
    {
      "cell_type": "code",
      "source": [
        "fig = plt.figure(figsize=(20,16))\n",
        "ax = plt.subplot(2, 1, 1)\n",
        "candlestick_ohlc(ax,dfc.values, width=0.5, colorup='g', colordown='r', alpha=1.0)\n",
        "ax.xaxis_date()\n",
        "ax.xaxis.set_major_formatter(mdates.DateFormatter('%d-%m-%Y'))\n",
        "ax.grid(True, which='both')\n",
        "ax.minorticks_on()\n",
        "axv = ax.twinx()\n",
        "ax.plot_date(df['Adj Close'].loc[df['tristar'] !=0].index, df['Adj Close'].loc[df['tristar'] !=0],\n",
        "                'Dc', # marker style 'o', color 'g'\n",
        "                fillstyle='none', # circle is not filled (with color)\n",
        "                ms=10.0) \n",
        "colors = dfc.VolumePositive.map({True: 'g', False: 'r'})\n",
        "axv.bar(dfc.Date, dfc['Volume'], color=colors, alpha=0.4)\n",
        "axv.axes.yaxis.set_ticklabels([])\n",
        "axv.set_ylim(0, 3*df.Volume.max())\n",
        "ax.set_title('Stock '+ symbol +' Closing Price')\n",
        "ax.set_ylabel('Price')"
      ],
      "outputs": [
        {
          "output_type": "execute_result",
          "execution_count": 13,
          "data": {
            "text/plain": "Text(0, 0.5, 'Price')"
          },
          "metadata": {}
        },
        {
          "output_type": "display_data",
          "data": {
            "text/plain": "<Figure size 1440x1152 with 2 Axes>",
            "image/png": "[encoded data removed]"
          },
          "metadata": {
            "needs_background": "light"
          }
        }
      ],
      "execution_count": 13,
      "metadata": {
        "collapsed": true,
        "jupyter": {
          "source_hidden": false,
          "outputs_hidden": false
        },
        "nteract": {
          "transient": {
            "deleting": false
          }
        },
        "execution": {
          "iopub.status.busy": "2021-10-24T06:08:31.634Z",
          "iopub.execute_input": "2021-10-24T06:08:31.638Z",
          "iopub.status.idle": "2021-10-24T06:08:32.526Z",
          "shell.execute_reply": "2021-10-24T06:08:32.560Z"
        }
      }
    },
    {
      "cell_type": "markdown",
      "source": [
        "## Plot Certain dates"
      ],
      "metadata": {
        "nteract": {
          "transient": {
            "deleting": false
          }
        }
      }
    },
    {
      "cell_type": "code",
      "source": [
        "df = df['2021-08-01':'2021-09-01']\n",
        "dfc = df.copy()\n",
        "dfc['VolumePositive'] = dfc['Open'] < dfc['Adj Close']\n",
        "#dfc = dfc.dropna()\n",
        "dfc = dfc.reset_index()\n",
        "dfc['Date'] = pd.to_datetime(dfc['Date'])\n",
        "dfc['Date'] = dfc['Date'].apply(mdates.date2num)\n",
        "dfc.head()"
      ],
      "outputs": [
        {
          "output_type": "execute_result",
          "execution_count": 14,
          "data": {
            "text/plain": "       Date       Open       High        Low      Close  Adj Close  Volume  \\\n0  738004.0  97.650002  97.720001  96.870003  96.870003  96.313972    3400   \n1  738005.0  97.099998  97.580002  96.870003  97.580002  97.019897    5100   \n2  738006.0  97.389999  97.389999  96.180000  96.220001  95.667702    6000   \n3  738007.0  96.629997  96.639999  96.389999  96.639999  96.085289    1800   \n4  738008.0  96.940002  97.199997  96.889999  96.889999  96.333855    2500   \n\n   tristar  VolumePositive  \n0        0           False  \n1        0           False  \n2        0           False  \n3        0           False  \n4        0           False  ",
            "text/html": "<div>\n<style scoped>\n    .dataframe tbody tr th:only-of-type {\n        vertical-align: middle;\n    }\n\n    .dataframe tbody tr th {\n        vertical-align: top;\n    }\n\n    .dataframe thead th {\n        text-align: right;\n    }\n</style>\n<table border=\"1\" class=\"dataframe\">\n  <thead>\n    <tr style=\"text-align: right;\">\n      <th></th>\n      <th>Date</th>\n      <th>Open</th>\n      <th>High</th>\n      <th>Low</th>\n      <th>Close</th>\n      <th>Adj Close</th>\n      <th>Volume</th>\n      <th>tristar</th>\n      <th>VolumePositive</th>\n    </tr>\n  </thead>\n  <tbody>\n    <tr>\n      <th>0</th>\n      <td>738004.0</td>\n      <td>97.650002</td>\n      <td>97.720001</td>\n      <td>96.870003</td>\n      <td>96.870003</td>\n      <td>96.313972</td>\n      <td>3400</td>\n      <td>0</td>\n      <td>False</td>\n    </tr>\n    <tr>\n      <th>1</th>\n      <td>738005.0</td>\n      <td>97.099998</td>\n      <td>97.580002</td>\n      <td>96.870003</td>\n      <td>97.580002</td>\n      <td>97.019897</td>\n      <td>5100</td>\n      <td>0</td>\n      <td>False</td>\n    </tr>\n    <tr>\n      <th>2</th>\n      <td>738006.0</td>\n      <td>97.389999</td>\n      <td>97.389999</td>\n      <td>96.180000</td>\n      <td>96.220001</td>\n      <td>95.667702</td>\n      <td>6000</td>\n      <td>0</td>\n      <td>False</td>\n    </tr>\n    <tr>\n      <th>3</th>\n      <td>738007.0</td>\n      <td>96.629997</td>\n      <td>96.639999</td>\n      <td>96.389999</td>\n      <td>96.639999</td>\n      <td>96.085289</td>\n      <td>1800</td>\n      <td>0</td>\n      <td>False</td>\n    </tr>\n    <tr>\n      <th>4</th>\n      <td>738008.0</td>\n      <td>96.940002</td>\n      <td>97.199997</td>\n      <td>96.889999</td>\n      <td>96.889999</td>\n      <td>96.333855</td>\n      <td>2500</td>\n      <td>0</td>\n      <td>False</td>\n    </tr>\n  </tbody>\n</table>\n</div>"
          },
          "metadata": {}
        }
      ],
      "execution_count": 14,
      "metadata": {
        "collapsed": true,
        "jupyter": {
          "source_hidden": false,
          "outputs_hidden": false
        },
        "nteract": {
          "transient": {
            "deleting": false
          }
        },
        "execution": {
          "iopub.status.busy": "2021-10-24T06:08:32.533Z",
          "iopub.execute_input": "2021-10-24T06:08:32.539Z",
          "iopub.status.idle": "2021-10-24T06:08:32.570Z",
          "shell.execute_reply": "2021-10-24T06:08:32.565Z"
        }
      }
    },
    {
      "cell_type": "code",
      "source": [
        "fig = plt.figure(figsize=(20,16))\n",
        "ax = plt.subplot(2, 1, 1)\n",
        "ax.set_facecolor('white')\n",
        "candlestick_ohlc(ax,dfc.values, width=0.5, colorup='grey', colordown='black', alpha=1.0)\n",
        "ax.xaxis_date()\n",
        "ax.xaxis.set_major_formatter(mdates.DateFormatter('%d-%m-%Y'))\n",
        "#ax.grid(True, which='both')\n",
        "#ax.minorticks_on()\n",
        "axv = ax.twinx()\n",
        "ax.plot_date(df['Adj Close'].loc[df['tristar'] !=0].index, df['Adj Close'].loc[df['tristar'] !=0],\n",
        "                '*y', # marker style 'o', color 'g'\n",
        "                fillstyle='none', # circle is not filled (with color)\n",
        "                ms=25.0) \n",
        "colors = dfc.VolumePositive.map({True: 'grey', False: 'black'})\n",
        "axv.bar(dfc.Date, dfc['Volume'], color=colors, alpha=0.4)\n",
        "axv.axes.yaxis.set_ticklabels([])\n",
        "axv.set_ylim(0, 3*df.Volume.max())\n",
        "ax.set_title('Stock '+ symbol +' Closing Price')\n",
        "ax.set_ylabel('Price')"
      ],
      "outputs": [
        {
          "output_type": "execute_result",
          "execution_count": 15,
          "data": {
            "text/plain": "Text(0, 0.5, 'Price')"
          },
          "metadata": {}
        },
        {
          "output_type": "display_data",
          "data": {
            "text/plain": "<Figure size 1440x1152 with 2 Axes>",
            "image/png": "[encoded data removed]"
          },
          "metadata": {
            "needs_background": "light"
          }
        }
      ],
      "execution_count": 15,
      "metadata": {
        "collapsed": true,
        "jupyter": {
          "source_hidden": false,
          "outputs_hidden": false
        },
        "nteract": {
          "transient": {
            "deleting": false
          }
        },
        "execution": {
          "iopub.status.busy": "2021-10-24T06:08:32.577Z",
          "iopub.execute_input": "2021-10-24T06:08:32.582Z",
          "iopub.status.idle": "2021-10-24T06:08:32.833Z",
          "shell.execute_reply": "2021-10-24T06:08:32.859Z"
        }
      }
    },
    {
      "cell_type": "markdown",
      "source": [
        "# Highlight Candlestick"
      ],
      "metadata": {
        "nteract": {
          "transient": {
            "deleting": false
          }
        }
      }
    },
    {
      "cell_type": "code",
      "source": [
        "from matplotlib.dates import date2num\n",
        "from datetime import datetime\n",
        "\n",
        "fig = plt.figure(figsize=(20,16))\n",
        "ax = plt.subplot(2, 1, 1)\n",
        "candlestick_ohlc(ax,dfc.values, width=0.5, colorup='g', colordown='r', alpha=1.0)\n",
        "ax.xaxis_date()\n",
        "ax.xaxis.set_major_formatter(mdates.DateFormatter('%d-%m-%Y'))\n",
        "#ax.grid(True, which='both')\n",
        "#ax.minorticks_on()\n",
        "axv = ax.twinx()\n",
        "ax.axvspan(date2num(datetime(2021,8,8)), date2num(datetime(2021,8,10)), \n",
        "           label=\"Tri-Star Bearish\",color=\"red\", alpha=0.3)\n",
        "ax.legend()\n",
        "colors = dfc.VolumePositive.map({True: 'g', False: 'r'})\n",
        "axv.bar(dfc.Date, dfc['Volume'], color=colors, alpha=0.4)\n",
        "axv.axes.yaxis.set_ticklabels([])\n",
        "axv.set_ylim(0, 3*df.Volume.max())\n",
        "ax.set_title('Stock '+ symbol +' Closing Price')\n",
        "ax.set_ylabel('Price')"
      ],
      "outputs": [
        {
          "output_type": "execute_result",
          "execution_count": 16,
          "data": {
            "text/plain": "Text(0, 0.5, 'Price')"
          },
          "metadata": {}
        },
        {
          "output_type": "display_data",
          "data": {
            "text/plain": "<Figure size 1440x1152 with 2 Axes>",
            "image/png": "[encoded data removed]"
          },
          "metadata": {
            "needs_background": "light"
          }
        }
      ],
      "execution_count": 16,
      "metadata": {
        "collapsed": true,
        "jupyter": {
          "source_hidden": false,
          "outputs_hidden": false
        },
        "nteract": {
          "transient": {
            "deleting": false
          }
        },
        "execution": {
          "iopub.status.busy": "2021-10-24T06:08:32.841Z",
          "iopub.execute_input": "2021-10-24T06:08:32.846Z",
          "iopub.status.idle": "2021-10-24T06:08:33.126Z",
          "shell.execute_reply": "2021-10-24T06:08:33.134Z"
        }
      }
    }
  ],
  "metadata": {
    "kernel_info": {
      "name": "python3"
    },
    "language_info": {
      "name": "python",
      "version": "3.6.13",
      "mimetype": "text/x-python",
      "codemirror_mode": {
        "name": "ipython",
        "version": 3
      },
      "pygments_lexer": "ipython3",
      "nbconvert_exporter": "python",
      "file_extension": ".py"
    },
    "kernelspec": {
      "name": "python3",
      "language": "python",
      "display_name": "Python 3"
    },
    "nteract": {
      "version": "0.28.0"
    }
  },
  "nbformat": 4,
  "nbformat_minor": 4
}