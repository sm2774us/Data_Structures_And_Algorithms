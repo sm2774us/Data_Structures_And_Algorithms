{
  "cells": [
    {
      "cell_type": "markdown",
      "source": [
        "# Stock Manipulation Proof Performance Measure (MPPM) Chart"
      ],
      "metadata": {
        "nteract": {
          "transient": {
            "deleting": false
          }
        }
      }
    },
    {
      "cell_type": "code",
      "source": [
        "# Library\n",
        "import pandas as pd\n",
        "import numpy as np\n",
        "import matplotlib.pyplot as plt\n",
        "import math \n",
        "\n",
        "import warnings\n",
        "warnings.filterwarnings(\"ignore\")\n",
        "\n",
        "from pandas_datareader import data as pdr\n",
        "import yfinance as yf\n",
        "yf.pdr_override()"
      ],
      "outputs": [],
      "execution_count": 1,
      "metadata": {
        "collapsed": true,
        "jupyter": {
          "source_hidden": false,
          "outputs_hidden": false
        },
        "nteract": {
          "transient": {
            "deleting": false
          }
        },
        "execution": {
          "iopub.status.busy": "2020-09-27T01:02:26.391Z",
          "iopub.execute_input": "2020-09-27T01:02:26.396Z",
          "iopub.status.idle": "2020-09-27T01:02:27.422Z",
          "shell.execute_reply": "2020-09-27T01:02:27.482Z"
        }
      }
    },
    {
      "cell_type": "code",
      "source": [
        "start = '2019-01-01' #input\n",
        "end = '2020-07-01' #input\n",
        "symbol = 'AMD' #input"
      ],
      "outputs": [],
      "execution_count": 2,
      "metadata": {
        "collapsed": true,
        "jupyter": {
          "source_hidden": false,
          "outputs_hidden": false
        },
        "nteract": {
          "transient": {
            "deleting": false
          }
        },
        "execution": {
          "iopub.status.busy": "2020-09-27T01:02:27.433Z",
          "iopub.execute_input": "2020-09-27T01:02:27.442Z",
          "iopub.status.idle": "2020-09-27T01:02:27.456Z",
          "shell.execute_reply": "2020-09-27T01:02:27.485Z"
        }
      }
    },
    {
      "cell_type": "code",
      "source": [
        "stocks = yf.download(symbol, start=start, end=end)['Adj Close']"
      ],
      "outputs": [
        {
          "output_type": "stream",
          "name": "stdout",
          "text": [
            "[*********************100%***********************]  1 of 1 completed\n"
          ]
        }
      ],
      "execution_count": 3,
      "metadata": {
        "collapsed": true,
        "jupyter": {
          "source_hidden": false,
          "outputs_hidden": false
        },
        "nteract": {
          "transient": {
            "deleting": false
          }
        },
        "execution": {
          "iopub.status.busy": "2020-09-27T01:02:27.465Z",
          "iopub.execute_input": "2020-09-27T01:02:27.471Z",
          "iopub.status.idle": "2020-09-27T01:02:28.874Z",
          "shell.execute_reply": "2020-09-27T01:02:28.894Z"
        }
      }
    },
    {
      "cell_type": "code",
      "source": [
        "# risk free\n",
        "rf = yf.download('BIL', start=start, end=end)['Adj Close'].pct_change()[1:]"
      ],
      "outputs": [
        {
          "output_type": "stream",
          "name": "stdout",
          "text": [
            "[*********************100%***********************]  1 of 1 completed\n"
          ]
        }
      ],
      "execution_count": 4,
      "metadata": {
        "collapsed": true,
        "jupyter": {
          "source_hidden": false,
          "outputs_hidden": false
        },
        "nteract": {
          "transient": {
            "deleting": false
          }
        },
        "execution": {
          "iopub.status.busy": "2020-09-27T01:02:28.879Z",
          "iopub.execute_input": "2020-09-27T01:02:28.883Z",
          "iopub.status.idle": "2020-09-27T01:02:29.056Z",
          "shell.execute_reply": "2020-09-27T01:02:29.745Z"
        }
      }
    },
    {
      "cell_type": "code",
      "source": [
        "stock_returns = stocks.pct_change().dropna()"
      ],
      "outputs": [],
      "execution_count": 5,
      "metadata": {
        "collapsed": true,
        "jupyter": {
          "source_hidden": false,
          "outputs_hidden": false
        },
        "nteract": {
          "transient": {
            "deleting": false
          }
        },
        "execution": {
          "iopub.status.busy": "2020-09-27T01:02:29.065Z",
          "iopub.execute_input": "2020-09-27T01:02:29.072Z",
          "iopub.status.idle": "2020-09-27T01:02:29.081Z",
          "shell.execute_reply": "2020-09-27T01:02:29.748Z"
        }
      }
    },
    {
      "cell_type": "code",
      "source": [
        "def mppm_stock(stock_returns, rf):\n",
        "    T = len(stocks)\n",
        "    gamma = stock_returns.std() #risk aversion\n",
        "    equation1 = 1.0 / (1.0 - gamma)\n",
        "    mppm = equation1 * math.log(1.0/T * (np.sum(((1.0 + stock_returns)/ (1+rf))**(1-gamma))))\n",
        "    return mppm"
      ],
      "outputs": [],
      "execution_count": 6,
      "metadata": {
        "collapsed": true,
        "jupyter": {
          "source_hidden": false,
          "outputs_hidden": false
        },
        "nteract": {
          "transient": {
            "deleting": false
          }
        },
        "execution": {
          "iopub.status.busy": "2020-09-27T01:02:29.092Z",
          "iopub.execute_input": "2020-09-27T01:02:29.095Z",
          "iopub.status.idle": "2020-09-27T01:02:29.104Z",
          "shell.execute_reply": "2020-09-27T01:02:29.752Z"
        }
      }
    },
    {
      "cell_type": "code",
      "source": [
        "# Compute the running Manipulation Proof Performance Measure\n",
        "running = [mppm_stock(stock_returns[i-90:i], rf[i-90:i]) for i in range(90, len(stock_returns))]\n",
        "\n",
        "# Plot running Manipulation Proof Performance Measure up to 100 days before the end of the data set\n",
        "_, ax1 = plt.subplots(figsize=(12,8))\n",
        "ax1.plot(range(90, len(stock_returns)-100), running[:-100])\n",
        "ticks = ax1.get_xticks()\n",
        "ax1.set_xticklabels([stocks.index[int(i)].date() for i in ticks[:-1]]) # Label x-axis with dates\n",
        "plt.title(symbol + ' Manipulation Proof Performance Measure')\n",
        "plt.xlabel('Date')\n",
        "plt.ylabel('Manipulation Proof Performance Measure')"
      ],
      "outputs": [
        {
          "output_type": "execute_result",
          "execution_count": 7,
          "data": {
            "text/plain": "Text(0, 0.5, 'Manipulation Proof Performance Measure')"
          },
          "metadata": {}
        },
        {
          "output_type": "display_data",
          "data": {
            "text/plain": "<Figure size 864x576 with 1 Axes>",
            "image/png": "[encoded data removed]"
          },
          "metadata": {
            "needs_background": "light"
          }
        }
      ],
      "execution_count": 7,
      "metadata": {
        "collapsed": true,
        "jupyter": {
          "source_hidden": false,
          "outputs_hidden": false
        },
        "nteract": {
          "transient": {
            "deleting": false
          }
        },
        "execution": {
          "iopub.status.busy": "2020-09-27T01:02:29.113Z",
          "iopub.execute_input": "2020-09-27T01:02:29.445Z",
          "iopub.status.idle": "2020-09-27T01:02:29.675Z",
          "shell.execute_reply": "2020-09-27T01:02:29.755Z"
        }
      }
    },
    {
      "cell_type": "code",
      "source": [
        "mppm_stock = mppm_stock(stock_returns, rf)\n",
        "mppm_stock"
      ],
      "outputs": [
        {
          "output_type": "execute_result",
          "execution_count": 8,
          "data": {
            "text/plain": "0.0005551719989575298"
          },
          "metadata": {}
        }
      ],
      "execution_count": 8,
      "metadata": {
        "collapsed": true,
        "jupyter": {
          "source_hidden": false,
          "outputs_hidden": false
        },
        "nteract": {
          "transient": {
            "deleting": false
          }
        },
        "execution": {
          "iopub.status.busy": "2020-09-27T01:02:29.683Z",
          "iopub.execute_input": "2020-09-27T01:02:29.688Z",
          "iopub.status.idle": "2020-09-27T01:02:29.702Z",
          "shell.execute_reply": "2020-09-27T01:02:29.758Z"
        }
      }
    },
    {
      "cell_type": "code",
      "source": [
        "running"
      ],
      "outputs": [
        {
          "output_type": "execute_result",
          "execution_count": 9,
          "data": {
            "text/plain": "[-1.4899010046131955,\n -1.4865369091932736,\n -1.4850654003148147,\n -1.4844388432129125,\n -1.4848466351431768,\n -1.4849212081147691,\n -1.4843379397172043,\n -1.484492655108151,\n -1.4853001261410443,\n -1.485342909136447,\n -1.4856231199764878,\n -1.4864912431431458,\n -1.4867087187579557,\n -1.485943531139208,\n -1.4858963274188217,\n -1.4861817940952704,\n -1.4862866273998758,\n -1.4841460983463597,\n -1.4828459477222253,\n -1.475601053309214,\n -1.4759712058225836,\n -1.4761259672963802,\n -1.4763431121497035,\n -1.4763081214170946,\n -1.4771581867865609,\n -1.4765963878263353,\n -1.476719465304876,\n -1.4769441739886089,\n -1.477487219253915,\n -1.4774424676817617,\n -1.4777796671468064,\n -1.4778246756586342,\n -1.4777813704089644,\n -1.4779743512266725,\n -1.4778015893805356,\n -1.4779319950172103,\n -1.4780870752104083,\n -1.477616957690692,\n -1.476837596165631,\n -1.4767205046193645,\n -1.4766347783063734,\n -1.4768298064782892,\n -1.4768407898516673,\n -1.4754916270789336,\n -1.4755118098754625,\n -1.4755806457785239,\n -1.4760079859523993,\n -1.4764308178757388,\n -1.476251454929871,\n -1.4756134551800115,\n -1.4756213156009563,\n -1.4758175718176787,\n -1.4734288510305757,\n -1.473521533080495,\n -1.472387432570649,\n -1.4750627899468944,\n -1.4751584763145544,\n -1.4752205162218335,\n -1.475848957827143,\n -1.475810688780225,\n -1.4758399360158312,\n -1.4808497201279895,\n -1.4808981807562374,\n -1.4814447256051901,\n -1.4816123594407227,\n -1.4830989070802594,\n -1.4831706377253107,\n -1.4821631778753077,\n -1.482215217821563,\n -1.4826294157460702,\n -1.4825214444350798,\n -1.4821437685063013,\n -1.484511434011694,\n -1.4841202326685832,\n -1.4842239456891666,\n -1.484219448462832,\n -1.483973894090635,\n -1.4841083379961788,\n -1.4838639423797242,\n -1.4839251113705745,\n -1.483694835267322,\n -1.4842411163302283,\n -1.483695999570039,\n -1.4837381687921274,\n -1.4839466121932776,\n -1.483294108467084,\n -1.4826414574469675,\n -1.4827228156788843,\n -1.482715422871873,\n -1.4831618454491422,\n -1.4815396821531366,\n -1.4817207958327665,\n -1.4816755586082182,\n -1.4825654818841905,\n -1.4822597176138181,\n -1.4817132234937442,\n -1.4823140869442208,\n -1.4822497429772195,\n -1.4815343366753988,\n -1.48181480215312,\n -1.4803289075632027,\n -1.4795649787237417,\n -1.4795705557182446,\n -1.4796201291894202,\n -1.4796055641363117,\n -1.4790562720482017,\n -1.4791170645511915,\n -1.4781991804432777,\n -1.478253347478697,\n -1.478321636807149,\n -1.4777963193481387,\n -1.4777711467727719,\n -1.477263136128252,\n -1.4768433208654639,\n -1.476047647094147,\n -1.4759337524804348,\n -1.475861817226568,\n -1.4754914614903745,\n -1.4752120012917636,\n -1.4752359983688164,\n -1.4748866594608374,\n -1.4748322955873314,\n -1.4749202730305773,\n -1.474779546757837,\n -1.474992028262136,\n -1.4749160692104097,\n -1.47488867093345,\n -1.4749770651318124,\n -1.4750040836160798,\n -1.4749524448348945,\n -1.4749515953441472,\n -1.4744918852204916,\n -1.4744535656691091,\n -1.474450965947177,\n -1.4742941841216666,\n -1.4749909094188658,\n -1.4748178380240837,\n -1.4744407773504833,\n -1.4749078881320397,\n -1.474944915608106,\n -1.4751662125028555,\n -1.4751235833096172,\n -1.475171710337014,\n -1.4747710760540989,\n -1.474901790600245,\n -1.4706256401923503,\n -1.4705821892833228,\n -1.4702159436689446,\n -1.468799040839473,\n -1.4697498140655139,\n -1.4706685694563653,\n -1.4641743848560964,\n -1.4641614081042493,\n -1.4627018065558728,\n -1.462420512968295,\n -1.4602516359590976,\n -1.4597359060525092,\n -1.459356943511269,\n -1.459436392739685,\n -1.4590285555539282,\n -1.4593854575583887,\n -1.4593713863082807,\n -1.456998375460408,\n -1.4573362700128512,\n -1.4573645997517575,\n -1.4575595834902733,\n -1.457859672105749,\n -1.4577296820529553,\n -1.457694251551306,\n -1.4575938918561397,\n -1.457952732432618,\n -1.4570475254798307,\n -1.456885378837902,\n -1.4565629343997284,\n -1.4561811854762783,\n -1.4562312949704046,\n -1.4563084027666793,\n -1.4570711940271008,\n -1.4576662536066793,\n -1.457107203172001,\n -1.4593624834859367,\n -1.4590835966574174,\n -1.4602874689875924,\n -1.4590803205776564,\n -1.4589677274603337,\n -1.458828873056632,\n -1.4583874218058008,\n -1.4583960480128153,\n -1.4584116553643438,\n -1.4579068846304617,\n -1.45802988612766,\n -1.4580282549546364,\n -1.4578182449637054,\n -1.457015185696992,\n -1.4569933703854543,\n -1.457701161800294,\n -1.4605579759827005,\n -1.464024906507903,\n -1.4648967462623943,\n -1.4649628289602519,\n -1.4678493802261614,\n -1.4676524041658878,\n -1.4677515226870366,\n -1.4677235453955457,\n -1.468224055637405,\n -1.4693988277217382,\n -1.4694334337155817,\n -1.474527360428292,\n -1.474182985669051,\n -1.4741419128320594,\n -1.4817866789799028,\n -1.4841983978313256,\n -1.488967432234171,\n -1.489429291814087,\n -1.4910882119607651,\n -1.491035249861881,\n -1.4911108195260225,\n -1.4910668998671033,\n -1.492376727361649,\n -1.4932204481264137,\n -1.4934499296206818,\n -1.493826984485653,\n -1.4938221685202793,\n -1.4951042855891048,\n -1.4958016397584109,\n -1.4949687524328676,\n -1.4957148723049192,\n -1.497136968905354,\n -1.496796521513878,\n -1.4967171713395115,\n -1.496742485654919,\n -1.496472390939646,\n -1.4967142092573276,\n -1.4968805186061966,\n -1.4966367484461347,\n -1.496729600254739,\n -1.4963597797402581,\n -1.498379956009831,\n -1.4982708435166623,\n -1.4980977471038273,\n -1.4973910047226728,\n -1.4975326141078995,\n -1.4979176087293855,\n -1.4983839973834412,\n -1.498911775951679,\n -1.5001247405290286,\n -1.5002156191364104,\n -1.5004877512253103,\n -1.5005171503149073,\n -1.5004351460184187,\n -1.500042503382446,\n -1.4999729933675354,\n -1.5005471952032676,\n -1.5009190889373767,\n -1.500712667038618,\n -1.5007483037785858,\n -1.5005501932175913,\n -1.5005835509578773,\n -1.5001870024479647,\n -1.500858539539372,\n -1.500603638768834,\n -1.5013513843126949,\n -1.501639324361436,\n -1.5020991057176216,\n -1.5019584078315467,\n -1.5020752536450308,\n -1.5021521458041713,\n -1.5019346536316307,\n -1.5016139596013358,\n -1.5016993846972744,\n -1.5003458236849132,\n -1.5005447607309896,\n -1.4996863682339587,\n -1.5020405493464541,\n -1.502110500155673,\n -1.5020191187767649,\n -1.5019242890244127,\n -1.5019912107786086,\n -1.502232368979108,\n -1.5023714791844194,\n -1.5022939927672496,\n -1.502602499393651,\n -1.5032293970436825,\n -1.5035098274589058,\n -1.5042841495034607,\n -1.503800922618615]"
          },
          "metadata": {}
        }
      ],
      "execution_count": 9,
      "metadata": {
        "collapsed": true,
        "jupyter": {
          "source_hidden": false,
          "outputs_hidden": false
        },
        "nteract": {
          "transient": {
            "deleting": false
          }
        },
        "execution": {
          "iopub.status.busy": "2020-09-27T01:02:29.710Z",
          "iopub.execute_input": "2020-09-27T01:02:29.713Z",
          "iopub.status.idle": "2020-09-27T01:02:29.724Z",
          "shell.execute_reply": "2020-09-27T01:02:29.760Z"
        }
      }
    }
  ],
  "metadata": {
    "kernel_info": {
      "name": "python3"
    },
    "language_info": {
      "name": "python",
      "codemirror_mode": {
        "name": "ipython",
        "version": 3
      },
      "version": "3.5.5",
      "mimetype": "text/x-python",
      "file_extension": ".py",
      "nbconvert_exporter": "python",
      "pygments_lexer": "ipython3"
    },
    "kernelspec": {
      "argv": [
        "C:\\Users\\Tin Hang\\Anaconda3\\envs\\py35\\python.exe",
        "-m",
        "ipykernel_launcher",
        "-f",
        "{connection_file}"
      ],
      "display_name": "Python 3",
      "language": "python",
      "name": "python3"
    },
    "nteract": {
      "version": "0.25.0"
    }
  },
  "nbformat": 4,
  "nbformat_minor": 0
}