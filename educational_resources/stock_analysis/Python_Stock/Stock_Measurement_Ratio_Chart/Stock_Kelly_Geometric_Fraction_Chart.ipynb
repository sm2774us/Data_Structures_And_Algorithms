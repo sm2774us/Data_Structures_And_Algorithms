{
  "cells": [
    {
      "cell_type": "markdown",
      "source": [
        "# Stock Kelly Geometric Chart"
      ],
      "metadata": {
        "nteract": {
          "transient": {
            "deleting": false
          }
        }
      }
    },
    {
      "cell_type": "code",
      "source": [
        "# Library\n",
        "import pandas as pd\n",
        "import numpy as np\n",
        "import matplotlib.pyplot as plt\n",
        "\n",
        "import warnings\n",
        "warnings.filterwarnings(\"ignore\")\n",
        "\n",
        "from pandas_datareader import data as pdr\n",
        "import yfinance as yf\n",
        "yf.pdr_override()"
      ],
      "outputs": [],
      "execution_count": 1,
      "metadata": {
        "collapsed": true,
        "jupyter": {
          "source_hidden": false,
          "outputs_hidden": false
        },
        "nteract": {
          "transient": {
            "deleting": false
          }
        },
        "execution": {
          "iopub.status.busy": "2020-10-07T01:37:20.205Z",
          "iopub.execute_input": "2020-10-07T01:37:20.213Z",
          "iopub.status.idle": "2020-10-07T01:37:21.284Z",
          "shell.execute_reply": "2020-10-07T01:37:21.337Z"
        }
      }
    },
    {
      "cell_type": "code",
      "source": [
        "start = '2019-01-01' #input\n",
        "end = '2020-07-01' #input\n",
        "symbol = 'AMD' #input"
      ],
      "outputs": [],
      "execution_count": 2,
      "metadata": {
        "collapsed": true,
        "jupyter": {
          "source_hidden": false,
          "outputs_hidden": false
        },
        "nteract": {
          "transient": {
            "deleting": false
          }
        },
        "execution": {
          "iopub.status.busy": "2020-10-07T01:37:21.299Z",
          "iopub.execute_input": "2020-10-07T01:37:21.307Z",
          "iopub.status.idle": "2020-10-07T01:37:21.315Z",
          "shell.execute_reply": "2020-10-07T01:37:21.340Z"
        }
      }
    },
    {
      "cell_type": "code",
      "source": [
        "stocks = yf.download(symbol, start=start, end=end)['Adj Close']"
      ],
      "outputs": [
        {
          "output_type": "stream",
          "name": "stdout",
          "text": [
            "[*********************100%***********************]  1 of 1 completed\n"
          ]
        }
      ],
      "execution_count": 3,
      "metadata": {
        "collapsed": true,
        "jupyter": {
          "source_hidden": false,
          "outputs_hidden": false
        },
        "nteract": {
          "transient": {
            "deleting": false
          }
        },
        "execution": {
          "iopub.status.busy": "2020-10-07T01:37:21.323Z",
          "iopub.execute_input": "2020-10-07T01:37:21.327Z",
          "iopub.status.idle": "2020-10-07T01:37:22.483Z",
          "shell.execute_reply": "2020-10-07T01:37:22.522Z"
        }
      }
    },
    {
      "cell_type": "code",
      "source": [
        "stocks_returns = stocks.pct_change().dropna()"
      ],
      "outputs": [],
      "execution_count": 4,
      "metadata": {
        "collapsed": true,
        "jupyter": {
          "source_hidden": false,
          "outputs_hidden": false
        },
        "nteract": {
          "transient": {
            "deleting": false
          }
        },
        "execution": {
          "iopub.status.busy": "2020-10-07T01:37:22.491Z",
          "iopub.execute_input": "2020-10-07T01:37:22.494Z",
          "iopub.status.idle": "2020-10-07T01:37:22.505Z",
          "shell.execute_reply": "2020-10-07T01:37:23.411Z"
        }
      }
    },
    {
      "cell_type": "code",
      "source": [
        "def kelly_fraction(stock_returns):\n",
        "    # returns = np.array(stock_returns)\n",
        "    wins = stock_returns[stock_returns > 0]\n",
        "    losses = stock_returns[stock_returns <= 0]\n",
        "    W = len(wins) / len(stock_returns)\n",
        "    R = np.mean(wins) / np.abs(np.mean(losses))\n",
        "    kelly_f = W - ( (1 - W) / R )\n",
        "    return kelly_f\n",
        "\n",
        "def expected_geom(stock_returns):\n",
        "    stock_returns = np.array(stock_returns)\n",
        "    expected_geom = np.product(1 + stock_returns) ** (1 / len(stock_returns)) - 1\n",
        "    return expected_geom\n",
        "\n",
        "def kelly_geometric(stock_returns):\n",
        "    bounded_rets = stock_returns / np.abs(np.min(stock_returns))\n",
        "    kelly_f = kelly_fraction(bounded_rets) / np.abs(np.min(stock_returns))\n",
        "    exp_geom_kelly = expected_geom(bounded_rets * kelly_f)\n",
        "    return exp_geom_kelly"
      ],
      "outputs": [],
      "execution_count": 5,
      "metadata": {
        "collapsed": true,
        "jupyter": {
          "source_hidden": false,
          "outputs_hidden": false
        },
        "nteract": {
          "transient": {
            "deleting": false
          }
        },
        "execution": {
          "iopub.status.busy": "2020-10-07T01:37:22.529Z",
          "iopub.execute_input": "2020-10-07T01:37:22.534Z",
          "iopub.status.idle": "2020-10-07T01:37:22.547Z",
          "shell.execute_reply": "2020-10-07T01:37:23.415Z"
        }
      }
    },
    {
      "cell_type": "code",
      "source": [
        "# Compute the running Kelly Geometric\n",
        "running = [kelly_geometric(stocks_returns[i-90:i]) for i in range(90, len(stocks_returns))]\n",
        "\n",
        "# Plot running Kelly Geometric up to 100 days before the end of the data set\n",
        "_, ax1 = plt.subplots(figsize=(12,8))\n",
        "ax1.plot(range(90, len(stocks_returns)-100), running[:-100])\n",
        "ticks = ax1.get_xticks()\n",
        "ax1.set_xticklabels([stocks.index[int(i)].date() for i in ticks[:-1]]) # Label x-axis with dates\n",
        "plt.title(symbol + ' Kelly Geometric')\n",
        "plt.xlabel('Date')\n",
        "plt.ylabel('Kelly Geometric')"
      ],
      "outputs": [
        {
          "output_type": "execute_result",
          "execution_count": 6,
          "data": {
            "text/plain": "Text(0, 0.5, 'Kelly Geometric')"
          },
          "metadata": {}
        },
        {
          "output_type": "display_data",
          "data": {
            "image/png": "[encoded data removed]",
            "text/plain": "<Figure size 864x576 with 1 Axes>"
          },
          "metadata": {
            "needs_background": "light"
          }
        }
      ],
      "execution_count": 6,
      "metadata": {
        "collapsed": true,
        "jupyter": {
          "source_hidden": false,
          "outputs_hidden": false
        },
        "nteract": {
          "transient": {
            "deleting": false
          }
        },
        "execution": {
          "iopub.status.busy": "2020-10-07T01:37:22.554Z",
          "iopub.execute_input": "2020-10-07T01:37:22.682Z",
          "iopub.status.idle": "2020-10-07T01:37:23.323Z",
          "shell.execute_reply": "2020-10-07T01:37:23.417Z"
        }
      }
    },
    {
      "cell_type": "code",
      "source": [
        "kg = kelly_geometric(stocks_returns)\n",
        "kg"
      ],
      "outputs": [
        {
          "output_type": "execute_result",
          "execution_count": 7,
          "data": {
            "text/plain": "-0.0059780080556488535"
          },
          "metadata": {}
        }
      ],
      "execution_count": 7,
      "metadata": {
        "collapsed": true,
        "jupyter": {
          "source_hidden": false,
          "outputs_hidden": false
        },
        "nteract": {
          "transient": {
            "deleting": false
          }
        },
        "execution": {
          "iopub.status.busy": "2020-10-07T01:37:23.332Z",
          "iopub.execute_input": "2020-10-07T01:37:23.336Z",
          "iopub.status.idle": "2020-10-07T01:37:23.350Z",
          "shell.execute_reply": "2020-10-07T01:37:23.420Z"
        }
      }
    },
    {
      "cell_type": "code",
      "source": [
        "running"
      ],
      "outputs": [
        {
          "output_type": "execute_result",
          "execution_count": 8,
          "data": {
            "text/plain": "[-0.09102040457522853,\n -0.12268138473181844,\n nan,\n nan,\n -0.16172617922412658,\n -0.16286073973618997,\n nan,\n nan,\n nan,\n nan,\n -0.10699153660002925,\n nan,\n nan,\n -0.13264595513369126,\n -0.12960313417553115,\n -0.12303120407768486,\n nan,\n nan,\n 0.08985885039884378,\n nan,\n -0.17561978300599634,\n -0.2544528698354358,\n nan,\n nan,\n nan,\n nan,\n nan,\n -0.23438412088232008,\n nan,\n nan,\n -0.21453914780805272,\n nan,\n -0.25388184503351063,\n nan,\n nan,\n nan,\n -0.24583551156146344,\n nan,\n nan,\n nan,\n -0.08867129016680608,\n -0.16239158873267945,\n nan,\n nan,\n nan,\n nan,\n nan,\n -0.17057835767415463,\n -0.17229609663285173,\n -0.07318252142501602,\n -0.08429466303904731,\n -0.1282068600294204,\n -0.19846406252525228,\n -0.2646528299258952,\n nan,\n -0.02256189060953362,\n -0.02082013222159007,\n -0.019592852152669815,\n -0.014829773899328047,\n -0.021202316333056137,\n -0.019117221608571544,\n nan,\n nan,\n -0.015751610886776013,\n -0.012330118561535874,\n -0.005160455808584707,\n -0.004816258262996143,\n -0.021646472251050874,\n -0.01872577901528083,\n -0.013616839602425768,\n -0.019535568019107052,\n -0.0299728454607201,\n -0.007637880282155174,\n -0.015023964491657549,\n -0.012397035245410581,\n -0.012588449699189597,\n -0.019621922077713738,\n -0.014859667223107609,\n -0.017173273841646797,\n -0.015917256359746723,\n -0.02319601035925989,\n -0.01583878078649903,\n -0.023213093850593558,\n -0.009056699668306911,\n -0.007158764254883154,\n -0.015113011398286358,\n -0.029671087747745628,\n -0.025549839641633487,\n -0.025796149891138542,\n -0.012780262656303942,\n -0.028621761017615155,\n -0.013659339906050838,\n -0.015622741911551996,\n -0.0064345601273801956,\n -0.009643721437377906,\n -0.01487694880674606,\n -0.00616084689370755,\n -0.006987852028385255,\n -0.011581189992416419,\n -0.007988296392231864,\n -0.0006793961228017675,\n -0.0036924840707218687,\n -0.0036332260819824658,\n -0.003445852581303477,\n -0.0036107841412952313,\n -3.217555355594648e-06,\n -0.0017199561633052252,\n -1.1180138448363408e-07,\n -0.00010218754539426111,\n -0.0009639159272878395,\n -9.150548505587608e-07,\n -5.624118679214973e-06,\n -0.0026371425769785573,\n -0.004219170571177822,\n -0.008852008241044929,\n -0.00457922963026447,\n -0.008471598478530074,\n -0.020862066691956005,\n -0.026138717351050555,\n -0.024938508490097155,\n nan,\n nan,\n nan,\n nan,\n -0.04063997084325777,\n nan,\n nan,\n -0.056737264755814865,\n -0.04056624903428352,\n -0.02882469177654745,\n -0.03073685413967253,\n nan,\n nan,\n nan,\n nan,\n nan,\n nan,\n nan,\n nan,\n nan,\n -0.04373395559350968,\n -0.049868025135191174,\n -0.03875687915702575,\n nan,\n nan,\n -0.03546500173642042,\n -0.03352516218506296,\n nan,\n nan,\n nan,\n nan,\n nan,\n nan,\n nan,\n -0.0345113547449154,\n -0.014547113344465235,\n nan,\n 0.007154382920482316,\n 0.007683518283183366,\n nan,\n nan,\n nan,\n 1.5525207468138293,\n 1.3853103475533417,\n 1.3095335332116536,\n 1.1761312152297356,\n 1.048391131648931,\n nan,\n nan,\n nan,\n nan,\n nan,\n 1.2037848938353948,\n 1.5230679221265593,\n nan,\n nan,\n nan,\n 1.344942463817267,\n nan,\n 1.446695304629114,\n nan,\n nan,\n 0.22348858544912598,\n nan,\n nan,\n nan,\n 0.215761668231643,\n 0.2160348658659248,\n nan,\n nan,\n nan,\n nan,\n 0.4845192306265853,\n 0.5968702819169163,\n 0.655655781328859,\n 0.6135207554501572,\n 0.3027727812918104,\n nan,\n nan,\n nan,\n 0.033956709822598796,\n nan,\n 0.022664114113058575,\n 0.04625587668275655,\n 0.14170297718131208,\n nan,\n 0.05280129613607443,\n -0.07719342815499686,\n -0.03162097303510891,\n -0.029828885631356328,\n -0.006629294400181451,\n -0.027977952378576143,\n -0.0030708472279156185,\n -0.010242970959979059,\n -0.004679132447050205,\n -0.005191001750938229,\n -0.0044559022974317575,\n -0.008072629604302661,\n -0.022456589958555484,\n -0.011357537179866872,\n -0.01681654669091781,\n -0.011934632442902715,\n -0.011238126685687577,\n -0.004248486281381081,\n -0.002743726729484197,\n -0.0058339243300015164,\n -0.0038797754369602755,\n -0.010866025744878938,\n -0.014475404023551075,\n -0.01634133877163435,\n -0.016042532497796747,\n -0.03121886755542369,\n nan,\n nan,\n nan,\n nan,\n nan,\n -0.035676311494171276,\n nan,\n -0.025857066170711596,\n -0.05039533219741488,\n -0.03603536777362115,\n -0.02431398036252308,\n -0.019533202063880095,\n -0.013173560408441531,\n -0.006074580224963433,\n -0.007538507711295939,\n -0.005304446883023339,\n -0.004790881452299667,\n -0.005091860578413154,\n -0.007762313020687528,\n -0.010581385643568364,\n -0.003741868808234461,\n -0.002970829494542082,\n -0.005282610011012268,\n -0.0051262704121316505,\n -0.006447912563228075,\n -0.006030771777517874,\n -0.008764165804048152,\n -0.005412124681799857,\n -0.0070996771768395694,\n -0.004236910780580527,\n -0.0026927935778890966,\n -0.0013491194501706882,\n -0.0022931289671632715,\n -0.0018421425801613545,\n -0.001536064176405394,\n -0.0018081137986328821,\n -0.0023647461270885906,\n -0.0019380478866877215,\n -0.0037821051847757303,\n -0.005330461863801039,\n -0.009232505482823394,\n -0.0035422936829863083,\n -0.002986167122791983,\n -0.003436503676780278,\n -0.003694421496510225,\n -0.0034753002564767987,\n -0.0015550996151554308,\n -0.0010424875641773523,\n -0.0011898376959985635,\n -0.0006642369496965284,\n -0.00016359607920557462,\n -6.045398464493701e-06,\n -0.00027264744955746156,\n -7.080447372453946e-05]"
          },
          "metadata": {}
        }
      ],
      "execution_count": 8,
      "metadata": {
        "collapsed": true,
        "jupyter": {
          "source_hidden": false,
          "outputs_hidden": false
        },
        "nteract": {
          "transient": {
            "deleting": false
          }
        },
        "execution": {
          "iopub.status.busy": "2020-10-07T01:37:23.358Z",
          "iopub.execute_input": "2020-10-07T01:37:23.362Z",
          "iopub.status.idle": "2020-10-07T01:37:23.374Z",
          "shell.execute_reply": "2020-10-07T01:37:23.422Z"
        }
      }
    },
    {
      "cell_type": "code",
      "source": [
        "print('Expected Value (Geometric): {}%'.format(np.round(kelly_geometric(stocks_returns) * 100, 5)))"
      ],
      "outputs": [
        {
          "output_type": "stream",
          "name": "stdout",
          "text": [
            "Expected Value (Geometric): -0.5978%\n"
          ]
        }
      ],
      "execution_count": 9,
      "metadata": {
        "collapsed": true,
        "jupyter": {
          "source_hidden": false,
          "outputs_hidden": false
        },
        "nteract": {
          "transient": {
            "deleting": false
          }
        },
        "execution": {
          "iopub.status.busy": "2020-10-07T01:37:23.380Z",
          "iopub.execute_input": "2020-10-07T01:37:23.383Z",
          "iopub.status.idle": "2020-10-07T01:37:23.393Z",
          "shell.execute_reply": "2020-10-07T01:37:23.426Z"
        }
      }
    }
  ],
  "metadata": {
    "kernel_info": {
      "name": "python3"
    },
    "language_info": {
      "mimetype": "text/x-python",
      "file_extension": ".py",
      "nbconvert_exporter": "python",
      "version": "3.5.5",
      "name": "python",
      "codemirror_mode": {
        "version": 3,
        "name": "ipython"
      },
      "pygments_lexer": "ipython3"
    },
    "kernelspec": {
      "argv": [
        "C:\\Users\\Tin Hang\\Anaconda3\\envs\\py35\\python.exe",
        "-m",
        "ipykernel_launcher",
        "-f",
        "{connection_file}"
      ],
      "display_name": "Python 3",
      "language": "python",
      "name": "python3"
    },
    "nteract": {
      "version": "0.25.1"
    }
  },
  "nbformat": 4,
  "nbformat_minor": 0
}