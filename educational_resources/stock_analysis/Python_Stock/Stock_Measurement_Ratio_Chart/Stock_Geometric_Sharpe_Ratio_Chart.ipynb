{
  "cells": [
    {
      "cell_type": "markdown",
      "source": [
        "# Stock Geometric Sharpe Ratio Chart"
      ],
      "metadata": {
        "nteract": {
          "transient": {
            "deleting": false
          }
        }
      }
    },
    {
      "cell_type": "code",
      "source": [
        "# Library\n",
        "import pandas as pd\n",
        "import numpy as np\n",
        "import matplotlib.pyplot as plt\n",
        "\n",
        "import warnings\n",
        "warnings.filterwarnings(\"ignore\")\n",
        "\n",
        "from pandas_datareader import data as pdr\n",
        "import yfinance as yf\n",
        "yf.pdr_override()"
      ],
      "outputs": [],
      "execution_count": 1,
      "metadata": {
        "collapsed": true,
        "jupyter": {
          "source_hidden": false,
          "outputs_hidden": false
        },
        "nteract": {
          "transient": {
            "deleting": false
          }
        },
        "execution": {
          "iopub.status.busy": "2022-04-30T17:11:30.862Z",
          "iopub.execute_input": "2022-04-30T17:11:30.865Z",
          "shell.execute_reply": "2022-04-30T17:11:31.414Z",
          "iopub.status.idle": "2022-04-30T17:11:31.393Z"
        }
      }
    },
    {
      "cell_type": "code",
      "source": [
        "start = '2016-01-01' #input\n",
        "end = '2020-07-01' #input\n",
        "symbol = 'AMD'"
      ],
      "outputs": [],
      "execution_count": 2,
      "metadata": {
        "collapsed": true,
        "jupyter": {
          "source_hidden": false,
          "outputs_hidden": false
        },
        "nteract": {
          "transient": {
            "deleting": false
          }
        },
        "execution": {
          "iopub.status.busy": "2022-04-30T17:11:31.398Z",
          "iopub.execute_input": "2022-04-30T17:11:31.401Z",
          "iopub.status.idle": "2022-04-30T17:11:31.407Z",
          "shell.execute_reply": "2022-04-30T17:11:31.417Z"
        }
      }
    },
    {
      "cell_type": "code",
      "source": [
        "df = yf.download(\"AMD\", start, end)"
      ],
      "outputs": [
        {
          "output_type": "stream",
          "name": "stdout",
          "text": [
            "[*********************100%***********************]  1 of 1 completed\n"
          ]
        }
      ],
      "execution_count": 3,
      "metadata": {
        "collapsed": true,
        "jupyter": {
          "source_hidden": false,
          "outputs_hidden": false
        },
        "nteract": {
          "transient": {
            "deleting": false
          }
        },
        "execution": {
          "iopub.status.busy": "2022-04-30T17:11:31.422Z",
          "iopub.execute_input": "2022-04-30T17:11:31.425Z",
          "iopub.status.idle": "2022-04-30T17:11:32.057Z",
          "shell.execute_reply": "2022-04-30T17:11:32.068Z"
        }
      }
    },
    {
      "cell_type": "code",
      "source": [
        "# risk free\n",
        "rf = yf.download('BIL', start=start, end=end)['Adj Close'].pct_change()[1:]"
      ],
      "outputs": [
        {
          "output_type": "stream",
          "name": "stdout",
          "text": [
            "[*********************100%***********************]  1 of 1 completed\n"
          ]
        }
      ],
      "execution_count": 4,
      "metadata": {
        "collapsed": true,
        "jupyter": {
          "source_hidden": false,
          "outputs_hidden": false
        },
        "nteract": {
          "transient": {
            "deleting": false
          }
        },
        "execution": {
          "iopub.status.busy": "2022-04-30T17:11:32.061Z",
          "iopub.execute_input": "2022-04-30T17:11:32.064Z",
          "iopub.status.idle": "2022-04-30T17:11:32.321Z",
          "shell.execute_reply": "2022-04-30T17:11:32.315Z"
        }
      }
    },
    {
      "cell_type": "code",
      "source": [
        "from scipy.stats import gmean\n",
        "\n",
        "n = 10\n",
        "returns = pd.Series(df['Adj Close']).rolling(n).apply(gmean)\n",
        "returns = returns.dropna()"
      ],
      "outputs": [],
      "execution_count": 5,
      "metadata": {
        "collapsed": true,
        "jupyter": {
          "source_hidden": false,
          "outputs_hidden": false
        },
        "nteract": {
          "transient": {
            "deleting": false
          }
        },
        "execution": {
          "iopub.status.busy": "2022-04-30T17:11:32.325Z",
          "iopub.execute_input": "2022-04-30T17:11:32.329Z",
          "shell.execute_reply": "2022-04-30T17:11:32.639Z",
          "iopub.status.idle": "2022-04-30T17:11:32.644Z"
        }
      }
    },
    {
      "cell_type": "code",
      "source": [
        "def geometric_sharpe_ratio(returns, rf):\n",
        "    return np.mean(returns - rf)/np.std(returns - rf)"
      ],
      "outputs": [],
      "execution_count": 6,
      "metadata": {
        "collapsed": true,
        "jupyter": {
          "source_hidden": false,
          "outputs_hidden": false
        },
        "nteract": {
          "transient": {
            "deleting": false
          }
        },
        "execution": {
          "iopub.status.busy": "2022-04-30T17:11:32.649Z",
          "iopub.execute_input": "2022-04-30T17:11:32.652Z",
          "iopub.status.idle": "2022-04-30T17:11:32.657Z",
          "shell.execute_reply": "2022-04-30T17:11:32.663Z"
        }
      }
    },
    {
      "cell_type": "code",
      "source": [
        "# Compute the running Geometric Sharpe ratio\n",
        "running_sharpe = [geometric_sharpe_ratio(returns[i-90:i], rf[i-90:i]) for i in range(90, len(returns))]\n",
        "\n",
        "# Plot running Geometric Sharpe ratio up to 100 days before the end of the data set\n",
        "_, ax1 = plt.subplots(figsize=(12,8))\n",
        "ax1.plot(range(90, len(returns)-100), running_sharpe[:-100])\n",
        "ticks = ax1.get_xticks()\n",
        "ax1.set_xticklabels([df['Adj Close'].index[int(i)].date() for i in ticks[:-1]]) # Label x-axis with dates\n",
        "plt.title(symbol + ' Geometric Sharpe Ratio')\n",
        "plt.xlabel('Date')\n",
        "plt.ylabel('Geometric Sharpe Ratio')"
      ],
      "outputs": [
        {
          "output_type": "execute_result",
          "execution_count": 7,
          "data": {
            "text/plain": "Text(0, 0.5, 'Geometric Sharpe Ratio')"
          },
          "metadata": {}
        },
        {
          "output_type": "display_data",
          "data": {
            "text/plain": "<Figure size 864x576 with 1 Axes>",
            "image/png": "[encoded data removed]"
          },
          "metadata": {
            "needs_background": "light"
          }
        }
      ],
      "execution_count": 7,
      "metadata": {
        "collapsed": true,
        "jupyter": {
          "source_hidden": false,
          "outputs_hidden": false
        },
        "nteract": {
          "transient": {
            "deleting": false
          }
        },
        "execution": {
          "iopub.status.busy": "2022-04-30T17:11:32.714Z",
          "iopub.execute_input": "2022-04-30T17:11:32.717Z",
          "iopub.status.idle": "2022-04-30T17:11:33.794Z",
          "shell.execute_reply": "2022-04-30T17:11:33.816Z"
        }
      }
    },
    {
      "cell_type": "code",
      "source": [
        "geometric_sharpe_ratio(returns, rf)"
      ],
      "outputs": [
        {
          "output_type": "execute_result",
          "execution_count": 8,
          "data": {
            "text/plain": "1.3964972240540658"
          },
          "metadata": {}
        }
      ],
      "execution_count": 8,
      "metadata": {
        "collapsed": true,
        "jupyter": {
          "source_hidden": false,
          "outputs_hidden": false
        },
        "nteract": {
          "transient": {
            "deleting": false
          }
        },
        "execution": {
          "iopub.status.busy": "2022-04-30T17:11:33.799Z",
          "iopub.execute_input": "2022-04-30T17:11:33.802Z",
          "iopub.status.idle": "2022-04-30T17:11:33.809Z",
          "shell.execute_reply": "2022-04-30T17:11:33.819Z"
        }
      }
    }
  ],
  "metadata": {
    "kernel_info": {
      "name": "python3"
    },
    "language_info": {
      "name": "python",
      "version": "3.6.13",
      "mimetype": "text/x-python",
      "codemirror_mode": {
        "name": "ipython",
        "version": 3
      },
      "pygments_lexer": "ipython3",
      "nbconvert_exporter": "python",
      "file_extension": ".py"
    },
    "kernelspec": {
      "argv": [
        "C:\\Users\\Tin Hang\\Anaconda3\\envs\\py35\\python.exe",
        "-m",
        "ipykernel_launcher",
        "-f",
        "{connection_file}"
      ],
      "display_name": "Python 3",
      "language": "python",
      "name": "python3"
    },
    "nteract": {
      "version": "0.28.0"
    }
  },
  "nbformat": 4,
  "nbformat_minor": 0
}