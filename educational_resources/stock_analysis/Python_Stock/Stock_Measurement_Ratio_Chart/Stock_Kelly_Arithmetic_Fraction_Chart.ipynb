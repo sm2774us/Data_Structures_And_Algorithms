{
  "cells": [
    {
      "cell_type": "markdown",
      "source": [
        "# Stock Kelly Arithmetic Chart"
      ],
      "metadata": {
        "nteract": {
          "transient": {
            "deleting": false
          }
        }
      }
    },
    {
      "cell_type": "code",
      "source": [
        "# Library\n",
        "import pandas as pd\n",
        "import numpy as np\n",
        "import matplotlib.pyplot as plt\n",
        "\n",
        "import warnings\n",
        "warnings.filterwarnings(\"ignore\")\n",
        "\n",
        "from pandas_datareader import data as pdr\n",
        "import yfinance as yf\n",
        "yf.pdr_override()"
      ],
      "outputs": [],
      "execution_count": 1,
      "metadata": {
        "collapsed": true,
        "jupyter": {
          "source_hidden": false,
          "outputs_hidden": false
        },
        "nteract": {
          "transient": {
            "deleting": false
          }
        },
        "execution": {
          "iopub.status.busy": "2020-10-07T01:33:21.560Z",
          "iopub.execute_input": "2020-10-07T01:33:21.566Z",
          "iopub.status.idle": "2020-10-07T01:33:22.721Z",
          "shell.execute_reply": "2020-10-07T01:33:22.763Z"
        }
      }
    },
    {
      "cell_type": "code",
      "source": [
        "start = '2019-01-01' #input\n",
        "end = '2020-07-01' #input\n",
        "symbol = 'AMD' #input"
      ],
      "outputs": [],
      "execution_count": 2,
      "metadata": {
        "collapsed": true,
        "jupyter": {
          "source_hidden": false,
          "outputs_hidden": false
        },
        "nteract": {
          "transient": {
            "deleting": false
          }
        },
        "execution": {
          "iopub.status.busy": "2020-10-07T01:33:22.730Z",
          "iopub.execute_input": "2020-10-07T01:33:22.734Z",
          "iopub.status.idle": "2020-10-07T01:33:22.743Z",
          "shell.execute_reply": "2020-10-07T01:33:22.766Z"
        }
      }
    },
    {
      "cell_type": "code",
      "source": [
        "stocks = yf.download(symbol, start=start, end=end)['Adj Close']"
      ],
      "outputs": [
        {
          "output_type": "stream",
          "name": "stdout",
          "text": [
            "[*********************100%***********************]  1 of 1 completed\n"
          ]
        }
      ],
      "execution_count": 3,
      "metadata": {
        "collapsed": true,
        "jupyter": {
          "source_hidden": false,
          "outputs_hidden": false
        },
        "nteract": {
          "transient": {
            "deleting": false
          }
        },
        "execution": {
          "iopub.status.busy": "2020-10-07T01:33:22.750Z",
          "iopub.execute_input": "2020-10-07T01:33:22.753Z",
          "iopub.status.idle": "2020-10-07T01:33:23.984Z",
          "shell.execute_reply": "2020-10-07T01:33:24.059Z"
        }
      }
    },
    {
      "cell_type": "code",
      "source": [
        "stocks_returns = stocks.pct_change().dropna()"
      ],
      "outputs": [],
      "execution_count": 4,
      "metadata": {
        "collapsed": true,
        "jupyter": {
          "source_hidden": false,
          "outputs_hidden": false
        },
        "nteract": {
          "transient": {
            "deleting": false
          }
        },
        "execution": {
          "iopub.status.busy": "2020-10-07T01:33:23.993Z",
          "iopub.execute_input": "2020-10-07T01:33:23.999Z",
          "iopub.status.idle": "2020-10-07T01:33:24.012Z",
          "shell.execute_reply": "2020-10-07T01:33:24.974Z"
        }
      }
    },
    {
      "cell_type": "code",
      "source": [
        "def kelly_fraction(stock_returns):\n",
        "    # returns = np.array(stock_returns)\n",
        "    wins = stock_returns[stock_returns > 0]\n",
        "    losses = stock_returns[stock_returns <= 0]\n",
        "    W = len(wins) / len(stock_returns)\n",
        "    R = np.mean(wins) / np.abs(np.mean(losses))\n",
        "    kelly_f = W - ( (1 - W) / R )\n",
        "    return kelly_f\n",
        "\n",
        "def expected_arith(stock_returns):\n",
        "    expected_arith = np.mean(stock_returns)\n",
        "    return expected_arith\n",
        "\n",
        "def kelly_arithmetic(stock_returns):\n",
        "    bounded_rets = stock_returns / np.abs(np.min(stock_returns))\n",
        "    kelly_f = kelly_fraction(bounded_rets) / np.abs(np.min(stock_returns))\n",
        "    exp_arith_kelly = expected_arith(bounded_rets * kelly_f)\n",
        "    return exp_arith_kelly"
      ],
      "outputs": [],
      "execution_count": 5,
      "metadata": {
        "collapsed": true,
        "jupyter": {
          "source_hidden": false,
          "outputs_hidden": false
        },
        "nteract": {
          "transient": {
            "deleting": false
          }
        },
        "execution": {
          "iopub.status.busy": "2020-10-07T01:33:24.022Z",
          "iopub.execute_input": "2020-10-07T01:33:24.027Z",
          "iopub.status.idle": "2020-10-07T01:33:24.033Z",
          "shell.execute_reply": "2020-10-07T01:33:24.978Z"
        }
      }
    },
    {
      "cell_type": "code",
      "source": [
        "# Compute the running Kelly Arithmetic\n",
        "running = [kelly_arithmetic(stocks_returns[i-90:i]) for i in range(90, len(stocks_returns))]\n",
        "\n",
        "# Plot running Kelly Arithmetic up to 100 days before the end of the data set\n",
        "_, ax1 = plt.subplots(figsize=(12,8))\n",
        "ax1.plot(range(90, len(stocks_returns)-100), running[:-100])\n",
        "ticks = ax1.get_xticks()\n",
        "ax1.set_xticklabels([stocks.index[int(i)].date() for i in ticks[:-1]]) # Label x-axis with dates\n",
        "plt.title(symbol + ' Kelly Arithmetic')\n",
        "plt.xlabel('Date')\n",
        "plt.ylabel('Kelly Arithmetic')"
      ],
      "outputs": [
        {
          "output_type": "execute_result",
          "execution_count": 6,
          "data": {
            "text/plain": "Text(0, 0.5, 'Kelly Arithmetic')"
          },
          "metadata": {}
        },
        {
          "output_type": "display_data",
          "data": {
            "image/png": "[encoded data removed]",
            "text/plain": "<Figure size 864x576 with 1 Axes>"
          },
          "metadata": {
            "needs_background": "light"
          }
        }
      ],
      "execution_count": 6,
      "metadata": {
        "collapsed": true,
        "jupyter": {
          "source_hidden": false,
          "outputs_hidden": false
        },
        "nteract": {
          "transient": {
            "deleting": false
          }
        },
        "execution": {
          "iopub.status.busy": "2020-10-07T01:33:24.041Z",
          "iopub.execute_input": "2020-10-07T01:33:24.064Z",
          "iopub.status.idle": "2020-10-07T01:33:24.873Z",
          "shell.execute_reply": "2020-10-07T01:33:24.982Z"
        }
      }
    },
    {
      "cell_type": "code",
      "source": [
        "ka = kelly_arithmetic(stocks_returns)\n",
        "ka"
      ],
      "outputs": [
        {
          "output_type": "execute_result",
          "execution_count": 7,
          "data": {
            "text/plain": "0.020292436157276394"
          },
          "metadata": {}
        }
      ],
      "execution_count": 7,
      "metadata": {
        "collapsed": true,
        "jupyter": {
          "source_hidden": false,
          "outputs_hidden": false
        },
        "nteract": {
          "transient": {
            "deleting": false
          }
        },
        "execution": {
          "iopub.status.busy": "2020-10-07T01:33:24.882Z",
          "iopub.execute_input": "2020-10-07T01:33:24.889Z",
          "iopub.status.idle": "2020-10-07T01:33:24.904Z",
          "shell.execute_reply": "2020-10-07T01:33:24.984Z"
        }
      }
    },
    {
      "cell_type": "code",
      "source": [
        "running"
      ],
      "outputs": [
        {
          "output_type": "execute_result",
          "execution_count": 8,
          "data": {
            "text/plain": "[0.07195786408206359,\n 0.1786418583151776,\n 0.12511125614176008,\n 0.0942875772241262,\n 0.07981019184978605,\n 0.07849674685689145,\n 0.10219547968968515,\n 0.09131369909193927,\n 0.07392377390398866,\n 0.07219793396727854,\n 0.13536508734634795,\n 0.10192384057688521,\n 0.08775978061030573,\n 0.10096534243710682,\n 0.10280690416834098,\n 0.11137888757100876,\n 0.08561530637159809,\n 0.28773286955295724,\n 0.3669577569980651,\n 0.20646342310957383,\n 0.1356927974964329,\n 0.1242092299690515,\n 0.1172136037952894,\n 0.11810675406879179,\n 0.09212721725860534,\n 0.14197667434172248,\n 0.1313127687812458,\n 0.12169099077332221,\n 0.10361455937133414,\n 0.10625771959037278,\n 0.08725317016835128,\n 0.09485962254910087,\n 0.10458545120738069,\n 0.09626829738301355,\n 0.1165909155851589,\n 0.10565962802076696,\n 0.09356992839239327,\n 0.11646834778755791,\n 0.15592467948134217,\n 0.18079819518793272,\n 0.19102954742452974,\n 0.1830432398891349,\n 0.1822391820305413,\n 0.2644420217113663,\n 0.2633563759144365,\n 0.2586965554979142,\n 0.19826517330004204,\n 0.1626190235243182,\n 0.17856990143877766,\n 0.22233151581951122,\n 0.22054208905366446,\n 0.20916014350478807,\n 0.1254813345612118,\n 0.12198110385663757,\n 0.07485950097818594,\n 0.017718061510089055,\n 0.01691805383429516,\n 0.01630643699988727,\n 0.013135520938724454,\n 0.017079217279639965,\n 0.015909688516819294,\n 0.04283414184415004,\n 0.04116382520575343,\n 0.012753444761267215,\n 0.01067804370165647,\n 0.004320150465862859,\n 0.004023898085548764,\n 0.016489519035093093,\n 0.014592257704963148,\n 0.011068751919988733,\n 0.015395389185295453,\n 0.02021336959793276,\n 0.005845379375924283,\n 0.010888416911007675,\n 0.009419253564233787,\n 0.00956099160391903,\n 0.013873669141720531,\n 0.01113427063082097,\n 0.012701017224818329,\n 0.011815480731464031,\n 0.015825179295183612,\n 0.011444105642227333,\n 0.015832050510810027,\n 0.00693412883895434,\n 0.005516254111657559,\n 0.010952227181814081,\n 0.01831426974664598,\n 0.016362412089584392,\n 0.01648783723938569,\n 0.00930652777863472,\n 0.018613090199841857,\n 0.010589246729721065,\n 0.0119961165235835,\n 0.005289606948004838,\n 0.007537330406485489,\n 0.011269535625780999,\n 0.0049780239377710984,\n 0.005683325008373149,\n 0.00935593665223794,\n 0.006852757042815747,\n 0.0005838358141982173,\n 0.003220899467026027,\n 0.003169700560002556,\n 0.0030016121730244323,\n 0.0031529140542647673,\n 2.6726178030195897e-06,\n 0.001513433918966624,\n 9.42027326313403e-08,\n 8.224713707392671e-05,\n 0.0006978139743514496,\n 7.304841368498665e-07,\n 4.506458499594422e-06,\n 0.002237054262031917,\n 0.003605249953892572,\n 0.007354808027349529,\n 0.003931498480177026,\n 0.0071375779633896606,\n 0.014238858605199363,\n 0.01626810414116634,\n 0.015828471851381157,\n 0.02388211831565298,\n 0.022112288275087662,\n 0.024801537691015035,\n 0.026808253619407887,\n 0.01922838479311343,\n 0.020889766075568965,\n 0.021743553188750035,\n 0.019848161374678746,\n 0.018649059997228445,\n 0.01628349850129296,\n 0.016801473216924146,\n 0.023064689027586446,\n 0.02980075533170627,\n 0.029759019780511053,\n 0.031990404418544914,\n 0.024640061826202875,\n 0.02675021837652115,\n 0.03537433657842346,\n 0.02675438088753492,\n 0.02481087163935758,\n 0.019020758573712757,\n 0.019488066321921203,\n 0.018321003474698633,\n 0.0267237258797974,\n 0.02322396703242857,\n 0.10121846687682101,\n 0.1023851780779156,\n 0.12259863930959602,\n 0.16605268436836126,\n 0.20137956193467352,\n 0.15941460436617266,\n 0.07721187709348806,\n 0.0782729075518857,\n 0.10583258650176036,\n 0.1235662049543891,\n 0.20148586894798462,\n 0.25022624320832965,\n 0.22718236826349666,\n 0.22075821508157015,\n 0.23647062606728073,\n 0.19122360378314582,\n 0.19214138949347365,\n 1.4113662117862105,\n 1.2380811406135563,\n 1.2296660160333845,\n 1.122832702501741,\n 0.9856623413125415,\n 1.0889162804509545,\n 1.0943420225737324,\n 1.1315837797834527,\n 0.9974950059959717,\n 1.183576309497582,\n 1.310772938377506,\n 1.473997340807877,\n 1.5983879512531327,\n 1.5669128213516967,\n 1.524282348476612,\n 1.3370600880522354,\n 1.1842820469885547,\n 1.399770442558231,\n 0.41930519298806374,\n 0.47913152557080424,\n 0.37934913916674107,\n 0.48219018873818265,\n 0.5239635866807029,\n 0.549888052792173,\n 0.5804051934231285,\n 0.5787607857958956,\n 0.6857433788132754,\n 0.7820090524853133,\n 0.7631301974018473,\n 0.7637414491074622,\n 0.807639633746803,\n 0.931955339244867,\n 0.9803595491739066,\n 0.9166375189925988,\n 0.48524579537316576,\n 0.26705783814164874,\n 0.2259272396321951,\n 0.2181788289917429,\n 0.14497162613759593,\n 0.1741633676383874,\n 0.1805326605742465,\n 0.1816120087807724,\n 0.24174788651164186,\n 0.19344890307682086,\n 0.17891107246719862,\n 0.042077369214241586,\n 0.06253066927800857,\n 0.06371840714245643,\n 0.010153554730208075,\n 0.02106808063432896,\n 0.004466862118290361,\n 0.011513587991510086,\n 0.006087447269069204,\n 0.006684861375025854,\n 0.0061370234695032125,\n 0.010190915334256435,\n 0.020418410412027285,\n 0.013640045520358633,\n 0.018001192425159292,\n 0.014888243166615779,\n 0.014223889578972857,\n 0.0066054681686107545,\n 0.004442613165362736,\n 0.008375746717497828,\n 0.005848367669394201,\n 0.013788636632487784,\n 0.01631990202375722,\n 0.017891655489421603,\n 0.01768034665472254,\n 0.025520962207239418,\n 0.03525782540034844,\n 0.03261594182886865,\n 0.03856667358625577,\n 0.03682232388330941,\n 0.041466329546262615,\n 0.027811751664829312,\n 0.035160960496065256,\n 0.024457237280151537,\n 0.030347454673528926,\n 0.027309620975813943,\n 0.02327187652028909,\n 0.020450271772439764,\n 0.016078735133007647,\n 0.008708111275315846,\n 0.010563691222162955,\n 0.008020112382934635,\n 0.0076847425264348805,\n 0.008101014214772955,\n 0.011278717287966237,\n 0.014792972940968636,\n 0.006191559341017553,\n 0.0049942462472061236,\n 0.00824344626539967,\n 0.008033786035599608,\n 0.00940765326937066,\n 0.008831594226035801,\n 0.011733589747718834,\n 0.008039519149430973,\n 0.009797096296743446,\n 0.006436406228210946,\n 0.004354844027187759,\n 0.002320164142964793,\n 0.003977308181851787,\n 0.003389878479492584,\n 0.003005320856015095,\n 0.0035223685637735145,\n 0.004536910996002425,\n 0.003701179624752453,\n 0.0070884058401930496,\n 0.009696918589923989,\n 0.014707607222399284,\n 0.006348059929451986,\n 0.005352050220652841,\n 0.006172197220146772,\n 0.00658533343270086,\n 0.006181084834704824,\n 0.0029736870895162113,\n 0.001966609608925586,\n 0.002260335217338723,\n 0.001345318770526138,\n 0.0003507683869932361,\n 1.3479037005301112e-05,\n 0.0006100488393304183,\n 0.00015027058332057054]"
          },
          "metadata": {}
        }
      ],
      "execution_count": 8,
      "metadata": {
        "collapsed": true,
        "jupyter": {
          "source_hidden": false,
          "outputs_hidden": false
        },
        "nteract": {
          "transient": {
            "deleting": false
          }
        },
        "execution": {
          "iopub.status.busy": "2020-10-07T01:33:24.911Z",
          "iopub.execute_input": "2020-10-07T01:33:24.914Z",
          "iopub.status.idle": "2020-10-07T01:33:24.924Z",
          "shell.execute_reply": "2020-10-07T01:33:24.987Z"
        }
      }
    },
    {
      "cell_type": "code",
      "source": [
        "print('Expected Value (Arithmetic): {}%'.format(np.round(kelly_arithmetic(stocks_returns) * 100, 5)))"
      ],
      "outputs": [
        {
          "output_type": "stream",
          "name": "stdout",
          "text": [
            "Expected Value (Arithmetic): 2.02924%\n"
          ]
        }
      ],
      "execution_count": 9,
      "metadata": {
        "collapsed": true,
        "jupyter": {
          "source_hidden": false,
          "outputs_hidden": false
        },
        "nteract": {
          "transient": {
            "deleting": false
          }
        },
        "execution": {
          "iopub.status.busy": "2020-10-07T01:33:24.931Z",
          "iopub.execute_input": "2020-10-07T01:33:24.936Z",
          "iopub.status.idle": "2020-10-07T01:33:24.947Z",
          "shell.execute_reply": "2020-10-07T01:33:24.990Z"
        }
      }
    }
  ],
  "metadata": {
    "kernel_info": {
      "name": "python3"
    },
    "language_info": {
      "file_extension": ".py",
      "version": "3.5.5",
      "pygments_lexer": "ipython3",
      "codemirror_mode": {
        "version": 3,
        "name": "ipython"
      },
      "mimetype": "text/x-python",
      "nbconvert_exporter": "python",
      "name": "python"
    },
    "kernelspec": {
      "argv": [
        "C:\\Users\\Tin Hang\\Anaconda3\\envs\\py35\\python.exe",
        "-m",
        "ipykernel_launcher",
        "-f",
        "{connection_file}"
      ],
      "display_name": "Python 3",
      "language": "python",
      "name": "python3"
    },
    "nteract": {
      "version": "0.25.1"
    }
  },
  "nbformat": 4,
  "nbformat_minor": 0
}