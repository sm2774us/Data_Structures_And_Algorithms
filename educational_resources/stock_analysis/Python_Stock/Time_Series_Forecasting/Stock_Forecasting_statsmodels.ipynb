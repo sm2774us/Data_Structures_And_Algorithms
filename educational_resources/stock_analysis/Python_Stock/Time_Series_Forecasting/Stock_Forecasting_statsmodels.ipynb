{
  "cells": [
    {
      "cell_type": "markdown",
      "source": [
        "# Stock Forecasting using statsmodels"
      ],
      "metadata": {
        "nteract": {
          "transient": {
            "deleting": false
          }
        }
      }
    },
    {
      "cell_type": "markdown",
      "source": [
        "### Forecasts"
      ],
      "metadata": {
        "nteract": {
          "transient": {
            "deleting": false
          }
        }
      }
    },
    {
      "cell_type": "markdown",
      "source": [
        "https://www.statsmodels.org/stable/index.html  \n",
        "https://github.com/statsmodels/statsmodels  \n"
      ],
      "metadata": {
        "nteract": {
          "transient": {
            "deleting": false
          }
        }
      }
    },
    {
      "cell_type": "code",
      "source": [
        "import pandas as pd\n",
        "import numpy as np\n",
        "\n",
        "import matplotlib.pyplot as plt\n",
        "import seaborn as sns\n",
        "\n",
        "import statsmodels.api as sm\n",
        "\n",
        "import warnings\n",
        "warnings.filterwarnings(\"ignore\")\n",
        "\n",
        "import yfinance as yf\n",
        "yf.pdr_override()"
      ],
      "outputs": [],
      "execution_count": 1,
      "metadata": {
        "collapsed": true,
        "jupyter": {
          "source_hidden": false,
          "outputs_hidden": false
        },
        "nteract": {
          "transient": {
            "deleting": false
          }
        },
        "execution": {
          "iopub.status.busy": "2022-07-24T03:14:15.346Z",
          "iopub.execute_input": "2022-07-24T03:14:15.352Z",
          "shell.execute_reply": "2022-07-24T03:14:16.396Z",
          "iopub.status.idle": "2022-07-24T03:14:16.405Z"
        }
      }
    },
    {
      "cell_type": "code",
      "source": [
        "symbol = '^GSPC' # input\n",
        "start = '2010-01-01' # input \n",
        "end = '2022-07-22'  # input\n",
        "df = yf.download(symbol, start, end)"
      ],
      "outputs": [
        {
          "output_type": "stream",
          "name": "stdout",
          "text": [
            "[*********************100%***********************]  1 of 1 completed\n"
          ]
        }
      ],
      "execution_count": 2,
      "metadata": {
        "collapsed": true,
        "jupyter": {
          "source_hidden": false,
          "outputs_hidden": false
        },
        "nteract": {
          "transient": {
            "deleting": false
          }
        },
        "execution": {
          "iopub.status.busy": "2022-07-24T03:14:16.414Z",
          "iopub.execute_input": "2022-07-24T03:14:16.419Z",
          "iopub.status.idle": "2022-07-24T03:14:17.374Z",
          "shell.execute_reply": "2022-07-24T03:14:17.365Z"
        }
      }
    },
    {
      "cell_type": "code",
      "source": [
        "df.head()"
      ],
      "outputs": [
        {
          "output_type": "execute_result",
          "execution_count": 3,
          "data": {
            "text/plain": "                   Open         High          Low        Close    Adj Close  \\\nDate                                                                          \n2010-01-04  1116.560059  1133.869995  1116.560059  1132.989990  1132.989990   \n2010-01-05  1132.660034  1136.630005  1129.660034  1136.520020  1136.520020   \n2010-01-06  1135.709961  1139.189941  1133.949951  1137.140015  1137.140015   \n2010-01-07  1136.270020  1142.459961  1131.319946  1141.689941  1141.689941   \n2010-01-08  1140.520020  1145.390015  1136.219971  1144.979980  1144.979980   \n\n                Volume  \nDate                    \n2010-01-04  3991400000  \n2010-01-05  2491020000  \n2010-01-06  4972660000  \n2010-01-07  5270680000  \n2010-01-08  4389590000  ",
            "text/html": "<div>\n<style scoped>\n    .dataframe tbody tr th:only-of-type {\n        vertical-align: middle;\n    }\n\n    .dataframe tbody tr th {\n        vertical-align: top;\n    }\n\n    .dataframe thead th {\n        text-align: right;\n    }\n</style>\n<table border=\"1\" class=\"dataframe\">\n  <thead>\n    <tr style=\"text-align: right;\">\n      <th></th>\n      <th>Open</th>\n      <th>High</th>\n      <th>Low</th>\n      <th>Close</th>\n      <th>Adj Close</th>\n      <th>Volume</th>\n    </tr>\n    <tr>\n      <th>Date</th>\n      <th></th>\n      <th></th>\n      <th></th>\n      <th></th>\n      <th></th>\n      <th></th>\n    </tr>\n  </thead>\n  <tbody>\n    <tr>\n      <th>2010-01-04</th>\n      <td>1116.560059</td>\n      <td>1133.869995</td>\n      <td>1116.560059</td>\n      <td>1132.989990</td>\n      <td>1132.989990</td>\n      <td>3991400000</td>\n    </tr>\n    <tr>\n      <th>2010-01-05</th>\n      <td>1132.660034</td>\n      <td>1136.630005</td>\n      <td>1129.660034</td>\n      <td>1136.520020</td>\n      <td>1136.520020</td>\n      <td>2491020000</td>\n    </tr>\n    <tr>\n      <th>2010-01-06</th>\n      <td>1135.709961</td>\n      <td>1139.189941</td>\n      <td>1133.949951</td>\n      <td>1137.140015</td>\n      <td>1137.140015</td>\n      <td>4972660000</td>\n    </tr>\n    <tr>\n      <th>2010-01-07</th>\n      <td>1136.270020</td>\n      <td>1142.459961</td>\n      <td>1131.319946</td>\n      <td>1141.689941</td>\n      <td>1141.689941</td>\n      <td>5270680000</td>\n    </tr>\n    <tr>\n      <th>2010-01-08</th>\n      <td>1140.520020</td>\n      <td>1145.390015</td>\n      <td>1136.219971</td>\n      <td>1144.979980</td>\n      <td>1144.979980</td>\n      <td>4389590000</td>\n    </tr>\n  </tbody>\n</table>\n</div>"
          },
          "metadata": {}
        }
      ],
      "execution_count": 3,
      "metadata": {
        "collapsed": true,
        "jupyter": {
          "source_hidden": false,
          "outputs_hidden": false
        },
        "nteract": {
          "transient": {
            "deleting": false
          }
        },
        "execution": {
          "iopub.status.busy": "2022-07-24T03:14:17.382Z",
          "iopub.execute_input": "2022-07-24T03:14:17.389Z",
          "iopub.status.idle": "2022-07-24T03:14:17.402Z",
          "shell.execute_reply": "2022-07-24T03:14:17.472Z"
        }
      }
    },
    {
      "cell_type": "code",
      "source": [
        "df.tail()"
      ],
      "outputs": [
        {
          "output_type": "execute_result",
          "execution_count": 4,
          "data": {
            "text/plain": "                   Open         High          Low        Close    Adj Close  \\\nDate                                                                          \n2022-07-15  3818.000000  3863.620117  3817.179932  3863.159912  3863.159912   \n2022-07-18  3883.790039  3902.439941  3818.629883  3830.850098  3830.850098   \n2022-07-19  3860.729980  3939.810059  3860.729980  3936.689941  3936.689941   \n2022-07-20  3935.320068  3974.129883  3922.030029  3959.899902  3959.899902   \n2022-07-21  3955.469971  3999.290039  3927.639893  3998.949951  3998.949951   \n\n                Volume  \nDate                    \n2022-07-15  3537130000  \n2022-07-18  3414470000  \n2022-07-19  3160350000  \n2022-07-20  3452150000  \n2022-07-21  3586030000  ",
            "text/html": "<div>\n<style scoped>\n    .dataframe tbody tr th:only-of-type {\n        vertical-align: middle;\n    }\n\n    .dataframe tbody tr th {\n        vertical-align: top;\n    }\n\n    .dataframe thead th {\n        text-align: right;\n    }\n</style>\n<table border=\"1\" class=\"dataframe\">\n  <thead>\n    <tr style=\"text-align: right;\">\n      <th></th>\n      <th>Open</th>\n      <th>High</th>\n      <th>Low</th>\n      <th>Close</th>\n      <th>Adj Close</th>\n      <th>Volume</th>\n    </tr>\n    <tr>\n      <th>Date</th>\n      <th></th>\n      <th></th>\n      <th></th>\n      <th></th>\n      <th></th>\n      <th></th>\n    </tr>\n  </thead>\n  <tbody>\n    <tr>\n      <th>2022-07-15</th>\n      <td>3818.000000</td>\n      <td>3863.620117</td>\n      <td>3817.179932</td>\n      <td>3863.159912</td>\n      <td>3863.159912</td>\n      <td>3537130000</td>\n    </tr>\n    <tr>\n      <th>2022-07-18</th>\n      <td>3883.790039</td>\n      <td>3902.439941</td>\n      <td>3818.629883</td>\n      <td>3830.850098</td>\n      <td>3830.850098</td>\n      <td>3414470000</td>\n    </tr>\n    <tr>\n      <th>2022-07-19</th>\n      <td>3860.729980</td>\n      <td>3939.810059</td>\n      <td>3860.729980</td>\n      <td>3936.689941</td>\n      <td>3936.689941</td>\n      <td>3160350000</td>\n    </tr>\n    <tr>\n      <th>2022-07-20</th>\n      <td>3935.320068</td>\n      <td>3974.129883</td>\n      <td>3922.030029</td>\n      <td>3959.899902</td>\n      <td>3959.899902</td>\n      <td>3452150000</td>\n    </tr>\n    <tr>\n      <th>2022-07-21</th>\n      <td>3955.469971</td>\n      <td>3999.290039</td>\n      <td>3927.639893</td>\n      <td>3998.949951</td>\n      <td>3998.949951</td>\n      <td>3586030000</td>\n    </tr>\n  </tbody>\n</table>\n</div>"
          },
          "metadata": {}
        }
      ],
      "execution_count": 4,
      "metadata": {
        "collapsed": true,
        "jupyter": {
          "source_hidden": false,
          "outputs_hidden": false
        },
        "nteract": {
          "transient": {
            "deleting": false
          }
        },
        "execution": {
          "iopub.status.busy": "2022-07-24T03:14:17.410Z",
          "iopub.execute_input": "2022-07-24T03:14:17.417Z",
          "iopub.status.idle": "2022-07-24T03:14:17.428Z",
          "shell.execute_reply": "2022-07-24T03:14:17.476Z"
        }
      }
    },
    {
      "cell_type": "code",
      "source": [
        "df_month = df.resample('M').last()"
      ],
      "outputs": [],
      "execution_count": 5,
      "metadata": {
        "collapsed": true,
        "jupyter": {
          "source_hidden": false,
          "outputs_hidden": false
        },
        "nteract": {
          "transient": {
            "deleting": false
          }
        },
        "execution": {
          "iopub.status.busy": "2022-07-24T03:14:17.435Z",
          "iopub.execute_input": "2022-07-24T03:14:17.439Z",
          "iopub.status.idle": "2022-07-24T03:14:17.446Z",
          "shell.execute_reply": "2022-07-24T03:14:17.479Z"
        }
      }
    },
    {
      "cell_type": "code",
      "source": [
        "plt.figure(figsize = (12, 6))\n",
        "plt.title('Close Prices between {} and {}'.format(\n",
        "    start,\n",
        "    end\n",
        "))\n",
        "df_month['Adj Close'].plot()\n",
        "plt.ylabel('Price')\n",
        "plt.xlabel('Date')\n",
        "plt.show()"
      ],
      "outputs": [
        {
          "output_type": "display_data",
          "data": {
            "text/plain": "<Figure size 864x432 with 1 Axes>",
            "image/png": "[encoded data removed]"
          },
          "metadata": {
            "needs_background": "light"
          }
        }
      ],
      "execution_count": 6,
      "metadata": {
        "collapsed": true,
        "jupyter": {
          "source_hidden": false,
          "outputs_hidden": false
        },
        "nteract": {
          "transient": {
            "deleting": false
          }
        },
        "execution": {
          "iopub.status.busy": "2022-07-24T03:14:17.452Z",
          "iopub.execute_input": "2022-07-24T03:14:17.456Z",
          "iopub.status.idle": "2022-07-24T03:14:17.558Z",
          "shell.execute_reply": "2022-07-24T03:14:17.550Z"
        }
      }
    },
    {
      "cell_type": "code",
      "source": [
        "df_month.head()"
      ],
      "outputs": [
        {
          "output_type": "execute_result",
          "execution_count": 7,
          "data": {
            "text/plain": "                   Open         High          Low        Close    Adj Close  \\\nDate                                                                          \n2010-01-31  1087.609985  1096.449951  1071.589966  1073.869995  1073.869995   \n2010-02-28  1103.099976  1107.239990  1097.560059  1104.489990  1104.489990   \n2010-03-31  1171.750000  1174.560059  1165.770020  1169.430054  1169.430054   \n2010-04-30  1206.770020  1207.989990  1186.319946  1186.689941  1186.689941   \n2010-05-31  1102.589966  1102.589966  1084.780029  1089.410034  1089.410034   \n\n                Volume  \nDate                    \n2010-01-31  5412850000  \n2010-02-28  3945190000  \n2010-03-31  4484340000  \n2010-04-30  6048260000  \n2010-05-31  4871210000  ",
            "text/html": "<div>\n<style scoped>\n    .dataframe tbody tr th:only-of-type {\n        vertical-align: middle;\n    }\n\n    .dataframe tbody tr th {\n        vertical-align: top;\n    }\n\n    .dataframe thead th {\n        text-align: right;\n    }\n</style>\n<table border=\"1\" class=\"dataframe\">\n  <thead>\n    <tr style=\"text-align: right;\">\n      <th></th>\n      <th>Open</th>\n      <th>High</th>\n      <th>Low</th>\n      <th>Close</th>\n      <th>Adj Close</th>\n      <th>Volume</th>\n    </tr>\n    <tr>\n      <th>Date</th>\n      <th></th>\n      <th></th>\n      <th></th>\n      <th></th>\n      <th></th>\n      <th></th>\n    </tr>\n  </thead>\n  <tbody>\n    <tr>\n      <th>2010-01-31</th>\n      <td>1087.609985</td>\n      <td>1096.449951</td>\n      <td>1071.589966</td>\n      <td>1073.869995</td>\n      <td>1073.869995</td>\n      <td>5412850000</td>\n    </tr>\n    <tr>\n      <th>2010-02-28</th>\n      <td>1103.099976</td>\n      <td>1107.239990</td>\n      <td>1097.560059</td>\n      <td>1104.489990</td>\n      <td>1104.489990</td>\n      <td>3945190000</td>\n    </tr>\n    <tr>\n      <th>2010-03-31</th>\n      <td>1171.750000</td>\n      <td>1174.560059</td>\n      <td>1165.770020</td>\n      <td>1169.430054</td>\n      <td>1169.430054</td>\n      <td>4484340000</td>\n    </tr>\n    <tr>\n      <th>2010-04-30</th>\n      <td>1206.770020</td>\n      <td>1207.989990</td>\n      <td>1186.319946</td>\n      <td>1186.689941</td>\n      <td>1186.689941</td>\n      <td>6048260000</td>\n    </tr>\n    <tr>\n      <th>2010-05-31</th>\n      <td>1102.589966</td>\n      <td>1102.589966</td>\n      <td>1084.780029</td>\n      <td>1089.410034</td>\n      <td>1089.410034</td>\n      <td>4871210000</td>\n    </tr>\n  </tbody>\n</table>\n</div>"
          },
          "metadata": {}
        }
      ],
      "execution_count": 7,
      "metadata": {
        "collapsed": true,
        "jupyter": {
          "source_hidden": false,
          "outputs_hidden": false
        },
        "nteract": {
          "transient": {
            "deleting": false
          }
        },
        "execution": {
          "iopub.status.busy": "2022-07-24T03:14:17.565Z",
          "iopub.execute_input": "2022-07-24T03:14:17.569Z",
          "iopub.status.idle": "2022-07-24T03:14:17.578Z",
          "shell.execute_reply": "2022-07-24T03:14:17.677Z"
        }
      }
    },
    {
      "cell_type": "code",
      "source": [
        "df_month.tail()"
      ],
      "outputs": [
        {
          "output_type": "execute_result",
          "execution_count": 8,
          "data": {
            "text/plain": "                   Open         High          Low        Close    Adj Close  \\\nDate                                                                          \n2022-03-31  4599.020020  4603.069824  4530.410156  4530.410156  4530.410156   \n2022-04-30  4253.750000  4269.680176  4124.279785  4131.930176  4131.930176   \n2022-05-31  4151.089844  4168.339844  4104.879883  4132.149902  4132.149902   \n2022-06-30  3785.989990  3818.989990  3738.669922  3785.379883  3785.379883   \n2022-07-31  3955.469971  3999.290039  3927.639893  3998.949951  3998.949951   \n\n                Volume  \nDate                    \n2022-03-31  3782040000  \n2022-04-30  3943480000  \n2022-05-31  5192220000  \n2022-06-30  4032260000  \n2022-07-31  3586030000  ",
            "text/html": "<div>\n<style scoped>\n    .dataframe tbody tr th:only-of-type {\n        vertical-align: middle;\n    }\n\n    .dataframe tbody tr th {\n        vertical-align: top;\n    }\n\n    .dataframe thead th {\n        text-align: right;\n    }\n</style>\n<table border=\"1\" class=\"dataframe\">\n  <thead>\n    <tr style=\"text-align: right;\">\n      <th></th>\n      <th>Open</th>\n      <th>High</th>\n      <th>Low</th>\n      <th>Close</th>\n      <th>Adj Close</th>\n      <th>Volume</th>\n    </tr>\n    <tr>\n      <th>Date</th>\n      <th></th>\n      <th></th>\n      <th></th>\n      <th></th>\n      <th></th>\n      <th></th>\n    </tr>\n  </thead>\n  <tbody>\n    <tr>\n      <th>2022-03-31</th>\n      <td>4599.020020</td>\n      <td>4603.069824</td>\n      <td>4530.410156</td>\n      <td>4530.410156</td>\n      <td>4530.410156</td>\n      <td>3782040000</td>\n    </tr>\n    <tr>\n      <th>2022-04-30</th>\n      <td>4253.750000</td>\n      <td>4269.680176</td>\n      <td>4124.279785</td>\n      <td>4131.930176</td>\n      <td>4131.930176</td>\n      <td>3943480000</td>\n    </tr>\n    <tr>\n      <th>2022-05-31</th>\n      <td>4151.089844</td>\n      <td>4168.339844</td>\n      <td>4104.879883</td>\n      <td>4132.149902</td>\n      <td>4132.149902</td>\n      <td>5192220000</td>\n    </tr>\n    <tr>\n      <th>2022-06-30</th>\n      <td>3785.989990</td>\n      <td>3818.989990</td>\n      <td>3738.669922</td>\n      <td>3785.379883</td>\n      <td>3785.379883</td>\n      <td>4032260000</td>\n    </tr>\n    <tr>\n      <th>2022-07-31</th>\n      <td>3955.469971</td>\n      <td>3999.290039</td>\n      <td>3927.639893</td>\n      <td>3998.949951</td>\n      <td>3998.949951</td>\n      <td>3586030000</td>\n    </tr>\n  </tbody>\n</table>\n</div>"
          },
          "metadata": {}
        }
      ],
      "execution_count": 8,
      "metadata": {
        "collapsed": true,
        "jupyter": {
          "source_hidden": false,
          "outputs_hidden": false
        },
        "nteract": {
          "transient": {
            "deleting": false
          }
        },
        "execution": {
          "iopub.status.busy": "2022-07-24T03:14:17.585Z",
          "iopub.execute_input": "2022-07-24T03:14:17.589Z",
          "iopub.status.idle": "2022-07-24T03:14:17.599Z",
          "shell.execute_reply": "2022-07-24T03:14:17.681Z"
        }
      }
    },
    {
      "cell_type": "code",
      "source": [
        "df_month.index.freq"
      ],
      "outputs": [
        {
          "output_type": "execute_result",
          "execution_count": 9,
          "data": {
            "text/plain": "<MonthEnd>"
          },
          "metadata": {}
        }
      ],
      "execution_count": 9,
      "metadata": {
        "collapsed": true,
        "jupyter": {
          "source_hidden": false,
          "outputs_hidden": false
        },
        "nteract": {
          "transient": {
            "deleting": false
          }
        },
        "execution": {
          "iopub.status.busy": "2022-07-24T03:14:17.606Z",
          "iopub.execute_input": "2022-07-24T03:14:17.610Z",
          "iopub.status.idle": "2022-07-24T03:14:17.620Z",
          "shell.execute_reply": "2022-07-24T03:14:17.685Z"
        }
      }
    },
    {
      "cell_type": "code",
      "source": [
        "df_month=df_month.rename(columns={\"Close\": \"Price\"}, inplace=False)\n",
        "df_month\n",
        "df2 = df_month.drop(columns = ['Open', 'High', 'Low', 'Adj Close', 'Volume'])\n",
        "df2"
      ],
      "outputs": [
        {
          "output_type": "execute_result",
          "execution_count": 10,
          "data": {
            "text/plain": "                  Price\nDate                   \n2010-01-31  1073.869995\n2010-02-28  1104.489990\n2010-03-31  1169.430054\n2010-04-30  1186.689941\n2010-05-31  1089.410034\n...                 ...\n2022-03-31  4530.410156\n2022-04-30  4131.930176\n2022-05-31  4132.149902\n2022-06-30  3785.379883\n2022-07-31  3998.949951\n\n[151 rows x 1 columns]",
            "text/html": "<div>\n<style scoped>\n    .dataframe tbody tr th:only-of-type {\n        vertical-align: middle;\n    }\n\n    .dataframe tbody tr th {\n        vertical-align: top;\n    }\n\n    .dataframe thead th {\n        text-align: right;\n    }\n</style>\n<table border=\"1\" class=\"dataframe\">\n  <thead>\n    <tr style=\"text-align: right;\">\n      <th></th>\n      <th>Price</th>\n    </tr>\n    <tr>\n      <th>Date</th>\n      <th></th>\n    </tr>\n  </thead>\n  <tbody>\n    <tr>\n      <th>2010-01-31</th>\n      <td>1073.869995</td>\n    </tr>\n    <tr>\n      <th>2010-02-28</th>\n      <td>1104.489990</td>\n    </tr>\n    <tr>\n      <th>2010-03-31</th>\n      <td>1169.430054</td>\n    </tr>\n    <tr>\n      <th>2010-04-30</th>\n      <td>1186.689941</td>\n    </tr>\n    <tr>\n      <th>2010-05-31</th>\n      <td>1089.410034</td>\n    </tr>\n    <tr>\n      <th>...</th>\n      <td>...</td>\n    </tr>\n    <tr>\n      <th>2022-03-31</th>\n      <td>4530.410156</td>\n    </tr>\n    <tr>\n      <th>2022-04-30</th>\n      <td>4131.930176</td>\n    </tr>\n    <tr>\n      <th>2022-05-31</th>\n      <td>4132.149902</td>\n    </tr>\n    <tr>\n      <th>2022-06-30</th>\n      <td>3785.379883</td>\n    </tr>\n    <tr>\n      <th>2022-07-31</th>\n      <td>3998.949951</td>\n    </tr>\n  </tbody>\n</table>\n<p>151 rows × 1 columns</p>\n</div>"
          },
          "metadata": {}
        }
      ],
      "execution_count": 10,
      "metadata": {
        "collapsed": true,
        "jupyter": {
          "source_hidden": false,
          "outputs_hidden": false
        },
        "nteract": {
          "transient": {
            "deleting": false
          }
        },
        "execution": {
          "iopub.status.busy": "2022-07-24T03:14:17.626Z",
          "iopub.execute_input": "2022-07-24T03:14:17.630Z",
          "iopub.status.idle": "2022-07-24T03:14:17.640Z",
          "shell.execute_reply": "2022-07-24T03:14:17.687Z"
        }
      }
    },
    {
      "cell_type": "code",
      "source": [
        "close = df2['Price']\n",
        "close.plot(figsize=(15, 5))"
      ],
      "outputs": [
        {
          "output_type": "execute_result",
          "execution_count": 11,
          "data": {
            "text/plain": "<AxesSubplot:xlabel='Date'>"
          },
          "metadata": {}
        },
        {
          "output_type": "display_data",
          "data": {
            "text/plain": "<Figure size 1080x360 with 1 Axes>",
            "image/png": "[encoded data removed]"
          },
          "metadata": {
            "needs_background": "light"
          }
        }
      ],
      "execution_count": 11,
      "metadata": {
        "collapsed": true,
        "jupyter": {
          "source_hidden": false,
          "outputs_hidden": false
        },
        "nteract": {
          "transient": {
            "deleting": false
          }
        },
        "execution": {
          "iopub.status.busy": "2022-07-24T03:14:17.648Z",
          "iopub.execute_input": "2022-07-24T03:14:17.655Z",
          "iopub.status.idle": "2022-07-24T03:14:17.724Z",
          "shell.execute_reply": "2022-07-24T03:14:17.746Z"
        }
      }
    },
    {
      "cell_type": "code",
      "source": [
        "# Construct the model\n",
        "mod = sm.tsa.SARIMAX(close, order=(1, 0, 0), trend='c')\n",
        "# Estimate the parameters\n",
        "res = mod.fit()\n",
        "\n",
        "print(res.summary())\n",
        "\n"
      ],
      "outputs": [
        {
          "output_type": "stream",
          "name": "stdout",
          "text": [
            "                               SARIMAX Results                                \n",
            "==============================================================================\n",
            "Dep. Variable:                  Price   No. Observations:                  151\n",
            "Model:               SARIMAX(1, 0, 0)   Log Likelihood                -931.172\n",
            "Date:                Sat, 23 Jul 2022   AIC                           1868.345\n",
            "Time:                        20:14:17   BIC                           1877.397\n",
            "Sample:                    01-31-2010   HQIC                          1872.022\n",
            "                         - 07-31-2022                                         \n",
            "Covariance Type:                  opg                                         \n",
            "==============================================================================\n",
            "                 coef    std err          z      P>|z|      [0.025      0.975]\n",
            "------------------------------------------------------------------------------\n",
            "intercept      9.4497     19.725      0.479      0.632     -29.210      48.110\n",
            "ar.L1          0.9962      0.008    131.778      0.000       0.981       1.011\n",
            "sigma2      1.288e+04   1050.024     12.263      0.000    1.08e+04    1.49e+04\n",
            "===================================================================================\n",
            "Ljung-Box (L1) (Q):                   3.16   Jarque-Bera (JB):                53.58\n",
            "Prob(Q):                              0.08   Prob(JB):                         0.00\n",
            "Heteroskedasticity (H):              10.75   Skew:                            -0.60\n",
            "Prob(H) (two-sided):                  0.00   Kurtosis:                         5.66\n",
            "===================================================================================\n",
            "\n",
            "Warnings:\n",
            "[1] Covariance matrix calculated using the outer product of gradients (complex-step).\n"
          ]
        }
      ],
      "execution_count": 12,
      "metadata": {
        "collapsed": true,
        "jupyter": {
          "source_hidden": false,
          "outputs_hidden": false
        },
        "nteract": {
          "transient": {
            "deleting": false
          }
        },
        "execution": {
          "iopub.status.busy": "2022-07-24T03:14:17.731Z",
          "iopub.execute_input": "2022-07-24T03:14:17.735Z",
          "iopub.status.idle": "2022-07-24T03:14:17.793Z",
          "shell.execute_reply": "2022-07-24T03:14:17.779Z"
        }
      }
    },
    {
      "cell_type": "code",
      "source": [
        "print(res.forecast())"
      ],
      "outputs": [
        {
          "output_type": "stream",
          "name": "stdout",
          "text": [
            "2022-08-31    3993.253217\n",
            "Freq: M, dtype: float64\n"
          ]
        }
      ],
      "execution_count": 13,
      "metadata": {
        "collapsed": true,
        "jupyter": {
          "source_hidden": false,
          "outputs_hidden": false
        },
        "nteract": {
          "transient": {
            "deleting": false
          }
        },
        "execution": {
          "iopub.status.busy": "2022-07-24T03:14:17.801Z",
          "iopub.execute_input": "2022-07-24T03:14:17.805Z",
          "shell.execute_reply": "2022-07-24T03:14:17.952Z",
          "iopub.status.idle": "2022-07-24T03:14:17.815Z"
        }
      }
    },
    {
      "cell_type": "code",
      "source": [
        "# Here we construct a more complete results object.\n",
        "fcast_res1 = res.get_forecast()\n",
        "\n",
        "# Most results are collected in the `summary_frame` attribute.\n",
        "# Here we specify that we want a confidence level of 90%\n",
        "print(fcast_res1.summary_frame(alpha=0.10))"
      ],
      "outputs": [
        {
          "output_type": "stream",
          "name": "stdout",
          "text": [
            "Price              mean     mean_se  mean_ci_lower  mean_ci_upper\n",
            "2022-08-31  3993.253217  113.474222    3806.604731    4179.901703\n"
          ]
        }
      ],
      "execution_count": 14,
      "metadata": {
        "collapsed": true,
        "jupyter": {
          "source_hidden": false,
          "outputs_hidden": false
        },
        "nteract": {
          "transient": {
            "deleting": false
          }
        },
        "execution": {
          "iopub.status.busy": "2022-07-24T03:14:17.823Z",
          "iopub.execute_input": "2022-07-24T03:14:17.827Z",
          "iopub.status.idle": "2022-07-24T03:14:17.837Z",
          "shell.execute_reply": "2022-07-24T03:14:17.956Z"
        }
      }
    },
    {
      "cell_type": "code",
      "source": [
        "print(res.forecast(steps=2))"
      ],
      "outputs": [
        {
          "output_type": "stream",
          "name": "stdout",
          "text": [
            "2022-08-31    3993.253217\n",
            "2022-09-30    3987.578060\n",
            "Freq: M, Name: predicted_mean, dtype: float64\n"
          ]
        }
      ],
      "execution_count": 15,
      "metadata": {
        "collapsed": true,
        "jupyter": {
          "source_hidden": false,
          "outputs_hidden": false
        },
        "nteract": {
          "transient": {
            "deleting": false
          }
        },
        "execution": {
          "iopub.status.busy": "2022-07-24T03:14:17.844Z",
          "iopub.execute_input": "2022-07-24T03:14:17.849Z",
          "shell.execute_reply": "2022-07-24T03:14:17.958Z",
          "iopub.status.idle": "2022-07-24T03:14:17.859Z"
        }
      }
    },
    {
      "cell_type": "code",
      "source": [
        "fcast_res2 = res.get_forecast(steps=2)\n",
        "# Note: since we did not specify the alpha parameter, the\n",
        "# confidence level is at the default, 95%\n",
        "print(fcast_res2.summary_frame())"
      ],
      "outputs": [
        {
          "output_type": "stream",
          "name": "stdout",
          "text": [
            "Price              mean     mean_se  mean_ci_lower  mean_ci_upper\n",
            "2022-08-31  3993.253217  113.474222    3770.847829    4215.658605\n",
            "2022-09-30  3987.578060  160.173161    3673.644433    4301.511687\n"
          ]
        }
      ],
      "execution_count": 16,
      "metadata": {
        "collapsed": true,
        "jupyter": {
          "source_hidden": false,
          "outputs_hidden": false
        },
        "nteract": {
          "transient": {
            "deleting": false
          }
        },
        "execution": {
          "iopub.status.busy": "2022-07-24T03:14:17.867Z",
          "iopub.execute_input": "2022-07-24T03:14:17.872Z",
          "iopub.status.idle": "2022-07-24T03:14:17.883Z",
          "shell.execute_reply": "2022-07-24T03:14:17.961Z"
        }
      }
    },
    {
      "cell_type": "code",
      "source": [
        "print(res.forecast('2022-12-31'))"
      ],
      "outputs": [
        {
          "output_type": "stream",
          "name": "stdout",
          "text": [
            "2022-08-31    3993.253217\n",
            "2022-09-30    3987.578060\n",
            "2022-10-31    3981.924398\n",
            "2022-11-30    3976.292150\n",
            "2022-12-31    3970.681234\n",
            "Freq: M, Name: predicted_mean, dtype: float64\n"
          ]
        }
      ],
      "execution_count": 17,
      "metadata": {
        "collapsed": true,
        "jupyter": {
          "source_hidden": false,
          "outputs_hidden": false
        },
        "nteract": {
          "transient": {
            "deleting": false
          }
        },
        "execution": {
          "iopub.status.busy": "2022-07-24T03:14:17.890Z",
          "iopub.execute_input": "2022-07-24T03:14:17.895Z",
          "iopub.status.idle": "2022-07-24T03:14:17.905Z",
          "shell.execute_reply": "2022-07-24T03:14:17.964Z"
        }
      }
    },
    {
      "cell_type": "code",
      "source": [
        "fcast_res3 = res.get_forecast('2022-12-31')\n",
        "print(fcast_res3.summary_frame())"
      ],
      "outputs": [
        {
          "output_type": "stream",
          "name": "stdout",
          "text": [
            "Price              mean     mean_se  mean_ci_lower  mean_ci_upper\n",
            "2022-08-31  3993.253217  113.474222    3770.847829    4215.658605\n",
            "2022-09-30  3987.578060  160.173161    3673.644433    4301.511687\n",
            "2022-10-31  3981.924398  195.800571    3598.162331    4365.686465\n",
            "2022-11-30  3976.292150  225.664343    3533.998165    4418.586134\n",
            "2022-12-31  3970.681234  251.824865    3477.113568    4464.248900\n"
          ]
        }
      ],
      "execution_count": 18,
      "metadata": {
        "collapsed": true,
        "jupyter": {
          "source_hidden": false,
          "outputs_hidden": false
        },
        "nteract": {
          "transient": {
            "deleting": false
          }
        },
        "execution": {
          "iopub.status.busy": "2022-07-24T03:14:17.912Z",
          "iopub.execute_input": "2022-07-24T03:14:17.917Z",
          "iopub.status.idle": "2022-07-24T03:14:17.927Z",
          "shell.execute_reply": "2022-07-24T03:14:17.966Z"
        }
      }
    },
    {
      "cell_type": "code",
      "source": [
        "fig, ax = plt.subplots(figsize=(15, 5))\n",
        "\n",
        "# Plot the data (here we are subsetting it to get a better look at the forecasts)\n",
        "close.loc['2018-07-31':].plot(ax=ax)\n",
        "\n",
        "# Construct the forecasts\n",
        "fcast = res.get_forecast('2023-12-31').summary_frame()\n",
        "fcast['mean'].plot(ax=ax, style='k--')\n",
        "ax.fill_between(fcast.index, fcast['mean_ci_lower'].values, fcast['mean_ci_upper'].values, color='k', alpha=0.1)\n",
        "plt.show()"
      ],
      "outputs": [
        {
          "output_type": "display_data",
          "data": {
            "text/plain": "<Figure size 1080x360 with 1 Axes>",
            "image/png": "[encoded data removed]"
          },
          "metadata": {
            "needs_background": "light"
          }
        }
      ],
      "execution_count": 19,
      "metadata": {
        "collapsed": true,
        "jupyter": {
          "source_hidden": false,
          "outputs_hidden": false
        },
        "nteract": {
          "transient": {
            "deleting": false
          }
        },
        "execution": {
          "iopub.status.busy": "2022-07-24T03:14:17.934Z",
          "iopub.execute_input": "2022-07-24T03:14:17.938Z",
          "iopub.status.idle": "2022-07-24T03:14:18.017Z",
          "shell.execute_reply": "2022-07-24T03:14:18.011Z"
        }
      }
    },
    {
      "cell_type": "code",
      "source": [],
      "outputs": [],
      "execution_count": null,
      "metadata": {
        "collapsed": true,
        "jupyter": {
          "source_hidden": false,
          "outputs_hidden": false
        },
        "nteract": {
          "transient": {
            "deleting": false
          }
        },
        "execution": {
          "iopub.status.busy": "2022-07-24T01:29:14.363Z",
          "iopub.execute_input": "2022-07-24T01:29:14.370Z",
          "iopub.status.idle": "2022-07-24T01:29:14.447Z",
          "shell.execute_reply": "2022-07-24T01:29:14.431Z"
        }
      }
    }
  ],
  "metadata": {
    "kernel_info": {
      "name": "python3"
    },
    "language_info": {
      "name": "python",
      "version": "3.6.13",
      "mimetype": "text/x-python",
      "codemirror_mode": {
        "name": "ipython",
        "version": 3
      },
      "pygments_lexer": "ipython3",
      "nbconvert_exporter": "python",
      "file_extension": ".py"
    },
    "kernelspec": {
      "argv": [
        "C:/Users/Tin Hang/Anaconda3\\python.exe",
        "-m",
        "ipykernel_launcher",
        "-f",
        "{connection_file}"
      ],
      "display_name": "Python 3",
      "language": "python",
      "name": "python3"
    },
    "nteract": {
      "version": "0.28.0"
    }
  },
  "nbformat": 4,
  "nbformat_minor": 0
}