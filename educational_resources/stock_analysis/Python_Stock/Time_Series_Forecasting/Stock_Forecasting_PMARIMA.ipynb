{
  "cells": [
    {
      "cell_type": "markdown",
      "source": [
        "# Stock Forecasting using pmdarima"
      ],
      "metadata": {
        "nteract": {
          "transient": {
            "deleting": false
          }
        }
      }
    },
    {
      "cell_type": "markdown",
      "source": [
        "https://github.com/alkaline-ml/pmdarima"
      ],
      "metadata": {
        "nteract": {
          "transient": {
            "deleting": false
          }
        }
      }
    },
    {
      "cell_type": "code",
      "source": [
        "# Libraries\n",
        "\n",
        "import pandas as pd\n",
        "import numpy as np\n",
        "import matplotlib.pyplot as plt\n",
        "import seaborn as sns\n",
        "import pmdarima as pm\n",
        "from pmdarima.arima import ndiffs, nsdiffs\n",
        "\n",
        "\n",
        "import yfinance as yf\n",
        "yf.pdr_override()"
      ],
      "outputs": [],
      "execution_count": 37,
      "metadata": {
        "collapsed": true,
        "jupyter": {
          "source_hidden": false,
          "outputs_hidden": false
        },
        "nteract": {
          "transient": {
            "deleting": false
          }
        },
        "execution": {
          "iopub.status.busy": "2021-11-14T07:25:28.083Z",
          "iopub.execute_input": "2021-11-14T07:25:28.089Z",
          "iopub.status.idle": "2021-11-14T07:25:28.096Z",
          "shell.execute_reply": "2021-11-14T07:25:28.104Z"
        }
      }
    },
    {
      "cell_type": "code",
      "source": [
        "stock = 'AMD' # input\n",
        "start = '2017-01-01' # input \n",
        "end = '2021-11-08'  # input\n",
        "df = yf.download(stock, start, end)"
      ],
      "outputs": [
        {
          "output_type": "stream",
          "name": "stdout",
          "text": [
            "[*********************100%***********************]  1 of 1 completed\n"
          ]
        }
      ],
      "execution_count": 2,
      "metadata": {
        "collapsed": true,
        "jupyter": {
          "source_hidden": false,
          "outputs_hidden": false
        },
        "nteract": {
          "transient": {
            "deleting": false
          }
        },
        "execution": {
          "iopub.status.busy": "2021-11-14T06:39:50.247Z",
          "iopub.execute_input": "2021-11-14T06:39:50.251Z",
          "iopub.status.idle": "2021-11-14T06:39:51.243Z",
          "shell.execute_reply": "2021-11-14T06:39:51.237Z"
        }
      }
    },
    {
      "cell_type": "code",
      "source": [
        "df.head()"
      ],
      "outputs": [
        {
          "output_type": "execute_result",
          "execution_count": 3,
          "data": {
            "text/plain": "             Open   High    Low  Close  Adj Close    Volume\nDate                                                       \n2017-01-03  11.42  11.65  11.02  11.43      11.43  55182000\n2017-01-04  11.45  11.52  11.24  11.43      11.43  40781200\n2017-01-05  11.43  11.69  11.23  11.24      11.24  38855200\n2017-01-06  11.29  11.49  11.11  11.32      11.32  34453500\n2017-01-09  11.37  11.64  11.31  11.49      11.49  37304800",
            "text/html": "<div>\n<style scoped>\n    .dataframe tbody tr th:only-of-type {\n        vertical-align: middle;\n    }\n\n    .dataframe tbody tr th {\n        vertical-align: top;\n    }\n\n    .dataframe thead th {\n        text-align: right;\n    }\n</style>\n<table border=\"1\" class=\"dataframe\">\n  <thead>\n    <tr style=\"text-align: right;\">\n      <th></th>\n      <th>Open</th>\n      <th>High</th>\n      <th>Low</th>\n      <th>Close</th>\n      <th>Adj Close</th>\n      <th>Volume</th>\n    </tr>\n    <tr>\n      <th>Date</th>\n      <th></th>\n      <th></th>\n      <th></th>\n      <th></th>\n      <th></th>\n      <th></th>\n    </tr>\n  </thead>\n  <tbody>\n    <tr>\n      <th>2017-01-03</th>\n      <td>11.42</td>\n      <td>11.65</td>\n      <td>11.02</td>\n      <td>11.43</td>\n      <td>11.43</td>\n      <td>55182000</td>\n    </tr>\n    <tr>\n      <th>2017-01-04</th>\n      <td>11.45</td>\n      <td>11.52</td>\n      <td>11.24</td>\n      <td>11.43</td>\n      <td>11.43</td>\n      <td>40781200</td>\n    </tr>\n    <tr>\n      <th>2017-01-05</th>\n      <td>11.43</td>\n      <td>11.69</td>\n      <td>11.23</td>\n      <td>11.24</td>\n      <td>11.24</td>\n      <td>38855200</td>\n    </tr>\n    <tr>\n      <th>2017-01-06</th>\n      <td>11.29</td>\n      <td>11.49</td>\n      <td>11.11</td>\n      <td>11.32</td>\n      <td>11.32</td>\n      <td>34453500</td>\n    </tr>\n    <tr>\n      <th>2017-01-09</th>\n      <td>11.37</td>\n      <td>11.64</td>\n      <td>11.31</td>\n      <td>11.49</td>\n      <td>11.49</td>\n      <td>37304800</td>\n    </tr>\n  </tbody>\n</table>\n</div>"
          },
          "metadata": {}
        }
      ],
      "execution_count": 3,
      "metadata": {
        "collapsed": true,
        "jupyter": {
          "source_hidden": false,
          "outputs_hidden": false
        },
        "nteract": {
          "transient": {
            "deleting": false
          }
        },
        "execution": {
          "iopub.status.busy": "2021-11-14T06:39:51.249Z",
          "iopub.execute_input": "2021-11-14T06:39:51.254Z",
          "iopub.status.idle": "2021-11-14T06:39:51.267Z",
          "shell.execute_reply": "2021-11-14T06:39:51.350Z"
        }
      }
    },
    {
      "cell_type": "code",
      "source": [
        "df.tail()"
      ],
      "outputs": [
        {
          "output_type": "execute_result",
          "execution_count": 4,
          "data": {
            "text/plain": "                  Open        High         Low       Close   Adj Close  \\\nDate                                                                     \n2021-11-01  119.449997  125.669998  118.129997  125.230003  125.230003   \n2021-11-02  124.980003  128.460007  124.199997  127.629997  127.629997   \n2021-11-03  127.750000  130.600006  126.790001  130.529999  130.529999   \n2021-11-04  132.009995  139.000000  130.770004  137.500000  137.500000   \n2021-11-05  139.190002  141.220001  134.419998  136.339996  136.339996   \n\n              Volume  \nDate                  \n2021-11-01  54559800  \n2021-11-02  53491900  \n2021-11-03  59537800  \n2021-11-04  84825200  \n2021-11-05  64878000  ",
            "text/html": "<div>\n<style scoped>\n    .dataframe tbody tr th:only-of-type {\n        vertical-align: middle;\n    }\n\n    .dataframe tbody tr th {\n        vertical-align: top;\n    }\n\n    .dataframe thead th {\n        text-align: right;\n    }\n</style>\n<table border=\"1\" class=\"dataframe\">\n  <thead>\n    <tr style=\"text-align: right;\">\n      <th></th>\n      <th>Open</th>\n      <th>High</th>\n      <th>Low</th>\n      <th>Close</th>\n      <th>Adj Close</th>\n      <th>Volume</th>\n    </tr>\n    <tr>\n      <th>Date</th>\n      <th></th>\n      <th></th>\n      <th></th>\n      <th></th>\n      <th></th>\n      <th></th>\n    </tr>\n  </thead>\n  <tbody>\n    <tr>\n      <th>2021-11-01</th>\n      <td>119.449997</td>\n      <td>125.669998</td>\n      <td>118.129997</td>\n      <td>125.230003</td>\n      <td>125.230003</td>\n      <td>54559800</td>\n    </tr>\n    <tr>\n      <th>2021-11-02</th>\n      <td>124.980003</td>\n      <td>128.460007</td>\n      <td>124.199997</td>\n      <td>127.629997</td>\n      <td>127.629997</td>\n      <td>53491900</td>\n    </tr>\n    <tr>\n      <th>2021-11-03</th>\n      <td>127.750000</td>\n      <td>130.600006</td>\n      <td>126.790001</td>\n      <td>130.529999</td>\n      <td>130.529999</td>\n      <td>59537800</td>\n    </tr>\n    <tr>\n      <th>2021-11-04</th>\n      <td>132.009995</td>\n      <td>139.000000</td>\n      <td>130.770004</td>\n      <td>137.500000</td>\n      <td>137.500000</td>\n      <td>84825200</td>\n    </tr>\n    <tr>\n      <th>2021-11-05</th>\n      <td>139.190002</td>\n      <td>141.220001</td>\n      <td>134.419998</td>\n      <td>136.339996</td>\n      <td>136.339996</td>\n      <td>64878000</td>\n    </tr>\n  </tbody>\n</table>\n</div>"
          },
          "metadata": {}
        }
      ],
      "execution_count": 4,
      "metadata": {
        "collapsed": true,
        "jupyter": {
          "source_hidden": false,
          "outputs_hidden": false
        },
        "nteract": {
          "transient": {
            "deleting": false
          }
        },
        "execution": {
          "iopub.status.busy": "2021-11-14T06:39:51.272Z",
          "iopub.execute_input": "2021-11-14T06:39:51.277Z",
          "iopub.status.idle": "2021-11-14T06:39:51.286Z",
          "shell.execute_reply": "2021-11-14T06:39:51.353Z"
        }
      }
    },
    {
      "cell_type": "code",
      "source": [
        "plt.figure(figsize=(16,8))\n",
        "plt.plot(df['Adj Close'])\n",
        "plt.title('Stock Price')\n",
        "plt.ylabel('Price')\n",
        "plt.show()"
      ],
      "outputs": [
        {
          "output_type": "display_data",
          "data": {
            "text/plain": "<Figure size 1152x576 with 1 Axes>",
            "image/png": "[encoded data removed]"
          },
          "metadata": {
            "needs_background": "light"
          }
        }
      ],
      "execution_count": 5,
      "metadata": {
        "collapsed": true,
        "jupyter": {
          "source_hidden": false,
          "outputs_hidden": false
        },
        "nteract": {
          "transient": {
            "deleting": false
          }
        },
        "execution": {
          "iopub.status.busy": "2021-11-14T06:39:51.291Z",
          "iopub.execute_input": "2021-11-14T06:39:51.297Z",
          "iopub.status.idle": "2021-11-14T06:39:51.392Z",
          "shell.execute_reply": "2021-11-14T06:39:51.452Z"
        }
      }
    },
    {
      "cell_type": "code",
      "source": [
        "auto_arima = pm.auto_arima(df['Adj Close'], \n",
        "                           error_action='ignore',\n",
        "                           suppress_warnings=True,\n",
        "                           seasonal=False)\n",
        "auto_arima.summary()"
      ],
      "outputs": [
        {
          "output_type": "execute_result",
          "execution_count": 7,
          "data": {
            "text/plain": "<class 'statsmodels.iolib.summary.Summary'>\n\"\"\"\n                               SARIMAX Results                                \n==============================================================================\nDep. Variable:                      y   No. Observations:                 1221\nModel:               SARIMAX(2, 1, 2)   Log Likelihood               -2242.456\nDate:                Sat, 13 Nov 2021   AIC                           4496.912\nTime:                        22:40:07   BIC                           4527.551\nSample:                             0   HQIC                          4508.444\n                               - 1221                                         \nCovariance Type:                  opg                                         \n==============================================================================\n                 coef    std err          z      P>|z|      [0.025      0.975]\n------------------------------------------------------------------------------\nintercept      0.3678      0.158      2.332      0.020       0.059       0.677\nar.L1         -1.6062      0.011   -146.858      0.000      -1.628      -1.585\nar.L2         -0.9759      0.010    -97.598      0.000      -0.995      -0.956\nma.L1          1.5783      0.013    124.692      0.000       1.553       1.603\nma.L2          0.9674      0.012     79.200      0.000       0.943       0.991\nsigma2         2.3111      0.051     45.251      0.000       2.211       2.411\n===================================================================================\nLjung-Box (L1) (Q):                   0.20   Jarque-Bera (JB):              1552.31\nProb(Q):                              0.65   Prob(JB):                         0.00\nHeteroskedasticity (H):              25.34   Skew:                             0.45\nProb(H) (two-sided):                  0.00   Kurtosis:                         8.45\n===================================================================================\n\nWarnings:\n[1] Covariance matrix calculated using the outer product of gradients (complex-step).\n\"\"\"",
            "text/html": "<table class=\"simpletable\">\n<caption>SARIMAX Results</caption>\n<tr>\n  <th>Dep. Variable:</th>           <td>y</td>        <th>  No. Observations:  </th>   <td>1221</td>   \n</tr>\n<tr>\n  <th>Model:</th>           <td>SARIMAX(2, 1, 2)</td> <th>  Log Likelihood     </th> <td>-2242.456</td>\n</tr>\n<tr>\n  <th>Date:</th>            <td>Sat, 13 Nov 2021</td> <th>  AIC                </th> <td>4496.912</td> \n</tr>\n<tr>\n  <th>Time:</th>                <td>22:40:07</td>     <th>  BIC                </th> <td>4527.551</td> \n</tr>\n<tr>\n  <th>Sample:</th>                  <td>0</td>        <th>  HQIC               </th> <td>4508.444</td> \n</tr>\n<tr>\n  <th></th>                      <td> - 1221</td>     <th>                     </th>     <td> </td>    \n</tr>\n<tr>\n  <th>Covariance Type:</th>        <td>opg</td>       <th>                     </th>     <td> </td>    \n</tr>\n</table>\n<table class=\"simpletable\">\n<tr>\n      <td></td>         <th>coef</th>     <th>std err</th>      <th>z</th>      <th>P>|z|</th>  <th>[0.025</th>    <th>0.975]</th>  \n</tr>\n<tr>\n  <th>intercept</th> <td>    0.3678</td> <td>    0.158</td> <td>    2.332</td> <td> 0.020</td> <td>    0.059</td> <td>    0.677</td>\n</tr>\n<tr>\n  <th>ar.L1</th>     <td>   -1.6062</td> <td>    0.011</td> <td> -146.858</td> <td> 0.000</td> <td>   -1.628</td> <td>   -1.585</td>\n</tr>\n<tr>\n  <th>ar.L2</th>     <td>   -0.9759</td> <td>    0.010</td> <td>  -97.598</td> <td> 0.000</td> <td>   -0.995</td> <td>   -0.956</td>\n</tr>\n<tr>\n  <th>ma.L1</th>     <td>    1.5783</td> <td>    0.013</td> <td>  124.692</td> <td> 0.000</td> <td>    1.553</td> <td>    1.603</td>\n</tr>\n<tr>\n  <th>ma.L2</th>     <td>    0.9674</td> <td>    0.012</td> <td>   79.200</td> <td> 0.000</td> <td>    0.943</td> <td>    0.991</td>\n</tr>\n<tr>\n  <th>sigma2</th>    <td>    2.3111</td> <td>    0.051</td> <td>   45.251</td> <td> 0.000</td> <td>    2.211</td> <td>    2.411</td>\n</tr>\n</table>\n<table class=\"simpletable\">\n<tr>\n  <th>Ljung-Box (L1) (Q):</th>     <td>0.20</td>  <th>  Jarque-Bera (JB):  </th> <td>1552.31</td>\n</tr>\n<tr>\n  <th>Prob(Q):</th>                <td>0.65</td>  <th>  Prob(JB):          </th>  <td>0.00</td>  \n</tr>\n<tr>\n  <th>Heteroskedasticity (H):</th> <td>25.34</td> <th>  Skew:              </th>  <td>0.45</td>  \n</tr>\n<tr>\n  <th>Prob(H) (two-sided):</th>    <td>0.00</td>  <th>  Kurtosis:          </th>  <td>8.45</td>  \n</tr>\n</table><br/><br/>Warnings:<br/>[1] Covariance matrix calculated using the outer product of gradients (complex-step)."
          },
          "metadata": {}
        }
      ],
      "execution_count": 7,
      "metadata": {
        "collapsed": true,
        "jupyter": {
          "source_hidden": false,
          "outputs_hidden": false
        },
        "nteract": {
          "transient": {
            "deleting": false
          }
        },
        "execution": {
          "iopub.status.busy": "2021-11-14T06:40:02.262Z",
          "iopub.execute_input": "2021-11-14T06:40:02.266Z",
          "iopub.status.idle": "2021-11-14T06:40:07.210Z",
          "shell.execute_reply": "2021-11-14T06:40:07.214Z"
        }
      }
    },
    {
      "cell_type": "code",
      "source": [
        "auto_arima = pm.auto_arima(df['Adj Close'], \n",
        "                           error_action='ignore',\n",
        "                           suppress_warnings=True,\n",
        "                           seasonal=False)\n",
        "auto_arima.summary()"
      ],
      "outputs": [
        {
          "output_type": "execute_result",
          "execution_count": 8,
          "data": {
            "text/plain": "<class 'statsmodels.iolib.summary.Summary'>\n\"\"\"\n                               SARIMAX Results                                \n==============================================================================\nDep. Variable:                      y   No. Observations:                 1221\nModel:               SARIMAX(2, 1, 2)   Log Likelihood               -2242.456\nDate:                Sat, 13 Nov 2021   AIC                           4496.912\nTime:                        22:40:28   BIC                           4527.551\nSample:                             0   HQIC                          4508.444\n                               - 1221                                         \nCovariance Type:                  opg                                         \n==============================================================================\n                 coef    std err          z      P>|z|      [0.025      0.975]\n------------------------------------------------------------------------------\nintercept      0.3678      0.158      2.332      0.020       0.059       0.677\nar.L1         -1.6062      0.011   -146.858      0.000      -1.628      -1.585\nar.L2         -0.9759      0.010    -97.598      0.000      -0.995      -0.956\nma.L1          1.5783      0.013    124.692      0.000       1.553       1.603\nma.L2          0.9674      0.012     79.200      0.000       0.943       0.991\nsigma2         2.3111      0.051     45.251      0.000       2.211       2.411\n===================================================================================\nLjung-Box (L1) (Q):                   0.20   Jarque-Bera (JB):              1552.31\nProb(Q):                              0.65   Prob(JB):                         0.00\nHeteroskedasticity (H):              25.34   Skew:                             0.45\nProb(H) (two-sided):                  0.00   Kurtosis:                         8.45\n===================================================================================\n\nWarnings:\n[1] Covariance matrix calculated using the outer product of gradients (complex-step).\n\"\"\"",
            "text/html": "<table class=\"simpletable\">\n<caption>SARIMAX Results</caption>\n<tr>\n  <th>Dep. Variable:</th>           <td>y</td>        <th>  No. Observations:  </th>   <td>1221</td>   \n</tr>\n<tr>\n  <th>Model:</th>           <td>SARIMAX(2, 1, 2)</td> <th>  Log Likelihood     </th> <td>-2242.456</td>\n</tr>\n<tr>\n  <th>Date:</th>            <td>Sat, 13 Nov 2021</td> <th>  AIC                </th> <td>4496.912</td> \n</tr>\n<tr>\n  <th>Time:</th>                <td>22:40:28</td>     <th>  BIC                </th> <td>4527.551</td> \n</tr>\n<tr>\n  <th>Sample:</th>                  <td>0</td>        <th>  HQIC               </th> <td>4508.444</td> \n</tr>\n<tr>\n  <th></th>                      <td> - 1221</td>     <th>                     </th>     <td> </td>    \n</tr>\n<tr>\n  <th>Covariance Type:</th>        <td>opg</td>       <th>                     </th>     <td> </td>    \n</tr>\n</table>\n<table class=\"simpletable\">\n<tr>\n      <td></td>         <th>coef</th>     <th>std err</th>      <th>z</th>      <th>P>|z|</th>  <th>[0.025</th>    <th>0.975]</th>  \n</tr>\n<tr>\n  <th>intercept</th> <td>    0.3678</td> <td>    0.158</td> <td>    2.332</td> <td> 0.020</td> <td>    0.059</td> <td>    0.677</td>\n</tr>\n<tr>\n  <th>ar.L1</th>     <td>   -1.6062</td> <td>    0.011</td> <td> -146.858</td> <td> 0.000</td> <td>   -1.628</td> <td>   -1.585</td>\n</tr>\n<tr>\n  <th>ar.L2</th>     <td>   -0.9759</td> <td>    0.010</td> <td>  -97.598</td> <td> 0.000</td> <td>   -0.995</td> <td>   -0.956</td>\n</tr>\n<tr>\n  <th>ma.L1</th>     <td>    1.5783</td> <td>    0.013</td> <td>  124.692</td> <td> 0.000</td> <td>    1.553</td> <td>    1.603</td>\n</tr>\n<tr>\n  <th>ma.L2</th>     <td>    0.9674</td> <td>    0.012</td> <td>   79.200</td> <td> 0.000</td> <td>    0.943</td> <td>    0.991</td>\n</tr>\n<tr>\n  <th>sigma2</th>    <td>    2.3111</td> <td>    0.051</td> <td>   45.251</td> <td> 0.000</td> <td>    2.211</td> <td>    2.411</td>\n</tr>\n</table>\n<table class=\"simpletable\">\n<tr>\n  <th>Ljung-Box (L1) (Q):</th>     <td>0.20</td>  <th>  Jarque-Bera (JB):  </th> <td>1552.31</td>\n</tr>\n<tr>\n  <th>Prob(Q):</th>                <td>0.65</td>  <th>  Prob(JB):          </th>  <td>0.00</td>  \n</tr>\n<tr>\n  <th>Heteroskedasticity (H):</th> <td>25.34</td> <th>  Skew:              </th>  <td>0.45</td>  \n</tr>\n<tr>\n  <th>Prob(H) (two-sided):</th>    <td>0.00</td>  <th>  Kurtosis:          </th>  <td>8.45</td>  \n</tr>\n</table><br/><br/>Warnings:<br/>[1] Covariance matrix calculated using the outer product of gradients (complex-step)."
          },
          "metadata": {}
        }
      ],
      "execution_count": 8,
      "metadata": {
        "collapsed": true,
        "jupyter": {
          "source_hidden": false,
          "outputs_hidden": false
        },
        "nteract": {
          "transient": {
            "deleting": false
          }
        },
        "execution": {
          "iopub.status.busy": "2021-11-14T06:40:23.310Z",
          "iopub.execute_input": "2021-11-14T06:40:23.314Z",
          "shell.execute_reply": "2021-11-14T06:40:28.299Z",
          "iopub.status.idle": "2021-11-14T06:40:28.313Z"
        }
      }
    },
    {
      "cell_type": "code",
      "source": [
        "print(\"Suggested # of differences (ADF):\", ndiffs(df['Adj Close'], test='adf'))\n",
        "print(\"Suggested # of differences (KPSS):\", ndiffs(df['Adj Close'], test='kpss'))\n",
        "print(\"Suggested # of differences (PP):\", ndiffs(df['Adj Close'], test='pp'))"
      ],
      "outputs": [
        {
          "output_type": "stream",
          "name": "stdout",
          "text": [
            "Suggested # of differences (ADF): 1\n",
            "Suggested # of differences (KPSS): 1\n",
            "Suggested # of differences (PP): 1\n"
          ]
        }
      ],
      "execution_count": 18,
      "metadata": {
        "collapsed": true,
        "jupyter": {
          "source_hidden": false,
          "outputs_hidden": false
        },
        "nteract": {
          "transient": {
            "deleting": false
          }
        },
        "execution": {
          "iopub.status.busy": "2021-11-14T06:45:59.739Z",
          "iopub.execute_input": "2021-11-14T06:45:59.743Z",
          "iopub.status.idle": "2021-11-14T06:45:59.753Z",
          "shell.execute_reply": "2021-11-14T06:45:59.762Z"
        }
      }
    },
    {
      "cell_type": "code",
      "source": [
        "print(\"Suggested # of differences (OSCB):\", nsdiffs(df['Adj Close'], m=12, test='ocsb'))\n",
        "print(\"Suggested # of differences (CH):\", nsdiffs(df['Adj Close'], m=12, test='ch'))"
      ],
      "outputs": [
        {
          "output_type": "stream",
          "name": "stdout",
          "text": [
            "Suggested # of differences (OSCB): 0\n",
            "Suggested # of differences (CH): 0\n"
          ]
        }
      ],
      "execution_count": 20,
      "metadata": {
        "collapsed": true,
        "jupyter": {
          "source_hidden": false,
          "outputs_hidden": false
        },
        "nteract": {
          "transient": {
            "deleting": false
          }
        },
        "execution": {
          "iopub.status.busy": "2021-11-14T06:46:39.882Z",
          "iopub.execute_input": "2021-11-14T06:46:39.886Z",
          "iopub.status.idle": "2021-11-14T06:46:39.903Z",
          "shell.execute_reply": "2021-11-14T06:46:39.907Z"
        }
      }
    },
    {
      "cell_type": "code",
      "source": [
        "kpss_diffs = ndiffs(df['Adj Close'], alpha=0.05, test='kpss', max_d=6)\n",
        "adf_diffs = ndiffs(df['Adj Close'], alpha=0.05, test='adf', max_d=6)\n",
        "n_diffs = max(adf_diffs, kpss_diffs)\n",
        "\n",
        "print(\"Estimated differencing term:\", n_diffs)"
      ],
      "outputs": [
        {
          "output_type": "stream",
          "name": "stdout",
          "text": [
            "Estimated differencing term: 1\n"
          ]
        }
      ],
      "execution_count": 40,
      "metadata": {
        "collapsed": true,
        "jupyter": {
          "source_hidden": false,
          "outputs_hidden": false
        },
        "nteract": {
          "transient": {
            "deleting": false
          }
        },
        "execution": {
          "iopub.status.busy": "2021-11-14T07:26:28.021Z",
          "iopub.execute_input": "2021-11-14T07:26:28.026Z",
          "iopub.status.idle": "2021-11-14T07:26:28.037Z",
          "shell.execute_reply": "2021-11-14T07:26:28.052Z"
        }
      }
    },
    {
      "cell_type": "code",
      "source": [
        "train_len = int(df.shape[0] * 0.8)\n",
        "train_data, test_data = df[:train_len], df[train_len:]\n",
        "\n",
        "y_train = train_data['Adj Close'].values\n",
        "y_test = test_data['Adj Close'].values\n",
        "\n",
        "print(\"train samples:\" , train_len)\n",
        "print(\"test samples\", df.shape[0] - train_len)"
      ],
      "outputs": [
        {
          "output_type": "stream",
          "name": "stdout",
          "text": [
            "train samples: 976\n",
            "test samples 245\n"
          ]
        }
      ],
      "execution_count": 44,
      "metadata": {
        "collapsed": true,
        "jupyter": {
          "source_hidden": false,
          "outputs_hidden": false
        },
        "nteract": {
          "transient": {
            "deleting": false
          }
        },
        "execution": {
          "iopub.status.busy": "2021-11-14T07:30:05.904Z",
          "iopub.execute_input": "2021-11-14T07:30:05.911Z",
          "iopub.status.idle": "2021-11-14T07:30:05.925Z",
          "shell.execute_reply": "2021-11-14T07:30:05.937Z"
        }
      }
    },
    {
      "cell_type": "code",
      "source": [
        "auto = pm.auto_arima(y_train, d=n_diffs, seasonal=False, stepwise=True,\n",
        "                     suppress_warnings=True, error_action=\"ignore\", max_p=6,\n",
        "                     max_order=None, trace=True)"
      ],
      "outputs": [
        {
          "output_type": "stream",
          "name": "stdout",
          "text": [
            "Performing stepwise search to minimize aic\n",
            " ARIMA(2,1,2)(0,0,0)[0] intercept   : AIC=3299.234, Time=0.21 sec\n",
            " ARIMA(0,1,0)(0,0,0)[0] intercept   : AIC=3305.744, Time=0.02 sec\n",
            " ARIMA(1,1,0)(0,0,0)[0] intercept   : AIC=3295.122, Time=0.04 sec\n",
            " ARIMA(0,1,1)(0,0,0)[0] intercept   : AIC=3296.181, Time=0.04 sec\n",
            " ARIMA(0,1,0)(0,0,0)[0]             : AIC=3306.837, Time=0.01 sec\n",
            " ARIMA(2,1,0)(0,0,0)[0] intercept   : AIC=3295.449, Time=0.06 sec\n",
            " ARIMA(1,1,1)(0,0,0)[0] intercept   : AIC=3295.274, Time=0.11 sec\n",
            " ARIMA(2,1,1)(0,0,0)[0] intercept   : AIC=3297.229, Time=0.17 sec\n",
            " ARIMA(1,1,0)(0,0,0)[0]             : AIC=3296.970, Time=0.02 sec\n",
            "\n",
            "Best model:  ARIMA(1,1,0)(0,0,0)[0] intercept\n",
            "Total fit time: 0.675 seconds\n"
          ]
        }
      ],
      "execution_count": 45,
      "metadata": {
        "collapsed": true,
        "jupyter": {
          "source_hidden": false,
          "outputs_hidden": false
        },
        "nteract": {
          "transient": {
            "deleting": false
          }
        },
        "execution": {
          "iopub.status.busy": "2021-11-14T07:30:19.480Z",
          "iopub.execute_input": "2021-11-14T07:30:19.486Z",
          "iopub.status.idle": "2021-11-14T07:30:20.170Z",
          "shell.execute_reply": "2021-11-14T07:30:20.161Z"
        }
      }
    },
    {
      "cell_type": "code",
      "source": [
        "print(auto.order)"
      ],
      "outputs": [
        {
          "output_type": "stream",
          "name": "stdout",
          "text": [
            "(1, 1, 0)\n"
          ]
        }
      ],
      "execution_count": 46,
      "metadata": {
        "collapsed": true,
        "jupyter": {
          "source_hidden": false,
          "outputs_hidden": false
        },
        "nteract": {
          "transient": {
            "deleting": false
          }
        },
        "execution": {
          "iopub.status.busy": "2021-11-14T07:30:21.992Z",
          "iopub.execute_input": "2021-11-14T07:30:22.000Z",
          "iopub.status.idle": "2021-11-14T07:30:22.011Z",
          "shell.execute_reply": "2021-11-14T07:30:22.016Z"
        }
      }
    },
    {
      "cell_type": "code",
      "source": [
        "from sklearn.metrics import mean_squared_error\n",
        "from pmdarima.metrics import smape\n",
        "\n",
        "model = auto\n",
        "\n",
        "def forecast_one_step():\n",
        "    fc, conf_int = model.predict(n_periods=1, return_conf_int=True)\n",
        "    return (\n",
        "        fc.tolist()[0],\n",
        "        np.asarray(conf_int).tolist()[0])\n",
        "\n",
        "forecasts = []\n",
        "confidence_intervals = []\n",
        "\n",
        "for new_ob in y_test:\n",
        "    fc, conf = forecast_one_step()\n",
        "    forecasts.append(fc)\n",
        "    confidence_intervals.append(conf)\n",
        "    \n",
        "    # Updates the existing model with a small number of MLE steps\n",
        "    model.update(new_ob)\n",
        "    \n",
        "print(\"Mean squared error:\", mean_squared_error(y_test, forecasts))\n",
        "print(\"SMAPE:\", smape(y_test, forecasts))"
      ],
      "outputs": [
        {
          "output_type": "stream",
          "name": "stdout",
          "text": [
            "Mean squared error: 4.946180592093183\n",
            "SMAPE: 1.788233993965501\n"
          ]
        }
      ],
      "execution_count": 48,
      "metadata": {
        "collapsed": true,
        "jupyter": {
          "source_hidden": false,
          "outputs_hidden": false
        },
        "nteract": {
          "transient": {
            "deleting": false
          }
        },
        "execution": {
          "iopub.status.busy": "2021-11-14T07:30:53.022Z",
          "iopub.execute_input": "2021-11-14T07:30:53.027Z",
          "iopub.status.idle": "2021-11-14T07:31:04.494Z",
          "shell.execute_reply": "2021-11-14T07:31:04.504Z"
        }
      }
    },
    {
      "cell_type": "code",
      "source": [
        "x = np.arange(df.shape[0])"
      ],
      "outputs": [],
      "execution_count": 58,
      "metadata": {
        "collapsed": true,
        "jupyter": {
          "source_hidden": false,
          "outputs_hidden": false
        },
        "nteract": {
          "transient": {
            "deleting": false
          }
        },
        "execution": {
          "iopub.status.busy": "2021-11-14T07:39:17.443Z",
          "iopub.execute_input": "2021-11-14T07:39:17.449Z",
          "iopub.status.idle": "2021-11-14T07:39:17.458Z",
          "shell.execute_reply": "2021-11-14T07:39:17.466Z"
        }
      }
    },
    {
      "cell_type": "code",
      "source": [
        "x"
      ],
      "outputs": [
        {
          "output_type": "execute_result",
          "execution_count": 61,
          "data": {
            "text/plain": "array([   0,    1,    2, ..., 1218, 1219, 1220])"
          },
          "metadata": {}
        }
      ],
      "execution_count": 61,
      "metadata": {
        "collapsed": true,
        "jupyter": {
          "source_hidden": false,
          "outputs_hidden": false
        },
        "nteract": {
          "transient": {
            "deleting": false
          }
        },
        "execution": {
          "iopub.status.busy": "2021-11-14T07:39:56.364Z",
          "iopub.execute_input": "2021-11-14T07:39:56.371Z",
          "iopub.status.idle": "2021-11-14T07:39:56.382Z",
          "shell.execute_reply": "2021-11-14T07:39:56.388Z"
        }
      }
    },
    {
      "cell_type": "code",
      "source": [
        "plt.figure(figsize=(12,8))\n",
        "plt.plot(x[:976], y_train, c='blue')\n",
        "plt.plot(x[976:], forecasts, c='green')\n",
        "plt.title(stock + ' Forcasting')\n",
        "plt.ylabel('Price')\n",
        "plt.xlabel('Date')\n",
        "plt.show()"
      ],
      "outputs": [
        {
          "output_type": "display_data",
          "data": {
            "text/plain": "<Figure size 864x576 with 1 Axes>",
            "image/png": "[encoded data removed]"
          },
          "metadata": {
            "needs_background": "light"
          }
        }
      ],
      "execution_count": 70,
      "metadata": {
        "collapsed": true,
        "jupyter": {
          "source_hidden": false,
          "outputs_hidden": false
        },
        "nteract": {
          "transient": {
            "deleting": false
          }
        },
        "execution": {
          "iopub.status.busy": "2021-11-14T07:42:36.004Z",
          "iopub.execute_input": "2021-11-14T07:42:36.010Z",
          "iopub.status.idle": "2021-11-14T07:42:36.084Z",
          "shell.execute_reply": "2021-11-14T07:42:36.098Z"
        }
      }
    }
  ],
  "metadata": {
    "kernel_info": {
      "name": "python3"
    },
    "language_info": {
      "name": "python",
      "version": "3.6.13",
      "mimetype": "text/x-python",
      "codemirror_mode": {
        "name": "ipython",
        "version": 3
      },
      "pygments_lexer": "ipython3",
      "nbconvert_exporter": "python",
      "file_extension": ".py"
    },
    "kernelspec": {
      "argv": [
        "C:/Users/Tin Hang/Anaconda3\\python.exe",
        "-m",
        "ipykernel_launcher",
        "-f",
        "{connection_file}"
      ],
      "display_name": "Python 3",
      "language": "python",
      "name": "python3"
    },
    "nteract": {
      "version": "0.28.0"
    }
  },
  "nbformat": 4,
  "nbformat_minor": 0
}