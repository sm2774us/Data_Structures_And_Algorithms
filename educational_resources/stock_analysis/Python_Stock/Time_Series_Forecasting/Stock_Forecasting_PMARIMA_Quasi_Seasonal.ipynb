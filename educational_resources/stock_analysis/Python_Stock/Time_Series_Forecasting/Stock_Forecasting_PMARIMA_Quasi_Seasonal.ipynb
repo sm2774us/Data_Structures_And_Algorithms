{
  "cells": [
    {
      "cell_type": "markdown",
      "source": [
        "# Stock Forecasting using pmdarima (Quasi Seasonal)"
      ],
      "metadata": {
        "nteract": {
          "transient": {
            "deleting": false
          }
        }
      }
    },
    {
      "cell_type": "markdown",
      "source": [
        "https://github.com/alkaline-ml/pmdarima"
      ],
      "metadata": {
        "nteract": {
          "transient": {
            "deleting": false
          }
        }
      }
    },
    {
      "cell_type": "code",
      "source": [
        "# Libraries\n",
        "\n",
        "import pandas as pd\n",
        "import numpy as np\n",
        "import matplotlib.pyplot as plt\n",
        "\n",
        "import pmdarima as pm\n",
        "from pmdarima import arima\n",
        "from pmdarima import model_selection\n",
        "from pmdarima import pipeline\n",
        "from pmdarima import preprocessing\n",
        "\n",
        "import yfinance as yf\n",
        "yf.pdr_override()"
      ],
      "outputs": [],
      "execution_count": 1,
      "metadata": {
        "collapsed": true,
        "jupyter": {
          "source_hidden": false,
          "outputs_hidden": false
        },
        "nteract": {
          "transient": {
            "deleting": false
          }
        },
        "execution": {
          "iopub.status.busy": "2021-11-23T23:16:01.934Z",
          "iopub.execute_input": "2021-11-23T23:16:01.938Z",
          "shell.execute_reply": "2021-11-23T23:16:03.121Z",
          "iopub.status.idle": "2021-11-23T23:16:03.128Z"
        }
      }
    },
    {
      "cell_type": "code",
      "source": [
        "stock = 'AMD' # input\n",
        "start = '2017-01-01' # input \n",
        "end = '2021-11-08'  # input\n",
        "df = yf.download(stock, start, end)"
      ],
      "outputs": [
        {
          "output_type": "stream",
          "name": "stdout",
          "text": [
            "[*********************100%***********************]  1 of 1 completed\n"
          ]
        }
      ],
      "execution_count": 2,
      "metadata": {
        "collapsed": true,
        "jupyter": {
          "source_hidden": false,
          "outputs_hidden": false
        },
        "nteract": {
          "transient": {
            "deleting": false
          }
        },
        "execution": {
          "iopub.status.busy": "2021-11-23T23:16:03.135Z",
          "iopub.execute_input": "2021-11-23T23:16:03.139Z",
          "iopub.status.idle": "2021-11-23T23:16:04.140Z",
          "shell.execute_reply": "2021-11-23T23:16:04.270Z"
        }
      }
    },
    {
      "cell_type": "code",
      "source": [
        "df.head()"
      ],
      "outputs": [
        {
          "output_type": "execute_result",
          "execution_count": 3,
          "data": {
            "text/plain": "             Open   High    Low  Close  Adj Close    Volume\nDate                                                       \n2017-01-03  11.42  11.65  11.02  11.43      11.43  55182000\n2017-01-04  11.45  11.52  11.24  11.43      11.43  40781200\n2017-01-05  11.43  11.69  11.23  11.24      11.24  38855200\n2017-01-06  11.29  11.49  11.11  11.32      11.32  34453500\n2017-01-09  11.37  11.64  11.31  11.49      11.49  37304800",
            "text/html": "<div>\n<style scoped>\n    .dataframe tbody tr th:only-of-type {\n        vertical-align: middle;\n    }\n\n    .dataframe tbody tr th {\n        vertical-align: top;\n    }\n\n    .dataframe thead th {\n        text-align: right;\n    }\n</style>\n<table border=\"1\" class=\"dataframe\">\n  <thead>\n    <tr style=\"text-align: right;\">\n      <th></th>\n      <th>Open</th>\n      <th>High</th>\n      <th>Low</th>\n      <th>Close</th>\n      <th>Adj Close</th>\n      <th>Volume</th>\n    </tr>\n    <tr>\n      <th>Date</th>\n      <th></th>\n      <th></th>\n      <th></th>\n      <th></th>\n      <th></th>\n      <th></th>\n    </tr>\n  </thead>\n  <tbody>\n    <tr>\n      <th>2017-01-03</th>\n      <td>11.42</td>\n      <td>11.65</td>\n      <td>11.02</td>\n      <td>11.43</td>\n      <td>11.43</td>\n      <td>55182000</td>\n    </tr>\n    <tr>\n      <th>2017-01-04</th>\n      <td>11.45</td>\n      <td>11.52</td>\n      <td>11.24</td>\n      <td>11.43</td>\n      <td>11.43</td>\n      <td>40781200</td>\n    </tr>\n    <tr>\n      <th>2017-01-05</th>\n      <td>11.43</td>\n      <td>11.69</td>\n      <td>11.23</td>\n      <td>11.24</td>\n      <td>11.24</td>\n      <td>38855200</td>\n    </tr>\n    <tr>\n      <th>2017-01-06</th>\n      <td>11.29</td>\n      <td>11.49</td>\n      <td>11.11</td>\n      <td>11.32</td>\n      <td>11.32</td>\n      <td>34453500</td>\n    </tr>\n    <tr>\n      <th>2017-01-09</th>\n      <td>11.37</td>\n      <td>11.64</td>\n      <td>11.31</td>\n      <td>11.49</td>\n      <td>11.49</td>\n      <td>37304800</td>\n    </tr>\n  </tbody>\n</table>\n</div>"
          },
          "metadata": {}
        }
      ],
      "execution_count": 3,
      "metadata": {
        "collapsed": true,
        "jupyter": {
          "source_hidden": false,
          "outputs_hidden": false
        },
        "nteract": {
          "transient": {
            "deleting": false
          }
        },
        "execution": {
          "iopub.status.busy": "2021-11-23T23:16:04.148Z",
          "iopub.execute_input": "2021-11-23T23:16:04.153Z",
          "iopub.status.idle": "2021-11-23T23:16:04.163Z",
          "shell.execute_reply": "2021-11-23T23:16:04.272Z"
        }
      }
    },
    {
      "cell_type": "code",
      "source": [
        "df.tail()"
      ],
      "outputs": [
        {
          "output_type": "execute_result",
          "execution_count": 4,
          "data": {
            "text/plain": "                  Open        High         Low       Close   Adj Close  \\\nDate                                                                     \n2021-11-01  119.449997  125.669998  118.129997  125.230003  125.230003   \n2021-11-02  124.980003  128.460007  124.199997  127.629997  127.629997   \n2021-11-03  127.750000  130.600006  126.790001  130.529999  130.529999   \n2021-11-04  132.009995  139.000000  130.770004  137.500000  137.500000   \n2021-11-05  139.190002  141.220001  134.419998  136.339996  136.339996   \n\n              Volume  \nDate                  \n2021-11-01  54559800  \n2021-11-02  53491900  \n2021-11-03  59537800  \n2021-11-04  84825200  \n2021-11-05  64878000  ",
            "text/html": "<div>\n<style scoped>\n    .dataframe tbody tr th:only-of-type {\n        vertical-align: middle;\n    }\n\n    .dataframe tbody tr th {\n        vertical-align: top;\n    }\n\n    .dataframe thead th {\n        text-align: right;\n    }\n</style>\n<table border=\"1\" class=\"dataframe\">\n  <thead>\n    <tr style=\"text-align: right;\">\n      <th></th>\n      <th>Open</th>\n      <th>High</th>\n      <th>Low</th>\n      <th>Close</th>\n      <th>Adj Close</th>\n      <th>Volume</th>\n    </tr>\n    <tr>\n      <th>Date</th>\n      <th></th>\n      <th></th>\n      <th></th>\n      <th></th>\n      <th></th>\n      <th></th>\n    </tr>\n  </thead>\n  <tbody>\n    <tr>\n      <th>2021-11-01</th>\n      <td>119.449997</td>\n      <td>125.669998</td>\n      <td>118.129997</td>\n      <td>125.230003</td>\n      <td>125.230003</td>\n      <td>54559800</td>\n    </tr>\n    <tr>\n      <th>2021-11-02</th>\n      <td>124.980003</td>\n      <td>128.460007</td>\n      <td>124.199997</td>\n      <td>127.629997</td>\n      <td>127.629997</td>\n      <td>53491900</td>\n    </tr>\n    <tr>\n      <th>2021-11-03</th>\n      <td>127.750000</td>\n      <td>130.600006</td>\n      <td>126.790001</td>\n      <td>130.529999</td>\n      <td>130.529999</td>\n      <td>59537800</td>\n    </tr>\n    <tr>\n      <th>2021-11-04</th>\n      <td>132.009995</td>\n      <td>139.000000</td>\n      <td>130.770004</td>\n      <td>137.500000</td>\n      <td>137.500000</td>\n      <td>84825200</td>\n    </tr>\n    <tr>\n      <th>2021-11-05</th>\n      <td>139.190002</td>\n      <td>141.220001</td>\n      <td>134.419998</td>\n      <td>136.339996</td>\n      <td>136.339996</td>\n      <td>64878000</td>\n    </tr>\n  </tbody>\n</table>\n</div>"
          },
          "metadata": {}
        }
      ],
      "execution_count": 4,
      "metadata": {
        "collapsed": true,
        "jupyter": {
          "source_hidden": false,
          "outputs_hidden": false
        },
        "nteract": {
          "transient": {
            "deleting": false
          }
        },
        "execution": {
          "iopub.status.busy": "2021-11-23T23:16:04.170Z",
          "iopub.execute_input": "2021-11-23T23:16:04.174Z",
          "iopub.status.idle": "2021-11-23T23:16:04.183Z",
          "shell.execute_reply": "2021-11-23T23:16:04.275Z"
        }
      }
    },
    {
      "cell_type": "code",
      "source": [
        "df = df.reset_index()"
      ],
      "outputs": [],
      "execution_count": 5,
      "metadata": {
        "collapsed": true,
        "jupyter": {
          "source_hidden": false,
          "outputs_hidden": false
        },
        "nteract": {
          "transient": {
            "deleting": false
          }
        },
        "execution": {
          "iopub.status.busy": "2021-11-23T23:16:04.189Z",
          "iopub.execute_input": "2021-11-23T23:16:04.193Z",
          "iopub.status.idle": "2021-11-23T23:16:04.200Z",
          "shell.execute_reply": "2021-11-23T23:16:04.279Z"
        }
      }
    },
    {
      "cell_type": "code",
      "source": [
        "X = df[['Date']]\n",
        "y = df['Adj Close']"
      ],
      "outputs": [],
      "execution_count": 6,
      "metadata": {
        "collapsed": true,
        "jupyter": {
          "source_hidden": false,
          "outputs_hidden": false
        },
        "nteract": {
          "transient": {
            "deleting": false
          }
        },
        "execution": {
          "iopub.status.busy": "2021-11-23T23:16:04.207Z",
          "iopub.execute_input": "2021-11-23T23:16:04.210Z",
          "iopub.status.idle": "2021-11-23T23:16:04.217Z",
          "shell.execute_reply": "2021-11-23T23:16:04.281Z"
        }
      }
    },
    {
      "cell_type": "code",
      "source": [
        "X"
      ],
      "outputs": [
        {
          "output_type": "execute_result",
          "execution_count": 7,
          "data": {
            "text/plain": "           Date\n0    2017-01-03\n1    2017-01-04\n2    2017-01-05\n3    2017-01-06\n4    2017-01-09\n...         ...\n1216 2021-11-01\n1217 2021-11-02\n1218 2021-11-03\n1219 2021-11-04\n1220 2021-11-05\n\n[1221 rows x 1 columns]",
            "text/html": "<div>\n<style scoped>\n    .dataframe tbody tr th:only-of-type {\n        vertical-align: middle;\n    }\n\n    .dataframe tbody tr th {\n        vertical-align: top;\n    }\n\n    .dataframe thead th {\n        text-align: right;\n    }\n</style>\n<table border=\"1\" class=\"dataframe\">\n  <thead>\n    <tr style=\"text-align: right;\">\n      <th></th>\n      <th>Date</th>\n    </tr>\n  </thead>\n  <tbody>\n    <tr>\n      <th>0</th>\n      <td>2017-01-03</td>\n    </tr>\n    <tr>\n      <th>1</th>\n      <td>2017-01-04</td>\n    </tr>\n    <tr>\n      <th>2</th>\n      <td>2017-01-05</td>\n    </tr>\n    <tr>\n      <th>3</th>\n      <td>2017-01-06</td>\n    </tr>\n    <tr>\n      <th>4</th>\n      <td>2017-01-09</td>\n    </tr>\n    <tr>\n      <th>...</th>\n      <td>...</td>\n    </tr>\n    <tr>\n      <th>1216</th>\n      <td>2021-11-01</td>\n    </tr>\n    <tr>\n      <th>1217</th>\n      <td>2021-11-02</td>\n    </tr>\n    <tr>\n      <th>1218</th>\n      <td>2021-11-03</td>\n    </tr>\n    <tr>\n      <th>1219</th>\n      <td>2021-11-04</td>\n    </tr>\n    <tr>\n      <th>1220</th>\n      <td>2021-11-05</td>\n    </tr>\n  </tbody>\n</table>\n<p>1221 rows × 1 columns</p>\n</div>"
          },
          "metadata": {}
        }
      ],
      "execution_count": 7,
      "metadata": {
        "collapsed": true,
        "jupyter": {
          "source_hidden": false,
          "outputs_hidden": false
        },
        "nteract": {
          "transient": {
            "deleting": false
          }
        },
        "execution": {
          "iopub.status.busy": "2021-11-23T23:16:04.223Z",
          "iopub.execute_input": "2021-11-23T23:16:04.228Z",
          "iopub.status.idle": "2021-11-23T23:16:04.237Z",
          "shell.execute_reply": "2021-11-23T23:16:04.284Z"
        }
      }
    },
    {
      "cell_type": "code",
      "source": [
        "y_train, y_test, X_train, X_test = model_selection.train_test_split(y, X, test_size=20)"
      ],
      "outputs": [],
      "execution_count": 8,
      "metadata": {
        "collapsed": true,
        "jupyter": {
          "source_hidden": false,
          "outputs_hidden": false
        },
        "nteract": {
          "transient": {
            "deleting": false
          }
        },
        "execution": {
          "iopub.status.busy": "2021-11-23T23:16:04.243Z",
          "iopub.execute_input": "2021-11-23T23:16:04.247Z",
          "iopub.status.idle": "2021-11-23T23:16:04.253Z",
          "shell.execute_reply": "2021-11-23T23:16:04.286Z"
        }
      }
    },
    {
      "cell_type": "code",
      "source": [
        "pm.tsdisplay(y_train, lag_max=10)"
      ],
      "outputs": [
        {
          "output_type": "stream",
          "name": "stderr",
          "text": [
            "C:\\Users\\Tin Hang\\Anaconda3\\lib\\site-packages\\pmdarima\\utils\\visualization.py:223: FutureWarning: the 'unbiased'' keyword is deprecated, use 'adjusted' instead\n",
            "  vlines_kwargs=vlines_kwargs, **kwargs)\n"
          ]
        },
        {
          "output_type": "display_data",
          "data": {
            "text/plain": "<Figure size 576x432 with 3 Axes>",
            "image/png": "[encoded data removed]"
          },
          "metadata": {
            "needs_background": "light"
          }
        }
      ],
      "execution_count": 9,
      "metadata": {
        "collapsed": true,
        "jupyter": {
          "source_hidden": false,
          "outputs_hidden": false
        },
        "nteract": {
          "transient": {
            "deleting": false
          }
        },
        "execution": {
          "iopub.status.busy": "2021-11-23T23:16:04.260Z",
          "iopub.execute_input": "2021-11-23T23:16:04.264Z",
          "iopub.status.idle": "2021-11-23T23:16:04.510Z",
          "shell.execute_reply": "2021-11-23T23:16:04.544Z"
        }
      }
    },
    {
      "cell_type": "code",
      "source": [
        "n_diffs = arima.ndiffs(y_train, max_d=5)"
      ],
      "outputs": [],
      "execution_count": 10,
      "metadata": {
        "collapsed": true,
        "jupyter": {
          "source_hidden": false,
          "outputs_hidden": false
        },
        "nteract": {
          "transient": {
            "deleting": false
          }
        },
        "execution": {
          "iopub.status.busy": "2021-11-23T23:16:04.516Z",
          "iopub.execute_input": "2021-11-23T23:16:04.520Z",
          "iopub.status.idle": "2021-11-23T23:16:04.527Z",
          "shell.execute_reply": "2021-11-23T23:16:04.547Z"
        }
      }
    },
    {
      "cell_type": "code",
      "source": [
        "date_feat = preprocessing.DateFeaturizer(\n",
        "    column_name='Date',  # the name of the date feature in the X matrix\n",
        "    with_day_of_week=True,\n",
        "    with_day_of_month=True)\n",
        "\n",
        "_, X_train_feats = date_feat.fit_transform(y_train, X_train)"
      ],
      "outputs": [],
      "execution_count": 11,
      "metadata": {
        "collapsed": true,
        "jupyter": {
          "source_hidden": false,
          "outputs_hidden": false
        },
        "nteract": {
          "transient": {
            "deleting": false
          }
        },
        "execution": {
          "iopub.status.busy": "2021-11-23T23:16:04.533Z",
          "iopub.execute_input": "2021-11-23T23:16:04.538Z",
          "shell.execute_reply": "2021-11-23T23:16:04.623Z",
          "iopub.status.idle": "2021-11-23T23:16:04.586Z"
        }
      }
    },
    {
      "cell_type": "code",
      "source": [
        "print(f\"Head of generated X features:\\n{repr(X_train_feats.head())}\")"
      ],
      "outputs": [
        {
          "output_type": "stream",
          "name": "stdout",
          "text": [
            "Head of generated X features:\n",
            "   DATE-WEEKDAY-0  DATE-WEEKDAY-1  DATE-WEEKDAY-2  DATE-WEEKDAY-3  \\\n",
            "0               0               1               0               0   \n",
            "1               0               0               1               0   \n",
            "2               0               0               0               1   \n",
            "3               0               0               0               0   \n",
            "4               1               0               0               0   \n",
            "\n",
            "   DATE-WEEKDAY-4  DATE-WEEKDAY-5  DATE-WEEKDAY-6  DATE-DAY-OF-MONTH  \n",
            "0               0               0               0                  3  \n",
            "1               0               0               0                  4  \n",
            "2               0               0               0                  5  \n",
            "3               1               0               0                  6  \n",
            "4               0               0               0                  9  \n"
          ]
        }
      ],
      "execution_count": 12,
      "metadata": {
        "collapsed": true,
        "jupyter": {
          "source_hidden": false,
          "outputs_hidden": false
        },
        "nteract": {
          "transient": {
            "deleting": false
          }
        },
        "execution": {
          "iopub.status.busy": "2021-11-23T23:16:04.593Z",
          "iopub.execute_input": "2021-11-23T23:16:04.597Z",
          "iopub.status.idle": "2021-11-23T23:16:04.608Z",
          "shell.execute_reply": "2021-11-23T23:16:04.626Z"
        }
      }
    },
    {
      "cell_type": "code",
      "source": [
        "pipe = pipeline.Pipeline([\n",
        "    ('date', date_feat),\n",
        "    ('arima', arima.AutoARIMA(d=n_diffs,\n",
        "                              trace=3,\n",
        "                              stepwise=True,\n",
        "                              suppress_warnings=True,\n",
        "                              seasonal=False))\n",
        "])\n",
        "\n",
        "pipe.fit(y_train, X_train)"
      ],
      "outputs": [
        {
          "output_type": "stream",
          "name": "stdout",
          "text": [
            "Performing stepwise search to minimize aic\n",
            " ARIMA(2,1,2)(0,0,0)[0] intercept   : AIC=4394.724, Time=1.27 sec\n",
            "First viable model found (4394.724)\n",
            " ARIMA(0,1,0)(0,0,0)[0] intercept   : AIC=4411.370, Time=0.09 sec\n",
            " ARIMA(1,1,0)(0,0,0)[0] intercept   : AIC=4406.318, Time=0.31 sec\n",
            " ARIMA(0,1,1)(0,0,0)[0] intercept   : AIC=4407.130, Time=0.34 sec\n",
            " ARIMA(0,1,0)(0,0,0)[0]             : AIC=4412.585, Time=0.48 sec\n",
            " ARIMA(1,1,2)(0,0,0)[0] intercept   : AIC=4403.467, Time=0.71 sec\n",
            " ARIMA(2,1,1)(0,0,0)[0] intercept   : AIC=4403.594, Time=1.00 sec\n",
            " ARIMA(3,1,2)(0,0,0)[0] intercept   : AIC=4395.784, Time=1.97 sec\n",
            " ARIMA(2,1,3)(0,0,0)[0] intercept   : AIC=4395.806, Time=2.46 sec\n",
            " ARIMA(1,1,1)(0,0,0)[0] intercept   : AIC=4402.749, Time=0.88 sec\n",
            " ARIMA(1,1,3)(0,0,0)[0] intercept   : AIC=4404.850, Time=1.26 sec\n",
            " ARIMA(3,1,1)(0,0,0)[0] intercept   : AIC=4405.128, Time=1.29 sec\n",
            " ARIMA(3,1,3)(0,0,0)[0] intercept   : AIC=4397.269, Time=2.25 sec\n",
            " ARIMA(2,1,2)(0,0,0)[0]             : AIC=4396.085, Time=1.17 sec\n",
            "\n",
            "Best model:  ARIMA(2,1,2)(0,0,0)[0] intercept\n",
            "Total fit time: 15.482 seconds\n"
          ]
        },
        {
          "output_type": "execute_result",
          "execution_count": 13,
          "data": {
            "text/plain": "Pipeline(steps=[('date', DateFeaturizer(column_name='Date')),\n                ('arima', AutoARIMA(d=1, seasonal=False, trace=3))])"
          },
          "metadata": {}
        }
      ],
      "execution_count": 13,
      "metadata": {
        "collapsed": true,
        "jupyter": {
          "source_hidden": false,
          "outputs_hidden": false
        },
        "nteract": {
          "transient": {
            "deleting": false
          }
        },
        "execution": {
          "iopub.status.busy": "2021-11-23T23:16:04.614Z",
          "iopub.execute_input": "2021-11-23T23:16:04.618Z",
          "iopub.status.idle": "2021-11-23T23:16:20.113Z",
          "shell.execute_reply": "2021-11-23T23:16:20.138Z"
        }
      }
    },
    {
      "cell_type": "code",
      "source": [
        "forecasts = pipe.predict(X=X_test)\n",
        "\n",
        "fig = plt.figure(figsize=(16, 8))\n",
        "ax = fig.add_subplot(1, 1, 1)\n",
        "\n",
        "n_train = y_train.shape[0]\n",
        "x = np.arange(n_train + forecasts.shape[0])\n",
        "\n",
        "ax.plot(x[:n_train], y_train, color='blue', label='Training Data')\n",
        "ax.plot(x[n_train:], forecasts, color='green', marker='o',\n",
        "        label='Predicted')\n",
        "ax.plot(x[n_train:], y_test, color='red', label='Actual')\n",
        "ax.legend(loc='upper left', borderaxespad=0.5)\n",
        "ax.set_title('Predicted Stock Price')\n",
        "ax.set_ylabel('Price')\n",
        "\n",
        "plt.show()"
      ],
      "outputs": [
        {
          "output_type": "display_data",
          "data": {
            "text/plain": "<Figure size 1152x576 with 1 Axes>",
            "image/png": "[encoded data removed]"
          },
          "metadata": {
            "needs_background": "light"
          }
        }
      ],
      "execution_count": 16,
      "metadata": {
        "collapsed": true,
        "jupyter": {
          "source_hidden": false,
          "outputs_hidden": false
        },
        "nteract": {
          "transient": {
            "deleting": false
          }
        },
        "execution": {
          "iopub.status.busy": "2021-11-23T23:20:41.617Z",
          "iopub.execute_input": "2021-11-23T23:20:41.624Z",
          "iopub.status.idle": "2021-11-23T23:20:41.735Z",
          "shell.execute_reply": "2021-11-23T23:20:41.747Z"
        }
      }
    }
  ],
  "metadata": {
    "kernel_info": {
      "name": "python3"
    },
    "language_info": {
      "name": "python",
      "version": "3.6.13",
      "mimetype": "text/x-python",
      "codemirror_mode": {
        "name": "ipython",
        "version": 3
      },
      "pygments_lexer": "ipython3",
      "nbconvert_exporter": "python",
      "file_extension": ".py"
    },
    "kernelspec": {
      "argv": [
        "C:/Users/Tin Hang/Anaconda3\\python.exe",
        "-m",
        "ipykernel_launcher",
        "-f",
        "{connection_file}"
      ],
      "display_name": "Python 3",
      "language": "python",
      "name": "python3"
    },
    "nteract": {
      "version": "0.28.0"
    }
  },
  "nbformat": 4,
  "nbformat_minor": 0
}