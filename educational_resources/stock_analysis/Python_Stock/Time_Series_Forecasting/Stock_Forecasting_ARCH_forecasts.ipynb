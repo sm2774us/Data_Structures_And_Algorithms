{
  "cells": [
    {
      "cell_type": "markdown",
      "source": [
        "# Stock Forecasting using ARCH"
      ],
      "metadata": {
        "nteract": {
          "transient": {
            "deleting": false
          }
        }
      }
    },
    {
      "cell_type": "code",
      "source": [
        "import pandas as pd\n",
        "import numpy as np\n",
        "import datetime as dt\n",
        "\n",
        "import matplotlib.pyplot as plt\n",
        "import seaborn as sns\n",
        "\n",
        "from arch import arch_model\n",
        "from arch.univariate import ConstantMean, GARCH, Normal\n",
        "\n",
        "import warnings\n",
        "warnings.filterwarnings(\"ignore\")\n",
        "\n",
        "import yfinance as yf\n",
        "yf.pdr_override()"
      ],
      "outputs": [],
      "execution_count": 1,
      "metadata": {
        "collapsed": true,
        "jupyter": {
          "source_hidden": false,
          "outputs_hidden": false
        },
        "nteract": {
          "transient": {
            "deleting": false
          }
        },
        "execution": {
          "iopub.status.busy": "2022-07-23T19:05:16.853Z",
          "iopub.execute_input": "2022-07-23T19:05:16.857Z",
          "iopub.status.idle": "2022-07-23T19:05:17.905Z",
          "shell.execute_reply": "2022-07-23T19:05:17.894Z"
        }
      }
    },
    {
      "cell_type": "code",
      "source": [
        "symbol = '^GSPC' # input\n",
        "start = '2019-01-01' # input \n",
        "end = '2022-07-22'  # input\n",
        "df = yf.download(symbol, start, end)"
      ],
      "outputs": [
        {
          "output_type": "stream",
          "name": "stdout",
          "text": [
            "[*********************100%***********************]  1 of 1 completed\n"
          ]
        }
      ],
      "execution_count": 2,
      "metadata": {
        "collapsed": true,
        "jupyter": {
          "source_hidden": false,
          "outputs_hidden": false
        },
        "nteract": {
          "transient": {
            "deleting": false
          }
        },
        "execution": {
          "iopub.status.busy": "2022-07-23T19:05:17.912Z",
          "iopub.execute_input": "2022-07-23T19:05:17.916Z",
          "shell.execute_reply": "2022-07-23T19:05:19.034Z",
          "iopub.status.idle": "2022-07-23T19:05:19.043Z"
        }
      }
    },
    {
      "cell_type": "code",
      "source": [
        "df.head()"
      ],
      "outputs": [
        {
          "output_type": "execute_result",
          "execution_count": 3,
          "data": {
            "text/plain": "                   Open         High          Low        Close    Adj Close  \\\nDate                                                                          \n2019-01-02  2476.959961  2519.489990  2467.469971  2510.030029  2510.030029   \n2019-01-03  2491.919922  2493.139893  2443.959961  2447.889893  2447.889893   \n2019-01-04  2474.330078  2538.070068  2474.330078  2531.939941  2531.939941   \n2019-01-07  2535.610107  2566.159912  2524.560059  2549.689941  2549.689941   \n2019-01-08  2568.110107  2579.820068  2547.560059  2574.409912  2574.409912   \n\n                Volume  \nDate                    \n2019-01-02  3733160000  \n2019-01-03  3822860000  \n2019-01-04  4213410000  \n2019-01-07  4104710000  \n2019-01-08  4083030000  ",
            "text/html": "<div>\n<style scoped>\n    .dataframe tbody tr th:only-of-type {\n        vertical-align: middle;\n    }\n\n    .dataframe tbody tr th {\n        vertical-align: top;\n    }\n\n    .dataframe thead th {\n        text-align: right;\n    }\n</style>\n<table border=\"1\" class=\"dataframe\">\n  <thead>\n    <tr style=\"text-align: right;\">\n      <th></th>\n      <th>Open</th>\n      <th>High</th>\n      <th>Low</th>\n      <th>Close</th>\n      <th>Adj Close</th>\n      <th>Volume</th>\n    </tr>\n    <tr>\n      <th>Date</th>\n      <th></th>\n      <th></th>\n      <th></th>\n      <th></th>\n      <th></th>\n      <th></th>\n    </tr>\n  </thead>\n  <tbody>\n    <tr>\n      <th>2019-01-02</th>\n      <td>2476.959961</td>\n      <td>2519.489990</td>\n      <td>2467.469971</td>\n      <td>2510.030029</td>\n      <td>2510.030029</td>\n      <td>3733160000</td>\n    </tr>\n    <tr>\n      <th>2019-01-03</th>\n      <td>2491.919922</td>\n      <td>2493.139893</td>\n      <td>2443.959961</td>\n      <td>2447.889893</td>\n      <td>2447.889893</td>\n      <td>3822860000</td>\n    </tr>\n    <tr>\n      <th>2019-01-04</th>\n      <td>2474.330078</td>\n      <td>2538.070068</td>\n      <td>2474.330078</td>\n      <td>2531.939941</td>\n      <td>2531.939941</td>\n      <td>4213410000</td>\n    </tr>\n    <tr>\n      <th>2019-01-07</th>\n      <td>2535.610107</td>\n      <td>2566.159912</td>\n      <td>2524.560059</td>\n      <td>2549.689941</td>\n      <td>2549.689941</td>\n      <td>4104710000</td>\n    </tr>\n    <tr>\n      <th>2019-01-08</th>\n      <td>2568.110107</td>\n      <td>2579.820068</td>\n      <td>2547.560059</td>\n      <td>2574.409912</td>\n      <td>2574.409912</td>\n      <td>4083030000</td>\n    </tr>\n  </tbody>\n</table>\n</div>"
          },
          "metadata": {}
        }
      ],
      "execution_count": 3,
      "metadata": {
        "collapsed": true,
        "jupyter": {
          "source_hidden": false,
          "outputs_hidden": false
        },
        "nteract": {
          "transient": {
            "deleting": false
          }
        },
        "execution": {
          "iopub.status.busy": "2022-07-23T19:05:19.052Z",
          "iopub.execute_input": "2022-07-23T19:05:19.057Z",
          "iopub.status.idle": "2022-07-23T19:05:19.070Z",
          "shell.execute_reply": "2022-07-23T19:05:19.122Z"
        }
      }
    },
    {
      "cell_type": "code",
      "source": [
        "df.tail()"
      ],
      "outputs": [
        {
          "output_type": "execute_result",
          "execution_count": 4,
          "data": {
            "text/plain": "                   Open         High          Low        Close    Adj Close  \\\nDate                                                                          \n2022-07-15  3818.000000  3863.620117  3817.179932  3863.159912  3863.159912   \n2022-07-18  3883.790039  3902.439941  3818.629883  3830.850098  3830.850098   \n2022-07-19  3860.729980  3939.810059  3860.729980  3936.689941  3936.689941   \n2022-07-20  3935.320068  3974.129883  3922.030029  3959.899902  3959.899902   \n2022-07-21  3955.469971  3999.290039  3927.639893  3998.949951  3998.949951   \n\n                Volume  \nDate                    \n2022-07-15  3537130000  \n2022-07-18  3414470000  \n2022-07-19  3160350000  \n2022-07-20  3452150000  \n2022-07-21  3586030000  ",
            "text/html": "<div>\n<style scoped>\n    .dataframe tbody tr th:only-of-type {\n        vertical-align: middle;\n    }\n\n    .dataframe tbody tr th {\n        vertical-align: top;\n    }\n\n    .dataframe thead th {\n        text-align: right;\n    }\n</style>\n<table border=\"1\" class=\"dataframe\">\n  <thead>\n    <tr style=\"text-align: right;\">\n      <th></th>\n      <th>Open</th>\n      <th>High</th>\n      <th>Low</th>\n      <th>Close</th>\n      <th>Adj Close</th>\n      <th>Volume</th>\n    </tr>\n    <tr>\n      <th>Date</th>\n      <th></th>\n      <th></th>\n      <th></th>\n      <th></th>\n      <th></th>\n      <th></th>\n    </tr>\n  </thead>\n  <tbody>\n    <tr>\n      <th>2022-07-15</th>\n      <td>3818.000000</td>\n      <td>3863.620117</td>\n      <td>3817.179932</td>\n      <td>3863.159912</td>\n      <td>3863.159912</td>\n      <td>3537130000</td>\n    </tr>\n    <tr>\n      <th>2022-07-18</th>\n      <td>3883.790039</td>\n      <td>3902.439941</td>\n      <td>3818.629883</td>\n      <td>3830.850098</td>\n      <td>3830.850098</td>\n      <td>3414470000</td>\n    </tr>\n    <tr>\n      <th>2022-07-19</th>\n      <td>3860.729980</td>\n      <td>3939.810059</td>\n      <td>3860.729980</td>\n      <td>3936.689941</td>\n      <td>3936.689941</td>\n      <td>3160350000</td>\n    </tr>\n    <tr>\n      <th>2022-07-20</th>\n      <td>3935.320068</td>\n      <td>3974.129883</td>\n      <td>3922.030029</td>\n      <td>3959.899902</td>\n      <td>3959.899902</td>\n      <td>3452150000</td>\n    </tr>\n    <tr>\n      <th>2022-07-21</th>\n      <td>3955.469971</td>\n      <td>3999.290039</td>\n      <td>3927.639893</td>\n      <td>3998.949951</td>\n      <td>3998.949951</td>\n      <td>3586030000</td>\n    </tr>\n  </tbody>\n</table>\n</div>"
          },
          "metadata": {}
        }
      ],
      "execution_count": 4,
      "metadata": {
        "collapsed": true,
        "jupyter": {
          "source_hidden": false,
          "outputs_hidden": false
        },
        "nteract": {
          "transient": {
            "deleting": false
          }
        },
        "execution": {
          "iopub.status.busy": "2022-07-23T19:05:19.079Z",
          "iopub.execute_input": "2022-07-23T19:05:19.084Z",
          "iopub.status.idle": "2022-07-23T19:05:19.094Z",
          "shell.execute_reply": "2022-07-23T19:05:19.127Z"
        }
      }
    },
    {
      "cell_type": "code",
      "source": [
        "plt.figure(figsize = (12, 6))\n",
        "plt.title(symbol + ' Close Prices between {} and {}'.format(\n",
        "    start,\n",
        "    end\n",
        "))\n",
        "df['Adj Close'].plot()\n",
        "plt.ylabel('Price')\n",
        "plt.xlabel('Date')\n",
        "plt.show()"
      ],
      "outputs": [
        {
          "output_type": "display_data",
          "data": {
            "text/plain": "<Figure size 864x432 with 1 Axes>",
            "image/png": "[encoded data removed]"
          },
          "metadata": {
            "needs_background": "light"
          }
        }
      ],
      "execution_count": 5,
      "metadata": {
        "collapsed": true,
        "jupyter": {
          "source_hidden": false,
          "outputs_hidden": false
        },
        "nteract": {
          "transient": {
            "deleting": false
          }
        },
        "execution": {
          "iopub.status.busy": "2022-07-23T19:05:19.102Z",
          "iopub.execute_input": "2022-07-23T19:05:19.107Z",
          "iopub.status.idle": "2022-07-23T19:05:19.272Z",
          "shell.execute_reply": "2022-07-23T19:05:19.264Z"
        }
      }
    },
    {
      "cell_type": "code",
      "source": [
        "returns = 100 * df['Adj Close'].pct_change().dropna()\n",
        "am = arch_model(returns , vol='Garch', p=1, o=0, q=1, dist='Normal')"
      ],
      "outputs": [],
      "execution_count": 6,
      "metadata": {
        "collapsed": true,
        "jupyter": {
          "source_hidden": false,
          "outputs_hidden": false
        },
        "nteract": {
          "transient": {
            "deleting": false
          }
        },
        "execution": {
          "iopub.status.busy": "2022-07-23T19:05:19.280Z",
          "iopub.execute_input": "2022-07-23T19:05:19.287Z",
          "iopub.status.idle": "2022-07-23T19:05:19.297Z",
          "shell.execute_reply": "2022-07-23T19:05:19.317Z"
        }
      }
    },
    {
      "cell_type": "code",
      "source": [
        "plt.figure(figsize = (12, 6))\n",
        "plt.title(symbol + ' Returns  between {} and {}'.format(\n",
        "    start,\n",
        "    end\n",
        "))\n",
        "returns.plot()\n",
        "plt.ylabel('Returns')\n",
        "plt.xlabel('Date')\n",
        "plt.show()"
      ],
      "outputs": [
        {
          "output_type": "display_data",
          "data": {
            "text/plain": "<Figure size 864x432 with 1 Axes>",
            "image/png": "[encoded data removed]"
          },
          "metadata": {
            "needs_background": "light"
          }
        }
      ],
      "execution_count": 7,
      "metadata": {
        "collapsed": true,
        "jupyter": {
          "source_hidden": false,
          "outputs_hidden": false
        },
        "nteract": {
          "transient": {
            "deleting": false
          }
        },
        "execution": {
          "iopub.status.busy": "2022-07-23T19:05:19.304Z",
          "iopub.execute_input": "2022-07-23T19:05:19.309Z",
          "iopub.status.idle": "2022-07-23T19:05:19.426Z",
          "shell.execute_reply": "2022-07-23T19:05:19.419Z"
        }
      }
    },
    {
      "cell_type": "code",
      "source": [
        "split_date = dt.datetime(2021,1,1)\n",
        "res = am.fit(last_obs=split_date)"
      ],
      "outputs": [
        {
          "output_type": "stream",
          "name": "stdout",
          "text": [
            "Iteration:      1,   Func. Count:      6,   Neg. LLF: 287992170992.0543\n",
            "Iteration:      2,   Func. Count:     14,   Neg. LLF: 277501828.2214922\n",
            "Iteration:      3,   Func. Count:     21,   Neg. LLF: 890.1100570837939\n",
            "Iteration:      4,   Func. Count:     27,   Neg. LLF: 740.4076901637611\n",
            "Iteration:      5,   Func. Count:     33,   Neg. LLF: 718.5437832909597\n",
            "Iteration:      6,   Func. Count:     38,   Neg. LLF: 718.5225790382601\n",
            "Iteration:      7,   Func. Count:     44,   Neg. LLF: 718.27584269182\n",
            "Iteration:      8,   Func. Count:     49,   Neg. LLF: 718.2756940710361\n",
            "Iteration:      9,   Func. Count:     54,   Neg. LLF: 718.2756860125044\n",
            "Iteration:     10,   Func. Count:     58,   Neg. LLF: 718.2756856615104\n",
            "Optimization terminated successfully    (Exit mode 0)\n",
            "            Current function value: 718.2756860125044\n",
            "            Iterations: 10\n",
            "            Function evaluations: 58\n",
            "            Gradient evaluations: 10\n"
          ]
        }
      ],
      "execution_count": 8,
      "metadata": {
        "collapsed": true,
        "jupyter": {
          "source_hidden": false,
          "outputs_hidden": false
        },
        "nteract": {
          "transient": {
            "deleting": false
          }
        },
        "execution": {
          "iopub.status.busy": "2022-07-23T19:05:19.433Z",
          "iopub.execute_input": "2022-07-23T19:05:19.437Z",
          "iopub.status.idle": "2022-07-23T19:05:19.456Z",
          "shell.execute_reply": "2022-07-23T19:05:19.476Z"
        }
      }
    },
    {
      "cell_type": "code",
      "source": [
        "forecasts = res.forecast(horizon=5, start=split_date, method='simulation')"
      ],
      "outputs": [],
      "execution_count": 9,
      "metadata": {
        "collapsed": true,
        "jupyter": {
          "source_hidden": false,
          "outputs_hidden": false
        },
        "nteract": {
          "transient": {
            "deleting": false
          }
        },
        "execution": {
          "iopub.status.busy": "2022-07-23T19:05:19.464Z",
          "iopub.execute_input": "2022-07-23T19:05:19.470Z",
          "shell.execute_reply": "2022-07-23T19:05:19.752Z",
          "iopub.status.idle": "2022-07-23T19:05:19.685Z"
        }
      }
    },
    {
      "cell_type": "code",
      "source": [
        "print(forecasts.variance.tail())"
      ],
      "outputs": [
        {
          "output_type": "stream",
          "name": "stdout",
          "text": [
            "                 h.1       h.2       h.3       h.4       h.5\n",
            "Date                                                        \n",
            "2022-07-15  1.550710  1.608117  1.657004  1.729110  1.758168\n",
            "2022-07-18  1.418105  1.475331  1.547598  1.623223  1.624218\n",
            "2022-07-19  3.068927  3.087217  3.089503  3.107188  3.100530\n",
            "2022-07-20  2.263094  2.290367  2.306347  2.343617  2.412932\n",
            "2022-07-21  1.846450  1.900266  1.980048  2.058787  2.075608\n"
          ]
        }
      ],
      "execution_count": 10,
      "metadata": {
        "collapsed": true,
        "jupyter": {
          "source_hidden": false,
          "outputs_hidden": false
        },
        "nteract": {
          "transient": {
            "deleting": false
          }
        },
        "execution": {
          "iopub.status.busy": "2022-07-23T19:05:19.693Z",
          "iopub.execute_input": "2022-07-23T19:05:19.698Z",
          "iopub.status.idle": "2022-07-23T19:05:19.708Z",
          "shell.execute_reply": "2022-07-23T19:05:19.756Z"
        }
      }
    },
    {
      "cell_type": "code",
      "source": [
        "day = dt.timedelta(1)\n",
        "print(forecasts.variance[split_date - 5 * day:split_date + 5 * day])"
      ],
      "outputs": [
        {
          "output_type": "stream",
          "name": "stdout",
          "text": [
            "                 h.1       h.2       h.3       h.4       h.5\n",
            "Date                                                        \n",
            "2020-12-28       NaN       NaN       NaN       NaN       NaN\n",
            "2020-12-29       NaN       NaN       NaN       NaN       NaN\n",
            "2020-12-30       NaN       NaN       NaN       NaN       NaN\n",
            "2020-12-31       NaN       NaN       NaN       NaN       NaN\n",
            "2021-01-04  1.045478  1.097671  1.143591  1.174938  1.210939\n",
            "2021-01-05  0.873003  0.890871  0.950585  0.983595  1.031568\n",
            "2021-01-06  0.711217  0.741003  0.802838  0.846551  0.872572\n"
          ]
        }
      ],
      "execution_count": 11,
      "metadata": {
        "collapsed": true,
        "jupyter": {
          "source_hidden": false,
          "outputs_hidden": false
        },
        "nteract": {
          "transient": {
            "deleting": false
          }
        },
        "execution": {
          "iopub.status.busy": "2022-07-23T19:05:19.714Z",
          "iopub.execute_input": "2022-07-23T19:05:19.720Z",
          "iopub.status.idle": "2022-07-23T19:05:19.729Z",
          "shell.execute_reply": "2022-07-23T19:05:19.760Z"
        }
      }
    },
    {
      "cell_type": "code",
      "source": [
        "forecasts.variance.shape"
      ],
      "outputs": [
        {
          "output_type": "execute_result",
          "execution_count": 21,
          "data": {
            "text/plain": "(894, 5)"
          },
          "metadata": {}
        }
      ],
      "execution_count": 21,
      "metadata": {
        "collapsed": true,
        "jupyter": {
          "source_hidden": false,
          "outputs_hidden": false
        },
        "nteract": {
          "transient": {
            "deleting": false
          }
        },
        "execution": {
          "iopub.status.busy": "2022-07-23T19:07:13.916Z",
          "iopub.execute_input": "2022-07-23T19:07:13.921Z",
          "iopub.status.idle": "2022-07-23T19:07:13.932Z",
          "shell.execute_reply": "2022-07-23T19:07:13.943Z"
        }
      }
    },
    {
      "cell_type": "code",
      "source": [
        "returns.shape"
      ],
      "outputs": [
        {
          "output_type": "execute_result",
          "execution_count": 22,
          "data": {
            "text/plain": "(894,)"
          },
          "metadata": {}
        }
      ],
      "execution_count": 22,
      "metadata": {
        "collapsed": true,
        "jupyter": {
          "source_hidden": false,
          "outputs_hidden": false
        },
        "nteract": {
          "transient": {
            "deleting": false
          }
        },
        "execution": {
          "iopub.status.busy": "2022-07-23T19:07:23.782Z",
          "iopub.execute_input": "2022-07-23T19:07:23.787Z",
          "iopub.status.idle": "2022-07-23T19:07:23.798Z",
          "shell.execute_reply": "2022-07-23T19:07:23.808Z"
        }
      }
    },
    {
      "cell_type": "code",
      "source": [
        "df.append(forecasts.variance)"
      ],
      "outputs": [
        {
          "output_type": "execute_result",
          "execution_count": 23,
          "data": {
            "text/plain": "                   Open         High          Low        Close    Adj Close  \\\nDate                                                                          \n2019-01-02  2476.959961  2519.489990  2467.469971  2510.030029  2510.030029   \n2019-01-03  2491.919922  2493.139893  2443.959961  2447.889893  2447.889893   \n2019-01-04  2474.330078  2538.070068  2474.330078  2531.939941  2531.939941   \n2019-01-07  2535.610107  2566.159912  2524.560059  2549.689941  2549.689941   \n2019-01-08  2568.110107  2579.820068  2547.560059  2574.409912  2574.409912   \n...                 ...          ...          ...          ...          ...   \n2022-07-15          NaN          NaN          NaN          NaN          NaN   \n2022-07-18          NaN          NaN          NaN          NaN          NaN   \n2022-07-19          NaN          NaN          NaN          NaN          NaN   \n2022-07-20          NaN          NaN          NaN          NaN          NaN   \n2022-07-21          NaN          NaN          NaN          NaN          NaN   \n\n                  Volume   Returns       h.1       h.2       h.3       h.4  \\\nDate                                                                         \n2019-01-02  3.733160e+09       NaN       NaN       NaN       NaN       NaN   \n2019-01-03  3.822860e+09 -2.475673       NaN       NaN       NaN       NaN   \n2019-01-04  4.213410e+09  3.433571       NaN       NaN       NaN       NaN   \n2019-01-07  4.104710e+09  0.701043       NaN       NaN       NaN       NaN   \n2019-01-08  4.083030e+09  0.969529       NaN       NaN       NaN       NaN   \n...                  ...       ...       ...       ...       ...       ...   \n2022-07-15           NaN       NaN  1.550710  1.608117  1.657004  1.729110   \n2022-07-18           NaN       NaN  1.418105  1.475331  1.547598  1.623223   \n2022-07-19           NaN       NaN  3.068927  3.087217  3.089503  3.107188   \n2022-07-20           NaN       NaN  2.263094  2.290367  2.306347  2.343617   \n2022-07-21           NaN       NaN  1.846450  1.900266  1.980048  2.058787   \n\n                 h.5  \nDate                  \n2019-01-02       NaN  \n2019-01-03       NaN  \n2019-01-04       NaN  \n2019-01-07       NaN  \n2019-01-08       NaN  \n...              ...  \n2022-07-15  1.758168  \n2022-07-18  1.624218  \n2022-07-19  3.100530  \n2022-07-20  2.412932  \n2022-07-21  2.075608  \n\n[1789 rows x 12 columns]",
            "text/html": "<div>\n<style scoped>\n    .dataframe tbody tr th:only-of-type {\n        vertical-align: middle;\n    }\n\n    .dataframe tbody tr th {\n        vertical-align: top;\n    }\n\n    .dataframe thead th {\n        text-align: right;\n    }\n</style>\n<table border=\"1\" class=\"dataframe\">\n  <thead>\n    <tr style=\"text-align: right;\">\n      <th></th>\n      <th>Open</th>\n      <th>High</th>\n      <th>Low</th>\n      <th>Close</th>\n      <th>Adj Close</th>\n      <th>Volume</th>\n      <th>Returns</th>\n      <th>h.1</th>\n      <th>h.2</th>\n      <th>h.3</th>\n      <th>h.4</th>\n      <th>h.5</th>\n    </tr>\n    <tr>\n      <th>Date</th>\n      <th></th>\n      <th></th>\n      <th></th>\n      <th></th>\n      <th></th>\n      <th></th>\n      <th></th>\n      <th></th>\n      <th></th>\n      <th></th>\n      <th></th>\n      <th></th>\n    </tr>\n  </thead>\n  <tbody>\n    <tr>\n      <th>2019-01-02</th>\n      <td>2476.959961</td>\n      <td>2519.489990</td>\n      <td>2467.469971</td>\n      <td>2510.030029</td>\n      <td>2510.030029</td>\n      <td>3.733160e+09</td>\n      <td>NaN</td>\n      <td>NaN</td>\n      <td>NaN</td>\n      <td>NaN</td>\n      <td>NaN</td>\n      <td>NaN</td>\n    </tr>\n    <tr>\n      <th>2019-01-03</th>\n      <td>2491.919922</td>\n      <td>2493.139893</td>\n      <td>2443.959961</td>\n      <td>2447.889893</td>\n      <td>2447.889893</td>\n      <td>3.822860e+09</td>\n      <td>-2.475673</td>\n      <td>NaN</td>\n      <td>NaN</td>\n      <td>NaN</td>\n      <td>NaN</td>\n      <td>NaN</td>\n    </tr>\n    <tr>\n      <th>2019-01-04</th>\n      <td>2474.330078</td>\n      <td>2538.070068</td>\n      <td>2474.330078</td>\n      <td>2531.939941</td>\n      <td>2531.939941</td>\n      <td>4.213410e+09</td>\n      <td>3.433571</td>\n      <td>NaN</td>\n      <td>NaN</td>\n      <td>NaN</td>\n      <td>NaN</td>\n      <td>NaN</td>\n    </tr>\n    <tr>\n      <th>2019-01-07</th>\n      <td>2535.610107</td>\n      <td>2566.159912</td>\n      <td>2524.560059</td>\n      <td>2549.689941</td>\n      <td>2549.689941</td>\n      <td>4.104710e+09</td>\n      <td>0.701043</td>\n      <td>NaN</td>\n      <td>NaN</td>\n      <td>NaN</td>\n      <td>NaN</td>\n      <td>NaN</td>\n    </tr>\n    <tr>\n      <th>2019-01-08</th>\n      <td>2568.110107</td>\n      <td>2579.820068</td>\n      <td>2547.560059</td>\n      <td>2574.409912</td>\n      <td>2574.409912</td>\n      <td>4.083030e+09</td>\n      <td>0.969529</td>\n      <td>NaN</td>\n      <td>NaN</td>\n      <td>NaN</td>\n      <td>NaN</td>\n      <td>NaN</td>\n    </tr>\n    <tr>\n      <th>...</th>\n      <td>...</td>\n      <td>...</td>\n      <td>...</td>\n      <td>...</td>\n      <td>...</td>\n      <td>...</td>\n      <td>...</td>\n      <td>...</td>\n      <td>...</td>\n      <td>...</td>\n      <td>...</td>\n      <td>...</td>\n    </tr>\n    <tr>\n      <th>2022-07-15</th>\n      <td>NaN</td>\n      <td>NaN</td>\n      <td>NaN</td>\n      <td>NaN</td>\n      <td>NaN</td>\n      <td>NaN</td>\n      <td>NaN</td>\n      <td>1.550710</td>\n      <td>1.608117</td>\n      <td>1.657004</td>\n      <td>1.729110</td>\n      <td>1.758168</td>\n    </tr>\n    <tr>\n      <th>2022-07-18</th>\n      <td>NaN</td>\n      <td>NaN</td>\n      <td>NaN</td>\n      <td>NaN</td>\n      <td>NaN</td>\n      <td>NaN</td>\n      <td>NaN</td>\n      <td>1.418105</td>\n      <td>1.475331</td>\n      <td>1.547598</td>\n      <td>1.623223</td>\n      <td>1.624218</td>\n    </tr>\n    <tr>\n      <th>2022-07-19</th>\n      <td>NaN</td>\n      <td>NaN</td>\n      <td>NaN</td>\n      <td>NaN</td>\n      <td>NaN</td>\n      <td>NaN</td>\n      <td>NaN</td>\n      <td>3.068927</td>\n      <td>3.087217</td>\n      <td>3.089503</td>\n      <td>3.107188</td>\n      <td>3.100530</td>\n    </tr>\n    <tr>\n      <th>2022-07-20</th>\n      <td>NaN</td>\n      <td>NaN</td>\n      <td>NaN</td>\n      <td>NaN</td>\n      <td>NaN</td>\n      <td>NaN</td>\n      <td>NaN</td>\n      <td>2.263094</td>\n      <td>2.290367</td>\n      <td>2.306347</td>\n      <td>2.343617</td>\n      <td>2.412932</td>\n    </tr>\n    <tr>\n      <th>2022-07-21</th>\n      <td>NaN</td>\n      <td>NaN</td>\n      <td>NaN</td>\n      <td>NaN</td>\n      <td>NaN</td>\n      <td>NaN</td>\n      <td>NaN</td>\n      <td>1.846450</td>\n      <td>1.900266</td>\n      <td>1.980048</td>\n      <td>2.058787</td>\n      <td>2.075608</td>\n    </tr>\n  </tbody>\n</table>\n<p>1789 rows × 12 columns</p>\n</div>"
          },
          "metadata": {}
        }
      ],
      "execution_count": 23,
      "metadata": {
        "collapsed": true,
        "jupyter": {
          "source_hidden": false,
          "outputs_hidden": false
        },
        "nteract": {
          "transient": {
            "deleting": false
          }
        },
        "execution": {
          "iopub.status.busy": "2022-07-23T19:07:58.805Z",
          "iopub.execute_input": "2022-07-23T19:07:58.809Z",
          "shell.execute_reply": "2022-07-23T19:07:58.844Z",
          "iopub.status.idle": "2022-07-23T19:07:58.821Z"
        }
      }
    },
    {
      "cell_type": "code",
      "source": [
        "ddf2.append(forecasts.variance)"
      ],
      "outputs": [],
      "execution_count": null,
      "metadata": {
        "collapsed": true,
        "jupyter": {
          "source_hidden": false,
          "outputs_hidden": false
        },
        "nteract": {
          "transient": {
            "deleting": false
          }
        },
        "execution": {
          "iopub.status.busy": "2022-07-23T18:59:23.652Z",
          "iopub.execute_input": "2022-07-23T18:59:23.659Z",
          "iopub.status.idle": "2022-07-23T18:59:23.692Z",
          "shell.execute_reply": "2022-07-23T18:59:23.697Z"
        }
      }
    },
    {
      "cell_type": "code",
      "source": [
        "df2"
      ],
      "outputs": [],
      "execution_count": null,
      "metadata": {
        "collapsed": true,
        "jupyter": {
          "source_hidden": false,
          "outputs_hidden": false
        },
        "nteract": {
          "transient": {
            "deleting": false
          }
        },
        "execution": {
          "iopub.status.busy": "2022-07-23T18:58:00.536Z",
          "iopub.execute_input": "2022-07-23T18:58:00.541Z",
          "iopub.status.idle": "2022-07-23T18:58:00.552Z",
          "shell.execute_reply": "2022-07-23T18:58:00.623Z"
        }
      }
    },
    {
      "cell_type": "code",
      "source": [
        "plt.figure(figsize=(16,8))\n",
        "plt.plot(forecasts.variance)\n",
        "plt.plot(abs(returns))\n"
      ],
      "outputs": [],
      "execution_count": null,
      "metadata": {
        "collapsed": true,
        "jupyter": {
          "source_hidden": false,
          "outputs_hidden": false
        },
        "nteract": {
          "transient": {
            "deleting": false
          }
        },
        "execution": {
          "iopub.status.busy": "2022-07-23T18:58:00.559Z",
          "iopub.execute_input": "2022-07-23T18:58:00.565Z",
          "iopub.status.idle": "2022-07-23T18:58:00.699Z",
          "shell.execute_reply": "2022-07-23T18:58:00.707Z"
        }
      }
    }
  ],
  "metadata": {
    "kernel_info": {
      "name": "python3"
    },
    "language_info": {
      "name": "python",
      "version": "3.6.13",
      "mimetype": "text/x-python",
      "codemirror_mode": {
        "name": "ipython",
        "version": 3
      },
      "pygments_lexer": "ipython3",
      "nbconvert_exporter": "python",
      "file_extension": ".py"
    },
    "kernelspec": {
      "argv": [
        "C:/Users/Tin Hang/Anaconda3\\python.exe",
        "-m",
        "ipykernel_launcher",
        "-f",
        "{connection_file}"
      ],
      "display_name": "Python 3",
      "language": "python",
      "name": "python3"
    },
    "nteract": {
      "version": "0.28.0"
    }
  },
  "nbformat": 4,
  "nbformat_minor": 0
}