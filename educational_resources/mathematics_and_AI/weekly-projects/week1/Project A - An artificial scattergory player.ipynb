{
 "cells": [
  {
   "cell_type": "code",
   "execution_count": 1,
   "id": "af4b3ad8",
   "metadata": {},
   "outputs": [],
   "source": [
    "# Homework 1 (due 6/28/2024)"
   ]
  },
  {
   "cell_type": "code",
   "execution_count": null,
   "id": "4cc2f020",
   "metadata": {},
   "outputs": [
    {
     "name": "stdout",
     "output_type": "stream",
     "text": [
      "Welcome to Scattergories!\n",
      "Here are the available categories:\n",
      "1. Fruits\n",
      "2. Vegetables\n",
      "3. Animals\n",
      "4. Countries\n",
      "5. Cities\n",
      "6. Famous People\n",
      "7. Colors\n",
      "8. Sports\n",
      "9. Clothing\n",
      "10. Food\n",
      "11. Drinks\n",
      "12. Tools\n",
      "13. Flowers\n",
      "14. Movies\n",
      "15. Books\n",
      "16. Songs\n",
      "17. TV Shows\n",
      "18. Brands\n",
      "19. Transport\n",
      "20. Jobs\n"
     ]
    }
   ],
   "source": [
    "import random\n",
    "\n",
    "categories = [\n",
    "    \"Fruits\",\n",
    "    \"Vegetables\",\n",
    "    \"Animals\",\n",
    "    \"Countries\",\n",
    "    \"Cities\",\n",
    "    \"Famous People\",\n",
    "    \"Colors\",\n",
    "    \"Sports\",\n",
    "    \"Clothing\",\n",
    "    \"Food\",\n",
    "    \"Drinks\",\n",
    "    \"Tools\",\n",
    "    \"Flowers\",\n",
    "    \"Movies\",\n",
    "    \"Books\",\n",
    "    \"Songs\",\n",
    "    \"TV Shows\",\n",
    "    \"Brands\",\n",
    "    \"Transport\",\n",
    "    \"Jobs\"\n",
    "]\n",
    "\n",
    "def get_categories():\n",
    "    print(\"Here are the available categories:\")\n",
    "    for i, category in enumerate(categories, 1):\n",
    "        print(f\"{i}. {category}\")\n",
    "    \n",
    "    selected_categories = []\n",
    "    while len(selected_categories) < 5:\n",
    "        try:\n",
    "            choice = int(input(f\"Select category {len(selected_categories) + 1} (1-20): \"))\n",
    "            if 1 <= choice <= 20 and categories[choice - 1] not in selected_categories:\n",
    "                selected_categories.append(categories[choice - 1])\n",
    "            else:\n",
    "                print(\"Invalid choice or category already selected.\")\n",
    "        except ValueError:\n",
    "            print(\"Please enter a number between 1 and 20.\")\n",
    "    \n",
    "    return selected_categories\n",
    "\n",
    "def generate_answers(selected_categories, letter):\n",
    "    generated_answers = \"\"\n",
    "    \"\"\"ADD SOME CODE HERE\"\"\"\n",
    "\n",
    "    return generated_answers\n",
    "\n",
    "def scattergories():\n",
    "    print(\"Welcome to Scattergories!\")\n",
    "    selected_categories = get_categories()\n",
    "    letter = input(\"Enter a letter (A-Z): \").strip().upper()\n",
    "    \n",
    "    if letter.isalpha() and len(letter) == 1:\n",
    "        generated_answers = generate_answers(selected_categories, letter)\n",
    "        print(\"\\nGenerated Answers:\")\n",
    "        print(generated_answers)\n",
    "    else:\n",
    "        print(\"Invalid letter. Please enter a single letter from A to Z.\")\n",
    "\n",
    "if __name__ == \"__main__\":\n",
    "    scattergories()\n"
   ]
  },
  {
   "cell_type": "code",
   "execution_count": null,
   "id": "95dd7ab3",
   "metadata": {},
   "outputs": [],
   "source": []
  }
 ],
 "metadata": {
  "kernelspec": {
   "display_name": "Python 3 (ipykernel)",
   "language": "python",
   "name": "python3"
  },
  "language_info": {
   "codemirror_mode": {
    "name": "ipython",
    "version": 3
   },
   "file_extension": ".py",
   "mimetype": "text/x-python",
   "name": "python",
   "nbconvert_exporter": "python",
   "pygments_lexer": "ipython3",
   "version": "3.8.5"
  }
 },
 "nbformat": 4,
 "nbformat_minor": 5
}
