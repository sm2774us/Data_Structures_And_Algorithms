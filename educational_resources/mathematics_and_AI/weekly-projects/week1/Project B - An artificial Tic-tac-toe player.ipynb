{
 "cells": [
  {
   "cell_type": "code",
   "execution_count": 1,
   "id": "af4b3ad8",
   "metadata": {},
   "outputs": [],
   "source": [
    "# Homework 1 (due 6/28/2024)"
   ]
  },
  {
   "cell_type": "code",
   "execution_count": null,
   "id": "277fea05",
   "metadata": {},
   "outputs": [
    {
     "name": "stdout",
     "output_type": "stream",
     "text": [
      "Welcome to Tic Tac Toe!\n"
     ]
    }
   ],
   "source": [
    "import random\n",
    "\n",
    "def print_board(board):\n",
    "    for row in board:\n",
    "        print(\" | \".join(row))\n",
    "        print(\"-\" * 10)\n",
    "        print(' ')\n",
    "\n",
    "def check_winner(board, mark):\n",
    "    win_conditions = [\n",
    "        [board[0][0], board[0][1], board[0][2]],\n",
    "        [board[1][0], board[1][1], board[1][2]],\n",
    "        [board[2][0], board[2][1], board[2][2]],\n",
    "        [board[0][0], board[1][0], board[2][0]],\n",
    "        [board[0][1], board[1][1], board[2][1]],\n",
    "        [board[0][2], board[1][2], board[2][2]],\n",
    "        [board[0][0], board[1][1], board[2][2]],\n",
    "        [board[2][0], board[1][1], board[0][2]],\n",
    "    ]\n",
    "    return [mark, mark, mark] in win_conditions\n",
    "\n",
    "def get_empty_positions(board):\n",
    "    positions = []\n",
    "    for i in range(3):\n",
    "        for j in range(3):\n",
    "            if board[i][j] == \" \":\n",
    "                positions.append((i, j))\n",
    "    return positions\n",
    "\n",
    "def user_move(board):\n",
    "    while True:\n",
    "        try:\n",
    "            row = int(input(\"Enter the row (1-3): \")) - 1\n",
    "            col = int(input(\"Enter the column (1-3): \")) - 1\n",
    "            if board[row][col] == \" \":\n",
    "                board[row][col] = \"X\"\n",
    "                break\n",
    "            else:\n",
    "                print(\"This position is already taken.\")\n",
    "        except (ValueError, IndexError):\n",
    "            print(\"Invalid input. Please enter numbers between 1 and 3.\")\n",
    "\n",
    "def computer_move(board):\n",
    "    empty_positions = get_empty_positions(board)\n",
    "    move = random.choice(empty_positions)\n",
    "    board[move[0]][move[1]] = \"O\"\n",
    "\n",
    "def tic_tac_toe():\n",
    "    board = [[\" \" for _ in range(3)] for _ in range(3)]\n",
    "    print(\"Welcome to Tic Tac Toe!\")\n",
    "    user_first = input(\"Do you want to go first? (y/n): \").lower() == 'y'\n",
    "    \n",
    "    for _ in range(9):\n",
    "        print_board(board)\n",
    "        if user_first:\n",
    "            user_move(board)\n",
    "            if check_winner(board, \"X\"):\n",
    "                print_board(board)\n",
    "                print(\"Congratulations! You win!\")\n",
    "                return\n",
    "            user_first = False\n",
    "        else:\n",
    "            computer_move(board)\n",
    "            if check_winner(board, \"O\"):\n",
    "                print_board(board)\n",
    "                print(\"Computer wins! Better luck next time.\")\n",
    "                return\n",
    "            user_first = True\n",
    "        \n",
    "        if not get_empty_positions(board):\n",
    "            print_board(board)\n",
    "            print(\"It's a draw!\")\n",
    "            return\n",
    "\n",
    "if __name__ == \"__main__\":\n",
    "    tic_tac_toe()"
   ]
  },
  {
   "cell_type": "code",
   "execution_count": null,
   "id": "bfcebda4",
   "metadata": {},
   "outputs": [],
   "source": []
  },
  {
   "cell_type": "code",
   "execution_count": null,
   "id": "b7edb91c",
   "metadata": {},
   "outputs": [],
   "source": []
  }
 ],
 "metadata": {
  "kernelspec": {
   "display_name": "Python 3 (ipykernel)",
   "language": "python",
   "name": "python3"
  },
  "language_info": {
   "codemirror_mode": {
    "name": "ipython",
    "version": 3
   },
   "file_extension": ".py",
   "mimetype": "text/x-python",
   "name": "python",
   "nbconvert_exporter": "python",
   "pygments_lexer": "ipython3",
   "version": "3.8.5"
  }
 },
 "nbformat": 4,
 "nbformat_minor": 5
}
